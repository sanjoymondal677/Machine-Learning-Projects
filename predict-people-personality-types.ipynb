{
 "cells": [
  {
   "cell_type": "code",
   "execution_count": 1,
   "id": "0fdb519a",
   "metadata": {
    "execution": {
     "iopub.execute_input": "2024-09-24T04:43:35.917572Z",
     "iopub.status.busy": "2024-09-24T04:43:35.917107Z",
     "iopub.status.idle": "2024-09-24T04:43:38.558449Z",
     "shell.execute_reply": "2024-09-24T04:43:38.557375Z"
    },
    "papermill": {
     "duration": 2.663524,
     "end_time": "2024-09-24T04:43:38.561299",
     "exception": false,
     "start_time": "2024-09-24T04:43:35.897775",
     "status": "completed"
    },
    "tags": []
   },
   "outputs": [],
   "source": [
    "import numpy as np\n",
    "import pandas as pd\n",
    "import matplotlib.pyplot as plt\n",
    "import seaborn as sns"
   ]
  },
  {
   "cell_type": "code",
   "execution_count": 2,
   "id": "e44ffbf8",
   "metadata": {
    "execution": {
     "iopub.execute_input": "2024-09-24T04:43:38.592946Z",
     "iopub.status.busy": "2024-09-24T04:43:38.592342Z",
     "iopub.status.idle": "2024-09-24T04:43:38.905493Z",
     "shell.execute_reply": "2024-09-24T04:43:38.904512Z"
    },
    "papermill": {
     "duration": 0.332105,
     "end_time": "2024-09-24T04:43:38.908209",
     "exception": false,
     "start_time": "2024-09-24T04:43:38.576104",
     "status": "completed"
    },
    "tags": []
   },
   "outputs": [],
   "source": [
    "data = pd.read_csv(\"/kaggle/input/predict-people-personality-types/data.csv\")"
   ]
  },
  {
   "cell_type": "code",
   "execution_count": 3,
   "id": "efdbfad3",
   "metadata": {
    "execution": {
     "iopub.execute_input": "2024-09-24T04:43:38.940239Z",
     "iopub.status.busy": "2024-09-24T04:43:38.939809Z",
     "iopub.status.idle": "2024-09-24T04:43:38.971868Z",
     "shell.execute_reply": "2024-09-24T04:43:38.970526Z"
    },
    "papermill": {
     "duration": 0.052096,
     "end_time": "2024-09-24T04:43:38.974836",
     "exception": false,
     "start_time": "2024-09-24T04:43:38.922740",
     "status": "completed"
    },
    "tags": []
   },
   "outputs": [
    {
     "data": {
      "text/html": [
       "<div>\n",
       "<style scoped>\n",
       "    .dataframe tbody tr th:only-of-type {\n",
       "        vertical-align: middle;\n",
       "    }\n",
       "\n",
       "    .dataframe tbody tr th {\n",
       "        vertical-align: top;\n",
       "    }\n",
       "\n",
       "    .dataframe thead th {\n",
       "        text-align: right;\n",
       "    }\n",
       "</style>\n",
       "<table border=\"1\" class=\"dataframe\">\n",
       "  <thead>\n",
       "    <tr style=\"text-align: right;\">\n",
       "      <th></th>\n",
       "      <th>Age</th>\n",
       "      <th>Gender</th>\n",
       "      <th>Education</th>\n",
       "      <th>Introversion Score</th>\n",
       "      <th>Sensing Score</th>\n",
       "      <th>Thinking Score</th>\n",
       "      <th>Judging Score</th>\n",
       "      <th>Interest</th>\n",
       "      <th>Personality</th>\n",
       "    </tr>\n",
       "  </thead>\n",
       "  <tbody>\n",
       "    <tr>\n",
       "      <th>0</th>\n",
       "      <td>19.0</td>\n",
       "      <td>Male</td>\n",
       "      <td>0</td>\n",
       "      <td>9.47080</td>\n",
       "      <td>7.141434</td>\n",
       "      <td>6.03696</td>\n",
       "      <td>4.360278</td>\n",
       "      <td>Unknown</td>\n",
       "      <td>ENFP</td>\n",
       "    </tr>\n",
       "    <tr>\n",
       "      <th>1</th>\n",
       "      <td>27.0</td>\n",
       "      <td>Female</td>\n",
       "      <td>0</td>\n",
       "      <td>5.85392</td>\n",
       "      <td>6.160195</td>\n",
       "      <td>0.80552</td>\n",
       "      <td>4.221421</td>\n",
       "      <td>Sports</td>\n",
       "      <td>ESFP</td>\n",
       "    </tr>\n",
       "    <tr>\n",
       "      <th>2</th>\n",
       "      <td>21.0</td>\n",
       "      <td>Female</td>\n",
       "      <td>0</td>\n",
       "      <td>7.08615</td>\n",
       "      <td>3.388433</td>\n",
       "      <td>2.66188</td>\n",
       "      <td>5.127320</td>\n",
       "      <td>Unknown</td>\n",
       "      <td>ENFP</td>\n",
       "    </tr>\n",
       "    <tr>\n",
       "      <th>3</th>\n",
       "      <td>28.0</td>\n",
       "      <td>Male</td>\n",
       "      <td>0</td>\n",
       "      <td>2.01892</td>\n",
       "      <td>4.823624</td>\n",
       "      <td>7.30625</td>\n",
       "      <td>5.986550</td>\n",
       "      <td>Others</td>\n",
       "      <td>INTP</td>\n",
       "    </tr>\n",
       "    <tr>\n",
       "      <th>4</th>\n",
       "      <td>36.0</td>\n",
       "      <td>Female</td>\n",
       "      <td>1</td>\n",
       "      <td>9.91703</td>\n",
       "      <td>4.755080</td>\n",
       "      <td>5.31469</td>\n",
       "      <td>4.677213</td>\n",
       "      <td>Technology</td>\n",
       "      <td>ENFP</td>\n",
       "    </tr>\n",
       "  </tbody>\n",
       "</table>\n",
       "</div>"
      ],
      "text/plain": [
       "    Age  Gender  Education  Introversion Score  Sensing Score  Thinking Score  \\\n",
       "0  19.0    Male          0             9.47080       7.141434         6.03696   \n",
       "1  27.0  Female          0             5.85392       6.160195         0.80552   \n",
       "2  21.0  Female          0             7.08615       3.388433         2.66188   \n",
       "3  28.0    Male          0             2.01892       4.823624         7.30625   \n",
       "4  36.0  Female          1             9.91703       4.755080         5.31469   \n",
       "\n",
       "   Judging Score    Interest Personality  \n",
       "0       4.360278     Unknown        ENFP  \n",
       "1       4.221421      Sports        ESFP  \n",
       "2       5.127320     Unknown        ENFP  \n",
       "3       5.986550      Others        INTP  \n",
       "4       4.677213  Technology        ENFP  "
      ]
     },
     "execution_count": 3,
     "metadata": {},
     "output_type": "execute_result"
    }
   ],
   "source": [
    "data.head()"
   ]
  },
  {
   "cell_type": "code",
   "execution_count": 4,
   "id": "89ef842d",
   "metadata": {
    "execution": {
     "iopub.execute_input": "2024-09-24T04:43:39.006528Z",
     "iopub.status.busy": "2024-09-24T04:43:39.006055Z",
     "iopub.status.idle": "2024-09-24T04:43:39.082821Z",
     "shell.execute_reply": "2024-09-24T04:43:39.081733Z"
    },
    "papermill": {
     "duration": 0.095882,
     "end_time": "2024-09-24T04:43:39.085584",
     "exception": false,
     "start_time": "2024-09-24T04:43:38.989702",
     "status": "completed"
    },
    "tags": []
   },
   "outputs": [
    {
     "data": {
      "text/plain": [
       "Age                       39\n",
       "Gender                     2\n",
       "Education                  2\n",
       "Introversion Score    120205\n",
       "Sensing Score         128054\n",
       "Thinking Score        120122\n",
       "Judging Score         127724\n",
       "Interest                   5\n",
       "Personality               16\n",
       "dtype: int64"
      ]
     },
     "execution_count": 4,
     "metadata": {},
     "output_type": "execute_result"
    }
   ],
   "source": [
    "data.nunique()"
   ]
  },
  {
   "cell_type": "code",
   "execution_count": 5,
   "id": "4164f4f7",
   "metadata": {
    "execution": {
     "iopub.execute_input": "2024-09-24T04:43:39.117389Z",
     "iopub.status.busy": "2024-09-24T04:43:39.116969Z",
     "iopub.status.idle": "2024-09-24T04:43:39.123868Z",
     "shell.execute_reply": "2024-09-24T04:43:39.122690Z"
    },
    "papermill": {
     "duration": 0.026056,
     "end_time": "2024-09-24T04:43:39.126737",
     "exception": false,
     "start_time": "2024-09-24T04:43:39.100681",
     "status": "completed"
    },
    "tags": []
   },
   "outputs": [
    {
     "data": {
      "text/plain": [
       "(128061, 9)"
      ]
     },
     "execution_count": 5,
     "metadata": {},
     "output_type": "execute_result"
    }
   ],
   "source": [
    "data.shape"
   ]
  },
  {
   "cell_type": "code",
   "execution_count": 6,
   "id": "2dcb63f6",
   "metadata": {
    "execution": {
     "iopub.execute_input": "2024-09-24T04:43:39.161477Z",
     "iopub.status.busy": "2024-09-24T04:43:39.161017Z",
     "iopub.status.idle": "2024-09-24T04:43:39.215013Z",
     "shell.execute_reply": "2024-09-24T04:43:39.213923Z"
    },
    "papermill": {
     "duration": 0.075283,
     "end_time": "2024-09-24T04:43:39.217607",
     "exception": false,
     "start_time": "2024-09-24T04:43:39.142324",
     "status": "completed"
    },
    "tags": []
   },
   "outputs": [
    {
     "data": {
      "text/plain": [
       "Age                   0\n",
       "Gender                0\n",
       "Education             0\n",
       "Introversion Score    0\n",
       "Sensing Score         0\n",
       "Thinking Score        0\n",
       "Judging Score         0\n",
       "Interest              0\n",
       "Personality           0\n",
       "dtype: int64"
      ]
     },
     "execution_count": 6,
     "metadata": {},
     "output_type": "execute_result"
    }
   ],
   "source": [
    "data.isnull().sum()"
   ]
  },
  {
   "cell_type": "code",
   "execution_count": 7,
   "id": "5959ea70",
   "metadata": {
    "execution": {
     "iopub.execute_input": "2024-09-24T04:43:39.250002Z",
     "iopub.status.busy": "2024-09-24T04:43:39.249581Z",
     "iopub.status.idle": "2024-09-24T04:43:39.290396Z",
     "shell.execute_reply": "2024-09-24T04:43:39.289377Z"
    },
    "papermill": {
     "duration": 0.06024,
     "end_time": "2024-09-24T04:43:39.293224",
     "exception": false,
     "start_time": "2024-09-24T04:43:39.232984",
     "status": "completed"
    },
    "tags": []
   },
   "outputs": [],
   "source": [
    "dummy_data = data.loc[data['Interest'] == 'Unknown']"
   ]
  },
  {
   "cell_type": "code",
   "execution_count": 8,
   "id": "0c90b741",
   "metadata": {
    "execution": {
     "iopub.execute_input": "2024-09-24T04:43:39.325669Z",
     "iopub.status.busy": "2024-09-24T04:43:39.325217Z",
     "iopub.status.idle": "2024-09-24T04:43:39.332340Z",
     "shell.execute_reply": "2024-09-24T04:43:39.331202Z"
    },
    "papermill": {
     "duration": 0.026298,
     "end_time": "2024-09-24T04:43:39.334880",
     "exception": false,
     "start_time": "2024-09-24T04:43:39.308582",
     "status": "completed"
    },
    "tags": []
   },
   "outputs": [
    {
     "data": {
      "text/plain": [
       "(48835, 9)"
      ]
     },
     "execution_count": 8,
     "metadata": {},
     "output_type": "execute_result"
    }
   ],
   "source": [
    "dummy_data.shape"
   ]
  },
  {
   "cell_type": "code",
   "execution_count": 9,
   "id": "869f279a",
   "metadata": {
    "execution": {
     "iopub.execute_input": "2024-09-24T04:43:39.370141Z",
     "iopub.status.busy": "2024-09-24T04:43:39.369287Z",
     "iopub.status.idle": "2024-09-24T04:43:39.404169Z",
     "shell.execute_reply": "2024-09-24T04:43:39.403134Z"
    },
    "papermill": {
     "duration": 0.054811,
     "end_time": "2024-09-24T04:43:39.406914",
     "exception": false,
     "start_time": "2024-09-24T04:43:39.352103",
     "status": "completed"
    },
    "tags": []
   },
   "outputs": [],
   "source": [
    "data.loc[data['Interest'] == 'Unknown', 'Interest'] = 'Others'"
   ]
  },
  {
   "cell_type": "code",
   "execution_count": 10,
   "id": "d9471106",
   "metadata": {
    "execution": {
     "iopub.execute_input": "2024-09-24T04:43:39.439932Z",
     "iopub.status.busy": "2024-09-24T04:43:39.439479Z",
     "iopub.status.idle": "2024-09-24T04:43:39.457035Z",
     "shell.execute_reply": "2024-09-24T04:43:39.455957Z"
    },
    "papermill": {
     "duration": 0.036957,
     "end_time": "2024-09-24T04:43:39.459525",
     "exception": false,
     "start_time": "2024-09-24T04:43:39.422568",
     "status": "completed"
    },
    "tags": []
   },
   "outputs": [
    {
     "data": {
      "text/html": [
       "<div>\n",
       "<style scoped>\n",
       "    .dataframe tbody tr th:only-of-type {\n",
       "        vertical-align: middle;\n",
       "    }\n",
       "\n",
       "    .dataframe tbody tr th {\n",
       "        vertical-align: top;\n",
       "    }\n",
       "\n",
       "    .dataframe thead th {\n",
       "        text-align: right;\n",
       "    }\n",
       "</style>\n",
       "<table border=\"1\" class=\"dataframe\">\n",
       "  <thead>\n",
       "    <tr style=\"text-align: right;\">\n",
       "      <th></th>\n",
       "      <th>Age</th>\n",
       "      <th>Gender</th>\n",
       "      <th>Education</th>\n",
       "      <th>Introversion Score</th>\n",
       "      <th>Sensing Score</th>\n",
       "      <th>Thinking Score</th>\n",
       "      <th>Judging Score</th>\n",
       "      <th>Interest</th>\n",
       "      <th>Personality</th>\n",
       "    </tr>\n",
       "  </thead>\n",
       "  <tbody>\n",
       "    <tr>\n",
       "      <th>0</th>\n",
       "      <td>19.0</td>\n",
       "      <td>Male</td>\n",
       "      <td>0</td>\n",
       "      <td>9.47080</td>\n",
       "      <td>7.141434</td>\n",
       "      <td>6.03696</td>\n",
       "      <td>4.360278</td>\n",
       "      <td>Others</td>\n",
       "      <td>ENFP</td>\n",
       "    </tr>\n",
       "    <tr>\n",
       "      <th>1</th>\n",
       "      <td>27.0</td>\n",
       "      <td>Female</td>\n",
       "      <td>0</td>\n",
       "      <td>5.85392</td>\n",
       "      <td>6.160195</td>\n",
       "      <td>0.80552</td>\n",
       "      <td>4.221421</td>\n",
       "      <td>Sports</td>\n",
       "      <td>ESFP</td>\n",
       "    </tr>\n",
       "    <tr>\n",
       "      <th>2</th>\n",
       "      <td>21.0</td>\n",
       "      <td>Female</td>\n",
       "      <td>0</td>\n",
       "      <td>7.08615</td>\n",
       "      <td>3.388433</td>\n",
       "      <td>2.66188</td>\n",
       "      <td>5.127320</td>\n",
       "      <td>Others</td>\n",
       "      <td>ENFP</td>\n",
       "    </tr>\n",
       "    <tr>\n",
       "      <th>3</th>\n",
       "      <td>28.0</td>\n",
       "      <td>Male</td>\n",
       "      <td>0</td>\n",
       "      <td>2.01892</td>\n",
       "      <td>4.823624</td>\n",
       "      <td>7.30625</td>\n",
       "      <td>5.986550</td>\n",
       "      <td>Others</td>\n",
       "      <td>INTP</td>\n",
       "    </tr>\n",
       "    <tr>\n",
       "      <th>4</th>\n",
       "      <td>36.0</td>\n",
       "      <td>Female</td>\n",
       "      <td>1</td>\n",
       "      <td>9.91703</td>\n",
       "      <td>4.755080</td>\n",
       "      <td>5.31469</td>\n",
       "      <td>4.677213</td>\n",
       "      <td>Technology</td>\n",
       "      <td>ENFP</td>\n",
       "    </tr>\n",
       "  </tbody>\n",
       "</table>\n",
       "</div>"
      ],
      "text/plain": [
       "    Age  Gender  Education  Introversion Score  Sensing Score  Thinking Score  \\\n",
       "0  19.0    Male          0             9.47080       7.141434         6.03696   \n",
       "1  27.0  Female          0             5.85392       6.160195         0.80552   \n",
       "2  21.0  Female          0             7.08615       3.388433         2.66188   \n",
       "3  28.0    Male          0             2.01892       4.823624         7.30625   \n",
       "4  36.0  Female          1             9.91703       4.755080         5.31469   \n",
       "\n",
       "   Judging Score    Interest Personality  \n",
       "0       4.360278      Others        ENFP  \n",
       "1       4.221421      Sports        ESFP  \n",
       "2       5.127320      Others        ENFP  \n",
       "3       5.986550      Others        INTP  \n",
       "4       4.677213  Technology        ENFP  "
      ]
     },
     "execution_count": 10,
     "metadata": {},
     "output_type": "execute_result"
    }
   ],
   "source": [
    "data.head()"
   ]
  },
  {
   "cell_type": "code",
   "execution_count": 11,
   "id": "f39081db",
   "metadata": {
    "execution": {
     "iopub.execute_input": "2024-09-24T04:43:39.493297Z",
     "iopub.status.busy": "2024-09-24T04:43:39.492873Z",
     "iopub.status.idle": "2024-09-24T04:43:39.499395Z",
     "shell.execute_reply": "2024-09-24T04:43:39.498413Z"
    },
    "papermill": {
     "duration": 0.026191,
     "end_time": "2024-09-24T04:43:39.501762",
     "exception": false,
     "start_time": "2024-09-24T04:43:39.475571",
     "status": "completed"
    },
    "tags": []
   },
   "outputs": [],
   "source": [
    "data['Age'] = data['Age'].astype(int)"
   ]
  },
  {
   "cell_type": "code",
   "execution_count": 12,
   "id": "b77ba3c0",
   "metadata": {
    "execution": {
     "iopub.execute_input": "2024-09-24T04:43:39.534917Z",
     "iopub.status.busy": "2024-09-24T04:43:39.534418Z",
     "iopub.status.idle": "2024-09-24T04:43:40.068808Z",
     "shell.execute_reply": "2024-09-24T04:43:40.067753Z"
    },
    "papermill": {
     "duration": 0.553976,
     "end_time": "2024-09-24T04:43:40.071510",
     "exception": false,
     "start_time": "2024-09-24T04:43:39.517534",
     "status": "completed"
    },
    "tags": []
   },
   "outputs": [
    {
     "data": {
      "image/png": "[encoded data removed]",
      "text/plain": [
       "<Figure size 800x600 with 1 Axes>"
      ]
     },
     "metadata": {},
     "output_type": "display_data"
    }
   ],
   "source": [
    "plt.figure(figsize=(8,6))\n",
    "sns.countplot(x='Personality',data=data)\n",
    "plt.show()"
   ]
  },
  {
   "cell_type": "code",
   "execution_count": 13,
   "id": "4cc5c884",
   "metadata": {
    "execution": {
     "iopub.execute_input": "2024-09-24T04:43:40.107018Z",
     "iopub.status.busy": "2024-09-24T04:43:40.106517Z",
     "iopub.status.idle": "2024-09-24T04:43:40.123201Z",
     "shell.execute_reply": "2024-09-24T04:43:40.122069Z"
    },
    "papermill": {
     "duration": 0.036987,
     "end_time": "2024-09-24T04:43:40.125575",
     "exception": false,
     "start_time": "2024-09-24T04:43:40.088588",
     "status": "completed"
    },
    "tags": []
   },
   "outputs": [
    {
     "data": {
      "text/html": [
       "<div>\n",
       "<style scoped>\n",
       "    .dataframe tbody tr th:only-of-type {\n",
       "        vertical-align: middle;\n",
       "    }\n",
       "\n",
       "    .dataframe tbody tr th {\n",
       "        vertical-align: top;\n",
       "    }\n",
       "\n",
       "    .dataframe thead th {\n",
       "        text-align: right;\n",
       "    }\n",
       "</style>\n",
       "<table border=\"1\" class=\"dataframe\">\n",
       "  <thead>\n",
       "    <tr style=\"text-align: right;\">\n",
       "      <th></th>\n",
       "      <th>Age</th>\n",
       "      <th>Gender</th>\n",
       "      <th>Education</th>\n",
       "      <th>Introversion Score</th>\n",
       "      <th>Sensing Score</th>\n",
       "      <th>Thinking Score</th>\n",
       "      <th>Judging Score</th>\n",
       "      <th>Interest</th>\n",
       "      <th>Personality</th>\n",
       "    </tr>\n",
       "  </thead>\n",
       "  <tbody>\n",
       "    <tr>\n",
       "      <th>0</th>\n",
       "      <td>19</td>\n",
       "      <td>Male</td>\n",
       "      <td>0</td>\n",
       "      <td>9.47080</td>\n",
       "      <td>7.141434</td>\n",
       "      <td>6.03696</td>\n",
       "      <td>4.360278</td>\n",
       "      <td>Others</td>\n",
       "      <td>ENFP</td>\n",
       "    </tr>\n",
       "    <tr>\n",
       "      <th>1</th>\n",
       "      <td>27</td>\n",
       "      <td>Female</td>\n",
       "      <td>0</td>\n",
       "      <td>5.85392</td>\n",
       "      <td>6.160195</td>\n",
       "      <td>0.80552</td>\n",
       "      <td>4.221421</td>\n",
       "      <td>Sports</td>\n",
       "      <td>ESFP</td>\n",
       "    </tr>\n",
       "    <tr>\n",
       "      <th>2</th>\n",
       "      <td>21</td>\n",
       "      <td>Female</td>\n",
       "      <td>0</td>\n",
       "      <td>7.08615</td>\n",
       "      <td>3.388433</td>\n",
       "      <td>2.66188</td>\n",
       "      <td>5.127320</td>\n",
       "      <td>Others</td>\n",
       "      <td>ENFP</td>\n",
       "    </tr>\n",
       "    <tr>\n",
       "      <th>3</th>\n",
       "      <td>28</td>\n",
       "      <td>Male</td>\n",
       "      <td>0</td>\n",
       "      <td>2.01892</td>\n",
       "      <td>4.823624</td>\n",
       "      <td>7.30625</td>\n",
       "      <td>5.986550</td>\n",
       "      <td>Others</td>\n",
       "      <td>INTP</td>\n",
       "    </tr>\n",
       "    <tr>\n",
       "      <th>4</th>\n",
       "      <td>36</td>\n",
       "      <td>Female</td>\n",
       "      <td>1</td>\n",
       "      <td>9.91703</td>\n",
       "      <td>4.755080</td>\n",
       "      <td>5.31469</td>\n",
       "      <td>4.677213</td>\n",
       "      <td>Technology</td>\n",
       "      <td>ENFP</td>\n",
       "    </tr>\n",
       "  </tbody>\n",
       "</table>\n",
       "</div>"
      ],
      "text/plain": [
       "   Age  Gender  Education  Introversion Score  Sensing Score  Thinking Score  \\\n",
       "0   19    Male          0             9.47080       7.141434         6.03696   \n",
       "1   27  Female          0             5.85392       6.160195         0.80552   \n",
       "2   21  Female          0             7.08615       3.388433         2.66188   \n",
       "3   28    Male          0             2.01892       4.823624         7.30625   \n",
       "4   36  Female          1             9.91703       4.755080         5.31469   \n",
       "\n",
       "   Judging Score    Interest Personality  \n",
       "0       4.360278      Others        ENFP  \n",
       "1       4.221421      Sports        ESFP  \n",
       "2       5.127320      Others        ENFP  \n",
       "3       5.986550      Others        INTP  \n",
       "4       4.677213  Technology        ENFP  "
      ]
     },
     "execution_count": 13,
     "metadata": {},
     "output_type": "execute_result"
    }
   ],
   "source": [
    "data.head()"
   ]
  },
  {
   "cell_type": "code",
   "execution_count": 14,
   "id": "7bd665d1",
   "metadata": {
    "execution": {
     "iopub.execute_input": "2024-09-24T04:43:40.160436Z",
     "iopub.status.busy": "2024-09-24T04:43:40.160006Z",
     "iopub.status.idle": "2024-09-24T04:43:42.915765Z",
     "shell.execute_reply": "2024-09-24T04:43:42.914589Z"
    },
    "papermill": {
     "duration": 2.77633,
     "end_time": "2024-09-24T04:43:42.918505",
     "exception": false,
     "start_time": "2024-09-24T04:43:40.142175",
     "status": "completed"
    },
    "tags": []
   },
   "outputs": [
    {
     "data": {
      "image/png": "[encoded data removed]",
      "text/plain": [
       "<Figure size 1000x700 with 1 Axes>"
      ]
     },
     "metadata": {},
     "output_type": "display_data"
    }
   ],
   "source": [
    "plt.figure(figsize=(10,7))\n",
    "sns.barplot(x='Personality',y='Age',data=data,color='#F05A7E',hue='Gender')\n",
    "plt.xlabel('Personality', fontsize=14, fontweight='bold')\n",
    "plt.ylabel('Age', fontsize=14, fontweight='bold') \n",
    "plt.show()"
   ]
  },
  {
   "cell_type": "code",
   "execution_count": 15,
   "id": "1a5efaa8",
   "metadata": {
    "execution": {
     "iopub.execute_input": "2024-09-24T04:43:42.954392Z",
     "iopub.status.busy": "2024-09-24T04:43:42.953959Z",
     "iopub.status.idle": "2024-09-24T04:43:43.266736Z",
     "shell.execute_reply": "2024-09-24T04:43:43.265535Z"
    },
    "papermill": {
     "duration": 0.333987,
     "end_time": "2024-09-24T04:43:43.269566",
     "exception": false,
     "start_time": "2024-09-24T04:43:42.935579",
     "status": "completed"
    },
    "tags": []
   },
   "outputs": [],
   "source": [
    "from sklearn.preprocessing import LabelEncoder\n",
    "import pandas as pd\n",
    "\n",
    "def convert_categorical_to_continuous(data, column_names):\n",
    "    copy_data = data.copy()  # Create a copy to avoid modifying the original DataFrame\n",
    "    le = LabelEncoder()\n",
    "    for column_name in column_names:\n",
    "        copy_data[column_name] = le.fit_transform(copy_data[column_name])\n",
    "    return copy_data\n",
    "data = convert_categorical_to_continuous(data, ['Gender', 'Interest', 'Personality'])"
   ]
  },
  {
   "cell_type": "code",
   "execution_count": 16,
   "id": "747f0e76",
   "metadata": {
    "execution": {
     "iopub.execute_input": "2024-09-24T04:43:43.305433Z",
     "iopub.status.busy": "2024-09-24T04:43:43.304979Z",
     "iopub.status.idle": "2024-09-24T04:43:43.320814Z",
     "shell.execute_reply": "2024-09-24T04:43:43.319530Z"
    },
    "papermill": {
     "duration": 0.036654,
     "end_time": "2024-09-24T04:43:43.323348",
     "exception": false,
     "start_time": "2024-09-24T04:43:43.286694",
     "status": "completed"
    },
    "tags": []
   },
   "outputs": [
    {
     "data": {
      "text/html": [
       "<div>\n",
       "<style scoped>\n",
       "    .dataframe tbody tr th:only-of-type {\n",
       "        vertical-align: middle;\n",
       "    }\n",
       "\n",
       "    .dataframe tbody tr th {\n",
       "        vertical-align: top;\n",
       "    }\n",
       "\n",
       "    .dataframe thead th {\n",
       "        text-align: right;\n",
       "    }\n",
       "</style>\n",
       "<table border=\"1\" class=\"dataframe\">\n",
       "  <thead>\n",
       "    <tr style=\"text-align: right;\">\n",
       "      <th></th>\n",
       "      <th>Age</th>\n",
       "      <th>Gender</th>\n",
       "      <th>Education</th>\n",
       "      <th>Introversion Score</th>\n",
       "      <th>Sensing Score</th>\n",
       "      <th>Thinking Score</th>\n",
       "      <th>Judging Score</th>\n",
       "      <th>Interest</th>\n",
       "      <th>Personality</th>\n",
       "    </tr>\n",
       "  </thead>\n",
       "  <tbody>\n",
       "    <tr>\n",
       "      <th>0</th>\n",
       "      <td>19</td>\n",
       "      <td>1</td>\n",
       "      <td>0</td>\n",
       "      <td>9.47080</td>\n",
       "      <td>7.141434</td>\n",
       "      <td>6.03696</td>\n",
       "      <td>4.360278</td>\n",
       "      <td>1</td>\n",
       "      <td>1</td>\n",
       "    </tr>\n",
       "    <tr>\n",
       "      <th>1</th>\n",
       "      <td>27</td>\n",
       "      <td>0</td>\n",
       "      <td>0</td>\n",
       "      <td>5.85392</td>\n",
       "      <td>6.160195</td>\n",
       "      <td>0.80552</td>\n",
       "      <td>4.221421</td>\n",
       "      <td>2</td>\n",
       "      <td>5</td>\n",
       "    </tr>\n",
       "    <tr>\n",
       "      <th>2</th>\n",
       "      <td>21</td>\n",
       "      <td>0</td>\n",
       "      <td>0</td>\n",
       "      <td>7.08615</td>\n",
       "      <td>3.388433</td>\n",
       "      <td>2.66188</td>\n",
       "      <td>5.127320</td>\n",
       "      <td>1</td>\n",
       "      <td>1</td>\n",
       "    </tr>\n",
       "    <tr>\n",
       "      <th>3</th>\n",
       "      <td>28</td>\n",
       "      <td>1</td>\n",
       "      <td>0</td>\n",
       "      <td>2.01892</td>\n",
       "      <td>4.823624</td>\n",
       "      <td>7.30625</td>\n",
       "      <td>5.986550</td>\n",
       "      <td>1</td>\n",
       "      <td>11</td>\n",
       "    </tr>\n",
       "    <tr>\n",
       "      <th>4</th>\n",
       "      <td>36</td>\n",
       "      <td>0</td>\n",
       "      <td>1</td>\n",
       "      <td>9.91703</td>\n",
       "      <td>4.755080</td>\n",
       "      <td>5.31469</td>\n",
       "      <td>4.677213</td>\n",
       "      <td>3</td>\n",
       "      <td>1</td>\n",
       "    </tr>\n",
       "  </tbody>\n",
       "</table>\n",
       "</div>"
      ],
      "text/plain": [
       "   Age  Gender  Education  Introversion Score  Sensing Score  Thinking Score  \\\n",
       "0   19       1          0             9.47080       7.141434         6.03696   \n",
       "1   27       0          0             5.85392       6.160195         0.80552   \n",
       "2   21       0          0             7.08615       3.388433         2.66188   \n",
       "3   28       1          0             2.01892       4.823624         7.30625   \n",
       "4   36       0          1             9.91703       4.755080         5.31469   \n",
       "\n",
       "   Judging Score  Interest  Personality  \n",
       "0       4.360278         1            1  \n",
       "1       4.221421         2            5  \n",
       "2       5.127320         1            1  \n",
       "3       5.986550         1           11  \n",
       "4       4.677213         3            1  "
      ]
     },
     "execution_count": 16,
     "metadata": {},
     "output_type": "execute_result"
    }
   ],
   "source": [
    "data.head()"
   ]
  },
  {
   "cell_type": "code",
   "execution_count": 17,
   "id": "6ee0e762",
   "metadata": {
    "execution": {
     "iopub.execute_input": "2024-09-24T04:43:43.359816Z",
     "iopub.status.busy": "2024-09-24T04:43:43.359352Z",
     "iopub.status.idle": "2024-09-24T04:43:43.369106Z",
     "shell.execute_reply": "2024-09-24T04:43:43.367877Z"
    },
    "papermill": {
     "duration": 0.031059,
     "end_time": "2024-09-24T04:43:43.371687",
     "exception": false,
     "start_time": "2024-09-24T04:43:43.340628",
     "status": "completed"
    },
    "tags": []
   },
   "outputs": [
    {
     "data": {
      "text/plain": [
       "Age                     int64\n",
       "Gender                  int64\n",
       "Education               int64\n",
       "Introversion Score    float64\n",
       "Sensing Score         float64\n",
       "Thinking Score        float64\n",
       "Judging Score         float64\n",
       "Interest                int64\n",
       "Personality             int64\n",
       "dtype: object"
      ]
     },
     "execution_count": 17,
     "metadata": {},
     "output_type": "execute_result"
    }
   ],
   "source": [
    "data.dtypes"
   ]
  },
  {
   "cell_type": "code",
   "execution_count": 18,
   "id": "1fcf1eb6",
   "metadata": {
    "execution": {
     "iopub.execute_input": "2024-09-24T04:43:43.408686Z",
     "iopub.status.busy": "2024-09-24T04:43:43.408227Z",
     "iopub.status.idle": "2024-09-24T04:43:43.521684Z",
     "shell.execute_reply": "2024-09-24T04:43:43.520418Z"
    },
    "papermill": {
     "duration": 0.135266,
     "end_time": "2024-09-24T04:43:43.524502",
     "exception": false,
     "start_time": "2024-09-24T04:43:43.389236",
     "status": "completed"
    },
    "tags": []
   },
   "outputs": [],
   "source": [
    "from sklearn.model_selection import train_test_split"
   ]
  },
  {
   "cell_type": "code",
   "execution_count": 19,
   "id": "a19f22a7",
   "metadata": {
    "execution": {
     "iopub.execute_input": "2024-09-24T04:43:43.561546Z",
     "iopub.status.busy": "2024-09-24T04:43:43.561095Z",
     "iopub.status.idle": "2024-09-24T04:43:43.604114Z",
     "shell.execute_reply": "2024-09-24T04:43:43.602941Z"
    },
    "papermill": {
     "duration": 0.064697,
     "end_time": "2024-09-24T04:43:43.606611",
     "exception": false,
     "start_time": "2024-09-24T04:43:43.541914",
     "status": "completed"
    },
    "tags": []
   },
   "outputs": [
    {
     "data": {
      "text/plain": [
       "((89642, 8), (38419, 8))"
      ]
     },
     "execution_count": 19,
     "metadata": {},
     "output_type": "execute_result"
    }
   ],
   "source": [
    "# separate train and test sets\n",
    "X_train, X_test, y_train, y_test = train_test_split(\n",
    "    data.drop(labels=['Personality'], axis=1),\n",
    "    data['Personality'],\n",
    "    test_size=0.3,\n",
    "    random_state=0)\n",
    "\n",
    "X_train.shape, X_test.shape"
   ]
  },
  {
   "cell_type": "code",
   "execution_count": 20,
   "id": "9f7fe06e",
   "metadata": {
    "execution": {
     "iopub.execute_input": "2024-09-24T04:43:43.645599Z",
     "iopub.status.busy": "2024-09-24T04:43:43.645157Z",
     "iopub.status.idle": "2024-09-24T04:43:43.651077Z",
     "shell.execute_reply": "2024-09-24T04:43:43.649877Z"
    },
    "papermill": {
     "duration": 0.029245,
     "end_time": "2024-09-24T04:43:43.654292",
     "exception": false,
     "start_time": "2024-09-24T04:43:43.625047",
     "status": "completed"
    },
    "tags": []
   },
   "outputs": [
    {
     "name": "stdout",
     "output_type": "stream",
     "text": [
      "(89642, 8)\n",
      "(38419, 8)\n"
     ]
    }
   ],
   "source": [
    "print(X_train.shape)\n",
    "print(X_test.shape)"
   ]
  },
  {
   "cell_type": "markdown",
   "id": "aed222b6",
   "metadata": {
    "papermill": {
     "duration": 0.017947,
     "end_time": "2024-09-24T04:43:43.690365",
     "exception": false,
     "start_time": "2024-09-24T04:43:43.672418",
     "status": "completed"
    },
    "tags": []
   },
   "source": [
    "## Feature Scaling"
   ]
  },
  {
   "cell_type": "code",
   "execution_count": 21,
   "id": "c96dba0f",
   "metadata": {
    "execution": {
     "iopub.execute_input": "2024-09-24T04:43:43.726972Z",
     "iopub.status.busy": "2024-09-24T04:43:43.726553Z",
     "iopub.status.idle": "2024-09-24T04:43:43.758680Z",
     "shell.execute_reply": "2024-09-24T04:43:43.757551Z"
    },
    "papermill": {
     "duration": 0.053728,
     "end_time": "2024-09-24T04:43:43.761506",
     "exception": false,
     "start_time": "2024-09-24T04:43:43.707778",
     "status": "completed"
    },
    "tags": []
   },
   "outputs": [],
   "source": [
    "from sklearn.preprocessing import StandardScaler\n",
    "sc = StandardScaler()\n",
    "X_train = sc.fit_transform(X_train)\n",
    "X_test = sc.transform(X_test)"
   ]
  },
  {
   "cell_type": "markdown",
   "id": "755df864",
   "metadata": {
    "papermill": {
     "duration": 0.017498,
     "end_time": "2024-09-24T04:43:43.796815",
     "exception": false,
     "start_time": "2024-09-24T04:43:43.779317",
     "status": "completed"
    },
    "tags": []
   },
   "source": [
    "## Logistic Regression"
   ]
  },
  {
   "cell_type": "code",
   "execution_count": 22,
   "id": "1eb30e7b",
   "metadata": {
    "execution": {
     "iopub.execute_input": "2024-09-24T04:43:43.835477Z",
     "iopub.status.busy": "2024-09-24T04:43:43.835009Z",
     "iopub.status.idle": "2024-09-24T04:43:52.961500Z",
     "shell.execute_reply": "2024-09-24T04:43:52.960050Z"
    },
    "papermill": {
     "duration": 9.15216,
     "end_time": "2024-09-24T04:43:52.967273",
     "exception": false,
     "start_time": "2024-09-24T04:43:43.815113",
     "status": "completed"
    },
    "tags": []
   },
   "outputs": [
    {
     "name": "stderr",
     "output_type": "stream",
     "text": [
      "/opt/conda/lib/python3.10/site-packages/sklearn/linear_model/_logistic.py:458: ConvergenceWarning: lbfgs failed to converge (status=1):\n",
      "STOP: TOTAL NO. of ITERATIONS REACHED LIMIT.\n",
      "\n",
      "Increase the number of iterations (max_iter) or scale the data as shown in:\n",
      "    https://scikit-learn.org/stable/modules/preprocessing.html\n",
      "Please also refer to the documentation for alternative solver options:\n",
      "    https://scikit-learn.org/stable/modules/linear_model.html#logistic-regression\n",
      "  n_iter_i = _check_optimize_result(\n"
     ]
    },
    {
     "data": {
      "text/html": [
       "<style>#sk-container-id-1 {color: black;background-color: white;}#sk-container-id-1 pre{padding: 0;}#sk-container-id-1 div.sk-toggleable {background-color: white;}#sk-container-id-1 label.sk-toggleable__label {cursor: pointer;display: block;width: 100%;margin-bottom: 0;padding: 0.3em;box-sizing: border-box;text-align: center;}#sk-container-id-1 label.sk-toggleable__label-arrow:before {content: \"▸\";float: left;margin-right: 0.25em;color: #696969;}#sk-container-id-1 label.sk-toggleable__label-arrow:hover:before {color: black;}#sk-container-id-1 div.sk-estimator:hover label.sk-toggleable__label-arrow:before {color: black;}#sk-container-id-1 div.sk-toggleable__content {max-height: 0;max-width: 0;overflow: hidden;text-align: left;background-color: #f0f8ff;}#sk-container-id-1 div.sk-toggleable__content pre {margin: 0.2em;color: black;border-radius: 0.25em;background-color: #f0f8ff;}#sk-container-id-1 input.sk-toggleable__control:checked~div.sk-toggleable__content {max-height: 200px;max-width: 100%;overflow: auto;}#sk-container-id-1 input.sk-toggleable__control:checked~label.sk-toggleable__label-arrow:before {content: \"▾\";}#sk-container-id-1 div.sk-estimator input.sk-toggleable__control:checked~label.sk-toggleable__label {background-color: #d4ebff;}#sk-container-id-1 div.sk-label input.sk-toggleable__control:checked~label.sk-toggleable__label {background-color: #d4ebff;}#sk-container-id-1 input.sk-hidden--visually {border: 0;clip: rect(1px 1px 1px 1px);clip: rect(1px, 1px, 1px, 1px);height: 1px;margin: -1px;overflow: hidden;padding: 0;position: absolute;width: 1px;}#sk-container-id-1 div.sk-estimator {font-family: monospace;background-color: #f0f8ff;border: 1px dotted black;border-radius: 0.25em;box-sizing: border-box;margin-bottom: 0.5em;}#sk-container-id-1 div.sk-estimator:hover {background-color: #d4ebff;}#sk-container-id-1 div.sk-parallel-item::after {content: \"\";width: 100%;border-bottom: 1px solid gray;flex-grow: 1;}#sk-container-id-1 div.sk-label:hover label.sk-toggleable__label {background-color: #d4ebff;}#sk-container-id-1 div.sk-serial::before {content: \"\";position: absolute;border-left: 1px solid gray;box-sizing: border-box;top: 0;bottom: 0;left: 50%;z-index: 0;}#sk-container-id-1 div.sk-serial {display: flex;flex-direction: column;align-items: center;background-color: white;padding-right: 0.2em;padding-left: 0.2em;position: relative;}#sk-container-id-1 div.sk-item {position: relative;z-index: 1;}#sk-container-id-1 div.sk-parallel {display: flex;align-items: stretch;justify-content: center;background-color: white;position: relative;}#sk-container-id-1 div.sk-item::before, #sk-container-id-1 div.sk-parallel-item::before {content: \"\";position: absolute;border-left: 1px solid gray;box-sizing: border-box;top: 0;bottom: 0;left: 50%;z-index: -1;}#sk-container-id-1 div.sk-parallel-item {display: flex;flex-direction: column;z-index: 1;position: relative;background-color: white;}#sk-container-id-1 div.sk-parallel-item:first-child::after {align-self: flex-end;width: 50%;}#sk-container-id-1 div.sk-parallel-item:last-child::after {align-self: flex-start;width: 50%;}#sk-container-id-1 div.sk-parallel-item:only-child::after {width: 0;}#sk-container-id-1 div.sk-dashed-wrapped {border: 1px dashed gray;margin: 0 0.4em 0.5em 0.4em;box-sizing: border-box;padding-bottom: 0.4em;background-color: white;}#sk-container-id-1 div.sk-label label {font-family: monospace;font-weight: bold;display: inline-block;line-height: 1.2em;}#sk-container-id-1 div.sk-label-container {text-align: center;}#sk-container-id-1 div.sk-container {/* jupyter's `normalize.less` sets `[hidden] { display: none; }` but bootstrap.min.css set `[hidden] { display: none !important; }` so we also need the `!important` here to be able to override the default hidden behavior on the sphinx rendered scikit-learn.org. See: https://github.com/scikit-learn/scikit-learn/issues/21755 */display: inline-block !important;position: relative;}#sk-container-id-1 div.sk-text-repr-fallback {display: none;}</style><div id=\"sk-container-id-1\" class=\"sk-top-container\"><div class=\"sk-text-repr-fallback\"><pre>LogisticRegression(random_state=0)</pre><b>In a Jupyter environment, please rerun this cell to show the HTML representation or trust the notebook. <br />On GitHub, the HTML representation is unable to render, please try loading this page with nbviewer.org.</b></div><div class=\"sk-container\" hidden><div class=\"sk-item\"><div class=\"sk-estimator sk-toggleable\"><input class=\"sk-toggleable__control sk-hidden--visually\" id=\"sk-estimator-id-1\" type=\"checkbox\" checked><label for=\"sk-estimator-id-1\" class=\"sk-toggleable__label sk-toggleable__label-arrow\">LogisticRegression</label><div class=\"sk-toggleable__content\"><pre>LogisticRegression(random_state=0)</pre></div></div></div></div></div>"
      ],
      "text/plain": [
       "LogisticRegression(random_state=0)"
      ]
     },
     "execution_count": 22,
     "metadata": {},
     "output_type": "execute_result"
    }
   ],
   "source": [
    "from sklearn.linear_model import LogisticRegression\n",
    "classifier = LogisticRegression(random_state = 0)\n",
    "classifier.fit(X_train, y_train)"
   ]
  },
  {
   "cell_type": "code",
   "execution_count": 23,
   "id": "433cfe14",
   "metadata": {
    "execution": {
     "iopub.execute_input": "2024-09-24T04:43:53.018655Z",
     "iopub.status.busy": "2024-09-24T04:43:53.017335Z",
     "iopub.status.idle": "2024-09-24T04:43:53.033576Z",
     "shell.execute_reply": "2024-09-24T04:43:53.031962Z"
    },
    "papermill": {
     "duration": 0.041005,
     "end_time": "2024-09-24T04:43:53.038028",
     "exception": false,
     "start_time": "2024-09-24T04:43:52.997023",
     "status": "completed"
    },
    "tags": []
   },
   "outputs": [],
   "source": [
    "y_pred = classifier.predict(X_test)"
   ]
  },
  {
   "cell_type": "code",
   "execution_count": 24,
   "id": "f8856a6f",
   "metadata": {
    "execution": {
     "iopub.execute_input": "2024-09-24T04:43:53.116958Z",
     "iopub.status.busy": "2024-09-24T04:43:53.116231Z",
     "iopub.status.idle": "2024-09-24T04:43:53.134422Z",
     "shell.execute_reply": "2024-09-24T04:43:53.132535Z"
    },
    "papermill": {
     "duration": 0.061885,
     "end_time": "2024-09-24T04:43:53.138568",
     "exception": false,
     "start_time": "2024-09-24T04:43:53.076683",
     "status": "completed"
    },
    "tags": []
   },
   "outputs": [
    {
     "name": "stdout",
     "output_type": "stream",
     "text": [
      "Accuracy score: 0.8196985866368203\n"
     ]
    }
   ],
   "source": [
    "from sklearn.metrics import accuracy_score\n",
    "acc1 = accuracy_score(y_test, y_pred)\n",
    "print(f\"Accuracy score: {acc1}\")"
   ]
  },
  {
   "cell_type": "code",
   "execution_count": 25,
   "id": "dfc9ca88",
   "metadata": {
    "execution": {
     "iopub.execute_input": "2024-09-24T04:43:53.181757Z",
     "iopub.status.busy": "2024-09-24T04:43:53.181312Z",
     "iopub.status.idle": "2024-09-24T04:44:50.823551Z",
     "shell.execute_reply": "2024-09-24T04:44:50.822325Z"
    },
    "papermill": {
     "duration": 57.682438,
     "end_time": "2024-09-24T04:44:50.843726",
     "exception": false,
     "start_time": "2024-09-24T04:43:53.161288",
     "status": "completed"
    },
    "tags": []
   },
   "outputs": [
    {
     "data": {
      "text/html": [
       "<style>#sk-container-id-2 {color: black;background-color: white;}#sk-container-id-2 pre{padding: 0;}#sk-container-id-2 div.sk-toggleable {background-color: white;}#sk-container-id-2 label.sk-toggleable__label {cursor: pointer;display: block;width: 100%;margin-bottom: 0;padding: 0.3em;box-sizing: border-box;text-align: center;}#sk-container-id-2 label.sk-toggleable__label-arrow:before {content: \"▸\";float: left;margin-right: 0.25em;color: #696969;}#sk-container-id-2 label.sk-toggleable__label-arrow:hover:before {color: black;}#sk-container-id-2 div.sk-estimator:hover label.sk-toggleable__label-arrow:before {color: black;}#sk-container-id-2 div.sk-toggleable__content {max-height: 0;max-width: 0;overflow: hidden;text-align: left;background-color: #f0f8ff;}#sk-container-id-2 div.sk-toggleable__content pre {margin: 0.2em;color: black;border-radius: 0.25em;background-color: #f0f8ff;}#sk-container-id-2 input.sk-toggleable__control:checked~div.sk-toggleable__content {max-height: 200px;max-width: 100%;overflow: auto;}#sk-container-id-2 input.sk-toggleable__control:checked~label.sk-toggleable__label-arrow:before {content: \"▾\";}#sk-container-id-2 div.sk-estimator input.sk-toggleable__control:checked~label.sk-toggleable__label {background-color: #d4ebff;}#sk-container-id-2 div.sk-label input.sk-toggleable__control:checked~label.sk-toggleable__label {background-color: #d4ebff;}#sk-container-id-2 input.sk-hidden--visually {border: 0;clip: rect(1px 1px 1px 1px);clip: rect(1px, 1px, 1px, 1px);height: 1px;margin: -1px;overflow: hidden;padding: 0;position: absolute;width: 1px;}#sk-container-id-2 div.sk-estimator {font-family: monospace;background-color: #f0f8ff;border: 1px dotted black;border-radius: 0.25em;box-sizing: border-box;margin-bottom: 0.5em;}#sk-container-id-2 div.sk-estimator:hover {background-color: #d4ebff;}#sk-container-id-2 div.sk-parallel-item::after {content: \"\";width: 100%;border-bottom: 1px solid gray;flex-grow: 1;}#sk-container-id-2 div.sk-label:hover label.sk-toggleable__label {background-color: #d4ebff;}#sk-container-id-2 div.sk-serial::before {content: \"\";position: absolute;border-left: 1px solid gray;box-sizing: border-box;top: 0;bottom: 0;left: 50%;z-index: 0;}#sk-container-id-2 div.sk-serial {display: flex;flex-direction: column;align-items: center;background-color: white;padding-right: 0.2em;padding-left: 0.2em;position: relative;}#sk-container-id-2 div.sk-item {position: relative;z-index: 1;}#sk-container-id-2 div.sk-parallel {display: flex;align-items: stretch;justify-content: center;background-color: white;position: relative;}#sk-container-id-2 div.sk-item::before, #sk-container-id-2 div.sk-parallel-item::before {content: \"\";position: absolute;border-left: 1px solid gray;box-sizing: border-box;top: 0;bottom: 0;left: 50%;z-index: -1;}#sk-container-id-2 div.sk-parallel-item {display: flex;flex-direction: column;z-index: 1;position: relative;background-color: white;}#sk-container-id-2 div.sk-parallel-item:first-child::after {align-self: flex-end;width: 50%;}#sk-container-id-2 div.sk-parallel-item:last-child::after {align-self: flex-start;width: 50%;}#sk-container-id-2 div.sk-parallel-item:only-child::after {width: 0;}#sk-container-id-2 div.sk-dashed-wrapped {border: 1px dashed gray;margin: 0 0.4em 0.5em 0.4em;box-sizing: border-box;padding-bottom: 0.4em;background-color: white;}#sk-container-id-2 div.sk-label label {font-family: monospace;font-weight: bold;display: inline-block;line-height: 1.2em;}#sk-container-id-2 div.sk-label-container {text-align: center;}#sk-container-id-2 div.sk-container {/* jupyter's `normalize.less` sets `[hidden] { display: none; }` but bootstrap.min.css set `[hidden] { display: none !important; }` so we also need the `!important` here to be able to override the default hidden behavior on the sphinx rendered scikit-learn.org. See: https://github.com/scikit-learn/scikit-learn/issues/21755 */display: inline-block !important;position: relative;}#sk-container-id-2 div.sk-text-repr-fallback {display: none;}</style><div id=\"sk-container-id-2\" class=\"sk-top-container\"><div class=\"sk-text-repr-fallback\"><pre>SVC(kernel=&#x27;linear&#x27;, random_state=0)</pre><b>In a Jupyter environment, please rerun this cell to show the HTML representation or trust the notebook. <br />On GitHub, the HTML representation is unable to render, please try loading this page with nbviewer.org.</b></div><div class=\"sk-container\" hidden><div class=\"sk-item\"><div class=\"sk-estimator sk-toggleable\"><input class=\"sk-toggleable__control sk-hidden--visually\" id=\"sk-estimator-id-2\" type=\"checkbox\" checked><label for=\"sk-estimator-id-2\" class=\"sk-toggleable__label sk-toggleable__label-arrow\">SVC</label><div class=\"sk-toggleable__content\"><pre>SVC(kernel=&#x27;linear&#x27;, random_state=0)</pre></div></div></div></div></div>"
      ],
      "text/plain": [
       "SVC(kernel='linear', random_state=0)"
      ]
     },
     "execution_count": 25,
     "metadata": {},
     "output_type": "execute_result"
    }
   ],
   "source": [
    "## svm\n",
    "from sklearn.svm import SVC\n",
    "classifier = SVC(kernel = 'linear', random_state = 0)\n",
    "classifier.fit(X_train, y_train)"
   ]
  },
  {
   "cell_type": "markdown",
   "id": "7cec6385",
   "metadata": {
    "papermill": {
     "duration": 0.01803,
     "end_time": "2024-09-24T04:44:50.880127",
     "exception": false,
     "start_time": "2024-09-24T04:44:50.862097",
     "status": "completed"
    },
    "tags": []
   },
   "source": [
    "## Predict the tset set result"
   ]
  },
  {
   "cell_type": "code",
   "execution_count": 26,
   "id": "400f22e4",
   "metadata": {
    "execution": {
     "iopub.execute_input": "2024-09-24T04:44:50.919223Z",
     "iopub.status.busy": "2024-09-24T04:44:50.918785Z",
     "iopub.status.idle": "2024-09-24T04:45:53.156624Z",
     "shell.execute_reply": "2024-09-24T04:45:53.155347Z"
    },
    "papermill": {
     "duration": 62.260728,
     "end_time": "2024-09-24T04:45:53.159719",
     "exception": false,
     "start_time": "2024-09-24T04:44:50.898991",
     "status": "completed"
    },
    "tags": []
   },
   "outputs": [],
   "source": [
    "y_pred = classifier.predict(X_test)"
   ]
  },
  {
   "cell_type": "code",
   "execution_count": 27,
   "id": "219bf3b3",
   "metadata": {
    "execution": {
     "iopub.execute_input": "2024-09-24T04:45:53.199612Z",
     "iopub.status.busy": "2024-09-24T04:45:53.199120Z",
     "iopub.status.idle": "2024-09-24T04:45:53.220686Z",
     "shell.execute_reply": "2024-09-24T04:45:53.219424Z"
    },
    "papermill": {
     "duration": 0.044791,
     "end_time": "2024-09-24T04:45:53.223292",
     "exception": false,
     "start_time": "2024-09-24T04:45:53.178501",
     "status": "completed"
    },
    "tags": []
   },
   "outputs": [
    {
     "name": "stdout",
     "output_type": "stream",
     "text": [
      "[[ 882  179   24    0   44    7    1    0   61    8    1    0    2    1\n",
      "     0    0]\n",
      " [  52 9106    0  208    1  306    0    7    5  535    0   13    0   18\n",
      "     0    0]\n",
      " [  22    2  600  119    0    0   17    5    0    0   26    8    0    0\n",
      "     2    0]\n",
      " [   4  253   41 6454    0    7    0  201    0   13    8  422    0    0\n",
      "     1   10]\n",
      " [  48    8    1    0   81   14    0    0    1    0    0    0    7    1\n",
      "     0    0]\n",
      " [   4  438    0   15    2  866    0   18    0   25    0    0    2   57\n",
      "     0    4]\n",
      " [   1    0   34    1    1    0   68    6    0    0    0    0    0    0\n",
      "     3    0]\n",
      " [   0   10    3  325    0   20    2  557    0    2    0   12    0    0\n",
      "     4   38]\n",
      " [  65   13    0    0    2    0    0    0  716  105   19    0   14    3\n",
      "     0    0]\n",
      " [   2  599    0    8    0   18    0    0   68 6484    1  140    1  205\n",
      "     0    2]\n",
      " [   0    0   41    9    0    0    2    0   15    2  412   85    0    1\n",
      "    15    0]\n",
      " [   1   16    5  371    0    0    0    9    3  175   28 4346    0    9\n",
      "     1  126]\n",
      " [   4    0    0    0    8    2    0    0   36    3    0    0   37   17\n",
      "     2    0]\n",
      " [   0   29    0    2    1   44    0    1    0  366    0    4    0  553\n",
      "     0   14]\n",
      " [   1    0    3    1    0    0    7    0    1    0   21    4    0    0\n",
      "    34    7]\n",
      " [   0    1    0   23    0    0    0   47    0    9    2  231    0    4\n",
      "     5  403]]\n"
     ]
    }
   ],
   "source": [
    "from sklearn.metrics import confusion_matrix, accuracy_score\n",
    "cm = confusion_matrix(y_test, y_pred)\n",
    "print(cm)\n",
    "acc2 = accuracy_score(y_test, y_pred)"
   ]
  },
  {
   "cell_type": "code",
   "execution_count": 28,
   "id": "1088873d",
   "metadata": {
    "execution": {
     "iopub.execute_input": "2024-09-24T04:45:53.262791Z",
     "iopub.status.busy": "2024-09-24T04:45:53.262366Z",
     "iopub.status.idle": "2024-09-24T04:45:53.268113Z",
     "shell.execute_reply": "2024-09-24T04:45:53.267005Z"
    },
    "papermill": {
     "duration": 0.028865,
     "end_time": "2024-09-24T04:45:53.270894",
     "exception": false,
     "start_time": "2024-09-24T04:45:53.242029",
     "status": "completed"
    },
    "tags": []
   },
   "outputs": [
    {
     "name": "stdout",
     "output_type": "stream",
     "text": [
      "Accuracy score: 0.8224836669356308\n"
     ]
    }
   ],
   "source": [
    "print(f\"Accuracy score: {acc2}\")"
   ]
  },
  {
   "cell_type": "markdown",
   "id": "71af204a",
   "metadata": {
    "papermill": {
     "duration": 0.018309,
     "end_time": "2024-09-24T04:45:53.308402",
     "exception": false,
     "start_time": "2024-09-24T04:45:53.290093",
     "status": "completed"
    },
    "tags": []
   },
   "source": [
    "## Training the K-NN model on the Training set"
   ]
  },
  {
   "cell_type": "code",
   "execution_count": 29,
   "id": "863727ac",
   "metadata": {
    "execution": {
     "iopub.execute_input": "2024-09-24T04:45:53.347797Z",
     "iopub.status.busy": "2024-09-24T04:45:53.347338Z",
     "iopub.status.idle": "2024-09-24T04:45:53.569150Z",
     "shell.execute_reply": "2024-09-24T04:45:53.567852Z"
    },
    "papermill": {
     "duration": 0.244896,
     "end_time": "2024-09-24T04:45:53.571874",
     "exception": false,
     "start_time": "2024-09-24T04:45:53.326978",
     "status": "completed"
    },
    "tags": []
   },
   "outputs": [
    {
     "data": {
      "text/html": [
       "<style>#sk-container-id-3 {color: black;background-color: white;}#sk-container-id-3 pre{padding: 0;}#sk-container-id-3 div.sk-toggleable {background-color: white;}#sk-container-id-3 label.sk-toggleable__label {cursor: pointer;display: block;width: 100%;margin-bottom: 0;padding: 0.3em;box-sizing: border-box;text-align: center;}#sk-container-id-3 label.sk-toggleable__label-arrow:before {content: \"▸\";float: left;margin-right: 0.25em;color: #696969;}#sk-container-id-3 label.sk-toggleable__label-arrow:hover:before {color: black;}#sk-container-id-3 div.sk-estimator:hover label.sk-toggleable__label-arrow:before {color: black;}#sk-container-id-3 div.sk-toggleable__content {max-height: 0;max-width: 0;overflow: hidden;text-align: left;background-color: #f0f8ff;}#sk-container-id-3 div.sk-toggleable__content pre {margin: 0.2em;color: black;border-radius: 0.25em;background-color: #f0f8ff;}#sk-container-id-3 input.sk-toggleable__control:checked~div.sk-toggleable__content {max-height: 200px;max-width: 100%;overflow: auto;}#sk-container-id-3 input.sk-toggleable__control:checked~label.sk-toggleable__label-arrow:before {content: \"▾\";}#sk-container-id-3 div.sk-estimator input.sk-toggleable__control:checked~label.sk-toggleable__label {background-color: #d4ebff;}#sk-container-id-3 div.sk-label input.sk-toggleable__control:checked~label.sk-toggleable__label {background-color: #d4ebff;}#sk-container-id-3 input.sk-hidden--visually {border: 0;clip: rect(1px 1px 1px 1px);clip: rect(1px, 1px, 1px, 1px);height: 1px;margin: -1px;overflow: hidden;padding: 0;position: absolute;width: 1px;}#sk-container-id-3 div.sk-estimator {font-family: monospace;background-color: #f0f8ff;border: 1px dotted black;border-radius: 0.25em;box-sizing: border-box;margin-bottom: 0.5em;}#sk-container-id-3 div.sk-estimator:hover {background-color: #d4ebff;}#sk-container-id-3 div.sk-parallel-item::after {content: \"\";width: 100%;border-bottom: 1px solid gray;flex-grow: 1;}#sk-container-id-3 div.sk-label:hover label.sk-toggleable__label {background-color: #d4ebff;}#sk-container-id-3 div.sk-serial::before {content: \"\";position: absolute;border-left: 1px solid gray;box-sizing: border-box;top: 0;bottom: 0;left: 50%;z-index: 0;}#sk-container-id-3 div.sk-serial {display: flex;flex-direction: column;align-items: center;background-color: white;padding-right: 0.2em;padding-left: 0.2em;position: relative;}#sk-container-id-3 div.sk-item {position: relative;z-index: 1;}#sk-container-id-3 div.sk-parallel {display: flex;align-items: stretch;justify-content: center;background-color: white;position: relative;}#sk-container-id-3 div.sk-item::before, #sk-container-id-3 div.sk-parallel-item::before {content: \"\";position: absolute;border-left: 1px solid gray;box-sizing: border-box;top: 0;bottom: 0;left: 50%;z-index: -1;}#sk-container-id-3 div.sk-parallel-item {display: flex;flex-direction: column;z-index: 1;position: relative;background-color: white;}#sk-container-id-3 div.sk-parallel-item:first-child::after {align-self: flex-end;width: 50%;}#sk-container-id-3 div.sk-parallel-item:last-child::after {align-self: flex-start;width: 50%;}#sk-container-id-3 div.sk-parallel-item:only-child::after {width: 0;}#sk-container-id-3 div.sk-dashed-wrapped {border: 1px dashed gray;margin: 0 0.4em 0.5em 0.4em;box-sizing: border-box;padding-bottom: 0.4em;background-color: white;}#sk-container-id-3 div.sk-label label {font-family: monospace;font-weight: bold;display: inline-block;line-height: 1.2em;}#sk-container-id-3 div.sk-label-container {text-align: center;}#sk-container-id-3 div.sk-container {/* jupyter's `normalize.less` sets `[hidden] { display: none; }` but bootstrap.min.css set `[hidden] { display: none !important; }` so we also need the `!important` here to be able to override the default hidden behavior on the sphinx rendered scikit-learn.org. See: https://github.com/scikit-learn/scikit-learn/issues/21755 */display: inline-block !important;position: relative;}#sk-container-id-3 div.sk-text-repr-fallback {display: none;}</style><div id=\"sk-container-id-3\" class=\"sk-top-container\"><div class=\"sk-text-repr-fallback\"><pre>KNeighborsClassifier()</pre><b>In a Jupyter environment, please rerun this cell to show the HTML representation or trust the notebook. <br />On GitHub, the HTML representation is unable to render, please try loading this page with nbviewer.org.</b></div><div class=\"sk-container\" hidden><div class=\"sk-item\"><div class=\"sk-estimator sk-toggleable\"><input class=\"sk-toggleable__control sk-hidden--visually\" id=\"sk-estimator-id-3\" type=\"checkbox\" checked><label for=\"sk-estimator-id-3\" class=\"sk-toggleable__label sk-toggleable__label-arrow\">KNeighborsClassifier</label><div class=\"sk-toggleable__content\"><pre>KNeighborsClassifier()</pre></div></div></div></div></div>"
      ],
      "text/plain": [
       "KNeighborsClassifier()"
      ]
     },
     "execution_count": 29,
     "metadata": {},
     "output_type": "execute_result"
    }
   ],
   "source": [
    "from sklearn.neighbors import KNeighborsClassifier\n",
    "classifier = KNeighborsClassifier(n_neighbors = 5, metric = 'minkowski', p = 2)\n",
    "classifier.fit(X_train, y_train)"
   ]
  },
  {
   "cell_type": "code",
   "execution_count": 30,
   "id": "d53082b8",
   "metadata": {
    "execution": {
     "iopub.execute_input": "2024-09-24T04:45:53.612134Z",
     "iopub.status.busy": "2024-09-24T04:45:53.611339Z",
     "iopub.status.idle": "2024-09-24T04:45:59.689140Z",
     "shell.execute_reply": "2024-09-24T04:45:59.688146Z"
    },
    "papermill": {
     "duration": 6.101067,
     "end_time": "2024-09-24T04:45:59.691974",
     "exception": false,
     "start_time": "2024-09-24T04:45:53.590907",
     "status": "completed"
    },
    "tags": []
   },
   "outputs": [],
   "source": [
    "y_pred = classifier.predict(X_test)"
   ]
  },
  {
   "cell_type": "code",
   "execution_count": 31,
   "id": "8ac91f7d",
   "metadata": {
    "execution": {
     "iopub.execute_input": "2024-09-24T04:45:59.732184Z",
     "iopub.status.busy": "2024-09-24T04:45:59.731257Z",
     "iopub.status.idle": "2024-09-24T04:45:59.740626Z",
     "shell.execute_reply": "2024-09-24T04:45:59.739556Z"
    },
    "papermill": {
     "duration": 0.032246,
     "end_time": "2024-09-24T04:45:59.743199",
     "exception": false,
     "start_time": "2024-09-24T04:45:59.710953",
     "status": "completed"
    },
    "tags": []
   },
   "outputs": [],
   "source": [
    "from sklearn.metrics import  accuracy_score\n",
    "acc3 = accuracy_score(y_test, y_pred)"
   ]
  },
  {
   "cell_type": "code",
   "execution_count": 32,
   "id": "092fcebd",
   "metadata": {
    "execution": {
     "iopub.execute_input": "2024-09-24T04:45:59.782543Z",
     "iopub.status.busy": "2024-09-24T04:45:59.782100Z",
     "iopub.status.idle": "2024-09-24T04:45:59.787896Z",
     "shell.execute_reply": "2024-09-24T04:45:59.786624Z"
    },
    "papermill": {
     "duration": 0.029001,
     "end_time": "2024-09-24T04:45:59.791023",
     "exception": false,
     "start_time": "2024-09-24T04:45:59.762022",
     "status": "completed"
    },
    "tags": []
   },
   "outputs": [
    {
     "name": "stdout",
     "output_type": "stream",
     "text": [
      "Accuracy score: 0.8144407714932715\n"
     ]
    }
   ],
   "source": [
    "print(f\"Accuracy score: {acc3}\")"
   ]
  },
  {
   "cell_type": "markdown",
   "id": "04f0ebae",
   "metadata": {
    "papermill": {
     "duration": 0.019138,
     "end_time": "2024-09-24T04:45:59.829074",
     "exception": false,
     "start_time": "2024-09-24T04:45:59.809936",
     "status": "completed"
    },
    "tags": []
   },
   "source": [
    "## Training the Naive Bayes on the Training set"
   ]
  },
  {
   "cell_type": "code",
   "execution_count": 33,
   "id": "8ffd203e",
   "metadata": {
    "execution": {
     "iopub.execute_input": "2024-09-24T04:45:59.870138Z",
     "iopub.status.busy": "2024-09-24T04:45:59.869719Z",
     "iopub.status.idle": "2024-09-24T04:45:59.912432Z",
     "shell.execute_reply": "2024-09-24T04:45:59.911260Z"
    },
    "papermill": {
     "duration": 0.065945,
     "end_time": "2024-09-24T04:45:59.915223",
     "exception": false,
     "start_time": "2024-09-24T04:45:59.849278",
     "status": "completed"
    },
    "tags": []
   },
   "outputs": [
    {
     "data": {
      "text/html": [
       "<style>#sk-container-id-4 {color: black;background-color: white;}#sk-container-id-4 pre{padding: 0;}#sk-container-id-4 div.sk-toggleable {background-color: white;}#sk-container-id-4 label.sk-toggleable__label {cursor: pointer;display: block;width: 100%;margin-bottom: 0;padding: 0.3em;box-sizing: border-box;text-align: center;}#sk-container-id-4 label.sk-toggleable__label-arrow:before {content: \"▸\";float: left;margin-right: 0.25em;color: #696969;}#sk-container-id-4 label.sk-toggleable__label-arrow:hover:before {color: black;}#sk-container-id-4 div.sk-estimator:hover label.sk-toggleable__label-arrow:before {color: black;}#sk-container-id-4 div.sk-toggleable__content {max-height: 0;max-width: 0;overflow: hidden;text-align: left;background-color: #f0f8ff;}#sk-container-id-4 div.sk-toggleable__content pre {margin: 0.2em;color: black;border-radius: 0.25em;background-color: #f0f8ff;}#sk-container-id-4 input.sk-toggleable__control:checked~div.sk-toggleable__content {max-height: 200px;max-width: 100%;overflow: auto;}#sk-container-id-4 input.sk-toggleable__control:checked~label.sk-toggleable__label-arrow:before {content: \"▾\";}#sk-container-id-4 div.sk-estimator input.sk-toggleable__control:checked~label.sk-toggleable__label {background-color: #d4ebff;}#sk-container-id-4 div.sk-label input.sk-toggleable__control:checked~label.sk-toggleable__label {background-color: #d4ebff;}#sk-container-id-4 input.sk-hidden--visually {border: 0;clip: rect(1px 1px 1px 1px);clip: rect(1px, 1px, 1px, 1px);height: 1px;margin: -1px;overflow: hidden;padding: 0;position: absolute;width: 1px;}#sk-container-id-4 div.sk-estimator {font-family: monospace;background-color: #f0f8ff;border: 1px dotted black;border-radius: 0.25em;box-sizing: border-box;margin-bottom: 0.5em;}#sk-container-id-4 div.sk-estimator:hover {background-color: #d4ebff;}#sk-container-id-4 div.sk-parallel-item::after {content: \"\";width: 100%;border-bottom: 1px solid gray;flex-grow: 1;}#sk-container-id-4 div.sk-label:hover label.sk-toggleable__label {background-color: #d4ebff;}#sk-container-id-4 div.sk-serial::before {content: \"\";position: absolute;border-left: 1px solid gray;box-sizing: border-box;top: 0;bottom: 0;left: 50%;z-index: 0;}#sk-container-id-4 div.sk-serial {display: flex;flex-direction: column;align-items: center;background-color: white;padding-right: 0.2em;padding-left: 0.2em;position: relative;}#sk-container-id-4 div.sk-item {position: relative;z-index: 1;}#sk-container-id-4 div.sk-parallel {display: flex;align-items: stretch;justify-content: center;background-color: white;position: relative;}#sk-container-id-4 div.sk-item::before, #sk-container-id-4 div.sk-parallel-item::before {content: \"\";position: absolute;border-left: 1px solid gray;box-sizing: border-box;top: 0;bottom: 0;left: 50%;z-index: -1;}#sk-container-id-4 div.sk-parallel-item {display: flex;flex-direction: column;z-index: 1;position: relative;background-color: white;}#sk-container-id-4 div.sk-parallel-item:first-child::after {align-self: flex-end;width: 50%;}#sk-container-id-4 div.sk-parallel-item:last-child::after {align-self: flex-start;width: 50%;}#sk-container-id-4 div.sk-parallel-item:only-child::after {width: 0;}#sk-container-id-4 div.sk-dashed-wrapped {border: 1px dashed gray;margin: 0 0.4em 0.5em 0.4em;box-sizing: border-box;padding-bottom: 0.4em;background-color: white;}#sk-container-id-4 div.sk-label label {font-family: monospace;font-weight: bold;display: inline-block;line-height: 1.2em;}#sk-container-id-4 div.sk-label-container {text-align: center;}#sk-container-id-4 div.sk-container {/* jupyter's `normalize.less` sets `[hidden] { display: none; }` but bootstrap.min.css set `[hidden] { display: none !important; }` so we also need the `!important` here to be able to override the default hidden behavior on the sphinx rendered scikit-learn.org. See: https://github.com/scikit-learn/scikit-learn/issues/21755 */display: inline-block !important;position: relative;}#sk-container-id-4 div.sk-text-repr-fallback {display: none;}</style><div id=\"sk-container-id-4\" class=\"sk-top-container\"><div class=\"sk-text-repr-fallback\"><pre>GaussianNB()</pre><b>In a Jupyter environment, please rerun this cell to show the HTML representation or trust the notebook. <br />On GitHub, the HTML representation is unable to render, please try loading this page with nbviewer.org.</b></div><div class=\"sk-container\" hidden><div class=\"sk-item\"><div class=\"sk-estimator sk-toggleable\"><input class=\"sk-toggleable__control sk-hidden--visually\" id=\"sk-estimator-id-4\" type=\"checkbox\" checked><label for=\"sk-estimator-id-4\" class=\"sk-toggleable__label sk-toggleable__label-arrow\">GaussianNB</label><div class=\"sk-toggleable__content\"><pre>GaussianNB()</pre></div></div></div></div></div>"
      ],
      "text/plain": [
       "GaussianNB()"
      ]
     },
     "execution_count": 33,
     "metadata": {},
     "output_type": "execute_result"
    }
   ],
   "source": [
    "from sklearn.naive_bayes import GaussianNB\n",
    "classifier = GaussianNB()\n",
    "classifier.fit(X_train, y_train)"
   ]
  },
  {
   "cell_type": "code",
   "execution_count": 34,
   "id": "aeed0735",
   "metadata": {
    "execution": {
     "iopub.execute_input": "2024-09-24T04:45:59.955405Z",
     "iopub.status.busy": "2024-09-24T04:45:59.955005Z",
     "iopub.status.idle": "2024-09-24T04:45:59.982459Z",
     "shell.execute_reply": "2024-09-24T04:45:59.981435Z"
    },
    "papermill": {
     "duration": 0.050898,
     "end_time": "2024-09-24T04:45:59.985347",
     "exception": false,
     "start_time": "2024-09-24T04:45:59.934449",
     "status": "completed"
    },
    "tags": []
   },
   "outputs": [],
   "source": [
    "y_pred = classifier.predict(X_test)"
   ]
  },
  {
   "cell_type": "code",
   "execution_count": 35,
   "id": "e6bbdd74",
   "metadata": {
    "execution": {
     "iopub.execute_input": "2024-09-24T04:46:00.026491Z",
     "iopub.status.busy": "2024-09-24T04:46:00.026057Z",
     "iopub.status.idle": "2024-09-24T04:46:00.035291Z",
     "shell.execute_reply": "2024-09-24T04:46:00.034072Z"
    },
    "papermill": {
     "duration": 0.032552,
     "end_time": "2024-09-24T04:46:00.037933",
     "exception": false,
     "start_time": "2024-09-24T04:46:00.005381",
     "status": "completed"
    },
    "tags": []
   },
   "outputs": [],
   "source": [
    "from sklearn.metrics import  accuracy_score\n",
    "acc4 = accuracy_score(y_test, y_pred)"
   ]
  },
  {
   "cell_type": "code",
   "execution_count": 36,
   "id": "89ed867d",
   "metadata": {
    "execution": {
     "iopub.execute_input": "2024-09-24T04:46:00.077995Z",
     "iopub.status.busy": "2024-09-24T04:46:00.077569Z",
     "iopub.status.idle": "2024-09-24T04:46:00.083561Z",
     "shell.execute_reply": "2024-09-24T04:46:00.082528Z"
    },
    "papermill": {
     "duration": 0.029339,
     "end_time": "2024-09-24T04:46:00.086454",
     "exception": false,
     "start_time": "2024-09-24T04:46:00.057115",
     "status": "completed"
    },
    "tags": []
   },
   "outputs": [
    {
     "name": "stdout",
     "output_type": "stream",
     "text": [
      "Accuracy score : 0.5967359900049455\n"
     ]
    }
   ],
   "source": [
    "print(f\"Accuracy score : {acc4}\")"
   ]
  },
  {
   "cell_type": "markdown",
   "id": "6efd0559",
   "metadata": {
    "papermill": {
     "duration": 0.019091,
     "end_time": "2024-09-24T04:46:00.125107",
     "exception": false,
     "start_time": "2024-09-24T04:46:00.106016",
     "status": "completed"
    },
    "tags": []
   },
   "source": [
    "## Training Decision Tree Classification on Train set"
   ]
  },
  {
   "cell_type": "code",
   "execution_count": 37,
   "id": "f593432a",
   "metadata": {
    "execution": {
     "iopub.execute_input": "2024-09-24T04:46:00.166084Z",
     "iopub.status.busy": "2024-09-24T04:46:00.165103Z",
     "iopub.status.idle": "2024-09-24T04:46:01.671216Z",
     "shell.execute_reply": "2024-09-24T04:46:01.670094Z"
    },
    "papermill": {
     "duration": 1.52922,
     "end_time": "2024-09-24T04:46:01.673661",
     "exception": false,
     "start_time": "2024-09-24T04:46:00.144441",
     "status": "completed"
    },
    "tags": []
   },
   "outputs": [
    {
     "data": {
      "text/html": [
       "<style>#sk-container-id-5 {color: black;background-color: white;}#sk-container-id-5 pre{padding: 0;}#sk-container-id-5 div.sk-toggleable {background-color: white;}#sk-container-id-5 label.sk-toggleable__label {cursor: pointer;display: block;width: 100%;margin-bottom: 0;padding: 0.3em;box-sizing: border-box;text-align: center;}#sk-container-id-5 label.sk-toggleable__label-arrow:before {content: \"▸\";float: left;margin-right: 0.25em;color: #696969;}#sk-container-id-5 label.sk-toggleable__label-arrow:hover:before {color: black;}#sk-container-id-5 div.sk-estimator:hover label.sk-toggleable__label-arrow:before {color: black;}#sk-container-id-5 div.sk-toggleable__content {max-height: 0;max-width: 0;overflow: hidden;text-align: left;background-color: #f0f8ff;}#sk-container-id-5 div.sk-toggleable__content pre {margin: 0.2em;color: black;border-radius: 0.25em;background-color: #f0f8ff;}#sk-container-id-5 input.sk-toggleable__control:checked~div.sk-toggleable__content {max-height: 200px;max-width: 100%;overflow: auto;}#sk-container-id-5 input.sk-toggleable__control:checked~label.sk-toggleable__label-arrow:before {content: \"▾\";}#sk-container-id-5 div.sk-estimator input.sk-toggleable__control:checked~label.sk-toggleable__label {background-color: #d4ebff;}#sk-container-id-5 div.sk-label input.sk-toggleable__control:checked~label.sk-toggleable__label {background-color: #d4ebff;}#sk-container-id-5 input.sk-hidden--visually {border: 0;clip: rect(1px 1px 1px 1px);clip: rect(1px, 1px, 1px, 1px);height: 1px;margin: -1px;overflow: hidden;padding: 0;position: absolute;width: 1px;}#sk-container-id-5 div.sk-estimator {font-family: monospace;background-color: #f0f8ff;border: 1px dotted black;border-radius: 0.25em;box-sizing: border-box;margin-bottom: 0.5em;}#sk-container-id-5 div.sk-estimator:hover {background-color: #d4ebff;}#sk-container-id-5 div.sk-parallel-item::after {content: \"\";width: 100%;border-bottom: 1px solid gray;flex-grow: 1;}#sk-container-id-5 div.sk-label:hover label.sk-toggleable__label {background-color: #d4ebff;}#sk-container-id-5 div.sk-serial::before {content: \"\";position: absolute;border-left: 1px solid gray;box-sizing: border-box;top: 0;bottom: 0;left: 50%;z-index: 0;}#sk-container-id-5 div.sk-serial {display: flex;flex-direction: column;align-items: center;background-color: white;padding-right: 0.2em;padding-left: 0.2em;position: relative;}#sk-container-id-5 div.sk-item {position: relative;z-index: 1;}#sk-container-id-5 div.sk-parallel {display: flex;align-items: stretch;justify-content: center;background-color: white;position: relative;}#sk-container-id-5 div.sk-item::before, #sk-container-id-5 div.sk-parallel-item::before {content: \"\";position: absolute;border-left: 1px solid gray;box-sizing: border-box;top: 0;bottom: 0;left: 50%;z-index: -1;}#sk-container-id-5 div.sk-parallel-item {display: flex;flex-direction: column;z-index: 1;position: relative;background-color: white;}#sk-container-id-5 div.sk-parallel-item:first-child::after {align-self: flex-end;width: 50%;}#sk-container-id-5 div.sk-parallel-item:last-child::after {align-self: flex-start;width: 50%;}#sk-container-id-5 div.sk-parallel-item:only-child::after {width: 0;}#sk-container-id-5 div.sk-dashed-wrapped {border: 1px dashed gray;margin: 0 0.4em 0.5em 0.4em;box-sizing: border-box;padding-bottom: 0.4em;background-color: white;}#sk-container-id-5 div.sk-label label {font-family: monospace;font-weight: bold;display: inline-block;line-height: 1.2em;}#sk-container-id-5 div.sk-label-container {text-align: center;}#sk-container-id-5 div.sk-container {/* jupyter's `normalize.less` sets `[hidden] { display: none; }` but bootstrap.min.css set `[hidden] { display: none !important; }` so we also need the `!important` here to be able to override the default hidden behavior on the sphinx rendered scikit-learn.org. See: https://github.com/scikit-learn/scikit-learn/issues/21755 */display: inline-block !important;position: relative;}#sk-container-id-5 div.sk-text-repr-fallback {display: none;}</style><div id=\"sk-container-id-5\" class=\"sk-top-container\"><div class=\"sk-text-repr-fallback\"><pre>DecisionTreeClassifier(criterion=&#x27;entropy&#x27;, random_state=0)</pre><b>In a Jupyter environment, please rerun this cell to show the HTML representation or trust the notebook. <br />On GitHub, the HTML representation is unable to render, please try loading this page with nbviewer.org.</b></div><div class=\"sk-container\" hidden><div class=\"sk-item\"><div class=\"sk-estimator sk-toggleable\"><input class=\"sk-toggleable__control sk-hidden--visually\" id=\"sk-estimator-id-5\" type=\"checkbox\" checked><label for=\"sk-estimator-id-5\" class=\"sk-toggleable__label sk-toggleable__label-arrow\">DecisionTreeClassifier</label><div class=\"sk-toggleable__content\"><pre>DecisionTreeClassifier(criterion=&#x27;entropy&#x27;, random_state=0)</pre></div></div></div></div></div>"
      ],
      "text/plain": [
       "DecisionTreeClassifier(criterion='entropy', random_state=0)"
      ]
     },
     "execution_count": 37,
     "metadata": {},
     "output_type": "execute_result"
    }
   ],
   "source": [
    "from sklearn.tree import DecisionTreeClassifier\n",
    "classifier = DecisionTreeClassifier(criterion = 'entropy', random_state = 0)\n",
    "classifier.fit(X_train, y_train)"
   ]
  },
  {
   "cell_type": "code",
   "execution_count": 38,
   "id": "89ccff74",
   "metadata": {
    "execution": {
     "iopub.execute_input": "2024-09-24T04:46:01.714657Z",
     "iopub.status.busy": "2024-09-24T04:46:01.714193Z",
     "iopub.status.idle": "2024-09-24T04:46:01.727773Z",
     "shell.execute_reply": "2024-09-24T04:46:01.726651Z"
    },
    "papermill": {
     "duration": 0.03721,
     "end_time": "2024-09-24T04:46:01.730419",
     "exception": false,
     "start_time": "2024-09-24T04:46:01.693209",
     "status": "completed"
    },
    "tags": []
   },
   "outputs": [],
   "source": [
    "y_pred = classifier.predict(X_test)"
   ]
  },
  {
   "cell_type": "code",
   "execution_count": 39,
   "id": "9d06631a",
   "metadata": {
    "execution": {
     "iopub.execute_input": "2024-09-24T04:46:01.771421Z",
     "iopub.status.busy": "2024-09-24T04:46:01.770743Z",
     "iopub.status.idle": "2024-09-24T04:46:01.779059Z",
     "shell.execute_reply": "2024-09-24T04:46:01.778032Z"
    },
    "papermill": {
     "duration": 0.031523,
     "end_time": "2024-09-24T04:46:01.781503",
     "exception": false,
     "start_time": "2024-09-24T04:46:01.749980",
     "status": "completed"
    },
    "tags": []
   },
   "outputs": [],
   "source": [
    "from sklearn.metrics import  accuracy_score\n",
    "acc5 = accuracy_score(y_test, y_pred)"
   ]
  },
  {
   "cell_type": "code",
   "execution_count": 40,
   "id": "3a8981e7",
   "metadata": {
    "execution": {
     "iopub.execute_input": "2024-09-24T04:46:01.822089Z",
     "iopub.status.busy": "2024-09-24T04:46:01.821685Z",
     "iopub.status.idle": "2024-09-24T04:46:01.827382Z",
     "shell.execute_reply": "2024-09-24T04:46:01.826246Z"
    },
    "papermill": {
     "duration": 0.029125,
     "end_time": "2024-09-24T04:46:01.830167",
     "exception": false,
     "start_time": "2024-09-24T04:46:01.801042",
     "status": "completed"
    },
    "tags": []
   },
   "outputs": [
    {
     "name": "stdout",
     "output_type": "stream",
     "text": [
      "Accuracy score: 0.8778729274577682\n"
     ]
    }
   ],
   "source": [
    "print(f\"Accuracy score: {acc5}\")"
   ]
  },
  {
   "cell_type": "code",
   "execution_count": 41,
   "id": "3b3b08b4",
   "metadata": {
    "execution": {
     "iopub.execute_input": "2024-09-24T04:46:01.872175Z",
     "iopub.status.busy": "2024-09-24T04:46:01.871126Z",
     "iopub.status.idle": "2024-09-24T04:46:01.878200Z",
     "shell.execute_reply": "2024-09-24T04:46:01.877134Z"
    },
    "papermill": {
     "duration": 0.030781,
     "end_time": "2024-09-24T04:46:01.880597",
     "exception": false,
     "start_time": "2024-09-24T04:46:01.849816",
     "status": "completed"
    },
    "tags": []
   },
   "outputs": [],
   "source": [
    "mylist=[]\n",
    "mylist2=[]\n",
    "mylist.append(acc1)\n",
    "mylist2.append(\"Logistic Regression\")\n",
    "mylist.append(acc2)\n",
    "mylist2.append(\"SVM\")\n",
    "mylist.append(acc3)\n",
    "mylist2.append(\"KNN\")\n",
    "mylist.append(acc4)\n",
    "mylist2.append(\"Naive Bayes\")\n",
    "mylist.append(acc5)\n",
    "mylist2.append(\"DTR\")"
   ]
  },
  {
   "cell_type": "code",
   "execution_count": 42,
   "id": "10ec6a74",
   "metadata": {
    "execution": {
     "iopub.execute_input": "2024-09-24T04:46:01.921717Z",
     "iopub.status.busy": "2024-09-24T04:46:01.921222Z",
     "iopub.status.idle": "2024-09-24T04:46:02.300876Z",
     "shell.execute_reply": "2024-09-24T04:46:02.299759Z"
    },
    "papermill": {
     "duration": 0.403066,
     "end_time": "2024-09-24T04:46:02.303437",
     "exception": false,
     "start_time": "2024-09-24T04:46:01.900371",
     "status": "completed"
    },
    "tags": []
   },
   "outputs": [
    {
     "name": "stderr",
     "output_type": "stream",
     "text": [
      "/opt/conda/lib/python3.10/site-packages/seaborn/_oldcore.py:1765: FutureWarning: unique with argument that is not not a Series, Index, ExtensionArray, or np.ndarray is deprecated and will raise in a future version.\n",
      "  order = pd.unique(vector)\n"
     ]
    },
    {
     "data": {
      "image/png": "[encoded data removed]",
      "text/plain": [
       "<Figure size 800x600 with 1 Axes>"
      ]
     },
     "metadata": {},
     "output_type": "display_data"
    }
   ],
   "source": [
    "plt.rcParams['figure.figsize']=8,6\n",
    "sns.set_style(\"darkgrid\")\n",
    "ax = sns.barplot(x=mylist2, y=mylist, palette = \"rocket\", saturation =1.5)\n",
    "plt.xlabel(\"Classification Models\", fontsize = 20 )\n",
    "plt.ylabel(\"Accuracy\", fontsize = 20)\n",
    "plt.title(\"Accuracy of different Classification Models\", fontsize = 20)\n",
    "plt.xticks(fontsize = 11, horizontalalignment = 'center', rotation = 8)\n",
    "plt.yticks(fontsize = 13)\n",
    "for p in ax.patches:\n",
    "    width, height = p.get_width(), p.get_height()\n",
    "    x, y = p.get_xy() \n",
    "    ax.annotate(f'{height:.2%}', (x + width/2, y + height*1.02), ha='center', fontsize = 'x-large')\n",
    "plt.show()"
   ]
  },
  {
   "cell_type": "markdown",
   "id": "f44d4bd2",
   "metadata": {
    "papermill": {
     "duration": 0.021355,
     "end_time": "2024-09-24T04:46:02.349199",
     "exception": false,
     "start_time": "2024-09-24T04:46:02.327844",
     "status": "completed"
    },
    "tags": []
   },
   "source": [
    "## Notebook Overview and Notes\n",
    "\n",
    "<h5>I have not provided detailed explanations within this notebook. If there are any questions or if clarification is needed, please feel free to ask.</h5>\n",
    "\n",
    "<h5>Regarding the model development process, I initially applied feature selection techniques. However, the resulting accuracy was lower than expected. Consequently, I proceeded with the model training and evaluation without applying feature selection.</h5>"
   ]
  }
 ],
 "metadata": {
  "kaggle": {
   "accelerator": "none",
   "dataSources": [
    {
     "datasetId": 5622628,
     "sourceId": 9392095,
     "sourceType": "datasetVersion"
    }
   ],
   "dockerImageVersionId": 30775,
   "isGpuEnabled": false,
   "isInternetEnabled": true,
   "language": "python",
   "sourceType": "notebook"
  },
  "kernelspec": {
   "display_name": "Python 3",
   "language": "python",
   "name": "python3"
  },
  "language_info": {
   "codemirror_mode": {
    "name": "ipython",
    "version": 3
   },
   "file_extension": ".py",
   "mimetype": "text/x-python",
   "name": "python",
   "nbconvert_exporter": "python",
   "pygments_lexer": "ipython3",
   "version": "3.10.14"
  },
  "papermill": {
   "default_parameters": {},
   "duration": 150.270636,
   "end_time": "2024-09-24T04:46:03.092112",
   "environment_variables": {},
   "exception": null,
   "input_path": "__notebook__.ipynb",
   "output_path": "__notebook__.ipynb",
   "parameters": {},
   "start_time": "2024-09-24T04:43:32.821476",
   "version": "2.6.0"
  }
 },
 "nbformat": 4,
 "nbformat_minor": 5
}
