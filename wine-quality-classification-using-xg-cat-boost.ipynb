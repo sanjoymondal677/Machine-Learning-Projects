{
 "cells": [
  {
   "cell_type": "code",
   "execution_count": 1,
   "id": "977599fb",
   "metadata": {
    "_cell_guid": "b1076dfc-b9ad-4769-8c92-a6c4dae69d19",
    "_uuid": "8f2839f25d086af736a60e9eeb907d3b93b6e0e5",
    "execution": {
     "iopub.execute_input": "2022-01-26T16:20:41.616393Z",
     "iopub.status.busy": "2022-01-26T16:20:41.615834Z",
     "iopub.status.idle": "2022-01-26T16:20:41.627573Z",
     "shell.execute_reply": "2022-01-26T16:20:41.626807Z",
     "shell.execute_reply.started": "2022-01-26T16:19:51.250241Z"
    },
    "papermill": {
     "duration": 0.043162,
     "end_time": "2022-01-26T16:20:41.627837",
     "exception": false,
     "start_time": "2022-01-26T16:20:41.584675",
     "status": "completed"
    },
    "tags": []
   },
   "outputs": [
    {
     "name": "stdout",
     "output_type": "stream",
     "text": [
      "/kaggle/input/wine-quality-dataset/WineQT.csv\n"
     ]
    }
   ],
   "source": [
    "# This Python 3 environment comes with many helpful analytics libraries installed\n",
    "# It is defined by the kaggle/python Docker image: https://github.com/kaggle/docker-python\n",
    "# For example, here's several helpful packages to load\n",
    "\n",
    "import numpy as np # linear algebra\n",
    "import pandas as pd # data processing, CSV file I/O (e.g. pd.read_csv)\n",
    "\n",
    "# Input data files are available in the read-only \"../input/\" directory\n",
    "# For example, running this (by clicking run or pressing Shift+Enter) will list all files under the input directory\n",
    "\n",
    "import os\n",
    "for dirname, _, filenames in os.walk('/kaggle/input'):\n",
    "    for filename in filenames:\n",
    "        print(os.path.join(dirname, filename))\n",
    "\n",
    "# You can write up to 20GB to the current directory (/kaggle/working/) that gets preserved as output when you create a version using \"Save & Run All\" \n",
    "# You can also write temporary files to /kaggle/temp/, but they won't be saved outside of the current session"
   ]
  },
  {
   "cell_type": "code",
   "execution_count": 2,
   "id": "eedaa9a0",
   "metadata": {
    "execution": {
     "iopub.execute_input": "2022-01-26T16:20:41.678572Z",
     "iopub.status.busy": "2022-01-26T16:20:41.677916Z",
     "iopub.status.idle": "2022-01-26T16:20:42.677219Z",
     "shell.execute_reply": "2022-01-26T16:20:42.677717Z",
     "shell.execute_reply.started": "2022-01-26T16:19:51.263659Z"
    },
    "papermill": {
     "duration": 1.026435,
     "end_time": "2022-01-26T16:20:42.677914",
     "exception": false,
     "start_time": "2022-01-26T16:20:41.651479",
     "status": "completed"
    },
    "tags": []
   },
   "outputs": [],
   "source": [
    "# Import the libraries\n",
    "\n",
    "import numpy as np\n",
    "import pandas as pd\n",
    "import matplotlib.pyplot as plt\n",
    "import seaborn as sns"
   ]
  },
  {
   "cell_type": "code",
   "execution_count": 3,
   "id": "ea0101f8",
   "metadata": {
    "execution": {
     "iopub.execute_input": "2022-01-26T16:20:42.726722Z",
     "iopub.status.busy": "2022-01-26T16:20:42.724839Z",
     "iopub.status.idle": "2022-01-26T16:20:42.744763Z",
     "shell.execute_reply": "2022-01-26T16:20:42.744279Z",
     "shell.execute_reply.started": "2022-01-26T16:19:51.273323Z"
    },
    "papermill": {
     "duration": 0.044415,
     "end_time": "2022-01-26T16:20:42.744925",
     "exception": false,
     "start_time": "2022-01-26T16:20:42.700510",
     "status": "completed"
    },
    "tags": []
   },
   "outputs": [],
   "source": [
    "#Load the dataset\n",
    "\n",
    "data = pd.read_csv(\"../input/wine-quality-dataset/WineQT.csv\")"
   ]
  },
  {
   "cell_type": "code",
   "execution_count": 4,
   "id": "f0ea4f8c",
   "metadata": {
    "execution": {
     "iopub.execute_input": "2022-01-26T16:20:42.801762Z",
     "iopub.status.busy": "2022-01-26T16:20:42.800703Z",
     "iopub.status.idle": "2022-01-26T16:20:42.823074Z",
     "shell.execute_reply": "2022-01-26T16:20:42.822582Z",
     "shell.execute_reply.started": "2022-01-26T16:19:51.289983Z"
    },
    "papermill": {
     "duration": 0.055814,
     "end_time": "2022-01-26T16:20:42.823221",
     "exception": false,
     "start_time": "2022-01-26T16:20:42.767407",
     "status": "completed"
    },
    "tags": []
   },
   "outputs": [
    {
     "data": {
      "text/html": [
       "<div>\n",
       "<style scoped>\n",
       "    .dataframe tbody tr th:only-of-type {\n",
       "        vertical-align: middle;\n",
       "    }\n",
       "\n",
       "    .dataframe tbody tr th {\n",
       "        vertical-align: top;\n",
       "    }\n",
       "\n",
       "    .dataframe thead th {\n",
       "        text-align: right;\n",
       "    }\n",
       "</style>\n",
       "<table border=\"1\" class=\"dataframe\">\n",
       "  <thead>\n",
       "    <tr style=\"text-align: right;\">\n",
       "      <th></th>\n",
       "      <th>fixed acidity</th>\n",
       "      <th>volatile acidity</th>\n",
       "      <th>citric acid</th>\n",
       "      <th>residual sugar</th>\n",
       "      <th>chlorides</th>\n",
       "      <th>free sulfur dioxide</th>\n",
       "      <th>total sulfur dioxide</th>\n",
       "      <th>density</th>\n",
       "      <th>pH</th>\n",
       "      <th>sulphates</th>\n",
       "      <th>alcohol</th>\n",
       "      <th>quality</th>\n",
       "      <th>Id</th>\n",
       "    </tr>\n",
       "  </thead>\n",
       "  <tbody>\n",
       "    <tr>\n",
       "      <th>0</th>\n",
       "      <td>7.4</td>\n",
       "      <td>0.70</td>\n",
       "      <td>0.00</td>\n",
       "      <td>1.9</td>\n",
       "      <td>0.076</td>\n",
       "      <td>11.0</td>\n",
       "      <td>34.0</td>\n",
       "      <td>0.9978</td>\n",
       "      <td>3.51</td>\n",
       "      <td>0.56</td>\n",
       "      <td>9.4</td>\n",
       "      <td>5</td>\n",
       "      <td>0</td>\n",
       "    </tr>\n",
       "    <tr>\n",
       "      <th>1</th>\n",
       "      <td>7.8</td>\n",
       "      <td>0.88</td>\n",
       "      <td>0.00</td>\n",
       "      <td>2.6</td>\n",
       "      <td>0.098</td>\n",
       "      <td>25.0</td>\n",
       "      <td>67.0</td>\n",
       "      <td>0.9968</td>\n",
       "      <td>3.20</td>\n",
       "      <td>0.68</td>\n",
       "      <td>9.8</td>\n",
       "      <td>5</td>\n",
       "      <td>1</td>\n",
       "    </tr>\n",
       "    <tr>\n",
       "      <th>2</th>\n",
       "      <td>7.8</td>\n",
       "      <td>0.76</td>\n",
       "      <td>0.04</td>\n",
       "      <td>2.3</td>\n",
       "      <td>0.092</td>\n",
       "      <td>15.0</td>\n",
       "      <td>54.0</td>\n",
       "      <td>0.9970</td>\n",
       "      <td>3.26</td>\n",
       "      <td>0.65</td>\n",
       "      <td>9.8</td>\n",
       "      <td>5</td>\n",
       "      <td>2</td>\n",
       "    </tr>\n",
       "    <tr>\n",
       "      <th>3</th>\n",
       "      <td>11.2</td>\n",
       "      <td>0.28</td>\n",
       "      <td>0.56</td>\n",
       "      <td>1.9</td>\n",
       "      <td>0.075</td>\n",
       "      <td>17.0</td>\n",
       "      <td>60.0</td>\n",
       "      <td>0.9980</td>\n",
       "      <td>3.16</td>\n",
       "      <td>0.58</td>\n",
       "      <td>9.8</td>\n",
       "      <td>6</td>\n",
       "      <td>3</td>\n",
       "    </tr>\n",
       "    <tr>\n",
       "      <th>4</th>\n",
       "      <td>7.4</td>\n",
       "      <td>0.70</td>\n",
       "      <td>0.00</td>\n",
       "      <td>1.9</td>\n",
       "      <td>0.076</td>\n",
       "      <td>11.0</td>\n",
       "      <td>34.0</td>\n",
       "      <td>0.9978</td>\n",
       "      <td>3.51</td>\n",
       "      <td>0.56</td>\n",
       "      <td>9.4</td>\n",
       "      <td>5</td>\n",
       "      <td>4</td>\n",
       "    </tr>\n",
       "  </tbody>\n",
       "</table>\n",
       "</div>"
      ],
      "text/plain": [
       "   fixed acidity  volatile acidity  citric acid  residual sugar  chlorides  \\\n",
       "0            7.4              0.70         0.00             1.9      0.076   \n",
       "1            7.8              0.88         0.00             2.6      0.098   \n",
       "2            7.8              0.76         0.04             2.3      0.092   \n",
       "3           11.2              0.28         0.56             1.9      0.075   \n",
       "4            7.4              0.70         0.00             1.9      0.076   \n",
       "\n",
       "   free sulfur dioxide  total sulfur dioxide  density    pH  sulphates  \\\n",
       "0                 11.0                  34.0   0.9978  3.51       0.56   \n",
       "1                 25.0                  67.0   0.9968  3.20       0.68   \n",
       "2                 15.0                  54.0   0.9970  3.26       0.65   \n",
       "3                 17.0                  60.0   0.9980  3.16       0.58   \n",
       "4                 11.0                  34.0   0.9978  3.51       0.56   \n",
       "\n",
       "   alcohol  quality  Id  \n",
       "0      9.4        5   0  \n",
       "1      9.8        5   1  \n",
       "2      9.8        5   2  \n",
       "3      9.8        6   3  \n",
       "4      9.4        5   4  "
      ]
     },
     "execution_count": 4,
     "metadata": {},
     "output_type": "execute_result"
    }
   ],
   "source": [
    "data.head()"
   ]
  },
  {
   "cell_type": "code",
   "execution_count": 5,
   "id": "180d6df6",
   "metadata": {
    "execution": {
     "iopub.execute_input": "2022-01-26T16:20:42.880677Z",
     "iopub.status.busy": "2022-01-26T16:20:42.879918Z",
     "iopub.status.idle": "2022-01-26T16:20:42.891305Z",
     "shell.execute_reply": "2022-01-26T16:20:42.891895Z",
     "shell.execute_reply.started": "2022-01-26T16:19:51.316183Z"
    },
    "papermill": {
     "duration": 0.041204,
     "end_time": "2022-01-26T16:20:42.892078",
     "exception": false,
     "start_time": "2022-01-26T16:20:42.850874",
     "status": "completed"
    },
    "tags": []
   },
   "outputs": [
    {
     "data": {
      "text/plain": [
       "5    483\n",
       "6    462\n",
       "7    143\n",
       "4     33\n",
       "8     16\n",
       "3      6\n",
       "Name: quality, dtype: int64"
      ]
     },
     "execution_count": 5,
     "metadata": {},
     "output_type": "execute_result"
    }
   ],
   "source": [
    "data['quality'].value_counts()"
   ]
  },
  {
   "cell_type": "code",
   "execution_count": 6,
   "id": "52b595fc",
   "metadata": {
    "execution": {
     "iopub.execute_input": "2022-01-26T16:20:42.943093Z",
     "iopub.status.busy": "2022-01-26T16:20:42.942495Z",
     "iopub.status.idle": "2022-01-26T16:20:42.948617Z",
     "shell.execute_reply": "2022-01-26T16:20:42.949153Z",
     "shell.execute_reply.started": "2022-01-26T16:19:51.330015Z"
    },
    "papermill": {
     "duration": 0.032229,
     "end_time": "2022-01-26T16:20:42.949319",
     "exception": false,
     "start_time": "2022-01-26T16:20:42.917090",
     "status": "completed"
    },
    "tags": []
   },
   "outputs": [
    {
     "data": {
      "text/plain": [
       "fixed acidity           0\n",
       "volatile acidity        0\n",
       "citric acid             0\n",
       "residual sugar          0\n",
       "chlorides               0\n",
       "free sulfur dioxide     0\n",
       "total sulfur dioxide    0\n",
       "density                 0\n",
       "pH                      0\n",
       "sulphates               0\n",
       "alcohol                 0\n",
       "quality                 0\n",
       "Id                      0\n",
       "dtype: int64"
      ]
     },
     "execution_count": 6,
     "metadata": {},
     "output_type": "execute_result"
    }
   ],
   "source": [
    "data.isnull().sum()"
   ]
  },
  {
   "cell_type": "code",
   "execution_count": 7,
   "id": "ce2f0684",
   "metadata": {
    "execution": {
     "iopub.execute_input": "2022-01-26T16:20:42.999397Z",
     "iopub.status.busy": "2022-01-26T16:20:42.998812Z",
     "iopub.status.idle": "2022-01-26T16:20:43.014691Z",
     "shell.execute_reply": "2022-01-26T16:20:43.015369Z",
     "shell.execute_reply.started": "2022-01-26T16:19:51.342410Z"
    },
    "papermill": {
     "duration": 0.042359,
     "end_time": "2022-01-26T16:20:43.015608",
     "exception": false,
     "start_time": "2022-01-26T16:20:42.973249",
     "status": "completed"
    },
    "tags": []
   },
   "outputs": [
    {
     "name": "stdout",
     "output_type": "stream",
     "text": [
      "<class 'pandas.core.frame.DataFrame'>\n",
      "RangeIndex: 1143 entries, 0 to 1142\n",
      "Data columns (total 13 columns):\n",
      " #   Column                Non-Null Count  Dtype  \n",
      "---  ------                --------------  -----  \n",
      " 0   fixed acidity         1143 non-null   float64\n",
      " 1   volatile acidity      1143 non-null   float64\n",
      " 2   citric acid           1143 non-null   float64\n",
      " 3   residual sugar        1143 non-null   float64\n",
      " 4   chlorides             1143 non-null   float64\n",
      " 5   free sulfur dioxide   1143 non-null   float64\n",
      " 6   total sulfur dioxide  1143 non-null   float64\n",
      " 7   density               1143 non-null   float64\n",
      " 8   pH                    1143 non-null   float64\n",
      " 9   sulphates             1143 non-null   float64\n",
      " 10  alcohol               1143 non-null   float64\n",
      " 11  quality               1143 non-null   int64  \n",
      " 12  Id                    1143 non-null   int64  \n",
      "dtypes: float64(11), int64(2)\n",
      "memory usage: 116.2 KB\n"
     ]
    }
   ],
   "source": [
    "data.info()"
   ]
  },
  {
   "cell_type": "code",
   "execution_count": 8,
   "id": "4c7383af",
   "metadata": {
    "execution": {
     "iopub.execute_input": "2022-01-26T16:20:43.068142Z",
     "iopub.status.busy": "2022-01-26T16:20:43.067549Z",
     "iopub.status.idle": "2022-01-26T16:20:43.076645Z",
     "shell.execute_reply": "2022-01-26T16:20:43.077118Z",
     "shell.execute_reply.started": "2022-01-26T16:19:51.359917Z"
    },
    "papermill": {
     "duration": 0.036783,
     "end_time": "2022-01-26T16:20:43.077273",
     "exception": false,
     "start_time": "2022-01-26T16:20:43.040490",
     "status": "completed"
    },
    "tags": []
   },
   "outputs": [
    {
     "data": {
      "text/plain": [
       "False"
      ]
     },
     "execution_count": 8,
     "metadata": {},
     "output_type": "execute_result"
    }
   ],
   "source": [
    "data.duplicated().any()"
   ]
  },
  {
   "cell_type": "code",
   "execution_count": 9,
   "id": "e46c8e19",
   "metadata": {
    "execution": {
     "iopub.execute_input": "2022-01-26T16:20:43.127411Z",
     "iopub.status.busy": "2022-01-26T16:20:43.126749Z",
     "iopub.status.idle": "2022-01-26T16:20:43.132167Z",
     "shell.execute_reply": "2022-01-26T16:20:43.132659Z",
     "shell.execute_reply.started": "2022-01-26T16:19:51.378064Z"
    },
    "papermill": {
     "duration": 0.03195,
     "end_time": "2022-01-26T16:20:43.132847",
     "exception": false,
     "start_time": "2022-01-26T16:20:43.100897",
     "status": "completed"
    },
    "tags": []
   },
   "outputs": [],
   "source": [
    "data = data.drop('Id',axis=1)"
   ]
  },
  {
   "cell_type": "code",
   "execution_count": 10,
   "id": "be570b21",
   "metadata": {
    "execution": {
     "iopub.execute_input": "2022-01-26T16:20:43.184013Z",
     "iopub.status.busy": "2022-01-26T16:20:43.183431Z",
     "iopub.status.idle": "2022-01-26T16:20:43.187234Z",
     "shell.execute_reply": "2022-01-26T16:20:43.187680Z",
     "shell.execute_reply.started": "2022-01-26T16:19:51.385626Z"
    },
    "papermill": {
     "duration": 0.030469,
     "end_time": "2022-01-26T16:20:43.187850",
     "exception": false,
     "start_time": "2022-01-26T16:20:43.157381",
     "status": "completed"
    },
    "tags": []
   },
   "outputs": [],
   "source": [
    "X = data.iloc[:, :-1].values\n",
    "y = data.iloc[:, -1].values"
   ]
  },
  {
   "cell_type": "markdown",
   "id": "a0a7bbf9",
   "metadata": {
    "papermill": {
     "duration": 0.023415,
     "end_time": "2022-01-26T16:20:43.234854",
     "exception": false,
     "start_time": "2022-01-26T16:20:43.211439",
     "status": "completed"
    },
    "tags": []
   },
   "source": [
    "# Splitting the dataset into the Training set and Test set"
   ]
  },
  {
   "cell_type": "code",
   "execution_count": 11,
   "id": "0acc13dc",
   "metadata": {
    "execution": {
     "iopub.execute_input": "2022-01-26T16:20:43.284853Z",
     "iopub.status.busy": "2022-01-26T16:20:43.284284Z",
     "iopub.status.idle": "2022-01-26T16:20:43.455211Z",
     "shell.execute_reply": "2022-01-26T16:20:43.454504Z",
     "shell.execute_reply.started": "2022-01-26T16:19:51.396035Z"
    },
    "papermill": {
     "duration": 0.196962,
     "end_time": "2022-01-26T16:20:43.455372",
     "exception": false,
     "start_time": "2022-01-26T16:20:43.258410",
     "status": "completed"
    },
    "tags": []
   },
   "outputs": [],
   "source": [
    "from sklearn.model_selection import train_test_split\n",
    "X_train, X_test, y_train, y_test = train_test_split(X, y, test_size = 0.2, random_state = 0)"
   ]
  },
  {
   "cell_type": "markdown",
   "id": "5001f57c",
   "metadata": {
    "papermill": {
     "duration": 0.023405,
     "end_time": "2022-01-26T16:20:43.504896",
     "exception": false,
     "start_time": "2022-01-26T16:20:43.481491",
     "status": "completed"
    },
    "tags": []
   },
   "source": [
    "# Feature Scaling"
   ]
  },
  {
   "cell_type": "code",
   "execution_count": 12,
   "id": "6eccf440",
   "metadata": {
    "execution": {
     "iopub.execute_input": "2022-01-26T16:20:43.558588Z",
     "iopub.status.busy": "2022-01-26T16:20:43.557963Z",
     "iopub.status.idle": "2022-01-26T16:20:43.559220Z",
     "shell.execute_reply": "2022-01-26T16:20:43.559701Z",
     "shell.execute_reply.started": "2022-01-26T16:19:51.434083Z"
    },
    "papermill": {
     "duration": 0.0313,
     "end_time": "2022-01-26T16:20:43.559869",
     "exception": false,
     "start_time": "2022-01-26T16:20:43.528569",
     "status": "completed"
    },
    "tags": []
   },
   "outputs": [],
   "source": [
    "from sklearn.preprocessing import StandardScaler\n",
    "sc = StandardScaler()\n",
    "X_train = sc.fit_transform(X_train)\n",
    "X_test = sc.transform(X_test)"
   ]
  },
  {
   "cell_type": "code",
   "execution_count": 13,
   "id": "22393a1c",
   "metadata": {
    "execution": {
     "iopub.execute_input": "2022-01-26T16:20:43.610426Z",
     "iopub.status.busy": "2022-01-26T16:20:43.609813Z",
     "iopub.status.idle": "2022-01-26T16:20:43.613656Z",
     "shell.execute_reply": "2022-01-26T16:20:43.614219Z",
     "shell.execute_reply.started": "2022-01-26T16:19:51.443415Z"
    },
    "papermill": {
     "duration": 0.030677,
     "end_time": "2022-01-26T16:20:43.614374",
     "exception": false,
     "start_time": "2022-01-26T16:20:43.583697",
     "status": "completed"
    },
    "tags": []
   },
   "outputs": [
    {
     "data": {
      "text/plain": [
       "(914, 11)"
      ]
     },
     "execution_count": 13,
     "metadata": {},
     "output_type": "execute_result"
    }
   ],
   "source": [
    "X_train.shape"
   ]
  },
  {
   "cell_type": "markdown",
   "id": "217ecefd",
   "metadata": {
    "papermill": {
     "duration": 0.023634,
     "end_time": "2022-01-26T16:20:43.661980",
     "exception": false,
     "start_time": "2022-01-26T16:20:43.638346",
     "status": "completed"
    },
    "tags": []
   },
   "source": [
    "# Applying LDA - Linear Discriminant Analysis"
   ]
  },
  {
   "cell_type": "code",
   "execution_count": 14,
   "id": "ce097f22",
   "metadata": {
    "execution": {
     "iopub.execute_input": "2022-01-26T16:20:43.713295Z",
     "iopub.status.busy": "2022-01-26T16:20:43.712703Z",
     "iopub.status.idle": "2022-01-26T16:20:43.823705Z",
     "shell.execute_reply": "2022-01-26T16:20:43.822819Z",
     "shell.execute_reply.started": "2022-01-26T16:19:51.454493Z"
    },
    "papermill": {
     "duration": 0.137687,
     "end_time": "2022-01-26T16:20:43.823936",
     "exception": false,
     "start_time": "2022-01-26T16:20:43.686249",
     "status": "completed"
    },
    "tags": []
   },
   "outputs": [],
   "source": [
    "from sklearn.discriminant_analysis import LinearDiscriminantAnalysis as LDA\n",
    "lda = LDA(n_components = 2)\n",
    "X_train = lda.fit_transform(X_train, y_train)\n",
    "X_test = lda.transform(X_test)"
   ]
  },
  {
   "cell_type": "code",
   "execution_count": 15,
   "id": "20f8d9a2",
   "metadata": {
    "execution": {
     "iopub.execute_input": "2022-01-26T16:20:43.932331Z",
     "iopub.status.busy": "2022-01-26T16:20:43.931406Z",
     "iopub.status.idle": "2022-01-26T16:20:43.937756Z",
     "shell.execute_reply": "2022-01-26T16:20:43.939354Z",
     "shell.execute_reply.started": "2022-01-26T16:19:51.469039Z"
    },
    "papermill": {
     "duration": 0.068223,
     "end_time": "2022-01-26T16:20:43.939584",
     "exception": false,
     "start_time": "2022-01-26T16:20:43.871361",
     "status": "completed"
    },
    "tags": []
   },
   "outputs": [
    {
     "data": {
      "text/plain": [
       "((914, 2), (229, 2))"
      ]
     },
     "execution_count": 15,
     "metadata": {},
     "output_type": "execute_result"
    }
   ],
   "source": [
    "X_train.shape,X_test.shape"
   ]
  },
  {
   "cell_type": "markdown",
   "id": "bc694b4a",
   "metadata": {
    "papermill": {
     "duration": 0.028397,
     "end_time": "2022-01-26T16:20:43.998616",
     "exception": false,
     "start_time": "2022-01-26T16:20:43.970219",
     "status": "completed"
    },
    "tags": []
   },
   "source": [
    "# Training the Logistic Regression model on the Training set"
   ]
  },
  {
   "cell_type": "code",
   "execution_count": 16,
   "id": "7a3b48fc",
   "metadata": {
    "execution": {
     "iopub.execute_input": "2022-01-26T16:20:44.050458Z",
     "iopub.status.busy": "2022-01-26T16:20:44.049528Z",
     "iopub.status.idle": "2022-01-26T16:20:44.083873Z",
     "shell.execute_reply": "2022-01-26T16:20:44.083352Z",
     "shell.execute_reply.started": "2022-01-26T16:19:51.478534Z"
    },
    "papermill": {
     "duration": 0.061259,
     "end_time": "2022-01-26T16:20:44.084020",
     "exception": false,
     "start_time": "2022-01-26T16:20:44.022761",
     "status": "completed"
    },
    "tags": []
   },
   "outputs": [
    {
     "data": {
      "text/plain": [
       "LogisticRegression(random_state=0)"
      ]
     },
     "execution_count": 16,
     "metadata": {},
     "output_type": "execute_result"
    }
   ],
   "source": [
    "from sklearn.linear_model import LogisticRegression\n",
    "classifier = LogisticRegression(random_state = 0)\n",
    "classifier.fit(X_train, y_train)"
   ]
  },
  {
   "cell_type": "markdown",
   "id": "a044b083",
   "metadata": {
    "papermill": {
     "duration": 0.02403,
     "end_time": "2022-01-26T16:20:44.132402",
     "exception": false,
     "start_time": "2022-01-26T16:20:44.108372",
     "status": "completed"
    },
    "tags": []
   },
   "source": [
    "# Making the Confusion Matrix"
   ]
  },
  {
   "cell_type": "code",
   "execution_count": 17,
   "id": "46a4a9d8",
   "metadata": {
    "execution": {
     "iopub.execute_input": "2022-01-26T16:20:44.184590Z",
     "iopub.status.busy": "2022-01-26T16:20:44.183664Z",
     "iopub.status.idle": "2022-01-26T16:20:44.192229Z",
     "shell.execute_reply": "2022-01-26T16:20:44.193000Z",
     "shell.execute_reply.started": "2022-01-26T16:19:51.536449Z"
    },
    "papermill": {
     "duration": 0.03666,
     "end_time": "2022-01-26T16:20:44.193207",
     "exception": false,
     "start_time": "2022-01-26T16:20:44.156547",
     "status": "completed"
    },
    "tags": []
   },
   "outputs": [
    {
     "name": "stdout",
     "output_type": "stream",
     "text": [
      "[[ 0  1  0  0  0  0]\n",
      " [ 0  0  4  3  0  0]\n",
      " [ 0  0 83 17  0  0]\n",
      " [ 0  0 26 59  7  0]\n",
      " [ 0  0  1 16 10  0]\n",
      " [ 0  0  0  1  1  0]]\n"
     ]
    }
   ],
   "source": [
    "from sklearn.metrics import confusion_matrix, accuracy_score\n",
    "y_pred = classifier.predict(X_test)\n",
    "cm = confusion_matrix(y_test, y_pred)\n",
    "print(cm)\n",
    "acc1 = accuracy_score(y_test, y_pred)"
   ]
  },
  {
   "cell_type": "code",
   "execution_count": 18,
   "id": "9615f169",
   "metadata": {
    "execution": {
     "iopub.execute_input": "2022-01-26T16:20:44.246822Z",
     "iopub.status.busy": "2022-01-26T16:20:44.246264Z",
     "iopub.status.idle": "2022-01-26T16:20:44.250943Z",
     "shell.execute_reply": "2022-01-26T16:20:44.251588Z",
     "shell.execute_reply.started": "2022-01-26T16:19:51.546572Z"
    },
    "papermill": {
     "duration": 0.032741,
     "end_time": "2022-01-26T16:20:44.251808",
     "exception": false,
     "start_time": "2022-01-26T16:20:44.219067",
     "status": "completed"
    },
    "tags": []
   },
   "outputs": [
    {
     "name": "stdout",
     "output_type": "stream",
     "text": [
      "0.6637554585152838\n"
     ]
    }
   ],
   "source": [
    "print(acc1)"
   ]
  },
  {
   "cell_type": "markdown",
   "id": "ef2e21af",
   "metadata": {
    "papermill": {
     "duration": 0.025,
     "end_time": "2022-01-26T16:20:44.302705",
     "exception": false,
     "start_time": "2022-01-26T16:20:44.277705",
     "status": "completed"
    },
    "tags": []
   },
   "source": [
    "# Training the SVM model on the Training set"
   ]
  },
  {
   "cell_type": "code",
   "execution_count": 19,
   "id": "5055c98e",
   "metadata": {
    "execution": {
     "iopub.execute_input": "2022-01-26T16:20:44.357705Z",
     "iopub.status.busy": "2022-01-26T16:20:44.357126Z",
     "iopub.status.idle": "2022-01-26T16:20:44.379355Z",
     "shell.execute_reply": "2022-01-26T16:20:44.378898Z",
     "shell.execute_reply.started": "2022-01-26T16:19:51.561261Z"
    },
    "papermill": {
     "duration": 0.051575,
     "end_time": "2022-01-26T16:20:44.379486",
     "exception": false,
     "start_time": "2022-01-26T16:20:44.327911",
     "status": "completed"
    },
    "tags": []
   },
   "outputs": [
    {
     "data": {
      "text/plain": [
       "SVC(kernel='linear', random_state=0)"
      ]
     },
     "execution_count": 19,
     "metadata": {},
     "output_type": "execute_result"
    }
   ],
   "source": [
    "from sklearn.svm import SVC\n",
    "classifier = SVC(kernel = 'linear', random_state = 0)\n",
    "classifier.fit(X_train, y_train)"
   ]
  },
  {
   "cell_type": "markdown",
   "id": "4d68f8af",
   "metadata": {
    "papermill": {
     "duration": 0.024646,
     "end_time": "2022-01-26T16:20:44.429495",
     "exception": false,
     "start_time": "2022-01-26T16:20:44.404849",
     "status": "completed"
    },
    "tags": []
   },
   "source": [
    "# Predict the test result"
   ]
  },
  {
   "cell_type": "code",
   "execution_count": 20,
   "id": "9c7dc856",
   "metadata": {
    "execution": {
     "iopub.execute_input": "2022-01-26T16:20:44.483115Z",
     "iopub.status.busy": "2022-01-26T16:20:44.482465Z",
     "iopub.status.idle": "2022-01-26T16:20:44.488274Z",
     "shell.execute_reply": "2022-01-26T16:20:44.488684Z",
     "shell.execute_reply.started": "2022-01-26T16:19:51.597000Z"
    },
    "papermill": {
     "duration": 0.034234,
     "end_time": "2022-01-26T16:20:44.488850",
     "exception": false,
     "start_time": "2022-01-26T16:20:44.454616",
     "status": "completed"
    },
    "tags": []
   },
   "outputs": [],
   "source": [
    "y_pred = classifier.predict(X_test)"
   ]
  },
  {
   "cell_type": "code",
   "execution_count": 21,
   "id": "437fd6fc",
   "metadata": {
    "execution": {
     "iopub.execute_input": "2022-01-26T16:20:44.543826Z",
     "iopub.status.busy": "2022-01-26T16:20:44.543148Z",
     "iopub.status.idle": "2022-01-26T16:20:44.546526Z",
     "shell.execute_reply": "2022-01-26T16:20:44.547193Z",
     "shell.execute_reply.started": "2022-01-26T16:19:51.608590Z"
    },
    "papermill": {
     "duration": 0.033504,
     "end_time": "2022-01-26T16:20:44.547396",
     "exception": false,
     "start_time": "2022-01-26T16:20:44.513892",
     "status": "completed"
    },
    "tags": []
   },
   "outputs": [
    {
     "name": "stdout",
     "output_type": "stream",
     "text": [
      "[5 5 5 5 5 6 5 6 6 6 5 6 5 5 6 5 6 5 5 5 6 5 5 5 5 5 5 6 6 5 5 6 6 6 6 5 6\n",
      " 6 5 6 5 6 5 6 5 5 5 6 6 6 5 6 6 6 5 5 6 5 5 6 5 5 6 5 5 5 6 5 6 6 5 6 6 6\n",
      " 6 6 6 6 5 6 5 5 6 5 6 5 5 5 5 6 6 6 5 5 6 5 5 5 5 5 5 5 6 5 6 6 5 6 5 5 5\n",
      " 6 5 6 5 5 5 6 6 6 6 5 5 6 6 6 6 6 5 6 6 6 6 5 5 6 5 6 5 5 6 6 6 6 5 5 6 6\n",
      " 6 5 5 6 6 6 5 5 6 6 5 6 5 6 5 5 5 6 6 6 6 5 5 5 5 6 6 6 6 5 5 6 5 5 5 5 5\n",
      " 5 5 6 5 6 6 6 5 5 6 5 5 6 5 6 6 6 6 6 6 6 5 5 5 5 6 6 6 6 5 5 6 6 5 6 6 6\n",
      " 5 5 6 6 6 5 5]\n"
     ]
    }
   ],
   "source": [
    "print(y_pred)"
   ]
  },
  {
   "cell_type": "markdown",
   "id": "0e2c25a2",
   "metadata": {
    "papermill": {
     "duration": 0.025346,
     "end_time": "2022-01-26T16:20:44.599156",
     "exception": false,
     "start_time": "2022-01-26T16:20:44.573810",
     "status": "completed"
    },
    "tags": []
   },
   "source": [
    "# Making the confusion matrix"
   ]
  },
  {
   "cell_type": "code",
   "execution_count": 22,
   "id": "1536af04",
   "metadata": {
    "execution": {
     "iopub.execute_input": "2022-01-26T16:20:44.652864Z",
     "iopub.status.busy": "2022-01-26T16:20:44.652306Z",
     "iopub.status.idle": "2022-01-26T16:20:44.657920Z",
     "shell.execute_reply": "2022-01-26T16:20:44.658688Z",
     "shell.execute_reply.started": "2022-01-26T16:19:51.617279Z"
    },
    "papermill": {
     "duration": 0.034557,
     "end_time": "2022-01-26T16:20:44.658918",
     "exception": false,
     "start_time": "2022-01-26T16:20:44.624361",
     "status": "completed"
    },
    "tags": []
   },
   "outputs": [
    {
     "name": "stdout",
     "output_type": "stream",
     "text": [
      "[[ 0  0  1  0  0  0]\n",
      " [ 0  0  4  3  0  0]\n",
      " [ 0  0 83 17  0  0]\n",
      " [ 0  0 26 66  0  0]\n",
      " [ 0  0  1 26  0  0]\n",
      " [ 0  0  0  2  0  0]]\n"
     ]
    }
   ],
   "source": [
    "from sklearn.metrics import confusion_matrix, accuracy_score\n",
    "cm = confusion_matrix(y_test, y_pred)\n",
    "print(cm)\n",
    "acc2 = accuracy_score(y_test, y_pred)"
   ]
  },
  {
   "cell_type": "code",
   "execution_count": 23,
   "id": "e8c9e371",
   "metadata": {
    "execution": {
     "iopub.execute_input": "2022-01-26T16:20:44.714495Z",
     "iopub.status.busy": "2022-01-26T16:20:44.713926Z",
     "iopub.status.idle": "2022-01-26T16:20:44.718295Z",
     "shell.execute_reply": "2022-01-26T16:20:44.717839Z",
     "shell.execute_reply.started": "2022-01-26T16:19:51.629887Z"
    },
    "papermill": {
     "duration": 0.032927,
     "end_time": "2022-01-26T16:20:44.718418",
     "exception": false,
     "start_time": "2022-01-26T16:20:44.685491",
     "status": "completed"
    },
    "tags": []
   },
   "outputs": [
    {
     "name": "stdout",
     "output_type": "stream",
     "text": [
      "0.6506550218340611\n"
     ]
    }
   ],
   "source": [
    "print(acc2)"
   ]
  },
  {
   "cell_type": "markdown",
   "id": "0f73325f",
   "metadata": {
    "papermill": {
     "duration": 0.02566,
     "end_time": "2022-01-26T16:20:44.770249",
     "exception": false,
     "start_time": "2022-01-26T16:20:44.744589",
     "status": "completed"
    },
    "tags": []
   },
   "source": [
    "# XG Boost model"
   ]
  },
  {
   "cell_type": "code",
   "execution_count": 24,
   "id": "04dd10ca",
   "metadata": {
    "execution": {
     "iopub.execute_input": "2022-01-26T16:20:44.825219Z",
     "iopub.status.busy": "2022-01-26T16:20:44.824673Z",
     "iopub.status.idle": "2022-01-26T16:20:45.633681Z",
     "shell.execute_reply": "2022-01-26T16:20:45.634164Z",
     "shell.execute_reply.started": "2022-01-26T16:19:51.639908Z"
    },
    "papermill": {
     "duration": 0.838079,
     "end_time": "2022-01-26T16:20:45.634327",
     "exception": false,
     "start_time": "2022-01-26T16:20:44.796248",
     "status": "completed"
    },
    "tags": []
   },
   "outputs": [
    {
     "name": "stderr",
     "output_type": "stream",
     "text": [
      "/opt/conda/lib/python3.7/site-packages/xgboost/sklearn.py:1224: UserWarning: The use of label encoder in XGBClassifier is deprecated and will be removed in a future release. To remove this warning, do the following: 1) Pass option use_label_encoder=False when constructing XGBClassifier object; and 2) Encode your labels (y) as integers starting with 0, i.e. 0, 1, 2, ..., [num_class - 1].\n",
      "  warnings.warn(label_encoder_deprecation_msg, UserWarning)\n"
     ]
    },
    {
     "name": "stdout",
     "output_type": "stream",
     "text": [
      "[16:20:44] WARNING: ../src/learner.cc:1115: Starting in XGBoost 1.3.0, the default evaluation metric used with the objective 'multi:softprob' was changed from 'merror' to 'mlogloss'. Explicitly set eval_metric if you'd like to restore the old behavior.\n"
     ]
    },
    {
     "data": {
      "text/plain": [
       "XGBClassifier(base_score=0.5, booster='gbtree', colsample_bylevel=1,\n",
       "              colsample_bynode=1, colsample_bytree=1, enable_categorical=False,\n",
       "              gamma=0, gpu_id=-1, importance_type=None,\n",
       "              interaction_constraints='', learning_rate=0.300000012,\n",
       "              max_delta_step=0, max_depth=6, min_child_weight=1, missing=nan,\n",
       "              monotone_constraints='()', n_estimators=100, n_jobs=4,\n",
       "              num_parallel_tree=1, objective='multi:softprob', predictor='auto',\n",
       "              random_state=0, reg_alpha=0, reg_lambda=1, scale_pos_weight=None,\n",
       "              subsample=1, tree_method='exact', validate_parameters=1,\n",
       "              verbosity=None)"
      ]
     },
     "execution_count": 24,
     "metadata": {},
     "output_type": "execute_result"
    }
   ],
   "source": [
    "from xgboost import XGBClassifier\n",
    "classifier = XGBClassifier()\n",
    "classifier.fit(X_train, y_train)"
   ]
  },
  {
   "cell_type": "code",
   "execution_count": 25,
   "id": "12c828ce",
   "metadata": {
    "execution": {
     "iopub.execute_input": "2022-01-26T16:20:45.690650Z",
     "iopub.status.busy": "2022-01-26T16:20:45.690078Z",
     "iopub.status.idle": "2022-01-26T16:20:45.703369Z",
     "shell.execute_reply": "2022-01-26T16:20:45.704016Z",
     "shell.execute_reply.started": "2022-01-26T16:19:52.324459Z"
    },
    "papermill": {
     "duration": 0.043143,
     "end_time": "2022-01-26T16:20:45.704239",
     "exception": false,
     "start_time": "2022-01-26T16:20:45.661096",
     "status": "completed"
    },
    "tags": []
   },
   "outputs": [
    {
     "name": "stdout",
     "output_type": "stream",
     "text": [
      "[[ 0  0  1  0  0  0]\n",
      " [ 0  0  5  1  1  0]\n",
      " [ 0  1 75 22  2  0]\n",
      " [ 0  0 18 62 11  1]\n",
      " [ 0  1  3 12 10  1]\n",
      " [ 0  0  0  1  1  0]]\n"
     ]
    }
   ],
   "source": [
    "from sklearn.metrics import confusion_matrix, accuracy_score\n",
    "y_pred = classifier.predict(X_test)\n",
    "cm = confusion_matrix(y_test, y_pred)\n",
    "print(cm)\n",
    "acc3 = accuracy_score(y_test, y_pred)"
   ]
  },
  {
   "cell_type": "code",
   "execution_count": 26,
   "id": "458f4210",
   "metadata": {
    "execution": {
     "iopub.execute_input": "2022-01-26T16:20:45.763030Z",
     "iopub.status.busy": "2022-01-26T16:20:45.762118Z",
     "iopub.status.idle": "2022-01-26T16:20:45.767891Z",
     "shell.execute_reply": "2022-01-26T16:20:45.767351Z",
     "shell.execute_reply.started": "2022-01-26T16:19:52.337095Z"
    },
    "papermill": {
     "duration": 0.035918,
     "end_time": "2022-01-26T16:20:45.768027",
     "exception": false,
     "start_time": "2022-01-26T16:20:45.732109",
     "status": "completed"
    },
    "tags": []
   },
   "outputs": [
    {
     "name": "stdout",
     "output_type": "stream",
     "text": [
      "0.6419213973799127\n"
     ]
    }
   ],
   "source": [
    "print(acc3)"
   ]
  },
  {
   "cell_type": "markdown",
   "id": "0d718166",
   "metadata": {
    "papermill": {
     "duration": 0.027901,
     "end_time": "2022-01-26T16:20:45.823616",
     "exception": false,
     "start_time": "2022-01-26T16:20:45.795715",
     "status": "completed"
    },
    "tags": []
   },
   "source": [
    "# Training CatBoost on the Training set"
   ]
  },
  {
   "cell_type": "code",
   "execution_count": 27,
   "id": "95fcdc78",
   "metadata": {
    "execution": {
     "iopub.execute_input": "2022-01-26T16:20:45.882961Z",
     "iopub.status.busy": "2022-01-26T16:20:45.882052Z",
     "iopub.status.idle": "2022-01-26T16:20:48.781635Z",
     "shell.execute_reply": "2022-01-26T16:20:48.781002Z",
     "shell.execute_reply.started": "2022-01-26T16:19:52.343243Z"
    },
    "papermill": {
     "duration": 2.929891,
     "end_time": "2022-01-26T16:20:48.781792",
     "exception": false,
     "start_time": "2022-01-26T16:20:45.851901",
     "status": "completed"
    },
    "tags": []
   },
   "outputs": [
    {
     "name": "stdout",
     "output_type": "stream",
     "text": [
      "Learning rate set to 0.078765\n",
      "0:\tlearn: 1.6832227\ttotal: 54.4ms\tremaining: 54.4s\n",
      "1:\tlearn: 1.5957787\ttotal: 57ms\tremaining: 28.4s\n",
      "2:\tlearn: 1.5143430\ttotal: 60ms\tremaining: 19.9s\n",
      "3:\tlearn: 1.4544853\ttotal: 62.9ms\tremaining: 15.7s\n",
      "4:\tlearn: 1.4004774\ttotal: 65.8ms\tremaining: 13.1s\n",
      "5:\tlearn: 1.3539487\ttotal: 68.7ms\tremaining: 11.4s\n",
      "6:\tlearn: 1.3122308\ttotal: 71.7ms\tremaining: 10.2s\n",
      "7:\tlearn: 1.2721867\ttotal: 74.6ms\tremaining: 9.25s\n",
      "8:\tlearn: 1.2396100\ttotal: 77.3ms\tremaining: 8.52s\n",
      "9:\tlearn: 1.2107703\ttotal: 80.1ms\tremaining: 7.93s\n",
      "10:\tlearn: 1.1860580\ttotal: 83ms\tremaining: 7.46s\n",
      "11:\tlearn: 1.1616349\ttotal: 85.9ms\tremaining: 7.07s\n",
      "12:\tlearn: 1.1393688\ttotal: 88.8ms\tremaining: 6.74s\n",
      "13:\tlearn: 1.1194135\ttotal: 91.7ms\tremaining: 6.46s\n",
      "14:\tlearn: 1.1014847\ttotal: 94.5ms\tremaining: 6.21s\n",
      "15:\tlearn: 1.0855759\ttotal: 97.5ms\tremaining: 6s\n",
      "16:\tlearn: 1.0699938\ttotal: 100ms\tremaining: 5.8s\n",
      "17:\tlearn: 1.0562162\ttotal: 103ms\tremaining: 5.63s\n",
      "18:\tlearn: 1.0430816\ttotal: 106ms\tremaining: 5.47s\n",
      "19:\tlearn: 1.0316775\ttotal: 109ms\tremaining: 5.34s\n",
      "20:\tlearn: 1.0207571\ttotal: 112ms\tremaining: 5.22s\n",
      "21:\tlearn: 1.0117398\ttotal: 115ms\tremaining: 5.11s\n",
      "22:\tlearn: 1.0023560\ttotal: 118ms\tremaining: 5.01s\n",
      "23:\tlearn: 0.9936054\ttotal: 120ms\tremaining: 4.9s\n",
      "24:\tlearn: 0.9858436\ttotal: 123ms\tremaining: 4.79s\n",
      "25:\tlearn: 0.9786885\ttotal: 125ms\tremaining: 4.69s\n",
      "26:\tlearn: 0.9711136\ttotal: 127ms\tremaining: 4.59s\n",
      "27:\tlearn: 0.9650569\ttotal: 130ms\tremaining: 4.5s\n",
      "28:\tlearn: 0.9592755\ttotal: 132ms\tremaining: 4.42s\n",
      "29:\tlearn: 0.9541602\ttotal: 134ms\tremaining: 4.34s\n",
      "30:\tlearn: 0.9485242\ttotal: 137ms\tremaining: 4.28s\n",
      "31:\tlearn: 0.9442771\ttotal: 139ms\tremaining: 4.2s\n",
      "32:\tlearn: 0.9393784\ttotal: 141ms\tremaining: 4.14s\n",
      "33:\tlearn: 0.9349278\ttotal: 143ms\tremaining: 4.08s\n",
      "34:\tlearn: 0.9306709\ttotal: 146ms\tremaining: 4.02s\n",
      "35:\tlearn: 0.9268808\ttotal: 148ms\tremaining: 3.97s\n",
      "36:\tlearn: 0.9237694\ttotal: 151ms\tremaining: 3.92s\n",
      "37:\tlearn: 0.9199190\ttotal: 153ms\tremaining: 3.88s\n",
      "38:\tlearn: 0.9169478\ttotal: 156ms\tremaining: 3.83s\n",
      "39:\tlearn: 0.9141305\ttotal: 158ms\tremaining: 3.8s\n",
      "40:\tlearn: 0.9111537\ttotal: 161ms\tremaining: 3.76s\n",
      "41:\tlearn: 0.9082011\ttotal: 163ms\tremaining: 3.72s\n",
      "42:\tlearn: 0.9046781\ttotal: 165ms\tremaining: 3.68s\n",
      "43:\tlearn: 0.9020996\ttotal: 168ms\tremaining: 3.65s\n",
      "44:\tlearn: 0.8996326\ttotal: 171ms\tremaining: 3.62s\n",
      "45:\tlearn: 0.8974044\ttotal: 174ms\tremaining: 3.6s\n",
      "46:\tlearn: 0.8948156\ttotal: 177ms\tremaining: 3.58s\n",
      "47:\tlearn: 0.8925094\ttotal: 179ms\tremaining: 3.55s\n",
      "48:\tlearn: 0.8899332\ttotal: 182ms\tremaining: 3.53s\n",
      "49:\tlearn: 0.8882225\ttotal: 184ms\tremaining: 3.5s\n",
      "50:\tlearn: 0.8862594\ttotal: 187ms\tremaining: 3.47s\n",
      "51:\tlearn: 0.8843021\ttotal: 189ms\tremaining: 3.44s\n",
      "52:\tlearn: 0.8828433\ttotal: 193ms\tremaining: 3.45s\n",
      "53:\tlearn: 0.8806693\ttotal: 197ms\tremaining: 3.45s\n",
      "54:\tlearn: 0.8790862\ttotal: 200ms\tremaining: 3.43s\n",
      "55:\tlearn: 0.8775815\ttotal: 202ms\tremaining: 3.41s\n",
      "56:\tlearn: 0.8757195\ttotal: 205ms\tremaining: 3.38s\n",
      "57:\tlearn: 0.8742425\ttotal: 207ms\tremaining: 3.36s\n",
      "58:\tlearn: 0.8724606\ttotal: 209ms\tremaining: 3.34s\n",
      "59:\tlearn: 0.8702553\ttotal: 212ms\tremaining: 3.32s\n",
      "60:\tlearn: 0.8686452\ttotal: 214ms\tremaining: 3.3s\n",
      "61:\tlearn: 0.8672682\ttotal: 216ms\tremaining: 3.27s\n",
      "62:\tlearn: 0.8654994\ttotal: 219ms\tremaining: 3.25s\n",
      "63:\tlearn: 0.8638882\ttotal: 221ms\tremaining: 3.23s\n",
      "64:\tlearn: 0.8627921\ttotal: 223ms\tremaining: 3.21s\n",
      "65:\tlearn: 0.8615455\ttotal: 226ms\tremaining: 3.19s\n",
      "66:\tlearn: 0.8601804\ttotal: 228ms\tremaining: 3.18s\n",
      "67:\tlearn: 0.8581326\ttotal: 230ms\tremaining: 3.16s\n",
      "68:\tlearn: 0.8566384\ttotal: 233ms\tremaining: 3.14s\n",
      "69:\tlearn: 0.8555224\ttotal: 235ms\tremaining: 3.12s\n",
      "70:\tlearn: 0.8542379\ttotal: 237ms\tremaining: 3.1s\n",
      "71:\tlearn: 0.8528135\ttotal: 239ms\tremaining: 3.08s\n",
      "72:\tlearn: 0.8513831\ttotal: 242ms\tremaining: 3.07s\n",
      "73:\tlearn: 0.8503388\ttotal: 244ms\tremaining: 3.05s\n",
      "74:\tlearn: 0.8493041\ttotal: 246ms\tremaining: 3.04s\n",
      "75:\tlearn: 0.8478245\ttotal: 249ms\tremaining: 3.02s\n",
      "76:\tlearn: 0.8465527\ttotal: 251ms\tremaining: 3s\n",
      "77:\tlearn: 0.8450315\ttotal: 253ms\tremaining: 2.99s\n",
      "78:\tlearn: 0.8440674\ttotal: 255ms\tremaining: 2.98s\n",
      "79:\tlearn: 0.8431168\ttotal: 258ms\tremaining: 2.96s\n",
      "80:\tlearn: 0.8422124\ttotal: 260ms\tremaining: 2.95s\n",
      "81:\tlearn: 0.8410461\ttotal: 262ms\tremaining: 2.93s\n",
      "82:\tlearn: 0.8402072\ttotal: 264ms\tremaining: 2.92s\n",
      "83:\tlearn: 0.8392966\ttotal: 266ms\tremaining: 2.9s\n",
      "84:\tlearn: 0.8381269\ttotal: 268ms\tremaining: 2.89s\n",
      "85:\tlearn: 0.8367454\ttotal: 271ms\tremaining: 2.88s\n",
      "86:\tlearn: 0.8355466\ttotal: 273ms\tremaining: 2.86s\n",
      "87:\tlearn: 0.8345165\ttotal: 275ms\tremaining: 2.85s\n",
      "88:\tlearn: 0.8331270\ttotal: 277ms\tremaining: 2.84s\n",
      "89:\tlearn: 0.8317021\ttotal: 280ms\tremaining: 2.83s\n",
      "90:\tlearn: 0.8310645\ttotal: 282ms\tremaining: 2.81s\n",
      "91:\tlearn: 0.8298759\ttotal: 284ms\tremaining: 2.8s\n",
      "92:\tlearn: 0.8288640\ttotal: 286ms\tremaining: 2.79s\n",
      "93:\tlearn: 0.8273251\ttotal: 288ms\tremaining: 2.78s\n",
      "94:\tlearn: 0.8256978\ttotal: 291ms\tremaining: 2.77s\n",
      "95:\tlearn: 0.8243203\ttotal: 293ms\tremaining: 2.76s\n",
      "96:\tlearn: 0.8232411\ttotal: 295ms\tremaining: 2.75s\n",
      "97:\tlearn: 0.8219292\ttotal: 298ms\tremaining: 2.74s\n",
      "98:\tlearn: 0.8211363\ttotal: 301ms\tremaining: 2.74s\n",
      "99:\tlearn: 0.8202568\ttotal: 304ms\tremaining: 2.73s\n",
      "100:\tlearn: 0.8192653\ttotal: 307ms\tremaining: 2.73s\n",
      "101:\tlearn: 0.8186640\ttotal: 310ms\tremaining: 2.73s\n",
      "102:\tlearn: 0.8179524\ttotal: 313ms\tremaining: 2.72s\n",
      "103:\tlearn: 0.8171934\ttotal: 315ms\tremaining: 2.72s\n",
      "104:\tlearn: 0.8161646\ttotal: 318ms\tremaining: 2.71s\n",
      "105:\tlearn: 0.8151960\ttotal: 321ms\tremaining: 2.71s\n",
      "106:\tlearn: 0.8140663\ttotal: 324ms\tremaining: 2.71s\n",
      "107:\tlearn: 0.8133733\ttotal: 327ms\tremaining: 2.7s\n",
      "108:\tlearn: 0.8124196\ttotal: 330ms\tremaining: 2.7s\n",
      "109:\tlearn: 0.8112092\ttotal: 333ms\tremaining: 2.69s\n",
      "110:\tlearn: 0.8094797\ttotal: 336ms\tremaining: 2.69s\n",
      "111:\tlearn: 0.8085723\ttotal: 339ms\tremaining: 2.68s\n",
      "112:\tlearn: 0.8077462\ttotal: 342ms\tremaining: 2.68s\n",
      "113:\tlearn: 0.8070822\ttotal: 344ms\tremaining: 2.68s\n",
      "114:\tlearn: 0.8057277\ttotal: 347ms\tremaining: 2.67s\n",
      "115:\tlearn: 0.8047086\ttotal: 350ms\tremaining: 2.67s\n",
      "116:\tlearn: 0.8040229\ttotal: 353ms\tremaining: 2.66s\n",
      "117:\tlearn: 0.8029622\ttotal: 356ms\tremaining: 2.66s\n",
      "118:\tlearn: 0.8020963\ttotal: 358ms\tremaining: 2.65s\n",
      "119:\tlearn: 0.8012998\ttotal: 361ms\tremaining: 2.65s\n",
      "120:\tlearn: 0.8003026\ttotal: 364ms\tremaining: 2.65s\n",
      "121:\tlearn: 0.7991018\ttotal: 367ms\tremaining: 2.64s\n",
      "122:\tlearn: 0.7977609\ttotal: 370ms\tremaining: 2.64s\n",
      "123:\tlearn: 0.7964746\ttotal: 373ms\tremaining: 2.64s\n",
      "124:\tlearn: 0.7950984\ttotal: 376ms\tremaining: 2.63s\n",
      "125:\tlearn: 0.7943530\ttotal: 379ms\tremaining: 2.63s\n",
      "126:\tlearn: 0.7935467\ttotal: 381ms\tremaining: 2.62s\n",
      "127:\tlearn: 0.7928439\ttotal: 384ms\tremaining: 2.61s\n",
      "128:\tlearn: 0.7919421\ttotal: 387ms\tremaining: 2.61s\n",
      "129:\tlearn: 0.7911279\ttotal: 390ms\tremaining: 2.61s\n",
      "130:\tlearn: 0.7898434\ttotal: 393ms\tremaining: 2.6s\n",
      "131:\tlearn: 0.7888086\ttotal: 395ms\tremaining: 2.6s\n",
      "132:\tlearn: 0.7879207\ttotal: 397ms\tremaining: 2.59s\n",
      "133:\tlearn: 0.7868373\ttotal: 400ms\tremaining: 2.58s\n",
      "134:\tlearn: 0.7858409\ttotal: 402ms\tremaining: 2.58s\n",
      "135:\tlearn: 0.7844385\ttotal: 404ms\tremaining: 2.57s\n",
      "136:\tlearn: 0.7835356\ttotal: 407ms\tremaining: 2.56s\n",
      "137:\tlearn: 0.7823905\ttotal: 409ms\tremaining: 2.55s\n",
      "138:\tlearn: 0.7812982\ttotal: 411ms\tremaining: 2.55s\n",
      "139:\tlearn: 0.7804960\ttotal: 414ms\tremaining: 2.54s\n",
      "140:\tlearn: 0.7795107\ttotal: 416ms\tremaining: 2.53s\n",
      "141:\tlearn: 0.7782879\ttotal: 418ms\tremaining: 2.53s\n",
      "142:\tlearn: 0.7771132\ttotal: 420ms\tremaining: 2.52s\n",
      "143:\tlearn: 0.7762785\ttotal: 423ms\tremaining: 2.51s\n",
      "144:\tlearn: 0.7754476\ttotal: 425ms\tremaining: 2.51s\n",
      "145:\tlearn: 0.7743780\ttotal: 428ms\tremaining: 2.5s\n",
      "146:\tlearn: 0.7730648\ttotal: 430ms\tremaining: 2.49s\n",
      "147:\tlearn: 0.7718678\ttotal: 432ms\tremaining: 2.49s\n",
      "148:\tlearn: 0.7709829\ttotal: 434ms\tremaining: 2.48s\n",
      "149:\tlearn: 0.7702441\ttotal: 437ms\tremaining: 2.48s\n",
      "150:\tlearn: 0.7695402\ttotal: 440ms\tremaining: 2.47s\n",
      "151:\tlearn: 0.7689383\ttotal: 442ms\tremaining: 2.47s\n",
      "152:\tlearn: 0.7683184\ttotal: 445ms\tremaining: 2.46s\n",
      "153:\tlearn: 0.7677684\ttotal: 447ms\tremaining: 2.46s\n",
      "154:\tlearn: 0.7668343\ttotal: 449ms\tremaining: 2.45s\n",
      "155:\tlearn: 0.7661636\ttotal: 452ms\tremaining: 2.44s\n",
      "156:\tlearn: 0.7651123\ttotal: 454ms\tremaining: 2.44s\n",
      "157:\tlearn: 0.7644049\ttotal: 456ms\tremaining: 2.43s\n",
      "158:\tlearn: 0.7636500\ttotal: 459ms\tremaining: 2.43s\n",
      "159:\tlearn: 0.7627444\ttotal: 461ms\tremaining: 2.42s\n",
      "160:\tlearn: 0.7619750\ttotal: 463ms\tremaining: 2.41s\n",
      "161:\tlearn: 0.7613618\ttotal: 466ms\tremaining: 2.41s\n",
      "162:\tlearn: 0.7602574\ttotal: 468ms\tremaining: 2.4s\n",
      "163:\tlearn: 0.7589507\ttotal: 470ms\tremaining: 2.4s\n",
      "164:\tlearn: 0.7578987\ttotal: 473ms\tremaining: 2.39s\n",
      "165:\tlearn: 0.7567488\ttotal: 475ms\tremaining: 2.39s\n",
      "166:\tlearn: 0.7555899\ttotal: 477ms\tremaining: 2.38s\n",
      "167:\tlearn: 0.7549024\ttotal: 480ms\tremaining: 2.37s\n",
      "168:\tlearn: 0.7542839\ttotal: 482ms\tremaining: 2.37s\n",
      "169:\tlearn: 0.7533600\ttotal: 484ms\tremaining: 2.36s\n",
      "170:\tlearn: 0.7522786\ttotal: 487ms\tremaining: 2.36s\n",
      "171:\tlearn: 0.7514740\ttotal: 489ms\tremaining: 2.35s\n",
      "172:\tlearn: 0.7501879\ttotal: 492ms\tremaining: 2.35s\n",
      "173:\tlearn: 0.7493730\ttotal: 494ms\tremaining: 2.35s\n",
      "174:\tlearn: 0.7484448\ttotal: 496ms\tremaining: 2.34s\n",
      "175:\tlearn: 0.7478466\ttotal: 499ms\tremaining: 2.33s\n",
      "176:\tlearn: 0.7473885\ttotal: 501ms\tremaining: 2.33s\n",
      "177:\tlearn: 0.7462268\ttotal: 504ms\tremaining: 2.33s\n",
      "178:\tlearn: 0.7455631\ttotal: 506ms\tremaining: 2.32s\n",
      "179:\tlearn: 0.7445805\ttotal: 509ms\tremaining: 2.32s\n",
      "180:\tlearn: 0.7439932\ttotal: 511ms\tremaining: 2.31s\n",
      "181:\tlearn: 0.7432058\ttotal: 513ms\tremaining: 2.31s\n",
      "182:\tlearn: 0.7423257\ttotal: 516ms\tremaining: 2.3s\n",
      "183:\tlearn: 0.7416932\ttotal: 518ms\tremaining: 2.3s\n",
      "184:\tlearn: 0.7402034\ttotal: 520ms\tremaining: 2.29s\n",
      "185:\tlearn: 0.7395452\ttotal: 523ms\tremaining: 2.29s\n",
      "186:\tlearn: 0.7381520\ttotal: 525ms\tremaining: 2.28s\n",
      "187:\tlearn: 0.7372300\ttotal: 527ms\tremaining: 2.28s\n",
      "188:\tlearn: 0.7364306\ttotal: 529ms\tremaining: 2.27s\n",
      "189:\tlearn: 0.7357373\ttotal: 532ms\tremaining: 2.27s\n",
      "190:\tlearn: 0.7350445\ttotal: 534ms\tremaining: 2.26s\n",
      "191:\tlearn: 0.7341652\ttotal: 537ms\tremaining: 2.26s\n",
      "192:\tlearn: 0.7333094\ttotal: 539ms\tremaining: 2.25s\n",
      "193:\tlearn: 0.7324719\ttotal: 542ms\tremaining: 2.25s\n",
      "194:\tlearn: 0.7315606\ttotal: 544ms\tremaining: 2.24s\n",
      "195:\tlearn: 0.7306310\ttotal: 546ms\tremaining: 2.24s\n",
      "196:\tlearn: 0.7298223\ttotal: 548ms\tremaining: 2.23s\n",
      "197:\tlearn: 0.7292954\ttotal: 551ms\tremaining: 2.23s\n",
      "198:\tlearn: 0.7286476\ttotal: 553ms\tremaining: 2.23s\n",
      "199:\tlearn: 0.7273970\ttotal: 555ms\tremaining: 2.22s\n",
      "200:\tlearn: 0.7266588\ttotal: 558ms\tremaining: 2.22s\n",
      "201:\tlearn: 0.7258660\ttotal: 560ms\tremaining: 2.21s\n",
      "202:\tlearn: 0.7251688\ttotal: 562ms\tremaining: 2.21s\n",
      "203:\tlearn: 0.7244003\ttotal: 565ms\tremaining: 2.2s\n",
      "204:\tlearn: 0.7235868\ttotal: 567ms\tremaining: 2.2s\n",
      "205:\tlearn: 0.7222647\ttotal: 569ms\tremaining: 2.19s\n",
      "206:\tlearn: 0.7215417\ttotal: 571ms\tremaining: 2.19s\n",
      "207:\tlearn: 0.7211097\ttotal: 574ms\tremaining: 2.18s\n",
      "208:\tlearn: 0.7204269\ttotal: 576ms\tremaining: 2.18s\n",
      "209:\tlearn: 0.7195149\ttotal: 578ms\tremaining: 2.17s\n",
      "210:\tlearn: 0.7185282\ttotal: 582ms\tremaining: 2.17s\n",
      "211:\tlearn: 0.7175012\ttotal: 585ms\tremaining: 2.17s\n",
      "212:\tlearn: 0.7166373\ttotal: 589ms\tremaining: 2.17s\n",
      "213:\tlearn: 0.7160486\ttotal: 592ms\tremaining: 2.17s\n",
      "214:\tlearn: 0.7154197\ttotal: 595ms\tremaining: 2.17s\n",
      "215:\tlearn: 0.7149182\ttotal: 598ms\tremaining: 2.17s\n",
      "216:\tlearn: 0.7143237\ttotal: 601ms\tremaining: 2.17s\n",
      "217:\tlearn: 0.7137607\ttotal: 604ms\tremaining: 2.17s\n",
      "218:\tlearn: 0.7132947\ttotal: 607ms\tremaining: 2.16s\n",
      "219:\tlearn: 0.7127438\ttotal: 610ms\tremaining: 2.16s\n",
      "220:\tlearn: 0.7117237\ttotal: 612ms\tremaining: 2.16s\n",
      "221:\tlearn: 0.7109413\ttotal: 615ms\tremaining: 2.16s\n",
      "222:\tlearn: 0.7100192\ttotal: 618ms\tremaining: 2.15s\n",
      "223:\tlearn: 0.7093070\ttotal: 621ms\tremaining: 2.15s\n",
      "224:\tlearn: 0.7085487\ttotal: 624ms\tremaining: 2.15s\n",
      "225:\tlearn: 0.7081886\ttotal: 627ms\tremaining: 2.15s\n",
      "226:\tlearn: 0.7072636\ttotal: 629ms\tremaining: 2.14s\n",
      "227:\tlearn: 0.7067479\ttotal: 632ms\tremaining: 2.14s\n",
      "228:\tlearn: 0.7062013\ttotal: 634ms\tremaining: 2.13s\n",
      "229:\tlearn: 0.7054231\ttotal: 636ms\tremaining: 2.13s\n",
      "230:\tlearn: 0.7047692\ttotal: 638ms\tremaining: 2.12s\n",
      "231:\tlearn: 0.7042758\ttotal: 641ms\tremaining: 2.12s\n",
      "232:\tlearn: 0.7034907\ttotal: 643ms\tremaining: 2.12s\n",
      "233:\tlearn: 0.7029010\ttotal: 645ms\tremaining: 2.11s\n",
      "234:\tlearn: 0.7022913\ttotal: 647ms\tremaining: 2.11s\n",
      "235:\tlearn: 0.7017395\ttotal: 649ms\tremaining: 2.1s\n",
      "236:\tlearn: 0.7006734\ttotal: 652ms\tremaining: 2.1s\n",
      "237:\tlearn: 0.6997371\ttotal: 654ms\tremaining: 2.09s\n",
      "238:\tlearn: 0.6990771\ttotal: 656ms\tremaining: 2.09s\n",
      "239:\tlearn: 0.6981861\ttotal: 658ms\tremaining: 2.08s\n",
      "240:\tlearn: 0.6973949\ttotal: 661ms\tremaining: 2.08s\n",
      "241:\tlearn: 0.6968713\ttotal: 663ms\tremaining: 2.08s\n",
      "242:\tlearn: 0.6959586\ttotal: 665ms\tremaining: 2.07s\n",
      "243:\tlearn: 0.6953803\ttotal: 667ms\tremaining: 2.07s\n",
      "244:\tlearn: 0.6949573\ttotal: 669ms\tremaining: 2.06s\n",
      "245:\tlearn: 0.6939136\ttotal: 672ms\tremaining: 2.06s\n",
      "246:\tlearn: 0.6928525\ttotal: 675ms\tremaining: 2.06s\n",
      "247:\tlearn: 0.6923190\ttotal: 678ms\tremaining: 2.06s\n",
      "248:\tlearn: 0.6916506\ttotal: 681ms\tremaining: 2.05s\n",
      "249:\tlearn: 0.6904781\ttotal: 684ms\tremaining: 2.05s\n",
      "250:\tlearn: 0.6895844\ttotal: 687ms\tremaining: 2.05s\n",
      "251:\tlearn: 0.6887615\ttotal: 690ms\tremaining: 2.05s\n",
      "252:\tlearn: 0.6879979\ttotal: 693ms\tremaining: 2.05s\n",
      "253:\tlearn: 0.6876375\ttotal: 696ms\tremaining: 2.04s\n",
      "254:\tlearn: 0.6863343\ttotal: 699ms\tremaining: 2.04s\n",
      "255:\tlearn: 0.6857537\ttotal: 702ms\tremaining: 2.04s\n",
      "256:\tlearn: 0.6852670\ttotal: 705ms\tremaining: 2.04s\n",
      "257:\tlearn: 0.6847750\ttotal: 708ms\tremaining: 2.04s\n",
      "258:\tlearn: 0.6841109\ttotal: 711ms\tremaining: 2.03s\n",
      "259:\tlearn: 0.6834886\ttotal: 714ms\tremaining: 2.03s\n",
      "260:\tlearn: 0.6828848\ttotal: 717ms\tremaining: 2.03s\n",
      "261:\tlearn: 0.6824068\ttotal: 719ms\tremaining: 2.03s\n",
      "262:\tlearn: 0.6818433\ttotal: 722ms\tremaining: 2.02s\n",
      "263:\tlearn: 0.6812586\ttotal: 725ms\tremaining: 2.02s\n",
      "264:\tlearn: 0.6807813\ttotal: 728ms\tremaining: 2.02s\n",
      "265:\tlearn: 0.6803110\ttotal: 731ms\tremaining: 2.02s\n",
      "266:\tlearn: 0.6800273\ttotal: 734ms\tremaining: 2.02s\n",
      "267:\tlearn: 0.6791527\ttotal: 737ms\tremaining: 2.01s\n",
      "268:\tlearn: 0.6785633\ttotal: 740ms\tremaining: 2.01s\n",
      "269:\tlearn: 0.6777325\ttotal: 743ms\tremaining: 2.01s\n",
      "270:\tlearn: 0.6772369\ttotal: 747ms\tremaining: 2.01s\n",
      "271:\tlearn: 0.6764573\ttotal: 749ms\tremaining: 2s\n",
      "272:\tlearn: 0.6757666\ttotal: 751ms\tremaining: 2s\n",
      "273:\tlearn: 0.6752071\ttotal: 754ms\tremaining: 2s\n",
      "274:\tlearn: 0.6747188\ttotal: 756ms\tremaining: 1.99s\n",
      "275:\tlearn: 0.6741642\ttotal: 758ms\tremaining: 1.99s\n",
      "276:\tlearn: 0.6736102\ttotal: 761ms\tremaining: 1.99s\n",
      "277:\tlearn: 0.6727604\ttotal: 763ms\tremaining: 1.98s\n",
      "278:\tlearn: 0.6724533\ttotal: 765ms\tremaining: 1.98s\n",
      "279:\tlearn: 0.6716352\ttotal: 768ms\tremaining: 1.97s\n",
      "280:\tlearn: 0.6708132\ttotal: 770ms\tremaining: 1.97s\n",
      "281:\tlearn: 0.6703373\ttotal: 773ms\tremaining: 1.97s\n",
      "282:\tlearn: 0.6696101\ttotal: 776ms\tremaining: 1.97s\n",
      "283:\tlearn: 0.6689140\ttotal: 779ms\tremaining: 1.96s\n",
      "284:\tlearn: 0.6680859\ttotal: 781ms\tremaining: 1.96s\n",
      "285:\tlearn: 0.6673438\ttotal: 783ms\tremaining: 1.96s\n",
      "286:\tlearn: 0.6667691\ttotal: 786ms\tremaining: 1.95s\n",
      "287:\tlearn: 0.6660744\ttotal: 788ms\tremaining: 1.95s\n",
      "288:\tlearn: 0.6656349\ttotal: 791ms\tremaining: 1.95s\n",
      "289:\tlearn: 0.6652678\ttotal: 793ms\tremaining: 1.94s\n",
      "290:\tlearn: 0.6647668\ttotal: 795ms\tremaining: 1.94s\n",
      "291:\tlearn: 0.6637897\ttotal: 798ms\tremaining: 1.93s\n",
      "292:\tlearn: 0.6630955\ttotal: 800ms\tremaining: 1.93s\n",
      "293:\tlearn: 0.6626049\ttotal: 803ms\tremaining: 1.93s\n",
      "294:\tlearn: 0.6614879\ttotal: 805ms\tremaining: 1.92s\n",
      "295:\tlearn: 0.6609803\ttotal: 808ms\tremaining: 1.92s\n",
      "296:\tlearn: 0.6603169\ttotal: 810ms\tremaining: 1.92s\n",
      "297:\tlearn: 0.6600126\ttotal: 812ms\tremaining: 1.91s\n",
      "298:\tlearn: 0.6594401\ttotal: 815ms\tremaining: 1.91s\n",
      "299:\tlearn: 0.6586625\ttotal: 818ms\tremaining: 1.91s\n",
      "300:\tlearn: 0.6583240\ttotal: 821ms\tremaining: 1.91s\n",
      "301:\tlearn: 0.6576749\ttotal: 824ms\tremaining: 1.9s\n",
      "302:\tlearn: 0.6568029\ttotal: 827ms\tremaining: 1.9s\n",
      "303:\tlearn: 0.6563225\ttotal: 829ms\tremaining: 1.9s\n",
      "304:\tlearn: 0.6556718\ttotal: 832ms\tremaining: 1.9s\n",
      "305:\tlearn: 0.6550238\ttotal: 835ms\tremaining: 1.89s\n",
      "306:\tlearn: 0.6545455\ttotal: 838ms\tremaining: 1.89s\n",
      "307:\tlearn: 0.6539678\ttotal: 841ms\tremaining: 1.89s\n",
      "308:\tlearn: 0.6533778\ttotal: 843ms\tremaining: 1.89s\n",
      "309:\tlearn: 0.6528180\ttotal: 846ms\tremaining: 1.88s\n",
      "310:\tlearn: 0.6525170\ttotal: 849ms\tremaining: 1.88s\n",
      "311:\tlearn: 0.6520818\ttotal: 852ms\tremaining: 1.88s\n",
      "312:\tlearn: 0.6515780\ttotal: 855ms\tremaining: 1.88s\n",
      "313:\tlearn: 0.6512093\ttotal: 857ms\tremaining: 1.87s\n",
      "314:\tlearn: 0.6504978\ttotal: 860ms\tremaining: 1.87s\n",
      "315:\tlearn: 0.6500337\ttotal: 863ms\tremaining: 1.87s\n",
      "316:\tlearn: 0.6493921\ttotal: 866ms\tremaining: 1.87s\n",
      "317:\tlearn: 0.6489319\ttotal: 869ms\tremaining: 1.86s\n",
      "318:\tlearn: 0.6483784\ttotal: 872ms\tremaining: 1.86s\n",
      "319:\tlearn: 0.6479318\ttotal: 875ms\tremaining: 1.86s\n",
      "320:\tlearn: 0.6471742\ttotal: 878ms\tremaining: 1.86s\n",
      "321:\tlearn: 0.6468211\ttotal: 881ms\tremaining: 1.85s\n",
      "322:\tlearn: 0.6464160\ttotal: 884ms\tremaining: 1.85s\n",
      "323:\tlearn: 0.6458368\ttotal: 887ms\tremaining: 1.85s\n",
      "324:\tlearn: 0.6449992\ttotal: 890ms\tremaining: 1.85s\n",
      "325:\tlearn: 0.6444356\ttotal: 893ms\tremaining: 1.84s\n",
      "326:\tlearn: 0.6440536\ttotal: 896ms\tremaining: 1.84s\n",
      "327:\tlearn: 0.6434886\ttotal: 899ms\tremaining: 1.84s\n",
      "328:\tlearn: 0.6429511\ttotal: 901ms\tremaining: 1.84s\n",
      "329:\tlearn: 0.6421512\ttotal: 903ms\tremaining: 1.83s\n",
      "330:\tlearn: 0.6415063\ttotal: 906ms\tremaining: 1.83s\n",
      "331:\tlearn: 0.6410955\ttotal: 909ms\tremaining: 1.83s\n",
      "332:\tlearn: 0.6408002\ttotal: 912ms\tremaining: 1.83s\n",
      "333:\tlearn: 0.6401554\ttotal: 915ms\tremaining: 1.82s\n",
      "334:\tlearn: 0.6396185\ttotal: 918ms\tremaining: 1.82s\n",
      "335:\tlearn: 0.6387540\ttotal: 921ms\tremaining: 1.82s\n",
      "336:\tlearn: 0.6382023\ttotal: 924ms\tremaining: 1.82s\n",
      "337:\tlearn: 0.6377542\ttotal: 927ms\tremaining: 1.81s\n",
      "338:\tlearn: 0.6368279\ttotal: 930ms\tremaining: 1.81s\n",
      "339:\tlearn: 0.6359274\ttotal: 933ms\tremaining: 1.81s\n",
      "340:\tlearn: 0.6353101\ttotal: 935ms\tremaining: 1.81s\n",
      "341:\tlearn: 0.6348518\ttotal: 938ms\tremaining: 1.8s\n",
      "342:\tlearn: 0.6343078\ttotal: 941ms\tremaining: 1.8s\n",
      "343:\tlearn: 0.6334618\ttotal: 944ms\tremaining: 1.8s\n",
      "344:\tlearn: 0.6330293\ttotal: 947ms\tremaining: 1.8s\n",
      "345:\tlearn: 0.6323228\ttotal: 950ms\tremaining: 1.79s\n",
      "346:\tlearn: 0.6320394\ttotal: 953ms\tremaining: 1.79s\n",
      "347:\tlearn: 0.6313471\ttotal: 956ms\tremaining: 1.79s\n",
      "348:\tlearn: 0.6308366\ttotal: 958ms\tremaining: 1.79s\n",
      "349:\tlearn: 0.6304837\ttotal: 961ms\tremaining: 1.78s\n",
      "350:\tlearn: 0.6298692\ttotal: 964ms\tremaining: 1.78s\n",
      "351:\tlearn: 0.6292544\ttotal: 967ms\tremaining: 1.78s\n",
      "352:\tlearn: 0.6286976\ttotal: 970ms\tremaining: 1.78s\n",
      "353:\tlearn: 0.6280465\ttotal: 973ms\tremaining: 1.78s\n",
      "354:\tlearn: 0.6277556\ttotal: 976ms\tremaining: 1.77s\n",
      "355:\tlearn: 0.6267940\ttotal: 978ms\tremaining: 1.77s\n",
      "356:\tlearn: 0.6263288\ttotal: 981ms\tremaining: 1.77s\n",
      "357:\tlearn: 0.6259140\ttotal: 983ms\tremaining: 1.76s\n",
      "358:\tlearn: 0.6255394\ttotal: 986ms\tremaining: 1.76s\n",
      "359:\tlearn: 0.6250864\ttotal: 988ms\tremaining: 1.76s\n",
      "360:\tlearn: 0.6246783\ttotal: 990ms\tremaining: 1.75s\n",
      "361:\tlearn: 0.6243021\ttotal: 992ms\tremaining: 1.75s\n",
      "362:\tlearn: 0.6238035\ttotal: 995ms\tremaining: 1.75s\n",
      "363:\tlearn: 0.6233233\ttotal: 997ms\tremaining: 1.74s\n",
      "364:\tlearn: 0.6225436\ttotal: 999ms\tremaining: 1.74s\n",
      "365:\tlearn: 0.6219031\ttotal: 1s\tremaining: 1.74s\n",
      "366:\tlearn: 0.6212954\ttotal: 1s\tremaining: 1.73s\n",
      "367:\tlearn: 0.6206309\ttotal: 1.01s\tremaining: 1.73s\n",
      "368:\tlearn: 0.6196388\ttotal: 1.01s\tremaining: 1.73s\n",
      "369:\tlearn: 0.6192304\ttotal: 1.01s\tremaining: 1.72s\n",
      "370:\tlearn: 0.6188856\ttotal: 1.01s\tremaining: 1.72s\n",
      "371:\tlearn: 0.6181053\ttotal: 1.02s\tremaining: 1.72s\n",
      "372:\tlearn: 0.6178328\ttotal: 1.02s\tremaining: 1.71s\n",
      "373:\tlearn: 0.6171860\ttotal: 1.02s\tremaining: 1.71s\n",
      "374:\tlearn: 0.6168575\ttotal: 1.02s\tremaining: 1.71s\n",
      "375:\tlearn: 0.6164166\ttotal: 1.02s\tremaining: 1.7s\n",
      "376:\tlearn: 0.6157336\ttotal: 1.03s\tremaining: 1.7s\n",
      "377:\tlearn: 0.6153937\ttotal: 1.03s\tremaining: 1.7s\n",
      "378:\tlearn: 0.6149555\ttotal: 1.03s\tremaining: 1.69s\n",
      "379:\tlearn: 0.6146427\ttotal: 1.03s\tremaining: 1.69s\n",
      "380:\tlearn: 0.6141765\ttotal: 1.04s\tremaining: 1.69s\n",
      "381:\tlearn: 0.6138289\ttotal: 1.04s\tremaining: 1.68s\n",
      "382:\tlearn: 0.6134698\ttotal: 1.04s\tremaining: 1.68s\n",
      "383:\tlearn: 0.6130511\ttotal: 1.04s\tremaining: 1.68s\n",
      "384:\tlearn: 0.6124412\ttotal: 1.05s\tremaining: 1.67s\n",
      "385:\tlearn: 0.6119972\ttotal: 1.05s\tremaining: 1.67s\n",
      "386:\tlearn: 0.6116225\ttotal: 1.05s\tremaining: 1.67s\n",
      "387:\tlearn: 0.6112353\ttotal: 1.05s\tremaining: 1.66s\n",
      "388:\tlearn: 0.6108320\ttotal: 1.05s\tremaining: 1.66s\n",
      "389:\tlearn: 0.6103619\ttotal: 1.06s\tremaining: 1.65s\n",
      "390:\tlearn: 0.6098121\ttotal: 1.06s\tremaining: 1.65s\n",
      "391:\tlearn: 0.6093492\ttotal: 1.06s\tremaining: 1.65s\n",
      "392:\tlearn: 0.6089249\ttotal: 1.06s\tremaining: 1.64s\n",
      "393:\tlearn: 0.6085170\ttotal: 1.07s\tremaining: 1.64s\n",
      "394:\tlearn: 0.6082237\ttotal: 1.07s\tremaining: 1.64s\n",
      "395:\tlearn: 0.6077754\ttotal: 1.07s\tremaining: 1.63s\n",
      "396:\tlearn: 0.6073171\ttotal: 1.07s\tremaining: 1.63s\n",
      "397:\tlearn: 0.6067983\ttotal: 1.08s\tremaining: 1.63s\n",
      "398:\tlearn: 0.6061614\ttotal: 1.08s\tremaining: 1.62s\n",
      "399:\tlearn: 0.6055919\ttotal: 1.08s\tremaining: 1.62s\n",
      "400:\tlearn: 0.6048196\ttotal: 1.08s\tremaining: 1.62s\n",
      "401:\tlearn: 0.6045128\ttotal: 1.09s\tremaining: 1.61s\n",
      "402:\tlearn: 0.6041587\ttotal: 1.09s\tremaining: 1.61s\n",
      "403:\tlearn: 0.6038054\ttotal: 1.09s\tremaining: 1.61s\n",
      "404:\tlearn: 0.6032988\ttotal: 1.09s\tremaining: 1.61s\n",
      "405:\tlearn: 0.6027376\ttotal: 1.09s\tremaining: 1.6s\n",
      "406:\tlearn: 0.6022668\ttotal: 1.1s\tremaining: 1.6s\n",
      "407:\tlearn: 0.6018747\ttotal: 1.1s\tremaining: 1.6s\n",
      "408:\tlearn: 0.6012817\ttotal: 1.1s\tremaining: 1.59s\n",
      "409:\tlearn: 0.6007600\ttotal: 1.1s\tremaining: 1.59s\n",
      "410:\tlearn: 0.6003727\ttotal: 1.11s\tremaining: 1.59s\n",
      "411:\tlearn: 0.5997229\ttotal: 1.11s\tremaining: 1.58s\n",
      "412:\tlearn: 0.5988848\ttotal: 1.11s\tremaining: 1.58s\n",
      "413:\tlearn: 0.5984675\ttotal: 1.11s\tremaining: 1.58s\n",
      "414:\tlearn: 0.5979313\ttotal: 1.12s\tremaining: 1.57s\n",
      "415:\tlearn: 0.5975335\ttotal: 1.12s\tremaining: 1.57s\n",
      "416:\tlearn: 0.5972618\ttotal: 1.12s\tremaining: 1.57s\n",
      "417:\tlearn: 0.5968214\ttotal: 1.13s\tremaining: 1.57s\n",
      "418:\tlearn: 0.5965092\ttotal: 1.13s\tremaining: 1.56s\n",
      "419:\tlearn: 0.5960293\ttotal: 1.13s\tremaining: 1.56s\n",
      "420:\tlearn: 0.5955125\ttotal: 1.14s\tremaining: 1.56s\n",
      "421:\tlearn: 0.5949963\ttotal: 1.14s\tremaining: 1.56s\n",
      "422:\tlearn: 0.5944972\ttotal: 1.14s\tremaining: 1.56s\n",
      "423:\tlearn: 0.5941232\ttotal: 1.14s\tremaining: 1.55s\n",
      "424:\tlearn: 0.5931490\ttotal: 1.15s\tremaining: 1.55s\n",
      "425:\tlearn: 0.5926962\ttotal: 1.15s\tremaining: 1.55s\n",
      "426:\tlearn: 0.5924139\ttotal: 1.15s\tremaining: 1.54s\n",
      "427:\tlearn: 0.5920880\ttotal: 1.15s\tremaining: 1.54s\n",
      "428:\tlearn: 0.5917201\ttotal: 1.16s\tremaining: 1.54s\n",
      "429:\tlearn: 0.5912543\ttotal: 1.16s\tremaining: 1.54s\n",
      "430:\tlearn: 0.5909701\ttotal: 1.16s\tremaining: 1.53s\n",
      "431:\tlearn: 0.5904252\ttotal: 1.16s\tremaining: 1.53s\n",
      "432:\tlearn: 0.5896692\ttotal: 1.17s\tremaining: 1.53s\n",
      "433:\tlearn: 0.5891159\ttotal: 1.17s\tremaining: 1.53s\n",
      "434:\tlearn: 0.5888097\ttotal: 1.17s\tremaining: 1.52s\n",
      "435:\tlearn: 0.5884067\ttotal: 1.18s\tremaining: 1.52s\n",
      "436:\tlearn: 0.5880264\ttotal: 1.18s\tremaining: 1.52s\n",
      "437:\tlearn: 0.5875393\ttotal: 1.18s\tremaining: 1.51s\n",
      "438:\tlearn: 0.5868873\ttotal: 1.18s\tremaining: 1.51s\n",
      "439:\tlearn: 0.5865853\ttotal: 1.19s\tremaining: 1.51s\n",
      "440:\tlearn: 0.5863173\ttotal: 1.19s\tremaining: 1.5s\n",
      "441:\tlearn: 0.5856134\ttotal: 1.19s\tremaining: 1.5s\n",
      "442:\tlearn: 0.5851444\ttotal: 1.19s\tremaining: 1.5s\n",
      "443:\tlearn: 0.5845759\ttotal: 1.19s\tremaining: 1.5s\n",
      "444:\tlearn: 0.5841260\ttotal: 1.2s\tremaining: 1.49s\n",
      "445:\tlearn: 0.5837696\ttotal: 1.2s\tremaining: 1.49s\n",
      "446:\tlearn: 0.5832935\ttotal: 1.2s\tremaining: 1.49s\n",
      "447:\tlearn: 0.5827084\ttotal: 1.2s\tremaining: 1.48s\n",
      "448:\tlearn: 0.5824403\ttotal: 1.21s\tremaining: 1.48s\n",
      "449:\tlearn: 0.5821025\ttotal: 1.21s\tremaining: 1.48s\n",
      "450:\tlearn: 0.5817701\ttotal: 1.21s\tremaining: 1.48s\n",
      "451:\tlearn: 0.5812152\ttotal: 1.21s\tremaining: 1.47s\n",
      "452:\tlearn: 0.5808296\ttotal: 1.22s\tremaining: 1.47s\n",
      "453:\tlearn: 0.5803334\ttotal: 1.22s\tremaining: 1.47s\n",
      "454:\tlearn: 0.5801378\ttotal: 1.22s\tremaining: 1.46s\n",
      "455:\tlearn: 0.5798033\ttotal: 1.22s\tremaining: 1.46s\n",
      "456:\tlearn: 0.5794745\ttotal: 1.23s\tremaining: 1.46s\n",
      "457:\tlearn: 0.5791851\ttotal: 1.23s\tremaining: 1.45s\n",
      "458:\tlearn: 0.5785913\ttotal: 1.23s\tremaining: 1.45s\n",
      "459:\tlearn: 0.5782265\ttotal: 1.23s\tremaining: 1.45s\n",
      "460:\tlearn: 0.5778421\ttotal: 1.24s\tremaining: 1.44s\n",
      "461:\tlearn: 0.5774896\ttotal: 1.24s\tremaining: 1.44s\n",
      "462:\tlearn: 0.5771382\ttotal: 1.24s\tremaining: 1.44s\n",
      "463:\tlearn: 0.5768383\ttotal: 1.24s\tremaining: 1.44s\n",
      "464:\tlearn: 0.5764882\ttotal: 1.25s\tremaining: 1.43s\n",
      "465:\tlearn: 0.5762306\ttotal: 1.25s\tremaining: 1.43s\n",
      "466:\tlearn: 0.5759079\ttotal: 1.25s\tremaining: 1.43s\n",
      "467:\tlearn: 0.5754695\ttotal: 1.25s\tremaining: 1.42s\n",
      "468:\tlearn: 0.5749437\ttotal: 1.25s\tremaining: 1.42s\n",
      "469:\tlearn: 0.5743403\ttotal: 1.26s\tremaining: 1.42s\n",
      "470:\tlearn: 0.5740607\ttotal: 1.26s\tremaining: 1.41s\n",
      "471:\tlearn: 0.5735896\ttotal: 1.26s\tremaining: 1.41s\n",
      "472:\tlearn: 0.5730946\ttotal: 1.26s\tremaining: 1.41s\n",
      "473:\tlearn: 0.5727143\ttotal: 1.27s\tremaining: 1.4s\n",
      "474:\tlearn: 0.5723686\ttotal: 1.27s\tremaining: 1.4s\n",
      "475:\tlearn: 0.5720251\ttotal: 1.27s\tremaining: 1.4s\n",
      "476:\tlearn: 0.5715908\ttotal: 1.27s\tremaining: 1.4s\n",
      "477:\tlearn: 0.5710475\ttotal: 1.27s\tremaining: 1.39s\n",
      "478:\tlearn: 0.5706881\ttotal: 1.28s\tremaining: 1.39s\n",
      "479:\tlearn: 0.5703428\ttotal: 1.28s\tremaining: 1.39s\n",
      "480:\tlearn: 0.5699146\ttotal: 1.28s\tremaining: 1.38s\n",
      "481:\tlearn: 0.5694847\ttotal: 1.28s\tremaining: 1.38s\n",
      "482:\tlearn: 0.5690644\ttotal: 1.29s\tremaining: 1.38s\n",
      "483:\tlearn: 0.5685803\ttotal: 1.29s\tremaining: 1.37s\n",
      "484:\tlearn: 0.5682789\ttotal: 1.29s\tremaining: 1.37s\n",
      "485:\tlearn: 0.5678460\ttotal: 1.29s\tremaining: 1.37s\n",
      "486:\tlearn: 0.5675814\ttotal: 1.29s\tremaining: 1.36s\n",
      "487:\tlearn: 0.5670017\ttotal: 1.3s\tremaining: 1.36s\n",
      "488:\tlearn: 0.5665610\ttotal: 1.3s\tremaining: 1.36s\n",
      "489:\tlearn: 0.5662283\ttotal: 1.3s\tremaining: 1.35s\n",
      "490:\tlearn: 0.5657903\ttotal: 1.3s\tremaining: 1.35s\n",
      "491:\tlearn: 0.5654830\ttotal: 1.31s\tremaining: 1.35s\n",
      "492:\tlearn: 0.5651156\ttotal: 1.31s\tremaining: 1.35s\n",
      "493:\tlearn: 0.5647355\ttotal: 1.31s\tremaining: 1.34s\n",
      "494:\tlearn: 0.5643556\ttotal: 1.31s\tremaining: 1.34s\n",
      "495:\tlearn: 0.5639605\ttotal: 1.32s\tremaining: 1.34s\n",
      "496:\tlearn: 0.5637111\ttotal: 1.32s\tremaining: 1.33s\n",
      "497:\tlearn: 0.5632352\ttotal: 1.32s\tremaining: 1.33s\n",
      "498:\tlearn: 0.5628769\ttotal: 1.32s\tremaining: 1.33s\n",
      "499:\tlearn: 0.5624111\ttotal: 1.33s\tremaining: 1.33s\n",
      "500:\tlearn: 0.5620243\ttotal: 1.33s\tremaining: 1.32s\n",
      "501:\tlearn: 0.5617308\ttotal: 1.33s\tremaining: 1.32s\n",
      "502:\tlearn: 0.5612985\ttotal: 1.33s\tremaining: 1.32s\n",
      "503:\tlearn: 0.5608499\ttotal: 1.34s\tremaining: 1.31s\n",
      "504:\tlearn: 0.5603364\ttotal: 1.34s\tremaining: 1.31s\n",
      "505:\tlearn: 0.5600188\ttotal: 1.34s\tremaining: 1.31s\n",
      "506:\tlearn: 0.5597880\ttotal: 1.34s\tremaining: 1.31s\n",
      "507:\tlearn: 0.5592545\ttotal: 1.34s\tremaining: 1.3s\n",
      "508:\tlearn: 0.5588745\ttotal: 1.35s\tremaining: 1.3s\n",
      "509:\tlearn: 0.5584788\ttotal: 1.35s\tremaining: 1.3s\n",
      "510:\tlearn: 0.5580246\ttotal: 1.35s\tremaining: 1.29s\n",
      "511:\tlearn: 0.5576082\ttotal: 1.35s\tremaining: 1.29s\n",
      "512:\tlearn: 0.5571896\ttotal: 1.36s\tremaining: 1.29s\n",
      "513:\tlearn: 0.5567857\ttotal: 1.36s\tremaining: 1.29s\n",
      "514:\tlearn: 0.5563807\ttotal: 1.36s\tremaining: 1.28s\n",
      "515:\tlearn: 0.5559772\ttotal: 1.37s\tremaining: 1.28s\n",
      "516:\tlearn: 0.5555810\ttotal: 1.37s\tremaining: 1.28s\n",
      "517:\tlearn: 0.5553312\ttotal: 1.37s\tremaining: 1.28s\n",
      "518:\tlearn: 0.5551199\ttotal: 1.37s\tremaining: 1.27s\n",
      "519:\tlearn: 0.5548731\ttotal: 1.38s\tremaining: 1.27s\n",
      "520:\tlearn: 0.5545058\ttotal: 1.38s\tremaining: 1.27s\n",
      "521:\tlearn: 0.5538781\ttotal: 1.38s\tremaining: 1.26s\n",
      "522:\tlearn: 0.5535861\ttotal: 1.38s\tremaining: 1.26s\n",
      "523:\tlearn: 0.5532177\ttotal: 1.39s\tremaining: 1.26s\n",
      "524:\tlearn: 0.5528752\ttotal: 1.39s\tremaining: 1.26s\n",
      "525:\tlearn: 0.5524976\ttotal: 1.39s\tremaining: 1.25s\n",
      "526:\tlearn: 0.5520434\ttotal: 1.39s\tremaining: 1.25s\n",
      "527:\tlearn: 0.5516191\ttotal: 1.4s\tremaining: 1.25s\n",
      "528:\tlearn: 0.5513287\ttotal: 1.4s\tremaining: 1.24s\n",
      "529:\tlearn: 0.5509787\ttotal: 1.4s\tremaining: 1.24s\n",
      "530:\tlearn: 0.5506389\ttotal: 1.4s\tremaining: 1.24s\n",
      "531:\tlearn: 0.5502871\ttotal: 1.4s\tremaining: 1.24s\n",
      "532:\tlearn: 0.5500389\ttotal: 1.41s\tremaining: 1.23s\n",
      "533:\tlearn: 0.5497120\ttotal: 1.41s\tremaining: 1.23s\n",
      "534:\tlearn: 0.5494510\ttotal: 1.41s\tremaining: 1.23s\n",
      "535:\tlearn: 0.5492042\ttotal: 1.41s\tremaining: 1.22s\n",
      "536:\tlearn: 0.5489617\ttotal: 1.42s\tremaining: 1.22s\n",
      "537:\tlearn: 0.5486626\ttotal: 1.42s\tremaining: 1.22s\n",
      "538:\tlearn: 0.5484078\ttotal: 1.42s\tremaining: 1.22s\n",
      "539:\tlearn: 0.5482084\ttotal: 1.42s\tremaining: 1.21s\n",
      "540:\tlearn: 0.5478663\ttotal: 1.43s\tremaining: 1.21s\n",
      "541:\tlearn: 0.5475165\ttotal: 1.43s\tremaining: 1.21s\n",
      "542:\tlearn: 0.5471150\ttotal: 1.43s\tremaining: 1.2s\n",
      "543:\tlearn: 0.5466684\ttotal: 1.43s\tremaining: 1.2s\n",
      "544:\tlearn: 0.5462247\ttotal: 1.44s\tremaining: 1.2s\n",
      "545:\tlearn: 0.5458475\ttotal: 1.44s\tremaining: 1.2s\n",
      "546:\tlearn: 0.5453312\ttotal: 1.44s\tremaining: 1.19s\n",
      "547:\tlearn: 0.5450399\ttotal: 1.44s\tremaining: 1.19s\n",
      "548:\tlearn: 0.5442356\ttotal: 1.44s\tremaining: 1.19s\n",
      "549:\tlearn: 0.5439029\ttotal: 1.45s\tremaining: 1.18s\n",
      "550:\tlearn: 0.5437272\ttotal: 1.45s\tremaining: 1.18s\n",
      "551:\tlearn: 0.5434342\ttotal: 1.45s\tremaining: 1.18s\n",
      "552:\tlearn: 0.5429074\ttotal: 1.45s\tremaining: 1.18s\n",
      "553:\tlearn: 0.5426719\ttotal: 1.46s\tremaining: 1.17s\n",
      "554:\tlearn: 0.5423096\ttotal: 1.46s\tremaining: 1.17s\n",
      "555:\tlearn: 0.5421208\ttotal: 1.46s\tremaining: 1.17s\n",
      "556:\tlearn: 0.5418872\ttotal: 1.46s\tremaining: 1.16s\n",
      "557:\tlearn: 0.5413900\ttotal: 1.47s\tremaining: 1.16s\n",
      "558:\tlearn: 0.5410653\ttotal: 1.47s\tremaining: 1.16s\n",
      "559:\tlearn: 0.5408472\ttotal: 1.47s\tremaining: 1.16s\n",
      "560:\tlearn: 0.5404257\ttotal: 1.47s\tremaining: 1.15s\n",
      "561:\tlearn: 0.5400388\ttotal: 1.48s\tremaining: 1.15s\n",
      "562:\tlearn: 0.5397809\ttotal: 1.48s\tremaining: 1.15s\n",
      "563:\tlearn: 0.5395114\ttotal: 1.48s\tremaining: 1.14s\n",
      "564:\tlearn: 0.5393129\ttotal: 1.48s\tremaining: 1.14s\n",
      "565:\tlearn: 0.5388416\ttotal: 1.49s\tremaining: 1.14s\n",
      "566:\tlearn: 0.5384087\ttotal: 1.49s\tremaining: 1.14s\n",
      "567:\tlearn: 0.5381144\ttotal: 1.49s\tremaining: 1.13s\n",
      "568:\tlearn: 0.5378071\ttotal: 1.49s\tremaining: 1.13s\n",
      "569:\tlearn: 0.5375123\ttotal: 1.49s\tremaining: 1.13s\n",
      "570:\tlearn: 0.5371528\ttotal: 1.5s\tremaining: 1.12s\n",
      "571:\tlearn: 0.5367348\ttotal: 1.5s\tremaining: 1.12s\n",
      "572:\tlearn: 0.5364375\ttotal: 1.5s\tremaining: 1.12s\n",
      "573:\tlearn: 0.5360956\ttotal: 1.5s\tremaining: 1.11s\n",
      "574:\tlearn: 0.5356480\ttotal: 1.51s\tremaining: 1.11s\n",
      "575:\tlearn: 0.5352435\ttotal: 1.51s\tremaining: 1.11s\n",
      "576:\tlearn: 0.5348588\ttotal: 1.51s\tremaining: 1.11s\n",
      "577:\tlearn: 0.5344929\ttotal: 1.51s\tremaining: 1.1s\n",
      "578:\tlearn: 0.5337397\ttotal: 1.51s\tremaining: 1.1s\n",
      "579:\tlearn: 0.5333373\ttotal: 1.52s\tremaining: 1.1s\n",
      "580:\tlearn: 0.5331349\ttotal: 1.52s\tremaining: 1.1s\n",
      "581:\tlearn: 0.5327169\ttotal: 1.52s\tremaining: 1.09s\n",
      "582:\tlearn: 0.5323820\ttotal: 1.52s\tremaining: 1.09s\n",
      "583:\tlearn: 0.5319080\ttotal: 1.53s\tremaining: 1.09s\n",
      "584:\tlearn: 0.5316469\ttotal: 1.53s\tremaining: 1.08s\n",
      "585:\tlearn: 0.5312308\ttotal: 1.53s\tremaining: 1.08s\n",
      "586:\tlearn: 0.5309243\ttotal: 1.53s\tremaining: 1.08s\n",
      "587:\tlearn: 0.5304979\ttotal: 1.54s\tremaining: 1.08s\n",
      "588:\tlearn: 0.5302389\ttotal: 1.54s\tremaining: 1.07s\n",
      "589:\tlearn: 0.5297387\ttotal: 1.54s\tremaining: 1.07s\n",
      "590:\tlearn: 0.5293129\ttotal: 1.54s\tremaining: 1.07s\n",
      "591:\tlearn: 0.5287915\ttotal: 1.55s\tremaining: 1.07s\n",
      "592:\tlearn: 0.5285354\ttotal: 1.55s\tremaining: 1.06s\n",
      "593:\tlearn: 0.5282016\ttotal: 1.55s\tremaining: 1.06s\n",
      "594:\tlearn: 0.5278607\ttotal: 1.56s\tremaining: 1.06s\n",
      "595:\tlearn: 0.5275591\ttotal: 1.56s\tremaining: 1.06s\n",
      "596:\tlearn: 0.5271676\ttotal: 1.56s\tremaining: 1.05s\n",
      "597:\tlearn: 0.5268354\ttotal: 1.56s\tremaining: 1.05s\n",
      "598:\tlearn: 0.5265396\ttotal: 1.57s\tremaining: 1.05s\n",
      "599:\tlearn: 0.5261108\ttotal: 1.57s\tremaining: 1.05s\n",
      "600:\tlearn: 0.5256720\ttotal: 1.57s\tremaining: 1.04s\n",
      "601:\tlearn: 0.5252228\ttotal: 1.57s\tremaining: 1.04s\n",
      "602:\tlearn: 0.5249346\ttotal: 1.58s\tremaining: 1.04s\n",
      "603:\tlearn: 0.5245006\ttotal: 1.58s\tremaining: 1.03s\n",
      "604:\tlearn: 0.5239292\ttotal: 1.58s\tremaining: 1.03s\n",
      "605:\tlearn: 0.5234426\ttotal: 1.58s\tremaining: 1.03s\n",
      "606:\tlearn: 0.5231181\ttotal: 1.59s\tremaining: 1.03s\n",
      "607:\tlearn: 0.5227562\ttotal: 1.59s\tremaining: 1.02s\n",
      "608:\tlearn: 0.5225511\ttotal: 1.59s\tremaining: 1.02s\n",
      "609:\tlearn: 0.5222618\ttotal: 1.59s\tremaining: 1.02s\n",
      "610:\tlearn: 0.5218947\ttotal: 1.6s\tremaining: 1.02s\n",
      "611:\tlearn: 0.5214674\ttotal: 1.6s\tremaining: 1.01s\n",
      "612:\tlearn: 0.5209724\ttotal: 1.6s\tremaining: 1.01s\n",
      "613:\tlearn: 0.5204732\ttotal: 1.6s\tremaining: 1.01s\n",
      "614:\tlearn: 0.5200758\ttotal: 1.61s\tremaining: 1s\n",
      "615:\tlearn: 0.5198342\ttotal: 1.61s\tremaining: 1s\n",
      "616:\tlearn: 0.5193697\ttotal: 1.61s\tremaining: 1000ms\n",
      "617:\tlearn: 0.5190860\ttotal: 1.61s\tremaining: 997ms\n",
      "618:\tlearn: 0.5187374\ttotal: 1.61s\tremaining: 994ms\n",
      "619:\tlearn: 0.5184497\ttotal: 1.62s\tremaining: 991ms\n",
      "620:\tlearn: 0.5181848\ttotal: 1.62s\tremaining: 989ms\n",
      "621:\tlearn: 0.5179191\ttotal: 1.62s\tremaining: 986ms\n",
      "622:\tlearn: 0.5175153\ttotal: 1.62s\tremaining: 983ms\n",
      "623:\tlearn: 0.5172637\ttotal: 1.63s\tremaining: 980ms\n",
      "624:\tlearn: 0.5170215\ttotal: 1.63s\tremaining: 977ms\n",
      "625:\tlearn: 0.5167337\ttotal: 1.63s\tremaining: 975ms\n",
      "626:\tlearn: 0.5165166\ttotal: 1.63s\tremaining: 972ms\n",
      "627:\tlearn: 0.5162050\ttotal: 1.64s\tremaining: 969ms\n",
      "628:\tlearn: 0.5159433\ttotal: 1.64s\tremaining: 966ms\n",
      "629:\tlearn: 0.5156836\ttotal: 1.64s\tremaining: 963ms\n",
      "630:\tlearn: 0.5150988\ttotal: 1.64s\tremaining: 961ms\n",
      "631:\tlearn: 0.5147325\ttotal: 1.65s\tremaining: 958ms\n",
      "632:\tlearn: 0.5143621\ttotal: 1.65s\tremaining: 955ms\n",
      "633:\tlearn: 0.5140838\ttotal: 1.65s\tremaining: 953ms\n",
      "634:\tlearn: 0.5138166\ttotal: 1.65s\tremaining: 950ms\n",
      "635:\tlearn: 0.5135013\ttotal: 1.65s\tremaining: 947ms\n",
      "636:\tlearn: 0.5132692\ttotal: 1.66s\tremaining: 944ms\n",
      "637:\tlearn: 0.5127768\ttotal: 1.66s\tremaining: 942ms\n",
      "638:\tlearn: 0.5125180\ttotal: 1.66s\tremaining: 939ms\n",
      "639:\tlearn: 0.5121267\ttotal: 1.66s\tremaining: 936ms\n",
      "640:\tlearn: 0.5117981\ttotal: 1.67s\tremaining: 934ms\n",
      "641:\tlearn: 0.5115441\ttotal: 1.67s\tremaining: 931ms\n",
      "642:\tlearn: 0.5112143\ttotal: 1.67s\tremaining: 929ms\n",
      "643:\tlearn: 0.5108420\ttotal: 1.68s\tremaining: 926ms\n",
      "644:\tlearn: 0.5105498\ttotal: 1.68s\tremaining: 924ms\n",
      "645:\tlearn: 0.5102808\ttotal: 1.68s\tremaining: 921ms\n",
      "646:\tlearn: 0.5100629\ttotal: 1.68s\tremaining: 918ms\n",
      "647:\tlearn: 0.5098641\ttotal: 1.69s\tremaining: 916ms\n",
      "648:\tlearn: 0.5095883\ttotal: 1.69s\tremaining: 913ms\n",
      "649:\tlearn: 0.5092607\ttotal: 1.69s\tremaining: 911ms\n",
      "650:\tlearn: 0.5090538\ttotal: 1.69s\tremaining: 908ms\n",
      "651:\tlearn: 0.5087402\ttotal: 1.7s\tremaining: 905ms\n",
      "652:\tlearn: 0.5082922\ttotal: 1.7s\tremaining: 903ms\n",
      "653:\tlearn: 0.5079928\ttotal: 1.7s\tremaining: 900ms\n",
      "654:\tlearn: 0.5078266\ttotal: 1.7s\tremaining: 897ms\n",
      "655:\tlearn: 0.5075007\ttotal: 1.71s\tremaining: 894ms\n",
      "656:\tlearn: 0.5072198\ttotal: 1.71s\tremaining: 892ms\n",
      "657:\tlearn: 0.5070069\ttotal: 1.71s\tremaining: 889ms\n",
      "658:\tlearn: 0.5067004\ttotal: 1.71s\tremaining: 886ms\n",
      "659:\tlearn: 0.5063985\ttotal: 1.71s\tremaining: 883ms\n",
      "660:\tlearn: 0.5060912\ttotal: 1.72s\tremaining: 881ms\n",
      "661:\tlearn: 0.5057114\ttotal: 1.72s\tremaining: 878ms\n",
      "662:\tlearn: 0.5054250\ttotal: 1.72s\tremaining: 875ms\n",
      "663:\tlearn: 0.5050502\ttotal: 1.72s\tremaining: 873ms\n",
      "664:\tlearn: 0.5048452\ttotal: 1.73s\tremaining: 870ms\n",
      "665:\tlearn: 0.5044478\ttotal: 1.73s\tremaining: 867ms\n",
      "666:\tlearn: 0.5041692\ttotal: 1.73s\tremaining: 864ms\n",
      "667:\tlearn: 0.5038593\ttotal: 1.73s\tremaining: 862ms\n",
      "668:\tlearn: 0.5034149\ttotal: 1.74s\tremaining: 859ms\n",
      "669:\tlearn: 0.5030847\ttotal: 1.74s\tremaining: 856ms\n",
      "670:\tlearn: 0.5027013\ttotal: 1.74s\tremaining: 853ms\n",
      "671:\tlearn: 0.5024866\ttotal: 1.74s\tremaining: 851ms\n",
      "672:\tlearn: 0.5021739\ttotal: 1.75s\tremaining: 848ms\n",
      "673:\tlearn: 0.5019942\ttotal: 1.75s\tremaining: 847ms\n",
      "674:\tlearn: 0.5016276\ttotal: 1.75s\tremaining: 845ms\n",
      "675:\tlearn: 0.5012697\ttotal: 1.76s\tremaining: 842ms\n",
      "676:\tlearn: 0.5010113\ttotal: 1.76s\tremaining: 840ms\n",
      "677:\tlearn: 0.5005504\ttotal: 1.76s\tremaining: 837ms\n",
      "678:\tlearn: 0.5003622\ttotal: 1.76s\tremaining: 834ms\n",
      "679:\tlearn: 0.5001131\ttotal: 1.77s\tremaining: 831ms\n",
      "680:\tlearn: 0.4997636\ttotal: 1.77s\tremaining: 829ms\n",
      "681:\tlearn: 0.4995275\ttotal: 1.77s\tremaining: 826ms\n",
      "682:\tlearn: 0.4991209\ttotal: 1.77s\tremaining: 823ms\n",
      "683:\tlearn: 0.4988908\ttotal: 1.78s\tremaining: 821ms\n",
      "684:\tlearn: 0.4984392\ttotal: 1.78s\tremaining: 818ms\n",
      "685:\tlearn: 0.4980493\ttotal: 1.78s\tremaining: 815ms\n",
      "686:\tlearn: 0.4977209\ttotal: 1.78s\tremaining: 812ms\n",
      "687:\tlearn: 0.4974550\ttotal: 1.78s\tremaining: 810ms\n",
      "688:\tlearn: 0.4971587\ttotal: 1.79s\tremaining: 807ms\n",
      "689:\tlearn: 0.4968372\ttotal: 1.79s\tremaining: 804ms\n",
      "690:\tlearn: 0.4964810\ttotal: 1.79s\tremaining: 801ms\n",
      "691:\tlearn: 0.4961869\ttotal: 1.79s\tremaining: 799ms\n",
      "692:\tlearn: 0.4958666\ttotal: 1.8s\tremaining: 796ms\n",
      "693:\tlearn: 0.4955809\ttotal: 1.8s\tremaining: 793ms\n",
      "694:\tlearn: 0.4952155\ttotal: 1.8s\tremaining: 791ms\n",
      "695:\tlearn: 0.4948934\ttotal: 1.8s\tremaining: 788ms\n",
      "696:\tlearn: 0.4946756\ttotal: 1.81s\tremaining: 785ms\n",
      "697:\tlearn: 0.4944245\ttotal: 1.81s\tremaining: 783ms\n",
      "698:\tlearn: 0.4941063\ttotal: 1.81s\tremaining: 780ms\n",
      "699:\tlearn: 0.4939398\ttotal: 1.81s\tremaining: 778ms\n",
      "700:\tlearn: 0.4938025\ttotal: 1.82s\tremaining: 775ms\n",
      "701:\tlearn: 0.4935146\ttotal: 1.82s\tremaining: 773ms\n",
      "702:\tlearn: 0.4933090\ttotal: 1.82s\tremaining: 770ms\n",
      "703:\tlearn: 0.4928371\ttotal: 1.83s\tremaining: 768ms\n",
      "704:\tlearn: 0.4924824\ttotal: 1.83s\tremaining: 765ms\n",
      "705:\tlearn: 0.4921367\ttotal: 1.83s\tremaining: 763ms\n",
      "706:\tlearn: 0.4918663\ttotal: 1.83s\tremaining: 761ms\n",
      "707:\tlearn: 0.4915613\ttotal: 1.84s\tremaining: 758ms\n",
      "708:\tlearn: 0.4912929\ttotal: 1.84s\tremaining: 756ms\n",
      "709:\tlearn: 0.4910125\ttotal: 1.84s\tremaining: 753ms\n",
      "710:\tlearn: 0.4906516\ttotal: 1.85s\tremaining: 751ms\n",
      "711:\tlearn: 0.4903421\ttotal: 1.85s\tremaining: 748ms\n",
      "712:\tlearn: 0.4900316\ttotal: 1.85s\tremaining: 746ms\n",
      "713:\tlearn: 0.4897537\ttotal: 1.85s\tremaining: 743ms\n",
      "714:\tlearn: 0.4894188\ttotal: 1.86s\tremaining: 740ms\n",
      "715:\tlearn: 0.4892120\ttotal: 1.86s\tremaining: 738ms\n",
      "716:\tlearn: 0.4890139\ttotal: 1.86s\tremaining: 735ms\n",
      "717:\tlearn: 0.4888261\ttotal: 1.86s\tremaining: 732ms\n",
      "718:\tlearn: 0.4884862\ttotal: 1.87s\tremaining: 729ms\n",
      "719:\tlearn: 0.4882297\ttotal: 1.87s\tremaining: 727ms\n",
      "720:\tlearn: 0.4880237\ttotal: 1.87s\tremaining: 724ms\n",
      "721:\tlearn: 0.4876720\ttotal: 1.87s\tremaining: 721ms\n",
      "722:\tlearn: 0.4874669\ttotal: 1.88s\tremaining: 719ms\n",
      "723:\tlearn: 0.4872204\ttotal: 1.88s\tremaining: 716ms\n",
      "724:\tlearn: 0.4869648\ttotal: 1.88s\tremaining: 713ms\n",
      "725:\tlearn: 0.4866199\ttotal: 1.88s\tremaining: 711ms\n",
      "726:\tlearn: 0.4862581\ttotal: 1.89s\tremaining: 708ms\n",
      "727:\tlearn: 0.4861199\ttotal: 1.89s\tremaining: 705ms\n",
      "728:\tlearn: 0.4858863\ttotal: 1.89s\tremaining: 703ms\n",
      "729:\tlearn: 0.4856760\ttotal: 1.89s\tremaining: 700ms\n",
      "730:\tlearn: 0.4855009\ttotal: 1.89s\tremaining: 697ms\n",
      "731:\tlearn: 0.4851903\ttotal: 1.9s\tremaining: 694ms\n",
      "732:\tlearn: 0.4850052\ttotal: 1.9s\tremaining: 692ms\n",
      "733:\tlearn: 0.4847105\ttotal: 1.9s\tremaining: 689ms\n",
      "734:\tlearn: 0.4843904\ttotal: 1.9s\tremaining: 686ms\n",
      "735:\tlearn: 0.4839328\ttotal: 1.91s\tremaining: 684ms\n",
      "736:\tlearn: 0.4836078\ttotal: 1.91s\tremaining: 681ms\n",
      "737:\tlearn: 0.4831954\ttotal: 1.91s\tremaining: 678ms\n",
      "738:\tlearn: 0.4829033\ttotal: 1.91s\tremaining: 675ms\n",
      "739:\tlearn: 0.4826829\ttotal: 1.91s\tremaining: 673ms\n",
      "740:\tlearn: 0.4824634\ttotal: 1.92s\tremaining: 670ms\n",
      "741:\tlearn: 0.4820126\ttotal: 1.92s\tremaining: 667ms\n",
      "742:\tlearn: 0.4817163\ttotal: 1.92s\tremaining: 665ms\n",
      "743:\tlearn: 0.4814709\ttotal: 1.92s\tremaining: 662ms\n",
      "744:\tlearn: 0.4813444\ttotal: 1.93s\tremaining: 659ms\n",
      "745:\tlearn: 0.4810293\ttotal: 1.93s\tremaining: 657ms\n",
      "746:\tlearn: 0.4808248\ttotal: 1.93s\tremaining: 654ms\n",
      "747:\tlearn: 0.4806234\ttotal: 1.93s\tremaining: 651ms\n",
      "748:\tlearn: 0.4802073\ttotal: 1.94s\tremaining: 649ms\n",
      "749:\tlearn: 0.4799228\ttotal: 1.94s\tremaining: 646ms\n",
      "750:\tlearn: 0.4796985\ttotal: 1.94s\tremaining: 643ms\n",
      "751:\tlearn: 0.4793182\ttotal: 1.94s\tremaining: 641ms\n",
      "752:\tlearn: 0.4791512\ttotal: 1.95s\tremaining: 638ms\n",
      "753:\tlearn: 0.4788248\ttotal: 1.95s\tremaining: 636ms\n",
      "754:\tlearn: 0.4786549\ttotal: 1.95s\tremaining: 633ms\n",
      "755:\tlearn: 0.4784819\ttotal: 1.95s\tremaining: 631ms\n",
      "756:\tlearn: 0.4780867\ttotal: 1.96s\tremaining: 628ms\n",
      "757:\tlearn: 0.4777920\ttotal: 1.96s\tremaining: 625ms\n",
      "758:\tlearn: 0.4775324\ttotal: 1.96s\tremaining: 623ms\n",
      "759:\tlearn: 0.4769908\ttotal: 1.96s\tremaining: 620ms\n",
      "760:\tlearn: 0.4765534\ttotal: 1.97s\tremaining: 617ms\n",
      "761:\tlearn: 0.4762240\ttotal: 1.97s\tremaining: 615ms\n",
      "762:\tlearn: 0.4759960\ttotal: 1.97s\tremaining: 612ms\n",
      "763:\tlearn: 0.4756300\ttotal: 1.97s\tremaining: 609ms\n",
      "764:\tlearn: 0.4753764\ttotal: 1.97s\tremaining: 607ms\n",
      "765:\tlearn: 0.4751181\ttotal: 1.98s\tremaining: 604ms\n",
      "766:\tlearn: 0.4748326\ttotal: 1.98s\tremaining: 601ms\n",
      "767:\tlearn: 0.4745222\ttotal: 1.98s\tremaining: 599ms\n",
      "768:\tlearn: 0.4741981\ttotal: 1.98s\tremaining: 596ms\n",
      "769:\tlearn: 0.4739580\ttotal: 1.99s\tremaining: 593ms\n",
      "770:\tlearn: 0.4736457\ttotal: 1.99s\tremaining: 591ms\n",
      "771:\tlearn: 0.4733906\ttotal: 1.99s\tremaining: 588ms\n",
      "772:\tlearn: 0.4731603\ttotal: 1.99s\tremaining: 585ms\n",
      "773:\tlearn: 0.4728569\ttotal: 2s\tremaining: 583ms\n",
      "774:\tlearn: 0.4724956\ttotal: 2s\tremaining: 580ms\n",
      "775:\tlearn: 0.4723076\ttotal: 2s\tremaining: 577ms\n",
      "776:\tlearn: 0.4718770\ttotal: 2s\tremaining: 575ms\n",
      "777:\tlearn: 0.4715621\ttotal: 2s\tremaining: 572ms\n",
      "778:\tlearn: 0.4714421\ttotal: 2.01s\tremaining: 569ms\n",
      "779:\tlearn: 0.4711288\ttotal: 2.01s\tremaining: 567ms\n",
      "780:\tlearn: 0.4708869\ttotal: 2.01s\tremaining: 564ms\n",
      "781:\tlearn: 0.4705892\ttotal: 2.01s\tremaining: 561ms\n",
      "782:\tlearn: 0.4703270\ttotal: 2.02s\tremaining: 559ms\n",
      "783:\tlearn: 0.4700644\ttotal: 2.02s\tremaining: 556ms\n",
      "784:\tlearn: 0.4699056\ttotal: 2.02s\tremaining: 553ms\n",
      "785:\tlearn: 0.4694793\ttotal: 2.02s\tremaining: 551ms\n",
      "786:\tlearn: 0.4692487\ttotal: 2.02s\tremaining: 548ms\n",
      "787:\tlearn: 0.4688745\ttotal: 2.03s\tremaining: 545ms\n",
      "788:\tlearn: 0.4686228\ttotal: 2.03s\tremaining: 543ms\n",
      "789:\tlearn: 0.4683486\ttotal: 2.03s\tremaining: 540ms\n",
      "790:\tlearn: 0.4681370\ttotal: 2.03s\tremaining: 537ms\n",
      "791:\tlearn: 0.4679071\ttotal: 2.04s\tremaining: 535ms\n",
      "792:\tlearn: 0.4675116\ttotal: 2.04s\tremaining: 532ms\n",
      "793:\tlearn: 0.4670953\ttotal: 2.04s\tremaining: 529ms\n",
      "794:\tlearn: 0.4667894\ttotal: 2.04s\tremaining: 527ms\n",
      "795:\tlearn: 0.4665934\ttotal: 2.04s\tremaining: 524ms\n",
      "796:\tlearn: 0.4662405\ttotal: 2.05s\tremaining: 522ms\n",
      "797:\tlearn: 0.4659747\ttotal: 2.05s\tremaining: 519ms\n",
      "798:\tlearn: 0.4656377\ttotal: 2.05s\tremaining: 516ms\n",
      "799:\tlearn: 0.4653557\ttotal: 2.05s\tremaining: 514ms\n",
      "800:\tlearn: 0.4650375\ttotal: 2.06s\tremaining: 511ms\n",
      "801:\tlearn: 0.4647494\ttotal: 2.06s\tremaining: 508ms\n",
      "802:\tlearn: 0.4644383\ttotal: 2.06s\tremaining: 506ms\n",
      "803:\tlearn: 0.4642840\ttotal: 2.06s\tremaining: 503ms\n",
      "804:\tlearn: 0.4638577\ttotal: 2.06s\tremaining: 500ms\n",
      "805:\tlearn: 0.4636547\ttotal: 2.07s\tremaining: 498ms\n",
      "806:\tlearn: 0.4633358\ttotal: 2.07s\tremaining: 495ms\n",
      "807:\tlearn: 0.4630027\ttotal: 2.07s\tremaining: 492ms\n",
      "808:\tlearn: 0.4627270\ttotal: 2.07s\tremaining: 490ms\n",
      "809:\tlearn: 0.4625700\ttotal: 2.08s\tremaining: 487ms\n",
      "810:\tlearn: 0.4622670\ttotal: 2.08s\tremaining: 485ms\n",
      "811:\tlearn: 0.4619903\ttotal: 2.08s\tremaining: 482ms\n",
      "812:\tlearn: 0.4617800\ttotal: 2.08s\tremaining: 479ms\n",
      "813:\tlearn: 0.4615903\ttotal: 2.09s\tremaining: 477ms\n",
      "814:\tlearn: 0.4611663\ttotal: 2.09s\tremaining: 474ms\n",
      "815:\tlearn: 0.4609582\ttotal: 2.09s\tremaining: 472ms\n",
      "816:\tlearn: 0.4607392\ttotal: 2.09s\tremaining: 469ms\n",
      "817:\tlearn: 0.4605527\ttotal: 2.1s\tremaining: 466ms\n",
      "818:\tlearn: 0.4602368\ttotal: 2.1s\tremaining: 464ms\n",
      "819:\tlearn: 0.4600332\ttotal: 2.1s\tremaining: 461ms\n",
      "820:\tlearn: 0.4598588\ttotal: 2.1s\tremaining: 459ms\n",
      "821:\tlearn: 0.4596751\ttotal: 2.11s\tremaining: 456ms\n",
      "822:\tlearn: 0.4594438\ttotal: 2.11s\tremaining: 454ms\n",
      "823:\tlearn: 0.4591977\ttotal: 2.11s\tremaining: 451ms\n",
      "824:\tlearn: 0.4589878\ttotal: 2.11s\tremaining: 448ms\n",
      "825:\tlearn: 0.4586274\ttotal: 2.12s\tremaining: 446ms\n",
      "826:\tlearn: 0.4583821\ttotal: 2.12s\tremaining: 443ms\n",
      "827:\tlearn: 0.4580571\ttotal: 2.12s\tremaining: 441ms\n",
      "828:\tlearn: 0.4579069\ttotal: 2.12s\tremaining: 438ms\n",
      "829:\tlearn: 0.4576953\ttotal: 2.13s\tremaining: 435ms\n",
      "830:\tlearn: 0.4574451\ttotal: 2.13s\tremaining: 433ms\n",
      "831:\tlearn: 0.4572435\ttotal: 2.13s\tremaining: 430ms\n",
      "832:\tlearn: 0.4570161\ttotal: 2.13s\tremaining: 428ms\n",
      "833:\tlearn: 0.4567947\ttotal: 2.13s\tremaining: 425ms\n",
      "834:\tlearn: 0.4564037\ttotal: 2.14s\tremaining: 422ms\n",
      "835:\tlearn: 0.4561391\ttotal: 2.14s\tremaining: 420ms\n",
      "836:\tlearn: 0.4559621\ttotal: 2.14s\tremaining: 418ms\n",
      "837:\tlearn: 0.4557046\ttotal: 2.15s\tremaining: 415ms\n",
      "838:\tlearn: 0.4555263\ttotal: 2.15s\tremaining: 412ms\n",
      "839:\tlearn: 0.4552334\ttotal: 2.15s\tremaining: 410ms\n",
      "840:\tlearn: 0.4549891\ttotal: 2.15s\tremaining: 407ms\n",
      "841:\tlearn: 0.4546430\ttotal: 2.16s\tremaining: 405ms\n",
      "842:\tlearn: 0.4544039\ttotal: 2.16s\tremaining: 402ms\n",
      "843:\tlearn: 0.4542236\ttotal: 2.16s\tremaining: 400ms\n",
      "844:\tlearn: 0.4539401\ttotal: 2.16s\tremaining: 397ms\n",
      "845:\tlearn: 0.4536104\ttotal: 2.17s\tremaining: 394ms\n",
      "846:\tlearn: 0.4534535\ttotal: 2.17s\tremaining: 392ms\n",
      "847:\tlearn: 0.4531288\ttotal: 2.17s\tremaining: 389ms\n",
      "848:\tlearn: 0.4528207\ttotal: 2.17s\tremaining: 387ms\n",
      "849:\tlearn: 0.4526710\ttotal: 2.18s\tremaining: 384ms\n",
      "850:\tlearn: 0.4524315\ttotal: 2.18s\tremaining: 382ms\n",
      "851:\tlearn: 0.4520848\ttotal: 2.18s\tremaining: 379ms\n",
      "852:\tlearn: 0.4518432\ttotal: 2.19s\tremaining: 377ms\n",
      "853:\tlearn: 0.4515403\ttotal: 2.19s\tremaining: 374ms\n",
      "854:\tlearn: 0.4514545\ttotal: 2.19s\tremaining: 372ms\n",
      "855:\tlearn: 0.4510837\ttotal: 2.19s\tremaining: 369ms\n",
      "856:\tlearn: 0.4507658\ttotal: 2.2s\tremaining: 367ms\n",
      "857:\tlearn: 0.4505306\ttotal: 2.2s\tremaining: 364ms\n",
      "858:\tlearn: 0.4502441\ttotal: 2.2s\tremaining: 362ms\n",
      "859:\tlearn: 0.4500252\ttotal: 2.21s\tremaining: 359ms\n",
      "860:\tlearn: 0.4497315\ttotal: 2.21s\tremaining: 357ms\n",
      "861:\tlearn: 0.4495213\ttotal: 2.21s\tremaining: 354ms\n",
      "862:\tlearn: 0.4492624\ttotal: 2.21s\tremaining: 352ms\n",
      "863:\tlearn: 0.4488968\ttotal: 2.22s\tremaining: 349ms\n",
      "864:\tlearn: 0.4486899\ttotal: 2.22s\tremaining: 346ms\n",
      "865:\tlearn: 0.4484184\ttotal: 2.22s\tremaining: 344ms\n",
      "866:\tlearn: 0.4481588\ttotal: 2.22s\tremaining: 341ms\n",
      "867:\tlearn: 0.4478606\ttotal: 2.23s\tremaining: 339ms\n",
      "868:\tlearn: 0.4476251\ttotal: 2.23s\tremaining: 336ms\n",
      "869:\tlearn: 0.4474601\ttotal: 2.23s\tremaining: 333ms\n",
      "870:\tlearn: 0.4472753\ttotal: 2.23s\tremaining: 331ms\n",
      "871:\tlearn: 0.4469673\ttotal: 2.23s\tremaining: 328ms\n",
      "872:\tlearn: 0.4466608\ttotal: 2.24s\tremaining: 326ms\n",
      "873:\tlearn: 0.4462825\ttotal: 2.24s\tremaining: 323ms\n",
      "874:\tlearn: 0.4459649\ttotal: 2.24s\tremaining: 320ms\n",
      "875:\tlearn: 0.4456857\ttotal: 2.25s\tremaining: 318ms\n",
      "876:\tlearn: 0.4454786\ttotal: 2.25s\tremaining: 315ms\n",
      "877:\tlearn: 0.4452852\ttotal: 2.25s\tremaining: 313ms\n",
      "878:\tlearn: 0.4449807\ttotal: 2.25s\tremaining: 310ms\n",
      "879:\tlearn: 0.4448046\ttotal: 2.25s\tremaining: 307ms\n",
      "880:\tlearn: 0.4445822\ttotal: 2.26s\tremaining: 305ms\n",
      "881:\tlearn: 0.4444131\ttotal: 2.26s\tremaining: 302ms\n",
      "882:\tlearn: 0.4441251\ttotal: 2.26s\tremaining: 300ms\n",
      "883:\tlearn: 0.4439486\ttotal: 2.26s\tremaining: 297ms\n",
      "884:\tlearn: 0.4435788\ttotal: 2.27s\tremaining: 294ms\n",
      "885:\tlearn: 0.4433308\ttotal: 2.27s\tremaining: 292ms\n",
      "886:\tlearn: 0.4431435\ttotal: 2.27s\tremaining: 289ms\n",
      "887:\tlearn: 0.4430072\ttotal: 2.27s\tremaining: 287ms\n",
      "888:\tlearn: 0.4428319\ttotal: 2.27s\tremaining: 284ms\n",
      "889:\tlearn: 0.4425328\ttotal: 2.28s\tremaining: 281ms\n",
      "890:\tlearn: 0.4422380\ttotal: 2.28s\tremaining: 279ms\n",
      "891:\tlearn: 0.4420175\ttotal: 2.28s\tremaining: 276ms\n",
      "892:\tlearn: 0.4417281\ttotal: 2.28s\tremaining: 274ms\n",
      "893:\tlearn: 0.4414746\ttotal: 2.29s\tremaining: 271ms\n",
      "894:\tlearn: 0.4411378\ttotal: 2.29s\tremaining: 268ms\n",
      "895:\tlearn: 0.4409704\ttotal: 2.29s\tremaining: 266ms\n",
      "896:\tlearn: 0.4407187\ttotal: 2.29s\tremaining: 263ms\n",
      "897:\tlearn: 0.4404531\ttotal: 2.29s\tremaining: 261ms\n",
      "898:\tlearn: 0.4402581\ttotal: 2.3s\tremaining: 258ms\n",
      "899:\tlearn: 0.4400383\ttotal: 2.3s\tremaining: 256ms\n",
      "900:\tlearn: 0.4398230\ttotal: 2.3s\tremaining: 253ms\n",
      "901:\tlearn: 0.4395080\ttotal: 2.3s\tremaining: 250ms\n",
      "902:\tlearn: 0.4392993\ttotal: 2.31s\tremaining: 248ms\n",
      "903:\tlearn: 0.4391574\ttotal: 2.31s\tremaining: 245ms\n",
      "904:\tlearn: 0.4389109\ttotal: 2.31s\tremaining: 243ms\n",
      "905:\tlearn: 0.4387389\ttotal: 2.31s\tremaining: 240ms\n",
      "906:\tlearn: 0.4385130\ttotal: 2.31s\tremaining: 237ms\n",
      "907:\tlearn: 0.4383529\ttotal: 2.32s\tremaining: 235ms\n",
      "908:\tlearn: 0.4381594\ttotal: 2.32s\tremaining: 232ms\n",
      "909:\tlearn: 0.4377064\ttotal: 2.32s\tremaining: 230ms\n",
      "910:\tlearn: 0.4374492\ttotal: 2.32s\tremaining: 227ms\n",
      "911:\tlearn: 0.4372951\ttotal: 2.33s\tremaining: 225ms\n",
      "912:\tlearn: 0.4370525\ttotal: 2.33s\tremaining: 222ms\n",
      "913:\tlearn: 0.4367928\ttotal: 2.33s\tremaining: 219ms\n",
      "914:\tlearn: 0.4366722\ttotal: 2.33s\tremaining: 217ms\n",
      "915:\tlearn: 0.4364458\ttotal: 2.34s\tremaining: 214ms\n",
      "916:\tlearn: 0.4361795\ttotal: 2.34s\tremaining: 212ms\n",
      "917:\tlearn: 0.4360652\ttotal: 2.34s\tremaining: 209ms\n",
      "918:\tlearn: 0.4359065\ttotal: 2.35s\tremaining: 207ms\n",
      "919:\tlearn: 0.4357351\ttotal: 2.35s\tremaining: 204ms\n",
      "920:\tlearn: 0.4355875\ttotal: 2.35s\tremaining: 202ms\n",
      "921:\tlearn: 0.4353323\ttotal: 2.35s\tremaining: 199ms\n",
      "922:\tlearn: 0.4350503\ttotal: 2.35s\tremaining: 196ms\n",
      "923:\tlearn: 0.4348169\ttotal: 2.36s\tremaining: 194ms\n",
      "924:\tlearn: 0.4345235\ttotal: 2.36s\tremaining: 191ms\n",
      "925:\tlearn: 0.4343197\ttotal: 2.36s\tremaining: 189ms\n",
      "926:\tlearn: 0.4340681\ttotal: 2.36s\tremaining: 186ms\n",
      "927:\tlearn: 0.4337882\ttotal: 2.37s\tremaining: 184ms\n",
      "928:\tlearn: 0.4336023\ttotal: 2.37s\tremaining: 181ms\n",
      "929:\tlearn: 0.4333378\ttotal: 2.37s\tremaining: 178ms\n",
      "930:\tlearn: 0.4329688\ttotal: 2.37s\tremaining: 176ms\n",
      "931:\tlearn: 0.4327216\ttotal: 2.38s\tremaining: 173ms\n",
      "932:\tlearn: 0.4325160\ttotal: 2.38s\tremaining: 171ms\n",
      "933:\tlearn: 0.4323370\ttotal: 2.38s\tremaining: 168ms\n",
      "934:\tlearn: 0.4319709\ttotal: 2.38s\tremaining: 166ms\n",
      "935:\tlearn: 0.4318616\ttotal: 2.38s\tremaining: 163ms\n",
      "936:\tlearn: 0.4316105\ttotal: 2.39s\tremaining: 160ms\n",
      "937:\tlearn: 0.4313271\ttotal: 2.39s\tremaining: 158ms\n",
      "938:\tlearn: 0.4310658\ttotal: 2.39s\tremaining: 155ms\n",
      "939:\tlearn: 0.4307821\ttotal: 2.39s\tremaining: 153ms\n",
      "940:\tlearn: 0.4305724\ttotal: 2.4s\tremaining: 150ms\n",
      "941:\tlearn: 0.4303984\ttotal: 2.4s\tremaining: 148ms\n",
      "942:\tlearn: 0.4300635\ttotal: 2.4s\tremaining: 145ms\n",
      "943:\tlearn: 0.4297557\ttotal: 2.4s\tremaining: 143ms\n",
      "944:\tlearn: 0.4294720\ttotal: 2.4s\tremaining: 140ms\n",
      "945:\tlearn: 0.4292667\ttotal: 2.41s\tremaining: 137ms\n",
      "946:\tlearn: 0.4289889\ttotal: 2.41s\tremaining: 135ms\n",
      "947:\tlearn: 0.4286907\ttotal: 2.41s\tremaining: 132ms\n",
      "948:\tlearn: 0.4284479\ttotal: 2.41s\tremaining: 130ms\n",
      "949:\tlearn: 0.4280274\ttotal: 2.42s\tremaining: 127ms\n",
      "950:\tlearn: 0.4278470\ttotal: 2.42s\tremaining: 125ms\n",
      "951:\tlearn: 0.4276903\ttotal: 2.42s\tremaining: 122ms\n",
      "952:\tlearn: 0.4274694\ttotal: 2.42s\tremaining: 119ms\n",
      "953:\tlearn: 0.4273446\ttotal: 2.42s\tremaining: 117ms\n",
      "954:\tlearn: 0.4272288\ttotal: 2.43s\tremaining: 114ms\n",
      "955:\tlearn: 0.4269883\ttotal: 2.43s\tremaining: 112ms\n",
      "956:\tlearn: 0.4268357\ttotal: 2.43s\tremaining: 109ms\n",
      "957:\tlearn: 0.4266297\ttotal: 2.43s\tremaining: 107ms\n",
      "958:\tlearn: 0.4263184\ttotal: 2.44s\tremaining: 104ms\n",
      "959:\tlearn: 0.4260570\ttotal: 2.44s\tremaining: 102ms\n",
      "960:\tlearn: 0.4258423\ttotal: 2.44s\tremaining: 99.1ms\n",
      "961:\tlearn: 0.4256883\ttotal: 2.44s\tremaining: 96.5ms\n",
      "962:\tlearn: 0.4254395\ttotal: 2.45s\tremaining: 94ms\n",
      "963:\tlearn: 0.4251803\ttotal: 2.45s\tremaining: 91.5ms\n",
      "964:\tlearn: 0.4250479\ttotal: 2.45s\tremaining: 88.9ms\n",
      "965:\tlearn: 0.4246870\ttotal: 2.45s\tremaining: 86.4ms\n",
      "966:\tlearn: 0.4244278\ttotal: 2.46s\tremaining: 83.8ms\n",
      "967:\tlearn: 0.4242485\ttotal: 2.46s\tremaining: 81.3ms\n",
      "968:\tlearn: 0.4240592\ttotal: 2.46s\tremaining: 78.7ms\n",
      "969:\tlearn: 0.4236284\ttotal: 2.46s\tremaining: 76.2ms\n",
      "970:\tlearn: 0.4234562\ttotal: 2.46s\tremaining: 73.6ms\n",
      "971:\tlearn: 0.4232540\ttotal: 2.47s\tremaining: 71.1ms\n",
      "972:\tlearn: 0.4229841\ttotal: 2.47s\tremaining: 68.5ms\n",
      "973:\tlearn: 0.4227795\ttotal: 2.47s\tremaining: 66ms\n",
      "974:\tlearn: 0.4225334\ttotal: 2.47s\tremaining: 63.5ms\n",
      "975:\tlearn: 0.4223574\ttotal: 2.48s\tremaining: 60.9ms\n",
      "976:\tlearn: 0.4220793\ttotal: 2.48s\tremaining: 58.4ms\n",
      "977:\tlearn: 0.4218726\ttotal: 2.48s\tremaining: 55.8ms\n",
      "978:\tlearn: 0.4217191\ttotal: 2.48s\tremaining: 53.3ms\n",
      "979:\tlearn: 0.4213479\ttotal: 2.49s\tremaining: 50.8ms\n",
      "980:\tlearn: 0.4211257\ttotal: 2.49s\tremaining: 48.2ms\n",
      "981:\tlearn: 0.4208732\ttotal: 2.49s\tremaining: 45.7ms\n",
      "982:\tlearn: 0.4205475\ttotal: 2.5s\tremaining: 43.2ms\n",
      "983:\tlearn: 0.4203552\ttotal: 2.5s\tremaining: 40.6ms\n",
      "984:\tlearn: 0.4200841\ttotal: 2.5s\tremaining: 38.1ms\n",
      "985:\tlearn: 0.4199687\ttotal: 2.5s\tremaining: 35.5ms\n",
      "986:\tlearn: 0.4197811\ttotal: 2.5s\tremaining: 33ms\n",
      "987:\tlearn: 0.4196265\ttotal: 2.51s\tremaining: 30.5ms\n",
      "988:\tlearn: 0.4194253\ttotal: 2.51s\tremaining: 27.9ms\n",
      "989:\tlearn: 0.4192430\ttotal: 2.51s\tremaining: 25.4ms\n",
      "990:\tlearn: 0.4190800\ttotal: 2.52s\tremaining: 22.8ms\n",
      "991:\tlearn: 0.4188684\ttotal: 2.52s\tremaining: 20.3ms\n",
      "992:\tlearn: 0.4186969\ttotal: 2.52s\tremaining: 17.8ms\n",
      "993:\tlearn: 0.4186035\ttotal: 2.52s\tremaining: 15.2ms\n",
      "994:\tlearn: 0.4183994\ttotal: 2.52s\tremaining: 12.7ms\n",
      "995:\tlearn: 0.4182835\ttotal: 2.53s\tremaining: 10.2ms\n",
      "996:\tlearn: 0.4180195\ttotal: 2.53s\tremaining: 7.62ms\n",
      "997:\tlearn: 0.4178584\ttotal: 2.53s\tremaining: 5.08ms\n",
      "998:\tlearn: 0.4176623\ttotal: 2.54s\tremaining: 2.54ms\n",
      "999:\tlearn: 0.4175121\ttotal: 2.54s\tremaining: 0us\n"
     ]
    },
    {
     "data": {
      "text/plain": [
       "<catboost.core.CatBoostClassifier at 0x7f7b626b35d0>"
      ]
     },
     "execution_count": 27,
     "metadata": {},
     "output_type": "execute_result"
    }
   ],
   "source": [
    "from catboost import CatBoostClassifier\n",
    "classifier = CatBoostClassifier()\n",
    "classifier.fit(X_train, y_train)"
   ]
  },
  {
   "cell_type": "code",
   "execution_count": 28,
   "id": "5c627c4f",
   "metadata": {
    "execution": {
     "iopub.execute_input": "2022-01-26T16:20:48.851899Z",
     "iopub.status.busy": "2022-01-26T16:20:48.851238Z",
     "iopub.status.idle": "2022-01-26T16:20:48.862054Z",
     "shell.execute_reply": "2022-01-26T16:20:48.862462Z",
     "shell.execute_reply.started": "2022-01-26T16:19:55.912145Z"
    },
    "papermill": {
     "duration": 0.048011,
     "end_time": "2022-01-26T16:20:48.862624",
     "exception": false,
     "start_time": "2022-01-26T16:20:48.814613",
     "status": "completed"
    },
    "tags": []
   },
   "outputs": [
    {
     "name": "stdout",
     "output_type": "stream",
     "text": [
      "[[ 0  0  1  0  0  0]\n",
      " [ 0  0  5  2  0  0]\n",
      " [ 0  0 75 25  0  0]\n",
      " [ 0  0 16 67  9  0]\n",
      " [ 0  0  2 13 12  0]\n",
      " [ 0  0  0  1  1  0]]\n"
     ]
    }
   ],
   "source": [
    "from sklearn.metrics import confusion_matrix, accuracy_score\n",
    "y_pred = classifier.predict(X_test)\n",
    "cm = confusion_matrix(y_test, y_pred)\n",
    "print(cm)\n",
    "acc4 = accuracy_score(y_test, y_pred)"
   ]
  },
  {
   "cell_type": "code",
   "execution_count": 29,
   "id": "77d0b43c",
   "metadata": {
    "execution": {
     "iopub.execute_input": "2022-01-26T16:20:48.935091Z",
     "iopub.status.busy": "2022-01-26T16:20:48.934346Z",
     "iopub.status.idle": "2022-01-26T16:20:48.937393Z",
     "shell.execute_reply": "2022-01-26T16:20:48.938150Z",
     "shell.execute_reply.started": "2022-01-26T16:19:55.926055Z"
    },
    "papermill": {
     "duration": 0.041958,
     "end_time": "2022-01-26T16:20:48.938367",
     "exception": false,
     "start_time": "2022-01-26T16:20:48.896409",
     "status": "completed"
    },
    "tags": []
   },
   "outputs": [
    {
     "name": "stdout",
     "output_type": "stream",
     "text": [
      "0.6724890829694323\n"
     ]
    }
   ],
   "source": [
    "print(acc4)"
   ]
  },
  {
   "cell_type": "markdown",
   "id": "6e3fbb24",
   "metadata": {
    "papermill": {
     "duration": 0.03345,
     "end_time": "2022-01-26T16:20:49.006627",
     "exception": false,
     "start_time": "2022-01-26T16:20:48.973177",
     "status": "completed"
    },
    "tags": []
   },
   "source": [
    "# Create visualization for all model with their Accuracy"
   ]
  },
  {
   "cell_type": "code",
   "execution_count": 30,
   "id": "e3c1daf7",
   "metadata": {
    "execution": {
     "iopub.execute_input": "2022-01-26T16:20:49.078164Z",
     "iopub.status.busy": "2022-01-26T16:20:49.077415Z",
     "iopub.status.idle": "2022-01-26T16:20:49.079927Z",
     "shell.execute_reply": "2022-01-26T16:20:49.079468Z",
     "shell.execute_reply.started": "2022-01-26T16:19:55.931999Z"
    },
    "papermill": {
     "duration": 0.040304,
     "end_time": "2022-01-26T16:20:49.080062",
     "exception": false,
     "start_time": "2022-01-26T16:20:49.039758",
     "status": "completed"
    },
    "tags": []
   },
   "outputs": [],
   "source": [
    "mylist=[]\n",
    "mylist2=[]\n",
    "mylist.append(acc1)\n",
    "mylist2.append(\"Logistic Regression\")\n",
    "mylist.append(acc2)\n",
    "mylist2.append(\"SVM\")\n",
    "mylist.append(acc3)\n",
    "mylist2.append(\"XG Boost\")\n",
    "mylist.append(acc4)\n",
    "mylist2.append(\"CatBoost\")"
   ]
  },
  {
   "cell_type": "code",
   "execution_count": 31,
   "id": "b11e30ca",
   "metadata": {
    "execution": {
     "iopub.execute_input": "2022-01-26T16:20:49.161302Z",
     "iopub.status.busy": "2022-01-26T16:20:49.156499Z",
     "iopub.status.idle": "2022-01-26T16:20:49.394140Z",
     "shell.execute_reply": "2022-01-26T16:20:49.394588Z",
     "shell.execute_reply.started": "2022-01-26T16:19:55.940822Z"
    },
    "papermill": {
     "duration": 0.281547,
     "end_time": "2022-01-26T16:20:49.394749",
     "exception": false,
     "start_time": "2022-01-26T16:20:49.113202",
     "status": "completed"
    },
    "tags": []
   },
   "outputs": [
    {
     "data": {
      "image/png": "[encoded data removed]",
      "text/plain": [
       "<Figure size 576x432 with 1 Axes>"
      ]
     },
     "metadata": {},
     "output_type": "display_data"
    }
   ],
   "source": [
    "plt.rcParams['figure.figsize']=8,6\n",
    "sns.set_style(\"darkgrid\")\n",
    "ax = sns.barplot(x=mylist2, y=mylist, palette = \"rocket\", saturation =1.5)\n",
    "plt.xlabel(\"Classification Models\", fontsize = 20 )\n",
    "plt.ylabel(\"Accuracy\", fontsize = 20)\n",
    "plt.title(\"Accuracy of different Classification Models\", fontsize = 20)\n",
    "plt.xticks(fontsize = 11, horizontalalignment = 'center', rotation = 8)\n",
    "plt.yticks(fontsize = 13)\n",
    "for p in ax.patches:\n",
    "    width, height = p.get_width(), p.get_height()\n",
    "    x, y = p.get_xy() \n",
    "    ax.annotate(f'{height:.2%}', (x + width/2, y + height*1.02), ha='center', fontsize = 'x-large')\n",
    "plt.show()"
   ]
  }
 ],
 "metadata": {
  "kernelspec": {
   "display_name": "Python 3",
   "language": "python",
   "name": "python3"
  },
  "language_info": {
   "codemirror_mode": {
    "name": "ipython",
    "version": 3
   },
   "file_extension": ".py",
   "mimetype": "text/x-python",
   "name": "python",
   "nbconvert_exporter": "python",
   "pygments_lexer": "ipython3",
   "version": "3.7.12"
  },
  "papermill": {
   "default_parameters": {},
   "duration": 16.714399,
   "end_time": "2022-01-26T16:20:50.139624",
   "environment_variables": {},
   "exception": null,
   "input_path": "__notebook__.ipynb",
   "output_path": "__notebook__.ipynb",
   "parameters": {},
   "start_time": "2022-01-26T16:20:33.425225",
   "version": "2.3.3"
  }
 },
 "nbformat": 4,
 "nbformat_minor": 5
}
