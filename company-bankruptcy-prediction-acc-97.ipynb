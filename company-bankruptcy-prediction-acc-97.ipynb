{
 "cells": [
  {
   "cell_type": "code",
   "execution_count": 1,
   "id": "32c8eb24",
   "metadata": {
    "_cell_guid": "b1076dfc-b9ad-4769-8c92-a6c4dae69d19",
    "_uuid": "8f2839f25d086af736a60e9eeb907d3b93b6e0e5",
    "execution": {
     "iopub.execute_input": "2022-02-13T18:34:36.339549Z",
     "iopub.status.busy": "2022-02-13T18:34:36.338307Z",
     "iopub.status.idle": "2022-02-13T18:34:36.358657Z",
     "shell.execute_reply": "2022-02-13T18:34:36.359364Z",
     "shell.execute_reply.started": "2022-02-13T18:33:16.601984Z"
    },
    "papermill": {
     "duration": 0.10099,
     "end_time": "2022-02-13T18:34:36.360001",
     "exception": false,
     "start_time": "2022-02-13T18:34:36.259011",
     "status": "completed"
    },
    "tags": []
   },
   "outputs": [
    {
     "name": "stdout",
     "output_type": "stream",
     "text": [
      "/kaggle/input/company-bankruptcy-prediction/data.csv\n"
     ]
    }
   ],
   "source": [
    "# This Python 3 environment comes with many helpful analytics libraries installed\n",
    "# It is defined by the kaggle/python Docker image: https://github.com/kaggle/docker-python\n",
    "# For example, here's several helpful packages to load\n",
    "\n",
    "import numpy as np # linear algebra\n",
    "import pandas as pd # data processing, CSV file I/O (e.g. pd.read_csv)\n",
    "\n",
    "# Input data files are available in the read-only \"../input/\" directory\n",
    "# For example, running this (by clicking run or pressing Shift+Enter) will list all files under the input directory\n",
    "\n",
    "import os\n",
    "for dirname, _, filenames in os.walk('/kaggle/input'):\n",
    "    for filename in filenames:\n",
    "        print(os.path.join(dirname, filename))\n",
    "\n",
    "# You can write up to 20GB to the current directory (/kaggle/working/) that gets preserved as output when you create a version using \"Save & Run All\" \n",
    "# You can also write temporary files to /kaggle/temp/, but they won't be saved outside of the current session"
   ]
  },
  {
   "cell_type": "markdown",
   "id": "36d71b92",
   "metadata": {
    "papermill": {
     "duration": 0.069698,
     "end_time": "2022-02-13T18:34:36.503591",
     "exception": false,
     "start_time": "2022-02-13T18:34:36.433893",
     "status": "completed"
    },
    "tags": []
   },
   "source": [
    "<h3>DataSet Link: </h3>"
   ]
  },
  {
   "cell_type": "markdown",
   "id": "4ba6bf6c",
   "metadata": {
    "papermill": {
     "duration": 0.090521,
     "end_time": "2022-02-13T18:34:36.667535",
     "exception": false,
     "start_time": "2022-02-13T18:34:36.577014",
     "status": "completed"
    },
    "tags": []
   },
   "source": [
    "https://www.kaggle.com/fedesoriano/company-bankruptcy-prediction"
   ]
  },
  {
   "cell_type": "code",
   "execution_count": 2,
   "id": "603547f8",
   "metadata": {
    "execution": {
     "iopub.execute_input": "2022-02-13T18:34:36.817327Z",
     "iopub.status.busy": "2022-02-13T18:34:36.816643Z",
     "iopub.status.idle": "2022-02-13T18:34:37.874625Z",
     "shell.execute_reply": "2022-02-13T18:34:37.873938Z",
     "shell.execute_reply.started": "2022-02-13T18:33:16.623298Z"
    },
    "papermill": {
     "duration": 1.132129,
     "end_time": "2022-02-13T18:34:37.874779",
     "exception": false,
     "start_time": "2022-02-13T18:34:36.742650",
     "status": "completed"
    },
    "tags": []
   },
   "outputs": [],
   "source": [
    "#Import the libraries\n",
    "import numpy as np\n",
    "import pandas as pd\n",
    "import matplotlib.pyplot as plt\n",
    "import seaborn as sns"
   ]
  },
  {
   "cell_type": "code",
   "execution_count": 3,
   "id": "0152bf47",
   "metadata": {
    "execution": {
     "iopub.execute_input": "2022-02-13T18:34:38.020690Z",
     "iopub.status.busy": "2022-02-13T18:34:38.019920Z",
     "iopub.status.idle": "2022-02-13T18:34:38.316085Z",
     "shell.execute_reply": "2022-02-13T18:34:38.315445Z",
     "shell.execute_reply.started": "2022-02-13T18:33:16.631964Z"
    },
    "papermill": {
     "duration": 0.370835,
     "end_time": "2022-02-13T18:34:38.316236",
     "exception": false,
     "start_time": "2022-02-13T18:34:37.945401",
     "status": "completed"
    },
    "tags": []
   },
   "outputs": [],
   "source": [
    "#Load the dataset\n",
    "data = pd.read_csv(\"../input/company-bankruptcy-prediction/data.csv\")"
   ]
  },
  {
   "cell_type": "code",
   "execution_count": 4,
   "id": "95ed4deb",
   "metadata": {
    "execution": {
     "iopub.execute_input": "2022-02-13T18:34:38.469207Z",
     "iopub.status.busy": "2022-02-13T18:34:38.468555Z",
     "iopub.status.idle": "2022-02-13T18:34:38.501066Z",
     "shell.execute_reply": "2022-02-13T18:34:38.501596Z",
     "shell.execute_reply.started": "2022-02-13T18:33:16.888606Z"
    },
    "papermill": {
     "duration": 0.111728,
     "end_time": "2022-02-13T18:34:38.501771",
     "exception": false,
     "start_time": "2022-02-13T18:34:38.390043",
     "status": "completed"
    },
    "tags": []
   },
   "outputs": [
    {
     "data": {
      "text/html": [
       "<div>\n",
       "<style scoped>\n",
       "    .dataframe tbody tr th:only-of-type {\n",
       "        vertical-align: middle;\n",
       "    }\n",
       "\n",
       "    .dataframe tbody tr th {\n",
       "        vertical-align: top;\n",
       "    }\n",
       "\n",
       "    .dataframe thead th {\n",
       "        text-align: right;\n",
       "    }\n",
       "</style>\n",
       "<table border=\"1\" class=\"dataframe\">\n",
       "  <thead>\n",
       "    <tr style=\"text-align: right;\">\n",
       "      <th></th>\n",
       "      <th>Bankrupt?</th>\n",
       "      <th>ROA(C) before interest and depreciation before interest</th>\n",
       "      <th>ROA(A) before interest and % after tax</th>\n",
       "      <th>ROA(B) before interest and depreciation after tax</th>\n",
       "      <th>Operating Gross Margin</th>\n",
       "      <th>Realized Sales Gross Margin</th>\n",
       "      <th>Operating Profit Rate</th>\n",
       "      <th>Pre-tax net Interest Rate</th>\n",
       "      <th>After-tax net Interest Rate</th>\n",
       "      <th>Non-industry income and expenditure/revenue</th>\n",
       "      <th>...</th>\n",
       "      <th>Net Income to Total Assets</th>\n",
       "      <th>Total assets to GNP price</th>\n",
       "      <th>No-credit Interval</th>\n",
       "      <th>Gross Profit to Sales</th>\n",
       "      <th>Net Income to Stockholder's Equity</th>\n",
       "      <th>Liability to Equity</th>\n",
       "      <th>Degree of Financial Leverage (DFL)</th>\n",
       "      <th>Interest Coverage Ratio (Interest expense to EBIT)</th>\n",
       "      <th>Net Income Flag</th>\n",
       "      <th>Equity to Liability</th>\n",
       "    </tr>\n",
       "  </thead>\n",
       "  <tbody>\n",
       "    <tr>\n",
       "      <th>0</th>\n",
       "      <td>1</td>\n",
       "      <td>0.370594</td>\n",
       "      <td>0.424389</td>\n",
       "      <td>0.405750</td>\n",
       "      <td>0.601457</td>\n",
       "      <td>0.601457</td>\n",
       "      <td>0.998969</td>\n",
       "      <td>0.796887</td>\n",
       "      <td>0.808809</td>\n",
       "      <td>0.302646</td>\n",
       "      <td>...</td>\n",
       "      <td>0.716845</td>\n",
       "      <td>0.009219</td>\n",
       "      <td>0.622879</td>\n",
       "      <td>0.601453</td>\n",
       "      <td>0.827890</td>\n",
       "      <td>0.290202</td>\n",
       "      <td>0.026601</td>\n",
       "      <td>0.564050</td>\n",
       "      <td>1</td>\n",
       "      <td>0.016469</td>\n",
       "    </tr>\n",
       "    <tr>\n",
       "      <th>1</th>\n",
       "      <td>1</td>\n",
       "      <td>0.464291</td>\n",
       "      <td>0.538214</td>\n",
       "      <td>0.516730</td>\n",
       "      <td>0.610235</td>\n",
       "      <td>0.610235</td>\n",
       "      <td>0.998946</td>\n",
       "      <td>0.797380</td>\n",
       "      <td>0.809301</td>\n",
       "      <td>0.303556</td>\n",
       "      <td>...</td>\n",
       "      <td>0.795297</td>\n",
       "      <td>0.008323</td>\n",
       "      <td>0.623652</td>\n",
       "      <td>0.610237</td>\n",
       "      <td>0.839969</td>\n",
       "      <td>0.283846</td>\n",
       "      <td>0.264577</td>\n",
       "      <td>0.570175</td>\n",
       "      <td>1</td>\n",
       "      <td>0.020794</td>\n",
       "    </tr>\n",
       "    <tr>\n",
       "      <th>2</th>\n",
       "      <td>1</td>\n",
       "      <td>0.426071</td>\n",
       "      <td>0.499019</td>\n",
       "      <td>0.472295</td>\n",
       "      <td>0.601450</td>\n",
       "      <td>0.601364</td>\n",
       "      <td>0.998857</td>\n",
       "      <td>0.796403</td>\n",
       "      <td>0.808388</td>\n",
       "      <td>0.302035</td>\n",
       "      <td>...</td>\n",
       "      <td>0.774670</td>\n",
       "      <td>0.040003</td>\n",
       "      <td>0.623841</td>\n",
       "      <td>0.601449</td>\n",
       "      <td>0.836774</td>\n",
       "      <td>0.290189</td>\n",
       "      <td>0.026555</td>\n",
       "      <td>0.563706</td>\n",
       "      <td>1</td>\n",
       "      <td>0.016474</td>\n",
       "    </tr>\n",
       "    <tr>\n",
       "      <th>3</th>\n",
       "      <td>1</td>\n",
       "      <td>0.399844</td>\n",
       "      <td>0.451265</td>\n",
       "      <td>0.457733</td>\n",
       "      <td>0.583541</td>\n",
       "      <td>0.583541</td>\n",
       "      <td>0.998700</td>\n",
       "      <td>0.796967</td>\n",
       "      <td>0.808966</td>\n",
       "      <td>0.303350</td>\n",
       "      <td>...</td>\n",
       "      <td>0.739555</td>\n",
       "      <td>0.003252</td>\n",
       "      <td>0.622929</td>\n",
       "      <td>0.583538</td>\n",
       "      <td>0.834697</td>\n",
       "      <td>0.281721</td>\n",
       "      <td>0.026697</td>\n",
       "      <td>0.564663</td>\n",
       "      <td>1</td>\n",
       "      <td>0.023982</td>\n",
       "    </tr>\n",
       "    <tr>\n",
       "      <th>4</th>\n",
       "      <td>1</td>\n",
       "      <td>0.465022</td>\n",
       "      <td>0.538432</td>\n",
       "      <td>0.522298</td>\n",
       "      <td>0.598783</td>\n",
       "      <td>0.598783</td>\n",
       "      <td>0.998973</td>\n",
       "      <td>0.797366</td>\n",
       "      <td>0.809304</td>\n",
       "      <td>0.303475</td>\n",
       "      <td>...</td>\n",
       "      <td>0.795016</td>\n",
       "      <td>0.003878</td>\n",
       "      <td>0.623521</td>\n",
       "      <td>0.598782</td>\n",
       "      <td>0.839973</td>\n",
       "      <td>0.278514</td>\n",
       "      <td>0.024752</td>\n",
       "      <td>0.575617</td>\n",
       "      <td>1</td>\n",
       "      <td>0.035490</td>\n",
       "    </tr>\n",
       "  </tbody>\n",
       "</table>\n",
       "<p>5 rows × 96 columns</p>\n",
       "</div>"
      ],
      "text/plain": [
       "   Bankrupt?   ROA(C) before interest and depreciation before interest  \\\n",
       "0          1                                           0.370594          \n",
       "1          1                                           0.464291          \n",
       "2          1                                           0.426071          \n",
       "3          1                                           0.399844          \n",
       "4          1                                           0.465022          \n",
       "\n",
       "    ROA(A) before interest and % after tax  \\\n",
       "0                                 0.424389   \n",
       "1                                 0.538214   \n",
       "2                                 0.499019   \n",
       "3                                 0.451265   \n",
       "4                                 0.538432   \n",
       "\n",
       "    ROA(B) before interest and depreciation after tax  \\\n",
       "0                                           0.405750    \n",
       "1                                           0.516730    \n",
       "2                                           0.472295    \n",
       "3                                           0.457733    \n",
       "4                                           0.522298    \n",
       "\n",
       "    Operating Gross Margin   Realized Sales Gross Margin  \\\n",
       "0                 0.601457                      0.601457   \n",
       "1                 0.610235                      0.610235   \n",
       "2                 0.601450                      0.601364   \n",
       "3                 0.583541                      0.583541   \n",
       "4                 0.598783                      0.598783   \n",
       "\n",
       "    Operating Profit Rate   Pre-tax net Interest Rate  \\\n",
       "0                0.998969                    0.796887   \n",
       "1                0.998946                    0.797380   \n",
       "2                0.998857                    0.796403   \n",
       "3                0.998700                    0.796967   \n",
       "4                0.998973                    0.797366   \n",
       "\n",
       "    After-tax net Interest Rate   Non-industry income and expenditure/revenue  \\\n",
       "0                      0.808809                                      0.302646   \n",
       "1                      0.809301                                      0.303556   \n",
       "2                      0.808388                                      0.302035   \n",
       "3                      0.808966                                      0.303350   \n",
       "4                      0.809304                                      0.303475   \n",
       "\n",
       "   ...   Net Income to Total Assets   Total assets to GNP price  \\\n",
       "0  ...                     0.716845                    0.009219   \n",
       "1  ...                     0.795297                    0.008323   \n",
       "2  ...                     0.774670                    0.040003   \n",
       "3  ...                     0.739555                    0.003252   \n",
       "4  ...                     0.795016                    0.003878   \n",
       "\n",
       "    No-credit Interval   Gross Profit to Sales  \\\n",
       "0             0.622879                0.601453   \n",
       "1             0.623652                0.610237   \n",
       "2             0.623841                0.601449   \n",
       "3             0.622929                0.583538   \n",
       "4             0.623521                0.598782   \n",
       "\n",
       "    Net Income to Stockholder's Equity   Liability to Equity  \\\n",
       "0                             0.827890              0.290202   \n",
       "1                             0.839969              0.283846   \n",
       "2                             0.836774              0.290189   \n",
       "3                             0.834697              0.281721   \n",
       "4                             0.839973              0.278514   \n",
       "\n",
       "    Degree of Financial Leverage (DFL)  \\\n",
       "0                             0.026601   \n",
       "1                             0.264577   \n",
       "2                             0.026555   \n",
       "3                             0.026697   \n",
       "4                             0.024752   \n",
       "\n",
       "    Interest Coverage Ratio (Interest expense to EBIT)   Net Income Flag  \\\n",
       "0                                           0.564050                   1   \n",
       "1                                           0.570175                   1   \n",
       "2                                           0.563706                   1   \n",
       "3                                           0.564663                   1   \n",
       "4                                           0.575617                   1   \n",
       "\n",
       "    Equity to Liability  \n",
       "0              0.016469  \n",
       "1              0.020794  \n",
       "2              0.016474  \n",
       "3              0.023982  \n",
       "4              0.035490  \n",
       "\n",
       "[5 rows x 96 columns]"
      ]
     },
     "execution_count": 4,
     "metadata": {},
     "output_type": "execute_result"
    }
   ],
   "source": [
    "data.head()"
   ]
  },
  {
   "cell_type": "code",
   "execution_count": 5,
   "id": "b06d62d9",
   "metadata": {
    "execution": {
     "iopub.execute_input": "2022-02-13T18:34:38.652009Z",
     "iopub.status.busy": "2022-02-13T18:34:38.651302Z",
     "iopub.status.idle": "2022-02-13T18:34:38.678679Z",
     "shell.execute_reply": "2022-02-13T18:34:38.679211Z",
     "shell.execute_reply.started": "2022-02-13T18:33:16.917802Z"
    },
    "papermill": {
     "duration": 0.105744,
     "end_time": "2022-02-13T18:34:38.679387",
     "exception": false,
     "start_time": "2022-02-13T18:34:38.573643",
     "status": "completed"
    },
    "tags": []
   },
   "outputs": [
    {
     "name": "stdout",
     "output_type": "stream",
     "text": [
      "<class 'pandas.core.frame.DataFrame'>\n",
      "RangeIndex: 6819 entries, 0 to 6818\n",
      "Data columns (total 96 columns):\n",
      " #   Column                                                    Non-Null Count  Dtype  \n",
      "---  ------                                                    --------------  -----  \n",
      " 0   Bankrupt?                                                 6819 non-null   int64  \n",
      " 1    ROA(C) before interest and depreciation before interest  6819 non-null   float64\n",
      " 2    ROA(A) before interest and % after tax                   6819 non-null   float64\n",
      " 3    ROA(B) before interest and depreciation after tax        6819 non-null   float64\n",
      " 4    Operating Gross Margin                                   6819 non-null   float64\n",
      " 5    Realized Sales Gross Margin                              6819 non-null   float64\n",
      " 6    Operating Profit Rate                                    6819 non-null   float64\n",
      " 7    Pre-tax net Interest Rate                                6819 non-null   float64\n",
      " 8    After-tax net Interest Rate                              6819 non-null   float64\n",
      " 9    Non-industry income and expenditure/revenue              6819 non-null   float64\n",
      " 10   Continuous interest rate (after tax)                     6819 non-null   float64\n",
      " 11   Operating Expense Rate                                   6819 non-null   float64\n",
      " 12   Research and development expense rate                    6819 non-null   float64\n",
      " 13   Cash flow rate                                           6819 non-null   float64\n",
      " 14   Interest-bearing debt interest rate                      6819 non-null   float64\n",
      " 15   Tax rate (A)                                             6819 non-null   float64\n",
      " 16   Net Value Per Share (B)                                  6819 non-null   float64\n",
      " 17   Net Value Per Share (A)                                  6819 non-null   float64\n",
      " 18   Net Value Per Share (C)                                  6819 non-null   float64\n",
      " 19   Persistent EPS in the Last Four Seasons                  6819 non-null   float64\n",
      " 20   Cash Flow Per Share                                      6819 non-null   float64\n",
      " 21   Revenue Per Share (Yuan ¥)                               6819 non-null   float64\n",
      " 22   Operating Profit Per Share (Yuan ¥)                      6819 non-null   float64\n",
      " 23   Per Share Net profit before tax (Yuan ¥)                 6819 non-null   float64\n",
      " 24   Realized Sales Gross Profit Growth Rate                  6819 non-null   float64\n",
      " 25   Operating Profit Growth Rate                             6819 non-null   float64\n",
      " 26   After-tax Net Profit Growth Rate                         6819 non-null   float64\n",
      " 27   Regular Net Profit Growth Rate                           6819 non-null   float64\n",
      " 28   Continuous Net Profit Growth Rate                        6819 non-null   float64\n",
      " 29   Total Asset Growth Rate                                  6819 non-null   float64\n",
      " 30   Net Value Growth Rate                                    6819 non-null   float64\n",
      " 31   Total Asset Return Growth Rate Ratio                     6819 non-null   float64\n",
      " 32   Cash Reinvestment %                                      6819 non-null   float64\n",
      " 33   Current Ratio                                            6819 non-null   float64\n",
      " 34   Quick Ratio                                              6819 non-null   float64\n",
      " 35   Interest Expense Ratio                                   6819 non-null   float64\n",
      " 36   Total debt/Total net worth                               6819 non-null   float64\n",
      " 37   Debt ratio %                                             6819 non-null   float64\n",
      " 38   Net worth/Assets                                         6819 non-null   float64\n",
      " 39   Long-term fund suitability ratio (A)                     6819 non-null   float64\n",
      " 40   Borrowing dependency                                     6819 non-null   float64\n",
      " 41   Contingent liabilities/Net worth                         6819 non-null   float64\n",
      " 42   Operating profit/Paid-in capital                         6819 non-null   float64\n",
      " 43   Net profit before tax/Paid-in capital                    6819 non-null   float64\n",
      " 44   Inventory and accounts receivable/Net value              6819 non-null   float64\n",
      " 45   Total Asset Turnover                                     6819 non-null   float64\n",
      " 46   Accounts Receivable Turnover                             6819 non-null   float64\n",
      " 47   Average Collection Days                                  6819 non-null   float64\n",
      " 48   Inventory Turnover Rate (times)                          6819 non-null   float64\n",
      " 49   Fixed Assets Turnover Frequency                          6819 non-null   float64\n",
      " 50   Net Worth Turnover Rate (times)                          6819 non-null   float64\n",
      " 51   Revenue per person                                       6819 non-null   float64\n",
      " 52   Operating profit per person                              6819 non-null   float64\n",
      " 53   Allocation rate per person                               6819 non-null   float64\n",
      " 54   Working Capital to Total Assets                          6819 non-null   float64\n",
      " 55   Quick Assets/Total Assets                                6819 non-null   float64\n",
      " 56   Current Assets/Total Assets                              6819 non-null   float64\n",
      " 57   Cash/Total Assets                                        6819 non-null   float64\n",
      " 58   Quick Assets/Current Liability                           6819 non-null   float64\n",
      " 59   Cash/Current Liability                                   6819 non-null   float64\n",
      " 60   Current Liability to Assets                              6819 non-null   float64\n",
      " 61   Operating Funds to Liability                             6819 non-null   float64\n",
      " 62   Inventory/Working Capital                                6819 non-null   float64\n",
      " 63   Inventory/Current Liability                              6819 non-null   float64\n",
      " 64   Current Liabilities/Liability                            6819 non-null   float64\n",
      " 65   Working Capital/Equity                                   6819 non-null   float64\n",
      " 66   Current Liabilities/Equity                               6819 non-null   float64\n",
      " 67   Long-term Liability to Current Assets                    6819 non-null   float64\n",
      " 68   Retained Earnings to Total Assets                        6819 non-null   float64\n",
      " 69   Total income/Total expense                               6819 non-null   float64\n",
      " 70   Total expense/Assets                                     6819 non-null   float64\n",
      " 71   Current Asset Turnover Rate                              6819 non-null   float64\n",
      " 72   Quick Asset Turnover Rate                                6819 non-null   float64\n",
      " 73   Working capitcal Turnover Rate                           6819 non-null   float64\n",
      " 74   Cash Turnover Rate                                       6819 non-null   float64\n",
      " 75   Cash Flow to Sales                                       6819 non-null   float64\n",
      " 76   Fixed Assets to Assets                                   6819 non-null   float64\n",
      " 77   Current Liability to Liability                           6819 non-null   float64\n",
      " 78   Current Liability to Equity                              6819 non-null   float64\n",
      " 79   Equity to Long-term Liability                            6819 non-null   float64\n",
      " 80   Cash Flow to Total Assets                                6819 non-null   float64\n",
      " 81   Cash Flow to Liability                                   6819 non-null   float64\n",
      " 82   CFO to Assets                                            6819 non-null   float64\n",
      " 83   Cash Flow to Equity                                      6819 non-null   float64\n",
      " 84   Current Liability to Current Assets                      6819 non-null   float64\n",
      " 85   Liability-Assets Flag                                    6819 non-null   int64  \n",
      " 86   Net Income to Total Assets                               6819 non-null   float64\n",
      " 87   Total assets to GNP price                                6819 non-null   float64\n",
      " 88   No-credit Interval                                       6819 non-null   float64\n",
      " 89   Gross Profit to Sales                                    6819 non-null   float64\n",
      " 90   Net Income to Stockholder's Equity                       6819 non-null   float64\n",
      " 91   Liability to Equity                                      6819 non-null   float64\n",
      " 92   Degree of Financial Leverage (DFL)                       6819 non-null   float64\n",
      " 93   Interest Coverage Ratio (Interest expense to EBIT)       6819 non-null   float64\n",
      " 94   Net Income Flag                                          6819 non-null   int64  \n",
      " 95   Equity to Liability                                      6819 non-null   float64\n",
      "dtypes: float64(93), int64(3)\n",
      "memory usage: 5.0 MB\n"
     ]
    }
   ],
   "source": [
    "data.info()"
   ]
  },
  {
   "cell_type": "code",
   "execution_count": 6,
   "id": "6a5a91c7",
   "metadata": {
    "execution": {
     "iopub.execute_input": "2022-02-13T18:34:38.830129Z",
     "iopub.status.busy": "2022-02-13T18:34:38.829254Z",
     "iopub.status.idle": "2022-02-13T18:34:38.832872Z",
     "shell.execute_reply": "2022-02-13T18:34:38.833426Z",
     "shell.execute_reply.started": "2022-02-13T18:33:16.941152Z"
    },
    "papermill": {
     "duration": 0.083081,
     "end_time": "2022-02-13T18:34:38.833620",
     "exception": false,
     "start_time": "2022-02-13T18:34:38.750539",
     "status": "completed"
    },
    "tags": []
   },
   "outputs": [
    {
     "data": {
      "text/plain": [
       "(6819, 96)"
      ]
     },
     "execution_count": 6,
     "metadata": {},
     "output_type": "execute_result"
    }
   ],
   "source": [
    "data.shape"
   ]
  },
  {
   "cell_type": "code",
   "execution_count": 7,
   "id": "e0b0d94a",
   "metadata": {
    "execution": {
     "iopub.execute_input": "2022-02-13T18:34:38.984203Z",
     "iopub.status.busy": "2022-02-13T18:34:38.983529Z",
     "iopub.status.idle": "2022-02-13T18:34:38.992441Z",
     "shell.execute_reply": "2022-02-13T18:34:38.991879Z",
     "shell.execute_reply.started": "2022-02-13T18:33:16.948822Z"
    },
    "papermill": {
     "duration": 0.08664,
     "end_time": "2022-02-13T18:34:38.992600",
     "exception": false,
     "start_time": "2022-02-13T18:34:38.905960",
     "status": "completed"
    },
    "tags": []
   },
   "outputs": [
    {
     "data": {
      "text/plain": [
       "Bankrupt?                                                   0\n",
       " ROA(C) before interest and depreciation before interest    0\n",
       " ROA(A) before interest and % after tax                     0\n",
       " ROA(B) before interest and depreciation after tax          0\n",
       " Operating Gross Margin                                     0\n",
       "                                                           ..\n",
       " Liability to Equity                                        0\n",
       " Degree of Financial Leverage (DFL)                         0\n",
       " Interest Coverage Ratio (Interest expense to EBIT)         0\n",
       " Net Income Flag                                            0\n",
       " Equity to Liability                                        0\n",
       "Length: 96, dtype: int64"
      ]
     },
     "execution_count": 7,
     "metadata": {},
     "output_type": "execute_result"
    }
   ],
   "source": [
    "data.isnull().sum()"
   ]
  },
  {
   "cell_type": "code",
   "execution_count": 8,
   "id": "ce9d03e2",
   "metadata": {
    "execution": {
     "iopub.execute_input": "2022-02-13T18:34:39.146219Z",
     "iopub.status.busy": "2022-02-13T18:34:39.145095Z",
     "iopub.status.idle": "2022-02-13T18:34:39.356860Z",
     "shell.execute_reply": "2022-02-13T18:34:39.357400Z",
     "shell.execute_reply.started": "2022-02-13T18:33:16.966984Z"
    },
    "papermill": {
     "duration": 0.291524,
     "end_time": "2022-02-13T18:34:39.357610",
     "exception": false,
     "start_time": "2022-02-13T18:34:39.066086",
     "status": "completed"
    },
    "tags": []
   },
   "outputs": [
    {
     "data": {
      "image/png": "[encoded data removed]",
      "text/plain": [
       "<Figure size 1152x648 with 1 Axes>"
      ]
     },
     "metadata": {
      "needs_background": "light"
     },
     "output_type": "display_data"
    }
   ],
   "source": [
    "plt.figure(figsize=(16,9))\n",
    "sns.countplot(x = 'Bankrupt?',data = data,palette ='Blues' )\n",
    "plt.show()"
   ]
  },
  {
   "cell_type": "code",
   "execution_count": 9,
   "id": "0503aeef",
   "metadata": {
    "execution": {
     "iopub.execute_input": "2022-02-13T18:34:39.507051Z",
     "iopub.status.busy": "2022-02-13T18:34:39.506023Z",
     "iopub.status.idle": "2022-02-13T18:34:39.722430Z",
     "shell.execute_reply": "2022-02-13T18:34:39.722961Z",
     "shell.execute_reply.started": "2022-02-13T18:33:17.167505Z"
    },
    "papermill": {
     "duration": 0.29281,
     "end_time": "2022-02-13T18:34:39.723133",
     "exception": false,
     "start_time": "2022-02-13T18:34:39.430323",
     "status": "completed"
    },
    "tags": []
   },
   "outputs": [
    {
     "data": {
      "text/html": [
       "<div>\n",
       "<style scoped>\n",
       "    .dataframe tbody tr th:only-of-type {\n",
       "        vertical-align: middle;\n",
       "    }\n",
       "\n",
       "    .dataframe tbody tr th {\n",
       "        vertical-align: top;\n",
       "    }\n",
       "\n",
       "    .dataframe thead th {\n",
       "        text-align: right;\n",
       "    }\n",
       "</style>\n",
       "<table border=\"1\" class=\"dataframe\">\n",
       "  <thead>\n",
       "    <tr style=\"text-align: right;\">\n",
       "      <th></th>\n",
       "      <th>Bankrupt?</th>\n",
       "      <th>ROA(C) before interest and depreciation before interest</th>\n",
       "      <th>ROA(A) before interest and % after tax</th>\n",
       "      <th>ROA(B) before interest and depreciation after tax</th>\n",
       "      <th>Operating Gross Margin</th>\n",
       "      <th>Realized Sales Gross Margin</th>\n",
       "      <th>Operating Profit Rate</th>\n",
       "      <th>Pre-tax net Interest Rate</th>\n",
       "      <th>After-tax net Interest Rate</th>\n",
       "      <th>Non-industry income and expenditure/revenue</th>\n",
       "      <th>...</th>\n",
       "      <th>Net Income to Total Assets</th>\n",
       "      <th>Total assets to GNP price</th>\n",
       "      <th>No-credit Interval</th>\n",
       "      <th>Gross Profit to Sales</th>\n",
       "      <th>Net Income to Stockholder's Equity</th>\n",
       "      <th>Liability to Equity</th>\n",
       "      <th>Degree of Financial Leverage (DFL)</th>\n",
       "      <th>Interest Coverage Ratio (Interest expense to EBIT)</th>\n",
       "      <th>Net Income Flag</th>\n",
       "      <th>Equity to Liability</th>\n",
       "    </tr>\n",
       "  </thead>\n",
       "  <tbody>\n",
       "    <tr>\n",
       "      <th>count</th>\n",
       "      <td>6819.000000</td>\n",
       "      <td>6819.000000</td>\n",
       "      <td>6819.000000</td>\n",
       "      <td>6819.000000</td>\n",
       "      <td>6819.000000</td>\n",
       "      <td>6819.000000</td>\n",
       "      <td>6819.000000</td>\n",
       "      <td>6819.000000</td>\n",
       "      <td>6819.000000</td>\n",
       "      <td>6819.000000</td>\n",
       "      <td>...</td>\n",
       "      <td>6819.000000</td>\n",
       "      <td>6.819000e+03</td>\n",
       "      <td>6819.000000</td>\n",
       "      <td>6819.000000</td>\n",
       "      <td>6819.000000</td>\n",
       "      <td>6819.000000</td>\n",
       "      <td>6819.000000</td>\n",
       "      <td>6819.000000</td>\n",
       "      <td>6819.0</td>\n",
       "      <td>6819.000000</td>\n",
       "    </tr>\n",
       "    <tr>\n",
       "      <th>mean</th>\n",
       "      <td>0.032263</td>\n",
       "      <td>0.505180</td>\n",
       "      <td>0.558625</td>\n",
       "      <td>0.553589</td>\n",
       "      <td>0.607948</td>\n",
       "      <td>0.607929</td>\n",
       "      <td>0.998755</td>\n",
       "      <td>0.797190</td>\n",
       "      <td>0.809084</td>\n",
       "      <td>0.303623</td>\n",
       "      <td>...</td>\n",
       "      <td>0.807760</td>\n",
       "      <td>1.862942e+07</td>\n",
       "      <td>0.623915</td>\n",
       "      <td>0.607946</td>\n",
       "      <td>0.840402</td>\n",
       "      <td>0.280365</td>\n",
       "      <td>0.027541</td>\n",
       "      <td>0.565358</td>\n",
       "      <td>1.0</td>\n",
       "      <td>0.047578</td>\n",
       "    </tr>\n",
       "    <tr>\n",
       "      <th>std</th>\n",
       "      <td>0.176710</td>\n",
       "      <td>0.060686</td>\n",
       "      <td>0.065620</td>\n",
       "      <td>0.061595</td>\n",
       "      <td>0.016934</td>\n",
       "      <td>0.016916</td>\n",
       "      <td>0.013010</td>\n",
       "      <td>0.012869</td>\n",
       "      <td>0.013601</td>\n",
       "      <td>0.011163</td>\n",
       "      <td>...</td>\n",
       "      <td>0.040332</td>\n",
       "      <td>3.764501e+08</td>\n",
       "      <td>0.012290</td>\n",
       "      <td>0.016934</td>\n",
       "      <td>0.014523</td>\n",
       "      <td>0.014463</td>\n",
       "      <td>0.015668</td>\n",
       "      <td>0.013214</td>\n",
       "      <td>0.0</td>\n",
       "      <td>0.050014</td>\n",
       "    </tr>\n",
       "    <tr>\n",
       "      <th>min</th>\n",
       "      <td>0.000000</td>\n",
       "      <td>0.000000</td>\n",
       "      <td>0.000000</td>\n",
       "      <td>0.000000</td>\n",
       "      <td>0.000000</td>\n",
       "      <td>0.000000</td>\n",
       "      <td>0.000000</td>\n",
       "      <td>0.000000</td>\n",
       "      <td>0.000000</td>\n",
       "      <td>0.000000</td>\n",
       "      <td>...</td>\n",
       "      <td>0.000000</td>\n",
       "      <td>0.000000e+00</td>\n",
       "      <td>0.000000</td>\n",
       "      <td>0.000000</td>\n",
       "      <td>0.000000</td>\n",
       "      <td>0.000000</td>\n",
       "      <td>0.000000</td>\n",
       "      <td>0.000000</td>\n",
       "      <td>1.0</td>\n",
       "      <td>0.000000</td>\n",
       "    </tr>\n",
       "    <tr>\n",
       "      <th>25%</th>\n",
       "      <td>0.000000</td>\n",
       "      <td>0.476527</td>\n",
       "      <td>0.535543</td>\n",
       "      <td>0.527277</td>\n",
       "      <td>0.600445</td>\n",
       "      <td>0.600434</td>\n",
       "      <td>0.998969</td>\n",
       "      <td>0.797386</td>\n",
       "      <td>0.809312</td>\n",
       "      <td>0.303466</td>\n",
       "      <td>...</td>\n",
       "      <td>0.796750</td>\n",
       "      <td>9.036205e-04</td>\n",
       "      <td>0.623636</td>\n",
       "      <td>0.600443</td>\n",
       "      <td>0.840115</td>\n",
       "      <td>0.276944</td>\n",
       "      <td>0.026791</td>\n",
       "      <td>0.565158</td>\n",
       "      <td>1.0</td>\n",
       "      <td>0.024477</td>\n",
       "    </tr>\n",
       "    <tr>\n",
       "      <th>50%</th>\n",
       "      <td>0.000000</td>\n",
       "      <td>0.502706</td>\n",
       "      <td>0.559802</td>\n",
       "      <td>0.552278</td>\n",
       "      <td>0.605997</td>\n",
       "      <td>0.605976</td>\n",
       "      <td>0.999022</td>\n",
       "      <td>0.797464</td>\n",
       "      <td>0.809375</td>\n",
       "      <td>0.303525</td>\n",
       "      <td>...</td>\n",
       "      <td>0.810619</td>\n",
       "      <td>2.085213e-03</td>\n",
       "      <td>0.623879</td>\n",
       "      <td>0.605998</td>\n",
       "      <td>0.841179</td>\n",
       "      <td>0.278778</td>\n",
       "      <td>0.026808</td>\n",
       "      <td>0.565252</td>\n",
       "      <td>1.0</td>\n",
       "      <td>0.033798</td>\n",
       "    </tr>\n",
       "    <tr>\n",
       "      <th>75%</th>\n",
       "      <td>0.000000</td>\n",
       "      <td>0.535563</td>\n",
       "      <td>0.589157</td>\n",
       "      <td>0.584105</td>\n",
       "      <td>0.613914</td>\n",
       "      <td>0.613842</td>\n",
       "      <td>0.999095</td>\n",
       "      <td>0.797579</td>\n",
       "      <td>0.809469</td>\n",
       "      <td>0.303585</td>\n",
       "      <td>...</td>\n",
       "      <td>0.826455</td>\n",
       "      <td>5.269777e-03</td>\n",
       "      <td>0.624168</td>\n",
       "      <td>0.613913</td>\n",
       "      <td>0.842357</td>\n",
       "      <td>0.281449</td>\n",
       "      <td>0.026913</td>\n",
       "      <td>0.565725</td>\n",
       "      <td>1.0</td>\n",
       "      <td>0.052838</td>\n",
       "    </tr>\n",
       "    <tr>\n",
       "      <th>max</th>\n",
       "      <td>1.000000</td>\n",
       "      <td>1.000000</td>\n",
       "      <td>1.000000</td>\n",
       "      <td>1.000000</td>\n",
       "      <td>1.000000</td>\n",
       "      <td>1.000000</td>\n",
       "      <td>1.000000</td>\n",
       "      <td>1.000000</td>\n",
       "      <td>1.000000</td>\n",
       "      <td>1.000000</td>\n",
       "      <td>...</td>\n",
       "      <td>1.000000</td>\n",
       "      <td>9.820000e+09</td>\n",
       "      <td>1.000000</td>\n",
       "      <td>1.000000</td>\n",
       "      <td>1.000000</td>\n",
       "      <td>1.000000</td>\n",
       "      <td>1.000000</td>\n",
       "      <td>1.000000</td>\n",
       "      <td>1.0</td>\n",
       "      <td>1.000000</td>\n",
       "    </tr>\n",
       "  </tbody>\n",
       "</table>\n",
       "<p>8 rows × 96 columns</p>\n",
       "</div>"
      ],
      "text/plain": [
       "         Bankrupt?   ROA(C) before interest and depreciation before interest  \\\n",
       "count  6819.000000                                        6819.000000          \n",
       "mean      0.032263                                           0.505180          \n",
       "std       0.176710                                           0.060686          \n",
       "min       0.000000                                           0.000000          \n",
       "25%       0.000000                                           0.476527          \n",
       "50%       0.000000                                           0.502706          \n",
       "75%       0.000000                                           0.535563          \n",
       "max       1.000000                                           1.000000          \n",
       "\n",
       "        ROA(A) before interest and % after tax  \\\n",
       "count                              6819.000000   \n",
       "mean                                  0.558625   \n",
       "std                                   0.065620   \n",
       "min                                   0.000000   \n",
       "25%                                   0.535543   \n",
       "50%                                   0.559802   \n",
       "75%                                   0.589157   \n",
       "max                                   1.000000   \n",
       "\n",
       "        ROA(B) before interest and depreciation after tax  \\\n",
       "count                                        6819.000000    \n",
       "mean                                            0.553589    \n",
       "std                                             0.061595    \n",
       "min                                             0.000000    \n",
       "25%                                             0.527277    \n",
       "50%                                             0.552278    \n",
       "75%                                             0.584105    \n",
       "max                                             1.000000    \n",
       "\n",
       "        Operating Gross Margin   Realized Sales Gross Margin  \\\n",
       "count              6819.000000                   6819.000000   \n",
       "mean                  0.607948                      0.607929   \n",
       "std                   0.016934                      0.016916   \n",
       "min                   0.000000                      0.000000   \n",
       "25%                   0.600445                      0.600434   \n",
       "50%                   0.605997                      0.605976   \n",
       "75%                   0.613914                      0.613842   \n",
       "max                   1.000000                      1.000000   \n",
       "\n",
       "        Operating Profit Rate   Pre-tax net Interest Rate  \\\n",
       "count             6819.000000                 6819.000000   \n",
       "mean                 0.998755                    0.797190   \n",
       "std                  0.013010                    0.012869   \n",
       "min                  0.000000                    0.000000   \n",
       "25%                  0.998969                    0.797386   \n",
       "50%                  0.999022                    0.797464   \n",
       "75%                  0.999095                    0.797579   \n",
       "max                  1.000000                    1.000000   \n",
       "\n",
       "        After-tax net Interest Rate  \\\n",
       "count                   6819.000000   \n",
       "mean                       0.809084   \n",
       "std                        0.013601   \n",
       "min                        0.000000   \n",
       "25%                        0.809312   \n",
       "50%                        0.809375   \n",
       "75%                        0.809469   \n",
       "max                        1.000000   \n",
       "\n",
       "        Non-industry income and expenditure/revenue  ...  \\\n",
       "count                                   6819.000000  ...   \n",
       "mean                                       0.303623  ...   \n",
       "std                                        0.011163  ...   \n",
       "min                                        0.000000  ...   \n",
       "25%                                        0.303466  ...   \n",
       "50%                                        0.303525  ...   \n",
       "75%                                        0.303585  ...   \n",
       "max                                        1.000000  ...   \n",
       "\n",
       "        Net Income to Total Assets   Total assets to GNP price  \\\n",
       "count                  6819.000000                6.819000e+03   \n",
       "mean                      0.807760                1.862942e+07   \n",
       "std                       0.040332                3.764501e+08   \n",
       "min                       0.000000                0.000000e+00   \n",
       "25%                       0.796750                9.036205e-04   \n",
       "50%                       0.810619                2.085213e-03   \n",
       "75%                       0.826455                5.269777e-03   \n",
       "max                       1.000000                9.820000e+09   \n",
       "\n",
       "        No-credit Interval   Gross Profit to Sales  \\\n",
       "count          6819.000000             6819.000000   \n",
       "mean              0.623915                0.607946   \n",
       "std               0.012290                0.016934   \n",
       "min               0.000000                0.000000   \n",
       "25%               0.623636                0.600443   \n",
       "50%               0.623879                0.605998   \n",
       "75%               0.624168                0.613913   \n",
       "max               1.000000                1.000000   \n",
       "\n",
       "        Net Income to Stockholder's Equity   Liability to Equity  \\\n",
       "count                          6819.000000           6819.000000   \n",
       "mean                              0.840402              0.280365   \n",
       "std                               0.014523              0.014463   \n",
       "min                               0.000000              0.000000   \n",
       "25%                               0.840115              0.276944   \n",
       "50%                               0.841179              0.278778   \n",
       "75%                               0.842357              0.281449   \n",
       "max                               1.000000              1.000000   \n",
       "\n",
       "        Degree of Financial Leverage (DFL)  \\\n",
       "count                          6819.000000   \n",
       "mean                              0.027541   \n",
       "std                               0.015668   \n",
       "min                               0.000000   \n",
       "25%                               0.026791   \n",
       "50%                               0.026808   \n",
       "75%                               0.026913   \n",
       "max                               1.000000   \n",
       "\n",
       "        Interest Coverage Ratio (Interest expense to EBIT)   Net Income Flag  \\\n",
       "count                                        6819.000000              6819.0   \n",
       "mean                                            0.565358                 1.0   \n",
       "std                                             0.013214                 0.0   \n",
       "min                                             0.000000                 1.0   \n",
       "25%                                             0.565158                 1.0   \n",
       "50%                                             0.565252                 1.0   \n",
       "75%                                             0.565725                 1.0   \n",
       "max                                             1.000000                 1.0   \n",
       "\n",
       "        Equity to Liability  \n",
       "count           6819.000000  \n",
       "mean               0.047578  \n",
       "std                0.050014  \n",
       "min                0.000000  \n",
       "25%                0.024477  \n",
       "50%                0.033798  \n",
       "75%                0.052838  \n",
       "max                1.000000  \n",
       "\n",
       "[8 rows x 96 columns]"
      ]
     },
     "execution_count": 9,
     "metadata": {},
     "output_type": "execute_result"
    }
   ],
   "source": [
    "data.describe()"
   ]
  },
  {
   "cell_type": "markdown",
   "id": "3dbeb169",
   "metadata": {
    "papermill": {
     "duration": 0.07492,
     "end_time": "2022-02-13T18:34:39.872809",
     "exception": false,
     "start_time": "2022-02-13T18:34:39.797889",
     "status": "completed"
    },
    "tags": []
   },
   "source": [
    "# Feature Selection"
   ]
  },
  {
   "cell_type": "code",
   "execution_count": 10,
   "id": "4c6373e3",
   "metadata": {
    "execution": {
     "iopub.execute_input": "2022-02-13T18:34:40.028374Z",
     "iopub.status.busy": "2022-02-13T18:34:40.027594Z",
     "iopub.status.idle": "2022-02-13T18:34:40.368716Z",
     "shell.execute_reply": "2022-02-13T18:34:40.369230Z",
     "shell.execute_reply.started": "2022-02-13T18:33:17.385736Z"
    },
    "papermill": {
     "duration": 0.422426,
     "end_time": "2022-02-13T18:34:40.369416",
     "exception": false,
     "start_time": "2022-02-13T18:34:39.946990",
     "status": "completed"
    },
    "tags": []
   },
   "outputs": [],
   "source": [
    "from sklearn.model_selection import train_test_split\n",
    "\n",
    "# to obtain the mutual information values\n",
    "from sklearn.feature_selection import mutual_info_classif\n",
    "# to select the features\n",
    "from sklearn.feature_selection import SelectKBest"
   ]
  },
  {
   "cell_type": "code",
   "execution_count": 11,
   "id": "a292cd0f",
   "metadata": {
    "execution": {
     "iopub.execute_input": "2022-02-13T18:34:40.522220Z",
     "iopub.status.busy": "2022-02-13T18:34:40.521533Z",
     "iopub.status.idle": "2022-02-13T18:34:40.538065Z",
     "shell.execute_reply": "2022-02-13T18:34:40.538659Z",
     "shell.execute_reply.started": "2022-02-13T18:33:17.391970Z"
    },
    "papermill": {
     "duration": 0.093982,
     "end_time": "2022-02-13T18:34:40.538838",
     "exception": false,
     "start_time": "2022-02-13T18:34:40.444856",
     "status": "completed"
    },
    "tags": []
   },
   "outputs": [
    {
     "data": {
      "text/plain": [
       "((4773, 95), (2046, 95))"
      ]
     },
     "execution_count": 11,
     "metadata": {},
     "output_type": "execute_result"
    }
   ],
   "source": [
    "# separate train and test sets\n",
    "X_train, X_test, y_train, y_test = train_test_split(\n",
    "    data.drop(labels=['Bankrupt?'], axis=1),\n",
    "    data['Bankrupt?'],\n",
    "    test_size=0.3,\n",
    "    random_state=0)\n",
    "\n",
    "X_train.shape, X_test.shape"
   ]
  },
  {
   "cell_type": "markdown",
   "id": "de384ea3",
   "metadata": {
    "papermill": {
     "duration": 0.074368,
     "end_time": "2022-02-13T18:34:40.687568",
     "exception": false,
     "start_time": "2022-02-13T18:34:40.613200",
     "status": "completed"
    },
    "tags": []
   },
   "source": [
    "# Determine Mutual Information"
   ]
  },
  {
   "cell_type": "code",
   "execution_count": 12,
   "id": "c33ba524",
   "metadata": {
    "execution": {
     "iopub.execute_input": "2022-02-13T18:34:40.839896Z",
     "iopub.status.busy": "2022-02-13T18:34:40.838963Z",
     "iopub.status.idle": "2022-02-13T18:34:44.734184Z",
     "shell.execute_reply": "2022-02-13T18:34:44.734712Z",
     "shell.execute_reply.started": "2022-02-13T18:33:17.412908Z"
    },
    "papermill": {
     "duration": 3.973012,
     "end_time": "2022-02-13T18:34:44.734903",
     "exception": false,
     "start_time": "2022-02-13T18:34:40.761891",
     "status": "completed"
    },
    "tags": []
   },
   "outputs": [
    {
     "data": {
      "text/plain": [
       "array([0.02908633, 0.03427777, 0.02984251, 0.01664411, 0.01705692,\n",
       "       0.02123495, 0.0301244 , 0.02794322, 0.03099597, 0.03678855,\n",
       "       0.        , 0.        , 0.01349009, 0.00211279, 0.01662348,\n",
       "       0.03305764, 0.02938684, 0.02831372, 0.0440584 , 0.00536824,\n",
       "       0.0021194 , 0.02236696, 0.04332718, 0.00810723, 0.00667338,\n",
       "       0.01246352, 0.00990363, 0.01086854, 0.01178737, 0.00311074,\n",
       "       0.01152787, 0.00121526, 0.02803837, 0.02279955, 0.03441326,\n",
       "       0.03342365, 0.03468837, 0.0351165 , 0.01071949, 0.03973993,\n",
       "       0.00210085, 0.02385093, 0.04364584, 0.00496766, 0.01241669,\n",
       "       0.        , 0.        , 0.00313475, 0.00876684, 0.00051602,\n",
       "       0.        , 0.02427441, 0.00824127, 0.02650192, 0.00576042,\n",
       "       0.00071265, 0.01679241, 0.02544502, 0.01470131, 0.01610328,\n",
       "       0.01731491, 0.02265466, 0.00156288, 0.00269828, 0.02232087,\n",
       "       0.02399633, 0.00371807, 0.03457833, 0.03417276, 0.00907948,\n",
       "       0.        , 0.00496002, 0.01903018, 0.00182931, 0.00373838,\n",
       "       0.00332941, 0.00274193, 0.02399633, 0.01343504, 0.00573794,\n",
       "       0.00942271, 0.00817358, 0.0083508 , 0.02705568, 0.00704422,\n",
       "       0.03933092, 0.        , 0.00757783, 0.01657653, 0.04204518,\n",
       "       0.03410461, 0.0327412 , 0.03349025, 0.00195564, 0.03520183])"
      ]
     },
     "execution_count": 12,
     "metadata": {},
     "output_type": "execute_result"
    }
   ],
   "source": [
    "# calculate the mutual information between the variables and the target\n",
    "\n",
    "# the smaller the value of the mi, the less information we can infer from\n",
    "# the feature about the target\n",
    "\n",
    "mi = mutual_info_classif(X_train, y_train)\n",
    "mi"
   ]
  },
  {
   "cell_type": "code",
   "execution_count": 13,
   "id": "376e23b5",
   "metadata": {
    "execution": {
     "iopub.execute_input": "2022-02-13T18:34:44.889514Z",
     "iopub.status.busy": "2022-02-13T18:34:44.888514Z",
     "iopub.status.idle": "2022-02-13T18:34:47.216368Z",
     "shell.execute_reply": "2022-02-13T18:34:47.216881Z",
     "shell.execute_reply.started": "2022-02-13T18:33:21.414233Z"
    },
    "papermill": {
     "duration": 2.407361,
     "end_time": "2022-02-13T18:34:47.217074",
     "exception": false,
     "start_time": "2022-02-13T18:34:44.809713",
     "status": "completed"
    },
    "tags": []
   },
   "outputs": [
    {
     "data": {
      "text/plain": [
       "Text(0, 0.5, 'Mutual Information')"
      ]
     },
     "execution_count": 13,
     "metadata": {},
     "output_type": "execute_result"
    },
    {
     "data": {
      "image/png": "[encoded data removed]",
      "text/plain": [
       "<Figure size 1440x432 with 1 Axes>"
      ]
     },
     "metadata": {
      "needs_background": "light"
     },
     "output_type": "display_data"
    }
   ],
   "source": [
    "# 1) let's capture the above array in a pandas series\n",
    "# 2)add the variable names in the index\n",
    "# 3) sort the features based on their mutual information value\n",
    "# 4) and make a var plot\n",
    "\n",
    "mi = pd.Series(mi)\n",
    "mi.index = X_train.columns\n",
    "mi.sort_values(ascending=False).plot.bar(figsize=(20, 6))\n",
    "plt.ylabel('Mutual Information')"
   ]
  },
  {
   "cell_type": "markdown",
   "id": "ee41b4db",
   "metadata": {
    "papermill": {
     "duration": 0.078657,
     "end_time": "2022-02-13T18:34:47.375646",
     "exception": false,
     "start_time": "2022-02-13T18:34:47.296989",
     "status": "completed"
    },
    "tags": []
   },
   "source": [
    "> There are a few features (left of the plot) with higher mutual information values. There are also features with almost zero MI values on the right of the plot.\n",
    "> \n",
    "> Once we find the mutual information values, to select features we need to determine a threshold, or cut-off value, above which a feature will be selected.\n",
    "> \n",
    "> There are a few ways in which this can be done:\n",
    "> \n",
    "> Select top k features, where k is an arbitrary number of features"
   ]
  },
  {
   "cell_type": "markdown",
   "id": "805b4b3a",
   "metadata": {
    "papermill": {
     "duration": 0.078876,
     "end_time": "2022-02-13T18:34:47.533757",
     "exception": false,
     "start_time": "2022-02-13T18:34:47.454881",
     "status": "completed"
    },
    "tags": []
   },
   "source": [
    "# Select top k features based on MI"
   ]
  },
  {
   "cell_type": "code",
   "execution_count": 14,
   "id": "14279dce",
   "metadata": {
    "execution": {
     "iopub.execute_input": "2022-02-13T18:34:47.725174Z",
     "iopub.status.busy": "2022-02-13T18:34:47.719435Z",
     "iopub.status.idle": "2022-02-13T18:34:51.669262Z",
     "shell.execute_reply": "2022-02-13T18:34:51.669770Z",
     "shell.execute_reply.started": "2022-02-13T18:33:26.893785Z"
    },
    "papermill": {
     "duration": 4.048458,
     "end_time": "2022-02-13T18:34:51.669940",
     "exception": false,
     "start_time": "2022-02-13T18:34:47.621482",
     "status": "completed"
    },
    "tags": []
   },
   "outputs": [
    {
     "data": {
      "text/plain": [
       "Index([' Continuous interest rate (after tax)',\n",
       "       ' Persistent EPS in the Last Four Seasons',\n",
       "       ' Per Share Net profit before tax (Yuan ¥)', ' Debt ratio %',\n",
       "       ' Net worth/Assets', ' Borrowing dependency',\n",
       "       ' Net profit before tax/Paid-in capital', ' Net Income to Total Assets',\n",
       "       ' Net Income to Stockholder's Equity', ' Equity to Liability'],\n",
       "      dtype='object')"
      ]
     },
     "execution_count": 14,
     "metadata": {},
     "output_type": "execute_result"
    }
   ],
   "source": [
    "# here we will select the top 10 features\n",
    "# based on their mutual information value\n",
    "\n",
    "# select features\n",
    "sel_ = SelectKBest(mutual_info_classif, k=10).fit(X_train, y_train)\n",
    "\n",
    "# display features\n",
    "X_train.columns[sel_.get_support()]"
   ]
  },
  {
   "cell_type": "code",
   "execution_count": 15,
   "id": "61a73bde",
   "metadata": {
    "execution": {
     "iopub.execute_input": "2022-02-13T18:34:51.833915Z",
     "iopub.status.busy": "2022-02-13T18:34:51.832935Z",
     "iopub.status.idle": "2022-02-13T18:34:51.844421Z",
     "shell.execute_reply": "2022-02-13T18:34:51.844952Z",
     "shell.execute_reply.started": "2022-02-13T18:33:30.818211Z"
    },
    "papermill": {
     "duration": 0.09557,
     "end_time": "2022-02-13T18:34:51.845143",
     "exception": false,
     "start_time": "2022-02-13T18:34:51.749573",
     "status": "completed"
    },
    "tags": []
   },
   "outputs": [],
   "source": [
    "# to remove the rest of the features:\n",
    "\n",
    "X_train = sel_.transform(X_train)\n",
    "X_test = sel_.transform(X_test)"
   ]
  },
  {
   "cell_type": "code",
   "execution_count": 16,
   "id": "4438042b",
   "metadata": {
    "execution": {
     "iopub.execute_input": "2022-02-13T18:34:52.011019Z",
     "iopub.status.busy": "2022-02-13T18:34:52.010313Z",
     "iopub.status.idle": "2022-02-13T18:34:52.015697Z",
     "shell.execute_reply": "2022-02-13T18:34:52.016227Z",
     "shell.execute_reply.started": "2022-02-13T18:33:30.830872Z"
    },
    "papermill": {
     "duration": 0.091416,
     "end_time": "2022-02-13T18:34:52.016394",
     "exception": false,
     "start_time": "2022-02-13T18:34:51.924978",
     "status": "completed"
    },
    "tags": []
   },
   "outputs": [
    {
     "data": {
      "text/plain": [
       "((4773, 10), (2046, 10))"
      ]
     },
     "execution_count": 16,
     "metadata": {},
     "output_type": "execute_result"
    }
   ],
   "source": [
    "X_train.shape,X_test.shape"
   ]
  },
  {
   "cell_type": "markdown",
   "id": "1d91b79f",
   "metadata": {
    "papermill": {
     "duration": 0.080029,
     "end_time": "2022-02-13T18:34:52.178065",
     "exception": false,
     "start_time": "2022-02-13T18:34:52.098036",
     "status": "completed"
    },
    "tags": []
   },
   "source": [
    "# Feature Scaling"
   ]
  },
  {
   "cell_type": "code",
   "execution_count": 17,
   "id": "594afd57",
   "metadata": {
    "execution": {
     "iopub.execute_input": "2022-02-13T18:34:52.342290Z",
     "iopub.status.busy": "2022-02-13T18:34:52.341681Z",
     "iopub.status.idle": "2022-02-13T18:34:52.347069Z",
     "shell.execute_reply": "2022-02-13T18:34:52.347707Z",
     "shell.execute_reply.started": "2022-02-13T18:33:30.841267Z"
    },
    "papermill": {
     "duration": 0.089116,
     "end_time": "2022-02-13T18:34:52.347872",
     "exception": false,
     "start_time": "2022-02-13T18:34:52.258756",
     "status": "completed"
    },
    "tags": []
   },
   "outputs": [],
   "source": [
    "from sklearn.preprocessing import StandardScaler\n",
    "sc = StandardScaler()\n",
    "X_train = sc.fit_transform(X_train)\n",
    "X_test = sc.transform(X_test)"
   ]
  },
  {
   "cell_type": "markdown",
   "id": "1ae9e7ad",
   "metadata": {
    "papermill": {
     "duration": 0.080514,
     "end_time": "2022-02-13T18:34:52.508455",
     "exception": false,
     "start_time": "2022-02-13T18:34:52.427941",
     "status": "completed"
    },
    "tags": []
   },
   "source": [
    "# Logistic Regression"
   ]
  },
  {
   "cell_type": "code",
   "execution_count": 18,
   "id": "51072772",
   "metadata": {
    "execution": {
     "iopub.execute_input": "2022-02-13T18:34:52.672412Z",
     "iopub.status.busy": "2022-02-13T18:34:52.671765Z",
     "iopub.status.idle": "2022-02-13T18:34:52.731003Z",
     "shell.execute_reply": "2022-02-13T18:34:52.731938Z",
     "shell.execute_reply.started": "2022-02-13T18:33:30.853240Z"
    },
    "papermill": {
     "duration": 0.143551,
     "end_time": "2022-02-13T18:34:52.732210",
     "exception": false,
     "start_time": "2022-02-13T18:34:52.588659",
     "status": "completed"
    },
    "tags": []
   },
   "outputs": [
    {
     "data": {
      "text/plain": [
       "LogisticRegression(random_state=0)"
      ]
     },
     "execution_count": 18,
     "metadata": {},
     "output_type": "execute_result"
    }
   ],
   "source": [
    "from sklearn.linear_model import LogisticRegression\n",
    "classifier = LogisticRegression(random_state = 0)\n",
    "classifier.fit(X_train, y_train)"
   ]
  },
  {
   "cell_type": "code",
   "execution_count": 19,
   "id": "57698bbd",
   "metadata": {
    "execution": {
     "iopub.execute_input": "2022-02-13T18:34:52.953083Z",
     "iopub.status.busy": "2022-02-13T18:34:52.951932Z",
     "iopub.status.idle": "2022-02-13T18:34:52.959000Z",
     "shell.execute_reply": "2022-02-13T18:34:52.960027Z",
     "shell.execute_reply.started": "2022-02-13T18:33:30.915110Z"
    },
    "papermill": {
     "duration": 0.093719,
     "end_time": "2022-02-13T18:34:52.960310",
     "exception": false,
     "start_time": "2022-02-13T18:34:52.866591",
     "status": "completed"
    },
    "tags": []
   },
   "outputs": [
    {
     "name": "stdout",
     "output_type": "stream",
     "text": [
      "[0 0 0 ... 0 0 0]\n"
     ]
    }
   ],
   "source": [
    "y_pred = classifier.predict(X_test)\n",
    "print(y_pred)"
   ]
  },
  {
   "cell_type": "code",
   "execution_count": 20,
   "id": "c07adb9e",
   "metadata": {
    "execution": {
     "iopub.execute_input": "2022-02-13T18:34:53.182755Z",
     "iopub.status.busy": "2022-02-13T18:34:53.181750Z",
     "iopub.status.idle": "2022-02-13T18:34:53.185049Z",
     "shell.execute_reply": "2022-02-13T18:34:53.185641Z",
     "shell.execute_reply.started": "2022-02-13T18:33:30.926263Z"
    },
    "papermill": {
     "duration": 0.090165,
     "end_time": "2022-02-13T18:34:53.185812",
     "exception": false,
     "start_time": "2022-02-13T18:34:53.095647",
     "status": "completed"
    },
    "tags": []
   },
   "outputs": [
    {
     "name": "stdout",
     "output_type": "stream",
     "text": [
      "Accuracy score: 0.9696969696969697\n"
     ]
    }
   ],
   "source": [
    "from sklearn.metrics import accuracy_score\n",
    "acc1 = accuracy_score(y_test, y_pred)\n",
    "print(f\"Accuracy score: {acc1}\")"
   ]
  },
  {
   "cell_type": "markdown",
   "id": "66815ddb",
   "metadata": {
    "papermill": {
     "duration": 0.080704,
     "end_time": "2022-02-13T18:34:53.348146",
     "exception": false,
     "start_time": "2022-02-13T18:34:53.267442",
     "status": "completed"
    },
    "tags": []
   },
   "source": [
    "# SVM"
   ]
  },
  {
   "cell_type": "code",
   "execution_count": 21,
   "id": "3de58c84",
   "metadata": {
    "execution": {
     "iopub.execute_input": "2022-02-13T18:34:53.514790Z",
     "iopub.status.busy": "2022-02-13T18:34:53.514135Z",
     "iopub.status.idle": "2022-02-13T18:34:57.253936Z",
     "shell.execute_reply": "2022-02-13T18:34:57.253252Z",
     "shell.execute_reply.started": "2022-02-13T18:33:30.938997Z"
    },
    "papermill": {
     "duration": 3.824218,
     "end_time": "2022-02-13T18:34:57.254133",
     "exception": false,
     "start_time": "2022-02-13T18:34:53.429915",
     "status": "completed"
    },
    "tags": []
   },
   "outputs": [
    {
     "data": {
      "text/plain": [
       "SVC(kernel='linear', random_state=0)"
      ]
     },
     "execution_count": 21,
     "metadata": {},
     "output_type": "execute_result"
    }
   ],
   "source": [
    "from sklearn.svm import SVC\n",
    "classifier = SVC(kernel = 'linear', random_state = 0)\n",
    "classifier.fit(X_train, y_train)"
   ]
  },
  {
   "cell_type": "markdown",
   "id": "cb52361c",
   "metadata": {
    "papermill": {
     "duration": 0.082327,
     "end_time": "2022-02-13T18:34:57.420011",
     "exception": false,
     "start_time": "2022-02-13T18:34:57.337684",
     "status": "completed"
    },
    "tags": []
   },
   "source": [
    "# Predict the tset set result of SVM"
   ]
  },
  {
   "cell_type": "code",
   "execution_count": 22,
   "id": "d26583d3",
   "metadata": {
    "execution": {
     "iopub.execute_input": "2022-02-13T18:34:57.591582Z",
     "iopub.status.busy": "2022-02-13T18:34:57.589614Z",
     "iopub.status.idle": "2022-02-13T18:34:57.609528Z",
     "shell.execute_reply": "2022-02-13T18:34:57.608457Z",
     "shell.execute_reply.started": "2022-02-13T18:33:42.893363Z"
    },
    "papermill": {
     "duration": 0.107567,
     "end_time": "2022-02-13T18:34:57.609767",
     "exception": false,
     "start_time": "2022-02-13T18:34:57.502200",
     "status": "completed"
    },
    "tags": []
   },
   "outputs": [
    {
     "name": "stdout",
     "output_type": "stream",
     "text": [
      "[[1987    0]\n",
      " [  58    1]]\n"
     ]
    }
   ],
   "source": [
    "y_pred = classifier.predict(X_test)\n",
    "from sklearn.metrics import confusion_matrix, accuracy_score\n",
    "cm = confusion_matrix(y_test, y_pred)\n",
    "print(cm)"
   ]
  },
  {
   "cell_type": "code",
   "execution_count": 23,
   "id": "4ae4bed3",
   "metadata": {
    "execution": {
     "iopub.execute_input": "2022-02-13T18:34:57.782045Z",
     "iopub.status.busy": "2022-02-13T18:34:57.781378Z",
     "iopub.status.idle": "2022-02-13T18:34:57.996415Z",
     "shell.execute_reply": "2022-02-13T18:34:57.995902Z",
     "shell.execute_reply.started": "2022-02-13T18:33:42.915650Z"
    },
    "papermill": {
     "duration": 0.300055,
     "end_time": "2022-02-13T18:34:57.996575",
     "exception": false,
     "start_time": "2022-02-13T18:34:57.696520",
     "status": "completed"
    },
    "tags": []
   },
   "outputs": [
    {
     "data": {
      "image/png": "[encoded data removed]",
      "text/plain": [
       "<Figure size 432x288 with 2 Axes>"
      ]
     },
     "metadata": {
      "needs_background": "light"
     },
     "output_type": "display_data"
    }
   ],
   "source": [
    "sns.heatmap(cm,annot=True)\n",
    "plt.show()"
   ]
  },
  {
   "cell_type": "code",
   "execution_count": 24,
   "id": "aff18bb7",
   "metadata": {
    "execution": {
     "iopub.execute_input": "2022-02-13T18:34:58.167783Z",
     "iopub.status.busy": "2022-02-13T18:34:58.165699Z",
     "iopub.status.idle": "2022-02-13T18:34:58.172344Z",
     "shell.execute_reply": "2022-02-13T18:34:58.171822Z",
     "shell.execute_reply.started": "2022-02-13T18:33:43.189767Z"
    },
    "papermill": {
     "duration": 0.092713,
     "end_time": "2022-02-13T18:34:58.172504",
     "exception": false,
     "start_time": "2022-02-13T18:34:58.079791",
     "status": "completed"
    },
    "tags": []
   },
   "outputs": [
    {
     "name": "stdout",
     "output_type": "stream",
     "text": [
      "Accuracy score: 0.9716520039100685\n"
     ]
    }
   ],
   "source": [
    "acc2 = accuracy_score(y_test, y_pred)\n",
    "print(f\"Accuracy score: {acc2}\")"
   ]
  },
  {
   "cell_type": "markdown",
   "id": "8dd3e8a2",
   "metadata": {
    "papermill": {
     "duration": 0.085476,
     "end_time": "2022-02-13T18:34:58.342043",
     "exception": false,
     "start_time": "2022-02-13T18:34:58.256567",
     "status": "completed"
    },
    "tags": []
   },
   "source": [
    "# Training the K-NN model on the Training set"
   ]
  },
  {
   "cell_type": "code",
   "execution_count": 25,
   "id": "8e4bc78e",
   "metadata": {
    "execution": {
     "iopub.execute_input": "2022-02-13T18:34:58.514824Z",
     "iopub.status.busy": "2022-02-13T18:34:58.512412Z",
     "iopub.status.idle": "2022-02-13T18:34:58.525079Z",
     "shell.execute_reply": "2022-02-13T18:34:58.525659Z",
     "shell.execute_reply.started": "2022-02-13T18:33:43.199042Z"
    },
    "papermill": {
     "duration": 0.099836,
     "end_time": "2022-02-13T18:34:58.525829",
     "exception": false,
     "start_time": "2022-02-13T18:34:58.425993",
     "status": "completed"
    },
    "tags": []
   },
   "outputs": [
    {
     "data": {
      "text/plain": [
       "KNeighborsClassifier()"
      ]
     },
     "execution_count": 25,
     "metadata": {},
     "output_type": "execute_result"
    }
   ],
   "source": [
    "from sklearn.neighbors import KNeighborsClassifier\n",
    "classifier = KNeighborsClassifier(n_neighbors = 5, metric = 'minkowski', p = 2)\n",
    "classifier.fit(X_train, y_train)"
   ]
  },
  {
   "cell_type": "code",
   "execution_count": 26,
   "id": "bc1bd941",
   "metadata": {
    "execution": {
     "iopub.execute_input": "2022-02-13T18:34:58.721766Z",
     "iopub.status.busy": "2022-02-13T18:34:58.721158Z",
     "iopub.status.idle": "2022-02-13T18:34:58.826892Z",
     "shell.execute_reply": "2022-02-13T18:34:58.827515Z",
     "shell.execute_reply.started": "2022-02-13T18:33:43.219527Z"
    },
    "papermill": {
     "duration": 0.205887,
     "end_time": "2022-02-13T18:34:58.827696",
     "exception": false,
     "start_time": "2022-02-13T18:34:58.621809",
     "status": "completed"
    },
    "tags": []
   },
   "outputs": [],
   "source": [
    "y_pred = classifier.predict(X_test)"
   ]
  },
  {
   "cell_type": "markdown",
   "id": "d5b80fed",
   "metadata": {
    "papermill": {
     "duration": 0.084903,
     "end_time": "2022-02-13T18:34:58.996768",
     "exception": false,
     "start_time": "2022-02-13T18:34:58.911865",
     "status": "completed"
    },
    "tags": []
   },
   "source": [
    "# KNN confusion matrix"
   ]
  },
  {
   "cell_type": "code",
   "execution_count": 27,
   "id": "12421476",
   "metadata": {
    "execution": {
     "iopub.execute_input": "2022-02-13T18:34:59.168420Z",
     "iopub.status.busy": "2022-02-13T18:34:59.167788Z",
     "iopub.status.idle": "2022-02-13T18:34:59.176632Z",
     "shell.execute_reply": "2022-02-13T18:34:59.176102Z",
     "shell.execute_reply.started": "2022-02-13T18:33:43.355089Z"
    },
    "papermill": {
     "duration": 0.095461,
     "end_time": "2022-02-13T18:34:59.176776",
     "exception": false,
     "start_time": "2022-02-13T18:34:59.081315",
     "status": "completed"
    },
    "tags": []
   },
   "outputs": [
    {
     "name": "stdout",
     "output_type": "stream",
     "text": [
      "[[1961   26]\n",
      " [  45   14]]\n"
     ]
    }
   ],
   "source": [
    "cm = confusion_matrix(y_test, y_pred)\n",
    "print(cm)"
   ]
  },
  {
   "cell_type": "code",
   "execution_count": 28,
   "id": "166a3d3e",
   "metadata": {
    "execution": {
     "iopub.execute_input": "2022-02-13T18:34:59.354254Z",
     "iopub.status.busy": "2022-02-13T18:34:59.353569Z",
     "iopub.status.idle": "2022-02-13T18:34:59.696896Z",
     "shell.execute_reply": "2022-02-13T18:34:59.696338Z",
     "shell.execute_reply.started": "2022-02-13T18:33:43.373361Z"
    },
    "papermill": {
     "duration": 0.432766,
     "end_time": "2022-02-13T18:34:59.697072",
     "exception": false,
     "start_time": "2022-02-13T18:34:59.264306",
     "status": "completed"
    },
    "tags": []
   },
   "outputs": [
    {
     "data": {
      "image/png": "[encoded data removed]",
      "text/plain": [
       "<Figure size 432x288 with 2 Axes>"
      ]
     },
     "metadata": {
      "needs_background": "light"
     },
     "output_type": "display_data"
    }
   ],
   "source": [
    "sns.heatmap(cm,annot=True)\n",
    "plt.show()"
   ]
  },
  {
   "cell_type": "code",
   "execution_count": 29,
   "id": "c05da909",
   "metadata": {
    "execution": {
     "iopub.execute_input": "2022-02-13T18:34:59.877425Z",
     "iopub.status.busy": "2022-02-13T18:34:59.876762Z",
     "iopub.status.idle": "2022-02-13T18:34:59.881023Z",
     "shell.execute_reply": "2022-02-13T18:34:59.881668Z",
     "shell.execute_reply.started": "2022-02-13T18:33:43.654655Z"
    },
    "papermill": {
     "duration": 0.096052,
     "end_time": "2022-02-13T18:34:59.881844",
     "exception": false,
     "start_time": "2022-02-13T18:34:59.785792",
     "status": "completed"
    },
    "tags": []
   },
   "outputs": [
    {
     "name": "stdout",
     "output_type": "stream",
     "text": [
      "Accuracy score: 0.9652981427174976\n"
     ]
    }
   ],
   "source": [
    "acc3 = accuracy_score(y_test, y_pred)\n",
    "print(f\"Accuracy score: {acc3}\")"
   ]
  },
  {
   "cell_type": "markdown",
   "id": "d260a8f8",
   "metadata": {
    "papermill": {
     "duration": 0.087144,
     "end_time": "2022-02-13T18:35:00.054298",
     "exception": false,
     "start_time": "2022-02-13T18:34:59.967154",
     "status": "completed"
    },
    "tags": []
   },
   "source": [
    "# Training the Naive Bayes on the Training set"
   ]
  },
  {
   "cell_type": "code",
   "execution_count": 30,
   "id": "1980fae9",
   "metadata": {
    "execution": {
     "iopub.execute_input": "2022-02-13T18:35:00.235376Z",
     "iopub.status.busy": "2022-02-13T18:35:00.234610Z",
     "iopub.status.idle": "2022-02-13T18:35:00.244785Z",
     "shell.execute_reply": "2022-02-13T18:35:00.244105Z",
     "shell.execute_reply.started": "2022-02-13T18:33:43.663564Z"
    },
    "papermill": {
     "duration": 0.103668,
     "end_time": "2022-02-13T18:35:00.244932",
     "exception": false,
     "start_time": "2022-02-13T18:35:00.141264",
     "status": "completed"
    },
    "tags": []
   },
   "outputs": [
    {
     "data": {
      "text/plain": [
       "GaussianNB()"
      ]
     },
     "execution_count": 30,
     "metadata": {},
     "output_type": "execute_result"
    }
   ],
   "source": [
    "from sklearn.naive_bayes import GaussianNB\n",
    "classifier = GaussianNB()\n",
    "classifier.fit(X_train, y_train)"
   ]
  },
  {
   "cell_type": "code",
   "execution_count": 31,
   "id": "a0b55294",
   "metadata": {
    "execution": {
     "iopub.execute_input": "2022-02-13T18:35:00.426852Z",
     "iopub.status.busy": "2022-02-13T18:35:00.424348Z",
     "iopub.status.idle": "2022-02-13T18:35:00.434750Z",
     "shell.execute_reply": "2022-02-13T18:35:00.435550Z",
     "shell.execute_reply.started": "2022-02-13T18:33:43.678578Z"
    },
    "papermill": {
     "duration": 0.102405,
     "end_time": "2022-02-13T18:35:00.435783",
     "exception": false,
     "start_time": "2022-02-13T18:35:00.333378",
     "status": "completed"
    },
    "tags": []
   },
   "outputs": [
    {
     "name": "stdout",
     "output_type": "stream",
     "text": [
      "[[1923   64]\n",
      " [  27   32]]\n"
     ]
    }
   ],
   "source": [
    "y_pred = classifier.predict(X_test)\n",
    "cm = confusion_matrix(y_test, y_pred)\n",
    "print(cm)"
   ]
  },
  {
   "cell_type": "code",
   "execution_count": 32,
   "id": "afe7bd5b",
   "metadata": {
    "execution": {
     "iopub.execute_input": "2022-02-13T18:35:00.612309Z",
     "iopub.status.busy": "2022-02-13T18:35:00.611295Z",
     "iopub.status.idle": "2022-02-13T18:35:00.617336Z",
     "shell.execute_reply": "2022-02-13T18:35:00.618034Z",
     "shell.execute_reply.started": "2022-02-13T18:33:43.690612Z"
    },
    "papermill": {
     "duration": 0.095829,
     "end_time": "2022-02-13T18:35:00.618207",
     "exception": false,
     "start_time": "2022-02-13T18:35:00.522378",
     "status": "completed"
    },
    "tags": []
   },
   "outputs": [
    {
     "name": "stdout",
     "output_type": "stream",
     "text": [
      "Accuracy score : 0.955522971652004\n"
     ]
    }
   ],
   "source": [
    "acc4 = accuracy_score(y_test, y_pred)\n",
    "print(f\"Accuracy score : {acc4}\")"
   ]
  },
  {
   "cell_type": "markdown",
   "id": "ec7adf06",
   "metadata": {
    "papermill": {
     "duration": 0.085876,
     "end_time": "2022-02-13T18:35:00.791205",
     "exception": false,
     "start_time": "2022-02-13T18:35:00.705329",
     "status": "completed"
    },
    "tags": []
   },
   "source": [
    "# Training Decision Tree Classification on Train set"
   ]
  },
  {
   "cell_type": "code",
   "execution_count": 33,
   "id": "61ceca2f",
   "metadata": {
    "execution": {
     "iopub.execute_input": "2022-02-13T18:35:00.969993Z",
     "iopub.status.busy": "2022-02-13T18:35:00.969187Z",
     "iopub.status.idle": "2022-02-13T18:35:01.042062Z",
     "shell.execute_reply": "2022-02-13T18:35:01.041496Z",
     "shell.execute_reply.started": "2022-02-13T18:33:43.705331Z"
    },
    "papermill": {
     "duration": 0.16379,
     "end_time": "2022-02-13T18:35:01.042202",
     "exception": false,
     "start_time": "2022-02-13T18:35:00.878412",
     "status": "completed"
    },
    "tags": []
   },
   "outputs": [
    {
     "data": {
      "text/plain": [
       "DecisionTreeClassifier(criterion='entropy', random_state=0)"
      ]
     },
     "execution_count": 33,
     "metadata": {},
     "output_type": "execute_result"
    }
   ],
   "source": [
    "from sklearn.tree import DecisionTreeClassifier\n",
    "classifier = DecisionTreeClassifier(criterion = 'entropy', random_state = 0)\n",
    "classifier.fit(X_train, y_train)"
   ]
  },
  {
   "cell_type": "code",
   "execution_count": 34,
   "id": "e55040f1",
   "metadata": {
    "execution": {
     "iopub.execute_input": "2022-02-13T18:35:01.222147Z",
     "iopub.status.busy": "2022-02-13T18:35:01.221496Z",
     "iopub.status.idle": "2022-02-13T18:35:01.227456Z",
     "shell.execute_reply": "2022-02-13T18:35:01.227937Z",
     "shell.execute_reply.started": "2022-02-13T18:33:43.756396Z"
    },
    "papermill": {
     "duration": 0.097169,
     "end_time": "2022-02-13T18:35:01.228111",
     "exception": false,
     "start_time": "2022-02-13T18:35:01.130942",
     "status": "completed"
    },
    "tags": []
   },
   "outputs": [
    {
     "name": "stdout",
     "output_type": "stream",
     "text": [
      "Accuracy score: 0.947702834799609\n"
     ]
    }
   ],
   "source": [
    "y_pred = classifier.predict(X_test)\n",
    "acc5 = accuracy_score(y_test, y_pred)\n",
    "print(f\"Accuracy score: {acc5}\")"
   ]
  },
  {
   "cell_type": "markdown",
   "id": "096fc018",
   "metadata": {
    "papermill": {
     "duration": 0.086949,
     "end_time": "2022-02-13T18:35:01.403232",
     "exception": false,
     "start_time": "2022-02-13T18:35:01.316283",
     "status": "completed"
    },
    "tags": []
   },
   "source": [
    "# Training the Random Forest Classification model on the Training set"
   ]
  },
  {
   "cell_type": "code",
   "execution_count": 35,
   "id": "cbf4bce1",
   "metadata": {
    "execution": {
     "iopub.execute_input": "2022-02-13T18:35:01.586561Z",
     "iopub.status.busy": "2022-02-13T18:35:01.585859Z",
     "iopub.status.idle": "2022-02-13T18:35:01.714107Z",
     "shell.execute_reply": "2022-02-13T18:35:01.713387Z",
     "shell.execute_reply.started": "2022-02-13T18:33:43.764707Z"
    },
    "papermill": {
     "duration": 0.219424,
     "end_time": "2022-02-13T18:35:01.714251",
     "exception": false,
     "start_time": "2022-02-13T18:35:01.494827",
     "status": "completed"
    },
    "tags": []
   },
   "outputs": [
    {
     "data": {
      "text/plain": [
       "RandomForestClassifier(criterion='entropy', n_estimators=10, random_state=0)"
      ]
     },
     "execution_count": 35,
     "metadata": {},
     "output_type": "execute_result"
    }
   ],
   "source": [
    "from sklearn.ensemble import RandomForestClassifier\n",
    "classifier = RandomForestClassifier(n_estimators = 10, criterion = 'entropy', random_state = 0)\n",
    "classifier.fit(X_train, y_train)"
   ]
  },
  {
   "cell_type": "code",
   "execution_count": 36,
   "id": "38684b21",
   "metadata": {
    "execution": {
     "iopub.execute_input": "2022-02-13T18:35:01.898543Z",
     "iopub.status.busy": "2022-02-13T18:35:01.897862Z",
     "iopub.status.idle": "2022-02-13T18:35:01.908064Z",
     "shell.execute_reply": "2022-02-13T18:35:01.907525Z",
     "shell.execute_reply.started": "2022-02-13T18:33:43.874162Z"
    },
    "papermill": {
     "duration": 0.104889,
     "end_time": "2022-02-13T18:35:01.908212",
     "exception": false,
     "start_time": "2022-02-13T18:35:01.803323",
     "status": "completed"
    },
    "tags": []
   },
   "outputs": [
    {
     "name": "stdout",
     "output_type": "stream",
     "text": [
      "[[1973   14]\n",
      " [  50    9]]\n"
     ]
    }
   ],
   "source": [
    "y_pred = classifier.predict(X_test)\n",
    "from sklearn.metrics import confusion_matrix, accuracy_score\n",
    "cm = confusion_matrix(y_test, y_pred)\n",
    "print(cm)\n",
    "acc6 = accuracy_score(y_test, y_pred)"
   ]
  },
  {
   "cell_type": "code",
   "execution_count": 37,
   "id": "37d0b4e6",
   "metadata": {
    "execution": {
     "iopub.execute_input": "2022-02-13T18:35:02.092861Z",
     "iopub.status.busy": "2022-02-13T18:35:02.092170Z",
     "iopub.status.idle": "2022-02-13T18:35:02.094764Z",
     "shell.execute_reply": "2022-02-13T18:35:02.095278Z",
     "shell.execute_reply.started": "2022-02-13T18:33:43.890814Z"
    },
    "papermill": {
     "duration": 0.098224,
     "end_time": "2022-02-13T18:35:02.095449",
     "exception": false,
     "start_time": "2022-02-13T18:35:01.997225",
     "status": "completed"
    },
    "tags": []
   },
   "outputs": [
    {
     "name": "stdout",
     "output_type": "stream",
     "text": [
      "Random Forest Classification accuracy: 0.9687194525904204\n"
     ]
    }
   ],
   "source": [
    "print(f\"Random Forest Classification accuracy: {acc6}\")"
   ]
  },
  {
   "cell_type": "markdown",
   "id": "113742a1",
   "metadata": {
    "papermill": {
     "duration": 0.088169,
     "end_time": "2022-02-13T18:35:02.271923",
     "exception": false,
     "start_time": "2022-02-13T18:35:02.183754",
     "status": "completed"
    },
    "tags": []
   },
   "source": [
    "# XG Boost"
   ]
  },
  {
   "cell_type": "code",
   "execution_count": 38,
   "id": "c9b949b2",
   "metadata": {
    "execution": {
     "iopub.execute_input": "2022-02-13T18:35:02.455915Z",
     "iopub.status.busy": "2022-02-13T18:35:02.455274Z",
     "iopub.status.idle": "2022-02-13T18:35:03.392388Z",
     "shell.execute_reply": "2022-02-13T18:35:03.392865Z",
     "shell.execute_reply.started": "2022-02-13T18:33:43.899112Z"
    },
    "papermill": {
     "duration": 1.030136,
     "end_time": "2022-02-13T18:35:03.393046",
     "exception": false,
     "start_time": "2022-02-13T18:35:02.362910",
     "status": "completed"
    },
    "tags": []
   },
   "outputs": [
    {
     "name": "stderr",
     "output_type": "stream",
     "text": [
      "/opt/conda/lib/python3.7/site-packages/xgboost/sklearn.py:1224: UserWarning: The use of label encoder in XGBClassifier is deprecated and will be removed in a future release. To remove this warning, do the following: 1) Pass option use_label_encoder=False when constructing XGBClassifier object; and 2) Encode your labels (y) as integers starting with 0, i.e. 0, 1, 2, ..., [num_class - 1].\n",
      "  warnings.warn(label_encoder_deprecation_msg, UserWarning)\n"
     ]
    },
    {
     "name": "stdout",
     "output_type": "stream",
     "text": [
      "[18:35:02] WARNING: ../src/learner.cc:1115: Starting in XGBoost 1.3.0, the default evaluation metric used with the objective 'binary:logistic' was changed from 'error' to 'logloss'. Explicitly set eval_metric if you'd like to restore the old behavior.\n"
     ]
    },
    {
     "data": {
      "text/plain": [
       "XGBClassifier(base_score=0.5, booster='gbtree', colsample_bylevel=1,\n",
       "              colsample_bynode=1, colsample_bytree=1, enable_categorical=False,\n",
       "              gamma=0, gpu_id=-1, importance_type=None,\n",
       "              interaction_constraints='', learning_rate=0.300000012,\n",
       "              max_delta_step=0, max_depth=6, min_child_weight=1, missing=nan,\n",
       "              monotone_constraints='()', n_estimators=100, n_jobs=4,\n",
       "              num_parallel_tree=1, predictor='auto', random_state=0,\n",
       "              reg_alpha=0, reg_lambda=1, scale_pos_weight=1, subsample=1,\n",
       "              tree_method='exact', validate_parameters=1, verbosity=None)"
      ]
     },
     "execution_count": 38,
     "metadata": {},
     "output_type": "execute_result"
    }
   ],
   "source": [
    "from xgboost import XGBClassifier\n",
    "classifier = XGBClassifier()\n",
    "classifier.fit(X_train, y_train)"
   ]
  },
  {
   "cell_type": "markdown",
   "id": "e57a914f",
   "metadata": {
    "papermill": {
     "duration": 0.089997,
     "end_time": "2022-02-13T18:35:03.575680",
     "exception": false,
     "start_time": "2022-02-13T18:35:03.485683",
     "status": "completed"
    },
    "tags": []
   },
   "source": [
    "# XG Boost Classifier confusion matrix"
   ]
  },
  {
   "cell_type": "code",
   "execution_count": 39,
   "id": "00362dee",
   "metadata": {
    "execution": {
     "iopub.execute_input": "2022-02-13T18:35:03.759040Z",
     "iopub.status.busy": "2022-02-13T18:35:03.758330Z",
     "iopub.status.idle": "2022-02-13T18:35:03.772692Z",
     "shell.execute_reply": "2022-02-13T18:35:03.773264Z",
     "shell.execute_reply.started": "2022-02-13T18:33:44.726626Z"
    },
    "papermill": {
     "duration": 0.10707,
     "end_time": "2022-02-13T18:35:03.773457",
     "exception": false,
     "start_time": "2022-02-13T18:35:03.666387",
     "status": "completed"
    },
    "tags": []
   },
   "outputs": [
    {
     "name": "stdout",
     "output_type": "stream",
     "text": [
      "[[1968   19]\n",
      " [  48   11]]\n"
     ]
    }
   ],
   "source": [
    "y_pred = classifier.predict(X_test)\n",
    "cm = confusion_matrix(y_test, y_pred)\n",
    "print(cm)\n",
    "acc7 = accuracy_score(y_test, y_pred)"
   ]
  },
  {
   "cell_type": "code",
   "execution_count": 40,
   "id": "c2d16a2f",
   "metadata": {
    "execution": {
     "iopub.execute_input": "2022-02-13T18:35:03.959643Z",
     "iopub.status.busy": "2022-02-13T18:35:03.958947Z",
     "iopub.status.idle": "2022-02-13T18:35:03.961569Z",
     "shell.execute_reply": "2022-02-13T18:35:03.962052Z",
     "shell.execute_reply.started": "2022-02-13T18:33:44.747716Z"
    },
    "papermill": {
     "duration": 0.097614,
     "end_time": "2022-02-13T18:35:03.962228",
     "exception": false,
     "start_time": "2022-02-13T18:35:03.864614",
     "status": "completed"
    },
    "tags": []
   },
   "outputs": [
    {
     "name": "stdout",
     "output_type": "stream",
     "text": [
      "By XG Boost classifier Acc: 0.9672531769305963\n"
     ]
    }
   ],
   "source": [
    "print(f\"By XG Boost classifier Acc: {acc7}\")"
   ]
  },
  {
   "cell_type": "markdown",
   "id": "eeb6d3fe",
   "metadata": {
    "papermill": {
     "duration": 0.092696,
     "end_time": "2022-02-13T18:35:04.147576",
     "exception": false,
     "start_time": "2022-02-13T18:35:04.054880",
     "status": "completed"
    },
    "tags": []
   },
   "source": [
    "# Training CatBoost on the Training set"
   ]
  },
  {
   "cell_type": "code",
   "execution_count": 41,
   "id": "c8bfa06b",
   "metadata": {
    "execution": {
     "iopub.execute_input": "2022-02-13T18:35:04.337982Z",
     "iopub.status.busy": "2022-02-13T18:35:04.337213Z",
     "iopub.status.idle": "2022-02-13T18:35:08.239278Z",
     "shell.execute_reply": "2022-02-13T18:35:08.238559Z",
     "shell.execute_reply.started": "2022-02-13T18:33:44.758677Z"
    },
    "papermill": {
     "duration": 3.99927,
     "end_time": "2022-02-13T18:35:08.239436",
     "exception": false,
     "start_time": "2022-02-13T18:35:04.240166",
     "status": "completed"
    },
    "tags": []
   },
   "outputs": [
    {
     "name": "stdout",
     "output_type": "stream",
     "text": [
      "Learning rate set to 0.020081\n",
      "0:\tlearn: 0.6496940\ttotal: 54ms\tremaining: 53.9s\n",
      "1:\tlearn: 0.6044917\ttotal: 57.1ms\tremaining: 28.5s\n",
      "2:\tlearn: 0.5622949\ttotal: 60.1ms\tremaining: 20s\n",
      "3:\tlearn: 0.5240697\ttotal: 63.6ms\tremaining: 15.8s\n",
      "4:\tlearn: 0.4912042\ttotal: 67.2ms\tremaining: 13.4s\n",
      "5:\tlearn: 0.4607658\ttotal: 70.6ms\tremaining: 11.7s\n",
      "6:\tlearn: 0.4335303\ttotal: 74.1ms\tremaining: 10.5s\n",
      "7:\tlearn: 0.4062611\ttotal: 76.9ms\tremaining: 9.54s\n",
      "8:\tlearn: 0.3815863\ttotal: 80ms\tremaining: 8.81s\n",
      "9:\tlearn: 0.3606635\ttotal: 83.5ms\tremaining: 8.27s\n",
      "10:\tlearn: 0.3419757\ttotal: 86.9ms\tremaining: 7.81s\n",
      "11:\tlearn: 0.3232164\ttotal: 90.2ms\tremaining: 7.43s\n",
      "12:\tlearn: 0.3048934\ttotal: 93.6ms\tremaining: 7.1s\n",
      "13:\tlearn: 0.2899081\ttotal: 96.9ms\tremaining: 6.83s\n",
      "14:\tlearn: 0.2752334\ttotal: 100ms\tremaining: 6.58s\n",
      "15:\tlearn: 0.2622553\ttotal: 104ms\tremaining: 6.37s\n",
      "16:\tlearn: 0.2507765\ttotal: 107ms\tremaining: 6.19s\n",
      "17:\tlearn: 0.2385888\ttotal: 111ms\tremaining: 6.04s\n",
      "18:\tlearn: 0.2290213\ttotal: 114ms\tremaining: 5.89s\n",
      "19:\tlearn: 0.2196908\ttotal: 118ms\tremaining: 5.76s\n",
      "20:\tlearn: 0.2113223\ttotal: 121ms\tremaining: 5.64s\n",
      "21:\tlearn: 0.2047803\ttotal: 125ms\tremaining: 5.54s\n",
      "22:\tlearn: 0.1967365\ttotal: 128ms\tremaining: 5.44s\n",
      "23:\tlearn: 0.1901019\ttotal: 131ms\tremaining: 5.33s\n",
      "24:\tlearn: 0.1840342\ttotal: 135ms\tremaining: 5.25s\n",
      "25:\tlearn: 0.1777838\ttotal: 138ms\tremaining: 5.17s\n",
      "26:\tlearn: 0.1723371\ttotal: 141ms\tremaining: 5.09s\n",
      "27:\tlearn: 0.1667922\ttotal: 145ms\tremaining: 5.02s\n",
      "28:\tlearn: 0.1616780\ttotal: 148ms\tremaining: 4.96s\n",
      "29:\tlearn: 0.1571227\ttotal: 152ms\tremaining: 4.9s\n",
      "30:\tlearn: 0.1528971\ttotal: 155ms\tremaining: 4.84s\n",
      "31:\tlearn: 0.1487560\ttotal: 158ms\tremaining: 4.79s\n",
      "32:\tlearn: 0.1448526\ttotal: 162ms\tremaining: 4.74s\n",
      "33:\tlearn: 0.1413929\ttotal: 165ms\tremaining: 4.7s\n",
      "34:\tlearn: 0.1382280\ttotal: 169ms\tremaining: 4.65s\n",
      "35:\tlearn: 0.1357303\ttotal: 172ms\tremaining: 4.61s\n",
      "36:\tlearn: 0.1328657\ttotal: 175ms\tremaining: 4.57s\n",
      "37:\tlearn: 0.1305180\ttotal: 179ms\tremaining: 4.53s\n",
      "38:\tlearn: 0.1283039\ttotal: 182ms\tremaining: 4.49s\n",
      "39:\tlearn: 0.1259442\ttotal: 186ms\tremaining: 4.45s\n",
      "40:\tlearn: 0.1239301\ttotal: 190ms\tremaining: 4.43s\n",
      "41:\tlearn: 0.1218629\ttotal: 193ms\tremaining: 4.41s\n",
      "42:\tlearn: 0.1199853\ttotal: 197ms\tremaining: 4.38s\n",
      "43:\tlearn: 0.1182568\ttotal: 200ms\tremaining: 4.34s\n",
      "44:\tlearn: 0.1163520\ttotal: 203ms\tremaining: 4.32s\n",
      "45:\tlearn: 0.1145492\ttotal: 206ms\tremaining: 4.28s\n",
      "46:\tlearn: 0.1129399\ttotal: 210ms\tremaining: 4.25s\n",
      "47:\tlearn: 0.1115556\ttotal: 213ms\tremaining: 4.22s\n",
      "48:\tlearn: 0.1101685\ttotal: 216ms\tremaining: 4.19s\n",
      "49:\tlearn: 0.1088802\ttotal: 219ms\tremaining: 4.16s\n",
      "50:\tlearn: 0.1075348\ttotal: 223ms\tremaining: 4.14s\n",
      "51:\tlearn: 0.1062577\ttotal: 226ms\tremaining: 4.12s\n",
      "52:\tlearn: 0.1052396\ttotal: 230ms\tremaining: 4.1s\n",
      "53:\tlearn: 0.1041233\ttotal: 233ms\tremaining: 4.08s\n",
      "54:\tlearn: 0.1031226\ttotal: 236ms\tremaining: 4.05s\n",
      "55:\tlearn: 0.1021201\ttotal: 239ms\tremaining: 4.02s\n",
      "56:\tlearn: 0.1011812\ttotal: 242ms\tremaining: 4s\n",
      "57:\tlearn: 0.1004458\ttotal: 245ms\tremaining: 3.98s\n",
      "58:\tlearn: 0.0997024\ttotal: 248ms\tremaining: 3.96s\n",
      "59:\tlearn: 0.0988356\ttotal: 252ms\tremaining: 3.94s\n",
      "60:\tlearn: 0.0981033\ttotal: 255ms\tremaining: 3.93s\n",
      "61:\tlearn: 0.0973790\ttotal: 258ms\tremaining: 3.91s\n",
      "62:\tlearn: 0.0967569\ttotal: 262ms\tremaining: 3.89s\n",
      "63:\tlearn: 0.0960185\ttotal: 265ms\tremaining: 3.88s\n",
      "64:\tlearn: 0.0954713\ttotal: 268ms\tremaining: 3.86s\n",
      "65:\tlearn: 0.0948295\ttotal: 272ms\tremaining: 3.85s\n",
      "66:\tlearn: 0.0942632\ttotal: 275ms\tremaining: 3.83s\n",
      "67:\tlearn: 0.0938770\ttotal: 279ms\tremaining: 3.82s\n",
      "68:\tlearn: 0.0933196\ttotal: 282ms\tremaining: 3.81s\n",
      "69:\tlearn: 0.0928344\ttotal: 285ms\tremaining: 3.79s\n",
      "70:\tlearn: 0.0924100\ttotal: 289ms\tremaining: 3.78s\n",
      "71:\tlearn: 0.0919236\ttotal: 292ms\tremaining: 3.77s\n",
      "72:\tlearn: 0.0915506\ttotal: 295ms\tremaining: 3.75s\n",
      "73:\tlearn: 0.0910993\ttotal: 299ms\tremaining: 3.74s\n",
      "74:\tlearn: 0.0906148\ttotal: 302ms\tremaining: 3.73s\n",
      "75:\tlearn: 0.0902003\ttotal: 306ms\tremaining: 3.71s\n",
      "76:\tlearn: 0.0898611\ttotal: 309ms\tremaining: 3.7s\n",
      "77:\tlearn: 0.0894012\ttotal: 312ms\tremaining: 3.69s\n",
      "78:\tlearn: 0.0891132\ttotal: 315ms\tremaining: 3.68s\n",
      "79:\tlearn: 0.0887763\ttotal: 319ms\tremaining: 3.66s\n",
      "80:\tlearn: 0.0884336\ttotal: 322ms\tremaining: 3.65s\n",
      "81:\tlearn: 0.0880153\ttotal: 326ms\tremaining: 3.65s\n",
      "82:\tlearn: 0.0877421\ttotal: 329ms\tremaining: 3.64s\n",
      "83:\tlearn: 0.0874454\ttotal: 333ms\tremaining: 3.63s\n",
      "84:\tlearn: 0.0871141\ttotal: 336ms\tremaining: 3.62s\n",
      "85:\tlearn: 0.0866979\ttotal: 340ms\tremaining: 3.61s\n",
      "86:\tlearn: 0.0864433\ttotal: 343ms\tremaining: 3.6s\n",
      "87:\tlearn: 0.0861660\ttotal: 347ms\tremaining: 3.59s\n",
      "88:\tlearn: 0.0859416\ttotal: 350ms\tremaining: 3.58s\n",
      "89:\tlearn: 0.0856208\ttotal: 353ms\tremaining: 3.57s\n",
      "90:\tlearn: 0.0853514\ttotal: 357ms\tremaining: 3.56s\n",
      "91:\tlearn: 0.0851545\ttotal: 360ms\tremaining: 3.55s\n",
      "92:\tlearn: 0.0848855\ttotal: 363ms\tremaining: 3.54s\n",
      "93:\tlearn: 0.0846839\ttotal: 366ms\tremaining: 3.52s\n",
      "94:\tlearn: 0.0844281\ttotal: 369ms\tremaining: 3.51s\n",
      "95:\tlearn: 0.0842352\ttotal: 372ms\tremaining: 3.5s\n",
      "96:\tlearn: 0.0839993\ttotal: 375ms\tremaining: 3.49s\n",
      "97:\tlearn: 0.0838326\ttotal: 379ms\tremaining: 3.49s\n",
      "98:\tlearn: 0.0835645\ttotal: 383ms\tremaining: 3.49s\n",
      "99:\tlearn: 0.0833392\ttotal: 388ms\tremaining: 3.49s\n",
      "100:\tlearn: 0.0831565\ttotal: 393ms\tremaining: 3.5s\n",
      "101:\tlearn: 0.0829826\ttotal: 396ms\tremaining: 3.48s\n",
      "102:\tlearn: 0.0827759\ttotal: 399ms\tremaining: 3.47s\n",
      "103:\tlearn: 0.0825316\ttotal: 401ms\tremaining: 3.46s\n",
      "104:\tlearn: 0.0823586\ttotal: 404ms\tremaining: 3.45s\n",
      "105:\tlearn: 0.0821450\ttotal: 407ms\tremaining: 3.44s\n",
      "106:\tlearn: 0.0819999\ttotal: 410ms\tremaining: 3.42s\n",
      "107:\tlearn: 0.0817604\ttotal: 413ms\tremaining: 3.41s\n",
      "108:\tlearn: 0.0815891\ttotal: 416ms\tremaining: 3.4s\n",
      "109:\tlearn: 0.0814364\ttotal: 419ms\tremaining: 3.39s\n",
      "110:\tlearn: 0.0812547\ttotal: 422ms\tremaining: 3.38s\n",
      "111:\tlearn: 0.0811204\ttotal: 426ms\tremaining: 3.37s\n",
      "112:\tlearn: 0.0809823\ttotal: 429ms\tremaining: 3.37s\n",
      "113:\tlearn: 0.0808014\ttotal: 432ms\tremaining: 3.36s\n",
      "114:\tlearn: 0.0806251\ttotal: 436ms\tremaining: 3.35s\n",
      "115:\tlearn: 0.0804731\ttotal: 439ms\tremaining: 3.34s\n",
      "116:\tlearn: 0.0803613\ttotal: 442ms\tremaining: 3.34s\n",
      "117:\tlearn: 0.0802317\ttotal: 445ms\tremaining: 3.33s\n",
      "118:\tlearn: 0.0800942\ttotal: 448ms\tremaining: 3.32s\n",
      "119:\tlearn: 0.0799261\ttotal: 452ms\tremaining: 3.31s\n",
      "120:\tlearn: 0.0797600\ttotal: 455ms\tremaining: 3.3s\n",
      "121:\tlearn: 0.0795928\ttotal: 458ms\tremaining: 3.29s\n",
      "122:\tlearn: 0.0795022\ttotal: 461ms\tremaining: 3.28s\n",
      "123:\tlearn: 0.0793100\ttotal: 464ms\tremaining: 3.28s\n",
      "124:\tlearn: 0.0791590\ttotal: 467ms\tremaining: 3.27s\n",
      "125:\tlearn: 0.0789618\ttotal: 471ms\tremaining: 3.27s\n",
      "126:\tlearn: 0.0787993\ttotal: 474ms\tremaining: 3.26s\n",
      "127:\tlearn: 0.0786438\ttotal: 478ms\tremaining: 3.25s\n",
      "128:\tlearn: 0.0785181\ttotal: 481ms\tremaining: 3.25s\n",
      "129:\tlearn: 0.0783733\ttotal: 484ms\tremaining: 3.24s\n",
      "130:\tlearn: 0.0782640\ttotal: 488ms\tremaining: 3.23s\n",
      "131:\tlearn: 0.0781462\ttotal: 491ms\tremaining: 3.23s\n",
      "132:\tlearn: 0.0780044\ttotal: 494ms\tremaining: 3.22s\n",
      "133:\tlearn: 0.0779301\ttotal: 497ms\tremaining: 3.21s\n",
      "134:\tlearn: 0.0777807\ttotal: 500ms\tremaining: 3.2s\n",
      "135:\tlearn: 0.0776240\ttotal: 503ms\tremaining: 3.19s\n",
      "136:\tlearn: 0.0775111\ttotal: 506ms\tremaining: 3.19s\n",
      "137:\tlearn: 0.0773885\ttotal: 509ms\tremaining: 3.18s\n",
      "138:\tlearn: 0.0772665\ttotal: 512ms\tremaining: 3.17s\n",
      "139:\tlearn: 0.0771335\ttotal: 515ms\tremaining: 3.16s\n",
      "140:\tlearn: 0.0769965\ttotal: 518ms\tremaining: 3.16s\n",
      "141:\tlearn: 0.0768419\ttotal: 521ms\tremaining: 3.15s\n",
      "142:\tlearn: 0.0766705\ttotal: 525ms\tremaining: 3.14s\n",
      "143:\tlearn: 0.0765325\ttotal: 528ms\tremaining: 3.14s\n",
      "144:\tlearn: 0.0764510\ttotal: 531ms\tremaining: 3.13s\n",
      "145:\tlearn: 0.0763256\ttotal: 535ms\tremaining: 3.13s\n",
      "146:\tlearn: 0.0761764\ttotal: 538ms\tremaining: 3.12s\n",
      "147:\tlearn: 0.0760040\ttotal: 542ms\tremaining: 3.12s\n",
      "148:\tlearn: 0.0759085\ttotal: 545ms\tremaining: 3.11s\n",
      "149:\tlearn: 0.0758622\ttotal: 549ms\tremaining: 3.11s\n",
      "150:\tlearn: 0.0757480\ttotal: 552ms\tremaining: 3.1s\n",
      "151:\tlearn: 0.0756706\ttotal: 556ms\tremaining: 3.1s\n",
      "152:\tlearn: 0.0755641\ttotal: 559ms\tremaining: 3.1s\n",
      "153:\tlearn: 0.0754335\ttotal: 563ms\tremaining: 3.09s\n",
      "154:\tlearn: 0.0752948\ttotal: 566ms\tremaining: 3.09s\n",
      "155:\tlearn: 0.0751438\ttotal: 570ms\tremaining: 3.08s\n",
      "156:\tlearn: 0.0750176\ttotal: 574ms\tremaining: 3.08s\n",
      "157:\tlearn: 0.0748720\ttotal: 578ms\tremaining: 3.08s\n",
      "158:\tlearn: 0.0747228\ttotal: 582ms\tremaining: 3.08s\n",
      "159:\tlearn: 0.0746140\ttotal: 585ms\tremaining: 3.07s\n",
      "160:\tlearn: 0.0745655\ttotal: 589ms\tremaining: 3.07s\n",
      "161:\tlearn: 0.0744495\ttotal: 593ms\tremaining: 3.07s\n",
      "162:\tlearn: 0.0743612\ttotal: 596ms\tremaining: 3.06s\n",
      "163:\tlearn: 0.0742345\ttotal: 600ms\tremaining: 3.06s\n",
      "164:\tlearn: 0.0741080\ttotal: 603ms\tremaining: 3.05s\n",
      "165:\tlearn: 0.0738987\ttotal: 607ms\tremaining: 3.05s\n",
      "166:\tlearn: 0.0738113\ttotal: 611ms\tremaining: 3.05s\n",
      "167:\tlearn: 0.0737402\ttotal: 614ms\tremaining: 3.04s\n",
      "168:\tlearn: 0.0736233\ttotal: 618ms\tremaining: 3.04s\n",
      "169:\tlearn: 0.0734859\ttotal: 621ms\tremaining: 3.03s\n",
      "170:\tlearn: 0.0733629\ttotal: 625ms\tremaining: 3.03s\n",
      "171:\tlearn: 0.0732823\ttotal: 628ms\tremaining: 3.02s\n",
      "172:\tlearn: 0.0732244\ttotal: 631ms\tremaining: 3.02s\n",
      "173:\tlearn: 0.0731186\ttotal: 635ms\tremaining: 3.01s\n",
      "174:\tlearn: 0.0730806\ttotal: 638ms\tremaining: 3.01s\n",
      "175:\tlearn: 0.0729638\ttotal: 642ms\tremaining: 3.01s\n",
      "176:\tlearn: 0.0728915\ttotal: 646ms\tremaining: 3s\n",
      "177:\tlearn: 0.0728597\ttotal: 649ms\tremaining: 3s\n",
      "178:\tlearn: 0.0727625\ttotal: 653ms\tremaining: 2.99s\n",
      "179:\tlearn: 0.0726818\ttotal: 656ms\tremaining: 2.99s\n",
      "180:\tlearn: 0.0725158\ttotal: 660ms\tremaining: 2.98s\n",
      "181:\tlearn: 0.0724688\ttotal: 663ms\tremaining: 2.98s\n",
      "182:\tlearn: 0.0723855\ttotal: 666ms\tremaining: 2.97s\n",
      "183:\tlearn: 0.0722726\ttotal: 670ms\tremaining: 2.97s\n",
      "184:\tlearn: 0.0721966\ttotal: 673ms\tremaining: 2.96s\n",
      "185:\tlearn: 0.0720782\ttotal: 677ms\tremaining: 2.96s\n",
      "186:\tlearn: 0.0719992\ttotal: 680ms\tremaining: 2.96s\n",
      "187:\tlearn: 0.0719244\ttotal: 683ms\tremaining: 2.95s\n",
      "188:\tlearn: 0.0718186\ttotal: 687ms\tremaining: 2.95s\n",
      "189:\tlearn: 0.0717249\ttotal: 690ms\tremaining: 2.94s\n",
      "190:\tlearn: 0.0716666\ttotal: 693ms\tremaining: 2.94s\n",
      "191:\tlearn: 0.0715995\ttotal: 697ms\tremaining: 2.93s\n",
      "192:\tlearn: 0.0715547\ttotal: 700ms\tremaining: 2.93s\n",
      "193:\tlearn: 0.0713986\ttotal: 704ms\tremaining: 2.92s\n",
      "194:\tlearn: 0.0713050\ttotal: 708ms\tremaining: 2.92s\n",
      "195:\tlearn: 0.0712190\ttotal: 711ms\tremaining: 2.92s\n",
      "196:\tlearn: 0.0710868\ttotal: 715ms\tremaining: 2.91s\n",
      "197:\tlearn: 0.0710070\ttotal: 718ms\tremaining: 2.91s\n",
      "198:\tlearn: 0.0709447\ttotal: 722ms\tremaining: 2.9s\n",
      "199:\tlearn: 0.0708544\ttotal: 725ms\tremaining: 2.9s\n",
      "200:\tlearn: 0.0708003\ttotal: 728ms\tremaining: 2.89s\n",
      "201:\tlearn: 0.0707148\ttotal: 731ms\tremaining: 2.89s\n",
      "202:\tlearn: 0.0706254\ttotal: 734ms\tremaining: 2.88s\n",
      "203:\tlearn: 0.0705377\ttotal: 738ms\tremaining: 2.88s\n",
      "204:\tlearn: 0.0704662\ttotal: 742ms\tremaining: 2.88s\n",
      "205:\tlearn: 0.0704011\ttotal: 745ms\tremaining: 2.87s\n",
      "206:\tlearn: 0.0703124\ttotal: 748ms\tremaining: 2.87s\n",
      "207:\tlearn: 0.0702095\ttotal: 752ms\tremaining: 2.86s\n",
      "208:\tlearn: 0.0701345\ttotal: 755ms\tremaining: 2.86s\n",
      "209:\tlearn: 0.0700754\ttotal: 759ms\tremaining: 2.85s\n",
      "210:\tlearn: 0.0699886\ttotal: 763ms\tremaining: 2.85s\n",
      "211:\tlearn: 0.0698906\ttotal: 767ms\tremaining: 2.85s\n",
      "212:\tlearn: 0.0698011\ttotal: 771ms\tremaining: 2.85s\n",
      "213:\tlearn: 0.0696829\ttotal: 774ms\tremaining: 2.84s\n",
      "214:\tlearn: 0.0696187\ttotal: 778ms\tremaining: 2.84s\n",
      "215:\tlearn: 0.0695661\ttotal: 781ms\tremaining: 2.83s\n",
      "216:\tlearn: 0.0694122\ttotal: 785ms\tremaining: 2.83s\n",
      "217:\tlearn: 0.0693787\ttotal: 788ms\tremaining: 2.83s\n",
      "218:\tlearn: 0.0692851\ttotal: 791ms\tremaining: 2.82s\n",
      "219:\tlearn: 0.0691982\ttotal: 795ms\tremaining: 2.82s\n",
      "220:\tlearn: 0.0690910\ttotal: 798ms\tremaining: 2.81s\n",
      "221:\tlearn: 0.0690171\ttotal: 802ms\tremaining: 2.81s\n",
      "222:\tlearn: 0.0689240\ttotal: 805ms\tremaining: 2.8s\n",
      "223:\tlearn: 0.0688776\ttotal: 808ms\tremaining: 2.8s\n",
      "224:\tlearn: 0.0688023\ttotal: 811ms\tremaining: 2.79s\n",
      "225:\tlearn: 0.0687577\ttotal: 814ms\tremaining: 2.79s\n",
      "226:\tlearn: 0.0686849\ttotal: 817ms\tremaining: 2.78s\n",
      "227:\tlearn: 0.0685640\ttotal: 821ms\tremaining: 2.78s\n",
      "228:\tlearn: 0.0684693\ttotal: 824ms\tremaining: 2.77s\n",
      "229:\tlearn: 0.0683465\ttotal: 827ms\tremaining: 2.77s\n",
      "230:\tlearn: 0.0682475\ttotal: 830ms\tremaining: 2.76s\n",
      "231:\tlearn: 0.0681654\ttotal: 834ms\tremaining: 2.76s\n",
      "232:\tlearn: 0.0680502\ttotal: 837ms\tremaining: 2.75s\n",
      "233:\tlearn: 0.0679523\ttotal: 840ms\tremaining: 2.75s\n",
      "234:\tlearn: 0.0678993\ttotal: 843ms\tremaining: 2.75s\n",
      "235:\tlearn: 0.0678508\ttotal: 847ms\tremaining: 2.74s\n",
      "236:\tlearn: 0.0677903\ttotal: 850ms\tremaining: 2.74s\n",
      "237:\tlearn: 0.0676977\ttotal: 853ms\tremaining: 2.73s\n",
      "238:\tlearn: 0.0676693\ttotal: 857ms\tremaining: 2.73s\n",
      "239:\tlearn: 0.0675482\ttotal: 860ms\tremaining: 2.72s\n",
      "240:\tlearn: 0.0674983\ttotal: 863ms\tremaining: 2.72s\n",
      "241:\tlearn: 0.0674193\ttotal: 866ms\tremaining: 2.71s\n",
      "242:\tlearn: 0.0673619\ttotal: 870ms\tremaining: 2.71s\n",
      "243:\tlearn: 0.0672939\ttotal: 873ms\tremaining: 2.7s\n",
      "244:\tlearn: 0.0672474\ttotal: 876ms\tremaining: 2.7s\n",
      "245:\tlearn: 0.0671374\ttotal: 879ms\tremaining: 2.69s\n",
      "246:\tlearn: 0.0670725\ttotal: 882ms\tremaining: 2.69s\n",
      "247:\tlearn: 0.0670282\ttotal: 885ms\tremaining: 2.68s\n",
      "248:\tlearn: 0.0669122\ttotal: 888ms\tremaining: 2.68s\n",
      "249:\tlearn: 0.0668528\ttotal: 891ms\tremaining: 2.67s\n",
      "250:\tlearn: 0.0667389\ttotal: 894ms\tremaining: 2.67s\n",
      "251:\tlearn: 0.0666705\ttotal: 897ms\tremaining: 2.66s\n",
      "252:\tlearn: 0.0666095\ttotal: 900ms\tremaining: 2.66s\n",
      "253:\tlearn: 0.0665417\ttotal: 903ms\tremaining: 2.65s\n",
      "254:\tlearn: 0.0665159\ttotal: 906ms\tremaining: 2.65s\n",
      "255:\tlearn: 0.0664574\ttotal: 909ms\tremaining: 2.64s\n",
      "256:\tlearn: 0.0663431\ttotal: 913ms\tremaining: 2.64s\n",
      "257:\tlearn: 0.0663213\ttotal: 915ms\tremaining: 2.63s\n",
      "258:\tlearn: 0.0662158\ttotal: 919ms\tremaining: 2.63s\n",
      "259:\tlearn: 0.0661282\ttotal: 923ms\tremaining: 2.63s\n",
      "260:\tlearn: 0.0661067\ttotal: 926ms\tremaining: 2.62s\n",
      "261:\tlearn: 0.0660152\ttotal: 930ms\tremaining: 2.62s\n",
      "262:\tlearn: 0.0659400\ttotal: 933ms\tremaining: 2.61s\n",
      "263:\tlearn: 0.0658835\ttotal: 936ms\tremaining: 2.61s\n",
      "264:\tlearn: 0.0657674\ttotal: 939ms\tremaining: 2.6s\n",
      "265:\tlearn: 0.0656927\ttotal: 942ms\tremaining: 2.6s\n",
      "266:\tlearn: 0.0656223\ttotal: 945ms\tremaining: 2.59s\n",
      "267:\tlearn: 0.0655830\ttotal: 948ms\tremaining: 2.59s\n",
      "268:\tlearn: 0.0655379\ttotal: 951ms\tremaining: 2.58s\n",
      "269:\tlearn: 0.0655153\ttotal: 957ms\tremaining: 2.59s\n",
      "270:\tlearn: 0.0654335\ttotal: 961ms\tremaining: 2.58s\n",
      "271:\tlearn: 0.0653753\ttotal: 964ms\tremaining: 2.58s\n",
      "272:\tlearn: 0.0653364\ttotal: 968ms\tremaining: 2.58s\n",
      "273:\tlearn: 0.0651960\ttotal: 971ms\tremaining: 2.57s\n",
      "274:\tlearn: 0.0651227\ttotal: 975ms\tremaining: 2.57s\n",
      "275:\tlearn: 0.0650732\ttotal: 978ms\tremaining: 2.56s\n",
      "276:\tlearn: 0.0650054\ttotal: 981ms\tremaining: 2.56s\n",
      "277:\tlearn: 0.0649194\ttotal: 985ms\tremaining: 2.56s\n",
      "278:\tlearn: 0.0648486\ttotal: 988ms\tremaining: 2.55s\n",
      "279:\tlearn: 0.0647626\ttotal: 992ms\tremaining: 2.55s\n",
      "280:\tlearn: 0.0647182\ttotal: 995ms\tremaining: 2.55s\n",
      "281:\tlearn: 0.0646549\ttotal: 998ms\tremaining: 2.54s\n",
      "282:\tlearn: 0.0645872\ttotal: 1s\tremaining: 2.54s\n",
      "283:\tlearn: 0.0645284\ttotal: 1s\tremaining: 2.53s\n",
      "284:\tlearn: 0.0644429\ttotal: 1.01s\tremaining: 2.53s\n",
      "285:\tlearn: 0.0643885\ttotal: 1.01s\tremaining: 2.52s\n",
      "286:\tlearn: 0.0643097\ttotal: 1.01s\tremaining: 2.52s\n",
      "287:\tlearn: 0.0642335\ttotal: 1.02s\tremaining: 2.51s\n",
      "288:\tlearn: 0.0641929\ttotal: 1.02s\tremaining: 2.51s\n",
      "289:\tlearn: 0.0641518\ttotal: 1.02s\tremaining: 2.5s\n",
      "290:\tlearn: 0.0640912\ttotal: 1.03s\tremaining: 2.5s\n",
      "291:\tlearn: 0.0639851\ttotal: 1.03s\tremaining: 2.51s\n",
      "292:\tlearn: 0.0639264\ttotal: 1.04s\tremaining: 2.5s\n",
      "293:\tlearn: 0.0638700\ttotal: 1.04s\tremaining: 2.5s\n",
      "294:\tlearn: 0.0638109\ttotal: 1.04s\tremaining: 2.5s\n",
      "295:\tlearn: 0.0637294\ttotal: 1.05s\tremaining: 2.49s\n",
      "296:\tlearn: 0.0637042\ttotal: 1.05s\tremaining: 2.49s\n",
      "297:\tlearn: 0.0636739\ttotal: 1.05s\tremaining: 2.48s\n",
      "298:\tlearn: 0.0636177\ttotal: 1.06s\tremaining: 2.48s\n",
      "299:\tlearn: 0.0635189\ttotal: 1.06s\tremaining: 2.48s\n",
      "300:\tlearn: 0.0634417\ttotal: 1.06s\tremaining: 2.47s\n",
      "301:\tlearn: 0.0633396\ttotal: 1.07s\tremaining: 2.47s\n",
      "302:\tlearn: 0.0633200\ttotal: 1.07s\tremaining: 2.47s\n",
      "303:\tlearn: 0.0632532\ttotal: 1.08s\tremaining: 2.46s\n",
      "304:\tlearn: 0.0632068\ttotal: 1.08s\tremaining: 2.46s\n",
      "305:\tlearn: 0.0631653\ttotal: 1.08s\tremaining: 2.45s\n",
      "306:\tlearn: 0.0631133\ttotal: 1.08s\tremaining: 2.45s\n",
      "307:\tlearn: 0.0630660\ttotal: 1.09s\tremaining: 2.44s\n",
      "308:\tlearn: 0.0629805\ttotal: 1.09s\tremaining: 2.44s\n",
      "309:\tlearn: 0.0629250\ttotal: 1.09s\tremaining: 2.44s\n",
      "310:\tlearn: 0.0628597\ttotal: 1.1s\tremaining: 2.43s\n",
      "311:\tlearn: 0.0628202\ttotal: 1.1s\tremaining: 2.43s\n",
      "312:\tlearn: 0.0627890\ttotal: 1.1s\tremaining: 2.42s\n",
      "313:\tlearn: 0.0627595\ttotal: 1.11s\tremaining: 2.42s\n",
      "314:\tlearn: 0.0626919\ttotal: 1.11s\tremaining: 2.42s\n",
      "315:\tlearn: 0.0626380\ttotal: 1.11s\tremaining: 2.41s\n",
      "316:\tlearn: 0.0625833\ttotal: 1.12s\tremaining: 2.41s\n",
      "317:\tlearn: 0.0624796\ttotal: 1.12s\tremaining: 2.4s\n",
      "318:\tlearn: 0.0624312\ttotal: 1.12s\tremaining: 2.4s\n",
      "319:\tlearn: 0.0623467\ttotal: 1.13s\tremaining: 2.4s\n",
      "320:\tlearn: 0.0622999\ttotal: 1.13s\tremaining: 2.39s\n",
      "321:\tlearn: 0.0622053\ttotal: 1.13s\tremaining: 2.39s\n",
      "322:\tlearn: 0.0621292\ttotal: 1.14s\tremaining: 2.38s\n",
      "323:\tlearn: 0.0621036\ttotal: 1.14s\tremaining: 2.38s\n",
      "324:\tlearn: 0.0620009\ttotal: 1.14s\tremaining: 2.37s\n",
      "325:\tlearn: 0.0619457\ttotal: 1.15s\tremaining: 2.37s\n",
      "326:\tlearn: 0.0618896\ttotal: 1.15s\tremaining: 2.37s\n",
      "327:\tlearn: 0.0618236\ttotal: 1.15s\tremaining: 2.36s\n",
      "328:\tlearn: 0.0617733\ttotal: 1.16s\tremaining: 2.36s\n",
      "329:\tlearn: 0.0616860\ttotal: 1.16s\tremaining: 2.36s\n",
      "330:\tlearn: 0.0615760\ttotal: 1.16s\tremaining: 2.35s\n",
      "331:\tlearn: 0.0615617\ttotal: 1.17s\tremaining: 2.35s\n",
      "332:\tlearn: 0.0615304\ttotal: 1.17s\tremaining: 2.35s\n",
      "333:\tlearn: 0.0614892\ttotal: 1.17s\tremaining: 2.34s\n",
      "334:\tlearn: 0.0613780\ttotal: 1.18s\tremaining: 2.34s\n",
      "335:\tlearn: 0.0613209\ttotal: 1.18s\tremaining: 2.33s\n",
      "336:\tlearn: 0.0612723\ttotal: 1.18s\tremaining: 2.33s\n",
      "337:\tlearn: 0.0611848\ttotal: 1.19s\tremaining: 2.33s\n",
      "338:\tlearn: 0.0611546\ttotal: 1.19s\tremaining: 2.32s\n",
      "339:\tlearn: 0.0611060\ttotal: 1.19s\tremaining: 2.32s\n",
      "340:\tlearn: 0.0610344\ttotal: 1.2s\tremaining: 2.31s\n",
      "341:\tlearn: 0.0609720\ttotal: 1.2s\tremaining: 2.31s\n",
      "342:\tlearn: 0.0609611\ttotal: 1.2s\tremaining: 2.31s\n",
      "343:\tlearn: 0.0608856\ttotal: 1.21s\tremaining: 2.3s\n",
      "344:\tlearn: 0.0608027\ttotal: 1.21s\tremaining: 2.3s\n",
      "345:\tlearn: 0.0607279\ttotal: 1.21s\tremaining: 2.29s\n",
      "346:\tlearn: 0.0606671\ttotal: 1.22s\tremaining: 2.29s\n",
      "347:\tlearn: 0.0605647\ttotal: 1.22s\tremaining: 2.29s\n",
      "348:\tlearn: 0.0604748\ttotal: 1.22s\tremaining: 2.28s\n",
      "349:\tlearn: 0.0604097\ttotal: 1.23s\tremaining: 2.28s\n",
      "350:\tlearn: 0.0603122\ttotal: 1.23s\tremaining: 2.28s\n",
      "351:\tlearn: 0.0602377\ttotal: 1.23s\tremaining: 2.27s\n",
      "352:\tlearn: 0.0601572\ttotal: 1.24s\tremaining: 2.27s\n",
      "353:\tlearn: 0.0601378\ttotal: 1.24s\tremaining: 2.26s\n",
      "354:\tlearn: 0.0600924\ttotal: 1.24s\tremaining: 2.26s\n",
      "355:\tlearn: 0.0600622\ttotal: 1.25s\tremaining: 2.25s\n",
      "356:\tlearn: 0.0599916\ttotal: 1.25s\tremaining: 2.25s\n",
      "357:\tlearn: 0.0599249\ttotal: 1.25s\tremaining: 2.25s\n",
      "358:\tlearn: 0.0599168\ttotal: 1.25s\tremaining: 2.24s\n",
      "359:\tlearn: 0.0598846\ttotal: 1.26s\tremaining: 2.24s\n",
      "360:\tlearn: 0.0598470\ttotal: 1.26s\tremaining: 2.23s\n",
      "361:\tlearn: 0.0597725\ttotal: 1.26s\tremaining: 2.23s\n",
      "362:\tlearn: 0.0597272\ttotal: 1.27s\tremaining: 2.23s\n",
      "363:\tlearn: 0.0596619\ttotal: 1.27s\tremaining: 2.22s\n",
      "364:\tlearn: 0.0596021\ttotal: 1.27s\tremaining: 2.22s\n",
      "365:\tlearn: 0.0595275\ttotal: 1.28s\tremaining: 2.21s\n",
      "366:\tlearn: 0.0594867\ttotal: 1.28s\tremaining: 2.21s\n",
      "367:\tlearn: 0.0594138\ttotal: 1.28s\tremaining: 2.2s\n",
      "368:\tlearn: 0.0593308\ttotal: 1.29s\tremaining: 2.2s\n",
      "369:\tlearn: 0.0592706\ttotal: 1.29s\tremaining: 2.19s\n",
      "370:\tlearn: 0.0592441\ttotal: 1.29s\tremaining: 2.19s\n",
      "371:\tlearn: 0.0591671\ttotal: 1.3s\tremaining: 2.19s\n",
      "372:\tlearn: 0.0590835\ttotal: 1.3s\tremaining: 2.18s\n",
      "373:\tlearn: 0.0590542\ttotal: 1.3s\tremaining: 2.18s\n",
      "374:\tlearn: 0.0590337\ttotal: 1.31s\tremaining: 2.18s\n",
      "375:\tlearn: 0.0589914\ttotal: 1.31s\tremaining: 2.17s\n",
      "376:\tlearn: 0.0589344\ttotal: 1.31s\tremaining: 2.17s\n",
      "377:\tlearn: 0.0588871\ttotal: 1.31s\tremaining: 2.16s\n",
      "378:\tlearn: 0.0588366\ttotal: 1.32s\tremaining: 2.16s\n",
      "379:\tlearn: 0.0587681\ttotal: 1.32s\tremaining: 2.16s\n",
      "380:\tlearn: 0.0587050\ttotal: 1.32s\tremaining: 2.15s\n",
      "381:\tlearn: 0.0586765\ttotal: 1.33s\tremaining: 2.15s\n",
      "382:\tlearn: 0.0585920\ttotal: 1.33s\tremaining: 2.14s\n",
      "383:\tlearn: 0.0585471\ttotal: 1.33s\tremaining: 2.14s\n",
      "384:\tlearn: 0.0584616\ttotal: 1.34s\tremaining: 2.13s\n",
      "385:\tlearn: 0.0584428\ttotal: 1.34s\tremaining: 2.13s\n",
      "386:\tlearn: 0.0583941\ttotal: 1.34s\tremaining: 2.13s\n",
      "387:\tlearn: 0.0583028\ttotal: 1.35s\tremaining: 2.13s\n",
      "388:\tlearn: 0.0582712\ttotal: 1.35s\tremaining: 2.13s\n",
      "389:\tlearn: 0.0582124\ttotal: 1.36s\tremaining: 2.12s\n",
      "390:\tlearn: 0.0581798\ttotal: 1.36s\tremaining: 2.12s\n",
      "391:\tlearn: 0.0581196\ttotal: 1.36s\tremaining: 2.11s\n",
      "392:\tlearn: 0.0580498\ttotal: 1.36s\tremaining: 2.11s\n",
      "393:\tlearn: 0.0580160\ttotal: 1.37s\tremaining: 2.1s\n",
      "394:\tlearn: 0.0579565\ttotal: 1.37s\tremaining: 2.1s\n",
      "395:\tlearn: 0.0579204\ttotal: 1.37s\tremaining: 2.1s\n",
      "396:\tlearn: 0.0578807\ttotal: 1.38s\tremaining: 2.09s\n",
      "397:\tlearn: 0.0578052\ttotal: 1.38s\tremaining: 2.09s\n",
      "398:\tlearn: 0.0577233\ttotal: 1.38s\tremaining: 2.08s\n",
      "399:\tlearn: 0.0577007\ttotal: 1.39s\tremaining: 2.08s\n",
      "400:\tlearn: 0.0576335\ttotal: 1.39s\tremaining: 2.08s\n",
      "401:\tlearn: 0.0575858\ttotal: 1.39s\tremaining: 2.07s\n",
      "402:\tlearn: 0.0575393\ttotal: 1.4s\tremaining: 2.07s\n",
      "403:\tlearn: 0.0575033\ttotal: 1.4s\tremaining: 2.07s\n",
      "404:\tlearn: 0.0574480\ttotal: 1.4s\tremaining: 2.06s\n",
      "405:\tlearn: 0.0574021\ttotal: 1.41s\tremaining: 2.06s\n",
      "406:\tlearn: 0.0573217\ttotal: 1.41s\tremaining: 2.06s\n",
      "407:\tlearn: 0.0572705\ttotal: 1.41s\tremaining: 2.05s\n",
      "408:\tlearn: 0.0572072\ttotal: 1.42s\tremaining: 2.05s\n",
      "409:\tlearn: 0.0571622\ttotal: 1.42s\tremaining: 2.04s\n",
      "410:\tlearn: 0.0571126\ttotal: 1.42s\tremaining: 2.04s\n",
      "411:\tlearn: 0.0570788\ttotal: 1.43s\tremaining: 2.04s\n",
      "412:\tlearn: 0.0570472\ttotal: 1.43s\tremaining: 2.03s\n",
      "413:\tlearn: 0.0570168\ttotal: 1.43s\tremaining: 2.03s\n",
      "414:\tlearn: 0.0569640\ttotal: 1.44s\tremaining: 2.02s\n",
      "415:\tlearn: 0.0568740\ttotal: 1.44s\tremaining: 2.02s\n",
      "416:\tlearn: 0.0568428\ttotal: 1.44s\tremaining: 2.02s\n",
      "417:\tlearn: 0.0568003\ttotal: 1.45s\tremaining: 2.01s\n",
      "418:\tlearn: 0.0567298\ttotal: 1.45s\tremaining: 2.01s\n",
      "419:\tlearn: 0.0566471\ttotal: 1.45s\tremaining: 2.01s\n",
      "420:\tlearn: 0.0565564\ttotal: 1.46s\tremaining: 2s\n",
      "421:\tlearn: 0.0564825\ttotal: 1.46s\tremaining: 2s\n",
      "422:\tlearn: 0.0564029\ttotal: 1.46s\tremaining: 2s\n",
      "423:\tlearn: 0.0563818\ttotal: 1.47s\tremaining: 1.99s\n",
      "424:\tlearn: 0.0563485\ttotal: 1.47s\tremaining: 1.99s\n",
      "425:\tlearn: 0.0562832\ttotal: 1.47s\tremaining: 1.98s\n",
      "426:\tlearn: 0.0562573\ttotal: 1.48s\tremaining: 1.98s\n",
      "427:\tlearn: 0.0562303\ttotal: 1.48s\tremaining: 1.98s\n",
      "428:\tlearn: 0.0561665\ttotal: 1.48s\tremaining: 1.97s\n",
      "429:\tlearn: 0.0561092\ttotal: 1.49s\tremaining: 1.97s\n",
      "430:\tlearn: 0.0560491\ttotal: 1.49s\tremaining: 1.97s\n",
      "431:\tlearn: 0.0560064\ttotal: 1.49s\tremaining: 1.96s\n",
      "432:\tlearn: 0.0559614\ttotal: 1.5s\tremaining: 1.96s\n",
      "433:\tlearn: 0.0559104\ttotal: 1.5s\tremaining: 1.96s\n",
      "434:\tlearn: 0.0558741\ttotal: 1.5s\tremaining: 1.95s\n",
      "435:\tlearn: 0.0558398\ttotal: 1.51s\tremaining: 1.95s\n",
      "436:\tlearn: 0.0558046\ttotal: 1.51s\tremaining: 1.95s\n",
      "437:\tlearn: 0.0557726\ttotal: 1.51s\tremaining: 1.94s\n",
      "438:\tlearn: 0.0556812\ttotal: 1.52s\tremaining: 1.94s\n",
      "439:\tlearn: 0.0556343\ttotal: 1.52s\tremaining: 1.93s\n",
      "440:\tlearn: 0.0555663\ttotal: 1.52s\tremaining: 1.93s\n",
      "441:\tlearn: 0.0555353\ttotal: 1.53s\tremaining: 1.93s\n",
      "442:\tlearn: 0.0554592\ttotal: 1.53s\tremaining: 1.92s\n",
      "443:\tlearn: 0.0553631\ttotal: 1.53s\tremaining: 1.92s\n",
      "444:\tlearn: 0.0552765\ttotal: 1.54s\tremaining: 1.92s\n",
      "445:\tlearn: 0.0552369\ttotal: 1.54s\tremaining: 1.92s\n",
      "446:\tlearn: 0.0551706\ttotal: 1.54s\tremaining: 1.91s\n",
      "447:\tlearn: 0.0551280\ttotal: 1.55s\tremaining: 1.91s\n",
      "448:\tlearn: 0.0550617\ttotal: 1.55s\tremaining: 1.9s\n",
      "449:\tlearn: 0.0550045\ttotal: 1.55s\tremaining: 1.9s\n",
      "450:\tlearn: 0.0549515\ttotal: 1.56s\tremaining: 1.9s\n",
      "451:\tlearn: 0.0549229\ttotal: 1.56s\tremaining: 1.89s\n",
      "452:\tlearn: 0.0548820\ttotal: 1.56s\tremaining: 1.89s\n",
      "453:\tlearn: 0.0548220\ttotal: 1.57s\tremaining: 1.89s\n",
      "454:\tlearn: 0.0547842\ttotal: 1.57s\tremaining: 1.88s\n",
      "455:\tlearn: 0.0547436\ttotal: 1.57s\tremaining: 1.88s\n",
      "456:\tlearn: 0.0546907\ttotal: 1.58s\tremaining: 1.88s\n",
      "457:\tlearn: 0.0546605\ttotal: 1.58s\tremaining: 1.87s\n",
      "458:\tlearn: 0.0545948\ttotal: 1.58s\tremaining: 1.87s\n",
      "459:\tlearn: 0.0544947\ttotal: 1.59s\tremaining: 1.86s\n",
      "460:\tlearn: 0.0544559\ttotal: 1.59s\tremaining: 1.86s\n",
      "461:\tlearn: 0.0543886\ttotal: 1.59s\tremaining: 1.86s\n",
      "462:\tlearn: 0.0542947\ttotal: 1.6s\tremaining: 1.85s\n",
      "463:\tlearn: 0.0542190\ttotal: 1.6s\tremaining: 1.85s\n",
      "464:\tlearn: 0.0541589\ttotal: 1.6s\tremaining: 1.85s\n",
      "465:\tlearn: 0.0540667\ttotal: 1.61s\tremaining: 1.84s\n",
      "466:\tlearn: 0.0540192\ttotal: 1.61s\tremaining: 1.84s\n",
      "467:\tlearn: 0.0539808\ttotal: 1.61s\tremaining: 1.84s\n",
      "468:\tlearn: 0.0538868\ttotal: 1.62s\tremaining: 1.83s\n",
      "469:\tlearn: 0.0538095\ttotal: 1.62s\tremaining: 1.83s\n",
      "470:\tlearn: 0.0537427\ttotal: 1.63s\tremaining: 1.83s\n",
      "471:\tlearn: 0.0536866\ttotal: 1.63s\tremaining: 1.82s\n",
      "472:\tlearn: 0.0536393\ttotal: 1.63s\tremaining: 1.82s\n",
      "473:\tlearn: 0.0535823\ttotal: 1.64s\tremaining: 1.81s\n",
      "474:\tlearn: 0.0535321\ttotal: 1.64s\tremaining: 1.81s\n",
      "475:\tlearn: 0.0534588\ttotal: 1.64s\tremaining: 1.81s\n",
      "476:\tlearn: 0.0534363\ttotal: 1.65s\tremaining: 1.8s\n",
      "477:\tlearn: 0.0533795\ttotal: 1.65s\tremaining: 1.8s\n",
      "478:\tlearn: 0.0533393\ttotal: 1.65s\tremaining: 1.8s\n",
      "479:\tlearn: 0.0532717\ttotal: 1.66s\tremaining: 1.79s\n",
      "480:\tlearn: 0.0532470\ttotal: 1.66s\tremaining: 1.79s\n",
      "481:\tlearn: 0.0532037\ttotal: 1.66s\tremaining: 1.79s\n",
      "482:\tlearn: 0.0531197\ttotal: 1.67s\tremaining: 1.78s\n",
      "483:\tlearn: 0.0530369\ttotal: 1.67s\tremaining: 1.78s\n",
      "484:\tlearn: 0.0529824\ttotal: 1.67s\tremaining: 1.78s\n",
      "485:\tlearn: 0.0529646\ttotal: 1.68s\tremaining: 1.77s\n",
      "486:\tlearn: 0.0529307\ttotal: 1.68s\tremaining: 1.77s\n",
      "487:\tlearn: 0.0528995\ttotal: 1.68s\tremaining: 1.77s\n",
      "488:\tlearn: 0.0528319\ttotal: 1.69s\tremaining: 1.76s\n",
      "489:\tlearn: 0.0527912\ttotal: 1.69s\tremaining: 1.76s\n",
      "490:\tlearn: 0.0527381\ttotal: 1.69s\tremaining: 1.76s\n",
      "491:\tlearn: 0.0526765\ttotal: 1.7s\tremaining: 1.75s\n",
      "492:\tlearn: 0.0526075\ttotal: 1.7s\tremaining: 1.75s\n",
      "493:\tlearn: 0.0525769\ttotal: 1.7s\tremaining: 1.75s\n",
      "494:\tlearn: 0.0525313\ttotal: 1.71s\tremaining: 1.74s\n",
      "495:\tlearn: 0.0524806\ttotal: 1.71s\tremaining: 1.74s\n",
      "496:\tlearn: 0.0524628\ttotal: 1.71s\tremaining: 1.73s\n",
      "497:\tlearn: 0.0524179\ttotal: 1.72s\tremaining: 1.73s\n",
      "498:\tlearn: 0.0523832\ttotal: 1.72s\tremaining: 1.73s\n",
      "499:\tlearn: 0.0523528\ttotal: 1.73s\tremaining: 1.73s\n",
      "500:\tlearn: 0.0522961\ttotal: 1.73s\tremaining: 1.72s\n",
      "501:\tlearn: 0.0522320\ttotal: 1.74s\tremaining: 1.72s\n",
      "502:\tlearn: 0.0521741\ttotal: 1.74s\tremaining: 1.72s\n",
      "503:\tlearn: 0.0521300\ttotal: 1.74s\tremaining: 1.72s\n",
      "504:\tlearn: 0.0520595\ttotal: 1.75s\tremaining: 1.71s\n",
      "505:\tlearn: 0.0520422\ttotal: 1.75s\tremaining: 1.71s\n",
      "506:\tlearn: 0.0520029\ttotal: 1.75s\tremaining: 1.7s\n",
      "507:\tlearn: 0.0519444\ttotal: 1.76s\tremaining: 1.7s\n",
      "508:\tlearn: 0.0518719\ttotal: 1.76s\tremaining: 1.7s\n",
      "509:\tlearn: 0.0517880\ttotal: 1.76s\tremaining: 1.69s\n",
      "510:\tlearn: 0.0517117\ttotal: 1.77s\tremaining: 1.69s\n",
      "511:\tlearn: 0.0516664\ttotal: 1.77s\tremaining: 1.69s\n",
      "512:\tlearn: 0.0516011\ttotal: 1.77s\tremaining: 1.68s\n",
      "513:\tlearn: 0.0515706\ttotal: 1.78s\tremaining: 1.68s\n",
      "514:\tlearn: 0.0515000\ttotal: 1.78s\tremaining: 1.68s\n",
      "515:\tlearn: 0.0514396\ttotal: 1.78s\tremaining: 1.67s\n",
      "516:\tlearn: 0.0513869\ttotal: 1.79s\tremaining: 1.67s\n",
      "517:\tlearn: 0.0513663\ttotal: 1.79s\tremaining: 1.67s\n",
      "518:\tlearn: 0.0513271\ttotal: 1.79s\tremaining: 1.66s\n",
      "519:\tlearn: 0.0512626\ttotal: 1.79s\tremaining: 1.66s\n",
      "520:\tlearn: 0.0512202\ttotal: 1.8s\tremaining: 1.65s\n",
      "521:\tlearn: 0.0511911\ttotal: 1.8s\tremaining: 1.65s\n",
      "522:\tlearn: 0.0511070\ttotal: 1.8s\tremaining: 1.65s\n",
      "523:\tlearn: 0.0510485\ttotal: 1.81s\tremaining: 1.64s\n",
      "524:\tlearn: 0.0509880\ttotal: 1.81s\tremaining: 1.64s\n",
      "525:\tlearn: 0.0509276\ttotal: 1.81s\tremaining: 1.64s\n",
      "526:\tlearn: 0.0508353\ttotal: 1.82s\tremaining: 1.63s\n",
      "527:\tlearn: 0.0507789\ttotal: 1.82s\tremaining: 1.63s\n",
      "528:\tlearn: 0.0507461\ttotal: 1.82s\tremaining: 1.63s\n",
      "529:\tlearn: 0.0506821\ttotal: 1.83s\tremaining: 1.62s\n",
      "530:\tlearn: 0.0506502\ttotal: 1.83s\tremaining: 1.62s\n",
      "531:\tlearn: 0.0505997\ttotal: 1.83s\tremaining: 1.61s\n",
      "532:\tlearn: 0.0505460\ttotal: 1.84s\tremaining: 1.61s\n",
      "533:\tlearn: 0.0505028\ttotal: 1.84s\tremaining: 1.61s\n",
      "534:\tlearn: 0.0504696\ttotal: 1.85s\tremaining: 1.6s\n",
      "535:\tlearn: 0.0504177\ttotal: 1.85s\tremaining: 1.6s\n",
      "536:\tlearn: 0.0503671\ttotal: 1.85s\tremaining: 1.6s\n",
      "537:\tlearn: 0.0502843\ttotal: 1.86s\tremaining: 1.59s\n",
      "538:\tlearn: 0.0502413\ttotal: 1.86s\tremaining: 1.59s\n",
      "539:\tlearn: 0.0502081\ttotal: 1.86s\tremaining: 1.59s\n",
      "540:\tlearn: 0.0501693\ttotal: 1.87s\tremaining: 1.58s\n",
      "541:\tlearn: 0.0500731\ttotal: 1.87s\tremaining: 1.58s\n",
      "542:\tlearn: 0.0499987\ttotal: 1.87s\tremaining: 1.58s\n",
      "543:\tlearn: 0.0499486\ttotal: 1.88s\tremaining: 1.57s\n",
      "544:\tlearn: 0.0498980\ttotal: 1.88s\tremaining: 1.57s\n",
      "545:\tlearn: 0.0498036\ttotal: 1.89s\tremaining: 1.57s\n",
      "546:\tlearn: 0.0497248\ttotal: 1.89s\tremaining: 1.56s\n",
      "547:\tlearn: 0.0496782\ttotal: 1.89s\tremaining: 1.56s\n",
      "548:\tlearn: 0.0496417\ttotal: 1.89s\tremaining: 1.56s\n",
      "549:\tlearn: 0.0496171\ttotal: 1.9s\tremaining: 1.55s\n",
      "550:\tlearn: 0.0495817\ttotal: 1.9s\tremaining: 1.55s\n",
      "551:\tlearn: 0.0495216\ttotal: 1.9s\tremaining: 1.54s\n",
      "552:\tlearn: 0.0494820\ttotal: 1.91s\tremaining: 1.54s\n",
      "553:\tlearn: 0.0494357\ttotal: 1.91s\tremaining: 1.54s\n",
      "554:\tlearn: 0.0493707\ttotal: 1.92s\tremaining: 1.54s\n",
      "555:\tlearn: 0.0493221\ttotal: 1.92s\tremaining: 1.53s\n",
      "556:\tlearn: 0.0493029\ttotal: 1.92s\tremaining: 1.53s\n",
      "557:\tlearn: 0.0492420\ttotal: 1.93s\tremaining: 1.53s\n",
      "558:\tlearn: 0.0492170\ttotal: 1.93s\tremaining: 1.52s\n",
      "559:\tlearn: 0.0491737\ttotal: 1.93s\tremaining: 1.52s\n",
      "560:\tlearn: 0.0491275\ttotal: 1.94s\tremaining: 1.52s\n",
      "561:\tlearn: 0.0491084\ttotal: 1.94s\tremaining: 1.51s\n",
      "562:\tlearn: 0.0490811\ttotal: 1.94s\tremaining: 1.51s\n",
      "563:\tlearn: 0.0490566\ttotal: 1.95s\tremaining: 1.5s\n",
      "564:\tlearn: 0.0490401\ttotal: 1.95s\tremaining: 1.5s\n",
      "565:\tlearn: 0.0489938\ttotal: 1.95s\tremaining: 1.5s\n",
      "566:\tlearn: 0.0489493\ttotal: 1.96s\tremaining: 1.5s\n",
      "567:\tlearn: 0.0489022\ttotal: 1.96s\tremaining: 1.49s\n",
      "568:\tlearn: 0.0488372\ttotal: 1.97s\tremaining: 1.49s\n",
      "569:\tlearn: 0.0487802\ttotal: 1.97s\tremaining: 1.49s\n",
      "570:\tlearn: 0.0487532\ttotal: 1.97s\tremaining: 1.48s\n",
      "571:\tlearn: 0.0486868\ttotal: 1.98s\tremaining: 1.48s\n",
      "572:\tlearn: 0.0486536\ttotal: 1.98s\tremaining: 1.48s\n",
      "573:\tlearn: 0.0485977\ttotal: 1.98s\tremaining: 1.47s\n",
      "574:\tlearn: 0.0485403\ttotal: 1.99s\tremaining: 1.47s\n",
      "575:\tlearn: 0.0484642\ttotal: 1.99s\tremaining: 1.46s\n",
      "576:\tlearn: 0.0484116\ttotal: 1.99s\tremaining: 1.46s\n",
      "577:\tlearn: 0.0483699\ttotal: 2s\tremaining: 1.46s\n",
      "578:\tlearn: 0.0483470\ttotal: 2s\tremaining: 1.45s\n",
      "579:\tlearn: 0.0482887\ttotal: 2s\tremaining: 1.45s\n",
      "580:\tlearn: 0.0482368\ttotal: 2.01s\tremaining: 1.45s\n",
      "581:\tlearn: 0.0482028\ttotal: 2.01s\tremaining: 1.44s\n",
      "582:\tlearn: 0.0480815\ttotal: 2.01s\tremaining: 1.44s\n",
      "583:\tlearn: 0.0480483\ttotal: 2.02s\tremaining: 1.44s\n",
      "584:\tlearn: 0.0480090\ttotal: 2.02s\tremaining: 1.43s\n",
      "585:\tlearn: 0.0479345\ttotal: 2.02s\tremaining: 1.43s\n",
      "586:\tlearn: 0.0478737\ttotal: 2.03s\tremaining: 1.43s\n",
      "587:\tlearn: 0.0478308\ttotal: 2.03s\tremaining: 1.42s\n",
      "588:\tlearn: 0.0477926\ttotal: 2.04s\tremaining: 1.42s\n",
      "589:\tlearn: 0.0477549\ttotal: 2.04s\tremaining: 1.42s\n",
      "590:\tlearn: 0.0477351\ttotal: 2.04s\tremaining: 1.41s\n",
      "591:\tlearn: 0.0477037\ttotal: 2.05s\tremaining: 1.41s\n",
      "592:\tlearn: 0.0476746\ttotal: 2.05s\tremaining: 1.41s\n",
      "593:\tlearn: 0.0476149\ttotal: 2.05s\tremaining: 1.4s\n",
      "594:\tlearn: 0.0475633\ttotal: 2.06s\tremaining: 1.4s\n",
      "595:\tlearn: 0.0474465\ttotal: 2.06s\tremaining: 1.4s\n",
      "596:\tlearn: 0.0474304\ttotal: 2.06s\tremaining: 1.39s\n",
      "597:\tlearn: 0.0474010\ttotal: 2.07s\tremaining: 1.39s\n",
      "598:\tlearn: 0.0473568\ttotal: 2.07s\tremaining: 1.39s\n",
      "599:\tlearn: 0.0473251\ttotal: 2.07s\tremaining: 1.38s\n",
      "600:\tlearn: 0.0472790\ttotal: 2.08s\tremaining: 1.38s\n",
      "601:\tlearn: 0.0472203\ttotal: 2.08s\tremaining: 1.38s\n",
      "602:\tlearn: 0.0472047\ttotal: 2.08s\tremaining: 1.37s\n",
      "603:\tlearn: 0.0471634\ttotal: 2.09s\tremaining: 1.37s\n",
      "604:\tlearn: 0.0470973\ttotal: 2.09s\tremaining: 1.36s\n",
      "605:\tlearn: 0.0470489\ttotal: 2.09s\tremaining: 1.36s\n",
      "606:\tlearn: 0.0469961\ttotal: 2.1s\tremaining: 1.36s\n",
      "607:\tlearn: 0.0469527\ttotal: 2.1s\tremaining: 1.35s\n",
      "608:\tlearn: 0.0468386\ttotal: 2.1s\tremaining: 1.35s\n",
      "609:\tlearn: 0.0467877\ttotal: 2.11s\tremaining: 1.35s\n",
      "610:\tlearn: 0.0467593\ttotal: 2.11s\tremaining: 1.34s\n",
      "611:\tlearn: 0.0466866\ttotal: 2.12s\tremaining: 1.34s\n",
      "612:\tlearn: 0.0466194\ttotal: 2.12s\tremaining: 1.34s\n",
      "613:\tlearn: 0.0465951\ttotal: 2.12s\tremaining: 1.33s\n",
      "614:\tlearn: 0.0465804\ttotal: 2.13s\tremaining: 1.33s\n",
      "615:\tlearn: 0.0465237\ttotal: 2.13s\tremaining: 1.33s\n",
      "616:\tlearn: 0.0464627\ttotal: 2.13s\tremaining: 1.32s\n",
      "617:\tlearn: 0.0463795\ttotal: 2.14s\tremaining: 1.32s\n",
      "618:\tlearn: 0.0463530\ttotal: 2.14s\tremaining: 1.32s\n",
      "619:\tlearn: 0.0463034\ttotal: 2.15s\tremaining: 1.31s\n",
      "620:\tlearn: 0.0462860\ttotal: 2.15s\tremaining: 1.31s\n",
      "621:\tlearn: 0.0462632\ttotal: 2.15s\tremaining: 1.31s\n",
      "622:\tlearn: 0.0461436\ttotal: 2.16s\tremaining: 1.3s\n",
      "623:\tlearn: 0.0460894\ttotal: 2.16s\tremaining: 1.3s\n",
      "624:\tlearn: 0.0460398\ttotal: 2.16s\tremaining: 1.3s\n",
      "625:\tlearn: 0.0459812\ttotal: 2.17s\tremaining: 1.29s\n",
      "626:\tlearn: 0.0459271\ttotal: 2.17s\tremaining: 1.29s\n",
      "627:\tlearn: 0.0459008\ttotal: 2.17s\tremaining: 1.29s\n",
      "628:\tlearn: 0.0458242\ttotal: 2.18s\tremaining: 1.28s\n",
      "629:\tlearn: 0.0457600\ttotal: 2.18s\tremaining: 1.28s\n",
      "630:\tlearn: 0.0457432\ttotal: 2.18s\tremaining: 1.28s\n",
      "631:\tlearn: 0.0457226\ttotal: 2.19s\tremaining: 1.27s\n",
      "632:\tlearn: 0.0456546\ttotal: 2.19s\tremaining: 1.27s\n",
      "633:\tlearn: 0.0455521\ttotal: 2.19s\tremaining: 1.26s\n",
      "634:\tlearn: 0.0455202\ttotal: 2.19s\tremaining: 1.26s\n",
      "635:\tlearn: 0.0454614\ttotal: 2.2s\tremaining: 1.26s\n",
      "636:\tlearn: 0.0454292\ttotal: 2.2s\tremaining: 1.25s\n",
      "637:\tlearn: 0.0453909\ttotal: 2.2s\tremaining: 1.25s\n",
      "638:\tlearn: 0.0453525\ttotal: 2.21s\tremaining: 1.25s\n",
      "639:\tlearn: 0.0452765\ttotal: 2.21s\tremaining: 1.24s\n",
      "640:\tlearn: 0.0452364\ttotal: 2.21s\tremaining: 1.24s\n",
      "641:\tlearn: 0.0451256\ttotal: 2.22s\tremaining: 1.24s\n",
      "642:\tlearn: 0.0451057\ttotal: 2.22s\tremaining: 1.23s\n",
      "643:\tlearn: 0.0450661\ttotal: 2.23s\tremaining: 1.23s\n",
      "644:\tlearn: 0.0450467\ttotal: 2.23s\tremaining: 1.23s\n",
      "645:\tlearn: 0.0450163\ttotal: 2.23s\tremaining: 1.22s\n",
      "646:\tlearn: 0.0449651\ttotal: 2.24s\tremaining: 1.22s\n",
      "647:\tlearn: 0.0449042\ttotal: 2.24s\tremaining: 1.22s\n",
      "648:\tlearn: 0.0448707\ttotal: 2.24s\tremaining: 1.21s\n",
      "649:\tlearn: 0.0447757\ttotal: 2.25s\tremaining: 1.21s\n",
      "650:\tlearn: 0.0447085\ttotal: 2.25s\tremaining: 1.21s\n",
      "651:\tlearn: 0.0446590\ttotal: 2.25s\tremaining: 1.2s\n",
      "652:\tlearn: 0.0446058\ttotal: 2.26s\tremaining: 1.2s\n",
      "653:\tlearn: 0.0445869\ttotal: 2.26s\tremaining: 1.2s\n",
      "654:\tlearn: 0.0445180\ttotal: 2.26s\tremaining: 1.19s\n",
      "655:\tlearn: 0.0444287\ttotal: 2.27s\tremaining: 1.19s\n",
      "656:\tlearn: 0.0443982\ttotal: 2.27s\tremaining: 1.19s\n",
      "657:\tlearn: 0.0443597\ttotal: 2.27s\tremaining: 1.18s\n",
      "658:\tlearn: 0.0442797\ttotal: 2.28s\tremaining: 1.18s\n",
      "659:\tlearn: 0.0442233\ttotal: 2.28s\tremaining: 1.17s\n",
      "660:\tlearn: 0.0441990\ttotal: 2.28s\tremaining: 1.17s\n",
      "661:\tlearn: 0.0441735\ttotal: 2.29s\tremaining: 1.17s\n",
      "662:\tlearn: 0.0441550\ttotal: 2.29s\tremaining: 1.16s\n",
      "663:\tlearn: 0.0441286\ttotal: 2.29s\tremaining: 1.16s\n",
      "664:\tlearn: 0.0440812\ttotal: 2.3s\tremaining: 1.16s\n",
      "665:\tlearn: 0.0440377\ttotal: 2.3s\tremaining: 1.15s\n",
      "666:\tlearn: 0.0439826\ttotal: 2.31s\tremaining: 1.15s\n",
      "667:\tlearn: 0.0439269\ttotal: 2.31s\tremaining: 1.15s\n",
      "668:\tlearn: 0.0439038\ttotal: 2.31s\tremaining: 1.14s\n",
      "669:\tlearn: 0.0438857\ttotal: 2.31s\tremaining: 1.14s\n",
      "670:\tlearn: 0.0438447\ttotal: 2.32s\tremaining: 1.14s\n",
      "671:\tlearn: 0.0438239\ttotal: 2.32s\tremaining: 1.13s\n",
      "672:\tlearn: 0.0437804\ttotal: 2.33s\tremaining: 1.13s\n",
      "673:\tlearn: 0.0437514\ttotal: 2.33s\tremaining: 1.13s\n",
      "674:\tlearn: 0.0437165\ttotal: 2.33s\tremaining: 1.12s\n",
      "675:\tlearn: 0.0436989\ttotal: 2.33s\tremaining: 1.12s\n",
      "676:\tlearn: 0.0436521\ttotal: 2.34s\tremaining: 1.11s\n",
      "677:\tlearn: 0.0436185\ttotal: 2.34s\tremaining: 1.11s\n",
      "678:\tlearn: 0.0436012\ttotal: 2.35s\tremaining: 1.11s\n",
      "679:\tlearn: 0.0434873\ttotal: 2.35s\tremaining: 1.1s\n",
      "680:\tlearn: 0.0433995\ttotal: 2.35s\tremaining: 1.1s\n",
      "681:\tlearn: 0.0432908\ttotal: 2.35s\tremaining: 1.1s\n",
      "682:\tlearn: 0.0432453\ttotal: 2.36s\tremaining: 1.09s\n",
      "683:\tlearn: 0.0432000\ttotal: 2.36s\tremaining: 1.09s\n",
      "684:\tlearn: 0.0431519\ttotal: 2.37s\tremaining: 1.09s\n",
      "685:\tlearn: 0.0431351\ttotal: 2.37s\tremaining: 1.08s\n",
      "686:\tlearn: 0.0431130\ttotal: 2.37s\tremaining: 1.08s\n",
      "687:\tlearn: 0.0430212\ttotal: 2.38s\tremaining: 1.08s\n",
      "688:\tlearn: 0.0429738\ttotal: 2.38s\tremaining: 1.07s\n",
      "689:\tlearn: 0.0429574\ttotal: 2.38s\tremaining: 1.07s\n",
      "690:\tlearn: 0.0429273\ttotal: 2.39s\tremaining: 1.07s\n",
      "691:\tlearn: 0.0429058\ttotal: 2.39s\tremaining: 1.06s\n",
      "692:\tlearn: 0.0428898\ttotal: 2.39s\tremaining: 1.06s\n",
      "693:\tlearn: 0.0428604\ttotal: 2.4s\tremaining: 1.06s\n",
      "694:\tlearn: 0.0428446\ttotal: 2.4s\tremaining: 1.05s\n",
      "695:\tlearn: 0.0428015\ttotal: 2.4s\tremaining: 1.05s\n",
      "696:\tlearn: 0.0427862\ttotal: 2.41s\tremaining: 1.05s\n",
      "697:\tlearn: 0.0426777\ttotal: 2.41s\tremaining: 1.04s\n",
      "698:\tlearn: 0.0426358\ttotal: 2.41s\tremaining: 1.04s\n",
      "699:\tlearn: 0.0426151\ttotal: 2.42s\tremaining: 1.03s\n",
      "700:\tlearn: 0.0425260\ttotal: 2.42s\tremaining: 1.03s\n",
      "701:\tlearn: 0.0424861\ttotal: 2.42s\tremaining: 1.03s\n",
      "702:\tlearn: 0.0424712\ttotal: 2.43s\tremaining: 1.02s\n",
      "703:\tlearn: 0.0424400\ttotal: 2.43s\tremaining: 1.02s\n",
      "704:\tlearn: 0.0424067\ttotal: 2.43s\tremaining: 1.02s\n",
      "705:\tlearn: 0.0423363\ttotal: 2.44s\tremaining: 1.01s\n",
      "706:\tlearn: 0.0423089\ttotal: 2.44s\tremaining: 1.01s\n",
      "707:\tlearn: 0.0422698\ttotal: 2.44s\tremaining: 1.01s\n",
      "708:\tlearn: 0.0422551\ttotal: 2.45s\tremaining: 1s\n",
      "709:\tlearn: 0.0422053\ttotal: 2.45s\tremaining: 1s\n",
      "710:\tlearn: 0.0421852\ttotal: 2.45s\tremaining: 998ms\n",
      "711:\tlearn: 0.0421078\ttotal: 2.46s\tremaining: 994ms\n",
      "712:\tlearn: 0.0420143\ttotal: 2.46s\tremaining: 991ms\n",
      "713:\tlearn: 0.0419307\ttotal: 2.46s\tremaining: 987ms\n",
      "714:\tlearn: 0.0419111\ttotal: 2.47s\tremaining: 984ms\n",
      "715:\tlearn: 0.0418739\ttotal: 2.47s\tremaining: 981ms\n",
      "716:\tlearn: 0.0418497\ttotal: 2.48s\tremaining: 977ms\n",
      "717:\tlearn: 0.0418175\ttotal: 2.48s\tremaining: 974ms\n",
      "718:\tlearn: 0.0417998\ttotal: 2.48s\tremaining: 970ms\n",
      "719:\tlearn: 0.0417856\ttotal: 2.49s\tremaining: 967ms\n",
      "720:\tlearn: 0.0417382\ttotal: 2.49s\tremaining: 964ms\n",
      "721:\tlearn: 0.0417189\ttotal: 2.49s\tremaining: 960ms\n",
      "722:\tlearn: 0.0416633\ttotal: 2.5s\tremaining: 957ms\n",
      "723:\tlearn: 0.0416081\ttotal: 2.5s\tremaining: 954ms\n",
      "724:\tlearn: 0.0415614\ttotal: 2.5s\tremaining: 950ms\n",
      "725:\tlearn: 0.0415299\ttotal: 2.51s\tremaining: 947ms\n",
      "726:\tlearn: 0.0414872\ttotal: 2.51s\tremaining: 943ms\n",
      "727:\tlearn: 0.0414514\ttotal: 2.52s\tremaining: 940ms\n",
      "728:\tlearn: 0.0414344\ttotal: 2.52s\tremaining: 936ms\n",
      "729:\tlearn: 0.0414159\ttotal: 2.52s\tremaining: 933ms\n",
      "730:\tlearn: 0.0413529\ttotal: 2.52s\tremaining: 930ms\n",
      "731:\tlearn: 0.0413099\ttotal: 2.53s\tremaining: 926ms\n",
      "732:\tlearn: 0.0412111\ttotal: 2.53s\tremaining: 922ms\n",
      "733:\tlearn: 0.0411373\ttotal: 2.53s\tremaining: 919ms\n",
      "734:\tlearn: 0.0410681\ttotal: 2.54s\tremaining: 915ms\n",
      "735:\tlearn: 0.0410009\ttotal: 2.54s\tremaining: 911ms\n",
      "736:\tlearn: 0.0409759\ttotal: 2.54s\tremaining: 907ms\n",
      "737:\tlearn: 0.0409342\ttotal: 2.54s\tremaining: 904ms\n",
      "738:\tlearn: 0.0408369\ttotal: 2.55s\tremaining: 900ms\n",
      "739:\tlearn: 0.0408141\ttotal: 2.55s\tremaining: 897ms\n",
      "740:\tlearn: 0.0407843\ttotal: 2.55s\tremaining: 893ms\n",
      "741:\tlearn: 0.0407597\ttotal: 2.56s\tremaining: 889ms\n",
      "742:\tlearn: 0.0407181\ttotal: 2.56s\tremaining: 886ms\n",
      "743:\tlearn: 0.0407047\ttotal: 2.56s\tremaining: 882ms\n",
      "744:\tlearn: 0.0406598\ttotal: 2.56s\tremaining: 878ms\n",
      "745:\tlearn: 0.0405981\ttotal: 2.57s\tremaining: 875ms\n",
      "746:\tlearn: 0.0405791\ttotal: 2.57s\tremaining: 871ms\n",
      "747:\tlearn: 0.0405604\ttotal: 2.57s\tremaining: 867ms\n",
      "748:\tlearn: 0.0405206\ttotal: 2.58s\tremaining: 864ms\n",
      "749:\tlearn: 0.0404867\ttotal: 2.58s\tremaining: 860ms\n",
      "750:\tlearn: 0.0404529\ttotal: 2.58s\tremaining: 856ms\n",
      "751:\tlearn: 0.0404195\ttotal: 2.59s\tremaining: 853ms\n",
      "752:\tlearn: 0.0404064\ttotal: 2.59s\tremaining: 849ms\n",
      "753:\tlearn: 0.0403220\ttotal: 2.59s\tremaining: 846ms\n",
      "754:\tlearn: 0.0402481\ttotal: 2.59s\tremaining: 842ms\n",
      "755:\tlearn: 0.0402156\ttotal: 2.6s\tremaining: 839ms\n",
      "756:\tlearn: 0.0401676\ttotal: 2.6s\tremaining: 835ms\n",
      "757:\tlearn: 0.0401464\ttotal: 2.6s\tremaining: 832ms\n",
      "758:\tlearn: 0.0401336\ttotal: 2.61s\tremaining: 828ms\n",
      "759:\tlearn: 0.0400811\ttotal: 2.61s\tremaining: 825ms\n",
      "760:\tlearn: 0.0400496\ttotal: 2.61s\tremaining: 821ms\n",
      "761:\tlearn: 0.0399973\ttotal: 2.62s\tremaining: 818ms\n",
      "762:\tlearn: 0.0399873\ttotal: 2.62s\tremaining: 814ms\n",
      "763:\tlearn: 0.0399219\ttotal: 2.63s\tremaining: 811ms\n",
      "764:\tlearn: 0.0399043\ttotal: 2.63s\tremaining: 807ms\n",
      "765:\tlearn: 0.0398645\ttotal: 2.63s\tremaining: 804ms\n",
      "766:\tlearn: 0.0398091\ttotal: 2.63s\tremaining: 800ms\n",
      "767:\tlearn: 0.0397896\ttotal: 2.64s\tremaining: 797ms\n",
      "768:\tlearn: 0.0397634\ttotal: 2.64s\tremaining: 793ms\n",
      "769:\tlearn: 0.0397275\ttotal: 2.64s\tremaining: 790ms\n",
      "770:\tlearn: 0.0396801\ttotal: 2.65s\tremaining: 786ms\n",
      "771:\tlearn: 0.0396268\ttotal: 2.65s\tremaining: 783ms\n",
      "772:\tlearn: 0.0395965\ttotal: 2.65s\tremaining: 779ms\n",
      "773:\tlearn: 0.0395776\ttotal: 2.65s\tremaining: 775ms\n",
      "774:\tlearn: 0.0395380\ttotal: 2.66s\tremaining: 772ms\n",
      "775:\tlearn: 0.0395197\ttotal: 2.66s\tremaining: 768ms\n",
      "776:\tlearn: 0.0394685\ttotal: 2.66s\tremaining: 765ms\n",
      "777:\tlearn: 0.0394356\ttotal: 2.67s\tremaining: 761ms\n",
      "778:\tlearn: 0.0394047\ttotal: 2.67s\tremaining: 758ms\n",
      "779:\tlearn: 0.0393795\ttotal: 2.67s\tremaining: 754ms\n",
      "780:\tlearn: 0.0393678\ttotal: 2.68s\tremaining: 751ms\n",
      "781:\tlearn: 0.0393564\ttotal: 2.68s\tremaining: 748ms\n",
      "782:\tlearn: 0.0393127\ttotal: 2.69s\tremaining: 744ms\n",
      "783:\tlearn: 0.0393016\ttotal: 2.69s\tremaining: 741ms\n",
      "784:\tlearn: 0.0392441\ttotal: 2.69s\tremaining: 738ms\n",
      "785:\tlearn: 0.0392332\ttotal: 2.7s\tremaining: 734ms\n",
      "786:\tlearn: 0.0392225\ttotal: 2.7s\tremaining: 731ms\n",
      "787:\tlearn: 0.0391932\ttotal: 2.7s\tremaining: 727ms\n",
      "788:\tlearn: 0.0391827\ttotal: 2.71s\tremaining: 724ms\n",
      "789:\tlearn: 0.0391490\ttotal: 2.71s\tremaining: 720ms\n",
      "790:\tlearn: 0.0391366\ttotal: 2.71s\tremaining: 717ms\n",
      "791:\tlearn: 0.0391264\ttotal: 2.72s\tremaining: 714ms\n",
      "792:\tlearn: 0.0390955\ttotal: 2.72s\tremaining: 710ms\n",
      "793:\tlearn: 0.0390734\ttotal: 2.72s\tremaining: 707ms\n",
      "794:\tlearn: 0.0390634\ttotal: 2.73s\tremaining: 703ms\n",
      "795:\tlearn: 0.0390162\ttotal: 2.73s\tremaining: 699ms\n",
      "796:\tlearn: 0.0389671\ttotal: 2.73s\tremaining: 696ms\n",
      "797:\tlearn: 0.0389189\ttotal: 2.73s\tremaining: 692ms\n",
      "798:\tlearn: 0.0388792\ttotal: 2.74s\tremaining: 689ms\n",
      "799:\tlearn: 0.0388387\ttotal: 2.74s\tremaining: 685ms\n",
      "800:\tlearn: 0.0388001\ttotal: 2.74s\tremaining: 682ms\n",
      "801:\tlearn: 0.0387741\ttotal: 2.75s\tremaining: 678ms\n",
      "802:\tlearn: 0.0387643\ttotal: 2.75s\tremaining: 675ms\n",
      "803:\tlearn: 0.0387552\ttotal: 2.75s\tremaining: 671ms\n",
      "804:\tlearn: 0.0387279\ttotal: 2.76s\tremaining: 668ms\n",
      "805:\tlearn: 0.0387142\ttotal: 2.76s\tremaining: 664ms\n",
      "806:\tlearn: 0.0387047\ttotal: 2.76s\tremaining: 661ms\n",
      "807:\tlearn: 0.0386954\ttotal: 2.77s\tremaining: 657ms\n",
      "808:\tlearn: 0.0386556\ttotal: 2.77s\tremaining: 654ms\n",
      "809:\tlearn: 0.0386273\ttotal: 2.77s\tremaining: 651ms\n",
      "810:\tlearn: 0.0385977\ttotal: 2.78s\tremaining: 647ms\n",
      "811:\tlearn: 0.0385583\ttotal: 2.78s\tremaining: 644ms\n",
      "812:\tlearn: 0.0384700\ttotal: 2.78s\tremaining: 640ms\n",
      "813:\tlearn: 0.0384108\ttotal: 2.79s\tremaining: 637ms\n",
      "814:\tlearn: 0.0384016\ttotal: 2.79s\tremaining: 634ms\n",
      "815:\tlearn: 0.0383378\ttotal: 2.79s\tremaining: 630ms\n",
      "816:\tlearn: 0.0383200\ttotal: 2.8s\tremaining: 627ms\n",
      "817:\tlearn: 0.0382725\ttotal: 2.8s\tremaining: 623ms\n",
      "818:\tlearn: 0.0381956\ttotal: 2.8s\tremaining: 620ms\n",
      "819:\tlearn: 0.0381349\ttotal: 2.81s\tremaining: 616ms\n",
      "820:\tlearn: 0.0381096\ttotal: 2.81s\tremaining: 613ms\n",
      "821:\tlearn: 0.0380538\ttotal: 2.81s\tremaining: 610ms\n",
      "822:\tlearn: 0.0380412\ttotal: 2.82s\tremaining: 606ms\n",
      "823:\tlearn: 0.0380205\ttotal: 2.82s\tremaining: 603ms\n",
      "824:\tlearn: 0.0379918\ttotal: 2.83s\tremaining: 599ms\n",
      "825:\tlearn: 0.0379830\ttotal: 2.83s\tremaining: 596ms\n",
      "826:\tlearn: 0.0379288\ttotal: 2.83s\tremaining: 593ms\n",
      "827:\tlearn: 0.0378710\ttotal: 2.83s\tremaining: 589ms\n",
      "828:\tlearn: 0.0378623\ttotal: 2.84s\tremaining: 586ms\n",
      "829:\tlearn: 0.0378539\ttotal: 2.84s\tremaining: 582ms\n",
      "830:\tlearn: 0.0378224\ttotal: 2.85s\tremaining: 579ms\n",
      "831:\tlearn: 0.0377409\ttotal: 2.85s\tremaining: 575ms\n",
      "832:\tlearn: 0.0376838\ttotal: 2.85s\tremaining: 572ms\n",
      "833:\tlearn: 0.0376642\ttotal: 2.86s\tremaining: 568ms\n",
      "834:\tlearn: 0.0376119\ttotal: 2.86s\tremaining: 565ms\n",
      "835:\tlearn: 0.0375568\ttotal: 2.86s\tremaining: 562ms\n",
      "836:\tlearn: 0.0375400\ttotal: 2.87s\tremaining: 558ms\n",
      "837:\tlearn: 0.0375207\ttotal: 2.87s\tremaining: 555ms\n",
      "838:\tlearn: 0.0374843\ttotal: 2.87s\tremaining: 551ms\n",
      "839:\tlearn: 0.0374683\ttotal: 2.88s\tremaining: 548ms\n",
      "840:\tlearn: 0.0374218\ttotal: 2.88s\tremaining: 544ms\n",
      "841:\tlearn: 0.0374062\ttotal: 2.88s\tremaining: 541ms\n",
      "842:\tlearn: 0.0373558\ttotal: 2.89s\tremaining: 538ms\n",
      "843:\tlearn: 0.0373410\ttotal: 2.89s\tremaining: 534ms\n",
      "844:\tlearn: 0.0373220\ttotal: 2.89s\tremaining: 531ms\n",
      "845:\tlearn: 0.0372840\ttotal: 2.9s\tremaining: 527ms\n",
      "846:\tlearn: 0.0372642\ttotal: 2.9s\tremaining: 524ms\n",
      "847:\tlearn: 0.0372498\ttotal: 2.9s\tremaining: 520ms\n",
      "848:\tlearn: 0.0372355\ttotal: 2.91s\tremaining: 517ms\n",
      "849:\tlearn: 0.0371837\ttotal: 2.91s\tremaining: 514ms\n",
      "850:\tlearn: 0.0371137\ttotal: 2.91s\tremaining: 510ms\n",
      "851:\tlearn: 0.0370954\ttotal: 2.92s\tremaining: 507ms\n",
      "852:\tlearn: 0.0370397\ttotal: 2.92s\tremaining: 503ms\n",
      "853:\tlearn: 0.0369897\ttotal: 2.92s\tremaining: 500ms\n",
      "854:\tlearn: 0.0369757\ttotal: 2.93s\tremaining: 496ms\n",
      "855:\tlearn: 0.0369598\ttotal: 2.93s\tremaining: 493ms\n",
      "856:\tlearn: 0.0369099\ttotal: 2.93s\tremaining: 490ms\n",
      "857:\tlearn: 0.0368730\ttotal: 2.94s\tremaining: 486ms\n",
      "858:\tlearn: 0.0368541\ttotal: 2.94s\tremaining: 483ms\n",
      "859:\tlearn: 0.0368406\ttotal: 2.94s\tremaining: 479ms\n",
      "860:\tlearn: 0.0367959\ttotal: 2.95s\tremaining: 476ms\n",
      "861:\tlearn: 0.0367845\ttotal: 2.95s\tremaining: 473ms\n",
      "862:\tlearn: 0.0367290\ttotal: 2.96s\tremaining: 469ms\n",
      "863:\tlearn: 0.0366931\ttotal: 2.96s\tremaining: 466ms\n",
      "864:\tlearn: 0.0366492\ttotal: 2.96s\tremaining: 462ms\n",
      "865:\tlearn: 0.0365971\ttotal: 2.96s\tremaining: 459ms\n",
      "866:\tlearn: 0.0365518\ttotal: 2.97s\tremaining: 455ms\n",
      "867:\tlearn: 0.0365340\ttotal: 2.97s\tremaining: 452ms\n",
      "868:\tlearn: 0.0365060\ttotal: 2.98s\tremaining: 449ms\n",
      "869:\tlearn: 0.0364314\ttotal: 2.98s\tremaining: 445ms\n",
      "870:\tlearn: 0.0363807\ttotal: 2.98s\tremaining: 442ms\n",
      "871:\tlearn: 0.0363635\ttotal: 2.99s\tremaining: 438ms\n",
      "872:\tlearn: 0.0363554\ttotal: 2.99s\tremaining: 435ms\n",
      "873:\tlearn: 0.0363044\ttotal: 2.99s\tremaining: 432ms\n",
      "874:\tlearn: 0.0362870\ttotal: 3s\tremaining: 428ms\n",
      "875:\tlearn: 0.0362390\ttotal: 3s\tremaining: 425ms\n",
      "876:\tlearn: 0.0361797\ttotal: 3s\tremaining: 421ms\n",
      "877:\tlearn: 0.0361589\ttotal: 3.01s\tremaining: 418ms\n",
      "878:\tlearn: 0.0361260\ttotal: 3.01s\tremaining: 414ms\n",
      "879:\tlearn: 0.0361094\ttotal: 3.01s\tremaining: 411ms\n",
      "880:\tlearn: 0.0360676\ttotal: 3.02s\tremaining: 407ms\n",
      "881:\tlearn: 0.0360264\ttotal: 3.02s\tremaining: 404ms\n",
      "882:\tlearn: 0.0360137\ttotal: 3.02s\tremaining: 401ms\n",
      "883:\tlearn: 0.0360005\ttotal: 3.03s\tremaining: 397ms\n",
      "884:\tlearn: 0.0359878\ttotal: 3.03s\tremaining: 394ms\n",
      "885:\tlearn: 0.0359677\ttotal: 3.03s\tremaining: 390ms\n",
      "886:\tlearn: 0.0359436\ttotal: 3.04s\tremaining: 387ms\n",
      "887:\tlearn: 0.0358973\ttotal: 3.04s\tremaining: 383ms\n",
      "888:\tlearn: 0.0358780\ttotal: 3.04s\tremaining: 380ms\n",
      "889:\tlearn: 0.0358400\ttotal: 3.04s\tremaining: 376ms\n",
      "890:\tlearn: 0.0358034\ttotal: 3.05s\tremaining: 373ms\n",
      "891:\tlearn: 0.0357608\ttotal: 3.05s\tremaining: 370ms\n",
      "892:\tlearn: 0.0357289\ttotal: 3.06s\tremaining: 366ms\n",
      "893:\tlearn: 0.0356860\ttotal: 3.06s\tremaining: 363ms\n",
      "894:\tlearn: 0.0356414\ttotal: 3.06s\tremaining: 359ms\n",
      "895:\tlearn: 0.0356006\ttotal: 3.07s\tremaining: 356ms\n",
      "896:\tlearn: 0.0355700\ttotal: 3.07s\tremaining: 353ms\n",
      "897:\tlearn: 0.0355344\ttotal: 3.07s\tremaining: 349ms\n",
      "898:\tlearn: 0.0355151\ttotal: 3.08s\tremaining: 346ms\n",
      "899:\tlearn: 0.0354630\ttotal: 3.08s\tremaining: 342ms\n",
      "900:\tlearn: 0.0354473\ttotal: 3.08s\tremaining: 339ms\n",
      "901:\tlearn: 0.0354318\ttotal: 3.09s\tremaining: 336ms\n",
      "902:\tlearn: 0.0353925\ttotal: 3.09s\tremaining: 332ms\n",
      "903:\tlearn: 0.0353629\ttotal: 3.09s\tremaining: 329ms\n",
      "904:\tlearn: 0.0353186\ttotal: 3.1s\tremaining: 325ms\n",
      "905:\tlearn: 0.0352770\ttotal: 3.1s\tremaining: 322ms\n",
      "906:\tlearn: 0.0352393\ttotal: 3.1s\tremaining: 318ms\n",
      "907:\tlearn: 0.0352279\ttotal: 3.11s\tremaining: 315ms\n",
      "908:\tlearn: 0.0351875\ttotal: 3.11s\tremaining: 311ms\n",
      "909:\tlearn: 0.0351761\ttotal: 3.11s\tremaining: 308ms\n",
      "910:\tlearn: 0.0351579\ttotal: 3.12s\tremaining: 305ms\n",
      "911:\tlearn: 0.0351473\ttotal: 3.12s\tremaining: 301ms\n",
      "912:\tlearn: 0.0351325\ttotal: 3.12s\tremaining: 298ms\n",
      "913:\tlearn: 0.0350919\ttotal: 3.13s\tremaining: 294ms\n",
      "914:\tlearn: 0.0350598\ttotal: 3.13s\tremaining: 291ms\n",
      "915:\tlearn: 0.0350450\ttotal: 3.13s\tremaining: 287ms\n",
      "916:\tlearn: 0.0349961\ttotal: 3.14s\tremaining: 284ms\n",
      "917:\tlearn: 0.0349625\ttotal: 3.14s\tremaining: 281ms\n",
      "918:\tlearn: 0.0349490\ttotal: 3.15s\tremaining: 277ms\n",
      "919:\tlearn: 0.0349346\ttotal: 3.15s\tremaining: 274ms\n",
      "920:\tlearn: 0.0348935\ttotal: 3.15s\tremaining: 270ms\n",
      "921:\tlearn: 0.0348785\ttotal: 3.15s\tremaining: 267ms\n",
      "922:\tlearn: 0.0348292\ttotal: 3.16s\tremaining: 263ms\n",
      "923:\tlearn: 0.0347817\ttotal: 3.16s\tremaining: 260ms\n",
      "924:\tlearn: 0.0347672\ttotal: 3.17s\tremaining: 257ms\n",
      "925:\tlearn: 0.0347590\ttotal: 3.17s\tremaining: 253ms\n",
      "926:\tlearn: 0.0347128\ttotal: 3.17s\tremaining: 250ms\n",
      "927:\tlearn: 0.0346989\ttotal: 3.17s\tremaining: 246ms\n",
      "928:\tlearn: 0.0346606\ttotal: 3.18s\tremaining: 243ms\n",
      "929:\tlearn: 0.0346451\ttotal: 3.18s\tremaining: 239ms\n",
      "930:\tlearn: 0.0345992\ttotal: 3.19s\tremaining: 236ms\n",
      "931:\tlearn: 0.0345606\ttotal: 3.19s\tremaining: 233ms\n",
      "932:\tlearn: 0.0345465\ttotal: 3.19s\tremaining: 229ms\n",
      "933:\tlearn: 0.0345319\ttotal: 3.19s\tremaining: 226ms\n",
      "934:\tlearn: 0.0344943\ttotal: 3.2s\tremaining: 222ms\n",
      "935:\tlearn: 0.0344801\ttotal: 3.2s\tremaining: 219ms\n",
      "936:\tlearn: 0.0344651\ttotal: 3.21s\tremaining: 216ms\n",
      "937:\tlearn: 0.0344253\ttotal: 3.21s\tremaining: 212ms\n",
      "938:\tlearn: 0.0343884\ttotal: 3.21s\tremaining: 209ms\n",
      "939:\tlearn: 0.0343779\ttotal: 3.22s\tremaining: 205ms\n",
      "940:\tlearn: 0.0343699\ttotal: 3.22s\tremaining: 202ms\n",
      "941:\tlearn: 0.0343597\ttotal: 3.22s\tremaining: 198ms\n",
      "942:\tlearn: 0.0343461\ttotal: 3.23s\tremaining: 195ms\n",
      "943:\tlearn: 0.0343316\ttotal: 3.23s\tremaining: 192ms\n",
      "944:\tlearn: 0.0343194\ttotal: 3.23s\tremaining: 188ms\n",
      "945:\tlearn: 0.0342836\ttotal: 3.23s\tremaining: 185ms\n",
      "946:\tlearn: 0.0342534\ttotal: 3.24s\tremaining: 181ms\n",
      "947:\tlearn: 0.0342436\ttotal: 3.24s\tremaining: 178ms\n",
      "948:\tlearn: 0.0342299\ttotal: 3.25s\tremaining: 174ms\n",
      "949:\tlearn: 0.0342160\ttotal: 3.25s\tremaining: 171ms\n",
      "950:\tlearn: 0.0342021\ttotal: 3.25s\tremaining: 168ms\n",
      "951:\tlearn: 0.0341600\ttotal: 3.26s\tremaining: 164ms\n",
      "952:\tlearn: 0.0341239\ttotal: 3.26s\tremaining: 161ms\n",
      "953:\tlearn: 0.0341096\ttotal: 3.26s\tremaining: 157ms\n",
      "954:\tlearn: 0.0340647\ttotal: 3.27s\tremaining: 154ms\n",
      "955:\tlearn: 0.0340479\ttotal: 3.27s\tremaining: 151ms\n",
      "956:\tlearn: 0.0340344\ttotal: 3.27s\tremaining: 147ms\n",
      "957:\tlearn: 0.0340266\ttotal: 3.28s\tremaining: 144ms\n",
      "958:\tlearn: 0.0339924\ttotal: 3.28s\tremaining: 140ms\n",
      "959:\tlearn: 0.0339698\ttotal: 3.28s\tremaining: 137ms\n",
      "960:\tlearn: 0.0339358\ttotal: 3.29s\tremaining: 133ms\n",
      "961:\tlearn: 0.0339127\ttotal: 3.29s\tremaining: 130ms\n",
      "962:\tlearn: 0.0338581\ttotal: 3.29s\tremaining: 127ms\n",
      "963:\tlearn: 0.0338459\ttotal: 3.3s\tremaining: 123ms\n",
      "964:\tlearn: 0.0338002\ttotal: 3.3s\tremaining: 120ms\n",
      "965:\tlearn: 0.0337925\ttotal: 3.3s\tremaining: 116ms\n",
      "966:\tlearn: 0.0337829\ttotal: 3.31s\tremaining: 113ms\n",
      "967:\tlearn: 0.0337704\ttotal: 3.31s\tremaining: 109ms\n",
      "968:\tlearn: 0.0337577\ttotal: 3.31s\tremaining: 106ms\n",
      "969:\tlearn: 0.0337501\ttotal: 3.32s\tremaining: 103ms\n",
      "970:\tlearn: 0.0337436\ttotal: 3.32s\tremaining: 99.2ms\n",
      "971:\tlearn: 0.0337371\ttotal: 3.33s\tremaining: 95.8ms\n",
      "972:\tlearn: 0.0336969\ttotal: 3.33s\tremaining: 92.4ms\n",
      "973:\tlearn: 0.0336906\ttotal: 3.33s\tremaining: 89ms\n",
      "974:\tlearn: 0.0336741\ttotal: 3.33s\tremaining: 85.5ms\n",
      "975:\tlearn: 0.0336301\ttotal: 3.34s\tremaining: 82.1ms\n",
      "976:\tlearn: 0.0336010\ttotal: 3.34s\tremaining: 78.7ms\n",
      "977:\tlearn: 0.0335937\ttotal: 3.35s\tremaining: 75.3ms\n",
      "978:\tlearn: 0.0335865\ttotal: 3.35s\tremaining: 71.9ms\n",
      "979:\tlearn: 0.0335707\ttotal: 3.35s\tremaining: 68.4ms\n",
      "980:\tlearn: 0.0335636\ttotal: 3.36s\tremaining: 65ms\n",
      "981:\tlearn: 0.0335295\ttotal: 3.36s\tremaining: 61.6ms\n",
      "982:\tlearn: 0.0335167\ttotal: 3.36s\tremaining: 58.2ms\n",
      "983:\tlearn: 0.0334790\ttotal: 3.37s\tremaining: 54.8ms\n",
      "984:\tlearn: 0.0334338\ttotal: 3.37s\tremaining: 51.3ms\n",
      "985:\tlearn: 0.0334181\ttotal: 3.38s\tremaining: 47.9ms\n",
      "986:\tlearn: 0.0333757\ttotal: 3.38s\tremaining: 44.5ms\n",
      "987:\tlearn: 0.0333476\ttotal: 3.38s\tremaining: 41.1ms\n",
      "988:\tlearn: 0.0333407\ttotal: 3.39s\tremaining: 37.7ms\n",
      "989:\tlearn: 0.0333289\ttotal: 3.39s\tremaining: 34.2ms\n",
      "990:\tlearn: 0.0332876\ttotal: 3.39s\tremaining: 30.8ms\n",
      "991:\tlearn: 0.0332809\ttotal: 3.4s\tremaining: 27.4ms\n",
      "992:\tlearn: 0.0332410\ttotal: 3.4s\tremaining: 24ms\n",
      "993:\tlearn: 0.0332344\ttotal: 3.4s\tremaining: 20.5ms\n",
      "994:\tlearn: 0.0332279\ttotal: 3.41s\tremaining: 17.1ms\n",
      "995:\tlearn: 0.0332130\ttotal: 3.41s\tremaining: 13.7ms\n",
      "996:\tlearn: 0.0331858\ttotal: 3.41s\tremaining: 10.3ms\n",
      "997:\tlearn: 0.0331540\ttotal: 3.42s\tremaining: 6.84ms\n",
      "998:\tlearn: 0.0331157\ttotal: 3.42s\tremaining: 3.42ms\n",
      "999:\tlearn: 0.0331093\ttotal: 3.42s\tremaining: 0us\n"
     ]
    },
    {
     "data": {
      "text/plain": [
       "<catboost.core.CatBoostClassifier at 0x7f793c1c5610>"
      ]
     },
     "execution_count": 41,
     "metadata": {},
     "output_type": "execute_result"
    }
   ],
   "source": [
    "from catboost import CatBoostClassifier\n",
    "classifier = CatBoostClassifier()\n",
    "classifier.fit(X_train, y_train)"
   ]
  },
  {
   "cell_type": "code",
   "execution_count": 42,
   "id": "2b75b4ba",
   "metadata": {
    "execution": {
     "iopub.execute_input": "2022-02-13T18:35:08.455877Z",
     "iopub.status.busy": "2022-02-13T18:35:08.455157Z",
     "iopub.status.idle": "2022-02-13T18:35:08.469226Z",
     "shell.execute_reply": "2022-02-13T18:35:08.468516Z",
     "shell.execute_reply.started": "2022-02-13T18:33:48.414033Z"
    },
    "papermill": {
     "duration": 0.125813,
     "end_time": "2022-02-13T18:35:08.469372",
     "exception": false,
     "start_time": "2022-02-13T18:35:08.343559",
     "status": "completed"
    },
    "tags": []
   },
   "outputs": [
    {
     "name": "stdout",
     "output_type": "stream",
     "text": [
      "[[1974   13]\n",
      " [  50    9]]\n"
     ]
    }
   ],
   "source": [
    "\n",
    "y_pred = classifier.predict(X_test)\n",
    "cm = confusion_matrix(y_test, y_pred)\n",
    "print(cm)\n",
    "acc8 = accuracy_score(y_test, y_pred)"
   ]
  },
  {
   "cell_type": "code",
   "execution_count": 43,
   "id": "d93df44f",
   "metadata": {
    "execution": {
     "iopub.execute_input": "2022-02-13T18:35:08.720761Z",
     "iopub.status.busy": "2022-02-13T18:35:08.704841Z",
     "iopub.status.idle": "2022-02-13T18:35:08.907519Z",
     "shell.execute_reply": "2022-02-13T18:35:08.906909Z",
     "shell.execute_reply.started": "2022-02-13T18:33:48.430017Z"
    },
    "papermill": {
     "duration": 0.33436,
     "end_time": "2022-02-13T18:35:08.907665",
     "exception": false,
     "start_time": "2022-02-13T18:35:08.573305",
     "status": "completed"
    },
    "tags": []
   },
   "outputs": [
    {
     "data": {
      "image/png": "[encoded data removed]",
      "text/plain": [
       "<Figure size 432x288 with 2 Axes>"
      ]
     },
     "metadata": {
      "needs_background": "light"
     },
     "output_type": "display_data"
    }
   ],
   "source": [
    "sns.heatmap(cm,annot=True)\n",
    "plt.show()"
   ]
  },
  {
   "cell_type": "code",
   "execution_count": 44,
   "id": "deb61044",
   "metadata": {
    "execution": {
     "iopub.execute_input": "2022-02-13T18:35:09.122636Z",
     "iopub.status.busy": "2022-02-13T18:35:09.121869Z",
     "iopub.status.idle": "2022-02-13T18:35:09.125376Z",
     "shell.execute_reply": "2022-02-13T18:35:09.126135Z",
     "shell.execute_reply.started": "2022-02-13T18:33:48.702467Z"
    },
    "papermill": {
     "duration": 0.114035,
     "end_time": "2022-02-13T18:35:09.126367",
     "exception": false,
     "start_time": "2022-02-13T18:35:09.012332",
     "status": "completed"
    },
    "tags": []
   },
   "outputs": [
    {
     "name": "stdout",
     "output_type": "stream",
     "text": [
      "0.969208211143695\n"
     ]
    }
   ],
   "source": [
    "print(acc8)"
   ]
  },
  {
   "cell_type": "markdown",
   "id": "0b775353",
   "metadata": {
    "papermill": {
     "duration": 0.101876,
     "end_time": "2022-02-13T18:35:09.332516",
     "exception": false,
     "start_time": "2022-02-13T18:35:09.230640",
     "status": "completed"
    },
    "tags": []
   },
   "source": [
    "# Create visualization of all models."
   ]
  },
  {
   "cell_type": "code",
   "execution_count": 45,
   "id": "c81c4160",
   "metadata": {
    "execution": {
     "iopub.execute_input": "2022-02-13T18:35:09.548158Z",
     "iopub.status.busy": "2022-02-13T18:35:09.547123Z",
     "iopub.status.idle": "2022-02-13T18:35:09.902430Z",
     "shell.execute_reply": "2022-02-13T18:35:09.902978Z",
     "shell.execute_reply.started": "2022-02-13T18:33:48.709135Z"
    },
    "papermill": {
     "duration": 0.467848,
     "end_time": "2022-02-13T18:35:09.903152",
     "exception": false,
     "start_time": "2022-02-13T18:35:09.435304",
     "status": "completed"
    },
    "tags": []
   },
   "outputs": [
    {
     "data": {
      "image/png": "[encoded data removed]",
      "text/plain": [
       "<Figure size 1584x720 with 1 Axes>"
      ]
     },
     "metadata": {},
     "output_type": "display_data"
    }
   ],
   "source": [
    "mylist=[]\n",
    "mylist2=[]\n",
    "mylist.append(acc1)\n",
    "mylist2.append(\"Logistic Regression\")\n",
    "mylist.append(acc2)\n",
    "mylist2.append(\"SVM\")\n",
    "mylist.append(acc3)\n",
    "mylist2.append(\"KNN\")\n",
    "mylist.append(acc4)\n",
    "mylist2.append(\"Naive Bayes\")\n",
    "mylist.append(acc5)\n",
    "mylist2.append(\"DTR\")\n",
    "mylist.append(acc6)\n",
    "mylist2.append(\"RFC\")\n",
    "mylist.append(acc7)\n",
    "mylist2.append(\"XG Boost\")\n",
    "mylist.append(acc8)\n",
    "mylist2.append(\"Cat Boost\")\n",
    "plt.rcParams['figure.figsize']=22,10\n",
    "sns.set_style(\"darkgrid\")\n",
    "ax = sns.barplot(x=mylist2, y=mylist, palette = \"coolwarm\", saturation =1.5)\n",
    "plt.xlabel(\"Classification Models\", fontsize = 20 )\n",
    "plt.ylabel(\"Accuracy\", fontsize = 20)\n",
    "plt.title(\"Accuracy of different Classification Models\", fontsize = 20)\n",
    "plt.xticks(fontsize = 11, horizontalalignment = 'center', rotation = 8)\n",
    "plt.yticks(fontsize = 13)\n",
    "for p in ax.patches:\n",
    "    width, height = p.get_width(), p.get_height()\n",
    "    x, y = p.get_xy() \n",
    "    ax.annotate(f'{height:.2%}', (x + width/2, y + height*1.02), ha='center', fontsize = 'x-large')\n",
    "plt.show()"
   ]
  },
  {
   "cell_type": "code",
   "execution_count": 46,
   "id": "afeceab7",
   "metadata": {
    "execution": {
     "iopub.execute_input": "2022-02-13T18:35:10.114558Z",
     "iopub.status.busy": "2022-02-13T18:35:10.113142Z",
     "iopub.status.idle": "2022-02-13T18:35:10.118223Z",
     "shell.execute_reply": "2022-02-13T18:35:10.118716Z",
     "shell.execute_reply.started": "2022-02-13T18:33:49.047220Z"
    },
    "papermill": {
     "duration": 0.112714,
     "end_time": "2022-02-13T18:35:10.118892",
     "exception": false,
     "start_time": "2022-02-13T18:35:10.006178",
     "status": "completed"
    },
    "tags": []
   },
   "outputs": [],
   "source": [
    "df = data.copy()"
   ]
  },
  {
   "cell_type": "code",
   "execution_count": 47,
   "id": "b3856f14",
   "metadata": {
    "execution": {
     "iopub.execute_input": "2022-02-13T18:35:10.331218Z",
     "iopub.status.busy": "2022-02-13T18:35:10.330193Z",
     "iopub.status.idle": "2022-02-13T18:35:10.355735Z",
     "shell.execute_reply": "2022-02-13T18:35:10.356230Z",
     "shell.execute_reply.started": "2022-02-13T18:33:49.054624Z"
    },
    "papermill": {
     "duration": 0.133039,
     "end_time": "2022-02-13T18:35:10.356402",
     "exception": false,
     "start_time": "2022-02-13T18:35:10.223363",
     "status": "completed"
    },
    "tags": []
   },
   "outputs": [
    {
     "data": {
      "text/html": [
       "<div>\n",
       "<style scoped>\n",
       "    .dataframe tbody tr th:only-of-type {\n",
       "        vertical-align: middle;\n",
       "    }\n",
       "\n",
       "    .dataframe tbody tr th {\n",
       "        vertical-align: top;\n",
       "    }\n",
       "\n",
       "    .dataframe thead th {\n",
       "        text-align: right;\n",
       "    }\n",
       "</style>\n",
       "<table border=\"1\" class=\"dataframe\">\n",
       "  <thead>\n",
       "    <tr style=\"text-align: right;\">\n",
       "      <th></th>\n",
       "      <th>Bankrupt?</th>\n",
       "      <th>ROA(C) before interest and depreciation before interest</th>\n",
       "      <th>ROA(A) before interest and % after tax</th>\n",
       "      <th>ROA(B) before interest and depreciation after tax</th>\n",
       "      <th>Operating Gross Margin</th>\n",
       "      <th>Realized Sales Gross Margin</th>\n",
       "      <th>Operating Profit Rate</th>\n",
       "      <th>Pre-tax net Interest Rate</th>\n",
       "      <th>After-tax net Interest Rate</th>\n",
       "      <th>Non-industry income and expenditure/revenue</th>\n",
       "      <th>...</th>\n",
       "      <th>Net Income to Total Assets</th>\n",
       "      <th>Total assets to GNP price</th>\n",
       "      <th>No-credit Interval</th>\n",
       "      <th>Gross Profit to Sales</th>\n",
       "      <th>Net Income to Stockholder's Equity</th>\n",
       "      <th>Liability to Equity</th>\n",
       "      <th>Degree of Financial Leverage (DFL)</th>\n",
       "      <th>Interest Coverage Ratio (Interest expense to EBIT)</th>\n",
       "      <th>Net Income Flag</th>\n",
       "      <th>Equity to Liability</th>\n",
       "    </tr>\n",
       "  </thead>\n",
       "  <tbody>\n",
       "    <tr>\n",
       "      <th>0</th>\n",
       "      <td>1</td>\n",
       "      <td>0.370594</td>\n",
       "      <td>0.424389</td>\n",
       "      <td>0.405750</td>\n",
       "      <td>0.601457</td>\n",
       "      <td>0.601457</td>\n",
       "      <td>0.998969</td>\n",
       "      <td>0.796887</td>\n",
       "      <td>0.808809</td>\n",
       "      <td>0.302646</td>\n",
       "      <td>...</td>\n",
       "      <td>0.716845</td>\n",
       "      <td>0.009219</td>\n",
       "      <td>0.622879</td>\n",
       "      <td>0.601453</td>\n",
       "      <td>0.827890</td>\n",
       "      <td>0.290202</td>\n",
       "      <td>0.026601</td>\n",
       "      <td>0.564050</td>\n",
       "      <td>1</td>\n",
       "      <td>0.016469</td>\n",
       "    </tr>\n",
       "    <tr>\n",
       "      <th>1</th>\n",
       "      <td>1</td>\n",
       "      <td>0.464291</td>\n",
       "      <td>0.538214</td>\n",
       "      <td>0.516730</td>\n",
       "      <td>0.610235</td>\n",
       "      <td>0.610235</td>\n",
       "      <td>0.998946</td>\n",
       "      <td>0.797380</td>\n",
       "      <td>0.809301</td>\n",
       "      <td>0.303556</td>\n",
       "      <td>...</td>\n",
       "      <td>0.795297</td>\n",
       "      <td>0.008323</td>\n",
       "      <td>0.623652</td>\n",
       "      <td>0.610237</td>\n",
       "      <td>0.839969</td>\n",
       "      <td>0.283846</td>\n",
       "      <td>0.264577</td>\n",
       "      <td>0.570175</td>\n",
       "      <td>1</td>\n",
       "      <td>0.020794</td>\n",
       "    </tr>\n",
       "    <tr>\n",
       "      <th>2</th>\n",
       "      <td>1</td>\n",
       "      <td>0.426071</td>\n",
       "      <td>0.499019</td>\n",
       "      <td>0.472295</td>\n",
       "      <td>0.601450</td>\n",
       "      <td>0.601364</td>\n",
       "      <td>0.998857</td>\n",
       "      <td>0.796403</td>\n",
       "      <td>0.808388</td>\n",
       "      <td>0.302035</td>\n",
       "      <td>...</td>\n",
       "      <td>0.774670</td>\n",
       "      <td>0.040003</td>\n",
       "      <td>0.623841</td>\n",
       "      <td>0.601449</td>\n",
       "      <td>0.836774</td>\n",
       "      <td>0.290189</td>\n",
       "      <td>0.026555</td>\n",
       "      <td>0.563706</td>\n",
       "      <td>1</td>\n",
       "      <td>0.016474</td>\n",
       "    </tr>\n",
       "    <tr>\n",
       "      <th>3</th>\n",
       "      <td>1</td>\n",
       "      <td>0.399844</td>\n",
       "      <td>0.451265</td>\n",
       "      <td>0.457733</td>\n",
       "      <td>0.583541</td>\n",
       "      <td>0.583541</td>\n",
       "      <td>0.998700</td>\n",
       "      <td>0.796967</td>\n",
       "      <td>0.808966</td>\n",
       "      <td>0.303350</td>\n",
       "      <td>...</td>\n",
       "      <td>0.739555</td>\n",
       "      <td>0.003252</td>\n",
       "      <td>0.622929</td>\n",
       "      <td>0.583538</td>\n",
       "      <td>0.834697</td>\n",
       "      <td>0.281721</td>\n",
       "      <td>0.026697</td>\n",
       "      <td>0.564663</td>\n",
       "      <td>1</td>\n",
       "      <td>0.023982</td>\n",
       "    </tr>\n",
       "    <tr>\n",
       "      <th>4</th>\n",
       "      <td>1</td>\n",
       "      <td>0.465022</td>\n",
       "      <td>0.538432</td>\n",
       "      <td>0.522298</td>\n",
       "      <td>0.598783</td>\n",
       "      <td>0.598783</td>\n",
       "      <td>0.998973</td>\n",
       "      <td>0.797366</td>\n",
       "      <td>0.809304</td>\n",
       "      <td>0.303475</td>\n",
       "      <td>...</td>\n",
       "      <td>0.795016</td>\n",
       "      <td>0.003878</td>\n",
       "      <td>0.623521</td>\n",
       "      <td>0.598782</td>\n",
       "      <td>0.839973</td>\n",
       "      <td>0.278514</td>\n",
       "      <td>0.024752</td>\n",
       "      <td>0.575617</td>\n",
       "      <td>1</td>\n",
       "      <td>0.035490</td>\n",
       "    </tr>\n",
       "  </tbody>\n",
       "</table>\n",
       "<p>5 rows × 96 columns</p>\n",
       "</div>"
      ],
      "text/plain": [
       "   Bankrupt?   ROA(C) before interest and depreciation before interest  \\\n",
       "0          1                                           0.370594          \n",
       "1          1                                           0.464291          \n",
       "2          1                                           0.426071          \n",
       "3          1                                           0.399844          \n",
       "4          1                                           0.465022          \n",
       "\n",
       "    ROA(A) before interest and % after tax  \\\n",
       "0                                 0.424389   \n",
       "1                                 0.538214   \n",
       "2                                 0.499019   \n",
       "3                                 0.451265   \n",
       "4                                 0.538432   \n",
       "\n",
       "    ROA(B) before interest and depreciation after tax  \\\n",
       "0                                           0.405750    \n",
       "1                                           0.516730    \n",
       "2                                           0.472295    \n",
       "3                                           0.457733    \n",
       "4                                           0.522298    \n",
       "\n",
       "    Operating Gross Margin   Realized Sales Gross Margin  \\\n",
       "0                 0.601457                      0.601457   \n",
       "1                 0.610235                      0.610235   \n",
       "2                 0.601450                      0.601364   \n",
       "3                 0.583541                      0.583541   \n",
       "4                 0.598783                      0.598783   \n",
       "\n",
       "    Operating Profit Rate   Pre-tax net Interest Rate  \\\n",
       "0                0.998969                    0.796887   \n",
       "1                0.998946                    0.797380   \n",
       "2                0.998857                    0.796403   \n",
       "3                0.998700                    0.796967   \n",
       "4                0.998973                    0.797366   \n",
       "\n",
       "    After-tax net Interest Rate   Non-industry income and expenditure/revenue  \\\n",
       "0                      0.808809                                      0.302646   \n",
       "1                      0.809301                                      0.303556   \n",
       "2                      0.808388                                      0.302035   \n",
       "3                      0.808966                                      0.303350   \n",
       "4                      0.809304                                      0.303475   \n",
       "\n",
       "   ...   Net Income to Total Assets   Total assets to GNP price  \\\n",
       "0  ...                     0.716845                    0.009219   \n",
       "1  ...                     0.795297                    0.008323   \n",
       "2  ...                     0.774670                    0.040003   \n",
       "3  ...                     0.739555                    0.003252   \n",
       "4  ...                     0.795016                    0.003878   \n",
       "\n",
       "    No-credit Interval   Gross Profit to Sales  \\\n",
       "0             0.622879                0.601453   \n",
       "1             0.623652                0.610237   \n",
       "2             0.623841                0.601449   \n",
       "3             0.622929                0.583538   \n",
       "4             0.623521                0.598782   \n",
       "\n",
       "    Net Income to Stockholder's Equity   Liability to Equity  \\\n",
       "0                             0.827890              0.290202   \n",
       "1                             0.839969              0.283846   \n",
       "2                             0.836774              0.290189   \n",
       "3                             0.834697              0.281721   \n",
       "4                             0.839973              0.278514   \n",
       "\n",
       "    Degree of Financial Leverage (DFL)  \\\n",
       "0                             0.026601   \n",
       "1                             0.264577   \n",
       "2                             0.026555   \n",
       "3                             0.026697   \n",
       "4                             0.024752   \n",
       "\n",
       "    Interest Coverage Ratio (Interest expense to EBIT)   Net Income Flag  \\\n",
       "0                                           0.564050                   1   \n",
       "1                                           0.570175                   1   \n",
       "2                                           0.563706                   1   \n",
       "3                                           0.564663                   1   \n",
       "4                                           0.575617                   1   \n",
       "\n",
       "    Equity to Liability  \n",
       "0              0.016469  \n",
       "1              0.020794  \n",
       "2              0.016474  \n",
       "3              0.023982  \n",
       "4              0.035490  \n",
       "\n",
       "[5 rows x 96 columns]"
      ]
     },
     "execution_count": 47,
     "metadata": {},
     "output_type": "execute_result"
    }
   ],
   "source": [
    "df.head()"
   ]
  },
  {
   "cell_type": "code",
   "execution_count": 48,
   "id": "c768839c",
   "metadata": {
    "execution": {
     "iopub.execute_input": "2022-02-13T18:35:10.574384Z",
     "iopub.status.busy": "2022-02-13T18:35:10.573327Z",
     "iopub.status.idle": "2022-02-13T18:35:10.584304Z",
     "shell.execute_reply": "2022-02-13T18:35:10.584828Z",
     "shell.execute_reply.started": "2022-02-13T18:33:49.089073Z"
    },
    "papermill": {
     "duration": 0.121754,
     "end_time": "2022-02-13T18:35:10.585020",
     "exception": false,
     "start_time": "2022-02-13T18:35:10.463266",
     "status": "completed"
    },
    "tags": []
   },
   "outputs": [],
   "source": [
    "X = df.drop(['Bankrupt?'],axis=1).values\n",
    "y = df['Bankrupt?'].values"
   ]
  },
  {
   "cell_type": "markdown",
   "id": "f9ccec13",
   "metadata": {
    "papermill": {
     "duration": 0.103012,
     "end_time": "2022-02-13T18:35:10.793803",
     "exception": false,
     "start_time": "2022-02-13T18:35:10.690791",
     "status": "completed"
    },
    "tags": []
   },
   "source": [
    "# Split the data set (for PCA)"
   ]
  },
  {
   "cell_type": "code",
   "execution_count": 49,
   "id": "70e3ddf8",
   "metadata": {
    "execution": {
     "iopub.execute_input": "2022-02-13T18:35:11.006703Z",
     "iopub.status.busy": "2022-02-13T18:35:11.005656Z",
     "iopub.status.idle": "2022-02-13T18:35:11.015922Z",
     "shell.execute_reply": "2022-02-13T18:35:11.015363Z",
     "shell.execute_reply.started": "2022-02-13T18:33:49.103783Z"
    },
    "papermill": {
     "duration": 0.117462,
     "end_time": "2022-02-13T18:35:11.016080",
     "exception": false,
     "start_time": "2022-02-13T18:35:10.898618",
     "status": "completed"
    },
    "tags": []
   },
   "outputs": [],
   "source": [
    "X_train, X_test, y_train, y_test = train_test_split(X, y, test_size = 0.2, random_state = 0)"
   ]
  },
  {
   "cell_type": "code",
   "execution_count": 50,
   "id": "0d312afc",
   "metadata": {
    "execution": {
     "iopub.execute_input": "2022-02-13T18:35:11.232249Z",
     "iopub.status.busy": "2022-02-13T18:35:11.231540Z",
     "iopub.status.idle": "2022-02-13T18:35:11.235373Z",
     "shell.execute_reply": "2022-02-13T18:35:11.234835Z",
     "shell.execute_reply.started": "2022-02-13T18:33:49.121015Z"
    },
    "papermill": {
     "duration": 0.113461,
     "end_time": "2022-02-13T18:35:11.235537",
     "exception": false,
     "start_time": "2022-02-13T18:35:11.122076",
     "status": "completed"
    },
    "tags": []
   },
   "outputs": [
    {
     "data": {
      "text/plain": [
       "((5455, 95), (1364, 95))"
      ]
     },
     "execution_count": 50,
     "metadata": {},
     "output_type": "execute_result"
    }
   ],
   "source": [
    "X_train.shape,X_test.shape"
   ]
  },
  {
   "cell_type": "markdown",
   "id": "a082947a",
   "metadata": {
    "papermill": {
     "duration": 0.106297,
     "end_time": "2022-02-13T18:35:11.447613",
     "exception": false,
     "start_time": "2022-02-13T18:35:11.341316",
     "status": "completed"
    },
    "tags": []
   },
   "source": [
    "# Feature Scaling"
   ]
  },
  {
   "cell_type": "code",
   "execution_count": 51,
   "id": "edd8ad60",
   "metadata": {
    "execution": {
     "iopub.execute_input": "2022-02-13T18:35:11.667076Z",
     "iopub.status.busy": "2022-02-13T18:35:11.666285Z",
     "iopub.status.idle": "2022-02-13T18:35:11.686458Z",
     "shell.execute_reply": "2022-02-13T18:35:11.685737Z",
     "shell.execute_reply.started": "2022-02-13T18:33:49.131518Z"
    },
    "papermill": {
     "duration": 0.134453,
     "end_time": "2022-02-13T18:35:11.686666",
     "exception": false,
     "start_time": "2022-02-13T18:35:11.552213",
     "status": "completed"
    },
    "tags": []
   },
   "outputs": [],
   "source": [
    "sc = StandardScaler()\n",
    "X_train = sc.fit_transform(X_train)\n",
    "X_test = sc.transform(X_test)"
   ]
  },
  {
   "cell_type": "markdown",
   "id": "5f7a0617",
   "metadata": {
    "papermill": {
     "duration": 0.109309,
     "end_time": "2022-02-13T18:35:11.904690",
     "exception": false,
     "start_time": "2022-02-13T18:35:11.795381",
     "status": "completed"
    },
    "tags": []
   },
   "source": [
    "# PCA"
   ]
  },
  {
   "cell_type": "code",
   "execution_count": 52,
   "id": "df246768",
   "metadata": {
    "execution": {
     "iopub.execute_input": "2022-02-13T18:35:12.125414Z",
     "iopub.status.busy": "2022-02-13T18:35:12.124137Z",
     "iopub.status.idle": "2022-02-13T18:35:12.215147Z",
     "shell.execute_reply": "2022-02-13T18:35:12.216107Z",
     "shell.execute_reply.started": "2022-02-13T18:33:49.151671Z"
    },
    "papermill": {
     "duration": 0.205568,
     "end_time": "2022-02-13T18:35:12.216400",
     "exception": false,
     "start_time": "2022-02-13T18:35:12.010832",
     "status": "completed"
    },
    "tags": []
   },
   "outputs": [],
   "source": [
    "from sklearn.decomposition import PCA\n",
    "pca = PCA(n_components = 2)\n",
    "X_train = pca.fit_transform(X_train)\n",
    "X_test = pca.transform(X_test)"
   ]
  },
  {
   "cell_type": "code",
   "execution_count": 53,
   "id": "cabaf10b",
   "metadata": {
    "execution": {
     "iopub.execute_input": "2022-02-13T18:35:12.499572Z",
     "iopub.status.busy": "2022-02-13T18:35:12.498656Z",
     "iopub.status.idle": "2022-02-13T18:35:12.502741Z",
     "shell.execute_reply": "2022-02-13T18:35:12.502188Z",
     "shell.execute_reply.started": "2022-02-13T18:33:49.236612Z"
    },
    "papermill": {
     "duration": 0.114743,
     "end_time": "2022-02-13T18:35:12.502897",
     "exception": false,
     "start_time": "2022-02-13T18:35:12.388154",
     "status": "completed"
    },
    "tags": []
   },
   "outputs": [
    {
     "data": {
      "text/plain": [
       "((5455, 2), (1364, 2))"
      ]
     },
     "execution_count": 53,
     "metadata": {},
     "output_type": "execute_result"
    }
   ],
   "source": [
    "X_train.shape,X_test.shape"
   ]
  },
  {
   "cell_type": "code",
   "execution_count": 54,
   "id": "4bfb51a3",
   "metadata": {
    "execution": {
     "iopub.execute_input": "2022-02-13T18:35:12.721352Z",
     "iopub.status.busy": "2022-02-13T18:35:12.720285Z",
     "iopub.status.idle": "2022-02-13T18:35:12.747952Z",
     "shell.execute_reply": "2022-02-13T18:35:12.746954Z",
     "shell.execute_reply.started": "2022-02-13T18:33:49.251708Z"
    },
    "papermill": {
     "duration": 0.139243,
     "end_time": "2022-02-13T18:35:12.748191",
     "exception": false,
     "start_time": "2022-02-13T18:35:12.608948",
     "status": "completed"
    },
    "tags": []
   },
   "outputs": [
    {
     "data": {
      "text/plain": [
       "LogisticRegression(random_state=0)"
      ]
     },
     "execution_count": 54,
     "metadata": {},
     "output_type": "execute_result"
    }
   ],
   "source": [
    "from sklearn.linear_model import LogisticRegression\n",
    "classifier = LogisticRegression(random_state = 0)\n",
    "classifier.fit(X_train, y_train)"
   ]
  },
  {
   "cell_type": "code",
   "execution_count": 55,
   "id": "974b78ab",
   "metadata": {
    "execution": {
     "iopub.execute_input": "2022-02-13T18:35:13.020579Z",
     "iopub.status.busy": "2022-02-13T18:35:13.019597Z",
     "iopub.status.idle": "2022-02-13T18:35:13.028049Z",
     "shell.execute_reply": "2022-02-13T18:35:13.027315Z",
     "shell.execute_reply.started": "2022-02-13T18:33:49.297635Z"
    },
    "papermill": {
     "duration": 0.120552,
     "end_time": "2022-02-13T18:35:13.028198",
     "exception": false,
     "start_time": "2022-02-13T18:35:12.907646",
     "status": "completed"
    },
    "tags": []
   },
   "outputs": [
    {
     "name": "stdout",
     "output_type": "stream",
     "text": [
      "[[1312    6]\n",
      " [  42    4]]\n"
     ]
    }
   ],
   "source": [
    "from sklearn.metrics import confusion_matrix, accuracy_score\n",
    "y_pred = classifier.predict(X_test)\n",
    "cm = confusion_matrix(y_test, y_pred)\n",
    "print(cm)\n",
    "pca_acc = accuracy_score(y_test, y_pred)"
   ]
  },
  {
   "cell_type": "code",
   "execution_count": 56,
   "id": "44ad6aed",
   "metadata": {
    "execution": {
     "iopub.execute_input": "2022-02-13T18:35:13.252214Z",
     "iopub.status.busy": "2022-02-13T18:35:13.251110Z",
     "iopub.status.idle": "2022-02-13T18:35:13.254723Z",
     "shell.execute_reply": "2022-02-13T18:35:13.255447Z",
     "shell.execute_reply.started": "2022-02-13T18:33:49.321805Z"
    },
    "papermill": {
     "duration": 0.11725,
     "end_time": "2022-02-13T18:35:13.255796",
     "exception": false,
     "start_time": "2022-02-13T18:35:13.138546",
     "status": "completed"
    },
    "tags": []
   },
   "outputs": [
    {
     "name": "stdout",
     "output_type": "stream",
     "text": [
      "PCA Accuracy is: 0.9648093841642229\n"
     ]
    }
   ],
   "source": [
    "print(f\"PCA Accuracy is: {pca_acc}\")"
   ]
  },
  {
   "cell_type": "markdown",
   "id": "6abbeaf9",
   "metadata": {
    "papermill": {
     "duration": 0.107202,
     "end_time": "2022-02-13T18:35:13.473975",
     "exception": false,
     "start_time": "2022-02-13T18:35:13.366773",
     "status": "completed"
    },
    "tags": []
   },
   "source": [
    "# Applying k-Fold Cross Validation"
   ]
  },
  {
   "cell_type": "code",
   "execution_count": 57,
   "id": "33024902",
   "metadata": {
    "execution": {
     "iopub.execute_input": "2022-02-13T18:35:13.698340Z",
     "iopub.status.busy": "2022-02-13T18:35:13.697295Z",
     "iopub.status.idle": "2022-02-13T18:35:13.863827Z",
     "shell.execute_reply": "2022-02-13T18:35:13.865216Z",
     "shell.execute_reply.started": "2022-02-13T18:33:49.332233Z"
    },
    "papermill": {
     "duration": 0.283108,
     "end_time": "2022-02-13T18:35:13.865524",
     "exception": false,
     "start_time": "2022-02-13T18:35:13.582416",
     "status": "completed"
    },
    "tags": []
   },
   "outputs": [
    {
     "name": "stdout",
     "output_type": "stream",
     "text": [
      "Accuracy: 96.63 %\n",
      "Standard Deviation: 0.37 %\n"
     ]
    }
   ],
   "source": [
    "from sklearn.model_selection import cross_val_score\n",
    "accuracies = cross_val_score(estimator = classifier, X = X_train, y = y_train, cv = 10)\n",
    "print(\"Accuracy: {:.2f} %\".format(accuracies.mean()*100))\n",
    "print(\"Standard Deviation: {:.2f} %\".format(accuracies.std()*100))"
   ]
  },
  {
   "cell_type": "markdown",
   "id": "7e196e32",
   "metadata": {
    "papermill": {
     "duration": 0.109416,
     "end_time": "2022-02-13T18:35:14.132550",
     "exception": false,
     "start_time": "2022-02-13T18:35:14.023134",
     "status": "completed"
    },
    "tags": []
   },
   "source": [
    "![](https://phumyhung.vn/the-ascentia/wp-content/uploads/2019/06/thanks.png)"
   ]
  }
 ],
 "metadata": {
  "kernelspec": {
   "display_name": "Python 3",
   "language": "python",
   "name": "python3"
  },
  "language_info": {
   "codemirror_mode": {
    "name": "ipython",
    "version": 3
   },
   "file_extension": ".py",
   "mimetype": "text/x-python",
   "name": "python",
   "nbconvert_exporter": "python",
   "pygments_lexer": "ipython3",
   "version": "3.7.12"
  },
  "papermill": {
   "default_parameters": {},
   "duration": 48.784822,
   "end_time": "2022-02-13T18:35:15.051050",
   "environment_variables": {},
   "exception": null,
   "input_path": "__notebook__.ipynb",
   "output_path": "__notebook__.ipynb",
   "parameters": {},
   "start_time": "2022-02-13T18:34:26.266228",
   "version": "2.3.3"
  }
 },
 "nbformat": 4,
 "nbformat_minor": 5
}
