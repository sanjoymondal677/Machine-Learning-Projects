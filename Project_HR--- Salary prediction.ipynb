{
 "cells": [
  {
   "cell_type": "markdown",
   "id": "035c64a4",
   "metadata": {},
   "source": [
    "### Identify salary is varying with respect to other considerable factors."
   ]
  },
  {
   "cell_type": "markdown",
   "id": "35c70060",
   "metadata": {},
   "source": [
    "#### import the required libraries"
   ]
  },
  {
   "cell_type": "code",
   "execution_count": 1,
   "id": "308a081e",
   "metadata": {},
   "outputs": [],
   "source": [
    "import numpy as np\n",
    "import pandas as pd\n",
    "import matplotlib.pyplot as plt\n",
    "%matplotlib inline\n",
    "import seaborn as sns\n",
    "import warnings\n",
    "warnings.filterwarnings('ignore')"
   ]
  },
  {
   "cell_type": "code",
   "execution_count": 2,
   "id": "237f9ae2",
   "metadata": {},
   "outputs": [],
   "source": [
    "data = pd.read_csv(r\"C:\\Users\\Windows\\Downloads\\New_data_Set.csv\") #Load the data set into data variable by help of pandas library"
   ]
  },
  {
   "cell_type": "code",
   "execution_count": 3,
   "id": "ec51d21a",
   "metadata": {},
   "outputs": [
    {
     "data": {
      "text/html": [
       "<div>\n",
       "<style scoped>\n",
       "    .dataframe tbody tr th:only-of-type {\n",
       "        vertical-align: middle;\n",
       "    }\n",
       "\n",
       "    .dataframe tbody tr th {\n",
       "        vertical-align: top;\n",
       "    }\n",
       "\n",
       "    .dataframe thead th {\n",
       "        text-align: right;\n",
       "    }\n",
       "</style>\n",
       "<table border=\"1\" class=\"dataframe\">\n",
       "  <thead>\n",
       "    <tr style=\"text-align: right;\">\n",
       "      <th></th>\n",
       "      <th>Gender</th>\n",
       "      <th>Business</th>\n",
       "      <th>Dependancies</th>\n",
       "      <th>Calls</th>\n",
       "      <th>Type</th>\n",
       "      <th>Billing</th>\n",
       "      <th>Rating</th>\n",
       "      <th>Age</th>\n",
       "      <th>Salary</th>\n",
       "      <th>Base_pay</th>\n",
       "      <th>Bonus</th>\n",
       "      <th>Unit_Price</th>\n",
       "      <th>Volume</th>\n",
       "      <th>openingbalance</th>\n",
       "      <th>closingbalance</th>\n",
       "      <th>low</th>\n",
       "      <th>Unit_Sales</th>\n",
       "      <th>Total_Sales</th>\n",
       "      <th>Months</th>\n",
       "      <th>Education</th>\n",
       "    </tr>\n",
       "  </thead>\n",
       "  <tbody>\n",
       "    <tr>\n",
       "      <th>0</th>\n",
       "      <td>Female</td>\n",
       "      <td>0</td>\n",
       "      <td>No</td>\n",
       "      <td>Yes</td>\n",
       "      <td>Month-to-month</td>\n",
       "      <td>No</td>\n",
       "      <td>Yes</td>\n",
       "      <td>18</td>\n",
       "      <td>5089.00</td>\n",
       "      <td>2035.600</td>\n",
       "      <td>254.4500</td>\n",
       "      <td>3.77</td>\n",
       "      <td>21226600</td>\n",
       "      <td>3.75</td>\n",
       "      <td>3.76</td>\n",
       "      <td>3.65</td>\n",
       "      <td>18.25</td>\n",
       "      <td>18.8</td>\n",
       "      <td>0</td>\n",
       "      <td>High School or less</td>\n",
       "    </tr>\n",
       "    <tr>\n",
       "      <th>1</th>\n",
       "      <td>Female</td>\n",
       "      <td>0</td>\n",
       "      <td>No</td>\n",
       "      <td>Yes</td>\n",
       "      <td>Month-to-month</td>\n",
       "      <td>No</td>\n",
       "      <td>Yes</td>\n",
       "      <td>19</td>\n",
       "      <td>5698.12</td>\n",
       "      <td>2279.248</td>\n",
       "      <td>284.9060</td>\n",
       "      <td>3.74</td>\n",
       "      <td>10462800</td>\n",
       "      <td>3.85</td>\n",
       "      <td>3.68</td>\n",
       "      <td>3.65</td>\n",
       "      <td>18.40</td>\n",
       "      <td>18.85</td>\n",
       "      <td>0</td>\n",
       "      <td>High School or less</td>\n",
       "    </tr>\n",
       "    <tr>\n",
       "      <th>2</th>\n",
       "      <td>Male</td>\n",
       "      <td>0</td>\n",
       "      <td>No</td>\n",
       "      <td>Yes</td>\n",
       "      <td>Month-to-month</td>\n",
       "      <td>Yes</td>\n",
       "      <td>No</td>\n",
       "      <td>22</td>\n",
       "      <td>5896.65</td>\n",
       "      <td>2358.660</td>\n",
       "      <td>294.8325</td>\n",
       "      <td>3.89</td>\n",
       "      <td>18761000</td>\n",
       "      <td>4.23</td>\n",
       "      <td>4.29</td>\n",
       "      <td>3.72</td>\n",
       "      <td>18.70</td>\n",
       "      <td>18.9</td>\n",
       "      <td>0</td>\n",
       "      <td>High School or less</td>\n",
       "    </tr>\n",
       "    <tr>\n",
       "      <th>3</th>\n",
       "      <td>Female</td>\n",
       "      <td>1</td>\n",
       "      <td>No</td>\n",
       "      <td>Yes</td>\n",
       "      <td>Month-to-month</td>\n",
       "      <td>Yes</td>\n",
       "      <td>Yes</td>\n",
       "      <td>21</td>\n",
       "      <td>6125.12</td>\n",
       "      <td>2450.048</td>\n",
       "      <td>306.2560</td>\n",
       "      <td>4.35</td>\n",
       "      <td>66130600</td>\n",
       "      <td>4.26</td>\n",
       "      <td>4.31</td>\n",
       "      <td>3.83</td>\n",
       "      <td>18.75</td>\n",
       "      <td>19</td>\n",
       "      <td>0</td>\n",
       "      <td>High School or less</td>\n",
       "    </tr>\n",
       "    <tr>\n",
       "      <th>4</th>\n",
       "      <td>Male</td>\n",
       "      <td>0</td>\n",
       "      <td>No</td>\n",
       "      <td>Yes</td>\n",
       "      <td>Month-to-month</td>\n",
       "      <td>Yes</td>\n",
       "      <td>Yes</td>\n",
       "      <td>23</td>\n",
       "      <td>6245.00</td>\n",
       "      <td>2498.000</td>\n",
       "      <td>312.2500</td>\n",
       "      <td>4.34</td>\n",
       "      <td>26868200</td>\n",
       "      <td>4.79</td>\n",
       "      <td>4.41</td>\n",
       "      <td>4.08</td>\n",
       "      <td>18.80</td>\n",
       "      <td>19.05</td>\n",
       "      <td>1</td>\n",
       "      <td>High School or less</td>\n",
       "    </tr>\n",
       "  </tbody>\n",
       "</table>\n",
       "</div>"
      ],
      "text/plain": [
       "   Gender  Business Dependancies Calls            Type Billing Rating  Age  \\\n",
       "0  Female         0           No   Yes  Month-to-month      No    Yes   18   \n",
       "1  Female         0           No   Yes  Month-to-month      No    Yes   19   \n",
       "2    Male         0           No   Yes  Month-to-month     Yes     No   22   \n",
       "3  Female         1           No   Yes  Month-to-month     Yes    Yes   21   \n",
       "4    Male         0           No   Yes  Month-to-month     Yes    Yes   23   \n",
       "\n",
       "    Salary  Base_pay     Bonus  Unit_Price    Volume  openingbalance  \\\n",
       "0  5089.00  2035.600  254.4500        3.77  21226600            3.75   \n",
       "1  5698.12  2279.248  284.9060        3.74  10462800            3.85   \n",
       "2  5896.65  2358.660  294.8325        3.89  18761000            4.23   \n",
       "3  6125.12  2450.048  306.2560        4.35  66130600            4.26   \n",
       "4  6245.00  2498.000  312.2500        4.34  26868200            4.79   \n",
       "\n",
       "   closingbalance   low  Unit_Sales Total_Sales  Months            Education  \n",
       "0            3.76  3.65       18.25        18.8       0  High School or less  \n",
       "1            3.68  3.65       18.40       18.85       0  High School or less  \n",
       "2            4.29  3.72       18.70        18.9       0  High School or less  \n",
       "3            4.31  3.83       18.75          19       0  High School or less  \n",
       "4            4.41  4.08       18.80       19.05       1  High School or less  "
      ]
     },
     "execution_count": 3,
     "metadata": {},
     "output_type": "execute_result"
    }
   ],
   "source": [
    "data.head() #print the first 5 rows"
   ]
  },
  {
   "cell_type": "code",
   "execution_count": 4,
   "id": "82142406",
   "metadata": {},
   "outputs": [
    {
     "data": {
      "text/plain": [
       "(5000, 20)"
      ]
     },
     "execution_count": 4,
     "metadata": {},
     "output_type": "execute_result"
    }
   ],
   "source": [
    "data.shape #In the dataset we've 5000 rows with 20 columns"
   ]
  },
  {
   "cell_type": "code",
   "execution_count": 5,
   "id": "54b06522",
   "metadata": {},
   "outputs": [
    {
     "name": "stdout",
     "output_type": "stream",
     "text": [
      "<class 'pandas.core.frame.DataFrame'>\n",
      "RangeIndex: 5000 entries, 0 to 4999\n",
      "Data columns (total 20 columns):\n",
      " #   Column          Non-Null Count  Dtype  \n",
      "---  ------          --------------  -----  \n",
      " 0   Gender          5000 non-null   object \n",
      " 1   Business        5000 non-null   int64  \n",
      " 2   Dependancies    5000 non-null   object \n",
      " 3   Calls           5000 non-null   object \n",
      " 4   Type            5000 non-null   object \n",
      " 5   Billing         5000 non-null   object \n",
      " 6   Rating          5000 non-null   object \n",
      " 7   Age             5000 non-null   int64  \n",
      " 8   Salary          5000 non-null   float64\n",
      " 9   Base_pay        4977 non-null   float64\n",
      " 10  Bonus           5000 non-null   float64\n",
      " 11  Unit_Price      5000 non-null   float64\n",
      " 12  Volume          5000 non-null   int64  \n",
      " 13  openingbalance  3524 non-null   float64\n",
      " 14  closingbalance  5000 non-null   float64\n",
      " 15  low             5000 non-null   float64\n",
      " 16  Unit_Sales      5000 non-null   float64\n",
      " 17  Total_Sales     4992 non-null   object \n",
      " 18  Months          5000 non-null   int64  \n",
      " 19  Education       5000 non-null   object \n",
      "dtypes: float64(8), int64(4), object(8)\n",
      "memory usage: 781.4+ KB\n"
     ]
    }
   ],
   "source": [
    "data.info() # information of all the columns like datatypes and non-null values."
   ]
  },
  {
   "cell_type": "code",
   "execution_count": 6,
   "id": "f955328b",
   "metadata": {},
   "outputs": [
    {
     "data": {
      "image/png": "[encoded data removed]",
      "text/plain": [
       "<Figure size 1800x720 with 3 Axes>"
      ]
     },
     "metadata": {
      "needs_background": "light"
     },
     "output_type": "display_data"
    }
   ],
   "source": [
    "import missingno as msno\n",
    "msno.bar(data)\n",
    "plt.show()"
   ]
  },
  {
   "cell_type": "markdown",
   "id": "60ebec30",
   "metadata": {},
   "source": [
    "we can see there is a three columns which has the null values"
   ]
  },
  {
   "cell_type": "code",
   "execution_count": 7,
   "id": "93d37660",
   "metadata": {},
   "outputs": [
    {
     "data": {
      "text/html": [
       "<div>\n",
       "<style scoped>\n",
       "    .dataframe tbody tr th:only-of-type {\n",
       "        vertical-align: middle;\n",
       "    }\n",
       "\n",
       "    .dataframe tbody tr th {\n",
       "        vertical-align: top;\n",
       "    }\n",
       "\n",
       "    .dataframe thead th {\n",
       "        text-align: right;\n",
       "    }\n",
       "</style>\n",
       "<table border=\"1\" class=\"dataframe\">\n",
       "  <thead>\n",
       "    <tr style=\"text-align: right;\">\n",
       "      <th></th>\n",
       "      <th>Gender</th>\n",
       "      <th>Business</th>\n",
       "      <th>Dependancies</th>\n",
       "      <th>Calls</th>\n",
       "      <th>Type</th>\n",
       "      <th>Billing</th>\n",
       "      <th>Rating</th>\n",
       "      <th>Age</th>\n",
       "      <th>Salary</th>\n",
       "      <th>Base_pay</th>\n",
       "      <th>Bonus</th>\n",
       "      <th>Unit_Price</th>\n",
       "      <th>Volume</th>\n",
       "      <th>openingbalance</th>\n",
       "      <th>closingbalance</th>\n",
       "      <th>low</th>\n",
       "      <th>Unit_Sales</th>\n",
       "      <th>Total_Sales</th>\n",
       "      <th>Months</th>\n",
       "      <th>Education</th>\n",
       "    </tr>\n",
       "  </thead>\n",
       "  <tbody>\n",
       "    <tr>\n",
       "      <th>3524</th>\n",
       "      <td>Male</td>\n",
       "      <td>0</td>\n",
       "      <td>Yes</td>\n",
       "      <td>Yes</td>\n",
       "      <td>One year</td>\n",
       "      <td>Yes</td>\n",
       "      <td>No</td>\n",
       "      <td>52</td>\n",
       "      <td>113847.8976</td>\n",
       "      <td>45539.15902</td>\n",
       "      <td>5692.394880</td>\n",
       "      <td>47.959999</td>\n",
       "      <td>7213100</td>\n",
       "      <td>NaN</td>\n",
       "      <td>6.170000</td>\n",
       "      <td>47.320000</td>\n",
       "      <td>85.90</td>\n",
       "      <td>3157</td>\n",
       "      <td>39</td>\n",
       "      <td>PG</td>\n",
       "    </tr>\n",
       "    <tr>\n",
       "      <th>3525</th>\n",
       "      <td>Male</td>\n",
       "      <td>0</td>\n",
       "      <td>Yes</td>\n",
       "      <td>Yes</td>\n",
       "      <td>Two year</td>\n",
       "      <td>No</td>\n",
       "      <td>No</td>\n",
       "      <td>52</td>\n",
       "      <td>113848.5747</td>\n",
       "      <td>45539.42990</td>\n",
       "      <td>5692.428735</td>\n",
       "      <td>48.740002</td>\n",
       "      <td>654600</td>\n",
       "      <td>NaN</td>\n",
       "      <td>7.708571</td>\n",
       "      <td>47.700001</td>\n",
       "      <td>85.90</td>\n",
       "      <td>3161.2</td>\n",
       "      <td>39</td>\n",
       "      <td>PG</td>\n",
       "    </tr>\n",
       "    <tr>\n",
       "      <th>3526</th>\n",
       "      <td>Male</td>\n",
       "      <td>0</td>\n",
       "      <td>Yes</td>\n",
       "      <td>Yes</td>\n",
       "      <td>Month-to-month</td>\n",
       "      <td>No</td>\n",
       "      <td>No</td>\n",
       "      <td>52</td>\n",
       "      <td>113854.4403</td>\n",
       "      <td>45541.77611</td>\n",
       "      <td>5692.722015</td>\n",
       "      <td>49.080002</td>\n",
       "      <td>5254900</td>\n",
       "      <td>NaN</td>\n",
       "      <td>8.329860</td>\n",
       "      <td>47.360001</td>\n",
       "      <td>85.95</td>\n",
       "      <td>3161.4</td>\n",
       "      <td>39</td>\n",
       "      <td>PG</td>\n",
       "    </tr>\n",
       "    <tr>\n",
       "      <th>3527</th>\n",
       "      <td>Male</td>\n",
       "      <td>0</td>\n",
       "      <td>Yes</td>\n",
       "      <td>Yes</td>\n",
       "      <td>Month-to-month</td>\n",
       "      <td>Yes</td>\n",
       "      <td>Yes</td>\n",
       "      <td>52</td>\n",
       "      <td>113854.8931</td>\n",
       "      <td>45541.95723</td>\n",
       "      <td>5692.744655</td>\n",
       "      <td>49.020000</td>\n",
       "      <td>25266300</td>\n",
       "      <td>NaN</td>\n",
       "      <td>9.371101</td>\n",
       "      <td>47.549999</td>\n",
       "      <td>85.95</td>\n",
       "      <td>3161.6</td>\n",
       "      <td>39</td>\n",
       "      <td>PG</td>\n",
       "    </tr>\n",
       "    <tr>\n",
       "      <th>3528</th>\n",
       "      <td>Female</td>\n",
       "      <td>0</td>\n",
       "      <td>Yes</td>\n",
       "      <td>Yes</td>\n",
       "      <td>Two year</td>\n",
       "      <td>Yes</td>\n",
       "      <td>No</td>\n",
       "      <td>52</td>\n",
       "      <td>113861.7597</td>\n",
       "      <td>45544.70389</td>\n",
       "      <td>5693.087985</td>\n",
       "      <td>47.880001</td>\n",
       "      <td>2484200</td>\n",
       "      <td>NaN</td>\n",
       "      <td>8.885000</td>\n",
       "      <td>47.320000</td>\n",
       "      <td>85.95</td>\n",
       "      <td>3162.65</td>\n",
       "      <td>39</td>\n",
       "      <td>PG</td>\n",
       "    </tr>\n",
       "    <tr>\n",
       "      <th>...</th>\n",
       "      <td>...</td>\n",
       "      <td>...</td>\n",
       "      <td>...</td>\n",
       "      <td>...</td>\n",
       "      <td>...</td>\n",
       "      <td>...</td>\n",
       "      <td>...</td>\n",
       "      <td>...</td>\n",
       "      <td>...</td>\n",
       "      <td>...</td>\n",
       "      <td>...</td>\n",
       "      <td>...</td>\n",
       "      <td>...</td>\n",
       "      <td>...</td>\n",
       "      <td>...</td>\n",
       "      <td>...</td>\n",
       "      <td>...</td>\n",
       "      <td>...</td>\n",
       "      <td>...</td>\n",
       "      <td>...</td>\n",
       "    </tr>\n",
       "    <tr>\n",
       "      <th>4995</th>\n",
       "      <td>Female</td>\n",
       "      <td>0</td>\n",
       "      <td>No</td>\n",
       "      <td>Yes</td>\n",
       "      <td>Month-to-month</td>\n",
       "      <td>No</td>\n",
       "      <td>No</td>\n",
       "      <td>72</td>\n",
       "      <td>180696.8000</td>\n",
       "      <td>72278.72000</td>\n",
       "      <td>9034.840000</td>\n",
       "      <td>629.511067</td>\n",
       "      <td>3927000</td>\n",
       "      <td>NaN</td>\n",
       "      <td>293.838840</td>\n",
       "      <td>310.955001</td>\n",
       "      <td>117.80</td>\n",
       "      <td></td>\n",
       "      <td>72</td>\n",
       "      <td>PG</td>\n",
       "    </tr>\n",
       "    <tr>\n",
       "      <th>4996</th>\n",
       "      <td>Male</td>\n",
       "      <td>0</td>\n",
       "      <td>No</td>\n",
       "      <td>Yes</td>\n",
       "      <td>Month-to-month</td>\n",
       "      <td>Yes</td>\n",
       "      <td>No</td>\n",
       "      <td>73</td>\n",
       "      <td>185685.9000</td>\n",
       "      <td>74274.36000</td>\n",
       "      <td>9284.295000</td>\n",
       "      <td>627.841071</td>\n",
       "      <td>6031900</td>\n",
       "      <td>NaN</td>\n",
       "      <td>301.311314</td>\n",
       "      <td>309.610028</td>\n",
       "      <td>118.60</td>\n",
       "      <td></td>\n",
       "      <td>72</td>\n",
       "      <td>PG</td>\n",
       "    </tr>\n",
       "    <tr>\n",
       "      <th>4997</th>\n",
       "      <td>Male</td>\n",
       "      <td>0</td>\n",
       "      <td>No</td>\n",
       "      <td>Yes</td>\n",
       "      <td>Month-to-month</td>\n",
       "      <td>Yes</td>\n",
       "      <td>No</td>\n",
       "      <td>74</td>\n",
       "      <td>192636.8000</td>\n",
       "      <td>77054.72000</td>\n",
       "      <td>9631.840000</td>\n",
       "      <td>625.860033</td>\n",
       "      <td>7949400</td>\n",
       "      <td>NaN</td>\n",
       "      <td>306.040009</td>\n",
       "      <td>303.483494</td>\n",
       "      <td>118.60</td>\n",
       "      <td></td>\n",
       "      <td>72</td>\n",
       "      <td>PG</td>\n",
       "    </tr>\n",
       "    <tr>\n",
       "      <th>4998</th>\n",
       "      <td>Male</td>\n",
       "      <td>1</td>\n",
       "      <td>No</td>\n",
       "      <td>Yes</td>\n",
       "      <td>Month-to-month</td>\n",
       "      <td>Yes</td>\n",
       "      <td>Yes</td>\n",
       "      <td>74</td>\n",
       "      <td>195970.7000</td>\n",
       "      <td>78388.28000</td>\n",
       "      <td>9798.535000</td>\n",
       "      <td>629.510005</td>\n",
       "      <td>3908400</td>\n",
       "      <td>NaN</td>\n",
       "      <td>308.579987</td>\n",
       "      <td>312.432438</td>\n",
       "      <td>118.65</td>\n",
       "      <td></td>\n",
       "      <td>72</td>\n",
       "      <td>PG</td>\n",
       "    </tr>\n",
       "    <tr>\n",
       "      <th>4999</th>\n",
       "      <td>Male</td>\n",
       "      <td>0</td>\n",
       "      <td>Yes</td>\n",
       "      <td>Yes</td>\n",
       "      <td>Two year</td>\n",
       "      <td>Yes</td>\n",
       "      <td>No</td>\n",
       "      <td>88</td>\n",
       "      <td>199970.7400</td>\n",
       "      <td>79988.29600</td>\n",
       "      <td>9998.537000</td>\n",
       "      <td>627.839984</td>\n",
       "      <td>6003300</td>\n",
       "      <td>NaN</td>\n",
       "      <td>312.307316</td>\n",
       "      <td>311.081089</td>\n",
       "      <td>118.75</td>\n",
       "      <td></td>\n",
       "      <td>72</td>\n",
       "      <td>PG</td>\n",
       "    </tr>\n",
       "  </tbody>\n",
       "</table>\n",
       "<p>1476 rows × 20 columns</p>\n",
       "</div>"
      ],
      "text/plain": [
       "      Gender  Business Dependancies Calls            Type Billing Rating  Age  \\\n",
       "3524    Male         0          Yes   Yes        One year     Yes     No   52   \n",
       "3525    Male         0          Yes   Yes        Two year      No     No   52   \n",
       "3526    Male         0          Yes   Yes  Month-to-month      No     No   52   \n",
       "3527    Male         0          Yes   Yes  Month-to-month     Yes    Yes   52   \n",
       "3528  Female         0          Yes   Yes        Two year     Yes     No   52   \n",
       "...      ...       ...          ...   ...             ...     ...    ...  ...   \n",
       "4995  Female         0           No   Yes  Month-to-month      No     No   72   \n",
       "4996    Male         0           No   Yes  Month-to-month     Yes     No   73   \n",
       "4997    Male         0           No   Yes  Month-to-month     Yes     No   74   \n",
       "4998    Male         1           No   Yes  Month-to-month     Yes    Yes   74   \n",
       "4999    Male         0          Yes   Yes        Two year     Yes     No   88   \n",
       "\n",
       "           Salary     Base_pay        Bonus  Unit_Price    Volume  \\\n",
       "3524  113847.8976  45539.15902  5692.394880   47.959999   7213100   \n",
       "3525  113848.5747  45539.42990  5692.428735   48.740002    654600   \n",
       "3526  113854.4403  45541.77611  5692.722015   49.080002   5254900   \n",
       "3527  113854.8931  45541.95723  5692.744655   49.020000  25266300   \n",
       "3528  113861.7597  45544.70389  5693.087985   47.880001   2484200   \n",
       "...           ...          ...          ...         ...       ...   \n",
       "4995  180696.8000  72278.72000  9034.840000  629.511067   3927000   \n",
       "4996  185685.9000  74274.36000  9284.295000  627.841071   6031900   \n",
       "4997  192636.8000  77054.72000  9631.840000  625.860033   7949400   \n",
       "4998  195970.7000  78388.28000  9798.535000  629.510005   3908400   \n",
       "4999  199970.7400  79988.29600  9998.537000  627.839984   6003300   \n",
       "\n",
       "      openingbalance  closingbalance         low  Unit_Sales Total_Sales  \\\n",
       "3524             NaN        6.170000   47.320000       85.90        3157   \n",
       "3525             NaN        7.708571   47.700001       85.90      3161.2   \n",
       "3526             NaN        8.329860   47.360001       85.95      3161.4   \n",
       "3527             NaN        9.371101   47.549999       85.95      3161.6   \n",
       "3528             NaN        8.885000   47.320000       85.95     3162.65   \n",
       "...              ...             ...         ...         ...         ...   \n",
       "4995             NaN      293.838840  310.955001      117.80               \n",
       "4996             NaN      301.311314  309.610028      118.60               \n",
       "4997             NaN      306.040009  303.483494      118.60               \n",
       "4998             NaN      308.579987  312.432438      118.65               \n",
       "4999             NaN      312.307316  311.081089      118.75               \n",
       "\n",
       "      Months Education  \n",
       "3524      39        PG  \n",
       "3525      39        PG  \n",
       "3526      39        PG  \n",
       "3527      39        PG  \n",
       "3528      39        PG  \n",
       "...      ...       ...  \n",
       "4995      72        PG  \n",
       "4996      72        PG  \n",
       "4997      72        PG  \n",
       "4998      72        PG  \n",
       "4999      72        PG  \n",
       "\n",
       "[1476 rows x 20 columns]"
      ]
     },
     "execution_count": 7,
     "metadata": {},
     "output_type": "execute_result"
    }
   ],
   "source": [
    "data[data['openingbalance'].isnull()] #print the rows of 'openingbalance' column thsoe have null value. "
   ]
  },
  {
   "cell_type": "code",
   "execution_count": 8,
   "id": "95640600",
   "metadata": {},
   "outputs": [
    {
     "data": {
      "text/plain": [
       "1476"
      ]
     },
     "execution_count": 8,
     "metadata": {},
     "output_type": "execute_result"
    }
   ],
   "source": [
    "data['openingbalance'].isnull().sum() #Count the null values."
   ]
  },
  {
   "cell_type": "code",
   "execution_count": 9,
   "id": "0dedccbc",
   "metadata": {},
   "outputs": [
    {
     "data": {
      "text/plain": [
       "dtype('float64')"
      ]
     },
     "execution_count": 9,
     "metadata": {},
     "output_type": "execute_result"
    }
   ],
   "source": [
    "data['openingbalance'].dtype #Check the data type"
   ]
  },
  {
   "cell_type": "code",
   "execution_count": 10,
   "id": "ceb66177",
   "metadata": {},
   "outputs": [],
   "source": [
    "# sns.distplot(data['openingbalance'])\n",
    "# plt.show()"
   ]
  },
  {
   "cell_type": "code",
   "execution_count": 11,
   "id": "43dcf411",
   "metadata": {},
   "outputs": [],
   "source": [
    "mean_value=data['openingbalance'].mean() #fill na value with mean\n",
    "data['openingbalance'].fillna(value=mean_value, inplace=True)"
   ]
  },
  {
   "cell_type": "code",
   "execution_count": 12,
   "id": "091d6d5a",
   "metadata": {},
   "outputs": [
    {
     "data": {
      "text/plain": [
       "0"
      ]
     },
     "execution_count": 12,
     "metadata": {},
     "output_type": "execute_result"
    }
   ],
   "source": [
    "data['openingbalance'].isnull().sum()"
   ]
  },
  {
   "cell_type": "code",
   "execution_count": 13,
   "id": "7b23882f",
   "metadata": {},
   "outputs": [],
   "source": [
    "# sns.distplot(data['openingbalance'])"
   ]
  },
  {
   "cell_type": "code",
   "execution_count": 14,
   "id": "d61f3389",
   "metadata": {},
   "outputs": [
    {
     "data": {
      "text/html": [
       "<div>\n",
       "<style scoped>\n",
       "    .dataframe tbody tr th:only-of-type {\n",
       "        vertical-align: middle;\n",
       "    }\n",
       "\n",
       "    .dataframe tbody tr th {\n",
       "        vertical-align: top;\n",
       "    }\n",
       "\n",
       "    .dataframe thead th {\n",
       "        text-align: right;\n",
       "    }\n",
       "</style>\n",
       "<table border=\"1\" class=\"dataframe\">\n",
       "  <thead>\n",
       "    <tr style=\"text-align: right;\">\n",
       "      <th></th>\n",
       "      <th>Gender</th>\n",
       "      <th>Business</th>\n",
       "      <th>Dependancies</th>\n",
       "      <th>Calls</th>\n",
       "      <th>Type</th>\n",
       "      <th>Billing</th>\n",
       "      <th>Rating</th>\n",
       "      <th>Age</th>\n",
       "      <th>Salary</th>\n",
       "      <th>Base_pay</th>\n",
       "      <th>Bonus</th>\n",
       "      <th>Unit_Price</th>\n",
       "      <th>Volume</th>\n",
       "      <th>openingbalance</th>\n",
       "      <th>closingbalance</th>\n",
       "      <th>low</th>\n",
       "      <th>Unit_Sales</th>\n",
       "      <th>Total_Sales</th>\n",
       "      <th>Months</th>\n",
       "      <th>Education</th>\n",
       "    </tr>\n",
       "  </thead>\n",
       "  <tbody>\n",
       "    <tr>\n",
       "      <th>124</th>\n",
       "      <td>Male</td>\n",
       "      <td>0</td>\n",
       "      <td>No</td>\n",
       "      <td>Yes</td>\n",
       "      <td>Month-to-month</td>\n",
       "      <td>No</td>\n",
       "      <td>No</td>\n",
       "      <td>41</td>\n",
       "      <td>49076.09704</td>\n",
       "      <td>NaN</td>\n",
       "      <td>2453.804852</td>\n",
       "      <td>11.940006</td>\n",
       "      <td>2997000</td>\n",
       "      <td>21.510000</td>\n",
       "      <td>16.260000</td>\n",
       "      <td>8.646090</td>\n",
       "      <td>19.40</td>\n",
       "      <td>25</td>\n",
       "      <td>2</td>\n",
       "      <td>PG</td>\n",
       "    </tr>\n",
       "    <tr>\n",
       "      <th>125</th>\n",
       "      <td>Male</td>\n",
       "      <td>0</td>\n",
       "      <td>Yes</td>\n",
       "      <td>Yes</td>\n",
       "      <td>Two year</td>\n",
       "      <td>No</td>\n",
       "      <td>No</td>\n",
       "      <td>42</td>\n",
       "      <td>49294.09553</td>\n",
       "      <td>NaN</td>\n",
       "      <td>2464.704777</td>\n",
       "      <td>9.280000</td>\n",
       "      <td>14009600</td>\n",
       "      <td>21.900000</td>\n",
       "      <td>15.920000</td>\n",
       "      <td>8.980000</td>\n",
       "      <td>19.40</td>\n",
       "      <td>25.05</td>\n",
       "      <td>2</td>\n",
       "      <td>PG</td>\n",
       "    </tr>\n",
       "    <tr>\n",
       "      <th>126</th>\n",
       "      <td>Female</td>\n",
       "      <td>0</td>\n",
       "      <td>No</td>\n",
       "      <td>Yes</td>\n",
       "      <td>One year</td>\n",
       "      <td>Yes</td>\n",
       "      <td>No</td>\n",
       "      <td>42</td>\n",
       "      <td>49346.69135</td>\n",
       "      <td>NaN</td>\n",
       "      <td>2467.334568</td>\n",
       "      <td>37.200001</td>\n",
       "      <td>1736400</td>\n",
       "      <td>21.915001</td>\n",
       "      <td>15.930000</td>\n",
       "      <td>8.997500</td>\n",
       "      <td>19.40</td>\n",
       "      <td>25.1</td>\n",
       "      <td>2</td>\n",
       "      <td>PG</td>\n",
       "    </tr>\n",
       "    <tr>\n",
       "      <th>127</th>\n",
       "      <td>Male</td>\n",
       "      <td>0</td>\n",
       "      <td>Yes</td>\n",
       "      <td>Yes</td>\n",
       "      <td>Month-to-month</td>\n",
       "      <td>Yes</td>\n",
       "      <td>Yes</td>\n",
       "      <td>42</td>\n",
       "      <td>49359.76469</td>\n",
       "      <td>NaN</td>\n",
       "      <td>2467.988235</td>\n",
       "      <td>36.860001</td>\n",
       "      <td>2457600</td>\n",
       "      <td>21.917500</td>\n",
       "      <td>16.040001</td>\n",
       "      <td>8.810000</td>\n",
       "      <td>19.40</td>\n",
       "      <td>25.1</td>\n",
       "      <td>2</td>\n",
       "      <td>PG</td>\n",
       "    </tr>\n",
       "    <tr>\n",
       "      <th>128</th>\n",
       "      <td>Male</td>\n",
       "      <td>0</td>\n",
       "      <td>Yes</td>\n",
       "      <td>Yes</td>\n",
       "      <td>Two year</td>\n",
       "      <td>Yes</td>\n",
       "      <td>No</td>\n",
       "      <td>42</td>\n",
       "      <td>49372.31057</td>\n",
       "      <td>NaN</td>\n",
       "      <td>2468.615529</td>\n",
       "      <td>37.139999</td>\n",
       "      <td>2994000</td>\n",
       "      <td>22.000000</td>\n",
       "      <td>16.510000</td>\n",
       "      <td>9.050000</td>\n",
       "      <td>19.45</td>\n",
       "      <td>25.15</td>\n",
       "      <td>2</td>\n",
       "      <td>PG</td>\n",
       "    </tr>\n",
       "    <tr>\n",
       "      <th>129</th>\n",
       "      <td>Male</td>\n",
       "      <td>0</td>\n",
       "      <td>No</td>\n",
       "      <td>No</td>\n",
       "      <td>Two year</td>\n",
       "      <td>Yes</td>\n",
       "      <td>No</td>\n",
       "      <td>42</td>\n",
       "      <td>49440.90658</td>\n",
       "      <td>NaN</td>\n",
       "      <td>2472.045329</td>\n",
       "      <td>9.280000</td>\n",
       "      <td>12923000</td>\n",
       "      <td>22.020000</td>\n",
       "      <td>16.302500</td>\n",
       "      <td>8.990000</td>\n",
       "      <td>19.45</td>\n",
       "      <td>25.15</td>\n",
       "      <td>2</td>\n",
       "      <td>PG</td>\n",
       "    </tr>\n",
       "    <tr>\n",
       "      <th>130</th>\n",
       "      <td>Male</td>\n",
       "      <td>0</td>\n",
       "      <td>Yes</td>\n",
       "      <td>Yes</td>\n",
       "      <td>One year</td>\n",
       "      <td>No</td>\n",
       "      <td>No</td>\n",
       "      <td>42</td>\n",
       "      <td>49492.58316</td>\n",
       "      <td>NaN</td>\n",
       "      <td>2474.629158</td>\n",
       "      <td>9.160000</td>\n",
       "      <td>8951500</td>\n",
       "      <td>22.150000</td>\n",
       "      <td>16.650000</td>\n",
       "      <td>9.000000</td>\n",
       "      <td>19.45</td>\n",
       "      <td>25.2</td>\n",
       "      <td>2</td>\n",
       "      <td>PG</td>\n",
       "    </tr>\n",
       "    <tr>\n",
       "      <th>131</th>\n",
       "      <td>Female</td>\n",
       "      <td>0</td>\n",
       "      <td>Yes</td>\n",
       "      <td>Yes</td>\n",
       "      <td>Month-to-month</td>\n",
       "      <td>No</td>\n",
       "      <td>No</td>\n",
       "      <td>42</td>\n",
       "      <td>49513.92593</td>\n",
       "      <td>NaN</td>\n",
       "      <td>2475.696297</td>\n",
       "      <td>37.599998</td>\n",
       "      <td>1442000</td>\n",
       "      <td>22.209999</td>\n",
       "      <td>16.370001</td>\n",
       "      <td>8.987500</td>\n",
       "      <td>19.45</td>\n",
       "      <td>25.2</td>\n",
       "      <td>2</td>\n",
       "      <td>PG</td>\n",
       "    </tr>\n",
       "    <tr>\n",
       "      <th>132</th>\n",
       "      <td>Female</td>\n",
       "      <td>0</td>\n",
       "      <td>No</td>\n",
       "      <td>Yes</td>\n",
       "      <td>Month-to-month</td>\n",
       "      <td>Yes</td>\n",
       "      <td>No</td>\n",
       "      <td>42</td>\n",
       "      <td>49522.33256</td>\n",
       "      <td>NaN</td>\n",
       "      <td>2476.116628</td>\n",
       "      <td>9.520000</td>\n",
       "      <td>20174500</td>\n",
       "      <td>22.219999</td>\n",
       "      <td>16.416666</td>\n",
       "      <td>9.090000</td>\n",
       "      <td>19.45</td>\n",
       "      <td>25.25</td>\n",
       "      <td>2</td>\n",
       "      <td>PG</td>\n",
       "    </tr>\n",
       "    <tr>\n",
       "      <th>133</th>\n",
       "      <td>Male</td>\n",
       "      <td>0</td>\n",
       "      <td>Yes</td>\n",
       "      <td>Yes</td>\n",
       "      <td>Two year</td>\n",
       "      <td>No</td>\n",
       "      <td>No</td>\n",
       "      <td>42</td>\n",
       "      <td>49599.97686</td>\n",
       "      <td>NaN</td>\n",
       "      <td>2479.998843</td>\n",
       "      <td>37.680000</td>\n",
       "      <td>2887200</td>\n",
       "      <td>22.309999</td>\n",
       "      <td>16.440001</td>\n",
       "      <td>9.040000</td>\n",
       "      <td>19.45</td>\n",
       "      <td>25.25</td>\n",
       "      <td>2</td>\n",
       "      <td>PG</td>\n",
       "    </tr>\n",
       "    <tr>\n",
       "      <th>134</th>\n",
       "      <td>Female</td>\n",
       "      <td>0</td>\n",
       "      <td>No</td>\n",
       "      <td>Yes</td>\n",
       "      <td>Month-to-month</td>\n",
       "      <td>No</td>\n",
       "      <td>Yes</td>\n",
       "      <td>42</td>\n",
       "      <td>49620.03534</td>\n",
       "      <td>NaN</td>\n",
       "      <td>2481.001767</td>\n",
       "      <td>9.210000</td>\n",
       "      <td>3644500</td>\n",
       "      <td>22.360001</td>\n",
       "      <td>16.443333</td>\n",
       "      <td>8.850000</td>\n",
       "      <td>19.45</td>\n",
       "      <td>25.25</td>\n",
       "      <td>2</td>\n",
       "      <td>PG</td>\n",
       "    </tr>\n",
       "    <tr>\n",
       "      <th>135</th>\n",
       "      <td>Female</td>\n",
       "      <td>0</td>\n",
       "      <td>Yes</td>\n",
       "      <td>Yes</td>\n",
       "      <td>Month-to-month</td>\n",
       "      <td>Yes</td>\n",
       "      <td>No</td>\n",
       "      <td>42</td>\n",
       "      <td>49722.22242</td>\n",
       "      <td>NaN</td>\n",
       "      <td>2486.111121</td>\n",
       "      <td>9.190000</td>\n",
       "      <td>10789600</td>\n",
       "      <td>22.422501</td>\n",
       "      <td>16.770000</td>\n",
       "      <td>8.990000</td>\n",
       "      <td>19.45</td>\n",
       "      <td>25.35</td>\n",
       "      <td>2</td>\n",
       "      <td>PG</td>\n",
       "    </tr>\n",
       "    <tr>\n",
       "      <th>136</th>\n",
       "      <td>Female</td>\n",
       "      <td>0</td>\n",
       "      <td>Yes</td>\n",
       "      <td>Yes</td>\n",
       "      <td>One year</td>\n",
       "      <td>Yes</td>\n",
       "      <td>No</td>\n",
       "      <td>42</td>\n",
       "      <td>49949.11079</td>\n",
       "      <td>NaN</td>\n",
       "      <td>2497.455540</td>\n",
       "      <td>36.779999</td>\n",
       "      <td>2452800</td>\n",
       "      <td>22.490000</td>\n",
       "      <td>16.466667</td>\n",
       "      <td>8.912501</td>\n",
       "      <td>19.45</td>\n",
       "      <td>25.4</td>\n",
       "      <td>2</td>\n",
       "      <td>PG</td>\n",
       "    </tr>\n",
       "    <tr>\n",
       "      <th>137</th>\n",
       "      <td>Male</td>\n",
       "      <td>1</td>\n",
       "      <td>No</td>\n",
       "      <td>Yes</td>\n",
       "      <td>Month-to-month</td>\n",
       "      <td>Yes</td>\n",
       "      <td>No</td>\n",
       "      <td>42</td>\n",
       "      <td>50098.84397</td>\n",
       "      <td>NaN</td>\n",
       "      <td>2504.942199</td>\n",
       "      <td>9.240000</td>\n",
       "      <td>15365800</td>\n",
       "      <td>22.549999</td>\n",
       "      <td>16.680000</td>\n",
       "      <td>9.040000</td>\n",
       "      <td>19.45</td>\n",
       "      <td>25.7</td>\n",
       "      <td>2</td>\n",
       "      <td>PG</td>\n",
       "    </tr>\n",
       "    <tr>\n",
       "      <th>138</th>\n",
       "      <td>Male</td>\n",
       "      <td>0</td>\n",
       "      <td>No</td>\n",
       "      <td>No</td>\n",
       "      <td>One year</td>\n",
       "      <td>Yes</td>\n",
       "      <td>No</td>\n",
       "      <td>42</td>\n",
       "      <td>50405.21287</td>\n",
       "      <td>NaN</td>\n",
       "      <td>2520.260644</td>\n",
       "      <td>12.099999</td>\n",
       "      <td>4165100</td>\n",
       "      <td>22.600000</td>\n",
       "      <td>16.699030</td>\n",
       "      <td>9.093429</td>\n",
       "      <td>19.45</td>\n",
       "      <td>25.75</td>\n",
       "      <td>2</td>\n",
       "      <td>PG</td>\n",
       "    </tr>\n",
       "    <tr>\n",
       "      <th>139</th>\n",
       "      <td>Female</td>\n",
       "      <td>0</td>\n",
       "      <td>Yes</td>\n",
       "      <td>Yes</td>\n",
       "      <td>Month-to-month</td>\n",
       "      <td>No</td>\n",
       "      <td>No</td>\n",
       "      <td>42</td>\n",
       "      <td>50409.97121</td>\n",
       "      <td>NaN</td>\n",
       "      <td>2520.498561</td>\n",
       "      <td>12.099999</td>\n",
       "      <td>3865300</td>\n",
       "      <td>22.635000</td>\n",
       "      <td>16.969999</td>\n",
       "      <td>8.599809</td>\n",
       "      <td>19.45</td>\n",
       "      <td>25.8</td>\n",
       "      <td>2</td>\n",
       "      <td>PG</td>\n",
       "    </tr>\n",
       "    <tr>\n",
       "      <th>140</th>\n",
       "      <td>Male</td>\n",
       "      <td>0</td>\n",
       "      <td>No</td>\n",
       "      <td>Yes</td>\n",
       "      <td>One year</td>\n",
       "      <td>No</td>\n",
       "      <td>No</td>\n",
       "      <td>42</td>\n",
       "      <td>50806.60095</td>\n",
       "      <td>NaN</td>\n",
       "      <td>2540.330048</td>\n",
       "      <td>13.000004</td>\n",
       "      <td>5030100</td>\n",
       "      <td>22.720000</td>\n",
       "      <td>16.836666</td>\n",
       "      <td>9.101150</td>\n",
       "      <td>19.45</td>\n",
       "      <td>27.55</td>\n",
       "      <td>2</td>\n",
       "      <td>PG</td>\n",
       "    </tr>\n",
       "    <tr>\n",
       "      <th>141</th>\n",
       "      <td>Female</td>\n",
       "      <td>1</td>\n",
       "      <td>No</td>\n",
       "      <td>Yes</td>\n",
       "      <td>Month-to-month</td>\n",
       "      <td>Yes</td>\n",
       "      <td>Yes</td>\n",
       "      <td>42</td>\n",
       "      <td>50938.79543</td>\n",
       "      <td>NaN</td>\n",
       "      <td>2546.939772</td>\n",
       "      <td>9.320000</td>\n",
       "      <td>1666600</td>\n",
       "      <td>22.781891</td>\n",
       "      <td>16.750000</td>\n",
       "      <td>8.970000</td>\n",
       "      <td>19.45</td>\n",
       "      <td>28.3</td>\n",
       "      <td>2</td>\n",
       "      <td>PG</td>\n",
       "    </tr>\n",
       "    <tr>\n",
       "      <th>142</th>\n",
       "      <td>Female</td>\n",
       "      <td>0</td>\n",
       "      <td>Yes</td>\n",
       "      <td>Yes</td>\n",
       "      <td>Month-to-month</td>\n",
       "      <td>No</td>\n",
       "      <td>Yes</td>\n",
       "      <td>42</td>\n",
       "      <td>51076.89690</td>\n",
       "      <td>NaN</td>\n",
       "      <td>2553.844845</td>\n",
       "      <td>37.770000</td>\n",
       "      <td>1028400</td>\n",
       "      <td>22.800000</td>\n",
       "      <td>17.193781</td>\n",
       "      <td>9.302500</td>\n",
       "      <td>19.45</td>\n",
       "      <td>29.15</td>\n",
       "      <td>2</td>\n",
       "      <td>PG</td>\n",
       "    </tr>\n",
       "    <tr>\n",
       "      <th>143</th>\n",
       "      <td>Male</td>\n",
       "      <td>0</td>\n",
       "      <td>No</td>\n",
       "      <td>Yes</td>\n",
       "      <td>Month-to-month</td>\n",
       "      <td>No</td>\n",
       "      <td>Yes</td>\n",
       "      <td>42</td>\n",
       "      <td>51080.49092</td>\n",
       "      <td>NaN</td>\n",
       "      <td>2554.024546</td>\n",
       "      <td>12.949997</td>\n",
       "      <td>2199300</td>\n",
       "      <td>22.930000</td>\n",
       "      <td>16.670000</td>\n",
       "      <td>9.155140</td>\n",
       "      <td>19.45</td>\n",
       "      <td>29.85</td>\n",
       "      <td>2</td>\n",
       "      <td>PG</td>\n",
       "    </tr>\n",
       "    <tr>\n",
       "      <th>144</th>\n",
       "      <td>Female</td>\n",
       "      <td>1</td>\n",
       "      <td>No</td>\n",
       "      <td>Yes</td>\n",
       "      <td>One year</td>\n",
       "      <td>No</td>\n",
       "      <td>No</td>\n",
       "      <td>42</td>\n",
       "      <td>51087.80513</td>\n",
       "      <td>NaN</td>\n",
       "      <td>2554.390257</td>\n",
       "      <td>9.620000</td>\n",
       "      <td>14560200</td>\n",
       "      <td>22.950001</td>\n",
       "      <td>17.000000</td>\n",
       "      <td>9.410000</td>\n",
       "      <td>19.45</td>\n",
       "      <td>29.9</td>\n",
       "      <td>2</td>\n",
       "      <td>PG</td>\n",
       "    </tr>\n",
       "    <tr>\n",
       "      <th>145</th>\n",
       "      <td>Male</td>\n",
       "      <td>0</td>\n",
       "      <td>No</td>\n",
       "      <td>Yes</td>\n",
       "      <td>Month-to-month</td>\n",
       "      <td>Yes</td>\n",
       "      <td>Yes</td>\n",
       "      <td>42</td>\n",
       "      <td>51338.70016</td>\n",
       "      <td>NaN</td>\n",
       "      <td>2566.935008</td>\n",
       "      <td>38.220001</td>\n",
       "      <td>1298800</td>\n",
       "      <td>23.100001</td>\n",
       "      <td>17.695000</td>\n",
       "      <td>9.447500</td>\n",
       "      <td>19.45</td>\n",
       "      <td>29.95</td>\n",
       "      <td>2</td>\n",
       "      <td>PG</td>\n",
       "    </tr>\n",
       "    <tr>\n",
       "      <th>146</th>\n",
       "      <td>Male</td>\n",
       "      <td>0</td>\n",
       "      <td>No</td>\n",
       "      <td>Yes</td>\n",
       "      <td>Month-to-month</td>\n",
       "      <td>Yes</td>\n",
       "      <td>No</td>\n",
       "      <td>43</td>\n",
       "      <td>51601.62583</td>\n",
       "      <td>NaN</td>\n",
       "      <td>2580.081292</td>\n",
       "      <td>9.500000</td>\n",
       "      <td>16701400</td>\n",
       "      <td>23.120001</td>\n",
       "      <td>16.920000</td>\n",
       "      <td>9.240000</td>\n",
       "      <td>19.45</td>\n",
       "      <td>30.2</td>\n",
       "      <td>2</td>\n",
       "      <td>PG</td>\n",
       "    </tr>\n",
       "  </tbody>\n",
       "</table>\n",
       "</div>"
      ],
      "text/plain": [
       "     Gender  Business Dependancies Calls            Type Billing Rating  Age  \\\n",
       "124    Male         0           No   Yes  Month-to-month      No     No   41   \n",
       "125    Male         0          Yes   Yes        Two year      No     No   42   \n",
       "126  Female         0           No   Yes        One year     Yes     No   42   \n",
       "127    Male         0          Yes   Yes  Month-to-month     Yes    Yes   42   \n",
       "128    Male         0          Yes   Yes        Two year     Yes     No   42   \n",
       "129    Male         0           No    No        Two year     Yes     No   42   \n",
       "130    Male         0          Yes   Yes        One year      No     No   42   \n",
       "131  Female         0          Yes   Yes  Month-to-month      No     No   42   \n",
       "132  Female         0           No   Yes  Month-to-month     Yes     No   42   \n",
       "133    Male         0          Yes   Yes        Two year      No     No   42   \n",
       "134  Female         0           No   Yes  Month-to-month      No    Yes   42   \n",
       "135  Female         0          Yes   Yes  Month-to-month     Yes     No   42   \n",
       "136  Female         0          Yes   Yes        One year     Yes     No   42   \n",
       "137    Male         1           No   Yes  Month-to-month     Yes     No   42   \n",
       "138    Male         0           No    No        One year     Yes     No   42   \n",
       "139  Female         0          Yes   Yes  Month-to-month      No     No   42   \n",
       "140    Male         0           No   Yes        One year      No     No   42   \n",
       "141  Female         1           No   Yes  Month-to-month     Yes    Yes   42   \n",
       "142  Female         0          Yes   Yes  Month-to-month      No    Yes   42   \n",
       "143    Male         0           No   Yes  Month-to-month      No    Yes   42   \n",
       "144  Female         1           No   Yes        One year      No     No   42   \n",
       "145    Male         0           No   Yes  Month-to-month     Yes    Yes   42   \n",
       "146    Male         0           No   Yes  Month-to-month     Yes     No   43   \n",
       "\n",
       "          Salary  Base_pay        Bonus  Unit_Price    Volume  openingbalance  \\\n",
       "124  49076.09704       NaN  2453.804852   11.940006   2997000       21.510000   \n",
       "125  49294.09553       NaN  2464.704777    9.280000  14009600       21.900000   \n",
       "126  49346.69135       NaN  2467.334568   37.200001   1736400       21.915001   \n",
       "127  49359.76469       NaN  2467.988235   36.860001   2457600       21.917500   \n",
       "128  49372.31057       NaN  2468.615529   37.139999   2994000       22.000000   \n",
       "129  49440.90658       NaN  2472.045329    9.280000  12923000       22.020000   \n",
       "130  49492.58316       NaN  2474.629158    9.160000   8951500       22.150000   \n",
       "131  49513.92593       NaN  2475.696297   37.599998   1442000       22.209999   \n",
       "132  49522.33256       NaN  2476.116628    9.520000  20174500       22.219999   \n",
       "133  49599.97686       NaN  2479.998843   37.680000   2887200       22.309999   \n",
       "134  49620.03534       NaN  2481.001767    9.210000   3644500       22.360001   \n",
       "135  49722.22242       NaN  2486.111121    9.190000  10789600       22.422501   \n",
       "136  49949.11079       NaN  2497.455540   36.779999   2452800       22.490000   \n",
       "137  50098.84397       NaN  2504.942199    9.240000  15365800       22.549999   \n",
       "138  50405.21287       NaN  2520.260644   12.099999   4165100       22.600000   \n",
       "139  50409.97121       NaN  2520.498561   12.099999   3865300       22.635000   \n",
       "140  50806.60095       NaN  2540.330048   13.000004   5030100       22.720000   \n",
       "141  50938.79543       NaN  2546.939772    9.320000   1666600       22.781891   \n",
       "142  51076.89690       NaN  2553.844845   37.770000   1028400       22.800000   \n",
       "143  51080.49092       NaN  2554.024546   12.949997   2199300       22.930000   \n",
       "144  51087.80513       NaN  2554.390257    9.620000  14560200       22.950001   \n",
       "145  51338.70016       NaN  2566.935008   38.220001   1298800       23.100001   \n",
       "146  51601.62583       NaN  2580.081292    9.500000  16701400       23.120001   \n",
       "\n",
       "     closingbalance       low  Unit_Sales Total_Sales  Months Education  \n",
       "124       16.260000  8.646090       19.40          25       2        PG  \n",
       "125       15.920000  8.980000       19.40       25.05       2        PG  \n",
       "126       15.930000  8.997500       19.40        25.1       2        PG  \n",
       "127       16.040001  8.810000       19.40        25.1       2        PG  \n",
       "128       16.510000  9.050000       19.45       25.15       2        PG  \n",
       "129       16.302500  8.990000       19.45       25.15       2        PG  \n",
       "130       16.650000  9.000000       19.45        25.2       2        PG  \n",
       "131       16.370001  8.987500       19.45        25.2       2        PG  \n",
       "132       16.416666  9.090000       19.45       25.25       2        PG  \n",
       "133       16.440001  9.040000       19.45       25.25       2        PG  \n",
       "134       16.443333  8.850000       19.45       25.25       2        PG  \n",
       "135       16.770000  8.990000       19.45       25.35       2        PG  \n",
       "136       16.466667  8.912501       19.45        25.4       2        PG  \n",
       "137       16.680000  9.040000       19.45        25.7       2        PG  \n",
       "138       16.699030  9.093429       19.45       25.75       2        PG  \n",
       "139       16.969999  8.599809       19.45        25.8       2        PG  \n",
       "140       16.836666  9.101150       19.45       27.55       2        PG  \n",
       "141       16.750000  8.970000       19.45        28.3       2        PG  \n",
       "142       17.193781  9.302500       19.45       29.15       2        PG  \n",
       "143       16.670000  9.155140       19.45       29.85       2        PG  \n",
       "144       17.000000  9.410000       19.45        29.9       2        PG  \n",
       "145       17.695000  9.447500       19.45       29.95       2        PG  \n",
       "146       16.920000  9.240000       19.45        30.2       2        PG  "
      ]
     },
     "execution_count": 14,
     "metadata": {},
     "output_type": "execute_result"
    }
   ],
   "source": [
    "data[data['Base_pay'].isnull()] "
   ]
  },
  {
   "cell_type": "code",
   "execution_count": 15,
   "id": "12a6ab40",
   "metadata": {},
   "outputs": [],
   "source": [
    "# sns.distplot(data['Base_pay'])"
   ]
  },
  {
   "cell_type": "code",
   "execution_count": 16,
   "id": "aefb52a7",
   "metadata": {},
   "outputs": [
    {
     "data": {
      "text/plain": [
       "23"
      ]
     },
     "execution_count": 16,
     "metadata": {},
     "output_type": "execute_result"
    }
   ],
   "source": [
    "data['Base_pay'].isnull().sum()"
   ]
  },
  {
   "cell_type": "code",
   "execution_count": 17,
   "id": "d698ede9",
   "metadata": {},
   "outputs": [],
   "source": [
    "mean_value_basepay=data['Base_pay'].mean() #fill na value with mean\n",
    "data['Base_pay'].fillna(value=mean_value, inplace=True)"
   ]
  },
  {
   "cell_type": "code",
   "execution_count": 18,
   "id": "07cf3867",
   "metadata": {},
   "outputs": [
    {
     "data": {
      "text/plain": [
       "0"
      ]
     },
     "execution_count": 18,
     "metadata": {},
     "output_type": "execute_result"
    }
   ],
   "source": [
    "data['Base_pay'].isnull().sum()"
   ]
  },
  {
   "cell_type": "code",
   "execution_count": 19,
   "id": "270a5751",
   "metadata": {},
   "outputs": [],
   "source": [
    "# sns.distplot(data['Base_pay'])"
   ]
  },
  {
   "cell_type": "code",
   "execution_count": 20,
   "id": "cc335bc7",
   "metadata": {},
   "outputs": [
    {
     "data": {
      "text/plain": [
       "8"
      ]
     },
     "execution_count": 20,
     "metadata": {},
     "output_type": "execute_result"
    }
   ],
   "source": [
    "data['Total_Sales'].isnull().sum()"
   ]
  },
  {
   "cell_type": "code",
   "execution_count": 21,
   "id": "45301a2b",
   "metadata": {},
   "outputs": [],
   "source": [
    "data['Total_Sales'] = pd.to_numeric(data['Total_Sales'], downcast='float',errors='coerce') #convert the string data type to float data type, with help of pandas"
   ]
  },
  {
   "cell_type": "code",
   "execution_count": 22,
   "id": "c743f4a6",
   "metadata": {},
   "outputs": [],
   "source": [
    "# sns.distplot(data['Total_Sales'])"
   ]
  },
  {
   "cell_type": "code",
   "execution_count": 23,
   "id": "fef99df1",
   "metadata": {},
   "outputs": [],
   "source": [
    "mean_value_totalSales=data['Total_Sales'].mean() #fill na with mean value\n",
    "data['Total_Sales'].fillna(value=mean_value, inplace=True)"
   ]
  },
  {
   "cell_type": "code",
   "execution_count": 24,
   "id": "28f4b364",
   "metadata": {},
   "outputs": [
    {
     "name": "stdout",
     "output_type": "stream",
     "text": [
      "There is no duplicated rows\n",
      "\n"
     ]
    }
   ],
   "source": [
    "dup = data[data.duplicated()] #checking for duplicated rows, if there is duplicated will print yes else no.\n",
    "if(dup.empty):\n",
    "    print(\"There is no duplicated rows\\n\")\n",
    "else:\n",
    "    print(\"There is duplicated rows:\\n\")"
   ]
  },
  {
   "cell_type": "markdown",
   "id": "4fa78511",
   "metadata": {},
   "source": [
    "# EDA"
   ]
  },
  {
   "cell_type": "code",
   "execution_count": 25,
   "id": "b433e933",
   "metadata": {},
   "outputs": [
    {
     "data": {
      "text/html": [
       "<div>\n",
       "<style scoped>\n",
       "    .dataframe tbody tr th:only-of-type {\n",
       "        vertical-align: middle;\n",
       "    }\n",
       "\n",
       "    .dataframe tbody tr th {\n",
       "        vertical-align: top;\n",
       "    }\n",
       "\n",
       "    .dataframe thead th {\n",
       "        text-align: right;\n",
       "    }\n",
       "</style>\n",
       "<table border=\"1\" class=\"dataframe\">\n",
       "  <thead>\n",
       "    <tr style=\"text-align: right;\">\n",
       "      <th></th>\n",
       "      <th>Gender</th>\n",
       "      <th>Business</th>\n",
       "      <th>Dependancies</th>\n",
       "      <th>Calls</th>\n",
       "      <th>Type</th>\n",
       "      <th>Billing</th>\n",
       "      <th>Rating</th>\n",
       "      <th>Age</th>\n",
       "      <th>Salary</th>\n",
       "      <th>Base_pay</th>\n",
       "      <th>Bonus</th>\n",
       "      <th>Unit_Price</th>\n",
       "      <th>Volume</th>\n",
       "      <th>openingbalance</th>\n",
       "      <th>closingbalance</th>\n",
       "      <th>low</th>\n",
       "      <th>Unit_Sales</th>\n",
       "      <th>Total_Sales</th>\n",
       "      <th>Months</th>\n",
       "      <th>Education</th>\n",
       "    </tr>\n",
       "  </thead>\n",
       "  <tbody>\n",
       "    <tr>\n",
       "      <th>0</th>\n",
       "      <td>Female</td>\n",
       "      <td>0</td>\n",
       "      <td>No</td>\n",
       "      <td>Yes</td>\n",
       "      <td>Month-to-month</td>\n",
       "      <td>No</td>\n",
       "      <td>Yes</td>\n",
       "      <td>18</td>\n",
       "      <td>5089.00</td>\n",
       "      <td>2035.600</td>\n",
       "      <td>254.4500</td>\n",
       "      <td>3.77</td>\n",
       "      <td>21226600</td>\n",
       "      <td>3.75</td>\n",
       "      <td>3.76</td>\n",
       "      <td>3.65</td>\n",
       "      <td>18.25</td>\n",
       "      <td>18.799999</td>\n",
       "      <td>0</td>\n",
       "      <td>High School or less</td>\n",
       "    </tr>\n",
       "    <tr>\n",
       "      <th>1</th>\n",
       "      <td>Female</td>\n",
       "      <td>0</td>\n",
       "      <td>No</td>\n",
       "      <td>Yes</td>\n",
       "      <td>Month-to-month</td>\n",
       "      <td>No</td>\n",
       "      <td>Yes</td>\n",
       "      <td>19</td>\n",
       "      <td>5698.12</td>\n",
       "      <td>2279.248</td>\n",
       "      <td>284.9060</td>\n",
       "      <td>3.74</td>\n",
       "      <td>10462800</td>\n",
       "      <td>3.85</td>\n",
       "      <td>3.68</td>\n",
       "      <td>3.65</td>\n",
       "      <td>18.40</td>\n",
       "      <td>18.850000</td>\n",
       "      <td>0</td>\n",
       "      <td>High School or less</td>\n",
       "    </tr>\n",
       "    <tr>\n",
       "      <th>2</th>\n",
       "      <td>Male</td>\n",
       "      <td>0</td>\n",
       "      <td>No</td>\n",
       "      <td>Yes</td>\n",
       "      <td>Month-to-month</td>\n",
       "      <td>Yes</td>\n",
       "      <td>No</td>\n",
       "      <td>22</td>\n",
       "      <td>5896.65</td>\n",
       "      <td>2358.660</td>\n",
       "      <td>294.8325</td>\n",
       "      <td>3.89</td>\n",
       "      <td>18761000</td>\n",
       "      <td>4.23</td>\n",
       "      <td>4.29</td>\n",
       "      <td>3.72</td>\n",
       "      <td>18.70</td>\n",
       "      <td>18.900000</td>\n",
       "      <td>0</td>\n",
       "      <td>High School or less</td>\n",
       "    </tr>\n",
       "    <tr>\n",
       "      <th>3</th>\n",
       "      <td>Female</td>\n",
       "      <td>1</td>\n",
       "      <td>No</td>\n",
       "      <td>Yes</td>\n",
       "      <td>Month-to-month</td>\n",
       "      <td>Yes</td>\n",
       "      <td>Yes</td>\n",
       "      <td>21</td>\n",
       "      <td>6125.12</td>\n",
       "      <td>2450.048</td>\n",
       "      <td>306.2560</td>\n",
       "      <td>4.35</td>\n",
       "      <td>66130600</td>\n",
       "      <td>4.26</td>\n",
       "      <td>4.31</td>\n",
       "      <td>3.83</td>\n",
       "      <td>18.75</td>\n",
       "      <td>19.000000</td>\n",
       "      <td>0</td>\n",
       "      <td>High School or less</td>\n",
       "    </tr>\n",
       "    <tr>\n",
       "      <th>4</th>\n",
       "      <td>Male</td>\n",
       "      <td>0</td>\n",
       "      <td>No</td>\n",
       "      <td>Yes</td>\n",
       "      <td>Month-to-month</td>\n",
       "      <td>Yes</td>\n",
       "      <td>Yes</td>\n",
       "      <td>23</td>\n",
       "      <td>6245.00</td>\n",
       "      <td>2498.000</td>\n",
       "      <td>312.2500</td>\n",
       "      <td>4.34</td>\n",
       "      <td>26868200</td>\n",
       "      <td>4.79</td>\n",
       "      <td>4.41</td>\n",
       "      <td>4.08</td>\n",
       "      <td>18.80</td>\n",
       "      <td>19.049999</td>\n",
       "      <td>1</td>\n",
       "      <td>High School or less</td>\n",
       "    </tr>\n",
       "  </tbody>\n",
       "</table>\n",
       "</div>"
      ],
      "text/plain": [
       "   Gender  Business Dependancies Calls            Type Billing Rating  Age  \\\n",
       "0  Female         0           No   Yes  Month-to-month      No    Yes   18   \n",
       "1  Female         0           No   Yes  Month-to-month      No    Yes   19   \n",
       "2    Male         0           No   Yes  Month-to-month     Yes     No   22   \n",
       "3  Female         1           No   Yes  Month-to-month     Yes    Yes   21   \n",
       "4    Male         0           No   Yes  Month-to-month     Yes    Yes   23   \n",
       "\n",
       "    Salary  Base_pay     Bonus  Unit_Price    Volume  openingbalance  \\\n",
       "0  5089.00  2035.600  254.4500        3.77  21226600            3.75   \n",
       "1  5698.12  2279.248  284.9060        3.74  10462800            3.85   \n",
       "2  5896.65  2358.660  294.8325        3.89  18761000            4.23   \n",
       "3  6125.12  2450.048  306.2560        4.35  66130600            4.26   \n",
       "4  6245.00  2498.000  312.2500        4.34  26868200            4.79   \n",
       "\n",
       "   closingbalance   low  Unit_Sales  Total_Sales  Months            Education  \n",
       "0            3.76  3.65       18.25    18.799999       0  High School or less  \n",
       "1            3.68  3.65       18.40    18.850000       0  High School or less  \n",
       "2            4.29  3.72       18.70    18.900000       0  High School or less  \n",
       "3            4.31  3.83       18.75    19.000000       0  High School or less  \n",
       "4            4.41  4.08       18.80    19.049999       1  High School or less  "
      ]
     },
     "execution_count": 25,
     "metadata": {},
     "output_type": "execute_result"
    }
   ],
   "source": [
    "data.head()"
   ]
  },
  {
   "cell_type": "markdown",
   "id": "393c72d5",
   "metadata": {},
   "source": [
    "### The relationship between categorical variables and the dependent variable"
   ]
  },
  {
   "cell_type": "code",
   "execution_count": 26,
   "id": "814f9361",
   "metadata": {},
   "outputs": [
    {
     "data": {
      "image/png": "[encoded data removed]",
      "text/plain": [
       "<Figure size 1152x648 with 2 Axes>"
      ]
     },
     "metadata": {
      "needs_background": "light"
     },
     "output_type": "display_data"
    }
   ],
   "source": [
    "fig, axes = plt.subplots(1, 2,figsize=(16,9))\n",
    "sns.boxplot(x='Gender', y='Salary',data=data, ax=axes[0])\n",
    "sns.boxplot(x='Business', y='Salary',data=data, ax=axes[1])\n",
    "plt.show()"
   ]
  },
  {
   "cell_type": "code",
   "execution_count": 27,
   "id": "604b165e",
   "metadata": {},
   "outputs": [
    {
     "data": {
      "image/png": "[encoded data removed]",
      "text/plain": [
       "<Figure size 1152x648 with 2 Axes>"
      ]
     },
     "metadata": {
      "needs_background": "light"
     },
     "output_type": "display_data"
    }
   ],
   "source": [
    "fig, axes = plt.subplots(1, 2,figsize=(16,9))\n",
    "sns.boxplot(x='Calls', y='Salary',data=data, ax=axes[0])\n",
    "sns.boxplot(x='Type', y='Salary',data=data, ax=axes[1])\n",
    "plt.show()"
   ]
  },
  {
   "cell_type": "code",
   "execution_count": 28,
   "id": "49e4be5b",
   "metadata": {},
   "outputs": [
    {
     "data": {
      "image/png": "[encoded data removed]",
      "text/plain": [
       "<Figure size 1152x648 with 2 Axes>"
      ]
     },
     "metadata": {
      "needs_background": "light"
     },
     "output_type": "display_data"
    }
   ],
   "source": [
    "fig, axes = plt.subplots(1, 2,figsize=(16,9))\n",
    "sns.boxplot(x='Billing', y='Salary',data=data, ax=axes[0])\n",
    "sns.boxplot(x='Rating', y='Salary',data=data, ax=axes[1])\n",
    "plt.show()"
   ]
  },
  {
   "cell_type": "code",
   "execution_count": 29,
   "id": "36ab2f93",
   "metadata": {},
   "outputs": [
    {
     "data": {
      "image/png": "[encoded data removed]",
      "text/plain": [
       "<Figure size 720x360 with 1 Axes>"
      ]
     },
     "metadata": {
      "needs_background": "light"
     },
     "output_type": "display_data"
    }
   ],
   "source": [
    "plt.figure(figsize=(10,5))\n",
    "sns.boxplot(x='Education', y='Salary',data=data)\n",
    "plt.show()"
   ]
  },
  {
   "cell_type": "markdown",
   "id": "449d0e78",
   "metadata": {},
   "source": [
    "By above all boxplot we can conclude Salary with all categorical value are not more differenecs, Excepted 'Salary' and'Education' data.\n",
    "Where higher Education qualification give the higher salary."
   ]
  },
  {
   "cell_type": "code",
   "execution_count": 30,
   "id": "1585fc5b",
   "metadata": {},
   "outputs": [],
   "source": [
    "data = data.drop(['Gender','Business','Calls','Type','Billing','Rating'],axis=1)"
   ]
  },
  {
   "cell_type": "code",
   "execution_count": 31,
   "id": "30dc86bd",
   "metadata": {},
   "outputs": [
    {
     "data": {
      "text/plain": [
       "No     3524\n",
       "Yes    1476\n",
       "Name: Dependancies, dtype: int64"
      ]
     },
     "execution_count": 31,
     "metadata": {},
     "output_type": "execute_result"
    }
   ],
   "source": [
    "data['Dependancies'].value_counts()"
   ]
  },
  {
   "cell_type": "code",
   "execution_count": 32,
   "id": "527b4b61",
   "metadata": {},
   "outputs": [
    {
     "data": {
      "image/png": "[encoded data removed]",
      "text/plain": [
       "<Figure size 720x360 with 1 Axes>"
      ]
     },
     "metadata": {
      "needs_background": "light"
     },
     "output_type": "display_data"
    }
   ],
   "source": [
    "plt.figure(figsize=(10,5))\n",
    "sns.boxplot(x='Dependancies', y='Salary',data=data)\n",
    "plt.show()"
   ]
  },
  {
   "cell_type": "code",
   "execution_count": 33,
   "id": "98359e9d",
   "metadata": {},
   "outputs": [],
   "source": [
    "data = data.drop('Dependancies',axis=1)"
   ]
  },
  {
   "cell_type": "code",
   "execution_count": 34,
   "id": "dcb31182",
   "metadata": {},
   "outputs": [
    {
     "data": {
      "text/html": [
       "<div>\n",
       "<style scoped>\n",
       "    .dataframe tbody tr th:only-of-type {\n",
       "        vertical-align: middle;\n",
       "    }\n",
       "\n",
       "    .dataframe tbody tr th {\n",
       "        vertical-align: top;\n",
       "    }\n",
       "\n",
       "    .dataframe thead th {\n",
       "        text-align: right;\n",
       "    }\n",
       "</style>\n",
       "<table border=\"1\" class=\"dataframe\">\n",
       "  <thead>\n",
       "    <tr style=\"text-align: right;\">\n",
       "      <th></th>\n",
       "      <th>Age</th>\n",
       "      <th>Salary</th>\n",
       "      <th>Base_pay</th>\n",
       "      <th>Bonus</th>\n",
       "      <th>Unit_Price</th>\n",
       "      <th>Volume</th>\n",
       "      <th>openingbalance</th>\n",
       "      <th>closingbalance</th>\n",
       "      <th>low</th>\n",
       "      <th>Unit_Sales</th>\n",
       "      <th>Total_Sales</th>\n",
       "      <th>Months</th>\n",
       "      <th>Education</th>\n",
       "    </tr>\n",
       "  </thead>\n",
       "  <tbody>\n",
       "    <tr>\n",
       "      <th>0</th>\n",
       "      <td>18</td>\n",
       "      <td>5089.00</td>\n",
       "      <td>2035.600</td>\n",
       "      <td>254.4500</td>\n",
       "      <td>3.770000</td>\n",
       "      <td>21226600</td>\n",
       "      <td>3.75000</td>\n",
       "      <td>3.760000</td>\n",
       "      <td>3.650000</td>\n",
       "      <td>18.25</td>\n",
       "      <td>18.799999</td>\n",
       "      <td>0</td>\n",
       "      <td>High School or less</td>\n",
       "    </tr>\n",
       "    <tr>\n",
       "      <th>1</th>\n",
       "      <td>19</td>\n",
       "      <td>5698.12</td>\n",
       "      <td>2279.248</td>\n",
       "      <td>284.9060</td>\n",
       "      <td>3.740000</td>\n",
       "      <td>10462800</td>\n",
       "      <td>3.85000</td>\n",
       "      <td>3.680000</td>\n",
       "      <td>3.650000</td>\n",
       "      <td>18.40</td>\n",
       "      <td>18.850000</td>\n",
       "      <td>0</td>\n",
       "      <td>High School or less</td>\n",
       "    </tr>\n",
       "    <tr>\n",
       "      <th>2</th>\n",
       "      <td>22</td>\n",
       "      <td>5896.65</td>\n",
       "      <td>2358.660</td>\n",
       "      <td>294.8325</td>\n",
       "      <td>3.890000</td>\n",
       "      <td>18761000</td>\n",
       "      <td>4.23000</td>\n",
       "      <td>4.290000</td>\n",
       "      <td>3.720000</td>\n",
       "      <td>18.70</td>\n",
       "      <td>18.900000</td>\n",
       "      <td>0</td>\n",
       "      <td>High School or less</td>\n",
       "    </tr>\n",
       "    <tr>\n",
       "      <th>3</th>\n",
       "      <td>21</td>\n",
       "      <td>6125.12</td>\n",
       "      <td>2450.048</td>\n",
       "      <td>306.2560</td>\n",
       "      <td>4.350000</td>\n",
       "      <td>66130600</td>\n",
       "      <td>4.26000</td>\n",
       "      <td>4.310000</td>\n",
       "      <td>3.830000</td>\n",
       "      <td>18.75</td>\n",
       "      <td>19.000000</td>\n",
       "      <td>0</td>\n",
       "      <td>High School or less</td>\n",
       "    </tr>\n",
       "    <tr>\n",
       "      <th>4</th>\n",
       "      <td>23</td>\n",
       "      <td>6245.00</td>\n",
       "      <td>2498.000</td>\n",
       "      <td>312.2500</td>\n",
       "      <td>4.340000</td>\n",
       "      <td>26868200</td>\n",
       "      <td>4.79000</td>\n",
       "      <td>4.410000</td>\n",
       "      <td>4.080000</td>\n",
       "      <td>18.80</td>\n",
       "      <td>19.049999</td>\n",
       "      <td>1</td>\n",
       "      <td>High School or less</td>\n",
       "    </tr>\n",
       "    <tr>\n",
       "      <th>...</th>\n",
       "      <td>...</td>\n",
       "      <td>...</td>\n",
       "      <td>...</td>\n",
       "      <td>...</td>\n",
       "      <td>...</td>\n",
       "      <td>...</td>\n",
       "      <td>...</td>\n",
       "      <td>...</td>\n",
       "      <td>...</td>\n",
       "      <td>...</td>\n",
       "      <td>...</td>\n",
       "      <td>...</td>\n",
       "      <td>...</td>\n",
       "    </tr>\n",
       "    <tr>\n",
       "      <th>4995</th>\n",
       "      <td>72</td>\n",
       "      <td>180696.80</td>\n",
       "      <td>72278.720</td>\n",
       "      <td>9034.8400</td>\n",
       "      <td>629.511067</td>\n",
       "      <td>3927000</td>\n",
       "      <td>43.92202</td>\n",
       "      <td>293.838840</td>\n",
       "      <td>310.955001</td>\n",
       "      <td>117.80</td>\n",
       "      <td>43.922020</td>\n",
       "      <td>72</td>\n",
       "      <td>PG</td>\n",
       "    </tr>\n",
       "    <tr>\n",
       "      <th>4996</th>\n",
       "      <td>73</td>\n",
       "      <td>185685.90</td>\n",
       "      <td>74274.360</td>\n",
       "      <td>9284.2950</td>\n",
       "      <td>627.841071</td>\n",
       "      <td>6031900</td>\n",
       "      <td>43.92202</td>\n",
       "      <td>301.311314</td>\n",
       "      <td>309.610028</td>\n",
       "      <td>118.60</td>\n",
       "      <td>43.922020</td>\n",
       "      <td>72</td>\n",
       "      <td>PG</td>\n",
       "    </tr>\n",
       "    <tr>\n",
       "      <th>4997</th>\n",
       "      <td>74</td>\n",
       "      <td>192636.80</td>\n",
       "      <td>77054.720</td>\n",
       "      <td>9631.8400</td>\n",
       "      <td>625.860033</td>\n",
       "      <td>7949400</td>\n",
       "      <td>43.92202</td>\n",
       "      <td>306.040009</td>\n",
       "      <td>303.483494</td>\n",
       "      <td>118.60</td>\n",
       "      <td>43.922020</td>\n",
       "      <td>72</td>\n",
       "      <td>PG</td>\n",
       "    </tr>\n",
       "    <tr>\n",
       "      <th>4998</th>\n",
       "      <td>74</td>\n",
       "      <td>195970.70</td>\n",
       "      <td>78388.280</td>\n",
       "      <td>9798.5350</td>\n",
       "      <td>629.510005</td>\n",
       "      <td>3908400</td>\n",
       "      <td>43.92202</td>\n",
       "      <td>308.579987</td>\n",
       "      <td>312.432438</td>\n",
       "      <td>118.65</td>\n",
       "      <td>43.922020</td>\n",
       "      <td>72</td>\n",
       "      <td>PG</td>\n",
       "    </tr>\n",
       "    <tr>\n",
       "      <th>4999</th>\n",
       "      <td>88</td>\n",
       "      <td>199970.74</td>\n",
       "      <td>79988.296</td>\n",
       "      <td>9998.5370</td>\n",
       "      <td>627.839984</td>\n",
       "      <td>6003300</td>\n",
       "      <td>43.92202</td>\n",
       "      <td>312.307316</td>\n",
       "      <td>311.081089</td>\n",
       "      <td>118.75</td>\n",
       "      <td>43.922020</td>\n",
       "      <td>72</td>\n",
       "      <td>PG</td>\n",
       "    </tr>\n",
       "  </tbody>\n",
       "</table>\n",
       "<p>5000 rows × 13 columns</p>\n",
       "</div>"
      ],
      "text/plain": [
       "      Age     Salary   Base_pay      Bonus  Unit_Price    Volume  \\\n",
       "0      18    5089.00   2035.600   254.4500    3.770000  21226600   \n",
       "1      19    5698.12   2279.248   284.9060    3.740000  10462800   \n",
       "2      22    5896.65   2358.660   294.8325    3.890000  18761000   \n",
       "3      21    6125.12   2450.048   306.2560    4.350000  66130600   \n",
       "4      23    6245.00   2498.000   312.2500    4.340000  26868200   \n",
       "...   ...        ...        ...        ...         ...       ...   \n",
       "4995   72  180696.80  72278.720  9034.8400  629.511067   3927000   \n",
       "4996   73  185685.90  74274.360  9284.2950  627.841071   6031900   \n",
       "4997   74  192636.80  77054.720  9631.8400  625.860033   7949400   \n",
       "4998   74  195970.70  78388.280  9798.5350  629.510005   3908400   \n",
       "4999   88  199970.74  79988.296  9998.5370  627.839984   6003300   \n",
       "\n",
       "      openingbalance  closingbalance         low  Unit_Sales  Total_Sales  \\\n",
       "0            3.75000        3.760000    3.650000       18.25    18.799999   \n",
       "1            3.85000        3.680000    3.650000       18.40    18.850000   \n",
       "2            4.23000        4.290000    3.720000       18.70    18.900000   \n",
       "3            4.26000        4.310000    3.830000       18.75    19.000000   \n",
       "4            4.79000        4.410000    4.080000       18.80    19.049999   \n",
       "...              ...             ...         ...         ...          ...   \n",
       "4995        43.92202      293.838840  310.955001      117.80    43.922020   \n",
       "4996        43.92202      301.311314  309.610028      118.60    43.922020   \n",
       "4997        43.92202      306.040009  303.483494      118.60    43.922020   \n",
       "4998        43.92202      308.579987  312.432438      118.65    43.922020   \n",
       "4999        43.92202      312.307316  311.081089      118.75    43.922020   \n",
       "\n",
       "      Months            Education  \n",
       "0          0  High School or less  \n",
       "1          0  High School or less  \n",
       "2          0  High School or less  \n",
       "3          0  High School or less  \n",
       "4          1  High School or less  \n",
       "...      ...                  ...  \n",
       "4995      72                   PG  \n",
       "4996      72                   PG  \n",
       "4997      72                   PG  \n",
       "4998      72                   PG  \n",
       "4999      72                   PG  \n",
       "\n",
       "[5000 rows x 13 columns]"
      ]
     },
     "execution_count": 34,
     "metadata": {},
     "output_type": "execute_result"
    }
   ],
   "source": [
    "data"
   ]
  },
  {
   "cell_type": "markdown",
   "id": "81838498",
   "metadata": {},
   "source": [
    "# Check for outliers"
   ]
  },
  {
   "cell_type": "code",
   "execution_count": 35,
   "id": "9203bed2",
   "metadata": {},
   "outputs": [
    {
     "data": {
      "text/html": [
       "<div>\n",
       "<style scoped>\n",
       "    .dataframe tbody tr th:only-of-type {\n",
       "        vertical-align: middle;\n",
       "    }\n",
       "\n",
       "    .dataframe tbody tr th {\n",
       "        vertical-align: top;\n",
       "    }\n",
       "\n",
       "    .dataframe thead th {\n",
       "        text-align: right;\n",
       "    }\n",
       "</style>\n",
       "<table border=\"1\" class=\"dataframe\">\n",
       "  <thead>\n",
       "    <tr style=\"text-align: right;\">\n",
       "      <th></th>\n",
       "      <th>Age</th>\n",
       "      <th>Salary</th>\n",
       "      <th>Base_pay</th>\n",
       "      <th>Bonus</th>\n",
       "      <th>Unit_Price</th>\n",
       "      <th>Volume</th>\n",
       "      <th>openingbalance</th>\n",
       "      <th>closingbalance</th>\n",
       "      <th>low</th>\n",
       "      <th>Unit_Sales</th>\n",
       "      <th>Total_Sales</th>\n",
       "      <th>Months</th>\n",
       "      <th>Education</th>\n",
       "    </tr>\n",
       "  </thead>\n",
       "  <tbody>\n",
       "    <tr>\n",
       "      <th>0</th>\n",
       "      <td>18</td>\n",
       "      <td>5089.00</td>\n",
       "      <td>2035.600</td>\n",
       "      <td>254.4500</td>\n",
       "      <td>3.77</td>\n",
       "      <td>21226600</td>\n",
       "      <td>3.75</td>\n",
       "      <td>3.76</td>\n",
       "      <td>3.65</td>\n",
       "      <td>18.25</td>\n",
       "      <td>18.799999</td>\n",
       "      <td>0</td>\n",
       "      <td>High School or less</td>\n",
       "    </tr>\n",
       "    <tr>\n",
       "      <th>1</th>\n",
       "      <td>19</td>\n",
       "      <td>5698.12</td>\n",
       "      <td>2279.248</td>\n",
       "      <td>284.9060</td>\n",
       "      <td>3.74</td>\n",
       "      <td>10462800</td>\n",
       "      <td>3.85</td>\n",
       "      <td>3.68</td>\n",
       "      <td>3.65</td>\n",
       "      <td>18.40</td>\n",
       "      <td>18.850000</td>\n",
       "      <td>0</td>\n",
       "      <td>High School or less</td>\n",
       "    </tr>\n",
       "    <tr>\n",
       "      <th>2</th>\n",
       "      <td>22</td>\n",
       "      <td>5896.65</td>\n",
       "      <td>2358.660</td>\n",
       "      <td>294.8325</td>\n",
       "      <td>3.89</td>\n",
       "      <td>18761000</td>\n",
       "      <td>4.23</td>\n",
       "      <td>4.29</td>\n",
       "      <td>3.72</td>\n",
       "      <td>18.70</td>\n",
       "      <td>18.900000</td>\n",
       "      <td>0</td>\n",
       "      <td>High School or less</td>\n",
       "    </tr>\n",
       "    <tr>\n",
       "      <th>3</th>\n",
       "      <td>21</td>\n",
       "      <td>6125.12</td>\n",
       "      <td>2450.048</td>\n",
       "      <td>306.2560</td>\n",
       "      <td>4.35</td>\n",
       "      <td>66130600</td>\n",
       "      <td>4.26</td>\n",
       "      <td>4.31</td>\n",
       "      <td>3.83</td>\n",
       "      <td>18.75</td>\n",
       "      <td>19.000000</td>\n",
       "      <td>0</td>\n",
       "      <td>High School or less</td>\n",
       "    </tr>\n",
       "  </tbody>\n",
       "</table>\n",
       "</div>"
      ],
      "text/plain": [
       "   Age   Salary  Base_pay     Bonus  Unit_Price    Volume  openingbalance  \\\n",
       "0   18  5089.00  2035.600  254.4500        3.77  21226600            3.75   \n",
       "1   19  5698.12  2279.248  284.9060        3.74  10462800            3.85   \n",
       "2   22  5896.65  2358.660  294.8325        3.89  18761000            4.23   \n",
       "3   21  6125.12  2450.048  306.2560        4.35  66130600            4.26   \n",
       "\n",
       "   closingbalance   low  Unit_Sales  Total_Sales  Months            Education  \n",
       "0            3.76  3.65       18.25    18.799999       0  High School or less  \n",
       "1            3.68  3.65       18.40    18.850000       0  High School or less  \n",
       "2            4.29  3.72       18.70    18.900000       0  High School or less  \n",
       "3            4.31  3.83       18.75    19.000000       0  High School or less  "
      ]
     },
     "execution_count": 35,
     "metadata": {},
     "output_type": "execute_result"
    }
   ],
   "source": [
    "data.head(4)"
   ]
  },
  {
   "cell_type": "code",
   "execution_count": 36,
   "id": "6eba9a71",
   "metadata": {},
   "outputs": [
    {
     "data": {
      "text/plain": [
       "<AxesSubplot:xlabel='Age', ylabel='Density'>"
      ]
     },
     "execution_count": 36,
     "metadata": {},
     "output_type": "execute_result"
    },
    {
     "data": {
      "image/png": "[encoded data removed]",
      "text/plain": [
       "<Figure size 432x288 with 1 Axes>"
      ]
     },
     "metadata": {
      "needs_background": "light"
     },
     "output_type": "display_data"
    }
   ],
   "source": [
    "sns.distplot(data['Age']) #Check for data is normally distributed or there is a skewness (positive or negative)."
   ]
  },
  {
   "cell_type": "markdown",
   "id": "c5980a57",
   "metadata": {},
   "source": [
    "As we can see this graph represented as bell curve,so we can say it's normally distributed "
   ]
  },
  {
   "cell_type": "code",
   "execution_count": 37,
   "id": "e8d88d4b",
   "metadata": {},
   "outputs": [
    {
     "data": {
      "text/plain": [
       "Text(0, 0.5, 'No of employee')"
      ]
     },
     "execution_count": 37,
     "metadata": {},
     "output_type": "execute_result"
    },
    {
     "data": {
      "image/png": "[encoded data removed]",
      "text/plain": [
       "<Figure size 432x288 with 1 Axes>"
      ]
     },
     "metadata": {
      "needs_background": "light"
     },
     "output_type": "display_data"
    }
   ],
   "source": [
    "figure=data.Age.hist(bins=50) #Let's see by histogram graph how its look like\n",
    "figure.set_title('Age')\n",
    "figure.set_xlabel('Age')\n",
    "figure.set_ylabel('No of employee')"
   ]
  },
  {
   "cell_type": "markdown",
   "id": "95492ff3",
   "metadata": {},
   "source": [
    "This graph also say's that it's a normally distributed, where x axis represents 'Age' and y axis represents 'NO of employee'"
   ]
  },
  {
   "cell_type": "code",
   "execution_count": 38,
   "id": "44cdba0c",
   "metadata": {},
   "outputs": [
    {
     "data": {
      "image/png": "[encoded data removed]",
      "text/plain": [
       "<Figure size 432x288 with 1 Axes>"
      ]
     },
     "metadata": {
      "needs_background": "light"
     },
     "output_type": "display_data"
    }
   ],
   "source": [
    "figure=data.boxplot(column=\"Age\") #check for the outliers"
   ]
  },
  {
   "cell_type": "markdown",
   "id": "775b4663",
   "metadata": {},
   "source": [
    "In a box plot, we draw a box from the first quartile to the third quartile. A vertical line goes through the box at the median.\n",
    "If there is vlaue or point after Q3, we can say there is outliers and according to dataset we remove or fill with values.\n",
    "In this dataset, all the column those have the more or less outliers, i don't remove those outliers, i decide to fill with values. "
   ]
  },
  {
   "cell_type": "code",
   "execution_count": 39,
   "id": "81ff5632",
   "metadata": {},
   "outputs": [
    {
     "data": {
      "text/plain": [
       "count    5000.000000\n",
       "mean       51.865000\n",
       "std         8.560691\n",
       "min        18.000000\n",
       "25%        47.000000\n",
       "50%        52.000000\n",
       "75%        57.000000\n",
       "max        88.000000\n",
       "Name: Age, dtype: float64"
      ]
     },
     "execution_count": 39,
     "metadata": {},
     "output_type": "execute_result"
    }
   ],
   "source": [
    "data['Age'].describe() #calculating some statistical data like percentile, mean and std."
   ]
  },
  {
   "cell_type": "markdown",
   "id": "544257d7",
   "metadata": {},
   "source": [
    "Here we can observed min -->18.00 25%(25th percentile) --> 47.00, 25% data about to lower than 47, where 50% --> 52.00 and 75% -->57.00 data greater than 52,\n",
    "75% to max we can see there is huge differences of vlaues,  After 3rd quartile if we have any values or points we can say there is outliers.\n"
   ]
  },
  {
   "cell_type": "markdown",
   "id": "f771b7da",
   "metadata": {},
   "source": [
    "# If The Data Is Normally Distributed We use this"
   ]
  },
  {
   "cell_type": "markdown",
   "id": "4711405c",
   "metadata": {},
   "source": [
    "## Assuming Age follows A Gaussian Distribution we will calculate the boundaries which differentiates the outliers"
   ]
  },
  {
   "cell_type": "code",
   "execution_count": 40,
   "id": "85e37b84",
   "metadata": {},
   "outputs": [
    {
     "name": "stdout",
     "output_type": "stream",
     "text": [
      "Lower_boundary is:  26.182926704065434\n",
      "Upper_boundary is:  77.54707329593457\n",
      "mean of Age is:  51.865\n"
     ]
    }
   ],
   "source": [
    "uppper_boundary=data['Age'].mean() + 3* data['Age'].std()\n",
    "lower_boundary=data['Age'].mean() - 3* data['Age'].std()\n",
    "print(\"Lower_boundary is: \",lower_boundary)\n",
    "print(\"Upper_boundary is: \",uppper_boundary)\n",
    "print(\"mean of Age is: \",data['Age'].mean())"
   ]
  },
  {
   "cell_type": "markdown",
   "id": "1c01ab55",
   "metadata": {},
   "source": [
    "First we need the mean, because in normal distribution most important point, basically from the mean we are going to consider 3rd standard deviation to the right and 3rd standard deviation to the left.\n",
    "Here is upper_boundary is for 3rd standard deviation to the right and lower_boundary is 3rd standard deviation to the left.\n",
    "We replace the all the outliers with upper boundary value."
   ]
  },
  {
   "cell_type": "code",
   "execution_count": null,
   "id": "29613997",
   "metadata": {},
   "outputs": [],
   "source": []
  },
  {
   "cell_type": "code",
   "execution_count": 41,
   "id": "c697bc14",
   "metadata": {},
   "outputs": [],
   "source": [
    "data1=data.copy()"
   ]
  },
  {
   "cell_type": "code",
   "execution_count": 42,
   "id": "064e4576",
   "metadata": {},
   "outputs": [],
   "source": [
    "data1.loc[data1['Age']>=77,'Age']=77 #set the all outliers with upper boundary values."
   ]
  },
  {
   "cell_type": "markdown",
   "id": "96f202ea",
   "metadata": {},
   "source": [
    "### Like this we'll do same for all the normal distribution data"
   ]
  },
  {
   "cell_type": "code",
   "execution_count": 43,
   "id": "fabf001e",
   "metadata": {},
   "outputs": [],
   "source": [
    "#SALARY col "
   ]
  },
  {
   "cell_type": "code",
   "execution_count": 44,
   "id": "0fd7ff47",
   "metadata": {},
   "outputs": [
    {
     "data": {
      "image/png": "[encoded data removed]",
      "text/plain": [
       "<Figure size 432x288 with 1 Axes>"
      ]
     },
     "metadata": {
      "needs_background": "light"
     },
     "output_type": "display_data"
    }
   ],
   "source": [
    "figure=data.boxplot(column=\"Salary\")"
   ]
  },
  {
   "cell_type": "code",
   "execution_count": 45,
   "id": "aff53b42",
   "metadata": {},
   "outputs": [
    {
     "data": {
      "text/plain": [
       "count      5000.000000\n",
       "mean      99821.928553\n",
       "std       25376.961744\n",
       "min        5089.000000\n",
       "25%       83890.338980\n",
       "50%      100579.378500\n",
       "75%      116912.092475\n",
       "max      199970.740000\n",
       "Name: Salary, dtype: float64"
      ]
     },
     "execution_count": 45,
     "metadata": {},
     "output_type": "execute_result"
    }
   ],
   "source": [
    "data['Salary'].describe()"
   ]
  },
  {
   "cell_type": "code",
   "execution_count": 46,
   "id": "bebad52b",
   "metadata": {},
   "outputs": [
    {
     "data": {
      "text/plain": [
       "<AxesSubplot:xlabel='Salary', ylabel='Density'>"
      ]
     },
     "execution_count": 46,
     "metadata": {},
     "output_type": "execute_result"
    },
    {
     "data": {
      "image/png": "[encoded data removed]",
      "text/plain": [
       "<Figure size 432x288 with 1 Axes>"
      ]
     },
     "metadata": {
      "needs_background": "light"
     },
     "output_type": "display_data"
    }
   ],
   "source": [
    "sns.distplot(data['Salary'])"
   ]
  },
  {
   "cell_type": "code",
   "execution_count": 47,
   "id": "a66b484e",
   "metadata": {},
   "outputs": [
    {
     "data": {
      "image/png": "[encoded data removed]",
      "text/plain": [
       "<Figure size 432x288 with 1 Axes>"
      ]
     },
     "metadata": {
      "needs_background": "light"
     },
     "output_type": "display_data"
    }
   ],
   "source": [
    "figure=data.Salary.hist(bins=50)"
   ]
  },
  {
   "cell_type": "code",
   "execution_count": 48,
   "id": "9eb7a4a8",
   "metadata": {},
   "outputs": [
    {
     "name": "stdout",
     "output_type": "stream",
     "text": [
      "Lower_boundary is:  23691.04331975957\n",
      "Upper_boundary is:  175952.81378567562\n",
      "mean of Salary is:  99821.9285527176\n"
     ]
    }
   ],
   "source": [
    "uppper_boundary=data['Salary'].mean() + 3* data['Salary'].std()\n",
    "lower_boundary=data['Salary'].mean() - 3* data['Salary'].std()\n",
    "print(\"Lower_boundary is: \",lower_boundary)\n",
    "print(\"Upper_boundary is: \",uppper_boundary)\n",
    "print(\"mean of Salary is: \",data['Salary'].mean())"
   ]
  },
  {
   "cell_type": "code",
   "execution_count": 49,
   "id": "7efcb51f",
   "metadata": {},
   "outputs": [],
   "source": [
    "data1.loc[data1['Salary']>=175952,'Salary']=175952"
   ]
  },
  {
   "cell_type": "code",
   "execution_count": null,
   "id": "cedab5a2",
   "metadata": {},
   "outputs": [],
   "source": []
  },
  {
   "cell_type": "code",
   "execution_count": 50,
   "id": "184ea557",
   "metadata": {},
   "outputs": [],
   "source": [
    "#Base_pay col"
   ]
  },
  {
   "cell_type": "code",
   "execution_count": 51,
   "id": "5032410e",
   "metadata": {},
   "outputs": [
    {
     "data": {
      "image/png": "[encoded data removed]",
      "text/plain": [
       "<Figure size 432x288 with 1 Axes>"
      ]
     },
     "metadata": {
      "needs_background": "light"
     },
     "output_type": "display_data"
    }
   ],
   "source": [
    "figure=data.boxplot(column=\"Base_pay\")"
   ]
  },
  {
   "cell_type": "code",
   "execution_count": 52,
   "id": "8cec4c4d",
   "metadata": {},
   "outputs": [
    {
     "data": {
      "text/plain": [
       "count     5000.000000\n",
       "mean     39862.177285\n",
       "std      10468.424404\n",
       "min         43.922020\n",
       "25%      33556.135588\n",
       "50%      40231.751415\n",
       "75%      46764.836975\n",
       "max      79988.296000\n",
       "Name: Base_pay, dtype: float64"
      ]
     },
     "execution_count": 52,
     "metadata": {},
     "output_type": "execute_result"
    }
   ],
   "source": [
    "data['Base_pay'].describe()"
   ]
  },
  {
   "cell_type": "code",
   "execution_count": 53,
   "id": "d0cd6490",
   "metadata": {},
   "outputs": [
    {
     "data": {
      "text/plain": [
       "<AxesSubplot:xlabel='Base_pay', ylabel='Density'>"
      ]
     },
     "execution_count": 53,
     "metadata": {},
     "output_type": "execute_result"
    },
    {
     "data": {
      "image/png": "[encoded data removed]",
      "text/plain": [
       "<Figure size 432x288 with 1 Axes>"
      ]
     },
     "metadata": {
      "needs_background": "light"
     },
     "output_type": "display_data"
    }
   ],
   "source": [
    "sns.distplot(data['Base_pay'])"
   ]
  },
  {
   "cell_type": "code",
   "execution_count": 54,
   "id": "272475a0",
   "metadata": {},
   "outputs": [
    {
     "data": {
      "image/png": "[encoded data removed]",
      "text/plain": [
       "<Figure size 432x288 with 1 Axes>"
      ]
     },
     "metadata": {
      "needs_background": "light"
     },
     "output_type": "display_data"
    }
   ],
   "source": [
    "figure=data.Base_pay.hist(bins=50)"
   ]
  },
  {
   "cell_type": "code",
   "execution_count": 55,
   "id": "34b805f5",
   "metadata": {},
   "outputs": [
    {
     "name": "stdout",
     "output_type": "stream",
     "text": [
      "Lower_boundary is:  8456.904071373116\n",
      "Upper_boundary is:  71267.45049787255\n",
      "mean of Age is:  39862.177284622834\n"
     ]
    }
   ],
   "source": [
    "uppper_boundary=data['Base_pay'].mean() + 3* data['Base_pay'].std()\n",
    "lower_boundary=data['Base_pay'].mean() - 3* data['Base_pay'].std()\n",
    "print(\"Lower_boundary is: \",lower_boundary)\n",
    "print(\"Upper_boundary is: \",uppper_boundary)\n",
    "print(\"mean of Age is: \",data['Base_pay'].mean())"
   ]
  },
  {
   "cell_type": "code",
   "execution_count": 56,
   "id": "5a32c328",
   "metadata": {},
   "outputs": [],
   "source": [
    "data1.loc[data1['Base_pay']>=71267,'Base_pay']=71267"
   ]
  },
  {
   "cell_type": "code",
   "execution_count": 57,
   "id": "5ee6ac1b",
   "metadata": {},
   "outputs": [],
   "source": [
    "## Bonus col"
   ]
  },
  {
   "cell_type": "code",
   "execution_count": 58,
   "id": "317ec46d",
   "metadata": {},
   "outputs": [
    {
     "data": {
      "image/png": "[encoded data removed]",
      "text/plain": [
       "<Figure size 432x288 with 1 Axes>"
      ]
     },
     "metadata": {
      "needs_background": "light"
     },
     "output_type": "display_data"
    }
   ],
   "source": [
    "figure=data.boxplot(column=\"Bonus\")"
   ]
  },
  {
   "cell_type": "code",
   "execution_count": 59,
   "id": "08159013",
   "metadata": {},
   "outputs": [
    {
     "data": {
      "text/plain": [
       "count    5000.000000\n",
       "mean     4991.096428\n",
       "std      1268.848087\n",
       "min       254.450000\n",
       "25%      4194.516950\n",
       "50%      5028.968925\n",
       "75%      5845.604624\n",
       "max      9998.537000\n",
       "Name: Bonus, dtype: float64"
      ]
     },
     "execution_count": 59,
     "metadata": {},
     "output_type": "execute_result"
    }
   ],
   "source": [
    "data['Bonus'].describe()"
   ]
  },
  {
   "cell_type": "code",
   "execution_count": 60,
   "id": "bc68846f",
   "metadata": {},
   "outputs": [
    {
     "data": {
      "image/png": "[encoded data removed]",
      "text/plain": [
       "<Figure size 432x288 with 1 Axes>"
      ]
     },
     "metadata": {
      "needs_background": "light"
     },
     "output_type": "display_data"
    }
   ],
   "source": [
    "figure=data.Bonus.hist(bins=50)"
   ]
  },
  {
   "cell_type": "code",
   "execution_count": 61,
   "id": "0fc5bb6b",
   "metadata": {},
   "outputs": [
    {
     "name": "stdout",
     "output_type": "stream",
     "text": [
      "Lower_boundary is:  1184.5521663595418\n",
      "Upper_boundary is:  8797.640689146698\n",
      "mean of Age is:  4991.096427753119\n"
     ]
    }
   ],
   "source": [
    "uppper_boundary=data['Bonus'].mean() + 3* data['Bonus'].std()\n",
    "lower_boundary=data['Bonus'].mean() - 3* data['Bonus'].std()\n",
    "print(\"Lower_boundary is: \",lower_boundary)\n",
    "print(\"Upper_boundary is: \",uppper_boundary)\n",
    "print(\"mean of Age is: \",data['Bonus'].mean())"
   ]
  },
  {
   "cell_type": "code",
   "execution_count": 62,
   "id": "a25b3914",
   "metadata": {},
   "outputs": [],
   "source": [
    "data1.loc[data1['Bonus']>=8797,'Bonus']=8797"
   ]
  },
  {
   "cell_type": "code",
   "execution_count": null,
   "id": "9aded731",
   "metadata": {},
   "outputs": [],
   "source": []
  },
  {
   "cell_type": "code",
   "execution_count": 63,
   "id": "c50d6ad6",
   "metadata": {},
   "outputs": [
    {
     "data": {
      "text/plain": [
       "<AxesSubplot:xlabel='Bonus', ylabel='Density'>"
      ]
     },
     "execution_count": 63,
     "metadata": {},
     "output_type": "execute_result"
    },
    {
     "data": {
      "image/png": "[encoded data removed]",
      "text/plain": [
       "<Figure size 432x288 with 1 Axes>"
      ]
     },
     "metadata": {
      "needs_background": "light"
     },
     "output_type": "display_data"
    }
   ],
   "source": [
    "sns.distplot(data['Bonus'])"
   ]
  },
  {
   "cell_type": "code",
   "execution_count": 64,
   "id": "d990057f",
   "metadata": {},
   "outputs": [],
   "source": [
    "##Unit_Price"
   ]
  },
  {
   "cell_type": "code",
   "execution_count": 65,
   "id": "3f5a50a6",
   "metadata": {},
   "outputs": [
    {
     "data": {
      "image/png": "[encoded data removed]",
      "text/plain": [
       "<Figure size 432x288 with 1 Axes>"
      ]
     },
     "metadata": {
      "needs_background": "light"
     },
     "output_type": "display_data"
    }
   ],
   "source": [
    "figure=data.boxplot(column=\"Unit_Price\")"
   ]
  },
  {
   "cell_type": "code",
   "execution_count": 66,
   "id": "6627ce83",
   "metadata": {},
   "outputs": [
    {
     "data": {
      "text/plain": [
       "count    5000.000000\n",
       "mean       51.258522\n",
       "std        52.244022\n",
       "min         1.440000\n",
       "25%        25.727500\n",
       "50%        39.205000\n",
       "75%        58.715000\n",
       "max       629.511067\n",
       "Name: Unit_Price, dtype: float64"
      ]
     },
     "execution_count": 66,
     "metadata": {},
     "output_type": "execute_result"
    }
   ],
   "source": [
    "data['Unit_Price'].describe()"
   ]
  },
  {
   "cell_type": "code",
   "execution_count": 67,
   "id": "aa383661",
   "metadata": {},
   "outputs": [
    {
     "data": {
      "text/plain": [
       "<AxesSubplot:xlabel='Unit_Price', ylabel='Density'>"
      ]
     },
     "execution_count": 67,
     "metadata": {},
     "output_type": "execute_result"
    },
    {
     "data": {
      "image/png": "[encoded data removed]",
      "text/plain": [
       "<Figure size 432x288 with 1 Axes>"
      ]
     },
     "metadata": {
      "needs_background": "light"
     },
     "output_type": "display_data"
    }
   ],
   "source": [
    "sns.distplot(data['Unit_Price'])"
   ]
  },
  {
   "cell_type": "code",
   "execution_count": 68,
   "id": "ec27a21d",
   "metadata": {},
   "outputs": [
    {
     "data": {
      "image/png": "[encoded data removed]",
      "text/plain": [
       "<Figure size 432x288 with 1 Axes>"
      ]
     },
     "metadata": {
      "needs_background": "light"
     },
     "output_type": "display_data"
    }
   ],
   "source": [
    "figure=data.Unit_Price.hist(bins=50)"
   ]
  },
  {
   "cell_type": "markdown",
   "id": "0b13d17a",
   "metadata": {},
   "source": [
    "# If Features Are Skewed We Use the below Technique"
   ]
  },
  {
   "cell_type": "code",
   "execution_count": 69,
   "id": "c1fa7604",
   "metadata": {},
   "outputs": [
    {
     "name": "stdout",
     "output_type": "stream",
     "text": [
      "32.9875005\n"
     ]
    }
   ],
   "source": [
    "#### Lets compute the Interquantile range to calculate the boundaries\n",
    "IQR=data.Unit_Price.quantile(0.75)-data.Unit_Price.quantile(0.25)\n",
    "print(IQR)"
   ]
  },
  {
   "cell_type": "code",
   "execution_count": 70,
   "id": "c5bbd396",
   "metadata": {},
   "outputs": [
    {
     "name": "stdout",
     "output_type": "stream",
     "text": [
      "Lower_Bridge: -23.753751\n",
      "Upper_Bridge:  108.196251\n"
     ]
    }
   ],
   "source": [
    "lower_bridge=data['Unit_Price'].quantile(0.25)-(IQR*1.5)\n",
    "upper_bridge=data['Unit_Price'].quantile(0.75)+(IQR*1.5)\n",
    "print(\"Lower_Bridge:\",lower_bridge)\n",
    "print(\"Upper_Bridge: \",upper_bridge)"
   ]
  },
  {
   "cell_type": "markdown",
   "id": "d0ea2828",
   "metadata": {},
   "source": [
    "Here is upper_bridge is 3rd standard deviation to the right and lower_bridge is the 3rd standard deviation to left."
   ]
  },
  {
   "cell_type": "markdown",
   "id": "73061095",
   "metadata": {},
   "source": [
    "Lower_bridge, we get minus(-) value, we dont consider it because Price can't be minus (maybe for slaes in, loss)"
   ]
  },
  {
   "cell_type": "code",
   "execution_count": 71,
   "id": "6e47e3de",
   "metadata": {},
   "outputs": [
    {
     "name": "stdout",
     "output_type": "stream",
     "text": [
      "-73.23500175000001\n",
      "157.67750175\n"
     ]
    }
   ],
   "source": [
    "#### Extreme outliers\n",
    "lower_bridge=data['Unit_Price'].quantile(0.25)-(IQR*3)\n",
    "upper_bridge=data['Unit_Price'].quantile(0.75)+(IQR*3)\n",
    "print(lower_bridge)\n",
    "print(upper_bridge)"
   ]
  },
  {
   "cell_type": "code",
   "execution_count": 72,
   "id": "00fbd7a0",
   "metadata": {},
   "outputs": [],
   "source": [
    "data1.loc[data1['Unit_Price']>=157,'Unit_Price']=157 #we compute upper_bridge value in skewed data."
   ]
  },
  {
   "cell_type": "code",
   "execution_count": null,
   "id": "b7073f41",
   "metadata": {},
   "outputs": [],
   "source": []
  },
  {
   "cell_type": "code",
   "execution_count": 73,
   "id": "a4e757ae",
   "metadata": {},
   "outputs": [],
   "source": [
    "## Volume"
   ]
  },
  {
   "cell_type": "code",
   "execution_count": 74,
   "id": "deeaca68",
   "metadata": {},
   "outputs": [
    {
     "name": "stdout",
     "output_type": "stream",
     "text": [
      "4963250.0\n"
     ]
    }
   ],
   "source": [
    "IQR_volume=data.Volume.quantile(0.75)-data.Volume.quantile(0.25)\n",
    "print(IQR_volume)"
   ]
  },
  {
   "cell_type": "code",
   "execution_count": 75,
   "id": "b95c7079",
   "metadata": {},
   "outputs": [
    {
     "data": {
      "image/png": "[encoded data removed]",
      "text/plain": [
       "<Figure size 432x288 with 1 Axes>"
      ]
     },
     "metadata": {
      "needs_background": "light"
     },
     "output_type": "display_data"
    }
   ],
   "source": [
    "figure=data.boxplot(column=\"Volume\")"
   ]
  },
  {
   "cell_type": "code",
   "execution_count": 76,
   "id": "6c6efbf4",
   "metadata": {},
   "outputs": [
    {
     "data": {
      "image/png": "[encoded data removed]",
      "text/plain": [
       "<Figure size 432x288 with 1 Axes>"
      ]
     },
     "metadata": {
      "needs_background": "light"
     },
     "output_type": "display_data"
    }
   ],
   "source": [
    "figure=data.Volume.hist(bins=50)"
   ]
  },
  {
   "cell_type": "code",
   "execution_count": 77,
   "id": "0c3cb9e8",
   "metadata": {},
   "outputs": [
    {
     "name": "stdout",
     "output_type": "stream",
     "text": [
      "-13605900.0\n",
      "21136850.0\n"
     ]
    }
   ],
   "source": [
    "#### Extreme outliers\n",
    "lower_bridge=data['Volume'].quantile(0.25)-(IQR_volume*3)\n",
    "upper_bridge=data['Volume'].quantile(0.75)+(IQR_volume*3)\n",
    "print(lower_bridge)\n",
    "print(upper_bridge)"
   ]
  },
  {
   "cell_type": "code",
   "execution_count": 78,
   "id": "7e3a560d",
   "metadata": {},
   "outputs": [],
   "source": [
    "data1.loc[data1['Volume']>=21136850,'Volume']=21136850"
   ]
  },
  {
   "cell_type": "code",
   "execution_count": null,
   "id": "589f7b1f",
   "metadata": {},
   "outputs": [],
   "source": []
  },
  {
   "cell_type": "code",
   "execution_count": null,
   "id": "faf365d0",
   "metadata": {},
   "outputs": [],
   "source": []
  },
  {
   "cell_type": "code",
   "execution_count": 79,
   "id": "f38fd116",
   "metadata": {},
   "outputs": [],
   "source": [
    "## openingbalance "
   ]
  },
  {
   "cell_type": "code",
   "execution_count": 80,
   "id": "c6c66291",
   "metadata": {},
   "outputs": [
    {
     "data": {
      "image/png": "[encoded data removed]",
      "text/plain": [
       "<Figure size 432x288 with 1 Axes>"
      ]
     },
     "metadata": {
      "needs_background": "light"
     },
     "output_type": "display_data"
    }
   ],
   "source": [
    "figure=data.boxplot(column=\"openingbalance\")"
   ]
  },
  {
   "cell_type": "code",
   "execution_count": 81,
   "id": "477aba16",
   "metadata": {},
   "outputs": [
    {
     "data": {
      "image/png": "[encoded data removed]",
      "text/plain": [
       "<Figure size 432x288 with 1 Axes>"
      ]
     },
     "metadata": {
      "needs_background": "light"
     },
     "output_type": "display_data"
    }
   ],
   "source": [
    "figure=data.openingbalance.hist(bins=50)"
   ]
  },
  {
   "cell_type": "code",
   "execution_count": 82,
   "id": "36f9276e",
   "metadata": {},
   "outputs": [
    {
     "data": {
      "text/plain": [
       "count    5000.000000\n",
       "mean       43.922020\n",
       "std        32.204036\n",
       "min         3.680000\n",
       "25%        26.397633\n",
       "50%        43.922020\n",
       "75%        43.922020\n",
       "max       313.903904\n",
       "Name: openingbalance, dtype: float64"
      ]
     },
     "execution_count": 82,
     "metadata": {},
     "output_type": "execute_result"
    }
   ],
   "source": [
    "data['openingbalance'].describe()"
   ]
  },
  {
   "cell_type": "code",
   "execution_count": 83,
   "id": "dd0c9b00",
   "metadata": {},
   "outputs": [
    {
     "name": "stdout",
     "output_type": "stream",
     "text": [
      "17.524387160485816\n"
     ]
    }
   ],
   "source": [
    "IQR_open=data.openingbalance.quantile(0.75)-data.openingbalance.quantile(0.25)\n",
    "print(IQR_open)"
   ]
  },
  {
   "cell_type": "code",
   "execution_count": 84,
   "id": "0f4e0f82",
   "metadata": {},
   "outputs": [
    {
     "name": "stdout",
     "output_type": "stream",
     "text": [
      "-26.17552859145745\n",
      "96.49518153194326\n"
     ]
    }
   ],
   "source": [
    "lower_bridge=data['openingbalance'].quantile(0.25)-(IQR_open*3)\n",
    "upper_bridge=data['openingbalance'].quantile(0.75)+(IQR_open*3)\n",
    "print(lower_bridge)\n",
    "print(upper_bridge)"
   ]
  },
  {
   "cell_type": "code",
   "execution_count": 85,
   "id": "dd492194",
   "metadata": {},
   "outputs": [],
   "source": [
    "data1.loc[data1['openingbalance']>=96,'openingbalance']=96"
   ]
  },
  {
   "cell_type": "code",
   "execution_count": null,
   "id": "4873f3e3",
   "metadata": {},
   "outputs": [],
   "source": []
  },
  {
   "cell_type": "code",
   "execution_count": null,
   "id": "49378988",
   "metadata": {},
   "outputs": [],
   "source": []
  },
  {
   "cell_type": "code",
   "execution_count": 86,
   "id": "81be6fba",
   "metadata": {},
   "outputs": [],
   "source": [
    "## closingbalance"
   ]
  },
  {
   "cell_type": "code",
   "execution_count": 87,
   "id": "7dc919b5",
   "metadata": {},
   "outputs": [
    {
     "data": {
      "image/png": "[encoded data removed]",
      "text/plain": [
       "<Figure size 432x288 with 1 Axes>"
      ]
     },
     "metadata": {
      "needs_background": "light"
     },
     "output_type": "display_data"
    }
   ],
   "source": [
    "figure=data.boxplot(column=\"closingbalance\")"
   ]
  },
  {
   "cell_type": "code",
   "execution_count": 88,
   "id": "5030f2d3",
   "metadata": {},
   "outputs": [
    {
     "data": {
      "image/png": "[encoded data removed]",
      "text/plain": [
       "<Figure size 432x288 with 1 Axes>"
      ]
     },
     "metadata": {
      "needs_background": "light"
     },
     "output_type": "display_data"
    }
   ],
   "source": [
    "figure=data.closingbalance.hist(bins=50)"
   ]
  },
  {
   "cell_type": "code",
   "execution_count": 89,
   "id": "fe1f3813",
   "metadata": {},
   "outputs": [
    {
     "data": {
      "text/plain": [
       "count    5000.000000\n",
       "mean       43.577828\n",
       "std        37.148512\n",
       "min         3.680000\n",
       "25%        21.990000\n",
       "50%        33.340000\n",
       "75%        51.117500\n",
       "max       313.688694\n",
       "Name: closingbalance, dtype: float64"
      ]
     },
     "execution_count": 89,
     "metadata": {},
     "output_type": "execute_result"
    }
   ],
   "source": [
    "data['closingbalance'].describe()"
   ]
  },
  {
   "cell_type": "code",
   "execution_count": 90,
   "id": "7049580c",
   "metadata": {},
   "outputs": [
    {
     "name": "stdout",
     "output_type": "stream",
     "text": [
      "29.1275005\n"
     ]
    }
   ],
   "source": [
    "IQR_clos=data.closingbalance.quantile(0.75)-data.closingbalance.quantile(0.25)\n",
    "print(IQR_clos)"
   ]
  },
  {
   "cell_type": "code",
   "execution_count": 91,
   "id": "f23017e9",
   "metadata": {},
   "outputs": [
    {
     "name": "stdout",
     "output_type": "stream",
     "text": [
      "-65.39250150000001\n",
      "138.500002\n"
     ]
    }
   ],
   "source": [
    "lower_bridge=data['closingbalance'].quantile(0.25)-(IQR_clos*3)\n",
    "upper_bridge=data['closingbalance'].quantile(0.75)+(IQR_clos*3)\n",
    "print(lower_bridge)\n",
    "print(upper_bridge)"
   ]
  },
  {
   "cell_type": "code",
   "execution_count": 92,
   "id": "0e476fbd",
   "metadata": {},
   "outputs": [],
   "source": [
    "data1.loc[data1['closingbalance']>=138,'closingbalance']=138"
   ]
  },
  {
   "cell_type": "code",
   "execution_count": null,
   "id": "adec3727",
   "metadata": {},
   "outputs": [],
   "source": []
  },
  {
   "cell_type": "code",
   "execution_count": 93,
   "id": "c74a6c5d",
   "metadata": {},
   "outputs": [],
   "source": [
    "## low"
   ]
  },
  {
   "cell_type": "code",
   "execution_count": 94,
   "id": "befda1da",
   "metadata": {},
   "outputs": [
    {
     "data": {
      "image/png": "[encoded data removed]",
      "text/plain": [
       "<Figure size 432x288 with 1 Axes>"
      ]
     },
     "metadata": {
      "needs_background": "light"
     },
     "output_type": "display_data"
    }
   ],
   "source": [
    "figure=data.boxplot(column=\"low\")"
   ]
  },
  {
   "cell_type": "code",
   "execution_count": 95,
   "id": "60a4dbe4",
   "metadata": {},
   "outputs": [
    {
     "data": {
      "image/png": "[encoded data removed]",
      "text/plain": [
       "<Figure size 432x288 with 1 Axes>"
      ]
     },
     "metadata": {
      "needs_background": "light"
     },
     "output_type": "display_data"
    }
   ],
   "source": [
    "figure=data.low.hist(bins=50)"
   ]
  },
  {
   "cell_type": "code",
   "execution_count": 96,
   "id": "d24ad5f4",
   "metadata": {},
   "outputs": [
    {
     "data": {
      "text/plain": [
       "count    5000.000000\n",
       "mean       43.034129\n",
       "std        36.760641\n",
       "min         3.650000\n",
       "25%        21.718750\n",
       "50%        32.880001\n",
       "75%        50.415000\n",
       "max       312.432438\n",
       "Name: low, dtype: float64"
      ]
     },
     "execution_count": 96,
     "metadata": {},
     "output_type": "execute_result"
    }
   ],
   "source": [
    "data['low'].describe()"
   ]
  },
  {
   "cell_type": "code",
   "execution_count": 97,
   "id": "59b591f1",
   "metadata": {},
   "outputs": [
    {
     "name": "stdout",
     "output_type": "stream",
     "text": [
      "28.6962503125\n"
     ]
    }
   ],
   "source": [
    "IQR_low=data.low.quantile(0.75)-data.low.quantile(0.25)\n",
    "print(IQR_low)"
   ]
  },
  {
   "cell_type": "code",
   "execution_count": 98,
   "id": "b3320316",
   "metadata": {},
   "outputs": [
    {
     "name": "stdout",
     "output_type": "stream",
     "text": [
      "-64.37000125\n",
      "136.5037509375\n"
     ]
    }
   ],
   "source": [
    "lower_bridge=data['low'].quantile(0.25)-(IQR_low*3)\n",
    "upper_bridge=data['low'].quantile(0.75)+(IQR_low*3)\n",
    "print(lower_bridge)\n",
    "print(upper_bridge)"
   ]
  },
  {
   "cell_type": "code",
   "execution_count": 99,
   "id": "3e8ebfe1",
   "metadata": {},
   "outputs": [],
   "source": [
    "data1.loc[data1['low']>=136,'low']=136"
   ]
  },
  {
   "cell_type": "code",
   "execution_count": null,
   "id": "635d5f6b",
   "metadata": {},
   "outputs": [],
   "source": []
  },
  {
   "cell_type": "code",
   "execution_count": 100,
   "id": "d8d523b7",
   "metadata": {},
   "outputs": [],
   "source": [
    "##Unit_Sales"
   ]
  },
  {
   "cell_type": "code",
   "execution_count": 101,
   "id": "c7d11625",
   "metadata": {},
   "outputs": [
    {
     "data": {
      "image/png": "[encoded data removed]",
      "text/plain": [
       "<Figure size 432x288 with 1 Axes>"
      ]
     },
     "metadata": {
      "needs_background": "light"
     },
     "output_type": "display_data"
    }
   ],
   "source": [
    "figure=data.boxplot(column=\"Unit_Sales\") "
   ]
  },
  {
   "cell_type": "markdown",
   "id": "1aa01354",
   "metadata": {},
   "source": [
    "There is no outliers"
   ]
  },
  {
   "cell_type": "code",
   "execution_count": 102,
   "id": "41f9a99c",
   "metadata": {},
   "outputs": [
    {
     "data": {
      "image/png": "[encoded data removed]",
      "text/plain": [
       "<Figure size 432x288 with 1 Axes>"
      ]
     },
     "metadata": {
      "needs_background": "light"
     },
     "output_type": "display_data"
    }
   ],
   "source": [
    "figure=data.Unit_Sales.hist(bins=50)"
   ]
  },
  {
   "cell_type": "code",
   "execution_count": 103,
   "id": "967e883b",
   "metadata": {},
   "outputs": [
    {
     "data": {
      "text/plain": [
       "<AxesSubplot:xlabel='Unit_Sales', ylabel='Density'>"
      ]
     },
     "execution_count": 103,
     "metadata": {},
     "output_type": "execute_result"
    },
    {
     "data": {
      "image/png": "[encoded data removed]",
      "text/plain": [
       "<Figure size 432x288 with 1 Axes>"
      ]
     },
     "metadata": {
      "needs_background": "light"
     },
     "output_type": "display_data"
    }
   ],
   "source": [
    "sns.distplot(data['Unit_Sales'])"
   ]
  },
  {
   "cell_type": "code",
   "execution_count": 104,
   "id": "8805d61e",
   "metadata": {},
   "outputs": [
    {
     "data": {
      "text/plain": [
       "count    5000.00000\n",
       "mean       64.84151\n",
       "std        30.13968\n",
       "min        18.25000\n",
       "25%        35.50000\n",
       "50%        70.50000\n",
       "75%        89.95000\n",
       "max       118.75000\n",
       "Name: Unit_Sales, dtype: float64"
      ]
     },
     "execution_count": 104,
     "metadata": {},
     "output_type": "execute_result"
    }
   ],
   "source": [
    "data['Unit_Sales'].describe()"
   ]
  },
  {
   "cell_type": "code",
   "execution_count": 105,
   "id": "676c2119",
   "metadata": {},
   "outputs": [],
   "source": [
    "##Total_Sales"
   ]
  },
  {
   "cell_type": "code",
   "execution_count": 106,
   "id": "05dadf4b",
   "metadata": {},
   "outputs": [
    {
     "data": {
      "image/png": "[encoded data removed]",
      "text/plain": [
       "<Figure size 432x288 with 1 Axes>"
      ]
     },
     "metadata": {
      "needs_background": "light"
     },
     "output_type": "display_data"
    }
   ],
   "source": [
    "figure=data.boxplot(column=\"Total_Sales\")"
   ]
  },
  {
   "cell_type": "markdown",
   "id": "0f3982c1",
   "metadata": {},
   "source": [
    "There is no outliers"
   ]
  },
  {
   "cell_type": "code",
   "execution_count": 107,
   "id": "74aec16f",
   "metadata": {},
   "outputs": [
    {
     "data": {
      "image/png": "[encoded data removed]",
      "text/plain": [
       "<Figure size 432x288 with 1 Axes>"
      ]
     },
     "metadata": {
      "needs_background": "light"
     },
     "output_type": "display_data"
    }
   ],
   "source": [
    "figure=data.Total_Sales.hist(bins=50)"
   ]
  },
  {
   "cell_type": "code",
   "execution_count": 108,
   "id": "872cdd55",
   "metadata": {},
   "outputs": [
    {
     "data": {
      "text/html": [
       "<div>\n",
       "<style scoped>\n",
       "    .dataframe tbody tr th:only-of-type {\n",
       "        vertical-align: middle;\n",
       "    }\n",
       "\n",
       "    .dataframe tbody tr th {\n",
       "        vertical-align: top;\n",
       "    }\n",
       "\n",
       "    .dataframe thead th {\n",
       "        text-align: right;\n",
       "    }\n",
       "</style>\n",
       "<table border=\"1\" class=\"dataframe\">\n",
       "  <thead>\n",
       "    <tr style=\"text-align: right;\">\n",
       "      <th></th>\n",
       "      <th>Age</th>\n",
       "      <th>Salary</th>\n",
       "      <th>Base_pay</th>\n",
       "      <th>Bonus</th>\n",
       "      <th>Unit_Price</th>\n",
       "      <th>Volume</th>\n",
       "      <th>openingbalance</th>\n",
       "      <th>closingbalance</th>\n",
       "      <th>low</th>\n",
       "      <th>Unit_Sales</th>\n",
       "      <th>Total_Sales</th>\n",
       "      <th>Months</th>\n",
       "      <th>Education</th>\n",
       "    </tr>\n",
       "  </thead>\n",
       "  <tbody>\n",
       "    <tr>\n",
       "      <th>0</th>\n",
       "      <td>18</td>\n",
       "      <td>5089.00</td>\n",
       "      <td>2035.600</td>\n",
       "      <td>254.4500</td>\n",
       "      <td>3.77</td>\n",
       "      <td>21136850</td>\n",
       "      <td>3.75</td>\n",
       "      <td>3.76</td>\n",
       "      <td>3.65</td>\n",
       "      <td>18.25</td>\n",
       "      <td>18.799999</td>\n",
       "      <td>0</td>\n",
       "      <td>High School or less</td>\n",
       "    </tr>\n",
       "    <tr>\n",
       "      <th>1</th>\n",
       "      <td>19</td>\n",
       "      <td>5698.12</td>\n",
       "      <td>2279.248</td>\n",
       "      <td>284.9060</td>\n",
       "      <td>3.74</td>\n",
       "      <td>10462800</td>\n",
       "      <td>3.85</td>\n",
       "      <td>3.68</td>\n",
       "      <td>3.65</td>\n",
       "      <td>18.40</td>\n",
       "      <td>18.850000</td>\n",
       "      <td>0</td>\n",
       "      <td>High School or less</td>\n",
       "    </tr>\n",
       "    <tr>\n",
       "      <th>2</th>\n",
       "      <td>22</td>\n",
       "      <td>5896.65</td>\n",
       "      <td>2358.660</td>\n",
       "      <td>294.8325</td>\n",
       "      <td>3.89</td>\n",
       "      <td>18761000</td>\n",
       "      <td>4.23</td>\n",
       "      <td>4.29</td>\n",
       "      <td>3.72</td>\n",
       "      <td>18.70</td>\n",
       "      <td>18.900000</td>\n",
       "      <td>0</td>\n",
       "      <td>High School or less</td>\n",
       "    </tr>\n",
       "    <tr>\n",
       "      <th>3</th>\n",
       "      <td>21</td>\n",
       "      <td>6125.12</td>\n",
       "      <td>2450.048</td>\n",
       "      <td>306.2560</td>\n",
       "      <td>4.35</td>\n",
       "      <td>21136850</td>\n",
       "      <td>4.26</td>\n",
       "      <td>4.31</td>\n",
       "      <td>3.83</td>\n",
       "      <td>18.75</td>\n",
       "      <td>19.000000</td>\n",
       "      <td>0</td>\n",
       "      <td>High School or less</td>\n",
       "    </tr>\n",
       "    <tr>\n",
       "      <th>4</th>\n",
       "      <td>23</td>\n",
       "      <td>6245.00</td>\n",
       "      <td>2498.000</td>\n",
       "      <td>312.2500</td>\n",
       "      <td>4.34</td>\n",
       "      <td>21136850</td>\n",
       "      <td>4.79</td>\n",
       "      <td>4.41</td>\n",
       "      <td>4.08</td>\n",
       "      <td>18.80</td>\n",
       "      <td>19.049999</td>\n",
       "      <td>1</td>\n",
       "      <td>High School or less</td>\n",
       "    </tr>\n",
       "  </tbody>\n",
       "</table>\n",
       "</div>"
      ],
      "text/plain": [
       "   Age   Salary  Base_pay     Bonus  Unit_Price    Volume  openingbalance  \\\n",
       "0   18  5089.00  2035.600  254.4500        3.77  21136850            3.75   \n",
       "1   19  5698.12  2279.248  284.9060        3.74  10462800            3.85   \n",
       "2   22  5896.65  2358.660  294.8325        3.89  18761000            4.23   \n",
       "3   21  6125.12  2450.048  306.2560        4.35  21136850            4.26   \n",
       "4   23  6245.00  2498.000  312.2500        4.34  21136850            4.79   \n",
       "\n",
       "   closingbalance   low  Unit_Sales  Total_Sales  Months            Education  \n",
       "0            3.76  3.65       18.25    18.799999       0  High School or less  \n",
       "1            3.68  3.65       18.40    18.850000       0  High School or less  \n",
       "2            4.29  3.72       18.70    18.900000       0  High School or less  \n",
       "3            4.31  3.83       18.75    19.000000       0  High School or less  \n",
       "4            4.41  4.08       18.80    19.049999       1  High School or less  "
      ]
     },
     "execution_count": 108,
     "metadata": {},
     "output_type": "execute_result"
    }
   ],
   "source": [
    "data1.head()"
   ]
  },
  {
   "cell_type": "markdown",
   "id": "22229183",
   "metadata": {},
   "source": [
    "# Feature selection"
   ]
  },
  {
   "cell_type": "code",
   "execution_count": 109,
   "id": "18a954c3",
   "metadata": {},
   "outputs": [
    {
     "data": {
      "text/html": [
       "<div>\n",
       "<style scoped>\n",
       "    .dataframe tbody tr th:only-of-type {\n",
       "        vertical-align: middle;\n",
       "    }\n",
       "\n",
       "    .dataframe tbody tr th {\n",
       "        vertical-align: top;\n",
       "    }\n",
       "\n",
       "    .dataframe thead th {\n",
       "        text-align: right;\n",
       "    }\n",
       "</style>\n",
       "<table border=\"1\" class=\"dataframe\">\n",
       "  <thead>\n",
       "    <tr style=\"text-align: right;\">\n",
       "      <th></th>\n",
       "      <th>Age</th>\n",
       "      <th>Salary</th>\n",
       "      <th>Base_pay</th>\n",
       "      <th>Bonus</th>\n",
       "      <th>Unit_Price</th>\n",
       "      <th>Volume</th>\n",
       "      <th>openingbalance</th>\n",
       "      <th>closingbalance</th>\n",
       "      <th>low</th>\n",
       "      <th>Unit_Sales</th>\n",
       "      <th>Total_Sales</th>\n",
       "      <th>Months</th>\n",
       "      <th>Education</th>\n",
       "    </tr>\n",
       "  </thead>\n",
       "  <tbody>\n",
       "    <tr>\n",
       "      <th>0</th>\n",
       "      <td>18</td>\n",
       "      <td>5089.00</td>\n",
       "      <td>2035.600</td>\n",
       "      <td>254.4500</td>\n",
       "      <td>3.77</td>\n",
       "      <td>21136850</td>\n",
       "      <td>3.75</td>\n",
       "      <td>3.76</td>\n",
       "      <td>3.65</td>\n",
       "      <td>18.25</td>\n",
       "      <td>18.799999</td>\n",
       "      <td>0</td>\n",
       "      <td>High School or less</td>\n",
       "    </tr>\n",
       "    <tr>\n",
       "      <th>1</th>\n",
       "      <td>19</td>\n",
       "      <td>5698.12</td>\n",
       "      <td>2279.248</td>\n",
       "      <td>284.9060</td>\n",
       "      <td>3.74</td>\n",
       "      <td>10462800</td>\n",
       "      <td>3.85</td>\n",
       "      <td>3.68</td>\n",
       "      <td>3.65</td>\n",
       "      <td>18.40</td>\n",
       "      <td>18.850000</td>\n",
       "      <td>0</td>\n",
       "      <td>High School or less</td>\n",
       "    </tr>\n",
       "    <tr>\n",
       "      <th>2</th>\n",
       "      <td>22</td>\n",
       "      <td>5896.65</td>\n",
       "      <td>2358.660</td>\n",
       "      <td>294.8325</td>\n",
       "      <td>3.89</td>\n",
       "      <td>18761000</td>\n",
       "      <td>4.23</td>\n",
       "      <td>4.29</td>\n",
       "      <td>3.72</td>\n",
       "      <td>18.70</td>\n",
       "      <td>18.900000</td>\n",
       "      <td>0</td>\n",
       "      <td>High School or less</td>\n",
       "    </tr>\n",
       "    <tr>\n",
       "      <th>3</th>\n",
       "      <td>21</td>\n",
       "      <td>6125.12</td>\n",
       "      <td>2450.048</td>\n",
       "      <td>306.2560</td>\n",
       "      <td>4.35</td>\n",
       "      <td>21136850</td>\n",
       "      <td>4.26</td>\n",
       "      <td>4.31</td>\n",
       "      <td>3.83</td>\n",
       "      <td>18.75</td>\n",
       "      <td>19.000000</td>\n",
       "      <td>0</td>\n",
       "      <td>High School or less</td>\n",
       "    </tr>\n",
       "    <tr>\n",
       "      <th>4</th>\n",
       "      <td>23</td>\n",
       "      <td>6245.00</td>\n",
       "      <td>2498.000</td>\n",
       "      <td>312.2500</td>\n",
       "      <td>4.34</td>\n",
       "      <td>21136850</td>\n",
       "      <td>4.79</td>\n",
       "      <td>4.41</td>\n",
       "      <td>4.08</td>\n",
       "      <td>18.80</td>\n",
       "      <td>19.049999</td>\n",
       "      <td>1</td>\n",
       "      <td>High School or less</td>\n",
       "    </tr>\n",
       "  </tbody>\n",
       "</table>\n",
       "</div>"
      ],
      "text/plain": [
       "   Age   Salary  Base_pay     Bonus  Unit_Price    Volume  openingbalance  \\\n",
       "0   18  5089.00  2035.600  254.4500        3.77  21136850            3.75   \n",
       "1   19  5698.12  2279.248  284.9060        3.74  10462800            3.85   \n",
       "2   22  5896.65  2358.660  294.8325        3.89  18761000            4.23   \n",
       "3   21  6125.12  2450.048  306.2560        4.35  21136850            4.26   \n",
       "4   23  6245.00  2498.000  312.2500        4.34  21136850            4.79   \n",
       "\n",
       "   closingbalance   low  Unit_Sales  Total_Sales  Months            Education  \n",
       "0            3.76  3.65       18.25    18.799999       0  High School or less  \n",
       "1            3.68  3.65       18.40    18.850000       0  High School or less  \n",
       "2            4.29  3.72       18.70    18.900000       0  High School or less  \n",
       "3            4.31  3.83       18.75    19.000000       0  High School or less  \n",
       "4            4.41  4.08       18.80    19.049999       1  High School or less  "
      ]
     },
     "execution_count": 109,
     "metadata": {},
     "output_type": "execute_result"
    }
   ],
   "source": [
    "data1.head()"
   ]
  },
  {
   "cell_type": "code",
   "execution_count": 110,
   "id": "1d8a4cdb",
   "metadata": {},
   "outputs": [
    {
     "data": {
      "text/plain": [
       "Age                 int64\n",
       "Salary            float64\n",
       "Base_pay          float64\n",
       "Bonus             float64\n",
       "Unit_Price        float64\n",
       "Volume              int64\n",
       "openingbalance    float64\n",
       "closingbalance    float64\n",
       "low               float64\n",
       "Unit_Sales        float64\n",
       "Total_Sales       float32\n",
       "Months              int64\n",
       "Education          object\n",
       "dtype: object"
      ]
     },
     "execution_count": 110,
     "metadata": {},
     "output_type": "execute_result"
    }
   ],
   "source": [
    "data1.dtypes"
   ]
  },
  {
   "cell_type": "markdown",
   "id": "b5748964",
   "metadata": {},
   "source": [
    "### Preprocessing the data, convert string data binary form or give some label."
   ]
  },
  {
   "cell_type": "code",
   "execution_count": 111,
   "id": "15cb5d36",
   "metadata": {},
   "outputs": [],
   "source": [
    "def LABEL_ENCODING(c1):\n",
    "    from sklearn import preprocessing\n",
    "    label_encoder = preprocessing.LabelEncoder()\n",
    "    data1[c1]= label_encoder.fit_transform(data1[c1])\n",
    "    data[c1].unique()"
   ]
  },
  {
   "cell_type": "code",
   "execution_count": 112,
   "id": "dc5a7bb2",
   "metadata": {},
   "outputs": [
    {
     "data": {
      "text/html": [
       "<div>\n",
       "<style scoped>\n",
       "    .dataframe tbody tr th:only-of-type {\n",
       "        vertical-align: middle;\n",
       "    }\n",
       "\n",
       "    .dataframe tbody tr th {\n",
       "        vertical-align: top;\n",
       "    }\n",
       "\n",
       "    .dataframe thead th {\n",
       "        text-align: right;\n",
       "    }\n",
       "</style>\n",
       "<table border=\"1\" class=\"dataframe\">\n",
       "  <thead>\n",
       "    <tr style=\"text-align: right;\">\n",
       "      <th></th>\n",
       "      <th>Age</th>\n",
       "      <th>Salary</th>\n",
       "      <th>Base_pay</th>\n",
       "      <th>Bonus</th>\n",
       "      <th>Unit_Price</th>\n",
       "      <th>Volume</th>\n",
       "      <th>openingbalance</th>\n",
       "      <th>closingbalance</th>\n",
       "      <th>low</th>\n",
       "      <th>Unit_Sales</th>\n",
       "      <th>Total_Sales</th>\n",
       "      <th>Months</th>\n",
       "      <th>Education</th>\n",
       "    </tr>\n",
       "  </thead>\n",
       "  <tbody>\n",
       "    <tr>\n",
       "      <th>0</th>\n",
       "      <td>18</td>\n",
       "      <td>5089.00</td>\n",
       "      <td>2035.600</td>\n",
       "      <td>254.4500</td>\n",
       "      <td>3.77</td>\n",
       "      <td>21136850</td>\n",
       "      <td>3.75000</td>\n",
       "      <td>3.76</td>\n",
       "      <td>3.65</td>\n",
       "      <td>18.25</td>\n",
       "      <td>18.799999</td>\n",
       "      <td>0</td>\n",
       "      <td>1</td>\n",
       "    </tr>\n",
       "    <tr>\n",
       "      <th>1</th>\n",
       "      <td>19</td>\n",
       "      <td>5698.12</td>\n",
       "      <td>2279.248</td>\n",
       "      <td>284.9060</td>\n",
       "      <td>3.74</td>\n",
       "      <td>10462800</td>\n",
       "      <td>3.85000</td>\n",
       "      <td>3.68</td>\n",
       "      <td>3.65</td>\n",
       "      <td>18.40</td>\n",
       "      <td>18.850000</td>\n",
       "      <td>0</td>\n",
       "      <td>1</td>\n",
       "    </tr>\n",
       "    <tr>\n",
       "      <th>2</th>\n",
       "      <td>22</td>\n",
       "      <td>5896.65</td>\n",
       "      <td>2358.660</td>\n",
       "      <td>294.8325</td>\n",
       "      <td>3.89</td>\n",
       "      <td>18761000</td>\n",
       "      <td>4.23000</td>\n",
       "      <td>4.29</td>\n",
       "      <td>3.72</td>\n",
       "      <td>18.70</td>\n",
       "      <td>18.900000</td>\n",
       "      <td>0</td>\n",
       "      <td>1</td>\n",
       "    </tr>\n",
       "    <tr>\n",
       "      <th>3</th>\n",
       "      <td>21</td>\n",
       "      <td>6125.12</td>\n",
       "      <td>2450.048</td>\n",
       "      <td>306.2560</td>\n",
       "      <td>4.35</td>\n",
       "      <td>21136850</td>\n",
       "      <td>4.26000</td>\n",
       "      <td>4.31</td>\n",
       "      <td>3.83</td>\n",
       "      <td>18.75</td>\n",
       "      <td>19.000000</td>\n",
       "      <td>0</td>\n",
       "      <td>1</td>\n",
       "    </tr>\n",
       "    <tr>\n",
       "      <th>4</th>\n",
       "      <td>23</td>\n",
       "      <td>6245.00</td>\n",
       "      <td>2498.000</td>\n",
       "      <td>312.2500</td>\n",
       "      <td>4.34</td>\n",
       "      <td>21136850</td>\n",
       "      <td>4.79000</td>\n",
       "      <td>4.41</td>\n",
       "      <td>4.08</td>\n",
       "      <td>18.80</td>\n",
       "      <td>19.049999</td>\n",
       "      <td>1</td>\n",
       "      <td>1</td>\n",
       "    </tr>\n",
       "    <tr>\n",
       "      <th>...</th>\n",
       "      <td>...</td>\n",
       "      <td>...</td>\n",
       "      <td>...</td>\n",
       "      <td>...</td>\n",
       "      <td>...</td>\n",
       "      <td>...</td>\n",
       "      <td>...</td>\n",
       "      <td>...</td>\n",
       "      <td>...</td>\n",
       "      <td>...</td>\n",
       "      <td>...</td>\n",
       "      <td>...</td>\n",
       "      <td>...</td>\n",
       "    </tr>\n",
       "    <tr>\n",
       "      <th>4995</th>\n",
       "      <td>72</td>\n",
       "      <td>175952.00</td>\n",
       "      <td>71267.000</td>\n",
       "      <td>8797.0000</td>\n",
       "      <td>157.00</td>\n",
       "      <td>3927000</td>\n",
       "      <td>43.92202</td>\n",
       "      <td>138.00</td>\n",
       "      <td>136.00</td>\n",
       "      <td>117.80</td>\n",
       "      <td>43.922020</td>\n",
       "      <td>72</td>\n",
       "      <td>3</td>\n",
       "    </tr>\n",
       "    <tr>\n",
       "      <th>4996</th>\n",
       "      <td>73</td>\n",
       "      <td>175952.00</td>\n",
       "      <td>71267.000</td>\n",
       "      <td>8797.0000</td>\n",
       "      <td>157.00</td>\n",
       "      <td>6031900</td>\n",
       "      <td>43.92202</td>\n",
       "      <td>138.00</td>\n",
       "      <td>136.00</td>\n",
       "      <td>118.60</td>\n",
       "      <td>43.922020</td>\n",
       "      <td>72</td>\n",
       "      <td>3</td>\n",
       "    </tr>\n",
       "    <tr>\n",
       "      <th>4997</th>\n",
       "      <td>74</td>\n",
       "      <td>175952.00</td>\n",
       "      <td>71267.000</td>\n",
       "      <td>8797.0000</td>\n",
       "      <td>157.00</td>\n",
       "      <td>7949400</td>\n",
       "      <td>43.92202</td>\n",
       "      <td>138.00</td>\n",
       "      <td>136.00</td>\n",
       "      <td>118.60</td>\n",
       "      <td>43.922020</td>\n",
       "      <td>72</td>\n",
       "      <td>3</td>\n",
       "    </tr>\n",
       "    <tr>\n",
       "      <th>4998</th>\n",
       "      <td>74</td>\n",
       "      <td>175952.00</td>\n",
       "      <td>71267.000</td>\n",
       "      <td>8797.0000</td>\n",
       "      <td>157.00</td>\n",
       "      <td>3908400</td>\n",
       "      <td>43.92202</td>\n",
       "      <td>138.00</td>\n",
       "      <td>136.00</td>\n",
       "      <td>118.65</td>\n",
       "      <td>43.922020</td>\n",
       "      <td>72</td>\n",
       "      <td>3</td>\n",
       "    </tr>\n",
       "    <tr>\n",
       "      <th>4999</th>\n",
       "      <td>77</td>\n",
       "      <td>175952.00</td>\n",
       "      <td>71267.000</td>\n",
       "      <td>8797.0000</td>\n",
       "      <td>157.00</td>\n",
       "      <td>6003300</td>\n",
       "      <td>43.92202</td>\n",
       "      <td>138.00</td>\n",
       "      <td>136.00</td>\n",
       "      <td>118.75</td>\n",
       "      <td>43.922020</td>\n",
       "      <td>72</td>\n",
       "      <td>3</td>\n",
       "    </tr>\n",
       "  </tbody>\n",
       "</table>\n",
       "<p>5000 rows × 13 columns</p>\n",
       "</div>"
      ],
      "text/plain": [
       "      Age     Salary   Base_pay      Bonus  Unit_Price    Volume  \\\n",
       "0      18    5089.00   2035.600   254.4500        3.77  21136850   \n",
       "1      19    5698.12   2279.248   284.9060        3.74  10462800   \n",
       "2      22    5896.65   2358.660   294.8325        3.89  18761000   \n",
       "3      21    6125.12   2450.048   306.2560        4.35  21136850   \n",
       "4      23    6245.00   2498.000   312.2500        4.34  21136850   \n",
       "...   ...        ...        ...        ...         ...       ...   \n",
       "4995   72  175952.00  71267.000  8797.0000      157.00   3927000   \n",
       "4996   73  175952.00  71267.000  8797.0000      157.00   6031900   \n",
       "4997   74  175952.00  71267.000  8797.0000      157.00   7949400   \n",
       "4998   74  175952.00  71267.000  8797.0000      157.00   3908400   \n",
       "4999   77  175952.00  71267.000  8797.0000      157.00   6003300   \n",
       "\n",
       "      openingbalance  closingbalance     low  Unit_Sales  Total_Sales  Months  \\\n",
       "0            3.75000            3.76    3.65       18.25    18.799999       0   \n",
       "1            3.85000            3.68    3.65       18.40    18.850000       0   \n",
       "2            4.23000            4.29    3.72       18.70    18.900000       0   \n",
       "3            4.26000            4.31    3.83       18.75    19.000000       0   \n",
       "4            4.79000            4.41    4.08       18.80    19.049999       1   \n",
       "...              ...             ...     ...         ...          ...     ...   \n",
       "4995        43.92202          138.00  136.00      117.80    43.922020      72   \n",
       "4996        43.92202          138.00  136.00      118.60    43.922020      72   \n",
       "4997        43.92202          138.00  136.00      118.60    43.922020      72   \n",
       "4998        43.92202          138.00  136.00      118.65    43.922020      72   \n",
       "4999        43.92202          138.00  136.00      118.75    43.922020      72   \n",
       "\n",
       "      Education  \n",
       "0             1  \n",
       "1             1  \n",
       "2             1  \n",
       "3             1  \n",
       "4             1  \n",
       "...         ...  \n",
       "4995          3  \n",
       "4996          3  \n",
       "4997          3  \n",
       "4998          3  \n",
       "4999          3  \n",
       "\n",
       "[5000 rows x 13 columns]"
      ]
     },
     "execution_count": 112,
     "metadata": {},
     "output_type": "execute_result"
    }
   ],
   "source": [
    "LABEL_ENCODING(\"Education\")\n",
    "data1"
   ]
  },
  {
   "cell_type": "code",
   "execution_count": 113,
   "id": "44edb779",
   "metadata": {},
   "outputs": [
    {
     "data": {
      "image/png": "[encoded data removed]",
      "text/plain": [
       "<Figure size 2088x936 with 2 Axes>"
      ]
     },
     "metadata": {
      "needs_background": "light"
     },
     "output_type": "display_data"
    }
   ],
   "source": [
    "plt.figure(figsize=(29,13))\n",
    "cor = data1.drop(\"Education\",axis=1).corr()\n",
    "sns.heatmap(cor,annot = True)\n",
    "plt.show()"
   ]
  },
  {
   "cell_type": "code",
   "execution_count": 114,
   "id": "9ec6f2f9",
   "metadata": {},
   "outputs": [],
   "source": [
    "def correlation(dataset,threshold):\n",
    "    col_corr = set()\n",
    "    corr_matrix = dataset.corr()\n",
    "    for i in range(len(corr_matrix.columns)):\n",
    "        for j in range(i):\n",
    "            if abs(corr_matrix.iloc[i,j])>threshold:\n",
    "                colname = corr_matrix.columns[i]\n",
    "                col_corr.add(colname)\n",
    "    return col_corr"
   ]
  },
  {
   "cell_type": "code",
   "execution_count": 115,
   "id": "1e8d1333",
   "metadata": {},
   "outputs": [],
   "source": [
    "corr_fea = correlation(data.drop(\"Education\",axis=1),0.8)"
   ]
  },
  {
   "cell_type": "code",
   "execution_count": 116,
   "id": "144ddfa1",
   "metadata": {},
   "outputs": [
    {
     "name": "stdout",
     "output_type": "stream",
     "text": [
      "{'Base_pay', 'Bonus', 'low', 'Unit_Sales', 'Total_Sales'}\n"
     ]
    }
   ],
   "source": [
    "print(corr_fea)"
   ]
  },
  {
   "cell_type": "code",
   "execution_count": 117,
   "id": "7f8cc250",
   "metadata": {},
   "outputs": [],
   "source": [
    "final_data = data1.drop(['Base_pay','Unit_Sales','low','Total_Sales','Bonus'],axis=1)"
   ]
  },
  {
   "cell_type": "markdown",
   "id": "c92c7dab",
   "metadata": {},
   "source": [
    "#### Here we apply correlationship between the numerical data, and observed how the each columns correlated with labeled(dependent) data.\n",
    "#### And also check which independents data are correlated with each other, and we found there is 4 columns correalted with each other so we droped those columns. ['low', 'Bonus', 'Unit_Sales', 'Total_Sales','Base_pay'] , Also we can change our correlated value like 0.7,0.9,0.8 (i take here 0.8 correlated)."
   ]
  },
  {
   "cell_type": "code",
   "execution_count": 118,
   "id": "17f1e51f",
   "metadata": {},
   "outputs": [
    {
     "data": {
      "text/html": [
       "<div>\n",
       "<style scoped>\n",
       "    .dataframe tbody tr th:only-of-type {\n",
       "        vertical-align: middle;\n",
       "    }\n",
       "\n",
       "    .dataframe tbody tr th {\n",
       "        vertical-align: top;\n",
       "    }\n",
       "\n",
       "    .dataframe thead th {\n",
       "        text-align: right;\n",
       "    }\n",
       "</style>\n",
       "<table border=\"1\" class=\"dataframe\">\n",
       "  <thead>\n",
       "    <tr style=\"text-align: right;\">\n",
       "      <th></th>\n",
       "      <th>Age</th>\n",
       "      <th>Salary</th>\n",
       "      <th>Unit_Price</th>\n",
       "      <th>Volume</th>\n",
       "      <th>openingbalance</th>\n",
       "      <th>closingbalance</th>\n",
       "      <th>Months</th>\n",
       "      <th>Education</th>\n",
       "    </tr>\n",
       "  </thead>\n",
       "  <tbody>\n",
       "    <tr>\n",
       "      <th>0</th>\n",
       "      <td>18</td>\n",
       "      <td>5089.00</td>\n",
       "      <td>3.77</td>\n",
       "      <td>21136850</td>\n",
       "      <td>3.75000</td>\n",
       "      <td>3.76</td>\n",
       "      <td>0</td>\n",
       "      <td>1</td>\n",
       "    </tr>\n",
       "    <tr>\n",
       "      <th>1</th>\n",
       "      <td>19</td>\n",
       "      <td>5698.12</td>\n",
       "      <td>3.74</td>\n",
       "      <td>10462800</td>\n",
       "      <td>3.85000</td>\n",
       "      <td>3.68</td>\n",
       "      <td>0</td>\n",
       "      <td>1</td>\n",
       "    </tr>\n",
       "    <tr>\n",
       "      <th>2</th>\n",
       "      <td>22</td>\n",
       "      <td>5896.65</td>\n",
       "      <td>3.89</td>\n",
       "      <td>18761000</td>\n",
       "      <td>4.23000</td>\n",
       "      <td>4.29</td>\n",
       "      <td>0</td>\n",
       "      <td>1</td>\n",
       "    </tr>\n",
       "    <tr>\n",
       "      <th>3</th>\n",
       "      <td>21</td>\n",
       "      <td>6125.12</td>\n",
       "      <td>4.35</td>\n",
       "      <td>21136850</td>\n",
       "      <td>4.26000</td>\n",
       "      <td>4.31</td>\n",
       "      <td>0</td>\n",
       "      <td>1</td>\n",
       "    </tr>\n",
       "    <tr>\n",
       "      <th>4</th>\n",
       "      <td>23</td>\n",
       "      <td>6245.00</td>\n",
       "      <td>4.34</td>\n",
       "      <td>21136850</td>\n",
       "      <td>4.79000</td>\n",
       "      <td>4.41</td>\n",
       "      <td>1</td>\n",
       "      <td>1</td>\n",
       "    </tr>\n",
       "    <tr>\n",
       "      <th>...</th>\n",
       "      <td>...</td>\n",
       "      <td>...</td>\n",
       "      <td>...</td>\n",
       "      <td>...</td>\n",
       "      <td>...</td>\n",
       "      <td>...</td>\n",
       "      <td>...</td>\n",
       "      <td>...</td>\n",
       "    </tr>\n",
       "    <tr>\n",
       "      <th>4995</th>\n",
       "      <td>72</td>\n",
       "      <td>175952.00</td>\n",
       "      <td>157.00</td>\n",
       "      <td>3927000</td>\n",
       "      <td>43.92202</td>\n",
       "      <td>138.00</td>\n",
       "      <td>72</td>\n",
       "      <td>3</td>\n",
       "    </tr>\n",
       "    <tr>\n",
       "      <th>4996</th>\n",
       "      <td>73</td>\n",
       "      <td>175952.00</td>\n",
       "      <td>157.00</td>\n",
       "      <td>6031900</td>\n",
       "      <td>43.92202</td>\n",
       "      <td>138.00</td>\n",
       "      <td>72</td>\n",
       "      <td>3</td>\n",
       "    </tr>\n",
       "    <tr>\n",
       "      <th>4997</th>\n",
       "      <td>74</td>\n",
       "      <td>175952.00</td>\n",
       "      <td>157.00</td>\n",
       "      <td>7949400</td>\n",
       "      <td>43.92202</td>\n",
       "      <td>138.00</td>\n",
       "      <td>72</td>\n",
       "      <td>3</td>\n",
       "    </tr>\n",
       "    <tr>\n",
       "      <th>4998</th>\n",
       "      <td>74</td>\n",
       "      <td>175952.00</td>\n",
       "      <td>157.00</td>\n",
       "      <td>3908400</td>\n",
       "      <td>43.92202</td>\n",
       "      <td>138.00</td>\n",
       "      <td>72</td>\n",
       "      <td>3</td>\n",
       "    </tr>\n",
       "    <tr>\n",
       "      <th>4999</th>\n",
       "      <td>77</td>\n",
       "      <td>175952.00</td>\n",
       "      <td>157.00</td>\n",
       "      <td>6003300</td>\n",
       "      <td>43.92202</td>\n",
       "      <td>138.00</td>\n",
       "      <td>72</td>\n",
       "      <td>3</td>\n",
       "    </tr>\n",
       "  </tbody>\n",
       "</table>\n",
       "<p>5000 rows × 8 columns</p>\n",
       "</div>"
      ],
      "text/plain": [
       "      Age     Salary  Unit_Price    Volume  openingbalance  closingbalance  \\\n",
       "0      18    5089.00        3.77  21136850         3.75000            3.76   \n",
       "1      19    5698.12        3.74  10462800         3.85000            3.68   \n",
       "2      22    5896.65        3.89  18761000         4.23000            4.29   \n",
       "3      21    6125.12        4.35  21136850         4.26000            4.31   \n",
       "4      23    6245.00        4.34  21136850         4.79000            4.41   \n",
       "...   ...        ...         ...       ...             ...             ...   \n",
       "4995   72  175952.00      157.00   3927000        43.92202          138.00   \n",
       "4996   73  175952.00      157.00   6031900        43.92202          138.00   \n",
       "4997   74  175952.00      157.00   7949400        43.92202          138.00   \n",
       "4998   74  175952.00      157.00   3908400        43.92202          138.00   \n",
       "4999   77  175952.00      157.00   6003300        43.92202          138.00   \n",
       "\n",
       "      Months  Education  \n",
       "0          0          1  \n",
       "1          0          1  \n",
       "2          0          1  \n",
       "3          0          1  \n",
       "4          1          1  \n",
       "...      ...        ...  \n",
       "4995      72          3  \n",
       "4996      72          3  \n",
       "4997      72          3  \n",
       "4998      72          3  \n",
       "4999      72          3  \n",
       "\n",
       "[5000 rows x 8 columns]"
      ]
     },
     "execution_count": 118,
     "metadata": {},
     "output_type": "execute_result"
    }
   ],
   "source": [
    "final_data"
   ]
  },
  {
   "cell_type": "code",
   "execution_count": 119,
   "id": "42932fe0",
   "metadata": {},
   "outputs": [],
   "source": [
    "# figure=final_data.Unit_Price.hist(bins=50)"
   ]
  },
  {
   "cell_type": "code",
   "execution_count": 120,
   "id": "82b5db3c",
   "metadata": {},
   "outputs": [],
   "source": [
    "# final_data['Unit_Price'] = np.log(final_data['Unit_Price'])"
   ]
  },
  {
   "cell_type": "code",
   "execution_count": 121,
   "id": "18a6abea",
   "metadata": {},
   "outputs": [],
   "source": [
    "# figure=final_data.Unit_Price.hist(bins=50)"
   ]
  },
  {
   "cell_type": "code",
   "execution_count": 122,
   "id": "04679961",
   "metadata": {},
   "outputs": [],
   "source": [
    "X = final_data.drop('Salary',axis=1)#Features data, based on this features data we gonna pridict the out put\n",
    "Y = final_data['Salary']#output or labeled data"
   ]
  },
  {
   "cell_type": "code",
   "execution_count": 123,
   "id": "469afb3a",
   "metadata": {},
   "outputs": [],
   "source": [
    "from sklearn.model_selection import train_test_split #split the data set"
   ]
  },
  {
   "cell_type": "code",
   "execution_count": 124,
   "id": "04b59ddf",
   "metadata": {},
   "outputs": [],
   "source": [
    "X_train,X_test,y_train,y_test = train_test_split(X,Y,test_size=0.2,random_state=0)"
   ]
  },
  {
   "cell_type": "code",
   "execution_count": 125,
   "id": "d0b44e6a",
   "metadata": {},
   "outputs": [
    {
     "name": "stdout",
     "output_type": "stream",
     "text": [
      "(4000, 7)\n",
      "(1000, 7)\n",
      "(4000,)\n",
      "(1000,)\n"
     ]
    }
   ],
   "source": [
    "print(X_train.shape)\n",
    "print(X_test.shape)\n",
    "print(y_train.shape)\n",
    "print(y_test.shape)"
   ]
  },
  {
   "cell_type": "code",
   "execution_count": 126,
   "id": "51cf4df4",
   "metadata": {},
   "outputs": [],
   "source": [
    "# from sklearn.preprocessing import StandardScaler #standardization our data set because not all value are close to each other, like some value have 5 , some have 20."
   ]
  },
  {
   "cell_type": "code",
   "execution_count": 127,
   "id": "ae31b926",
   "metadata": {},
   "outputs": [],
   "source": [
    "# sc = StandardScaler()"
   ]
  },
  {
   "cell_type": "code",
   "execution_count": 128,
   "id": "ad0e2905",
   "metadata": {},
   "outputs": [],
   "source": [
    "# X_train = sc.fit_transform(X_train)"
   ]
  },
  {
   "cell_type": "code",
   "execution_count": 129,
   "id": "a8cb82ff",
   "metadata": {},
   "outputs": [],
   "source": [
    "# X_test = sc.transform(X_test)\n"
   ]
  },
  {
   "cell_type": "markdown",
   "id": "7522cbbb",
   "metadata": {},
   "source": [
    "# Our dependent variable is numeric so, can apply only Regression Ml model"
   ]
  },
  {
   "cell_type": "markdown",
   "id": "92a4587e",
   "metadata": {},
   "source": [
    "# LinearRegression"
   ]
  },
  {
   "cell_type": "code",
   "execution_count": 130,
   "id": "e5ab819c",
   "metadata": {},
   "outputs": [],
   "source": [
    "from sklearn.linear_model import LinearRegression"
   ]
  },
  {
   "cell_type": "code",
   "execution_count": 131,
   "id": "48148bb9",
   "metadata": {},
   "outputs": [],
   "source": [
    "from sklearn.metrics import mean_squared_error"
   ]
  },
  {
   "cell_type": "code",
   "execution_count": 132,
   "id": "65c0c348",
   "metadata": {},
   "outputs": [],
   "source": [
    "lin_model = LinearRegression()"
   ]
  },
  {
   "cell_type": "code",
   "execution_count": 133,
   "id": "51e5936d",
   "metadata": {},
   "outputs": [
    {
     "data": {
      "text/plain": [
       "LinearRegression()"
      ]
     },
     "execution_count": 133,
     "metadata": {},
     "output_type": "execute_result"
    }
   ],
   "source": [
    "lin_model.fit(X_train,y_train)"
   ]
  },
  {
   "cell_type": "code",
   "execution_count": 134,
   "id": "f78fca52",
   "metadata": {},
   "outputs": [],
   "source": [
    "y_test_predict = lin_model.predict(X_test)"
   ]
  },
  {
   "cell_type": "code",
   "execution_count": 135,
   "id": "d1ed896c",
   "metadata": {},
   "outputs": [],
   "source": [
    "rmse = (np.sqrt(mean_squared_error(y_test,y_test_predict)))"
   ]
  },
  {
   "cell_type": "code",
   "execution_count": 136,
   "id": "80dab170",
   "metadata": {},
   "outputs": [],
   "source": [
    "from sklearn.metrics import r2_score"
   ]
  },
  {
   "cell_type": "code",
   "execution_count": 137,
   "id": "2b63326e",
   "metadata": {},
   "outputs": [],
   "source": [
    "r2 = r2_score(y_test,y_test_predict)"
   ]
  },
  {
   "cell_type": "code",
   "execution_count": 138,
   "id": "b7a62884",
   "metadata": {},
   "outputs": [
    {
     "name": "stdout",
     "output_type": "stream",
     "text": [
      "Accuracy:  0.6449159982906072\n"
     ]
    }
   ],
   "source": [
    "print(\"Accuracy: \",r2)"
   ]
  },
  {
   "cell_type": "code",
   "execution_count": 139,
   "id": "c4ea3c1f",
   "metadata": {},
   "outputs": [
    {
     "name": "stdout",
     "output_type": "stream",
     "text": [
      "root_mean_squared:  15121.919658332732\n"
     ]
    }
   ],
   "source": [
    "print(\"root_mean_squared: \",rmse)"
   ]
  },
  {
   "cell_type": "markdown",
   "id": "c5db3efc",
   "metadata": {},
   "source": [
    "# Decision Tree Regressor"
   ]
  },
  {
   "cell_type": "code",
   "execution_count": 140,
   "id": "aa86b6e2",
   "metadata": {},
   "outputs": [],
   "source": [
    "from sklearn.tree import DecisionTreeRegressor"
   ]
  },
  {
   "cell_type": "code",
   "execution_count": 141,
   "id": "16862089",
   "metadata": {},
   "outputs": [],
   "source": [
    "DTR = DecisionTreeRegressor(max_depth=3)"
   ]
  },
  {
   "cell_type": "code",
   "execution_count": 142,
   "id": "e454eacc",
   "metadata": {},
   "outputs": [
    {
     "data": {
      "text/plain": [
       "DecisionTreeRegressor(max_depth=3)"
      ]
     },
     "execution_count": 142,
     "metadata": {},
     "output_type": "execute_result"
    }
   ],
   "source": [
    "DTR.fit(X_train,y_train)"
   ]
  },
  {
   "cell_type": "code",
   "execution_count": 143,
   "id": "014de39f",
   "metadata": {},
   "outputs": [
    {
     "name": "stdout",
     "output_type": "stream",
     "text": [
      "0.7823282790830147\n"
     ]
    }
   ],
   "source": [
    "dec_score = DTR.score(X_train,y_train)\n",
    "print(dec_score)"
   ]
  },
  {
   "cell_type": "code",
   "execution_count": 144,
   "id": "16953aab",
   "metadata": {},
   "outputs": [
    {
     "name": "stdout",
     "output_type": "stream",
     "text": [
      "0.7906289480191286\n"
     ]
    }
   ],
   "source": [
    "print(DTR.score(X_test,y_test))"
   ]
  },
  {
   "cell_type": "markdown",
   "id": "f3e04ea6",
   "metadata": {},
   "source": [
    "# RandomForest Regressor"
   ]
  },
  {
   "cell_type": "code",
   "execution_count": 145,
   "id": "651a73ab",
   "metadata": {},
   "outputs": [],
   "source": [
    "from sklearn.ensemble import RandomForestRegressor"
   ]
  },
  {
   "cell_type": "code",
   "execution_count": 146,
   "id": "7fe6230c",
   "metadata": {},
   "outputs": [],
   "source": [
    "RF = RandomForestRegressor(n_estimators=5,random_state=0)"
   ]
  },
  {
   "cell_type": "code",
   "execution_count": 147,
   "id": "ccf5cb8e",
   "metadata": {},
   "outputs": [
    {
     "data": {
      "text/plain": [
       "RandomForestRegressor(n_estimators=5, random_state=0)"
      ]
     },
     "execution_count": 147,
     "metadata": {},
     "output_type": "execute_result"
    }
   ],
   "source": [
    "RF.fit(X_train,y_train)"
   ]
  },
  {
   "cell_type": "code",
   "execution_count": 148,
   "id": "ee4a96a5",
   "metadata": {},
   "outputs": [
    {
     "name": "stdout",
     "output_type": "stream",
     "text": [
      "0.9985343958405717\n"
     ]
    }
   ],
   "source": [
    "rf = RF.score(X_train,y_train)\n",
    "print(rf)"
   ]
  },
  {
   "cell_type": "code",
   "execution_count": 149,
   "id": "475451ce",
   "metadata": {},
   "outputs": [
    {
     "name": "stdout",
     "output_type": "stream",
     "text": [
      "0.9956219755809771\n"
     ]
    }
   ],
   "source": [
    "print(RF.score(X_test,y_test))"
   ]
  },
  {
   "cell_type": "code",
   "execution_count": 150,
   "id": "22e3470e",
   "metadata": {},
   "outputs": [],
   "source": [
    "mylist=[]\n",
    "mylist2=[]"
   ]
  },
  {
   "cell_type": "code",
   "execution_count": 151,
   "id": "8cd9531b",
   "metadata": {},
   "outputs": [],
   "source": [
    "mylist.append(r2)"
   ]
  },
  {
   "cell_type": "code",
   "execution_count": 152,
   "id": "86f7055d",
   "metadata": {},
   "outputs": [],
   "source": [
    "mylist2.append(\"LinearRegression\")"
   ]
  },
  {
   "cell_type": "code",
   "execution_count": 153,
   "id": "f421787a",
   "metadata": {},
   "outputs": [],
   "source": [
    "mylist.append(dec_score)"
   ]
  },
  {
   "cell_type": "code",
   "execution_count": 154,
   "id": "73489241",
   "metadata": {},
   "outputs": [],
   "source": [
    "mylist2.append(\"Decision Tree Regressor\")"
   ]
  },
  {
   "cell_type": "code",
   "execution_count": 155,
   "id": "c410b3b9",
   "metadata": {},
   "outputs": [],
   "source": [
    "mylist.append(rf)"
   ]
  },
  {
   "cell_type": "code",
   "execution_count": 156,
   "id": "6fdd954d",
   "metadata": {},
   "outputs": [],
   "source": [
    "mylist2.append(\"RandomForest Regressor\")"
   ]
  },
  {
   "cell_type": "code",
   "execution_count": 157,
   "id": "12c795b5",
   "metadata": {},
   "outputs": [
    {
     "data": {
      "image/png": "[encoded data removed]",
      "text/plain": [
       "<Figure size 576x432 with 1 Axes>"
      ]
     },
     "metadata": {},
     "output_type": "display_data"
    }
   ],
   "source": [
    "plt.rcParams['figure.figsize']=8,6\n",
    "sns.set_style(\"darkgrid\")\n",
    "ax = sns.barplot(x=mylist2, y=mylist, palette = \"rocket\", saturation =1.5)\n",
    "plt.xlabel(\"Regressor Models\", fontsize = 20 )\n",
    "plt.ylabel(\"Accuracy\", fontsize = 20)\n",
    "plt.title(\"Accuracy of different Regreesor Models\", fontsize = 20)\n",
    "plt.xticks(fontsize = 11, horizontalalignment = 'center', rotation = 8)\n",
    "plt.yticks(fontsize = 13)\n",
    "for p in ax.patches:\n",
    "    width, height = p.get_width(), p.get_height()\n",
    "    x, y = p.get_xy() \n",
    "    ax.annotate(f'{height:.2%}', (x + width/2, y + height*1.02), ha='center', fontsize = 'x-large')\n",
    "plt.show()"
   ]
  },
  {
   "cell_type": "markdown",
   "id": "07b41fb0",
   "metadata": {},
   "source": [
    "The hiring manager can understand  different features considered are affecting the salary component with the Accuracy <p><b>LinearRegression -> 64.49%</b></p><p><b> DecisionTreeRegressor -> 78.23%</b></p><p><b>RandomForestRegressor -> 99.85% </b></p>This analysis can greatly help in making huge structural changes to the financial wing of the HR department."
   ]
  },
  {
   "cell_type": "code",
   "execution_count": null,
   "id": "301a233f",
   "metadata": {},
   "outputs": [],
   "source": []
  }
 ],
 "metadata": {
  "kernelspec": {
   "display_name": "Python 3 (ipykernel)",
   "language": "python",
   "name": "python3"
  },
  "language_info": {
   "codemirror_mode": {
    "name": "ipython",
    "version": 3
   },
   "file_extension": ".py",
   "mimetype": "text/x-python",
   "name": "python",
   "nbconvert_exporter": "python",
   "pygments_lexer": "ipython3",
   "version": "3.8.0"
  }
 },
 "nbformat": 4,
 "nbformat_minor": 5
}
