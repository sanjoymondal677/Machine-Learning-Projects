{
 "cells": [
  {
   "cell_type": "code",
   "execution_count": 1,
   "id": "d84d729b",
   "metadata": {
    "_cell_guid": "b1076dfc-b9ad-4769-8c92-a6c4dae69d19",
    "_uuid": "8f2839f25d086af736a60e9eeb907d3b93b6e0e5",
    "execution": {
     "iopub.execute_input": "2022-02-17T18:48:50.031280Z",
     "iopub.status.busy": "2022-02-17T18:48:50.030036Z",
     "iopub.status.idle": "2022-02-17T18:48:50.046340Z",
     "shell.execute_reply": "2022-02-17T18:48:50.046935Z",
     "shell.execute_reply.started": "2022-02-17T18:48:00.464319Z"
    },
    "papermill": {
     "duration": 0.095391,
     "end_time": "2022-02-17T18:48:50.047284",
     "exception": false,
     "start_time": "2022-02-17T18:48:49.951893",
     "status": "completed"
    },
    "tags": []
   },
   "outputs": [
    {
     "name": "stdout",
     "output_type": "stream",
     "text": [
      "/kaggle/input/cervical-cancer-risk-factorse/risk_factors_cervical_cancer.csv\n"
     ]
    }
   ],
   "source": [
    "# This Python 3 environment comes with many helpful analytics libraries installed\n",
    "# It is defined by the kaggle/python Docker image: https://github.com/kaggle/docker-python\n",
    "# For example, here's several helpful packages to load\n",
    "\n",
    "import numpy as np # linear algebra\n",
    "import pandas as pd # data processing, CSV file I/O (e.g. pd.read_csv)\n",
    "\n",
    "# Input data files are available in the read-only \"../input/\" directory\n",
    "# For example, running this (by clicking run or pressing Shift+Enter) will list all files under the input directory\n",
    "\n",
    "import os\n",
    "for dirname, _, filenames in os.walk('/kaggle/input'):\n",
    "    for filename in filenames:\n",
    "        print(os.path.join(dirname, filename))\n",
    "\n",
    "# You can write up to 20GB to the current directory (/kaggle/working/) that gets preserved as output when you create a version using \"Save & Run All\" \n",
    "# You can also write temporary files to /kaggle/temp/, but they won't be saved outside of the current session"
   ]
  },
  {
   "cell_type": "markdown",
   "id": "01a781d6",
   "metadata": {
    "papermill": {
     "duration": 0.071502,
     "end_time": "2022-02-17T18:48:50.189362",
     "exception": false,
     "start_time": "2022-02-17T18:48:50.117860",
     "status": "completed"
    },
    "tags": []
   },
   "source": [
    "<h2>DataSet Link</h2>"
   ]
  },
  {
   "cell_type": "markdown",
   "id": "aabe4b88",
   "metadata": {
    "papermill": {
     "duration": 0.071042,
     "end_time": "2022-02-17T18:48:50.334471",
     "exception": false,
     "start_time": "2022-02-17T18:48:50.263429",
     "status": "completed"
    },
    "tags": []
   },
   "source": [
    "https://www.kaggle.com/yamqwe/cervical-cancer-risk-factorse"
   ]
  },
  {
   "cell_type": "code",
   "execution_count": 2,
   "id": "fa262899",
   "metadata": {
    "execution": {
     "iopub.execute_input": "2022-02-17T18:48:50.476550Z",
     "iopub.status.busy": "2022-02-17T18:48:50.475897Z",
     "iopub.status.idle": "2022-02-17T18:48:51.686802Z",
     "shell.execute_reply": "2022-02-17T18:48:51.685994Z",
     "shell.execute_reply.started": "2022-02-17T18:48:00.477959Z"
    },
    "papermill": {
     "duration": 1.283353,
     "end_time": "2022-02-17T18:48:51.687025",
     "exception": false,
     "start_time": "2022-02-17T18:48:50.403672",
     "status": "completed"
    },
    "tags": []
   },
   "outputs": [],
   "source": [
    "import numpy as np\n",
    "import pandas as pd\n",
    "import matplotlib.pyplot as plt\n",
    "import seaborn as sns"
   ]
  },
  {
   "cell_type": "code",
   "execution_count": 3,
   "id": "09829557",
   "metadata": {
    "execution": {
     "iopub.execute_input": "2022-02-17T18:48:51.833488Z",
     "iopub.status.busy": "2022-02-17T18:48:51.832733Z",
     "iopub.status.idle": "2022-02-17T18:48:51.859648Z",
     "shell.execute_reply": "2022-02-17T18:48:51.859030Z",
     "shell.execute_reply.started": "2022-02-17T18:48:00.494112Z"
    },
    "papermill": {
     "duration": 0.099365,
     "end_time": "2022-02-17T18:48:51.859812",
     "exception": false,
     "start_time": "2022-02-17T18:48:51.760447",
     "status": "completed"
    },
    "tags": []
   },
   "outputs": [],
   "source": [
    "data = pd.read_csv(\"../input/cervical-cancer-risk-factorse/risk_factors_cervical_cancer.csv\")"
   ]
  },
  {
   "cell_type": "code",
   "execution_count": 4,
   "id": "fe027afd",
   "metadata": {
    "execution": {
     "iopub.execute_input": "2022-02-17T18:48:52.010679Z",
     "iopub.status.busy": "2022-02-17T18:48:52.009486Z",
     "iopub.status.idle": "2022-02-17T18:48:52.041890Z",
     "shell.execute_reply": "2022-02-17T18:48:52.042453Z",
     "shell.execute_reply.started": "2022-02-17T18:48:00.519832Z"
    },
    "papermill": {
     "duration": 0.113279,
     "end_time": "2022-02-17T18:48:52.042655",
     "exception": false,
     "start_time": "2022-02-17T18:48:51.929376",
     "status": "completed"
    },
    "tags": []
   },
   "outputs": [
    {
     "data": {
      "text/html": [
       "<div>\n",
       "<style scoped>\n",
       "    .dataframe tbody tr th:only-of-type {\n",
       "        vertical-align: middle;\n",
       "    }\n",
       "\n",
       "    .dataframe tbody tr th {\n",
       "        vertical-align: top;\n",
       "    }\n",
       "\n",
       "    .dataframe thead th {\n",
       "        text-align: right;\n",
       "    }\n",
       "</style>\n",
       "<table border=\"1\" class=\"dataframe\">\n",
       "  <thead>\n",
       "    <tr style=\"text-align: right;\">\n",
       "      <th></th>\n",
       "      <th>Age</th>\n",
       "      <th>Number of sexual partners</th>\n",
       "      <th>First sexual intercourse</th>\n",
       "      <th>Num of pregnancies</th>\n",
       "      <th>Smokes</th>\n",
       "      <th>Smokes (years)</th>\n",
       "      <th>Smokes (packs/year)</th>\n",
       "      <th>Hormonal Contraceptives</th>\n",
       "      <th>Hormonal Contraceptives (years)</th>\n",
       "      <th>IUD</th>\n",
       "      <th>...</th>\n",
       "      <th>STDs: Time since first diagnosis</th>\n",
       "      <th>STDs: Time since last diagnosis</th>\n",
       "      <th>Dx:Cancer</th>\n",
       "      <th>Dx:CIN</th>\n",
       "      <th>Dx:HPV</th>\n",
       "      <th>Dx</th>\n",
       "      <th>Hinselmann</th>\n",
       "      <th>Schiller</th>\n",
       "      <th>Citology</th>\n",
       "      <th>Biopsy</th>\n",
       "    </tr>\n",
       "  </thead>\n",
       "  <tbody>\n",
       "    <tr>\n",
       "      <th>0</th>\n",
       "      <td>18</td>\n",
       "      <td>4.0</td>\n",
       "      <td>15.0</td>\n",
       "      <td>1.0</td>\n",
       "      <td>0.0</td>\n",
       "      <td>0.0</td>\n",
       "      <td>0.0</td>\n",
       "      <td>0.0</td>\n",
       "      <td>0.0</td>\n",
       "      <td>0.0</td>\n",
       "      <td>...</td>\n",
       "      <td>?</td>\n",
       "      <td>?</td>\n",
       "      <td>0</td>\n",
       "      <td>0</td>\n",
       "      <td>0</td>\n",
       "      <td>0</td>\n",
       "      <td>0</td>\n",
       "      <td>0</td>\n",
       "      <td>0</td>\n",
       "      <td>0</td>\n",
       "    </tr>\n",
       "    <tr>\n",
       "      <th>1</th>\n",
       "      <td>15</td>\n",
       "      <td>1.0</td>\n",
       "      <td>14.0</td>\n",
       "      <td>1.0</td>\n",
       "      <td>0.0</td>\n",
       "      <td>0.0</td>\n",
       "      <td>0.0</td>\n",
       "      <td>0.0</td>\n",
       "      <td>0.0</td>\n",
       "      <td>0.0</td>\n",
       "      <td>...</td>\n",
       "      <td>?</td>\n",
       "      <td>?</td>\n",
       "      <td>0</td>\n",
       "      <td>0</td>\n",
       "      <td>0</td>\n",
       "      <td>0</td>\n",
       "      <td>0</td>\n",
       "      <td>0</td>\n",
       "      <td>0</td>\n",
       "      <td>0</td>\n",
       "    </tr>\n",
       "    <tr>\n",
       "      <th>2</th>\n",
       "      <td>34</td>\n",
       "      <td>1.0</td>\n",
       "      <td>?</td>\n",
       "      <td>1.0</td>\n",
       "      <td>0.0</td>\n",
       "      <td>0.0</td>\n",
       "      <td>0.0</td>\n",
       "      <td>0.0</td>\n",
       "      <td>0.0</td>\n",
       "      <td>0.0</td>\n",
       "      <td>...</td>\n",
       "      <td>?</td>\n",
       "      <td>?</td>\n",
       "      <td>0</td>\n",
       "      <td>0</td>\n",
       "      <td>0</td>\n",
       "      <td>0</td>\n",
       "      <td>0</td>\n",
       "      <td>0</td>\n",
       "      <td>0</td>\n",
       "      <td>0</td>\n",
       "    </tr>\n",
       "    <tr>\n",
       "      <th>3</th>\n",
       "      <td>52</td>\n",
       "      <td>5.0</td>\n",
       "      <td>16.0</td>\n",
       "      <td>4.0</td>\n",
       "      <td>1.0</td>\n",
       "      <td>37.0</td>\n",
       "      <td>37.0</td>\n",
       "      <td>1.0</td>\n",
       "      <td>3.0</td>\n",
       "      <td>0.0</td>\n",
       "      <td>...</td>\n",
       "      <td>?</td>\n",
       "      <td>?</td>\n",
       "      <td>1</td>\n",
       "      <td>0</td>\n",
       "      <td>1</td>\n",
       "      <td>0</td>\n",
       "      <td>0</td>\n",
       "      <td>0</td>\n",
       "      <td>0</td>\n",
       "      <td>0</td>\n",
       "    </tr>\n",
       "    <tr>\n",
       "      <th>4</th>\n",
       "      <td>46</td>\n",
       "      <td>3.0</td>\n",
       "      <td>21.0</td>\n",
       "      <td>4.0</td>\n",
       "      <td>0.0</td>\n",
       "      <td>0.0</td>\n",
       "      <td>0.0</td>\n",
       "      <td>1.0</td>\n",
       "      <td>15.0</td>\n",
       "      <td>0.0</td>\n",
       "      <td>...</td>\n",
       "      <td>?</td>\n",
       "      <td>?</td>\n",
       "      <td>0</td>\n",
       "      <td>0</td>\n",
       "      <td>0</td>\n",
       "      <td>0</td>\n",
       "      <td>0</td>\n",
       "      <td>0</td>\n",
       "      <td>0</td>\n",
       "      <td>0</td>\n",
       "    </tr>\n",
       "  </tbody>\n",
       "</table>\n",
       "<p>5 rows × 36 columns</p>\n",
       "</div>"
      ],
      "text/plain": [
       "   Age Number of sexual partners First sexual intercourse Num of pregnancies  \\\n",
       "0   18                       4.0                     15.0                1.0   \n",
       "1   15                       1.0                     14.0                1.0   \n",
       "2   34                       1.0                        ?                1.0   \n",
       "3   52                       5.0                     16.0                4.0   \n",
       "4   46                       3.0                     21.0                4.0   \n",
       "\n",
       "  Smokes Smokes (years) Smokes (packs/year) Hormonal Contraceptives  \\\n",
       "0    0.0            0.0                 0.0                     0.0   \n",
       "1    0.0            0.0                 0.0                     0.0   \n",
       "2    0.0            0.0                 0.0                     0.0   \n",
       "3    1.0           37.0                37.0                     1.0   \n",
       "4    0.0            0.0                 0.0                     1.0   \n",
       "\n",
       "  Hormonal Contraceptives (years)  IUD  ... STDs: Time since first diagnosis  \\\n",
       "0                             0.0  0.0  ...                                ?   \n",
       "1                             0.0  0.0  ...                                ?   \n",
       "2                             0.0  0.0  ...                                ?   \n",
       "3                             3.0  0.0  ...                                ?   \n",
       "4                            15.0  0.0  ...                                ?   \n",
       "\n",
       "  STDs: Time since last diagnosis Dx:Cancer Dx:CIN Dx:HPV Dx Hinselmann  \\\n",
       "0                               ?         0      0      0  0          0   \n",
       "1                               ?         0      0      0  0          0   \n",
       "2                               ?         0      0      0  0          0   \n",
       "3                               ?         1      0      1  0          0   \n",
       "4                               ?         0      0      0  0          0   \n",
       "\n",
       "  Schiller Citology Biopsy  \n",
       "0        0        0      0  \n",
       "1        0        0      0  \n",
       "2        0        0      0  \n",
       "3        0        0      0  \n",
       "4        0        0      0  \n",
       "\n",
       "[5 rows x 36 columns]"
      ]
     },
     "execution_count": 4,
     "metadata": {},
     "output_type": "execute_result"
    }
   ],
   "source": [
    "data.head()"
   ]
  },
  {
   "cell_type": "code",
   "execution_count": 5,
   "id": "f89431f0",
   "metadata": {
    "execution": {
     "iopub.execute_input": "2022-02-17T18:48:52.206932Z",
     "iopub.status.busy": "2022-02-17T18:48:52.206239Z",
     "iopub.status.idle": "2022-02-17T18:48:52.212256Z",
     "shell.execute_reply": "2022-02-17T18:48:52.211568Z",
     "shell.execute_reply.started": "2022-02-17T18:48:00.546706Z"
    },
    "papermill": {
     "duration": 0.098744,
     "end_time": "2022-02-17T18:48:52.212421",
     "exception": false,
     "start_time": "2022-02-17T18:48:52.113677",
     "status": "completed"
    },
    "tags": []
   },
   "outputs": [
    {
     "data": {
      "text/html": [
       "<div>\n",
       "<style scoped>\n",
       "    .dataframe tbody tr th:only-of-type {\n",
       "        vertical-align: middle;\n",
       "    }\n",
       "\n",
       "    .dataframe tbody tr th {\n",
       "        vertical-align: top;\n",
       "    }\n",
       "\n",
       "    .dataframe thead th {\n",
       "        text-align: right;\n",
       "    }\n",
       "</style>\n",
       "<table border=\"1\" class=\"dataframe\">\n",
       "  <thead>\n",
       "    <tr style=\"text-align: right;\">\n",
       "      <th></th>\n",
       "      <th>Age</th>\n",
       "      <th>Number of sexual partners</th>\n",
       "      <th>First sexual intercourse</th>\n",
       "      <th>Num of pregnancies</th>\n",
       "      <th>Smokes</th>\n",
       "      <th>Smokes (years)</th>\n",
       "      <th>Smokes (packs/year)</th>\n",
       "      <th>Hormonal Contraceptives</th>\n",
       "      <th>Hormonal Contraceptives (years)</th>\n",
       "      <th>IUD</th>\n",
       "      <th>...</th>\n",
       "      <th>STDs: Time since first diagnosis</th>\n",
       "      <th>STDs: Time since last diagnosis</th>\n",
       "      <th>Dx:Cancer</th>\n",
       "      <th>Dx:CIN</th>\n",
       "      <th>Dx:HPV</th>\n",
       "      <th>Dx</th>\n",
       "      <th>Hinselmann</th>\n",
       "      <th>Schiller</th>\n",
       "      <th>Citology</th>\n",
       "      <th>Biopsy</th>\n",
       "    </tr>\n",
       "  </thead>\n",
       "  <tbody>\n",
       "    <tr>\n",
       "      <th>853</th>\n",
       "      <td>34</td>\n",
       "      <td>3.0</td>\n",
       "      <td>18.0</td>\n",
       "      <td>0.0</td>\n",
       "      <td>0.0</td>\n",
       "      <td>0.0</td>\n",
       "      <td>0.0</td>\n",
       "      <td>0.0</td>\n",
       "      <td>0.0</td>\n",
       "      <td>0.0</td>\n",
       "      <td>...</td>\n",
       "      <td>?</td>\n",
       "      <td>?</td>\n",
       "      <td>0</td>\n",
       "      <td>0</td>\n",
       "      <td>0</td>\n",
       "      <td>0</td>\n",
       "      <td>0</td>\n",
       "      <td>0</td>\n",
       "      <td>0</td>\n",
       "      <td>0</td>\n",
       "    </tr>\n",
       "    <tr>\n",
       "      <th>854</th>\n",
       "      <td>32</td>\n",
       "      <td>2.0</td>\n",
       "      <td>19.0</td>\n",
       "      <td>1.0</td>\n",
       "      <td>0.0</td>\n",
       "      <td>0.0</td>\n",
       "      <td>0.0</td>\n",
       "      <td>1.0</td>\n",
       "      <td>8.0</td>\n",
       "      <td>0.0</td>\n",
       "      <td>...</td>\n",
       "      <td>?</td>\n",
       "      <td>?</td>\n",
       "      <td>0</td>\n",
       "      <td>0</td>\n",
       "      <td>0</td>\n",
       "      <td>0</td>\n",
       "      <td>0</td>\n",
       "      <td>0</td>\n",
       "      <td>0</td>\n",
       "      <td>0</td>\n",
       "    </tr>\n",
       "    <tr>\n",
       "      <th>855</th>\n",
       "      <td>25</td>\n",
       "      <td>2.0</td>\n",
       "      <td>17.0</td>\n",
       "      <td>0.0</td>\n",
       "      <td>0.0</td>\n",
       "      <td>0.0</td>\n",
       "      <td>0.0</td>\n",
       "      <td>1.0</td>\n",
       "      <td>0.08</td>\n",
       "      <td>0.0</td>\n",
       "      <td>...</td>\n",
       "      <td>?</td>\n",
       "      <td>?</td>\n",
       "      <td>0</td>\n",
       "      <td>0</td>\n",
       "      <td>0</td>\n",
       "      <td>0</td>\n",
       "      <td>0</td>\n",
       "      <td>0</td>\n",
       "      <td>1</td>\n",
       "      <td>0</td>\n",
       "    </tr>\n",
       "    <tr>\n",
       "      <th>856</th>\n",
       "      <td>33</td>\n",
       "      <td>2.0</td>\n",
       "      <td>24.0</td>\n",
       "      <td>2.0</td>\n",
       "      <td>0.0</td>\n",
       "      <td>0.0</td>\n",
       "      <td>0.0</td>\n",
       "      <td>1.0</td>\n",
       "      <td>0.08</td>\n",
       "      <td>0.0</td>\n",
       "      <td>...</td>\n",
       "      <td>?</td>\n",
       "      <td>?</td>\n",
       "      <td>0</td>\n",
       "      <td>0</td>\n",
       "      <td>0</td>\n",
       "      <td>0</td>\n",
       "      <td>0</td>\n",
       "      <td>0</td>\n",
       "      <td>0</td>\n",
       "      <td>0</td>\n",
       "    </tr>\n",
       "    <tr>\n",
       "      <th>857</th>\n",
       "      <td>29</td>\n",
       "      <td>2.0</td>\n",
       "      <td>20.0</td>\n",
       "      <td>1.0</td>\n",
       "      <td>0.0</td>\n",
       "      <td>0.0</td>\n",
       "      <td>0.0</td>\n",
       "      <td>1.0</td>\n",
       "      <td>0.5</td>\n",
       "      <td>0.0</td>\n",
       "      <td>...</td>\n",
       "      <td>?</td>\n",
       "      <td>?</td>\n",
       "      <td>0</td>\n",
       "      <td>0</td>\n",
       "      <td>0</td>\n",
       "      <td>0</td>\n",
       "      <td>0</td>\n",
       "      <td>0</td>\n",
       "      <td>0</td>\n",
       "      <td>0</td>\n",
       "    </tr>\n",
       "  </tbody>\n",
       "</table>\n",
       "<p>5 rows × 36 columns</p>\n",
       "</div>"
      ],
      "text/plain": [
       "     Age Number of sexual partners First sexual intercourse  \\\n",
       "853   34                       3.0                     18.0   \n",
       "854   32                       2.0                     19.0   \n",
       "855   25                       2.0                     17.0   \n",
       "856   33                       2.0                     24.0   \n",
       "857   29                       2.0                     20.0   \n",
       "\n",
       "    Num of pregnancies Smokes Smokes (years) Smokes (packs/year)  \\\n",
       "853                0.0    0.0            0.0                 0.0   \n",
       "854                1.0    0.0            0.0                 0.0   \n",
       "855                0.0    0.0            0.0                 0.0   \n",
       "856                2.0    0.0            0.0                 0.0   \n",
       "857                1.0    0.0            0.0                 0.0   \n",
       "\n",
       "    Hormonal Contraceptives Hormonal Contraceptives (years)  IUD  ...  \\\n",
       "853                     0.0                             0.0  0.0  ...   \n",
       "854                     1.0                             8.0  0.0  ...   \n",
       "855                     1.0                            0.08  0.0  ...   \n",
       "856                     1.0                            0.08  0.0  ...   \n",
       "857                     1.0                             0.5  0.0  ...   \n",
       "\n",
       "    STDs: Time since first diagnosis STDs: Time since last diagnosis  \\\n",
       "853                                ?                               ?   \n",
       "854                                ?                               ?   \n",
       "855                                ?                               ?   \n",
       "856                                ?                               ?   \n",
       "857                                ?                               ?   \n",
       "\n",
       "    Dx:Cancer Dx:CIN Dx:HPV Dx Hinselmann Schiller Citology Biopsy  \n",
       "853         0      0      0  0          0        0        0      0  \n",
       "854         0      0      0  0          0        0        0      0  \n",
       "855         0      0      0  0          0        0        1      0  \n",
       "856         0      0      0  0          0        0        0      0  \n",
       "857         0      0      0  0          0        0        0      0  \n",
       "\n",
       "[5 rows x 36 columns]"
      ]
     },
     "execution_count": 5,
     "metadata": {},
     "output_type": "execute_result"
    }
   ],
   "source": [
    "data.tail()"
   ]
  },
  {
   "cell_type": "code",
   "execution_count": 6,
   "id": "341cda91",
   "metadata": {
    "execution": {
     "iopub.execute_input": "2022-02-17T18:48:52.363294Z",
     "iopub.status.busy": "2022-02-17T18:48:52.355433Z",
     "iopub.status.idle": "2022-02-17T18:48:52.386544Z",
     "shell.execute_reply": "2022-02-17T18:48:52.387284Z",
     "shell.execute_reply.started": "2022-02-17T18:48:00.578852Z"
    },
    "papermill": {
     "duration": 0.10522,
     "end_time": "2022-02-17T18:48:52.387494",
     "exception": false,
     "start_time": "2022-02-17T18:48:52.282274",
     "status": "completed"
    },
    "tags": []
   },
   "outputs": [
    {
     "name": "stdout",
     "output_type": "stream",
     "text": [
      "<class 'pandas.core.frame.DataFrame'>\n",
      "RangeIndex: 858 entries, 0 to 857\n",
      "Data columns (total 36 columns):\n",
      " #   Column                              Non-Null Count  Dtype \n",
      "---  ------                              --------------  ----- \n",
      " 0   Age                                 858 non-null    int64 \n",
      " 1   Number of sexual partners           858 non-null    object\n",
      " 2   First sexual intercourse            858 non-null    object\n",
      " 3   Num of pregnancies                  858 non-null    object\n",
      " 4   Smokes                              858 non-null    object\n",
      " 5   Smokes (years)                      858 non-null    object\n",
      " 6   Smokes (packs/year)                 858 non-null    object\n",
      " 7   Hormonal Contraceptives             858 non-null    object\n",
      " 8   Hormonal Contraceptives (years)     858 non-null    object\n",
      " 9   IUD                                 858 non-null    object\n",
      " 10  IUD (years)                         858 non-null    object\n",
      " 11  STDs                                858 non-null    object\n",
      " 12  STDs (number)                       858 non-null    object\n",
      " 13  STDs:condylomatosis                 858 non-null    object\n",
      " 14  STDs:cervical condylomatosis        858 non-null    object\n",
      " 15  STDs:vaginal condylomatosis         858 non-null    object\n",
      " 16  STDs:vulvo-perineal condylomatosis  858 non-null    object\n",
      " 17  STDs:syphilis                       858 non-null    object\n",
      " 18  STDs:pelvic inflammatory disease    858 non-null    object\n",
      " 19  STDs:genital herpes                 858 non-null    object\n",
      " 20  STDs:molluscum contagiosum          858 non-null    object\n",
      " 21  STDs:AIDS                           858 non-null    object\n",
      " 22  STDs:HIV                            858 non-null    object\n",
      " 23  STDs:Hepatitis B                    858 non-null    object\n",
      " 24  STDs:HPV                            858 non-null    object\n",
      " 25  STDs: Number of diagnosis           858 non-null    int64 \n",
      " 26  STDs: Time since first diagnosis    858 non-null    object\n",
      " 27  STDs: Time since last diagnosis     858 non-null    object\n",
      " 28  Dx:Cancer                           858 non-null    int64 \n",
      " 29  Dx:CIN                              858 non-null    int64 \n",
      " 30  Dx:HPV                              858 non-null    int64 \n",
      " 31  Dx                                  858 non-null    int64 \n",
      " 32  Hinselmann                          858 non-null    int64 \n",
      " 33  Schiller                            858 non-null    int64 \n",
      " 34  Citology                            858 non-null    int64 \n",
      " 35  Biopsy                              858 non-null    int64 \n",
      "dtypes: int64(10), object(26)\n",
      "memory usage: 241.4+ KB\n"
     ]
    }
   ],
   "source": [
    "data.info()"
   ]
  },
  {
   "cell_type": "code",
   "execution_count": 7,
   "id": "83476233",
   "metadata": {
    "execution": {
     "iopub.execute_input": "2022-02-17T18:48:52.534348Z",
     "iopub.status.busy": "2022-02-17T18:48:52.533594Z",
     "iopub.status.idle": "2022-02-17T18:48:52.543906Z",
     "shell.execute_reply": "2022-02-17T18:48:52.544542Z",
     "shell.execute_reply.started": "2022-02-17T18:48:00.606304Z"
    },
    "papermill": {
     "duration": 0.085751,
     "end_time": "2022-02-17T18:48:52.544763",
     "exception": false,
     "start_time": "2022-02-17T18:48:52.459012",
     "status": "completed"
    },
    "tags": []
   },
   "outputs": [
    {
     "data": {
      "text/plain": [
       "Age                                   0\n",
       "Number of sexual partners             0\n",
       "First sexual intercourse              0\n",
       "Num of pregnancies                    0\n",
       "Smokes                                0\n",
       "Smokes (years)                        0\n",
       "Smokes (packs/year)                   0\n",
       "Hormonal Contraceptives               0\n",
       "Hormonal Contraceptives (years)       0\n",
       "IUD                                   0\n",
       "IUD (years)                           0\n",
       "STDs                                  0\n",
       "STDs (number)                         0\n",
       "STDs:condylomatosis                   0\n",
       "STDs:cervical condylomatosis          0\n",
       "STDs:vaginal condylomatosis           0\n",
       "STDs:vulvo-perineal condylomatosis    0\n",
       "STDs:syphilis                         0\n",
       "STDs:pelvic inflammatory disease      0\n",
       "STDs:genital herpes                   0\n",
       "STDs:molluscum contagiosum            0\n",
       "STDs:AIDS                             0\n",
       "STDs:HIV                              0\n",
       "STDs:Hepatitis B                      0\n",
       "STDs:HPV                              0\n",
       "STDs: Number of diagnosis             0\n",
       "STDs: Time since first diagnosis      0\n",
       "STDs: Time since last diagnosis       0\n",
       "Dx:Cancer                             0\n",
       "Dx:CIN                                0\n",
       "Dx:HPV                                0\n",
       "Dx                                    0\n",
       "Hinselmann                            0\n",
       "Schiller                              0\n",
       "Citology                              0\n",
       "Biopsy                                0\n",
       "dtype: int64"
      ]
     },
     "execution_count": 7,
     "metadata": {},
     "output_type": "execute_result"
    }
   ],
   "source": [
    "data.isnull().sum()"
   ]
  },
  {
   "cell_type": "code",
   "execution_count": 8,
   "id": "a4f778a1",
   "metadata": {
    "execution": {
     "iopub.execute_input": "2022-02-17T18:48:52.693826Z",
     "iopub.status.busy": "2022-02-17T18:48:52.693144Z",
     "iopub.status.idle": "2022-02-17T18:48:52.704738Z",
     "shell.execute_reply": "2022-02-17T18:48:52.705258Z",
     "shell.execute_reply.started": "2022-02-17T18:48:00.620908Z"
    },
    "papermill": {
     "duration": 0.088807,
     "end_time": "2022-02-17T18:48:52.705468",
     "exception": false,
     "start_time": "2022-02-17T18:48:52.616661",
     "status": "completed"
    },
    "tags": []
   },
   "outputs": [
    {
     "data": {
      "text/plain": [
       "Age                                   44\n",
       "Number of sexual partners             13\n",
       "First sexual intercourse              22\n",
       "Num of pregnancies                    12\n",
       "Smokes                                 3\n",
       "Smokes (years)                        31\n",
       "Smokes (packs/year)                   63\n",
       "Hormonal Contraceptives                3\n",
       "Hormonal Contraceptives (years)       41\n",
       "IUD                                    3\n",
       "IUD (years)                           27\n",
       "STDs                                   3\n",
       "STDs (number)                          6\n",
       "STDs:condylomatosis                    3\n",
       "STDs:cervical condylomatosis           2\n",
       "STDs:vaginal condylomatosis            3\n",
       "STDs:vulvo-perineal condylomatosis     3\n",
       "STDs:syphilis                          3\n",
       "STDs:pelvic inflammatory disease       3\n",
       "STDs:genital herpes                    3\n",
       "STDs:molluscum contagiosum             3\n",
       "STDs:AIDS                              2\n",
       "STDs:HIV                               3\n",
       "STDs:Hepatitis B                       3\n",
       "STDs:HPV                               3\n",
       "STDs: Number of diagnosis              4\n",
       "STDs: Time since first diagnosis      19\n",
       "STDs: Time since last diagnosis       19\n",
       "Dx:Cancer                              2\n",
       "Dx:CIN                                 2\n",
       "Dx:HPV                                 2\n",
       "Dx                                     2\n",
       "Hinselmann                             2\n",
       "Schiller                               2\n",
       "Citology                               2\n",
       "Biopsy                                 2\n",
       "dtype: int64"
      ]
     },
     "execution_count": 8,
     "metadata": {},
     "output_type": "execute_result"
    }
   ],
   "source": [
    "data.nunique()"
   ]
  },
  {
   "cell_type": "code",
   "execution_count": 9,
   "id": "72ff246e",
   "metadata": {
    "execution": {
     "iopub.execute_input": "2022-02-17T18:48:52.868202Z",
     "iopub.status.busy": "2022-02-17T18:48:52.864465Z",
     "iopub.status.idle": "2022-02-17T18:48:52.870911Z",
     "shell.execute_reply": "2022-02-17T18:48:52.871430Z",
     "shell.execute_reply.started": "2022-02-17T18:48:00.643328Z"
    },
    "papermill": {
     "duration": 0.093376,
     "end_time": "2022-02-17T18:48:52.871633",
     "exception": false,
     "start_time": "2022-02-17T18:48:52.778257",
     "status": "completed"
    },
    "tags": []
   },
   "outputs": [],
   "source": [
    "for x in data.columns:\n",
    "    data[x].replace(\"?\",np.nan,inplace=True)"
   ]
  },
  {
   "cell_type": "code",
   "execution_count": 10,
   "id": "db5943ca",
   "metadata": {
    "execution": {
     "iopub.execute_input": "2022-02-17T18:48:53.021083Z",
     "iopub.status.busy": "2022-02-17T18:48:53.019789Z",
     "iopub.status.idle": "2022-02-17T18:48:53.031363Z",
     "shell.execute_reply": "2022-02-17T18:48:53.030748Z",
     "shell.execute_reply.started": "2022-02-17T18:48:00.669003Z"
    },
    "papermill": {
     "duration": 0.086865,
     "end_time": "2022-02-17T18:48:53.031523",
     "exception": false,
     "start_time": "2022-02-17T18:48:52.944658",
     "status": "completed"
    },
    "tags": []
   },
   "outputs": [
    {
     "data": {
      "text/plain": [
       "Age                                     0\n",
       "Number of sexual partners              26\n",
       "First sexual intercourse                7\n",
       "Num of pregnancies                     56\n",
       "Smokes                                 13\n",
       "Smokes (years)                         13\n",
       "Smokes (packs/year)                    13\n",
       "Hormonal Contraceptives               108\n",
       "Hormonal Contraceptives (years)       108\n",
       "IUD                                   117\n",
       "IUD (years)                           117\n",
       "STDs                                  105\n",
       "STDs (number)                         105\n",
       "STDs:condylomatosis                   105\n",
       "STDs:cervical condylomatosis          105\n",
       "STDs:vaginal condylomatosis           105\n",
       "STDs:vulvo-perineal condylomatosis    105\n",
       "STDs:syphilis                         105\n",
       "STDs:pelvic inflammatory disease      105\n",
       "STDs:genital herpes                   105\n",
       "STDs:molluscum contagiosum            105\n",
       "STDs:AIDS                             105\n",
       "STDs:HIV                              105\n",
       "STDs:Hepatitis B                      105\n",
       "STDs:HPV                              105\n",
       "STDs: Number of diagnosis               0\n",
       "STDs: Time since first diagnosis      787\n",
       "STDs: Time since last diagnosis       787\n",
       "Dx:Cancer                               0\n",
       "Dx:CIN                                  0\n",
       "Dx:HPV                                  0\n",
       "Dx                                      0\n",
       "Hinselmann                              0\n",
       "Schiller                                0\n",
       "Citology                                0\n",
       "Biopsy                                  0\n",
       "dtype: int64"
      ]
     },
     "execution_count": 10,
     "metadata": {},
     "output_type": "execute_result"
    }
   ],
   "source": [
    "data.isnull().sum()"
   ]
  },
  {
   "cell_type": "code",
   "execution_count": 11,
   "id": "2feb5aef",
   "metadata": {
    "execution": {
     "iopub.execute_input": "2022-02-17T18:48:53.184256Z",
     "iopub.status.busy": "2022-02-17T18:48:53.183491Z",
     "iopub.status.idle": "2022-02-17T18:48:53.193128Z",
     "shell.execute_reply": "2022-02-17T18:48:53.193643Z",
     "shell.execute_reply.started": "2022-02-17T18:48:00.685027Z"
    },
    "papermill": {
     "duration": 0.088598,
     "end_time": "2022-02-17T18:48:53.193862",
     "exception": false,
     "start_time": "2022-02-17T18:48:53.105264",
     "status": "completed"
    },
    "tags": []
   },
   "outputs": [],
   "source": [
    "import missingno as msno"
   ]
  },
  {
   "cell_type": "code",
   "execution_count": 12,
   "id": "a5fa258c",
   "metadata": {
    "execution": {
     "iopub.execute_input": "2022-02-17T18:48:53.347064Z",
     "iopub.status.busy": "2022-02-17T18:48:53.341940Z",
     "iopub.status.idle": "2022-02-17T18:48:56.654016Z",
     "shell.execute_reply": "2022-02-17T18:48:56.653270Z",
     "shell.execute_reply.started": "2022-02-17T18:48:00.697360Z"
    },
    "papermill": {
     "duration": 3.387167,
     "end_time": "2022-02-17T18:48:56.654184",
     "exception": false,
     "start_time": "2022-02-17T18:48:53.267017",
     "status": "completed"
    },
    "tags": []
   },
   "outputs": [
    {
     "data": {
      "image/png": "[encoded data removed]",
      "text/plain": [
       "<Figure size 1728x720 with 3 Axes>"
      ]
     },
     "metadata": {
      "needs_background": "light"
     },
     "output_type": "display_data"
    }
   ],
   "source": [
    "msno.bar(data)\n",
    "plt.show()"
   ]
  },
  {
   "cell_type": "code",
   "execution_count": 13,
   "id": "063c61ed",
   "metadata": {
    "execution": {
     "iopub.execute_input": "2022-02-17T18:48:56.822620Z",
     "iopub.status.busy": "2022-02-17T18:48:56.821741Z",
     "iopub.status.idle": "2022-02-17T18:48:56.826265Z",
     "shell.execute_reply": "2022-02-17T18:48:56.826845Z",
     "shell.execute_reply.started": "2022-02-17T18:48:03.879420Z"
    },
    "papermill": {
     "duration": 0.096028,
     "end_time": "2022-02-17T18:48:56.827144",
     "exception": false,
     "start_time": "2022-02-17T18:48:56.731116",
     "status": "completed"
    },
    "tags": []
   },
   "outputs": [
    {
     "data": {
      "text/plain": [
       "Age                                    0.000000\n",
       "Number of sexual partners              3.030303\n",
       "First sexual intercourse               0.815851\n",
       "Num of pregnancies                     6.526807\n",
       "Smokes                                 1.515152\n",
       "Smokes (years)                         1.515152\n",
       "Smokes (packs/year)                    1.515152\n",
       "Hormonal Contraceptives               12.587413\n",
       "Hormonal Contraceptives (years)       12.587413\n",
       "IUD                                   13.636364\n",
       "IUD (years)                           13.636364\n",
       "STDs                                  12.237762\n",
       "STDs (number)                         12.237762\n",
       "STDs:condylomatosis                   12.237762\n",
       "STDs:cervical condylomatosis          12.237762\n",
       "STDs:vaginal condylomatosis           12.237762\n",
       "STDs:vulvo-perineal condylomatosis    12.237762\n",
       "STDs:syphilis                         12.237762\n",
       "STDs:pelvic inflammatory disease      12.237762\n",
       "STDs:genital herpes                   12.237762\n",
       "STDs:molluscum contagiosum            12.237762\n",
       "STDs:AIDS                             12.237762\n",
       "STDs:HIV                              12.237762\n",
       "STDs:Hepatitis B                      12.237762\n",
       "STDs:HPV                              12.237762\n",
       "STDs: Number of diagnosis              0.000000\n",
       "STDs: Time since first diagnosis      91.724942\n",
       "STDs: Time since last diagnosis       91.724942\n",
       "Dx:Cancer                              0.000000\n",
       "Dx:CIN                                 0.000000\n",
       "Dx:HPV                                 0.000000\n",
       "Dx                                     0.000000\n",
       "Hinselmann                             0.000000\n",
       "Schiller                               0.000000\n",
       "Citology                               0.000000\n",
       "Biopsy                                 0.000000\n",
       "dtype: float64"
      ]
     },
     "execution_count": 13,
     "metadata": {},
     "output_type": "execute_result"
    }
   ],
   "source": [
    "data.isnull().mean()*100"
   ]
  },
  {
   "cell_type": "code",
   "execution_count": 14,
   "id": "7fca33b4",
   "metadata": {
    "execution": {
     "iopub.execute_input": "2022-02-17T18:48:56.990498Z",
     "iopub.status.busy": "2022-02-17T18:48:56.986418Z",
     "iopub.status.idle": "2022-02-17T18:48:56.992695Z",
     "shell.execute_reply": "2022-02-17T18:48:56.993420Z",
     "shell.execute_reply.started": "2022-02-17T18:48:03.895860Z"
    },
    "papermill": {
     "duration": 0.088811,
     "end_time": "2022-02-17T18:48:56.993623",
     "exception": false,
     "start_time": "2022-02-17T18:48:56.904812",
     "status": "completed"
    },
    "tags": []
   },
   "outputs": [],
   "source": [
    "data = data.drop(['STDs: Time since first diagnosis','STDs: Time since last diagnosis'],axis=1)"
   ]
  },
  {
   "cell_type": "code",
   "execution_count": 15,
   "id": "708178ba",
   "metadata": {
    "execution": {
     "iopub.execute_input": "2022-02-17T18:48:57.155063Z",
     "iopub.status.busy": "2022-02-17T18:48:57.154351Z",
     "iopub.status.idle": "2022-02-17T18:48:57.162077Z",
     "shell.execute_reply": "2022-02-17T18:48:57.162662Z",
     "shell.execute_reply.started": "2022-02-17T18:48:03.908726Z"
    },
    "papermill": {
     "duration": 0.090298,
     "end_time": "2022-02-17T18:48:57.162849",
     "exception": false,
     "start_time": "2022-02-17T18:48:57.072551",
     "status": "completed"
    },
    "tags": []
   },
   "outputs": [
    {
     "data": {
      "text/plain": [
       "Age                                    int64\n",
       "Number of sexual partners             object\n",
       "First sexual intercourse              object\n",
       "Num of pregnancies                    object\n",
       "Smokes                                object\n",
       "Smokes (years)                        object\n",
       "Smokes (packs/year)                   object\n",
       "Hormonal Contraceptives               object\n",
       "Hormonal Contraceptives (years)       object\n",
       "IUD                                   object\n",
       "IUD (years)                           object\n",
       "STDs                                  object\n",
       "STDs (number)                         object\n",
       "STDs:condylomatosis                   object\n",
       "STDs:cervical condylomatosis          object\n",
       "STDs:vaginal condylomatosis           object\n",
       "STDs:vulvo-perineal condylomatosis    object\n",
       "STDs:syphilis                         object\n",
       "STDs:pelvic inflammatory disease      object\n",
       "STDs:genital herpes                   object\n",
       "STDs:molluscum contagiosum            object\n",
       "STDs:AIDS                             object\n",
       "STDs:HIV                              object\n",
       "STDs:Hepatitis B                      object\n",
       "STDs:HPV                              object\n",
       "STDs: Number of diagnosis              int64\n",
       "Dx:Cancer                              int64\n",
       "Dx:CIN                                 int64\n",
       "Dx:HPV                                 int64\n",
       "Dx                                     int64\n",
       "Hinselmann                             int64\n",
       "Schiller                               int64\n",
       "Citology                               int64\n",
       "Biopsy                                 int64\n",
       "dtype: object"
      ]
     },
     "execution_count": 15,
     "metadata": {},
     "output_type": "execute_result"
    }
   ],
   "source": [
    "data.dtypes"
   ]
  },
  {
   "cell_type": "code",
   "execution_count": 16,
   "id": "9218ec4e",
   "metadata": {
    "execution": {
     "iopub.execute_input": "2022-02-17T18:48:57.320924Z",
     "iopub.status.busy": "2022-02-17T18:48:57.320258Z",
     "iopub.status.idle": "2022-02-17T18:48:57.355432Z",
     "shell.execute_reply": "2022-02-17T18:48:57.355945Z",
     "shell.execute_reply.started": "2022-02-17T18:48:03.928618Z"
    },
    "papermill": {
     "duration": 0.11684,
     "end_time": "2022-02-17T18:48:57.356141",
     "exception": false,
     "start_time": "2022-02-17T18:48:57.239301",
     "status": "completed"
    },
    "tags": []
   },
   "outputs": [],
   "source": [
    "for x in data.columns:\n",
    "    data[x] =  data[x].astype(str).astype(float)"
   ]
  },
  {
   "cell_type": "code",
   "execution_count": 17,
   "id": "5e263a34",
   "metadata": {
    "execution": {
     "iopub.execute_input": "2022-02-17T18:48:57.516553Z",
     "iopub.status.busy": "2022-02-17T18:48:57.515904Z",
     "iopub.status.idle": "2022-02-17T18:48:57.524043Z",
     "shell.execute_reply": "2022-02-17T18:48:57.524555Z",
     "shell.execute_reply.started": "2022-02-17T18:48:03.972576Z"
    },
    "papermill": {
     "duration": 0.090193,
     "end_time": "2022-02-17T18:48:57.524772",
     "exception": false,
     "start_time": "2022-02-17T18:48:57.434579",
     "status": "completed"
    },
    "tags": []
   },
   "outputs": [
    {
     "data": {
      "text/plain": [
       "Age                                   float64\n",
       "Number of sexual partners             float64\n",
       "First sexual intercourse              float64\n",
       "Num of pregnancies                    float64\n",
       "Smokes                                float64\n",
       "Smokes (years)                        float64\n",
       "Smokes (packs/year)                   float64\n",
       "Hormonal Contraceptives               float64\n",
       "Hormonal Contraceptives (years)       float64\n",
       "IUD                                   float64\n",
       "IUD (years)                           float64\n",
       "STDs                                  float64\n",
       "STDs (number)                         float64\n",
       "STDs:condylomatosis                   float64\n",
       "STDs:cervical condylomatosis          float64\n",
       "STDs:vaginal condylomatosis           float64\n",
       "STDs:vulvo-perineal condylomatosis    float64\n",
       "STDs:syphilis                         float64\n",
       "STDs:pelvic inflammatory disease      float64\n",
       "STDs:genital herpes                   float64\n",
       "STDs:molluscum contagiosum            float64\n",
       "STDs:AIDS                             float64\n",
       "STDs:HIV                              float64\n",
       "STDs:Hepatitis B                      float64\n",
       "STDs:HPV                              float64\n",
       "STDs: Number of diagnosis             float64\n",
       "Dx:Cancer                             float64\n",
       "Dx:CIN                                float64\n",
       "Dx:HPV                                float64\n",
       "Dx                                    float64\n",
       "Hinselmann                            float64\n",
       "Schiller                              float64\n",
       "Citology                              float64\n",
       "Biopsy                                float64\n",
       "dtype: object"
      ]
     },
     "execution_count": 17,
     "metadata": {},
     "output_type": "execute_result"
    }
   ],
   "source": [
    "data.dtypes"
   ]
  },
  {
   "cell_type": "code",
   "execution_count": 18,
   "id": "b9e373a5",
   "metadata": {
    "execution": {
     "iopub.execute_input": "2022-02-17T18:48:57.690976Z",
     "iopub.status.busy": "2022-02-17T18:48:57.684576Z",
     "iopub.status.idle": "2022-02-17T18:48:57.708268Z",
     "shell.execute_reply": "2022-02-17T18:48:57.708809Z",
     "shell.execute_reply.started": "2022-02-17T18:48:03.983536Z"
    },
    "papermill": {
     "duration": 0.105726,
     "end_time": "2022-02-17T18:48:57.709014",
     "exception": false,
     "start_time": "2022-02-17T18:48:57.603288",
     "status": "completed"
    },
    "tags": []
   },
   "outputs": [],
   "source": [
    "def imputation_null_value(data):\n",
    "    for x in  data.columns:\n",
    "        value =data[x].mode(dropna=True).loc[0]\n",
    "        data[x].fillna(value,inplace=True)\n",
    "imputation_null_value(data)"
   ]
  },
  {
   "cell_type": "code",
   "execution_count": 19,
   "id": "f92b6970",
   "metadata": {
    "execution": {
     "iopub.execute_input": "2022-02-17T18:48:57.876059Z",
     "iopub.status.busy": "2022-02-17T18:48:57.875320Z",
     "iopub.status.idle": "2022-02-17T18:49:00.868464Z",
     "shell.execute_reply": "2022-02-17T18:49:00.869031Z",
     "shell.execute_reply.started": "2022-02-17T18:48:04.014635Z"
    },
    "papermill": {
     "duration": 3.079893,
     "end_time": "2022-02-17T18:49:00.869239",
     "exception": false,
     "start_time": "2022-02-17T18:48:57.789346",
     "status": "completed"
    },
    "tags": []
   },
   "outputs": [
    {
     "data": {
      "image/png": "[encoded data removed]",
      "text/plain": [
       "<Figure size 1728x720 with 3 Axes>"
      ]
     },
     "metadata": {
      "needs_background": "light"
     },
     "output_type": "display_data"
    }
   ],
   "source": [
    "msno.bar(data)\n",
    "plt.show()"
   ]
  },
  {
   "cell_type": "code",
   "execution_count": 20,
   "id": "5ea04d7a",
   "metadata": {
    "execution": {
     "iopub.execute_input": "2022-02-17T18:49:01.040174Z",
     "iopub.status.busy": "2022-02-17T18:49:01.039310Z",
     "iopub.status.idle": "2022-02-17T18:49:01.310938Z",
     "shell.execute_reply": "2022-02-17T18:49:01.309581Z",
     "shell.execute_reply.started": "2022-02-17T18:48:07.405122Z"
    },
    "papermill": {
     "duration": 0.359446,
     "end_time": "2022-02-17T18:49:01.311129",
     "exception": false,
     "start_time": "2022-02-17T18:49:00.951683",
     "status": "completed"
    },
    "tags": []
   },
   "outputs": [
    {
     "name": "stderr",
     "output_type": "stream",
     "text": [
      "/opt/conda/lib/python3.7/site-packages/seaborn/distributions.py:2619: FutureWarning: `distplot` is a deprecated function and will be removed in a future version. Please adapt your code to use either `displot` (a figure-level function with similar flexibility) or `histplot` (an axes-level function for histograms).\n",
      "  warnings.warn(msg, FutureWarning)\n"
     ]
    },
    {
     "data": {
      "image/png": "[encoded data removed]",
      "text/plain": [
       "<Figure size 432x288 with 1 Axes>"
      ]
     },
     "metadata": {
      "needs_background": "light"
     },
     "output_type": "display_data"
    }
   ],
   "source": [
    "sns.distplot(data['Age'])\n",
    "plt.show()"
   ]
  },
  {
   "cell_type": "code",
   "execution_count": 21,
   "id": "16319bf3",
   "metadata": {
    "execution": {
     "iopub.execute_input": "2022-02-17T18:49:01.489049Z",
     "iopub.status.busy": "2022-02-17T18:49:01.488303Z",
     "iopub.status.idle": "2022-02-17T18:49:01.861642Z",
     "shell.execute_reply": "2022-02-17T18:49:01.862296Z",
     "shell.execute_reply.started": "2022-02-17T18:48:07.753316Z"
    },
    "papermill": {
     "duration": 0.467858,
     "end_time": "2022-02-17T18:49:01.862515",
     "exception": false,
     "start_time": "2022-02-17T18:49:01.394657",
     "status": "completed"
    },
    "tags": []
   },
   "outputs": [
    {
     "data": {
      "image/png": "[encoded data removed]",
      "text/plain": [
       "<Figure size 720x576 with 1 Axes>"
      ]
     },
     "metadata": {
      "needs_background": "light"
     },
     "output_type": "display_data"
    }
   ],
   "source": [
    "plt.figure(figsize=(10,8))\n",
    "sns.countplot(x = 'Dx:Cancer',data =data,palette = 'viridis')\n",
    "plt.xlabel(\"DX:Cancer\",fontweight = 'bold',size=16)\n",
    "plt.show()"
   ]
  },
  {
   "cell_type": "markdown",
   "id": "8f3c3bc1",
   "metadata": {
    "papermill": {
     "duration": 0.087266,
     "end_time": "2022-02-17T18:49:02.035797",
     "exception": false,
     "start_time": "2022-02-17T18:49:01.948531",
     "status": "completed"
    },
    "tags": []
   },
   "source": [
    "# Feature selection"
   ]
  },
  {
   "cell_type": "code",
   "execution_count": 22,
   "id": "1969070e",
   "metadata": {
    "execution": {
     "iopub.execute_input": "2022-02-17T18:49:02.209613Z",
     "iopub.status.busy": "2022-02-17T18:49:02.208662Z",
     "iopub.status.idle": "2022-02-17T18:49:02.547564Z",
     "shell.execute_reply": "2022-02-17T18:49:02.548143Z",
     "shell.execute_reply.started": "2022-02-17T18:48:07.958016Z"
    },
    "papermill": {
     "duration": 0.428392,
     "end_time": "2022-02-17T18:49:02.548336",
     "exception": false,
     "start_time": "2022-02-17T18:49:02.119944",
     "status": "completed"
    },
    "tags": []
   },
   "outputs": [],
   "source": [
    "from sklearn.model_selection import train_test_split\n",
    "\n",
    "# to determine the chi2 value\n",
    "from sklearn.feature_selection import chi2\n",
    "# to select the features\n",
    "from sklearn.feature_selection import SelectKBest"
   ]
  },
  {
   "cell_type": "code",
   "execution_count": 23,
   "id": "14da544e",
   "metadata": {
    "execution": {
     "iopub.execute_input": "2022-02-17T18:49:02.719133Z",
     "iopub.status.busy": "2022-02-17T18:49:02.718494Z",
     "iopub.status.idle": "2022-02-17T18:49:02.730475Z",
     "shell.execute_reply": "2022-02-17T18:49:02.731028Z",
     "shell.execute_reply.started": "2022-02-17T18:48:07.966634Z"
    },
    "papermill": {
     "duration": 0.098421,
     "end_time": "2022-02-17T18:49:02.731209",
     "exception": false,
     "start_time": "2022-02-17T18:49:02.632788",
     "status": "completed"
    },
    "tags": []
   },
   "outputs": [
    {
     "data": {
      "text/plain": [
       "((600, 33), (258, 33))"
      ]
     },
     "execution_count": 23,
     "metadata": {},
     "output_type": "execute_result"
    }
   ],
   "source": [
    "# separate train and test sets\n",
    "X_train, X_test, y_train, y_test = train_test_split(\n",
    "    data.drop('Dx:Cancer',axis=1),\n",
    "    data['Dx:Cancer'],\n",
    "    test_size=0.3,\n",
    "    random_state=0)\n",
    "\n",
    "X_train.shape, X_test.shape"
   ]
  },
  {
   "cell_type": "code",
   "execution_count": 24,
   "id": "724993dd",
   "metadata": {
    "execution": {
     "iopub.execute_input": "2022-02-17T18:49:02.903303Z",
     "iopub.status.busy": "2022-02-17T18:49:02.902583Z",
     "iopub.status.idle": "2022-02-17T18:49:02.910374Z",
     "shell.execute_reply": "2022-02-17T18:49:02.910992Z",
     "shell.execute_reply.started": "2022-02-17T18:48:07.985083Z"
    },
    "papermill": {
     "duration": 0.094632,
     "end_time": "2022-02-17T18:49:02.911171",
     "exception": false,
     "start_time": "2022-02-17T18:49:02.816539",
     "status": "completed"
    },
    "tags": []
   },
   "outputs": [
    {
     "data": {
      "text/plain": [
       "Age                                   0\n",
       "Number of sexual partners             0\n",
       "First sexual intercourse              0\n",
       "Num of pregnancies                    0\n",
       "Smokes                                0\n",
       "Smokes (years)                        0\n",
       "Smokes (packs/year)                   0\n",
       "Hormonal Contraceptives               0\n",
       "Hormonal Contraceptives (years)       0\n",
       "IUD                                   0\n",
       "IUD (years)                           0\n",
       "STDs                                  0\n",
       "STDs (number)                         0\n",
       "STDs:condylomatosis                   0\n",
       "STDs:cervical condylomatosis          0\n",
       "STDs:vaginal condylomatosis           0\n",
       "STDs:vulvo-perineal condylomatosis    0\n",
       "STDs:syphilis                         0\n",
       "STDs:pelvic inflammatory disease      0\n",
       "STDs:genital herpes                   0\n",
       "STDs:molluscum contagiosum            0\n",
       "STDs:AIDS                             0\n",
       "STDs:HIV                              0\n",
       "STDs:Hepatitis B                      0\n",
       "STDs:HPV                              0\n",
       "STDs: Number of diagnosis             0\n",
       "Dx:CIN                                0\n",
       "Dx:HPV                                0\n",
       "Dx                                    0\n",
       "Hinselmann                            0\n",
       "Schiller                              0\n",
       "Citology                              0\n",
       "Biopsy                                0\n",
       "dtype: int64"
      ]
     },
     "execution_count": 24,
     "metadata": {},
     "output_type": "execute_result"
    }
   ],
   "source": [
    "X_train.isnull().sum()"
   ]
  },
  {
   "cell_type": "code",
   "execution_count": 25,
   "id": "d16bbaa5",
   "metadata": {
    "execution": {
     "iopub.execute_input": "2022-02-17T18:49:03.086202Z",
     "iopub.status.busy": "2022-02-17T18:49:03.085466Z",
     "iopub.status.idle": "2022-02-17T18:49:03.090898Z",
     "shell.execute_reply": "2022-02-17T18:49:03.091494Z",
     "shell.execute_reply.started": "2022-02-17T18:48:07.997773Z"
    },
    "papermill": {
     "duration": 0.096188,
     "end_time": "2022-02-17T18:49:03.091669",
     "exception": false,
     "start_time": "2022-02-17T18:49:02.995481",
     "status": "completed"
    },
    "tags": []
   },
   "outputs": [
    {
     "data": {
      "text/plain": [
       "0"
      ]
     },
     "execution_count": 25,
     "metadata": {},
     "output_type": "execute_result"
    }
   ],
   "source": [
    "y_train.isnull().sum()"
   ]
  },
  {
   "cell_type": "code",
   "execution_count": 26,
   "id": "b3f35690",
   "metadata": {
    "execution": {
     "iopub.execute_input": "2022-02-17T18:49:03.265724Z",
     "iopub.status.busy": "2022-02-17T18:49:03.265101Z",
     "iopub.status.idle": "2022-02-17T18:49:03.277489Z",
     "shell.execute_reply": "2022-02-17T18:49:03.278052Z",
     "shell.execute_reply.started": "2022-02-17T18:48:08.006783Z"
    },
    "papermill": {
     "duration": 0.101231,
     "end_time": "2022-02-17T18:49:03.278242",
     "exception": false,
     "start_time": "2022-02-17T18:49:03.177011",
     "status": "completed"
    },
    "tags": []
   },
   "outputs": [
    {
     "data": {
      "text/plain": [
       "(array([1.32935420e+01, 1.11750619e+00, 1.82970704e+00, 8.90430274e-01,\n",
       "        2.96954428e-01, 3.73948665e+01, 1.65779491e+02, 2.25611843e-02,\n",
       "        8.06216187e-01, 1.65458661e+01, 9.57520817e+01, 1.13921902e+00,\n",
       "        1.86757216e+00, 5.97623090e-01,            nan, 5.60271647e-02,\n",
       "        5.97623090e-01, 2.98811545e-01, 1.86757216e-02, 1.86757216e-02,\n",
       "                   nan,            nan, 2.61460102e-01, 1.86757216e-02,\n",
       "                   nan, 1.10186757e+00, 1.49405772e-01, 4.42885013e+02,\n",
       "        2.32038586e+02, 2.30482620e+01, 2.33471640e+01, 1.16735820e+01,\n",
       "        2.36715102e+01]),\n",
       " array([2.66321865e-04, 2.90456071e-01, 1.76162153e-01, 3.45360734e-01,\n",
       "        5.85798050e-01, 9.64757313e-10, 6.18065160e-38, 8.80603821e-01,\n",
       "        3.69241306e-01, 4.74873946e-05, 1.30209511e-22, 2.85817414e-01,\n",
       "        1.71753403e-01, 4.39486365e-01,            nan, 8.12889085e-01,\n",
       "        4.39486365e-01, 5.84628436e-01, 8.91300225e-01, 8.91300225e-01,\n",
       "                   nan,            nan, 6.09118815e-01, 8.91300225e-01,\n",
       "                   nan, 2.93856615e-01, 6.99103871e-01, 2.55012097e-98,\n",
       "        2.14175244e-52, 1.57985257e-06, 1.35242760e-06, 6.33938381e-04,\n",
       "        1.14261589e-06]))"
      ]
     },
     "execution_count": 26,
     "metadata": {},
     "output_type": "execute_result"
    }
   ],
   "source": [
    "# calculate the chi2 p_value between each of the variables\n",
    "# and the target\n",
    "\n",
    "# chi2 returns 2 arrays, one contains the F-Scores which are then\n",
    "# evaluated against the chi2 distribution to obtain the pvalue.\n",
    "# The pvalues are in the second array\n",
    "\n",
    "f_score = chi2(X_train.fillna(0), y_train)\n",
    "\n",
    "# the 2 arrays of values\n",
    "f_score"
   ]
  },
  {
   "cell_type": "code",
   "execution_count": 27,
   "id": "775fcb69",
   "metadata": {
    "execution": {
     "iopub.execute_input": "2022-02-17T18:49:03.452971Z",
     "iopub.status.busy": "2022-02-17T18:49:03.452307Z",
     "iopub.status.idle": "2022-02-17T18:49:03.461040Z",
     "shell.execute_reply": "2022-02-17T18:49:03.461607Z",
     "shell.execute_reply.started": "2022-02-17T18:48:08.025888Z"
    },
    "papermill": {
     "duration": 0.098278,
     "end_time": "2022-02-17T18:49:03.461793",
     "exception": false,
     "start_time": "2022-02-17T18:49:03.363515",
     "status": "completed"
    },
    "tags": []
   },
   "outputs": [
    {
     "data": {
      "text/plain": [
       "Dx:HPV                                2.550121e-98\n",
       "Dx                                    2.141752e-52\n",
       "Smokes (packs/year)                   6.180652e-38\n",
       "IUD (years)                           1.302095e-22\n",
       "Smokes (years)                        9.647573e-10\n",
       "Biopsy                                1.142616e-06\n",
       "Schiller                              1.352428e-06\n",
       "Hinselmann                            1.579853e-06\n",
       "IUD                                   4.748739e-05\n",
       "Age                                   2.663219e-04\n",
       "Citology                              6.339384e-04\n",
       "STDs (number)                         1.717534e-01\n",
       "First sexual intercourse              1.761622e-01\n",
       "STDs                                  2.858174e-01\n",
       "Number of sexual partners             2.904561e-01\n",
       "STDs: Number of diagnosis             2.938566e-01\n",
       "Num of pregnancies                    3.453607e-01\n",
       "Hormonal Contraceptives (years)       3.692413e-01\n",
       "STDs:condylomatosis                   4.394864e-01\n",
       "STDs:vulvo-perineal condylomatosis    4.394864e-01\n",
       "STDs:syphilis                         5.846284e-01\n",
       "Smokes                                5.857981e-01\n",
       "STDs:HIV                              6.091188e-01\n",
       "Dx:CIN                                6.991039e-01\n",
       "STDs:vaginal condylomatosis           8.128891e-01\n",
       "Hormonal Contraceptives               8.806038e-01\n",
       "STDs:genital herpes                   8.913002e-01\n",
       "STDs:pelvic inflammatory disease      8.913002e-01\n",
       "STDs:Hepatitis B                      8.913002e-01\n",
       "STDs:cervical condylomatosis                   NaN\n",
       "STDs:molluscum contagiosum                     NaN\n",
       "STDs:AIDS                                      NaN\n",
       "STDs:HPV                                       NaN\n",
       "dtype: float64"
      ]
     },
     "execution_count": 27,
     "metadata": {},
     "output_type": "execute_result"
    }
   ],
   "source": [
    "# 1) let's capture the p_values (in the second array, remember python indexes at 0) in a pandas Series\n",
    "# 2) add the variable names in the index\n",
    "# 3) order the variables based on their fscore\n",
    "\n",
    "pvalues = pd.Series(f_score[1])\n",
    "pvalues.index = X_train.columns\n",
    "pvalues.sort_values(ascending=True)"
   ]
  },
  {
   "cell_type": "markdown",
   "id": "eeb13e02",
   "metadata": {
    "papermill": {
     "duration": 0.085195,
     "end_time": "2022-02-17T18:49:03.632964",
     "exception": false,
     "start_time": "2022-02-17T18:49:03.547769",
     "status": "completed"
    },
    "tags": []
   },
   "source": [
    "**The chi2, the smaller the p_value the more significant the feature is to predict the target.**"
   ]
  },
  {
   "cell_type": "code",
   "execution_count": 28,
   "id": "d183bfc1",
   "metadata": {
    "execution": {
     "iopub.execute_input": "2022-02-17T18:49:03.807817Z",
     "iopub.status.busy": "2022-02-17T18:49:03.807100Z",
     "iopub.status.idle": "2022-02-17T18:49:03.817429Z",
     "shell.execute_reply": "2022-02-17T18:49:03.818024Z",
     "shell.execute_reply.started": "2022-02-17T18:48:08.041208Z"
    },
    "papermill": {
     "duration": 0.099678,
     "end_time": "2022-02-17T18:49:03.818203",
     "exception": false,
     "start_time": "2022-02-17T18:49:03.718525",
     "status": "completed"
    },
    "tags": []
   },
   "outputs": [
    {
     "data": {
      "text/plain": [
       "Index(['Age', 'Number of sexual partners', 'First sexual intercourse',\n",
       "       'Smokes (years)', 'Smokes (packs/year)', 'IUD', 'IUD (years)', 'STDs',\n",
       "       'STDs (number)', 'Dx:HPV', 'Dx', 'Hinselmann', 'Schiller', 'Citology',\n",
       "       'Biopsy'],\n",
       "      dtype='object')"
      ]
     },
     "execution_count": 28,
     "metadata": {},
     "output_type": "execute_result"
    }
   ],
   "source": [
    "sel_ = SelectKBest(chi2, k=15).fit(X_train, y_train)\n",
    "\n",
    "# display features\n",
    "X_train.columns[sel_.get_support()]"
   ]
  },
  {
   "cell_type": "code",
   "execution_count": 29,
   "id": "c535324d",
   "metadata": {
    "execution": {
     "iopub.execute_input": "2022-02-17T18:49:03.994532Z",
     "iopub.status.busy": "2022-02-17T18:49:03.993679Z",
     "iopub.status.idle": "2022-02-17T18:49:04.002904Z",
     "shell.execute_reply": "2022-02-17T18:49:04.003454Z",
     "shell.execute_reply.started": "2022-02-17T18:48:08.053493Z"
    },
    "papermill": {
     "duration": 0.098834,
     "end_time": "2022-02-17T18:49:04.003638",
     "exception": false,
     "start_time": "2022-02-17T18:49:03.904804",
     "status": "completed"
    },
    "tags": []
   },
   "outputs": [],
   "source": [
    "# to remove the rest of the features:\n",
    "\n",
    "X_train = sel_.transform(X_train)\n",
    "X_test = sel_.transform(X_test)"
   ]
  },
  {
   "cell_type": "code",
   "execution_count": 30,
   "id": "dc75e924",
   "metadata": {
    "execution": {
     "iopub.execute_input": "2022-02-17T18:49:04.178967Z",
     "iopub.status.busy": "2022-02-17T18:49:04.178276Z",
     "iopub.status.idle": "2022-02-17T18:49:04.184249Z",
     "shell.execute_reply": "2022-02-17T18:49:04.184848Z",
     "shell.execute_reply.started": "2022-02-17T18:48:08.064814Z"
    },
    "papermill": {
     "duration": 0.095634,
     "end_time": "2022-02-17T18:49:04.185042",
     "exception": false,
     "start_time": "2022-02-17T18:49:04.089408",
     "status": "completed"
    },
    "tags": []
   },
   "outputs": [
    {
     "data": {
      "text/plain": [
       "((600, 15), (258, 15))"
      ]
     },
     "execution_count": 30,
     "metadata": {},
     "output_type": "execute_result"
    }
   ],
   "source": [
    "X_train.shape,X_test.shape"
   ]
  },
  {
   "cell_type": "markdown",
   "id": "0228a9c7",
   "metadata": {
    "papermill": {
     "duration": 0.086015,
     "end_time": "2022-02-17T18:49:04.358013",
     "exception": false,
     "start_time": "2022-02-17T18:49:04.271998",
     "status": "completed"
    },
    "tags": []
   },
   "source": [
    "# Feature Scaling"
   ]
  },
  {
   "cell_type": "code",
   "execution_count": 31,
   "id": "ff38a268",
   "metadata": {
    "execution": {
     "iopub.execute_input": "2022-02-17T18:49:04.539006Z",
     "iopub.status.busy": "2022-02-17T18:49:04.538307Z",
     "iopub.status.idle": "2022-02-17T18:49:04.541654Z",
     "shell.execute_reply": "2022-02-17T18:49:04.542237Z",
     "shell.execute_reply.started": "2022-02-17T18:48:08.079478Z"
    },
    "papermill": {
     "duration": 0.097014,
     "end_time": "2022-02-17T18:49:04.542501",
     "exception": false,
     "start_time": "2022-02-17T18:49:04.445487",
     "status": "completed"
    },
    "tags": []
   },
   "outputs": [],
   "source": [
    "from sklearn.preprocessing import StandardScaler\n",
    "sc = StandardScaler()\n",
    "X_train = sc.fit_transform(X_train)\n",
    "X_test = sc.transform(X_test)"
   ]
  },
  {
   "cell_type": "markdown",
   "id": "2ceed7b2",
   "metadata": {
    "papermill": {
     "duration": 0.088104,
     "end_time": "2022-02-17T18:49:04.717622",
     "exception": false,
     "start_time": "2022-02-17T18:49:04.629518",
     "status": "completed"
    },
    "tags": []
   },
   "source": [
    "# Logistic Regression"
   ]
  },
  {
   "cell_type": "code",
   "execution_count": 32,
   "id": "6ef8ea8b",
   "metadata": {
    "execution": {
     "iopub.execute_input": "2022-02-17T18:49:04.895628Z",
     "iopub.status.busy": "2022-02-17T18:49:04.894916Z",
     "iopub.status.idle": "2022-02-17T18:49:04.916113Z",
     "shell.execute_reply": "2022-02-17T18:49:04.916688Z",
     "shell.execute_reply.started": "2022-02-17T18:48:08.093306Z"
    },
    "papermill": {
     "duration": 0.111542,
     "end_time": "2022-02-17T18:49:04.916893",
     "exception": false,
     "start_time": "2022-02-17T18:49:04.805351",
     "status": "completed"
    },
    "tags": []
   },
   "outputs": [
    {
     "data": {
      "text/plain": [
       "LogisticRegression(random_state=0)"
      ]
     },
     "execution_count": 32,
     "metadata": {},
     "output_type": "execute_result"
    }
   ],
   "source": [
    "from sklearn.linear_model import LogisticRegression\n",
    "classifier = LogisticRegression(random_state = 0)\n",
    "classifier.fit(X_train, y_train)"
   ]
  },
  {
   "cell_type": "code",
   "execution_count": 33,
   "id": "54a31c53",
   "metadata": {
    "execution": {
     "iopub.execute_input": "2022-02-17T18:49:05.095005Z",
     "iopub.status.busy": "2022-02-17T18:49:05.094293Z",
     "iopub.status.idle": "2022-02-17T18:49:05.104643Z",
     "shell.execute_reply": "2022-02-17T18:49:05.103447Z",
     "shell.execute_reply.started": "2022-02-17T18:48:08.120149Z"
    },
    "papermill": {
     "duration": 0.101117,
     "end_time": "2022-02-17T18:49:05.104957",
     "exception": false,
     "start_time": "2022-02-17T18:49:05.003840",
     "status": "completed"
    },
    "tags": []
   },
   "outputs": [
    {
     "name": "stdout",
     "output_type": "stream",
     "text": [
      "[0. 0. 0. 0. 0. 0. 0. 0. 0. 0. 0. 0. 0. 0. 0. 0. 0. 0. 0. 0. 0. 0. 0. 0.\n",
      " 0. 0. 0. 0. 1. 0. 0. 0. 0. 0. 0. 0. 0. 0. 0. 0. 0. 0. 0. 0. 0. 0. 0. 0.\n",
      " 0. 0. 0. 0. 0. 0. 0. 0. 0. 0. 0. 0. 0. 0. 0. 0. 0. 0. 0. 0. 0. 0. 0. 0.\n",
      " 0. 0. 0. 0. 0. 0. 0. 0. 0. 0. 0. 0. 0. 0. 0. 0. 0. 0. 0. 0. 0. 0. 0. 0.\n",
      " 0. 0. 0. 0. 0. 0. 0. 0. 0. 0. 0. 0. 0. 0. 0. 0. 0. 0. 0. 0. 0. 0. 0. 0.\n",
      " 0. 0. 0. 0. 0. 0. 0. 0. 0. 0. 0. 0. 0. 0. 0. 0. 0. 0. 0. 0. 0. 0. 0. 0.\n",
      " 0. 0. 0. 0. 0. 0. 0. 0. 0. 0. 0. 0. 0. 0. 0. 0. 0. 0. 0. 0. 0. 0. 0. 0.\n",
      " 0. 0. 0. 0. 0. 0. 0. 0. 0. 0. 0. 0. 0. 0. 0. 0. 0. 0. 0. 0. 0. 0. 0. 0.\n",
      " 0. 0. 0. 0. 0. 0. 0. 0. 0. 0. 0. 0. 0. 0. 0. 0. 0. 0. 0. 0. 0. 0. 0. 0.\n",
      " 0. 0. 0. 0. 0. 0. 0. 0. 0. 0. 0. 0. 0. 0. 0. 0. 0. 0. 0. 0. 0. 0. 0. 0.\n",
      " 0. 0. 0. 0. 0. 0. 0. 0. 0. 0. 0. 0. 0. 0. 0. 0. 1. 1.]\n"
     ]
    }
   ],
   "source": [
    "y_pred = classifier.predict(X_test)\n",
    "print(y_pred)"
   ]
  },
  {
   "cell_type": "code",
   "execution_count": 34,
   "id": "18f47f88",
   "metadata": {
    "execution": {
     "iopub.execute_input": "2022-02-17T18:49:05.285853Z",
     "iopub.status.busy": "2022-02-17T18:49:05.285206Z",
     "iopub.status.idle": "2022-02-17T18:49:05.292278Z",
     "shell.execute_reply": "2022-02-17T18:49:05.292757Z",
     "shell.execute_reply.started": "2022-02-17T18:48:08.130159Z"
    },
    "papermill": {
     "duration": 0.098903,
     "end_time": "2022-02-17T18:49:05.292987",
     "exception": false,
     "start_time": "2022-02-17T18:49:05.194084",
     "status": "completed"
    },
    "tags": []
   },
   "outputs": [
    {
     "name": "stdout",
     "output_type": "stream",
     "text": [
      "Accuracy score: 0.9844961240310077\n"
     ]
    }
   ],
   "source": [
    "from sklearn.metrics import accuracy_score\n",
    "acc1 = accuracy_score(y_test, y_pred)\n",
    "print(f\"Accuracy score: {acc1}\")"
   ]
  },
  {
   "cell_type": "markdown",
   "id": "b32c47fe",
   "metadata": {
    "papermill": {
     "duration": 0.088524,
     "end_time": "2022-02-17T18:49:05.469636",
     "exception": false,
     "start_time": "2022-02-17T18:49:05.381112",
     "status": "completed"
    },
    "tags": []
   },
   "source": [
    "# SVM"
   ]
  },
  {
   "cell_type": "code",
   "execution_count": 35,
   "id": "c39747fb",
   "metadata": {
    "execution": {
     "iopub.execute_input": "2022-02-17T18:49:05.651250Z",
     "iopub.status.busy": "2022-02-17T18:49:05.650550Z",
     "iopub.status.idle": "2022-02-17T18:49:05.658866Z",
     "shell.execute_reply": "2022-02-17T18:49:05.658228Z",
     "shell.execute_reply.started": "2022-02-17T18:48:08.140189Z"
    },
    "papermill": {
     "duration": 0.101981,
     "end_time": "2022-02-17T18:49:05.659031",
     "exception": false,
     "start_time": "2022-02-17T18:49:05.557050",
     "status": "completed"
    },
    "tags": []
   },
   "outputs": [
    {
     "data": {
      "text/plain": [
       "SVC(kernel='linear', random_state=0)"
      ]
     },
     "execution_count": 35,
     "metadata": {},
     "output_type": "execute_result"
    }
   ],
   "source": [
    "from sklearn.svm import SVC\n",
    "classifier = SVC(kernel = 'linear', random_state = 0)\n",
    "classifier.fit(X_train, y_train)"
   ]
  },
  {
   "cell_type": "code",
   "execution_count": 36,
   "id": "974ac97e",
   "metadata": {
    "execution": {
     "iopub.execute_input": "2022-02-17T18:49:05.841117Z",
     "iopub.status.busy": "2022-02-17T18:49:05.840422Z",
     "iopub.status.idle": "2022-02-17T18:49:05.847728Z",
     "shell.execute_reply": "2022-02-17T18:49:05.847148Z",
     "shell.execute_reply.started": "2022-02-17T18:48:08.156776Z"
    },
    "papermill": {
     "duration": 0.101061,
     "end_time": "2022-02-17T18:49:05.847889",
     "exception": false,
     "start_time": "2022-02-17T18:49:05.746828",
     "status": "completed"
    },
    "tags": []
   },
   "outputs": [
    {
     "name": "stdout",
     "output_type": "stream",
     "text": [
      "[[250   1]\n",
      " [  3   4]]\n"
     ]
    }
   ],
   "source": [
    "y_pred = classifier.predict(X_test)\n",
    "from sklearn.metrics import confusion_matrix, accuracy_score\n",
    "cm = confusion_matrix(y_test, y_pred)\n",
    "print(cm)"
   ]
  },
  {
   "cell_type": "code",
   "execution_count": 37,
   "id": "56605115",
   "metadata": {
    "execution": {
     "iopub.execute_input": "2022-02-17T18:49:06.077043Z",
     "iopub.status.busy": "2022-02-17T18:49:06.069420Z",
     "iopub.status.idle": "2022-02-17T18:49:06.252777Z",
     "shell.execute_reply": "2022-02-17T18:49:06.252243Z",
     "shell.execute_reply.started": "2022-02-17T18:48:08.170111Z"
    },
    "papermill": {
     "duration": 0.30984,
     "end_time": "2022-02-17T18:49:06.252962",
     "exception": false,
     "start_time": "2022-02-17T18:49:05.943122",
     "status": "completed"
    },
    "tags": []
   },
   "outputs": [
    {
     "data": {
      "image/png": "[encoded data removed]",
      "text/plain": [
       "<Figure size 432x288 with 2 Axes>"
      ]
     },
     "metadata": {
      "needs_background": "light"
     },
     "output_type": "display_data"
    }
   ],
   "source": [
    "sns.heatmap(cm,annot=True)\n",
    "plt.show()"
   ]
  },
  {
   "cell_type": "code",
   "execution_count": 38,
   "id": "b07909e4",
   "metadata": {
    "execution": {
     "iopub.execute_input": "2022-02-17T18:49:06.436556Z",
     "iopub.status.busy": "2022-02-17T18:49:06.435899Z",
     "iopub.status.idle": "2022-02-17T18:49:06.442938Z",
     "shell.execute_reply": "2022-02-17T18:49:06.442098Z",
     "shell.execute_reply.started": "2022-02-17T18:48:08.434236Z"
    },
    "papermill": {
     "duration": 0.101,
     "end_time": "2022-02-17T18:49:06.443171",
     "exception": false,
     "start_time": "2022-02-17T18:49:06.342171",
     "status": "completed"
    },
    "tags": []
   },
   "outputs": [
    {
     "name": "stdout",
     "output_type": "stream",
     "text": [
      "Accuracy score: 0.9844961240310077\n"
     ]
    }
   ],
   "source": [
    "acc2 = accuracy_score(y_test, y_pred)\n",
    "print(f\"Accuracy score: {acc2}\")"
   ]
  },
  {
   "cell_type": "markdown",
   "id": "8c81a596",
   "metadata": {
    "papermill": {
     "duration": 0.089789,
     "end_time": "2022-02-17T18:49:06.623453",
     "exception": false,
     "start_time": "2022-02-17T18:49:06.533664",
     "status": "completed"
    },
    "tags": []
   },
   "source": [
    "# Training the K-NN model on the Training set"
   ]
  },
  {
   "cell_type": "code",
   "execution_count": 39,
   "id": "05ed4211",
   "metadata": {
    "execution": {
     "iopub.execute_input": "2022-02-17T18:49:06.808666Z",
     "iopub.status.busy": "2022-02-17T18:49:06.807949Z",
     "iopub.status.idle": "2022-02-17T18:49:06.818680Z",
     "shell.execute_reply": "2022-02-17T18:49:06.819306Z",
     "shell.execute_reply.started": "2022-02-17T18:48:08.443455Z"
    },
    "papermill": {
     "duration": 0.105127,
     "end_time": "2022-02-17T18:49:06.819509",
     "exception": false,
     "start_time": "2022-02-17T18:49:06.714382",
     "status": "completed"
    },
    "tags": []
   },
   "outputs": [
    {
     "data": {
      "text/plain": [
       "KNeighborsClassifier()"
      ]
     },
     "execution_count": 39,
     "metadata": {},
     "output_type": "execute_result"
    }
   ],
   "source": [
    "from sklearn.neighbors import KNeighborsClassifier\n",
    "classifier = KNeighborsClassifier(n_neighbors = 5, metric = 'minkowski', p = 2)\n",
    "classifier.fit(X_train, y_train)"
   ]
  },
  {
   "cell_type": "code",
   "execution_count": 40,
   "id": "81fc35d0",
   "metadata": {
    "execution": {
     "iopub.execute_input": "2022-02-17T18:49:07.007414Z",
     "iopub.status.busy": "2022-02-17T18:49:07.006638Z",
     "iopub.status.idle": "2022-02-17T18:49:07.024608Z",
     "shell.execute_reply": "2022-02-17T18:49:07.025273Z",
     "shell.execute_reply.started": "2022-02-17T18:48:08.460380Z"
    },
    "papermill": {
     "duration": 0.114569,
     "end_time": "2022-02-17T18:49:07.025516",
     "exception": false,
     "start_time": "2022-02-17T18:49:06.910947",
     "status": "completed"
    },
    "tags": []
   },
   "outputs": [],
   "source": [
    "y_pred = classifier.predict(X_test)"
   ]
  },
  {
   "cell_type": "markdown",
   "id": "626f4136",
   "metadata": {
    "papermill": {
     "duration": 0.093611,
     "end_time": "2022-02-17T18:49:07.213355",
     "exception": false,
     "start_time": "2022-02-17T18:49:07.119744",
     "status": "completed"
    },
    "tags": []
   },
   "source": [
    "# KNN confusion matrix"
   ]
  },
  {
   "cell_type": "code",
   "execution_count": 41,
   "id": "d76a15a3",
   "metadata": {
    "execution": {
     "iopub.execute_input": "2022-02-17T18:49:07.399469Z",
     "iopub.status.busy": "2022-02-17T18:49:07.398719Z",
     "iopub.status.idle": "2022-02-17T18:49:07.404981Z",
     "shell.execute_reply": "2022-02-17T18:49:07.405711Z",
     "shell.execute_reply.started": "2022-02-17T18:48:08.485941Z"
    },
    "papermill": {
     "duration": 0.101649,
     "end_time": "2022-02-17T18:49:07.406003",
     "exception": false,
     "start_time": "2022-02-17T18:49:07.304354",
     "status": "completed"
    },
    "tags": []
   },
   "outputs": [
    {
     "name": "stdout",
     "output_type": "stream",
     "text": [
      "[[251   0]\n",
      " [  3   4]]\n"
     ]
    }
   ],
   "source": [
    "cm = confusion_matrix(y_test, y_pred)\n",
    "print(cm)"
   ]
  },
  {
   "cell_type": "code",
   "execution_count": 42,
   "id": "9e8a2cdc",
   "metadata": {
    "execution": {
     "iopub.execute_input": "2022-02-17T18:49:07.606395Z",
     "iopub.status.busy": "2022-02-17T18:49:07.605685Z",
     "iopub.status.idle": "2022-02-17T18:49:07.816154Z",
     "shell.execute_reply": "2022-02-17T18:49:07.815289Z",
     "shell.execute_reply.started": "2022-02-17T18:48:08.494521Z"
    },
    "papermill": {
     "duration": 0.317623,
     "end_time": "2022-02-17T18:49:07.816345",
     "exception": false,
     "start_time": "2022-02-17T18:49:07.498722",
     "status": "completed"
    },
    "tags": []
   },
   "outputs": [
    {
     "data": {
      "image/png": "[encoded data removed]",
      "text/plain": [
       "<Figure size 432x288 with 2 Axes>"
      ]
     },
     "metadata": {
      "needs_background": "light"
     },
     "output_type": "display_data"
    }
   ],
   "source": [
    "sns.heatmap(cm,annot=True)\n",
    "plt.show()"
   ]
  },
  {
   "cell_type": "code",
   "execution_count": 43,
   "id": "c99fbc1b",
   "metadata": {
    "execution": {
     "iopub.execute_input": "2022-02-17T18:49:08.005663Z",
     "iopub.status.busy": "2022-02-17T18:49:08.005003Z",
     "iopub.status.idle": "2022-02-17T18:49:08.011716Z",
     "shell.execute_reply": "2022-02-17T18:49:08.010903Z",
     "shell.execute_reply.started": "2022-02-17T18:48:08.764114Z"
    },
    "papermill": {
     "duration": 0.101981,
     "end_time": "2022-02-17T18:49:08.011907",
     "exception": false,
     "start_time": "2022-02-17T18:49:07.909926",
     "status": "completed"
    },
    "tags": []
   },
   "outputs": [
    {
     "name": "stdout",
     "output_type": "stream",
     "text": [
      "Accuracy score: 0.9883720930232558\n"
     ]
    }
   ],
   "source": [
    "acc3 = accuracy_score(y_test, y_pred)\n",
    "print(f\"Accuracy score: {acc3}\")"
   ]
  },
  {
   "cell_type": "markdown",
   "id": "9ae6d4ea",
   "metadata": {
    "papermill": {
     "duration": 0.091035,
     "end_time": "2022-02-17T18:49:08.198419",
     "exception": false,
     "start_time": "2022-02-17T18:49:08.107384",
     "status": "completed"
    },
    "tags": []
   },
   "source": [
    "# Training the Naive Bayes on the Training set"
   ]
  },
  {
   "cell_type": "code",
   "execution_count": 44,
   "id": "2eee14f9",
   "metadata": {
    "execution": {
     "iopub.execute_input": "2022-02-17T18:49:08.390578Z",
     "iopub.status.busy": "2022-02-17T18:49:08.389972Z",
     "iopub.status.idle": "2022-02-17T18:49:08.398794Z",
     "shell.execute_reply": "2022-02-17T18:49:08.399310Z",
     "shell.execute_reply.started": "2022-02-17T18:48:08.771114Z"
    },
    "papermill": {
     "duration": 0.108286,
     "end_time": "2022-02-17T18:49:08.399495",
     "exception": false,
     "start_time": "2022-02-17T18:49:08.291209",
     "status": "completed"
    },
    "tags": []
   },
   "outputs": [
    {
     "data": {
      "text/plain": [
       "GaussianNB()"
      ]
     },
     "execution_count": 44,
     "metadata": {},
     "output_type": "execute_result"
    }
   ],
   "source": [
    "from sklearn.naive_bayes import GaussianNB\n",
    "classifier = GaussianNB()\n",
    "classifier.fit(X_train, y_train)"
   ]
  },
  {
   "cell_type": "code",
   "execution_count": 45,
   "id": "1207b22a",
   "metadata": {
    "execution": {
     "iopub.execute_input": "2022-02-17T18:49:08.592558Z",
     "iopub.status.busy": "2022-02-17T18:49:08.591504Z",
     "iopub.status.idle": "2022-02-17T18:49:08.598665Z",
     "shell.execute_reply": "2022-02-17T18:49:08.598050Z",
     "shell.execute_reply.started": "2022-02-17T18:48:08.785858Z"
    },
    "papermill": {
     "duration": 0.106359,
     "end_time": "2022-02-17T18:49:08.598812",
     "exception": false,
     "start_time": "2022-02-17T18:49:08.492453",
     "status": "completed"
    },
    "tags": []
   },
   "outputs": [
    {
     "name": "stdout",
     "output_type": "stream",
     "text": [
      "[[204  47]\n",
      " [  2   5]]\n"
     ]
    }
   ],
   "source": [
    "y_pred = classifier.predict(X_test)\n",
    "cm = confusion_matrix(y_test, y_pred)\n",
    "print(cm)"
   ]
  },
  {
   "cell_type": "code",
   "execution_count": 46,
   "id": "41d995e0",
   "metadata": {
    "execution": {
     "iopub.execute_input": "2022-02-17T18:49:08.791120Z",
     "iopub.status.busy": "2022-02-17T18:49:08.790451Z",
     "iopub.status.idle": "2022-02-17T18:49:09.016180Z",
     "shell.execute_reply": "2022-02-17T18:49:09.017002Z",
     "shell.execute_reply.started": "2022-02-17T18:48:08.799599Z"
    },
    "papermill": {
     "duration": 0.325314,
     "end_time": "2022-02-17T18:49:09.017209",
     "exception": false,
     "start_time": "2022-02-17T18:49:08.691895",
     "status": "completed"
    },
    "tags": []
   },
   "outputs": [
    {
     "data": {
      "image/png": "[encoded data removed]",
      "text/plain": [
       "<Figure size 432x288 with 2 Axes>"
      ]
     },
     "metadata": {
      "needs_background": "light"
     },
     "output_type": "display_data"
    }
   ],
   "source": [
    "sns.heatmap(cm,annot=True)\n",
    "plt.show()"
   ]
  },
  {
   "cell_type": "code",
   "execution_count": 47,
   "id": "621165a1",
   "metadata": {
    "execution": {
     "iopub.execute_input": "2022-02-17T18:49:09.216336Z",
     "iopub.status.busy": "2022-02-17T18:49:09.215011Z",
     "iopub.status.idle": "2022-02-17T18:49:09.220080Z",
     "shell.execute_reply": "2022-02-17T18:49:09.219406Z",
     "shell.execute_reply.started": "2022-02-17T18:48:09.095222Z"
    },
    "papermill": {
     "duration": 0.105726,
     "end_time": "2022-02-17T18:49:09.220237",
     "exception": false,
     "start_time": "2022-02-17T18:49:09.114511",
     "status": "completed"
    },
    "tags": []
   },
   "outputs": [
    {
     "name": "stdout",
     "output_type": "stream",
     "text": [
      "Accuracy score : 0.810077519379845\n"
     ]
    }
   ],
   "source": [
    "acc4 = accuracy_score(y_test, y_pred)\n",
    "print(f\"Accuracy score : {acc4}\")"
   ]
  },
  {
   "cell_type": "markdown",
   "id": "73ad0afc",
   "metadata": {
    "papermill": {
     "duration": 0.093363,
     "end_time": "2022-02-17T18:49:09.408546",
     "exception": false,
     "start_time": "2022-02-17T18:49:09.315183",
     "status": "completed"
    },
    "tags": []
   },
   "source": [
    "# Training Decision Tree Classification on Train set"
   ]
  },
  {
   "cell_type": "code",
   "execution_count": 48,
   "id": "b329845d",
   "metadata": {
    "execution": {
     "iopub.execute_input": "2022-02-17T18:49:09.603228Z",
     "iopub.status.busy": "2022-02-17T18:49:09.602382Z",
     "iopub.status.idle": "2022-02-17T18:49:09.640296Z",
     "shell.execute_reply": "2022-02-17T18:49:09.640851Z",
     "shell.execute_reply.started": "2022-02-17T18:48:09.106628Z"
    },
    "papermill": {
     "duration": 0.1379,
     "end_time": "2022-02-17T18:49:09.641076",
     "exception": false,
     "start_time": "2022-02-17T18:49:09.503176",
     "status": "completed"
    },
    "tags": []
   },
   "outputs": [
    {
     "data": {
      "text/plain": [
       "DecisionTreeClassifier(criterion='entropy', random_state=0)"
      ]
     },
     "execution_count": 48,
     "metadata": {},
     "output_type": "execute_result"
    }
   ],
   "source": [
    "from sklearn.tree import DecisionTreeClassifier\n",
    "classifier = DecisionTreeClassifier(criterion = 'entropy', random_state = 0)\n",
    "classifier.fit(X_train, y_train)"
   ]
  },
  {
   "cell_type": "code",
   "execution_count": 49,
   "id": "1756e551",
   "metadata": {
    "execution": {
     "iopub.execute_input": "2022-02-17T18:49:09.835357Z",
     "iopub.status.busy": "2022-02-17T18:49:09.834622Z",
     "iopub.status.idle": "2022-02-17T18:49:09.838325Z",
     "shell.execute_reply": "2022-02-17T18:49:09.838939Z",
     "shell.execute_reply.started": "2022-02-17T18:48:09.121857Z"
    },
    "papermill": {
     "duration": 0.103809,
     "end_time": "2022-02-17T18:49:09.839145",
     "exception": false,
     "start_time": "2022-02-17T18:49:09.735336",
     "status": "completed"
    },
    "tags": []
   },
   "outputs": [
    {
     "name": "stdout",
     "output_type": "stream",
     "text": [
      "Accuracy score: 0.9922480620155039\n"
     ]
    }
   ],
   "source": [
    "y_pred = classifier.predict(X_test)\n",
    "acc5 = accuracy_score(y_test, y_pred)\n",
    "print(f\"Accuracy score: {acc5}\")"
   ]
  },
  {
   "cell_type": "markdown",
   "id": "96b46b5f",
   "metadata": {
    "papermill": {
     "duration": 0.118454,
     "end_time": "2022-02-17T18:49:10.058667",
     "exception": false,
     "start_time": "2022-02-17T18:49:09.940213",
     "status": "completed"
    },
    "tags": []
   },
   "source": [
    "# Training the Random Forest Classification model on the Training set"
   ]
  },
  {
   "cell_type": "code",
   "execution_count": 50,
   "id": "cc3a00e0",
   "metadata": {
    "execution": {
     "iopub.execute_input": "2022-02-17T18:49:10.253850Z",
     "iopub.status.busy": "2022-02-17T18:49:10.253198Z",
     "iopub.status.idle": "2022-02-17T18:49:10.309091Z",
     "shell.execute_reply": "2022-02-17T18:49:10.308382Z",
     "shell.execute_reply.started": "2022-02-17T18:48:09.133307Z"
    },
    "papermill": {
     "duration": 0.154809,
     "end_time": "2022-02-17T18:49:10.309248",
     "exception": false,
     "start_time": "2022-02-17T18:49:10.154439",
     "status": "completed"
    },
    "tags": []
   },
   "outputs": [
    {
     "data": {
      "text/plain": [
       "RandomForestClassifier(criterion='entropy', n_estimators=10, random_state=0)"
      ]
     },
     "execution_count": 50,
     "metadata": {},
     "output_type": "execute_result"
    }
   ],
   "source": [
    "from sklearn.ensemble import RandomForestClassifier\n",
    "classifier = RandomForestClassifier(n_estimators = 10, criterion = 'entropy', random_state = 0)\n",
    "classifier.fit(X_train, y_train)"
   ]
  },
  {
   "cell_type": "code",
   "execution_count": 51,
   "id": "c66d8df8",
   "metadata": {
    "execution": {
     "iopub.execute_input": "2022-02-17T18:49:10.507150Z",
     "iopub.status.busy": "2022-02-17T18:49:10.506485Z",
     "iopub.status.idle": "2022-02-17T18:49:10.515278Z",
     "shell.execute_reply": "2022-02-17T18:49:10.514648Z",
     "shell.execute_reply.started": "2022-02-17T18:48:09.168825Z"
    },
    "papermill": {
     "duration": 0.110973,
     "end_time": "2022-02-17T18:49:10.515427",
     "exception": false,
     "start_time": "2022-02-17T18:49:10.404454",
     "status": "completed"
    },
    "tags": []
   },
   "outputs": [
    {
     "name": "stdout",
     "output_type": "stream",
     "text": [
      "[[251   0]\n",
      " [  7   0]]\n"
     ]
    }
   ],
   "source": [
    "y_pred = classifier.predict(X_test)\n",
    "from sklearn.metrics import confusion_matrix, accuracy_score\n",
    "cm = confusion_matrix(y_test, y_pred)\n",
    "print(cm)\n",
    "acc6 = accuracy_score(y_test, y_pred)"
   ]
  },
  {
   "cell_type": "code",
   "execution_count": 52,
   "id": "9d779f76",
   "metadata": {
    "execution": {
     "iopub.execute_input": "2022-02-17T18:49:10.716653Z",
     "iopub.status.busy": "2022-02-17T18:49:10.715993Z",
     "iopub.status.idle": "2022-02-17T18:49:10.934400Z",
     "shell.execute_reply": "2022-02-17T18:49:10.933711Z",
     "shell.execute_reply.started": "2022-02-17T18:48:09.181260Z"
    },
    "papermill": {
     "duration": 0.322878,
     "end_time": "2022-02-17T18:49:10.934549",
     "exception": false,
     "start_time": "2022-02-17T18:49:10.611671",
     "status": "completed"
    },
    "tags": []
   },
   "outputs": [
    {
     "data": {
      "image/png": "[encoded data removed]",
      "text/plain": [
       "<Figure size 432x288 with 2 Axes>"
      ]
     },
     "metadata": {
      "needs_background": "light"
     },
     "output_type": "display_data"
    }
   ],
   "source": [
    "sns.heatmap(cm,annot=True)\n",
    "plt.show()"
   ]
  },
  {
   "cell_type": "code",
   "execution_count": 53,
   "id": "804fc347",
   "metadata": {
    "execution": {
     "iopub.execute_input": "2022-02-17T18:49:11.138192Z",
     "iopub.status.busy": "2022-02-17T18:49:11.137505Z",
     "iopub.status.idle": "2022-02-17T18:49:11.140005Z",
     "shell.execute_reply": "2022-02-17T18:49:11.140488Z",
     "shell.execute_reply.started": "2022-02-17T18:48:09.450213Z"
    },
    "papermill": {
     "duration": 0.107528,
     "end_time": "2022-02-17T18:49:11.140657",
     "exception": false,
     "start_time": "2022-02-17T18:49:11.033129",
     "status": "completed"
    },
    "tags": []
   },
   "outputs": [
    {
     "name": "stdout",
     "output_type": "stream",
     "text": [
      "Random Forest Classification accuracy: 0.9728682170542635\n"
     ]
    }
   ],
   "source": [
    "print(f\"Random Forest Classification accuracy: {acc6}\")"
   ]
  },
  {
   "cell_type": "markdown",
   "id": "36c71460",
   "metadata": {
    "papermill": {
     "duration": 0.095374,
     "end_time": "2022-02-17T18:49:11.333382",
     "exception": false,
     "start_time": "2022-02-17T18:49:11.238008",
     "status": "completed"
    },
    "tags": []
   },
   "source": [
    "# XG Boost"
   ]
  },
  {
   "cell_type": "code",
   "execution_count": 54,
   "id": "70f32333",
   "metadata": {
    "execution": {
     "iopub.execute_input": "2022-02-17T18:49:11.534697Z",
     "iopub.status.busy": "2022-02-17T18:49:11.533729Z",
     "iopub.status.idle": "2022-02-17T18:49:12.030486Z",
     "shell.execute_reply": "2022-02-17T18:49:12.031037Z",
     "shell.execute_reply.started": "2022-02-17T18:48:09.456258Z"
    },
    "papermill": {
     "duration": 0.599861,
     "end_time": "2022-02-17T18:49:12.031245",
     "exception": false,
     "start_time": "2022-02-17T18:49:11.431384",
     "status": "completed"
    },
    "tags": []
   },
   "outputs": [
    {
     "name": "stderr",
     "output_type": "stream",
     "text": [
      "/opt/conda/lib/python3.7/site-packages/xgboost/sklearn.py:1224: UserWarning: The use of label encoder in XGBClassifier is deprecated and will be removed in a future release. To remove this warning, do the following: 1) Pass option use_label_encoder=False when constructing XGBClassifier object; and 2) Encode your labels (y) as integers starting with 0, i.e. 0, 1, 2, ..., [num_class - 1].\n",
      "  warnings.warn(label_encoder_deprecation_msg, UserWarning)\n"
     ]
    },
    {
     "name": "stdout",
     "output_type": "stream",
     "text": [
      "[18:49:11] WARNING: ../src/learner.cc:1115: Starting in XGBoost 1.3.0, the default evaluation metric used with the objective 'binary:logistic' was changed from 'error' to 'logloss'. Explicitly set eval_metric if you'd like to restore the old behavior.\n"
     ]
    },
    {
     "data": {
      "text/plain": [
       "XGBClassifier(base_score=0.5, booster='gbtree', colsample_bylevel=1,\n",
       "              colsample_bynode=1, colsample_bytree=1, enable_categorical=False,\n",
       "              gamma=0, gpu_id=-1, importance_type=None,\n",
       "              interaction_constraints='', learning_rate=0.300000012,\n",
       "              max_delta_step=0, max_depth=6, min_child_weight=1, missing=nan,\n",
       "              monotone_constraints='()', n_estimators=100, n_jobs=4,\n",
       "              num_parallel_tree=1, predictor='auto', random_state=0,\n",
       "              reg_alpha=0, reg_lambda=1, scale_pos_weight=1, subsample=1,\n",
       "              tree_method='exact', validate_parameters=1, verbosity=None)"
      ]
     },
     "execution_count": 54,
     "metadata": {},
     "output_type": "execute_result"
    }
   ],
   "source": [
    "from xgboost import XGBClassifier\n",
    "classifier = XGBClassifier()\n",
    "classifier.fit(X_train, y_train)"
   ]
  },
  {
   "cell_type": "markdown",
   "id": "8a82133a",
   "metadata": {
    "papermill": {
     "duration": 0.098714,
     "end_time": "2022-02-17T18:49:12.229889",
     "exception": false,
     "start_time": "2022-02-17T18:49:12.131175",
     "status": "completed"
    },
    "tags": []
   },
   "source": [
    "# XG Boost Classifier confusion matrix"
   ]
  },
  {
   "cell_type": "code",
   "execution_count": 55,
   "id": "5de5826b",
   "metadata": {
    "execution": {
     "iopub.execute_input": "2022-02-17T18:49:12.430342Z",
     "iopub.status.busy": "2022-02-17T18:49:12.429620Z",
     "iopub.status.idle": "2022-02-17T18:49:12.443121Z",
     "shell.execute_reply": "2022-02-17T18:49:12.443637Z",
     "shell.execute_reply.started": "2022-02-17T18:48:09.862560Z"
    },
    "papermill": {
     "duration": 0.115508,
     "end_time": "2022-02-17T18:49:12.443866",
     "exception": false,
     "start_time": "2022-02-17T18:49:12.328358",
     "status": "completed"
    },
    "tags": []
   },
   "outputs": [
    {
     "name": "stdout",
     "output_type": "stream",
     "text": [
      "[[251   0]\n",
      " [  2   5]]\n"
     ]
    }
   ],
   "source": [
    "y_pred = classifier.predict(X_test)\n",
    "cm = confusion_matrix(y_test, y_pred)\n",
    "print(cm)\n",
    "acc7 = accuracy_score(y_test, y_pred)"
   ]
  },
  {
   "cell_type": "code",
   "execution_count": 56,
   "id": "c35efbfe",
   "metadata": {
    "execution": {
     "iopub.execute_input": "2022-02-17T18:49:12.649525Z",
     "iopub.status.busy": "2022-02-17T18:49:12.648784Z",
     "iopub.status.idle": "2022-02-17T18:49:12.651480Z",
     "shell.execute_reply": "2022-02-17T18:49:12.651989Z",
     "shell.execute_reply.started": "2022-02-17T18:48:09.883185Z"
    },
    "papermill": {
     "duration": 0.108855,
     "end_time": "2022-02-17T18:49:12.652188",
     "exception": false,
     "start_time": "2022-02-17T18:49:12.543333",
     "status": "completed"
    },
    "tags": []
   },
   "outputs": [
    {
     "name": "stdout",
     "output_type": "stream",
     "text": [
      "By XG Boost classifier Acc: 0.9922480620155039\n"
     ]
    }
   ],
   "source": [
    "print(f\"By XG Boost classifier Acc: {acc7}\")"
   ]
  },
  {
   "cell_type": "markdown",
   "id": "d6a8aab4",
   "metadata": {
    "papermill": {
     "duration": 0.098405,
     "end_time": "2022-02-17T18:49:12.849126",
     "exception": false,
     "start_time": "2022-02-17T18:49:12.750721",
     "status": "completed"
    },
    "tags": []
   },
   "source": [
    "# Trainng CatBoost on the Training set"
   ]
  },
  {
   "cell_type": "code",
   "execution_count": 57,
   "id": "166ed6af",
   "metadata": {
    "execution": {
     "iopub.execute_input": "2022-02-17T18:49:13.052003Z",
     "iopub.status.busy": "2022-02-17T18:49:13.051352Z",
     "iopub.status.idle": "2022-02-17T18:49:14.425731Z",
     "shell.execute_reply": "2022-02-17T18:49:14.425141Z",
     "shell.execute_reply.started": "2022-02-17T18:48:09.891085Z"
    },
    "papermill": {
     "duration": 1.47633,
     "end_time": "2022-02-17T18:49:14.425967",
     "exception": false,
     "start_time": "2022-02-17T18:49:12.949637",
     "status": "completed"
    },
    "tags": []
   },
   "outputs": [
    {
     "name": "stdout",
     "output_type": "stream",
     "text": [
      "Learning rate set to 0.008283\n",
      "0:\tlearn: 0.6752495\ttotal: 50.6ms\tremaining: 50.5s\n",
      "1:\tlearn: 0.6520946\ttotal: 52ms\tremaining: 25.9s\n",
      "2:\tlearn: 0.6360034\ttotal: 53ms\tremaining: 17.6s\n",
      "3:\tlearn: 0.6160607\ttotal: 54ms\tremaining: 13.5s\n",
      "4:\tlearn: 0.5996402\ttotal: 54.8ms\tremaining: 10.9s\n",
      "5:\tlearn: 0.5783921\ttotal: 55.6ms\tremaining: 9.21s\n",
      "6:\tlearn: 0.5626194\ttotal: 56.6ms\tremaining: 8.03s\n",
      "7:\tlearn: 0.5489079\ttotal: 57.4ms\tremaining: 7.11s\n",
      "8:\tlearn: 0.5366781\ttotal: 58.2ms\tremaining: 6.41s\n",
      "9:\tlearn: 0.5190456\ttotal: 59.1ms\tremaining: 5.86s\n",
      "10:\tlearn: 0.5006625\ttotal: 60.2ms\tremaining: 5.41s\n",
      "11:\tlearn: 0.4882052\ttotal: 61ms\tremaining: 5.02s\n",
      "12:\tlearn: 0.4769990\ttotal: 62.1ms\tremaining: 4.71s\n",
      "13:\tlearn: 0.4655050\ttotal: 62.9ms\tremaining: 4.43s\n",
      "14:\tlearn: 0.4490887\ttotal: 63.3ms\tremaining: 4.16s\n",
      "15:\tlearn: 0.4338592\ttotal: 64.9ms\tremaining: 3.99s\n",
      "16:\tlearn: 0.4242708\ttotal: 65.9ms\tremaining: 3.81s\n",
      "17:\tlearn: 0.4083648\ttotal: 66.9ms\tremaining: 3.65s\n",
      "18:\tlearn: 0.3951945\ttotal: 67.7ms\tremaining: 3.49s\n",
      "19:\tlearn: 0.3870090\ttotal: 68.4ms\tremaining: 3.35s\n",
      "20:\tlearn: 0.3744655\ttotal: 69.3ms\tremaining: 3.23s\n",
      "21:\tlearn: 0.3632017\ttotal: 70.2ms\tremaining: 3.12s\n",
      "22:\tlearn: 0.3520968\ttotal: 71.2ms\tremaining: 3.02s\n",
      "23:\tlearn: 0.3406172\ttotal: 72.1ms\tremaining: 2.93s\n",
      "24:\tlearn: 0.3301034\ttotal: 73ms\tremaining: 2.85s\n",
      "25:\tlearn: 0.3189902\ttotal: 73.7ms\tremaining: 2.76s\n",
      "26:\tlearn: 0.3082167\ttotal: 74.6ms\tremaining: 2.69s\n",
      "27:\tlearn: 0.2987194\ttotal: 75.5ms\tremaining: 2.62s\n",
      "28:\tlearn: 0.2900522\ttotal: 76.5ms\tremaining: 2.56s\n",
      "29:\tlearn: 0.2807279\ttotal: 77.5ms\tremaining: 2.5s\n",
      "30:\tlearn: 0.2707462\ttotal: 78.7ms\tremaining: 2.46s\n",
      "31:\tlearn: 0.2631431\ttotal: 79.7ms\tremaining: 2.41s\n",
      "32:\tlearn: 0.2542868\ttotal: 80.7ms\tremaining: 2.36s\n",
      "33:\tlearn: 0.2473283\ttotal: 81.7ms\tremaining: 2.32s\n",
      "34:\tlearn: 0.2399736\ttotal: 82.7ms\tremaining: 2.28s\n",
      "35:\tlearn: 0.2332946\ttotal: 83.9ms\tremaining: 2.25s\n",
      "36:\tlearn: 0.2263321\ttotal: 84.9ms\tremaining: 2.21s\n",
      "37:\tlearn: 0.2204605\ttotal: 85.8ms\tremaining: 2.17s\n",
      "38:\tlearn: 0.2139389\ttotal: 86.9ms\tremaining: 2.14s\n",
      "39:\tlearn: 0.2068760\ttotal: 87.6ms\tremaining: 2.1s\n",
      "40:\tlearn: 0.2003974\ttotal: 88.4ms\tremaining: 2.07s\n",
      "41:\tlearn: 0.1951469\ttotal: 89.3ms\tremaining: 2.04s\n",
      "42:\tlearn: 0.1880508\ttotal: 89.9ms\tremaining: 2s\n",
      "43:\tlearn: 0.1828356\ttotal: 90.5ms\tremaining: 1.97s\n",
      "44:\tlearn: 0.1780813\ttotal: 91.2ms\tremaining: 1.94s\n",
      "45:\tlearn: 0.1726066\ttotal: 92ms\tremaining: 1.91s\n",
      "46:\tlearn: 0.1682003\ttotal: 92.8ms\tremaining: 1.88s\n",
      "47:\tlearn: 0.1633614\ttotal: 93.6ms\tremaining: 1.85s\n",
      "48:\tlearn: 0.1590600\ttotal: 94.3ms\tremaining: 1.83s\n",
      "49:\tlearn: 0.1545122\ttotal: 94.9ms\tremaining: 1.8s\n",
      "50:\tlearn: 0.1507133\ttotal: 95.9ms\tremaining: 1.78s\n",
      "51:\tlearn: 0.1466539\ttotal: 96.7ms\tremaining: 1.76s\n",
      "52:\tlearn: 0.1417830\ttotal: 97.6ms\tremaining: 1.74s\n",
      "53:\tlearn: 0.1381632\ttotal: 98.5ms\tremaining: 1.73s\n",
      "54:\tlearn: 0.1342229\ttotal: 99.4ms\tremaining: 1.71s\n",
      "55:\tlearn: 0.1302841\ttotal: 100ms\tremaining: 1.69s\n",
      "56:\tlearn: 0.1265707\ttotal: 101ms\tremaining: 1.67s\n",
      "57:\tlearn: 0.1238819\ttotal: 102ms\tremaining: 1.65s\n",
      "58:\tlearn: 0.1208234\ttotal: 103ms\tremaining: 1.64s\n",
      "59:\tlearn: 0.1177496\ttotal: 103ms\tremaining: 1.62s\n",
      "60:\tlearn: 0.1153082\ttotal: 104ms\tremaining: 1.6s\n",
      "61:\tlearn: 0.1124130\ttotal: 105ms\tremaining: 1.59s\n",
      "62:\tlearn: 0.1093913\ttotal: 106ms\tremaining: 1.57s\n",
      "63:\tlearn: 0.1069877\ttotal: 107ms\tremaining: 1.56s\n",
      "64:\tlearn: 0.1045180\ttotal: 107ms\tremaining: 1.54s\n",
      "65:\tlearn: 0.1021813\ttotal: 108ms\tremaining: 1.53s\n",
      "66:\tlearn: 0.1001711\ttotal: 109ms\tremaining: 1.52s\n",
      "67:\tlearn: 0.0975658\ttotal: 110ms\tremaining: 1.51s\n",
      "68:\tlearn: 0.0951687\ttotal: 111ms\tremaining: 1.5s\n",
      "69:\tlearn: 0.0931329\ttotal: 112ms\tremaining: 1.49s\n",
      "70:\tlearn: 0.0907385\ttotal: 113ms\tremaining: 1.48s\n",
      "71:\tlearn: 0.0888148\ttotal: 114ms\tremaining: 1.47s\n",
      "72:\tlearn: 0.0866764\ttotal: 115ms\tremaining: 1.46s\n",
      "73:\tlearn: 0.0846987\ttotal: 116ms\tremaining: 1.45s\n",
      "74:\tlearn: 0.0827406\ttotal: 117ms\tremaining: 1.44s\n",
      "75:\tlearn: 0.0810788\ttotal: 118ms\tremaining: 1.43s\n",
      "76:\tlearn: 0.0793624\ttotal: 118ms\tremaining: 1.42s\n",
      "77:\tlearn: 0.0778632\ttotal: 119ms\tremaining: 1.41s\n",
      "78:\tlearn: 0.0764302\ttotal: 120ms\tremaining: 1.4s\n",
      "79:\tlearn: 0.0746666\ttotal: 121ms\tremaining: 1.39s\n",
      "80:\tlearn: 0.0732437\ttotal: 121ms\tremaining: 1.38s\n",
      "81:\tlearn: 0.0718254\ttotal: 122ms\tremaining: 1.37s\n",
      "82:\tlearn: 0.0701662\ttotal: 123ms\tremaining: 1.36s\n",
      "83:\tlearn: 0.0687651\ttotal: 124ms\tremaining: 1.35s\n",
      "84:\tlearn: 0.0674882\ttotal: 125ms\tremaining: 1.34s\n",
      "85:\tlearn: 0.0661348\ttotal: 126ms\tremaining: 1.34s\n",
      "86:\tlearn: 0.0650028\ttotal: 127ms\tremaining: 1.33s\n",
      "87:\tlearn: 0.0636798\ttotal: 128ms\tremaining: 1.32s\n",
      "88:\tlearn: 0.0623323\ttotal: 129ms\tremaining: 1.32s\n",
      "89:\tlearn: 0.0612766\ttotal: 130ms\tremaining: 1.31s\n",
      "90:\tlearn: 0.0601561\ttotal: 131ms\tremaining: 1.3s\n",
      "91:\tlearn: 0.0591923\ttotal: 132ms\tremaining: 1.3s\n",
      "92:\tlearn: 0.0582137\ttotal: 132ms\tremaining: 1.29s\n",
      "93:\tlearn: 0.0568746\ttotal: 133ms\tremaining: 1.28s\n",
      "94:\tlearn: 0.0559763\ttotal: 134ms\tremaining: 1.28s\n",
      "95:\tlearn: 0.0549726\ttotal: 135ms\tremaining: 1.27s\n",
      "96:\tlearn: 0.0539938\ttotal: 136ms\tremaining: 1.26s\n",
      "97:\tlearn: 0.0528194\ttotal: 136ms\tremaining: 1.25s\n",
      "98:\tlearn: 0.0517671\ttotal: 137ms\tremaining: 1.25s\n",
      "99:\tlearn: 0.0508767\ttotal: 138ms\tremaining: 1.24s\n",
      "100:\tlearn: 0.0501225\ttotal: 138ms\tremaining: 1.23s\n",
      "101:\tlearn: 0.0492714\ttotal: 139ms\tremaining: 1.23s\n",
      "102:\tlearn: 0.0484270\ttotal: 140ms\tremaining: 1.22s\n",
      "103:\tlearn: 0.0475771\ttotal: 141ms\tremaining: 1.21s\n",
      "104:\tlearn: 0.0469997\ttotal: 142ms\tremaining: 1.21s\n",
      "105:\tlearn: 0.0461962\ttotal: 143ms\tremaining: 1.21s\n",
      "106:\tlearn: 0.0453718\ttotal: 144ms\tremaining: 1.2s\n",
      "107:\tlearn: 0.0447398\ttotal: 145ms\tremaining: 1.2s\n",
      "108:\tlearn: 0.0439913\ttotal: 146ms\tremaining: 1.19s\n",
      "109:\tlearn: 0.0431804\ttotal: 147ms\tremaining: 1.19s\n",
      "110:\tlearn: 0.0425229\ttotal: 148ms\tremaining: 1.18s\n",
      "111:\tlearn: 0.0418727\ttotal: 149ms\tremaining: 1.18s\n",
      "112:\tlearn: 0.0412963\ttotal: 150ms\tremaining: 1.18s\n",
      "113:\tlearn: 0.0407551\ttotal: 151ms\tremaining: 1.17s\n",
      "114:\tlearn: 0.0400820\ttotal: 151ms\tremaining: 1.17s\n",
      "115:\tlearn: 0.0395484\ttotal: 152ms\tremaining: 1.16s\n",
      "116:\tlearn: 0.0389649\ttotal: 153ms\tremaining: 1.15s\n",
      "117:\tlearn: 0.0384595\ttotal: 154ms\tremaining: 1.15s\n",
      "118:\tlearn: 0.0379197\ttotal: 155ms\tremaining: 1.15s\n",
      "119:\tlearn: 0.0373220\ttotal: 155ms\tremaining: 1.14s\n",
      "120:\tlearn: 0.0368463\ttotal: 156ms\tremaining: 1.13s\n",
      "121:\tlearn: 0.0364048\ttotal: 157ms\tremaining: 1.13s\n",
      "122:\tlearn: 0.0358956\ttotal: 158ms\tremaining: 1.12s\n",
      "123:\tlearn: 0.0353486\ttotal: 159ms\tremaining: 1.12s\n",
      "124:\tlearn: 0.0349111\ttotal: 159ms\tremaining: 1.11s\n",
      "125:\tlearn: 0.0344645\ttotal: 160ms\tremaining: 1.11s\n",
      "126:\tlearn: 0.0339631\ttotal: 161ms\tremaining: 1.11s\n",
      "127:\tlearn: 0.0334123\ttotal: 162ms\tremaining: 1.1s\n",
      "128:\tlearn: 0.0328933\ttotal: 163ms\tremaining: 1.1s\n",
      "129:\tlearn: 0.0325307\ttotal: 164ms\tremaining: 1.1s\n",
      "130:\tlearn: 0.0321320\ttotal: 165ms\tremaining: 1.09s\n",
      "131:\tlearn: 0.0316985\ttotal: 165ms\tremaining: 1.09s\n",
      "132:\tlearn: 0.0312224\ttotal: 166ms\tremaining: 1.08s\n",
      "133:\tlearn: 0.0308150\ttotal: 167ms\tremaining: 1.08s\n",
      "134:\tlearn: 0.0304736\ttotal: 168ms\tremaining: 1.07s\n",
      "135:\tlearn: 0.0301082\ttotal: 168ms\tremaining: 1.07s\n",
      "136:\tlearn: 0.0297266\ttotal: 169ms\tremaining: 1.06s\n",
      "137:\tlearn: 0.0293811\ttotal: 170ms\tremaining: 1.06s\n",
      "138:\tlearn: 0.0289522\ttotal: 171ms\tremaining: 1.06s\n",
      "139:\tlearn: 0.0285601\ttotal: 172ms\tremaining: 1.05s\n",
      "140:\tlearn: 0.0281929\ttotal: 172ms\tremaining: 1.05s\n",
      "141:\tlearn: 0.0278050\ttotal: 173ms\tremaining: 1.05s\n",
      "142:\tlearn: 0.0274774\ttotal: 174ms\tremaining: 1.04s\n",
      "143:\tlearn: 0.0271184\ttotal: 175ms\tremaining: 1.04s\n",
      "144:\tlearn: 0.0268479\ttotal: 176ms\tremaining: 1.03s\n",
      "145:\tlearn: 0.0264892\ttotal: 176ms\tremaining: 1.03s\n",
      "146:\tlearn: 0.0262454\ttotal: 178ms\tremaining: 1.03s\n",
      "147:\tlearn: 0.0259715\ttotal: 179ms\tremaining: 1.03s\n",
      "148:\tlearn: 0.0256760\ttotal: 180ms\tremaining: 1.03s\n",
      "149:\tlearn: 0.0253860\ttotal: 182ms\tremaining: 1.03s\n",
      "150:\tlearn: 0.0250794\ttotal: 184ms\tremaining: 1.03s\n",
      "151:\tlearn: 0.0248297\ttotal: 185ms\tremaining: 1.03s\n",
      "152:\tlearn: 0.0245437\ttotal: 186ms\tremaining: 1.03s\n",
      "153:\tlearn: 0.0243311\ttotal: 187ms\tremaining: 1.03s\n",
      "154:\tlearn: 0.0239132\ttotal: 188ms\tremaining: 1.02s\n",
      "155:\tlearn: 0.0236969\ttotal: 189ms\tremaining: 1.02s\n",
      "156:\tlearn: 0.0234531\ttotal: 190ms\tremaining: 1.02s\n",
      "157:\tlearn: 0.0232601\ttotal: 191ms\tremaining: 1.02s\n",
      "158:\tlearn: 0.0230161\ttotal: 192ms\tremaining: 1.01s\n",
      "159:\tlearn: 0.0227624\ttotal: 193ms\tremaining: 1.01s\n",
      "160:\tlearn: 0.0225382\ttotal: 194ms\tremaining: 1.01s\n",
      "161:\tlearn: 0.0223124\ttotal: 195ms\tremaining: 1.01s\n",
      "162:\tlearn: 0.0220960\ttotal: 196ms\tremaining: 1s\n",
      "163:\tlearn: 0.0218108\ttotal: 197ms\tremaining: 1s\n",
      "164:\tlearn: 0.0215418\ttotal: 197ms\tremaining: 999ms\n",
      "165:\tlearn: 0.0213156\ttotal: 198ms\tremaining: 996ms\n",
      "166:\tlearn: 0.0210740\ttotal: 199ms\tremaining: 992ms\n",
      "167:\tlearn: 0.0208369\ttotal: 200ms\tremaining: 989ms\n",
      "168:\tlearn: 0.0206366\ttotal: 200ms\tremaining: 985ms\n",
      "169:\tlearn: 0.0203945\ttotal: 201ms\tremaining: 982ms\n",
      "170:\tlearn: 0.0202284\ttotal: 202ms\tremaining: 979ms\n",
      "171:\tlearn: 0.0200610\ttotal: 203ms\tremaining: 976ms\n",
      "172:\tlearn: 0.0198191\ttotal: 204ms\tremaining: 973ms\n",
      "173:\tlearn: 0.0196274\ttotal: 204ms\tremaining: 971ms\n",
      "174:\tlearn: 0.0194082\ttotal: 205ms\tremaining: 968ms\n",
      "175:\tlearn: 0.0192431\ttotal: 206ms\tremaining: 966ms\n",
      "176:\tlearn: 0.0190478\ttotal: 207ms\tremaining: 964ms\n",
      "177:\tlearn: 0.0188377\ttotal: 208ms\tremaining: 962ms\n",
      "178:\tlearn: 0.0186826\ttotal: 209ms\tremaining: 960ms\n",
      "179:\tlearn: 0.0185020\ttotal: 210ms\tremaining: 957ms\n",
      "180:\tlearn: 0.0183203\ttotal: 211ms\tremaining: 955ms\n",
      "181:\tlearn: 0.0181130\ttotal: 212ms\tremaining: 952ms\n",
      "182:\tlearn: 0.0179651\ttotal: 213ms\tremaining: 949ms\n",
      "183:\tlearn: 0.0177872\ttotal: 213ms\tremaining: 947ms\n",
      "184:\tlearn: 0.0176143\ttotal: 214ms\tremaining: 944ms\n",
      "185:\tlearn: 0.0174718\ttotal: 215ms\tremaining: 940ms\n",
      "186:\tlearn: 0.0173245\ttotal: 216ms\tremaining: 938ms\n",
      "187:\tlearn: 0.0171791\ttotal: 217ms\tremaining: 935ms\n",
      "188:\tlearn: 0.0169947\ttotal: 217ms\tremaining: 933ms\n",
      "189:\tlearn: 0.0168288\ttotal: 218ms\tremaining: 930ms\n",
      "190:\tlearn: 0.0166736\ttotal: 219ms\tremaining: 927ms\n",
      "191:\tlearn: 0.0165247\ttotal: 220ms\tremaining: 925ms\n",
      "192:\tlearn: 0.0163778\ttotal: 221ms\tremaining: 922ms\n",
      "193:\tlearn: 0.0162439\ttotal: 221ms\tremaining: 920ms\n",
      "194:\tlearn: 0.0160595\ttotal: 222ms\tremaining: 918ms\n",
      "195:\tlearn: 0.0159249\ttotal: 223ms\tremaining: 915ms\n",
      "196:\tlearn: 0.0157729\ttotal: 224ms\tremaining: 913ms\n",
      "197:\tlearn: 0.0156297\ttotal: 225ms\tremaining: 910ms\n",
      "198:\tlearn: 0.0154849\ttotal: 226ms\tremaining: 908ms\n",
      "199:\tlearn: 0.0153452\ttotal: 226ms\tremaining: 905ms\n",
      "200:\tlearn: 0.0152062\ttotal: 227ms\tremaining: 903ms\n",
      "201:\tlearn: 0.0151000\ttotal: 228ms\tremaining: 900ms\n",
      "202:\tlearn: 0.0149687\ttotal: 229ms\tremaining: 897ms\n",
      "203:\tlearn: 0.0148526\ttotal: 229ms\tremaining: 895ms\n",
      "204:\tlearn: 0.0147210\ttotal: 230ms\tremaining: 893ms\n",
      "205:\tlearn: 0.0146058\ttotal: 231ms\tremaining: 891ms\n",
      "206:\tlearn: 0.0144886\ttotal: 232ms\tremaining: 890ms\n",
      "207:\tlearn: 0.0143708\ttotal: 233ms\tremaining: 889ms\n",
      "208:\tlearn: 0.0142499\ttotal: 234ms\tremaining: 887ms\n",
      "209:\tlearn: 0.0141484\ttotal: 235ms\tremaining: 886ms\n",
      "210:\tlearn: 0.0140640\ttotal: 236ms\tremaining: 884ms\n",
      "211:\tlearn: 0.0139586\ttotal: 237ms\tremaining: 882ms\n",
      "212:\tlearn: 0.0138223\ttotal: 238ms\tremaining: 880ms\n",
      "213:\tlearn: 0.0137010\ttotal: 239ms\tremaining: 879ms\n",
      "214:\tlearn: 0.0136062\ttotal: 240ms\tremaining: 877ms\n",
      "215:\tlearn: 0.0134987\ttotal: 241ms\tremaining: 876ms\n",
      "216:\tlearn: 0.0133974\ttotal: 242ms\tremaining: 874ms\n",
      "217:\tlearn: 0.0132616\ttotal: 243ms\tremaining: 872ms\n",
      "218:\tlearn: 0.0131645\ttotal: 244ms\tremaining: 871ms\n",
      "219:\tlearn: 0.0130772\ttotal: 246ms\tremaining: 870ms\n",
      "220:\tlearn: 0.0129813\ttotal: 246ms\tremaining: 868ms\n",
      "221:\tlearn: 0.0129013\ttotal: 247ms\tremaining: 866ms\n",
      "222:\tlearn: 0.0127926\ttotal: 248ms\tremaining: 864ms\n",
      "223:\tlearn: 0.0127027\ttotal: 249ms\tremaining: 862ms\n",
      "224:\tlearn: 0.0126235\ttotal: 250ms\tremaining: 859ms\n",
      "225:\tlearn: 0.0125239\ttotal: 250ms\tremaining: 857ms\n",
      "226:\tlearn: 0.0124092\ttotal: 251ms\tremaining: 855ms\n",
      "227:\tlearn: 0.0123058\ttotal: 252ms\tremaining: 853ms\n",
      "228:\tlearn: 0.0122189\ttotal: 253ms\tremaining: 851ms\n",
      "229:\tlearn: 0.0121301\ttotal: 254ms\tremaining: 850ms\n",
      "230:\tlearn: 0.0120290\ttotal: 255ms\tremaining: 849ms\n",
      "231:\tlearn: 0.0119689\ttotal: 256ms\tremaining: 847ms\n",
      "232:\tlearn: 0.0118864\ttotal: 257ms\tremaining: 845ms\n",
      "233:\tlearn: 0.0117847\ttotal: 258ms\tremaining: 844ms\n",
      "234:\tlearn: 0.0116608\ttotal: 259ms\tremaining: 842ms\n",
      "235:\tlearn: 0.0115899\ttotal: 260ms\tremaining: 840ms\n",
      "236:\tlearn: 0.0115136\ttotal: 260ms\tremaining: 839ms\n",
      "237:\tlearn: 0.0114402\ttotal: 261ms\tremaining: 837ms\n",
      "238:\tlearn: 0.0113695\ttotal: 262ms\tremaining: 835ms\n",
      "239:\tlearn: 0.0112948\ttotal: 263ms\tremaining: 834ms\n",
      "240:\tlearn: 0.0112276\ttotal: 264ms\tremaining: 832ms\n",
      "241:\tlearn: 0.0111539\ttotal: 265ms\tremaining: 830ms\n",
      "242:\tlearn: 0.0110570\ttotal: 266ms\tremaining: 829ms\n",
      "243:\tlearn: 0.0109656\ttotal: 267ms\tremaining: 827ms\n",
      "244:\tlearn: 0.0108886\ttotal: 268ms\tremaining: 826ms\n",
      "245:\tlearn: 0.0108261\ttotal: 269ms\tremaining: 824ms\n",
      "246:\tlearn: 0.0107645\ttotal: 270ms\tremaining: 822ms\n",
      "247:\tlearn: 0.0106666\ttotal: 271ms\tremaining: 820ms\n",
      "248:\tlearn: 0.0105897\ttotal: 272ms\tremaining: 819ms\n",
      "249:\tlearn: 0.0105067\ttotal: 273ms\tremaining: 818ms\n",
      "250:\tlearn: 0.0104417\ttotal: 274ms\tremaining: 816ms\n",
      "251:\tlearn: 0.0103767\ttotal: 274ms\tremaining: 815ms\n",
      "252:\tlearn: 0.0103040\ttotal: 275ms\tremaining: 813ms\n",
      "253:\tlearn: 0.0102385\ttotal: 276ms\tremaining: 812ms\n",
      "254:\tlearn: 0.0101698\ttotal: 277ms\tremaining: 811ms\n",
      "255:\tlearn: 0.0101015\ttotal: 278ms\tremaining: 809ms\n",
      "256:\tlearn: 0.0100333\ttotal: 279ms\tremaining: 808ms\n",
      "257:\tlearn: 0.0099633\ttotal: 280ms\tremaining: 806ms\n",
      "258:\tlearn: 0.0098908\ttotal: 281ms\tremaining: 804ms\n",
      "259:\tlearn: 0.0098285\ttotal: 282ms\tremaining: 802ms\n",
      "260:\tlearn: 0.0097544\ttotal: 282ms\tremaining: 799ms\n",
      "261:\tlearn: 0.0097025\ttotal: 283ms\tremaining: 797ms\n",
      "262:\tlearn: 0.0096493\ttotal: 284ms\tremaining: 796ms\n",
      "263:\tlearn: 0.0095917\ttotal: 285ms\tremaining: 794ms\n",
      "264:\tlearn: 0.0095394\ttotal: 285ms\tremaining: 792ms\n",
      "265:\tlearn: 0.0094783\ttotal: 286ms\tremaining: 790ms\n",
      "266:\tlearn: 0.0094212\ttotal: 287ms\tremaining: 788ms\n",
      "267:\tlearn: 0.0093569\ttotal: 288ms\tremaining: 787ms\n",
      "268:\tlearn: 0.0092897\ttotal: 289ms\tremaining: 785ms\n",
      "269:\tlearn: 0.0092330\ttotal: 290ms\tremaining: 783ms\n",
      "270:\tlearn: 0.0091749\ttotal: 290ms\tremaining: 781ms\n",
      "271:\tlearn: 0.0091221\ttotal: 291ms\tremaining: 780ms\n",
      "272:\tlearn: 0.0090858\ttotal: 292ms\tremaining: 778ms\n",
      "273:\tlearn: 0.0090299\ttotal: 293ms\tremaining: 776ms\n",
      "274:\tlearn: 0.0089674\ttotal: 294ms\tremaining: 774ms\n",
      "275:\tlearn: 0.0089358\ttotal: 294ms\tremaining: 772ms\n",
      "276:\tlearn: 0.0088870\ttotal: 295ms\tremaining: 770ms\n",
      "277:\tlearn: 0.0088484\ttotal: 296ms\tremaining: 769ms\n",
      "278:\tlearn: 0.0087932\ttotal: 297ms\tremaining: 767ms\n",
      "279:\tlearn: 0.0087409\ttotal: 298ms\tremaining: 766ms\n",
      "280:\tlearn: 0.0086822\ttotal: 299ms\tremaining: 765ms\n",
      "281:\tlearn: 0.0086289\ttotal: 300ms\tremaining: 764ms\n",
      "282:\tlearn: 0.0085715\ttotal: 301ms\tremaining: 762ms\n",
      "283:\tlearn: 0.0085245\ttotal: 302ms\tremaining: 761ms\n",
      "284:\tlearn: 0.0084821\ttotal: 303ms\tremaining: 759ms\n",
      "285:\tlearn: 0.0084350\ttotal: 303ms\tremaining: 758ms\n",
      "286:\tlearn: 0.0083777\ttotal: 304ms\tremaining: 756ms\n",
      "287:\tlearn: 0.0083281\ttotal: 305ms\tremaining: 754ms\n",
      "288:\tlearn: 0.0082844\ttotal: 306ms\tremaining: 753ms\n",
      "289:\tlearn: 0.0082389\ttotal: 307ms\tremaining: 751ms\n",
      "290:\tlearn: 0.0081970\ttotal: 307ms\tremaining: 749ms\n",
      "291:\tlearn: 0.0081493\ttotal: 308ms\tremaining: 747ms\n",
      "292:\tlearn: 0.0081124\ttotal: 309ms\tremaining: 746ms\n",
      "293:\tlearn: 0.0080711\ttotal: 310ms\tremaining: 744ms\n",
      "294:\tlearn: 0.0080255\ttotal: 311ms\tremaining: 743ms\n",
      "295:\tlearn: 0.0079790\ttotal: 312ms\tremaining: 741ms\n",
      "296:\tlearn: 0.0079311\ttotal: 312ms\tremaining: 740ms\n",
      "297:\tlearn: 0.0078877\ttotal: 313ms\tremaining: 738ms\n",
      "298:\tlearn: 0.0078493\ttotal: 314ms\tremaining: 736ms\n",
      "299:\tlearn: 0.0078025\ttotal: 315ms\tremaining: 735ms\n",
      "300:\tlearn: 0.0077580\ttotal: 316ms\tremaining: 733ms\n",
      "301:\tlearn: 0.0077192\ttotal: 316ms\tremaining: 731ms\n",
      "302:\tlearn: 0.0076720\ttotal: 317ms\tremaining: 730ms\n",
      "303:\tlearn: 0.0076320\ttotal: 318ms\tremaining: 729ms\n",
      "304:\tlearn: 0.0075940\ttotal: 319ms\tremaining: 727ms\n",
      "305:\tlearn: 0.0075626\ttotal: 320ms\tremaining: 725ms\n",
      "306:\tlearn: 0.0075216\ttotal: 321ms\tremaining: 724ms\n",
      "307:\tlearn: 0.0074749\ttotal: 321ms\tremaining: 722ms\n",
      "308:\tlearn: 0.0074248\ttotal: 322ms\tremaining: 720ms\n",
      "309:\tlearn: 0.0073818\ttotal: 323ms\tremaining: 719ms\n",
      "310:\tlearn: 0.0073437\ttotal: 324ms\tremaining: 717ms\n",
      "311:\tlearn: 0.0073065\ttotal: 324ms\tremaining: 716ms\n",
      "312:\tlearn: 0.0072733\ttotal: 325ms\tremaining: 714ms\n",
      "313:\tlearn: 0.0072320\ttotal: 326ms\tremaining: 712ms\n",
      "314:\tlearn: 0.0071914\ttotal: 327ms\tremaining: 711ms\n",
      "315:\tlearn: 0.0071584\ttotal: 328ms\tremaining: 709ms\n",
      "316:\tlearn: 0.0071245\ttotal: 328ms\tremaining: 708ms\n",
      "317:\tlearn: 0.0070921\ttotal: 329ms\tremaining: 706ms\n",
      "318:\tlearn: 0.0070667\ttotal: 330ms\tremaining: 704ms\n",
      "319:\tlearn: 0.0070292\ttotal: 331ms\tremaining: 703ms\n",
      "320:\tlearn: 0.0069943\ttotal: 331ms\tremaining: 701ms\n",
      "321:\tlearn: 0.0069579\ttotal: 332ms\tremaining: 700ms\n",
      "322:\tlearn: 0.0069250\ttotal: 333ms\tremaining: 698ms\n",
      "323:\tlearn: 0.0068924\ttotal: 334ms\tremaining: 696ms\n",
      "324:\tlearn: 0.0068577\ttotal: 335ms\tremaining: 695ms\n",
      "325:\tlearn: 0.0068180\ttotal: 335ms\tremaining: 693ms\n",
      "326:\tlearn: 0.0067873\ttotal: 336ms\tremaining: 692ms\n",
      "327:\tlearn: 0.0067567\ttotal: 337ms\tremaining: 690ms\n",
      "328:\tlearn: 0.0067248\ttotal: 338ms\tremaining: 689ms\n",
      "329:\tlearn: 0.0066887\ttotal: 338ms\tremaining: 687ms\n",
      "330:\tlearn: 0.0066506\ttotal: 339ms\tremaining: 686ms\n",
      "331:\tlearn: 0.0066179\ttotal: 340ms\tremaining: 684ms\n",
      "332:\tlearn: 0.0065830\ttotal: 341ms\tremaining: 682ms\n",
      "333:\tlearn: 0.0065421\ttotal: 341ms\tremaining: 681ms\n",
      "334:\tlearn: 0.0065112\ttotal: 342ms\tremaining: 679ms\n",
      "335:\tlearn: 0.0064812\ttotal: 343ms\tremaining: 678ms\n",
      "336:\tlearn: 0.0064525\ttotal: 344ms\tremaining: 676ms\n",
      "337:\tlearn: 0.0064150\ttotal: 345ms\tremaining: 675ms\n",
      "338:\tlearn: 0.0063859\ttotal: 345ms\tremaining: 673ms\n",
      "339:\tlearn: 0.0063599\ttotal: 346ms\tremaining: 672ms\n",
      "340:\tlearn: 0.0063350\ttotal: 347ms\tremaining: 670ms\n",
      "341:\tlearn: 0.0063000\ttotal: 347ms\tremaining: 669ms\n",
      "342:\tlearn: 0.0062711\ttotal: 348ms\tremaining: 667ms\n",
      "343:\tlearn: 0.0062406\ttotal: 349ms\tremaining: 666ms\n",
      "344:\tlearn: 0.0062040\ttotal: 350ms\tremaining: 665ms\n",
      "345:\tlearn: 0.0061863\ttotal: 351ms\tremaining: 663ms\n",
      "346:\tlearn: 0.0061552\ttotal: 352ms\tremaining: 662ms\n",
      "347:\tlearn: 0.0061201\ttotal: 353ms\tremaining: 662ms\n",
      "348:\tlearn: 0.0061007\ttotal: 354ms\tremaining: 660ms\n",
      "349:\tlearn: 0.0060700\ttotal: 355ms\tremaining: 659ms\n",
      "350:\tlearn: 0.0060440\ttotal: 356ms\tremaining: 659ms\n",
      "351:\tlearn: 0.0060161\ttotal: 358ms\tremaining: 659ms\n",
      "352:\tlearn: 0.0059868\ttotal: 360ms\tremaining: 659ms\n",
      "353:\tlearn: 0.0059709\ttotal: 361ms\tremaining: 658ms\n",
      "354:\tlearn: 0.0059461\ttotal: 362ms\tremaining: 657ms\n",
      "355:\tlearn: 0.0059254\ttotal: 363ms\tremaining: 656ms\n",
      "356:\tlearn: 0.0058925\ttotal: 364ms\tremaining: 655ms\n",
      "357:\tlearn: 0.0058756\ttotal: 365ms\tremaining: 654ms\n",
      "358:\tlearn: 0.0058490\ttotal: 366ms\tremaining: 653ms\n",
      "359:\tlearn: 0.0058212\ttotal: 367ms\tremaining: 652ms\n",
      "360:\tlearn: 0.0058062\ttotal: 368ms\tremaining: 651ms\n",
      "361:\tlearn: 0.0057782\ttotal: 368ms\tremaining: 649ms\n",
      "362:\tlearn: 0.0057633\ttotal: 369ms\tremaining: 648ms\n",
      "363:\tlearn: 0.0057378\ttotal: 370ms\tremaining: 646ms\n",
      "364:\tlearn: 0.0057164\ttotal: 371ms\tremaining: 645ms\n",
      "365:\tlearn: 0.0056981\ttotal: 372ms\tremaining: 644ms\n",
      "366:\tlearn: 0.0056805\ttotal: 372ms\tremaining: 642ms\n",
      "367:\tlearn: 0.0056573\ttotal: 373ms\tremaining: 641ms\n",
      "368:\tlearn: 0.0056318\ttotal: 374ms\tremaining: 640ms\n",
      "369:\tlearn: 0.0056103\ttotal: 375ms\tremaining: 638ms\n",
      "370:\tlearn: 0.0055804\ttotal: 376ms\tremaining: 637ms\n",
      "371:\tlearn: 0.0055569\ttotal: 377ms\tremaining: 636ms\n",
      "372:\tlearn: 0.0055317\ttotal: 377ms\tremaining: 634ms\n",
      "373:\tlearn: 0.0055133\ttotal: 378ms\tremaining: 633ms\n",
      "374:\tlearn: 0.0054945\ttotal: 379ms\tremaining: 632ms\n",
      "375:\tlearn: 0.0054678\ttotal: 380ms\tremaining: 630ms\n",
      "376:\tlearn: 0.0054371\ttotal: 381ms\tremaining: 629ms\n",
      "377:\tlearn: 0.0054138\ttotal: 382ms\tremaining: 628ms\n",
      "378:\tlearn: 0.0053981\ttotal: 383ms\tremaining: 627ms\n",
      "379:\tlearn: 0.0053779\ttotal: 384ms\tremaining: 626ms\n",
      "380:\tlearn: 0.0053571\ttotal: 385ms\tremaining: 625ms\n",
      "381:\tlearn: 0.0053364\ttotal: 386ms\tremaining: 624ms\n",
      "382:\tlearn: 0.0053165\ttotal: 386ms\tremaining: 623ms\n",
      "383:\tlearn: 0.0052949\ttotal: 387ms\tremaining: 621ms\n",
      "384:\tlearn: 0.0052717\ttotal: 388ms\tremaining: 620ms\n",
      "385:\tlearn: 0.0052445\ttotal: 389ms\tremaining: 619ms\n",
      "386:\tlearn: 0.0052217\ttotal: 390ms\tremaining: 617ms\n",
      "387:\tlearn: 0.0052021\ttotal: 390ms\tremaining: 616ms\n",
      "388:\tlearn: 0.0051834\ttotal: 391ms\tremaining: 614ms\n",
      "389:\tlearn: 0.0051652\ttotal: 392ms\tremaining: 613ms\n",
      "390:\tlearn: 0.0051457\ttotal: 393ms\tremaining: 612ms\n",
      "391:\tlearn: 0.0051259\ttotal: 394ms\tremaining: 610ms\n",
      "392:\tlearn: 0.0051083\ttotal: 394ms\tremaining: 609ms\n",
      "393:\tlearn: 0.0050850\ttotal: 395ms\tremaining: 608ms\n",
      "394:\tlearn: 0.0050657\ttotal: 396ms\tremaining: 606ms\n",
      "395:\tlearn: 0.0050485\ttotal: 397ms\tremaining: 605ms\n",
      "396:\tlearn: 0.0050280\ttotal: 397ms\tremaining: 604ms\n",
      "397:\tlearn: 0.0050090\ttotal: 398ms\tremaining: 602ms\n",
      "398:\tlearn: 0.0049876\ttotal: 399ms\tremaining: 601ms\n",
      "399:\tlearn: 0.0049709\ttotal: 400ms\tremaining: 600ms\n",
      "400:\tlearn: 0.0049514\ttotal: 401ms\tremaining: 599ms\n",
      "401:\tlearn: 0.0049294\ttotal: 402ms\tremaining: 598ms\n",
      "402:\tlearn: 0.0049108\ttotal: 403ms\tremaining: 597ms\n",
      "403:\tlearn: 0.0048920\ttotal: 404ms\tremaining: 596ms\n",
      "404:\tlearn: 0.0048745\ttotal: 405ms\tremaining: 595ms\n",
      "405:\tlearn: 0.0048577\ttotal: 406ms\tremaining: 594ms\n",
      "406:\tlearn: 0.0048352\ttotal: 407ms\tremaining: 593ms\n",
      "407:\tlearn: 0.0048202\ttotal: 408ms\tremaining: 591ms\n",
      "408:\tlearn: 0.0047991\ttotal: 408ms\tremaining: 590ms\n",
      "409:\tlearn: 0.0047835\ttotal: 409ms\tremaining: 589ms\n",
      "410:\tlearn: 0.0047658\ttotal: 410ms\tremaining: 588ms\n",
      "411:\tlearn: 0.0047482\ttotal: 411ms\tremaining: 587ms\n",
      "412:\tlearn: 0.0047297\ttotal: 412ms\tremaining: 586ms\n",
      "413:\tlearn: 0.0047148\ttotal: 413ms\tremaining: 585ms\n",
      "414:\tlearn: 0.0046929\ttotal: 414ms\tremaining: 584ms\n",
      "415:\tlearn: 0.0046756\ttotal: 415ms\tremaining: 582ms\n",
      "416:\tlearn: 0.0046541\ttotal: 416ms\tremaining: 581ms\n",
      "417:\tlearn: 0.0046365\ttotal: 416ms\tremaining: 580ms\n",
      "418:\tlearn: 0.0046194\ttotal: 417ms\tremaining: 578ms\n",
      "419:\tlearn: 0.0046043\ttotal: 418ms\tremaining: 577ms\n",
      "420:\tlearn: 0.0045906\ttotal: 419ms\tremaining: 576ms\n",
      "421:\tlearn: 0.0045754\ttotal: 419ms\tremaining: 574ms\n",
      "422:\tlearn: 0.0045577\ttotal: 420ms\tremaining: 573ms\n",
      "423:\tlearn: 0.0045367\ttotal: 421ms\tremaining: 572ms\n",
      "424:\tlearn: 0.0045196\ttotal: 422ms\tremaining: 571ms\n",
      "425:\tlearn: 0.0045054\ttotal: 423ms\tremaining: 570ms\n",
      "426:\tlearn: 0.0044905\ttotal: 424ms\tremaining: 568ms\n",
      "427:\tlearn: 0.0044744\ttotal: 424ms\tremaining: 567ms\n",
      "428:\tlearn: 0.0044539\ttotal: 425ms\tremaining: 566ms\n",
      "429:\tlearn: 0.0044329\ttotal: 426ms\tremaining: 565ms\n",
      "430:\tlearn: 0.0044170\ttotal: 427ms\tremaining: 563ms\n",
      "431:\tlearn: 0.0044030\ttotal: 427ms\tremaining: 562ms\n",
      "432:\tlearn: 0.0043869\ttotal: 428ms\tremaining: 561ms\n",
      "433:\tlearn: 0.0043751\ttotal: 429ms\tremaining: 560ms\n",
      "434:\tlearn: 0.0043608\ttotal: 430ms\tremaining: 559ms\n",
      "435:\tlearn: 0.0043444\ttotal: 431ms\tremaining: 557ms\n",
      "436:\tlearn: 0.0043258\ttotal: 432ms\tremaining: 556ms\n",
      "437:\tlearn: 0.0043078\ttotal: 433ms\tremaining: 555ms\n",
      "438:\tlearn: 0.0042932\ttotal: 434ms\tremaining: 554ms\n",
      "439:\tlearn: 0.0042783\ttotal: 435ms\tremaining: 553ms\n",
      "440:\tlearn: 0.0042594\ttotal: 436ms\tremaining: 552ms\n",
      "441:\tlearn: 0.0042408\ttotal: 437ms\tremaining: 551ms\n",
      "442:\tlearn: 0.0042278\ttotal: 437ms\tremaining: 550ms\n",
      "443:\tlearn: 0.0042144\ttotal: 439ms\tremaining: 550ms\n",
      "444:\tlearn: 0.0042020\ttotal: 440ms\tremaining: 549ms\n",
      "445:\tlearn: 0.0041891\ttotal: 441ms\tremaining: 548ms\n",
      "446:\tlearn: 0.0041789\ttotal: 443ms\tremaining: 548ms\n",
      "447:\tlearn: 0.0041663\ttotal: 445ms\tremaining: 548ms\n",
      "448:\tlearn: 0.0041527\ttotal: 447ms\tremaining: 548ms\n",
      "449:\tlearn: 0.0041365\ttotal: 448ms\tremaining: 548ms\n",
      "450:\tlearn: 0.0041191\ttotal: 450ms\tremaining: 548ms\n",
      "451:\tlearn: 0.0041055\ttotal: 452ms\tremaining: 548ms\n",
      "452:\tlearn: 0.0040981\ttotal: 453ms\tremaining: 547ms\n",
      "453:\tlearn: 0.0040853\ttotal: 454ms\tremaining: 546ms\n",
      "454:\tlearn: 0.0040705\ttotal: 455ms\tremaining: 545ms\n",
      "455:\tlearn: 0.0040590\ttotal: 456ms\tremaining: 544ms\n",
      "456:\tlearn: 0.0040467\ttotal: 457ms\tremaining: 543ms\n",
      "457:\tlearn: 0.0040292\ttotal: 458ms\tremaining: 542ms\n",
      "458:\tlearn: 0.0040128\ttotal: 459ms\tremaining: 541ms\n",
      "459:\tlearn: 0.0039978\ttotal: 460ms\tremaining: 540ms\n",
      "460:\tlearn: 0.0039859\ttotal: 461ms\tremaining: 539ms\n",
      "461:\tlearn: 0.0039701\ttotal: 462ms\tremaining: 538ms\n",
      "462:\tlearn: 0.0039573\ttotal: 463ms\tremaining: 537ms\n",
      "463:\tlearn: 0.0039442\ttotal: 464ms\tremaining: 536ms\n",
      "464:\tlearn: 0.0039273\ttotal: 465ms\tremaining: 535ms\n",
      "465:\tlearn: 0.0039166\ttotal: 466ms\tremaining: 534ms\n",
      "466:\tlearn: 0.0039049\ttotal: 467ms\tremaining: 533ms\n",
      "467:\tlearn: 0.0038934\ttotal: 468ms\tremaining: 532ms\n",
      "468:\tlearn: 0.0038782\ttotal: 469ms\tremaining: 531ms\n",
      "469:\tlearn: 0.0038619\ttotal: 470ms\tremaining: 530ms\n",
      "470:\tlearn: 0.0038504\ttotal: 471ms\tremaining: 529ms\n",
      "471:\tlearn: 0.0038362\ttotal: 472ms\tremaining: 528ms\n",
      "472:\tlearn: 0.0038288\ttotal: 473ms\tremaining: 527ms\n",
      "473:\tlearn: 0.0038142\ttotal: 474ms\tremaining: 526ms\n",
      "474:\tlearn: 0.0038043\ttotal: 475ms\tremaining: 525ms\n",
      "475:\tlearn: 0.0037922\ttotal: 476ms\tremaining: 524ms\n",
      "476:\tlearn: 0.0037784\ttotal: 477ms\tremaining: 523ms\n",
      "477:\tlearn: 0.0037677\ttotal: 478ms\tremaining: 522ms\n",
      "478:\tlearn: 0.0037570\ttotal: 479ms\tremaining: 521ms\n",
      "479:\tlearn: 0.0037433\ttotal: 480ms\tremaining: 520ms\n",
      "480:\tlearn: 0.0037271\ttotal: 480ms\tremaining: 518ms\n",
      "481:\tlearn: 0.0037131\ttotal: 481ms\tremaining: 517ms\n",
      "482:\tlearn: 0.0037031\ttotal: 482ms\tremaining: 516ms\n",
      "483:\tlearn: 0.0036907\ttotal: 483ms\tremaining: 515ms\n",
      "484:\tlearn: 0.0036798\ttotal: 484ms\tremaining: 514ms\n",
      "485:\tlearn: 0.0036685\ttotal: 485ms\tremaining: 513ms\n",
      "486:\tlearn: 0.0036545\ttotal: 486ms\tremaining: 512ms\n",
      "487:\tlearn: 0.0036459\ttotal: 487ms\tremaining: 511ms\n",
      "488:\tlearn: 0.0036335\ttotal: 488ms\tremaining: 510ms\n",
      "489:\tlearn: 0.0036212\ttotal: 489ms\tremaining: 509ms\n",
      "490:\tlearn: 0.0036080\ttotal: 490ms\tremaining: 508ms\n",
      "491:\tlearn: 0.0035982\ttotal: 491ms\tremaining: 507ms\n",
      "492:\tlearn: 0.0035866\ttotal: 492ms\tremaining: 506ms\n",
      "493:\tlearn: 0.0035760\ttotal: 493ms\tremaining: 505ms\n",
      "494:\tlearn: 0.0035674\ttotal: 494ms\tremaining: 504ms\n",
      "495:\tlearn: 0.0035523\ttotal: 495ms\tremaining: 503ms\n",
      "496:\tlearn: 0.0035417\ttotal: 496ms\tremaining: 502ms\n",
      "497:\tlearn: 0.0035302\ttotal: 497ms\tremaining: 501ms\n",
      "498:\tlearn: 0.0035205\ttotal: 498ms\tremaining: 500ms\n",
      "499:\tlearn: 0.0035112\ttotal: 499ms\tremaining: 499ms\n",
      "500:\tlearn: 0.0035027\ttotal: 500ms\tremaining: 498ms\n",
      "501:\tlearn: 0.0034945\ttotal: 502ms\tremaining: 498ms\n",
      "502:\tlearn: 0.0034837\ttotal: 503ms\tremaining: 497ms\n",
      "503:\tlearn: 0.0034705\ttotal: 503ms\tremaining: 495ms\n",
      "504:\tlearn: 0.0034581\ttotal: 504ms\tremaining: 494ms\n",
      "505:\tlearn: 0.0034451\ttotal: 506ms\tremaining: 494ms\n",
      "506:\tlearn: 0.0034362\ttotal: 507ms\tremaining: 493ms\n",
      "507:\tlearn: 0.0034232\ttotal: 508ms\tremaining: 492ms\n",
      "508:\tlearn: 0.0034126\ttotal: 509ms\tremaining: 491ms\n",
      "509:\tlearn: 0.0034027\ttotal: 510ms\tremaining: 490ms\n",
      "510:\tlearn: 0.0033948\ttotal: 511ms\tremaining: 489ms\n",
      "511:\tlearn: 0.0033871\ttotal: 511ms\tremaining: 487ms\n",
      "512:\tlearn: 0.0033751\ttotal: 512ms\tremaining: 486ms\n",
      "513:\tlearn: 0.0033650\ttotal: 514ms\tremaining: 486ms\n",
      "514:\tlearn: 0.0033547\ttotal: 515ms\tremaining: 485ms\n",
      "515:\tlearn: 0.0033457\ttotal: 516ms\tremaining: 484ms\n",
      "516:\tlearn: 0.0033370\ttotal: 517ms\tremaining: 483ms\n",
      "517:\tlearn: 0.0033272\ttotal: 518ms\tremaining: 482ms\n",
      "518:\tlearn: 0.0033179\ttotal: 519ms\tremaining: 481ms\n",
      "519:\tlearn: 0.0033089\ttotal: 520ms\tremaining: 480ms\n",
      "520:\tlearn: 0.0033000\ttotal: 521ms\tremaining: 479ms\n",
      "521:\tlearn: 0.0032923\ttotal: 522ms\tremaining: 478ms\n",
      "522:\tlearn: 0.0032842\ttotal: 523ms\tremaining: 477ms\n",
      "523:\tlearn: 0.0032747\ttotal: 524ms\tremaining: 476ms\n",
      "524:\tlearn: 0.0032651\ttotal: 525ms\tremaining: 475ms\n",
      "525:\tlearn: 0.0032572\ttotal: 526ms\tremaining: 474ms\n",
      "526:\tlearn: 0.0032491\ttotal: 527ms\tremaining: 473ms\n",
      "527:\tlearn: 0.0032407\ttotal: 528ms\tremaining: 472ms\n",
      "528:\tlearn: 0.0032321\ttotal: 529ms\tremaining: 471ms\n",
      "529:\tlearn: 0.0032239\ttotal: 531ms\tremaining: 471ms\n",
      "530:\tlearn: 0.0032148\ttotal: 532ms\tremaining: 470ms\n",
      "531:\tlearn: 0.0032070\ttotal: 532ms\tremaining: 468ms\n",
      "532:\tlearn: 0.0031994\ttotal: 533ms\tremaining: 467ms\n",
      "533:\tlearn: 0.0031895\ttotal: 534ms\tremaining: 466ms\n",
      "534:\tlearn: 0.0031811\ttotal: 535ms\tremaining: 465ms\n",
      "535:\tlearn: 0.0031684\ttotal: 536ms\tremaining: 464ms\n",
      "536:\tlearn: 0.0031578\ttotal: 538ms\tremaining: 464ms\n",
      "537:\tlearn: 0.0031488\ttotal: 539ms\tremaining: 463ms\n",
      "538:\tlearn: 0.0031416\ttotal: 540ms\tremaining: 462ms\n",
      "539:\tlearn: 0.0031316\ttotal: 541ms\tremaining: 461ms\n",
      "540:\tlearn: 0.0031228\ttotal: 542ms\tremaining: 460ms\n",
      "541:\tlearn: 0.0031117\ttotal: 543ms\tremaining: 459ms\n",
      "542:\tlearn: 0.0031050\ttotal: 544ms\tremaining: 458ms\n",
      "543:\tlearn: 0.0030980\ttotal: 545ms\tremaining: 457ms\n",
      "544:\tlearn: 0.0030915\ttotal: 545ms\tremaining: 455ms\n",
      "545:\tlearn: 0.0030823\ttotal: 546ms\tremaining: 454ms\n",
      "546:\tlearn: 0.0030741\ttotal: 547ms\tremaining: 453ms\n",
      "547:\tlearn: 0.0030648\ttotal: 548ms\tremaining: 452ms\n",
      "548:\tlearn: 0.0030579\ttotal: 549ms\tremaining: 451ms\n",
      "549:\tlearn: 0.0030478\ttotal: 549ms\tremaining: 450ms\n",
      "550:\tlearn: 0.0030414\ttotal: 550ms\tremaining: 448ms\n",
      "551:\tlearn: 0.0030320\ttotal: 551ms\tremaining: 447ms\n",
      "552:\tlearn: 0.0030209\ttotal: 552ms\tremaining: 446ms\n",
      "553:\tlearn: 0.0030122\ttotal: 553ms\tremaining: 445ms\n",
      "554:\tlearn: 0.0030074\ttotal: 553ms\tremaining: 444ms\n",
      "555:\tlearn: 0.0030003\ttotal: 554ms\tremaining: 442ms\n",
      "556:\tlearn: 0.0029922\ttotal: 555ms\tremaining: 441ms\n",
      "557:\tlearn: 0.0029841\ttotal: 556ms\tremaining: 440ms\n",
      "558:\tlearn: 0.0029769\ttotal: 556ms\tremaining: 439ms\n",
      "559:\tlearn: 0.0029703\ttotal: 557ms\tremaining: 438ms\n",
      "560:\tlearn: 0.0029635\ttotal: 558ms\tremaining: 437ms\n",
      "561:\tlearn: 0.0029579\ttotal: 559ms\tremaining: 435ms\n",
      "562:\tlearn: 0.0029493\ttotal: 559ms\tremaining: 434ms\n",
      "563:\tlearn: 0.0029410\ttotal: 560ms\tremaining: 433ms\n",
      "564:\tlearn: 0.0029317\ttotal: 561ms\tremaining: 432ms\n",
      "565:\tlearn: 0.0029221\ttotal: 562ms\tremaining: 431ms\n",
      "566:\tlearn: 0.0029158\ttotal: 563ms\tremaining: 430ms\n",
      "567:\tlearn: 0.0029091\ttotal: 563ms\tremaining: 428ms\n",
      "568:\tlearn: 0.0029005\ttotal: 564ms\tremaining: 427ms\n",
      "569:\tlearn: 0.0028916\ttotal: 565ms\tremaining: 426ms\n",
      "570:\tlearn: 0.0028853\ttotal: 566ms\tremaining: 425ms\n",
      "571:\tlearn: 0.0028833\ttotal: 566ms\tremaining: 424ms\n",
      "572:\tlearn: 0.0028752\ttotal: 567ms\tremaining: 423ms\n",
      "573:\tlearn: 0.0028671\ttotal: 568ms\tremaining: 422ms\n",
      "574:\tlearn: 0.0028584\ttotal: 569ms\tremaining: 420ms\n",
      "575:\tlearn: 0.0028518\ttotal: 570ms\tremaining: 419ms\n",
      "576:\tlearn: 0.0028448\ttotal: 570ms\tremaining: 418ms\n",
      "577:\tlearn: 0.0028370\ttotal: 571ms\tremaining: 417ms\n",
      "578:\tlearn: 0.0028307\ttotal: 572ms\tremaining: 416ms\n",
      "579:\tlearn: 0.0028238\ttotal: 573ms\tremaining: 415ms\n",
      "580:\tlearn: 0.0028167\ttotal: 573ms\tremaining: 414ms\n",
      "581:\tlearn: 0.0028113\ttotal: 574ms\tremaining: 412ms\n",
      "582:\tlearn: 0.0028041\ttotal: 576ms\tremaining: 412ms\n",
      "583:\tlearn: 0.0027961\ttotal: 577ms\tremaining: 411ms\n",
      "584:\tlearn: 0.0027873\ttotal: 578ms\tremaining: 410ms\n",
      "585:\tlearn: 0.0027773\ttotal: 579ms\tremaining: 409ms\n",
      "586:\tlearn: 0.0027710\ttotal: 580ms\tremaining: 408ms\n",
      "587:\tlearn: 0.0027653\ttotal: 580ms\tremaining: 407ms\n",
      "588:\tlearn: 0.0027561\ttotal: 581ms\tremaining: 406ms\n",
      "589:\tlearn: 0.0027509\ttotal: 582ms\tremaining: 405ms\n",
      "590:\tlearn: 0.0027451\ttotal: 583ms\tremaining: 404ms\n",
      "591:\tlearn: 0.0027399\ttotal: 584ms\tremaining: 403ms\n",
      "592:\tlearn: 0.0027337\ttotal: 585ms\tremaining: 402ms\n",
      "593:\tlearn: 0.0027247\ttotal: 586ms\tremaining: 401ms\n",
      "594:\tlearn: 0.0027189\ttotal: 588ms\tremaining: 400ms\n",
      "595:\tlearn: 0.0027109\ttotal: 589ms\tremaining: 399ms\n",
      "596:\tlearn: 0.0027055\ttotal: 590ms\tremaining: 398ms\n",
      "597:\tlearn: 0.0026991\ttotal: 590ms\tremaining: 397ms\n",
      "598:\tlearn: 0.0026922\ttotal: 591ms\tremaining: 396ms\n",
      "599:\tlearn: 0.0026855\ttotal: 592ms\tremaining: 395ms\n",
      "600:\tlearn: 0.0026793\ttotal: 593ms\tremaining: 394ms\n",
      "601:\tlearn: 0.0026722\ttotal: 594ms\tremaining: 393ms\n",
      "602:\tlearn: 0.0026643\ttotal: 595ms\tremaining: 392ms\n",
      "603:\tlearn: 0.0026575\ttotal: 596ms\tremaining: 391ms\n",
      "604:\tlearn: 0.0026522\ttotal: 597ms\tremaining: 390ms\n",
      "605:\tlearn: 0.0026460\ttotal: 598ms\tremaining: 389ms\n",
      "606:\tlearn: 0.0026397\ttotal: 599ms\tremaining: 388ms\n",
      "607:\tlearn: 0.0026333\ttotal: 600ms\tremaining: 387ms\n",
      "608:\tlearn: 0.0026277\ttotal: 601ms\tremaining: 386ms\n",
      "609:\tlearn: 0.0026204\ttotal: 601ms\tremaining: 384ms\n",
      "610:\tlearn: 0.0026154\ttotal: 602ms\tremaining: 383ms\n",
      "611:\tlearn: 0.0026092\ttotal: 603ms\tremaining: 382ms\n",
      "612:\tlearn: 0.0026028\ttotal: 604ms\tremaining: 381ms\n",
      "613:\tlearn: 0.0025957\ttotal: 605ms\tremaining: 380ms\n",
      "614:\tlearn: 0.0025889\ttotal: 606ms\tremaining: 379ms\n",
      "615:\tlearn: 0.0025811\ttotal: 607ms\tremaining: 378ms\n",
      "616:\tlearn: 0.0025749\ttotal: 608ms\tremaining: 377ms\n",
      "617:\tlearn: 0.0025692\ttotal: 609ms\tremaining: 376ms\n",
      "618:\tlearn: 0.0025626\ttotal: 609ms\tremaining: 375ms\n",
      "619:\tlearn: 0.0025590\ttotal: 610ms\tremaining: 374ms\n",
      "620:\tlearn: 0.0025515\ttotal: 611ms\tremaining: 373ms\n",
      "621:\tlearn: 0.0025434\ttotal: 612ms\tremaining: 372ms\n",
      "622:\tlearn: 0.0025382\ttotal: 613ms\tremaining: 371ms\n",
      "623:\tlearn: 0.0025330\ttotal: 614ms\tremaining: 370ms\n",
      "624:\tlearn: 0.0025276\ttotal: 615ms\tremaining: 369ms\n",
      "625:\tlearn: 0.0025195\ttotal: 616ms\tremaining: 368ms\n",
      "626:\tlearn: 0.0025138\ttotal: 617ms\tremaining: 367ms\n",
      "627:\tlearn: 0.0025070\ttotal: 618ms\tremaining: 366ms\n",
      "628:\tlearn: 0.0025022\ttotal: 619ms\tremaining: 365ms\n",
      "629:\tlearn: 0.0024977\ttotal: 620ms\tremaining: 364ms\n",
      "630:\tlearn: 0.0024921\ttotal: 621ms\tremaining: 363ms\n",
      "631:\tlearn: 0.0024866\ttotal: 622ms\tremaining: 362ms\n",
      "632:\tlearn: 0.0024818\ttotal: 623ms\tremaining: 361ms\n",
      "633:\tlearn: 0.0024730\ttotal: 624ms\tremaining: 360ms\n",
      "634:\tlearn: 0.0024679\ttotal: 624ms\tremaining: 359ms\n",
      "635:\tlearn: 0.0024639\ttotal: 625ms\tremaining: 358ms\n",
      "636:\tlearn: 0.0024578\ttotal: 626ms\tremaining: 357ms\n",
      "637:\tlearn: 0.0024527\ttotal: 627ms\tremaining: 356ms\n",
      "638:\tlearn: 0.0024474\ttotal: 627ms\tremaining: 354ms\n",
      "639:\tlearn: 0.0024418\ttotal: 628ms\tremaining: 353ms\n",
      "640:\tlearn: 0.0024365\ttotal: 629ms\tremaining: 352ms\n",
      "641:\tlearn: 0.0024299\ttotal: 630ms\tremaining: 351ms\n",
      "642:\tlearn: 0.0024252\ttotal: 631ms\tremaining: 350ms\n",
      "643:\tlearn: 0.0024183\ttotal: 631ms\tremaining: 349ms\n",
      "644:\tlearn: 0.0024120\ttotal: 632ms\tremaining: 348ms\n",
      "645:\tlearn: 0.0024059\ttotal: 633ms\tremaining: 347ms\n",
      "646:\tlearn: 0.0024013\ttotal: 634ms\tremaining: 346ms\n",
      "647:\tlearn: 0.0023965\ttotal: 635ms\tremaining: 345ms\n",
      "648:\tlearn: 0.0023898\ttotal: 635ms\tremaining: 344ms\n",
      "649:\tlearn: 0.0023843\ttotal: 636ms\tremaining: 343ms\n",
      "650:\tlearn: 0.0023770\ttotal: 637ms\tremaining: 341ms\n",
      "651:\tlearn: 0.0023722\ttotal: 638ms\tremaining: 340ms\n",
      "652:\tlearn: 0.0023664\ttotal: 638ms\tremaining: 339ms\n",
      "653:\tlearn: 0.0023618\ttotal: 639ms\tremaining: 338ms\n",
      "654:\tlearn: 0.0023568\ttotal: 640ms\tremaining: 337ms\n",
      "655:\tlearn: 0.0023516\ttotal: 641ms\tremaining: 336ms\n",
      "656:\tlearn: 0.0023471\ttotal: 642ms\tremaining: 335ms\n",
      "657:\tlearn: 0.0023410\ttotal: 643ms\tremaining: 334ms\n",
      "658:\tlearn: 0.0023360\ttotal: 643ms\tremaining: 333ms\n",
      "659:\tlearn: 0.0023314\ttotal: 644ms\tremaining: 332ms\n",
      "660:\tlearn: 0.0023263\ttotal: 645ms\tremaining: 331ms\n",
      "661:\tlearn: 0.0023216\ttotal: 646ms\tremaining: 330ms\n",
      "662:\tlearn: 0.0023170\ttotal: 647ms\tremaining: 329ms\n",
      "663:\tlearn: 0.0023114\ttotal: 648ms\tremaining: 328ms\n",
      "664:\tlearn: 0.0023057\ttotal: 648ms\tremaining: 327ms\n",
      "665:\tlearn: 0.0023012\ttotal: 649ms\tremaining: 326ms\n",
      "666:\tlearn: 0.0022957\ttotal: 650ms\tremaining: 325ms\n",
      "667:\tlearn: 0.0022916\ttotal: 651ms\tremaining: 323ms\n",
      "668:\tlearn: 0.0022870\ttotal: 652ms\tremaining: 322ms\n",
      "669:\tlearn: 0.0022822\ttotal: 653ms\tremaining: 321ms\n",
      "670:\tlearn: 0.0022777\ttotal: 654ms\tremaining: 320ms\n",
      "671:\tlearn: 0.0022738\ttotal: 654ms\tremaining: 319ms\n",
      "672:\tlearn: 0.0022690\ttotal: 655ms\tremaining: 318ms\n",
      "673:\tlearn: 0.0022635\ttotal: 656ms\tremaining: 317ms\n",
      "674:\tlearn: 0.0022597\ttotal: 657ms\tremaining: 316ms\n",
      "675:\tlearn: 0.0022558\ttotal: 658ms\tremaining: 315ms\n",
      "676:\tlearn: 0.0022484\ttotal: 659ms\tremaining: 314ms\n",
      "677:\tlearn: 0.0022438\ttotal: 660ms\tremaining: 313ms\n",
      "678:\tlearn: 0.0022401\ttotal: 661ms\tremaining: 312ms\n",
      "679:\tlearn: 0.0022358\ttotal: 661ms\tremaining: 311ms\n",
      "680:\tlearn: 0.0022310\ttotal: 662ms\tremaining: 310ms\n",
      "681:\tlearn: 0.0022251\ttotal: 663ms\tremaining: 309ms\n",
      "682:\tlearn: 0.0022194\ttotal: 664ms\tremaining: 308ms\n",
      "683:\tlearn: 0.0022154\ttotal: 665ms\tremaining: 307ms\n",
      "684:\tlearn: 0.0022111\ttotal: 666ms\tremaining: 306ms\n",
      "685:\tlearn: 0.0022051\ttotal: 667ms\tremaining: 305ms\n",
      "686:\tlearn: 0.0022001\ttotal: 668ms\tremaining: 304ms\n",
      "687:\tlearn: 0.0021965\ttotal: 669ms\tremaining: 303ms\n",
      "688:\tlearn: 0.0021921\ttotal: 670ms\tremaining: 302ms\n",
      "689:\tlearn: 0.0021868\ttotal: 671ms\tremaining: 301ms\n",
      "690:\tlearn: 0.0021832\ttotal: 672ms\tremaining: 301ms\n",
      "691:\tlearn: 0.0021792\ttotal: 673ms\tremaining: 300ms\n",
      "692:\tlearn: 0.0021741\ttotal: 674ms\tremaining: 299ms\n",
      "693:\tlearn: 0.0021700\ttotal: 675ms\tremaining: 298ms\n",
      "694:\tlearn: 0.0021644\ttotal: 676ms\tremaining: 297ms\n",
      "695:\tlearn: 0.0021601\ttotal: 677ms\tremaining: 296ms\n",
      "696:\tlearn: 0.0021562\ttotal: 678ms\tremaining: 295ms\n",
      "697:\tlearn: 0.0021518\ttotal: 679ms\tremaining: 294ms\n",
      "698:\tlearn: 0.0021484\ttotal: 680ms\tremaining: 293ms\n",
      "699:\tlearn: 0.0021444\ttotal: 681ms\tremaining: 292ms\n",
      "700:\tlearn: 0.0021393\ttotal: 682ms\tremaining: 291ms\n",
      "701:\tlearn: 0.0021357\ttotal: 684ms\tremaining: 290ms\n",
      "702:\tlearn: 0.0021321\ttotal: 685ms\tremaining: 289ms\n",
      "703:\tlearn: 0.0021287\ttotal: 686ms\tremaining: 288ms\n",
      "704:\tlearn: 0.0021226\ttotal: 687ms\tremaining: 287ms\n",
      "705:\tlearn: 0.0021177\ttotal: 688ms\tremaining: 286ms\n",
      "706:\tlearn: 0.0021142\ttotal: 689ms\tremaining: 285ms\n",
      "707:\tlearn: 0.0021102\ttotal: 690ms\tremaining: 284ms\n",
      "708:\tlearn: 0.0021064\ttotal: 690ms\tremaining: 283ms\n",
      "709:\tlearn: 0.0021022\ttotal: 691ms\tremaining: 282ms\n",
      "710:\tlearn: 0.0020970\ttotal: 692ms\tremaining: 281ms\n",
      "711:\tlearn: 0.0020931\ttotal: 693ms\tremaining: 280ms\n",
      "712:\tlearn: 0.0020891\ttotal: 694ms\tremaining: 279ms\n",
      "713:\tlearn: 0.0020857\ttotal: 695ms\tremaining: 278ms\n",
      "714:\tlearn: 0.0020821\ttotal: 695ms\tremaining: 277ms\n",
      "715:\tlearn: 0.0020780\ttotal: 696ms\tremaining: 276ms\n",
      "716:\tlearn: 0.0020729\ttotal: 697ms\tremaining: 275ms\n",
      "717:\tlearn: 0.0020676\ttotal: 698ms\tremaining: 274ms\n",
      "718:\tlearn: 0.0020629\ttotal: 698ms\tremaining: 273ms\n",
      "719:\tlearn: 0.0020580\ttotal: 699ms\tremaining: 272ms\n",
      "720:\tlearn: 0.0020548\ttotal: 700ms\tremaining: 271ms\n",
      "721:\tlearn: 0.0020512\ttotal: 701ms\tremaining: 270ms\n",
      "722:\tlearn: 0.0020476\ttotal: 702ms\tremaining: 269ms\n",
      "723:\tlearn: 0.0020430\ttotal: 703ms\tremaining: 268ms\n",
      "724:\tlearn: 0.0020382\ttotal: 703ms\tremaining: 267ms\n",
      "725:\tlearn: 0.0020345\ttotal: 704ms\tremaining: 266ms\n",
      "726:\tlearn: 0.0020299\ttotal: 705ms\tremaining: 265ms\n",
      "727:\tlearn: 0.0020269\ttotal: 706ms\tremaining: 264ms\n",
      "728:\tlearn: 0.0020227\ttotal: 707ms\tremaining: 263ms\n",
      "729:\tlearn: 0.0020194\ttotal: 708ms\tremaining: 262ms\n",
      "730:\tlearn: 0.0020139\ttotal: 708ms\tremaining: 261ms\n",
      "731:\tlearn: 0.0020106\ttotal: 709ms\tremaining: 260ms\n",
      "732:\tlearn: 0.0020053\ttotal: 710ms\tremaining: 259ms\n",
      "733:\tlearn: 0.0020009\ttotal: 711ms\tremaining: 258ms\n",
      "734:\tlearn: 0.0019979\ttotal: 712ms\tremaining: 257ms\n",
      "735:\tlearn: 0.0019944\ttotal: 714ms\tremaining: 256ms\n",
      "736:\tlearn: 0.0019895\ttotal: 715ms\tremaining: 255ms\n",
      "737:\tlearn: 0.0019839\ttotal: 716ms\tremaining: 254ms\n",
      "738:\tlearn: 0.0019810\ttotal: 719ms\tremaining: 254ms\n",
      "739:\tlearn: 0.0019776\ttotal: 720ms\tremaining: 253ms\n",
      "740:\tlearn: 0.0019743\ttotal: 721ms\tremaining: 252ms\n",
      "741:\tlearn: 0.0019714\ttotal: 722ms\tremaining: 251ms\n",
      "742:\tlearn: 0.0019680\ttotal: 723ms\tremaining: 250ms\n",
      "743:\tlearn: 0.0019643\ttotal: 723ms\tremaining: 249ms\n",
      "744:\tlearn: 0.0019612\ttotal: 724ms\tremaining: 248ms\n",
      "745:\tlearn: 0.0019578\ttotal: 725ms\tremaining: 247ms\n",
      "746:\tlearn: 0.0019539\ttotal: 726ms\tremaining: 246ms\n",
      "747:\tlearn: 0.0019504\ttotal: 727ms\tremaining: 245ms\n",
      "748:\tlearn: 0.0019453\ttotal: 728ms\tremaining: 244ms\n",
      "749:\tlearn: 0.0019420\ttotal: 729ms\tremaining: 243ms\n",
      "750:\tlearn: 0.0019388\ttotal: 730ms\tremaining: 242ms\n",
      "751:\tlearn: 0.0019352\ttotal: 731ms\tremaining: 241ms\n",
      "752:\tlearn: 0.0019321\ttotal: 732ms\tremaining: 240ms\n",
      "753:\tlearn: 0.0019283\ttotal: 734ms\tremaining: 239ms\n",
      "754:\tlearn: 0.0019238\ttotal: 735ms\tremaining: 238ms\n",
      "755:\tlearn: 0.0019210\ttotal: 736ms\tremaining: 238ms\n",
      "756:\tlearn: 0.0019169\ttotal: 737ms\tremaining: 237ms\n",
      "757:\tlearn: 0.0019141\ttotal: 738ms\tremaining: 236ms\n",
      "758:\tlearn: 0.0019101\ttotal: 739ms\tremaining: 235ms\n",
      "759:\tlearn: 0.0019071\ttotal: 740ms\tremaining: 234ms\n",
      "760:\tlearn: 0.0019038\ttotal: 742ms\tremaining: 233ms\n",
      "761:\tlearn: 0.0018997\ttotal: 743ms\tremaining: 232ms\n",
      "762:\tlearn: 0.0018960\ttotal: 744ms\tremaining: 231ms\n",
      "763:\tlearn: 0.0018930\ttotal: 745ms\tremaining: 230ms\n",
      "764:\tlearn: 0.0018899\ttotal: 746ms\tremaining: 229ms\n",
      "765:\tlearn: 0.0018877\ttotal: 747ms\tremaining: 228ms\n",
      "766:\tlearn: 0.0018851\ttotal: 748ms\tremaining: 227ms\n",
      "767:\tlearn: 0.0018821\ttotal: 749ms\tremaining: 226ms\n",
      "768:\tlearn: 0.0018794\ttotal: 750ms\tremaining: 225ms\n",
      "769:\tlearn: 0.0018757\ttotal: 751ms\tremaining: 224ms\n",
      "770:\tlearn: 0.0018718\ttotal: 752ms\tremaining: 223ms\n",
      "771:\tlearn: 0.0018670\ttotal: 753ms\tremaining: 222ms\n",
      "772:\tlearn: 0.0018638\ttotal: 754ms\tremaining: 221ms\n",
      "773:\tlearn: 0.0018609\ttotal: 755ms\tremaining: 220ms\n",
      "774:\tlearn: 0.0018579\ttotal: 756ms\tremaining: 219ms\n",
      "775:\tlearn: 0.0018546\ttotal: 757ms\tremaining: 218ms\n",
      "776:\tlearn: 0.0018519\ttotal: 758ms\tremaining: 218ms\n",
      "777:\tlearn: 0.0018484\ttotal: 759ms\tremaining: 217ms\n",
      "778:\tlearn: 0.0018434\ttotal: 760ms\tremaining: 215ms\n",
      "779:\tlearn: 0.0018403\ttotal: 761ms\tremaining: 215ms\n",
      "780:\tlearn: 0.0018369\ttotal: 762ms\tremaining: 214ms\n",
      "781:\tlearn: 0.0018342\ttotal: 763ms\tremaining: 213ms\n",
      "782:\tlearn: 0.0018297\ttotal: 764ms\tremaining: 212ms\n",
      "783:\tlearn: 0.0018263\ttotal: 765ms\tremaining: 211ms\n",
      "784:\tlearn: 0.0018230\ttotal: 766ms\tremaining: 210ms\n",
      "785:\tlearn: 0.0018199\ttotal: 767ms\tremaining: 209ms\n",
      "786:\tlearn: 0.0018168\ttotal: 767ms\tremaining: 208ms\n",
      "787:\tlearn: 0.0018130\ttotal: 768ms\tremaining: 207ms\n",
      "788:\tlearn: 0.0018088\ttotal: 770ms\tremaining: 206ms\n",
      "789:\tlearn: 0.0018050\ttotal: 771ms\tremaining: 205ms\n",
      "790:\tlearn: 0.0018019\ttotal: 772ms\tremaining: 204ms\n",
      "791:\tlearn: 0.0017996\ttotal: 773ms\tremaining: 203ms\n",
      "792:\tlearn: 0.0017970\ttotal: 774ms\tremaining: 202ms\n",
      "793:\tlearn: 0.0017940\ttotal: 775ms\tremaining: 201ms\n",
      "794:\tlearn: 0.0017911\ttotal: 776ms\tremaining: 200ms\n",
      "795:\tlearn: 0.0017869\ttotal: 777ms\tremaining: 199ms\n",
      "796:\tlearn: 0.0017828\ttotal: 777ms\tremaining: 198ms\n",
      "797:\tlearn: 0.0017800\ttotal: 778ms\tremaining: 197ms\n",
      "798:\tlearn: 0.0017776\ttotal: 779ms\tremaining: 196ms\n",
      "799:\tlearn: 0.0017749\ttotal: 780ms\tremaining: 195ms\n",
      "800:\tlearn: 0.0017718\ttotal: 781ms\tremaining: 194ms\n",
      "801:\tlearn: 0.0017695\ttotal: 781ms\tremaining: 193ms\n",
      "802:\tlearn: 0.0017652\ttotal: 782ms\tremaining: 192ms\n",
      "803:\tlearn: 0.0017622\ttotal: 783ms\tremaining: 191ms\n",
      "804:\tlearn: 0.0017592\ttotal: 784ms\tremaining: 190ms\n",
      "805:\tlearn: 0.0017566\ttotal: 784ms\tremaining: 189ms\n",
      "806:\tlearn: 0.0017545\ttotal: 785ms\tremaining: 188ms\n",
      "807:\tlearn: 0.0017517\ttotal: 786ms\tremaining: 187ms\n",
      "808:\tlearn: 0.0017493\ttotal: 787ms\tremaining: 186ms\n",
      "809:\tlearn: 0.0017469\ttotal: 788ms\tremaining: 185ms\n",
      "810:\tlearn: 0.0017436\ttotal: 788ms\tremaining: 184ms\n",
      "811:\tlearn: 0.0017397\ttotal: 789ms\tremaining: 183ms\n",
      "812:\tlearn: 0.0017366\ttotal: 790ms\tremaining: 182ms\n",
      "813:\tlearn: 0.0017340\ttotal: 791ms\tremaining: 181ms\n",
      "814:\tlearn: 0.0017315\ttotal: 791ms\tremaining: 180ms\n",
      "815:\tlearn: 0.0017289\ttotal: 792ms\tremaining: 179ms\n",
      "816:\tlearn: 0.0017265\ttotal: 793ms\tremaining: 178ms\n",
      "817:\tlearn: 0.0017240\ttotal: 794ms\tremaining: 177ms\n",
      "818:\tlearn: 0.0017213\ttotal: 795ms\tremaining: 176ms\n",
      "819:\tlearn: 0.0017180\ttotal: 795ms\tremaining: 175ms\n",
      "820:\tlearn: 0.0017154\ttotal: 796ms\tremaining: 174ms\n",
      "821:\tlearn: 0.0017123\ttotal: 797ms\tremaining: 173ms\n",
      "822:\tlearn: 0.0017070\ttotal: 798ms\tremaining: 172ms\n",
      "823:\tlearn: 0.0017041\ttotal: 799ms\tremaining: 171ms\n",
      "824:\tlearn: 0.0017018\ttotal: 799ms\tremaining: 170ms\n",
      "825:\tlearn: 0.0016995\ttotal: 800ms\tremaining: 169ms\n",
      "826:\tlearn: 0.0016975\ttotal: 801ms\tremaining: 168ms\n",
      "827:\tlearn: 0.0016947\ttotal: 802ms\tremaining: 167ms\n",
      "828:\tlearn: 0.0016925\ttotal: 803ms\tremaining: 166ms\n",
      "829:\tlearn: 0.0016896\ttotal: 804ms\tremaining: 165ms\n",
      "830:\tlearn: 0.0016875\ttotal: 805ms\tremaining: 164ms\n",
      "831:\tlearn: 0.0016848\ttotal: 806ms\tremaining: 163ms\n",
      "832:\tlearn: 0.0016821\ttotal: 807ms\tremaining: 162ms\n",
      "833:\tlearn: 0.0016801\ttotal: 808ms\tremaining: 161ms\n",
      "834:\tlearn: 0.0016766\ttotal: 809ms\tremaining: 160ms\n",
      "835:\tlearn: 0.0016746\ttotal: 810ms\tremaining: 159ms\n",
      "836:\tlearn: 0.0016719\ttotal: 811ms\tremaining: 158ms\n",
      "837:\tlearn: 0.0016684\ttotal: 812ms\tremaining: 157ms\n",
      "838:\tlearn: 0.0016657\ttotal: 813ms\tremaining: 156ms\n",
      "839:\tlearn: 0.0016626\ttotal: 814ms\tremaining: 155ms\n",
      "840:\tlearn: 0.0016585\ttotal: 814ms\tremaining: 154ms\n",
      "841:\tlearn: 0.0016550\ttotal: 815ms\tremaining: 153ms\n",
      "842:\tlearn: 0.0016521\ttotal: 816ms\tremaining: 152ms\n",
      "843:\tlearn: 0.0016498\ttotal: 817ms\tremaining: 151ms\n",
      "844:\tlearn: 0.0016469\ttotal: 818ms\tremaining: 150ms\n",
      "845:\tlearn: 0.0016446\ttotal: 819ms\tremaining: 149ms\n",
      "846:\tlearn: 0.0016426\ttotal: 820ms\tremaining: 148ms\n",
      "847:\tlearn: 0.0016402\ttotal: 821ms\tremaining: 147ms\n",
      "848:\tlearn: 0.0016374\ttotal: 822ms\tremaining: 146ms\n",
      "849:\tlearn: 0.0016345\ttotal: 823ms\tremaining: 145ms\n",
      "850:\tlearn: 0.0016315\ttotal: 824ms\tremaining: 144ms\n",
      "851:\tlearn: 0.0016290\ttotal: 825ms\tremaining: 143ms\n",
      "852:\tlearn: 0.0016270\ttotal: 825ms\tremaining: 142ms\n",
      "853:\tlearn: 0.0016246\ttotal: 826ms\tremaining: 141ms\n",
      "854:\tlearn: 0.0016216\ttotal: 827ms\tremaining: 140ms\n",
      "855:\tlearn: 0.0016180\ttotal: 828ms\tremaining: 139ms\n",
      "856:\tlearn: 0.0016157\ttotal: 829ms\tremaining: 138ms\n",
      "857:\tlearn: 0.0016125\ttotal: 830ms\tremaining: 137ms\n",
      "858:\tlearn: 0.0016095\ttotal: 831ms\tremaining: 136ms\n",
      "859:\tlearn: 0.0016074\ttotal: 832ms\tremaining: 135ms\n",
      "860:\tlearn: 0.0016055\ttotal: 832ms\tremaining: 134ms\n",
      "861:\tlearn: 0.0016033\ttotal: 833ms\tremaining: 133ms\n",
      "862:\tlearn: 0.0016011\ttotal: 834ms\tremaining: 132ms\n",
      "863:\tlearn: 0.0015979\ttotal: 835ms\tremaining: 131ms\n",
      "864:\tlearn: 0.0015958\ttotal: 836ms\tremaining: 131ms\n",
      "865:\tlearn: 0.0015934\ttotal: 837ms\tremaining: 130ms\n",
      "866:\tlearn: 0.0015913\ttotal: 838ms\tremaining: 129ms\n",
      "867:\tlearn: 0.0015890\ttotal: 839ms\tremaining: 128ms\n",
      "868:\tlearn: 0.0015867\ttotal: 840ms\tremaining: 127ms\n",
      "869:\tlearn: 0.0015846\ttotal: 841ms\tremaining: 126ms\n",
      "870:\tlearn: 0.0015822\ttotal: 842ms\tremaining: 125ms\n",
      "871:\tlearn: 0.0015801\ttotal: 842ms\tremaining: 124ms\n",
      "872:\tlearn: 0.0015778\ttotal: 843ms\tremaining: 123ms\n",
      "873:\tlearn: 0.0015755\ttotal: 844ms\tremaining: 122ms\n",
      "874:\tlearn: 0.0015731\ttotal: 845ms\tremaining: 121ms\n",
      "875:\tlearn: 0.0015715\ttotal: 846ms\tremaining: 120ms\n",
      "876:\tlearn: 0.0015689\ttotal: 846ms\tremaining: 119ms\n",
      "877:\tlearn: 0.0015671\ttotal: 847ms\tremaining: 118ms\n",
      "878:\tlearn: 0.0015652\ttotal: 848ms\tremaining: 117ms\n",
      "879:\tlearn: 0.0015635\ttotal: 849ms\tremaining: 116ms\n",
      "880:\tlearn: 0.0015608\ttotal: 849ms\tremaining: 115ms\n",
      "881:\tlearn: 0.0015590\ttotal: 850ms\tremaining: 114ms\n",
      "882:\tlearn: 0.0015573\ttotal: 851ms\tremaining: 113ms\n",
      "883:\tlearn: 0.0015551\ttotal: 852ms\tremaining: 112ms\n",
      "884:\tlearn: 0.0015531\ttotal: 853ms\tremaining: 111ms\n",
      "885:\tlearn: 0.0015513\ttotal: 853ms\tremaining: 110ms\n",
      "886:\tlearn: 0.0015492\ttotal: 854ms\tremaining: 109ms\n",
      "887:\tlearn: 0.0015473\ttotal: 855ms\tremaining: 108ms\n",
      "888:\tlearn: 0.0015453\ttotal: 856ms\tremaining: 107ms\n",
      "889:\tlearn: 0.0015423\ttotal: 856ms\tremaining: 106ms\n",
      "890:\tlearn: 0.0015404\ttotal: 857ms\tremaining: 105ms\n",
      "891:\tlearn: 0.0015387\ttotal: 858ms\tremaining: 104ms\n",
      "892:\tlearn: 0.0015362\ttotal: 859ms\tremaining: 103ms\n",
      "893:\tlearn: 0.0015343\ttotal: 860ms\tremaining: 102ms\n",
      "894:\tlearn: 0.0015312\ttotal: 860ms\tremaining: 101ms\n",
      "895:\tlearn: 0.0015287\ttotal: 861ms\tremaining: 100ms\n",
      "896:\tlearn: 0.0015266\ttotal: 862ms\tremaining: 99ms\n",
      "897:\tlearn: 0.0015248\ttotal: 863ms\tremaining: 98ms\n",
      "898:\tlearn: 0.0015229\ttotal: 864ms\tremaining: 97ms\n",
      "899:\tlearn: 0.0015207\ttotal: 864ms\tremaining: 96ms\n",
      "900:\tlearn: 0.0015190\ttotal: 865ms\tremaining: 95.1ms\n",
      "901:\tlearn: 0.0015167\ttotal: 866ms\tremaining: 94.1ms\n",
      "902:\tlearn: 0.0015148\ttotal: 867ms\tremaining: 93.1ms\n",
      "903:\tlearn: 0.0015128\ttotal: 867ms\tremaining: 92.1ms\n",
      "904:\tlearn: 0.0015110\ttotal: 868ms\tremaining: 91.1ms\n",
      "905:\tlearn: 0.0015090\ttotal: 869ms\tremaining: 90.2ms\n",
      "906:\tlearn: 0.0015072\ttotal: 870ms\tremaining: 89.2ms\n",
      "907:\tlearn: 0.0015053\ttotal: 871ms\tremaining: 88.2ms\n",
      "908:\tlearn: 0.0015032\ttotal: 872ms\tremaining: 87.3ms\n",
      "909:\tlearn: 0.0015015\ttotal: 872ms\tremaining: 86.3ms\n",
      "910:\tlearn: 0.0014987\ttotal: 873ms\tremaining: 85.3ms\n",
      "911:\tlearn: 0.0014957\ttotal: 874ms\tremaining: 84.3ms\n",
      "912:\tlearn: 0.0014935\ttotal: 875ms\tremaining: 83.3ms\n",
      "913:\tlearn: 0.0014916\ttotal: 875ms\tremaining: 82.4ms\n",
      "914:\tlearn: 0.0014901\ttotal: 876ms\tremaining: 81.4ms\n",
      "915:\tlearn: 0.0014882\ttotal: 877ms\tremaining: 80.4ms\n",
      "916:\tlearn: 0.0014858\ttotal: 878ms\tremaining: 79.4ms\n",
      "917:\tlearn: 0.0014833\ttotal: 878ms\tremaining: 78.5ms\n",
      "918:\tlearn: 0.0014810\ttotal: 879ms\tremaining: 77.5ms\n",
      "919:\tlearn: 0.0014789\ttotal: 880ms\tremaining: 76.5ms\n",
      "920:\tlearn: 0.0014764\ttotal: 881ms\tremaining: 75.6ms\n",
      "921:\tlearn: 0.0014744\ttotal: 882ms\tremaining: 74.6ms\n",
      "922:\tlearn: 0.0014724\ttotal: 883ms\tremaining: 73.6ms\n",
      "923:\tlearn: 0.0014702\ttotal: 883ms\tremaining: 72.7ms\n",
      "924:\tlearn: 0.0014686\ttotal: 884ms\tremaining: 71.7ms\n",
      "925:\tlearn: 0.0014668\ttotal: 885ms\tremaining: 70.7ms\n",
      "926:\tlearn: 0.0014642\ttotal: 886ms\tremaining: 69.8ms\n",
      "927:\tlearn: 0.0014622\ttotal: 887ms\tremaining: 68.8ms\n",
      "928:\tlearn: 0.0014603\ttotal: 889ms\tremaining: 67.9ms\n",
      "929:\tlearn: 0.0014580\ttotal: 890ms\tremaining: 67ms\n",
      "930:\tlearn: 0.0014564\ttotal: 891ms\tremaining: 66ms\n",
      "931:\tlearn: 0.0014545\ttotal: 892ms\tremaining: 65.1ms\n",
      "932:\tlearn: 0.0014525\ttotal: 893ms\tremaining: 64.1ms\n",
      "933:\tlearn: 0.0014512\ttotal: 894ms\tremaining: 63.2ms\n",
      "934:\tlearn: 0.0014490\ttotal: 896ms\tremaining: 62.3ms\n",
      "935:\tlearn: 0.0014466\ttotal: 897ms\tremaining: 61.3ms\n",
      "936:\tlearn: 0.0014448\ttotal: 898ms\tremaining: 60.3ms\n",
      "937:\tlearn: 0.0014431\ttotal: 899ms\tremaining: 59.4ms\n",
      "938:\tlearn: 0.0014415\ttotal: 901ms\tremaining: 58.5ms\n",
      "939:\tlearn: 0.0014399\ttotal: 902ms\tremaining: 57.5ms\n",
      "940:\tlearn: 0.0014380\ttotal: 902ms\tremaining: 56.6ms\n",
      "941:\tlearn: 0.0014363\ttotal: 903ms\tremaining: 55.6ms\n",
      "942:\tlearn: 0.0014346\ttotal: 904ms\tremaining: 54.7ms\n",
      "943:\tlearn: 0.0014319\ttotal: 905ms\tremaining: 53.7ms\n",
      "944:\tlearn: 0.0014304\ttotal: 906ms\tremaining: 52.7ms\n",
      "945:\tlearn: 0.0014282\ttotal: 907ms\tremaining: 51.8ms\n",
      "946:\tlearn: 0.0014265\ttotal: 908ms\tremaining: 50.8ms\n",
      "947:\tlearn: 0.0014245\ttotal: 909ms\tremaining: 49.9ms\n",
      "948:\tlearn: 0.0014226\ttotal: 910ms\tremaining: 48.9ms\n",
      "949:\tlearn: 0.0014209\ttotal: 911ms\tremaining: 47.9ms\n",
      "950:\tlearn: 0.0014185\ttotal: 912ms\tremaining: 47ms\n",
      "951:\tlearn: 0.0014165\ttotal: 913ms\tremaining: 46ms\n",
      "952:\tlearn: 0.0014148\ttotal: 914ms\tremaining: 45.1ms\n",
      "953:\tlearn: 0.0014132\ttotal: 915ms\tremaining: 44.1ms\n",
      "954:\tlearn: 0.0014115\ttotal: 916ms\tremaining: 43.1ms\n",
      "955:\tlearn: 0.0014092\ttotal: 916ms\tremaining: 42.2ms\n",
      "956:\tlearn: 0.0014079\ttotal: 917ms\tremaining: 41.2ms\n",
      "957:\tlearn: 0.0014054\ttotal: 918ms\tremaining: 40.3ms\n",
      "958:\tlearn: 0.0014037\ttotal: 919ms\tremaining: 39.3ms\n",
      "959:\tlearn: 0.0014022\ttotal: 920ms\tremaining: 38.3ms\n",
      "960:\tlearn: 0.0014007\ttotal: 921ms\tremaining: 37.4ms\n",
      "961:\tlearn: 0.0013984\ttotal: 922ms\tremaining: 36.4ms\n",
      "962:\tlearn: 0.0013961\ttotal: 923ms\tremaining: 35.5ms\n",
      "963:\tlearn: 0.0013939\ttotal: 924ms\tremaining: 34.5ms\n",
      "964:\tlearn: 0.0013922\ttotal: 925ms\tremaining: 33.5ms\n",
      "965:\tlearn: 0.0013905\ttotal: 926ms\tremaining: 32.6ms\n",
      "966:\tlearn: 0.0013888\ttotal: 927ms\tremaining: 31.6ms\n",
      "967:\tlearn: 0.0013866\ttotal: 928ms\tremaining: 30.7ms\n",
      "968:\tlearn: 0.0013843\ttotal: 929ms\tremaining: 29.7ms\n",
      "969:\tlearn: 0.0013825\ttotal: 930ms\tremaining: 28.7ms\n",
      "970:\tlearn: 0.0013810\ttotal: 930ms\tremaining: 27.8ms\n",
      "971:\tlearn: 0.0013792\ttotal: 931ms\tremaining: 26.8ms\n",
      "972:\tlearn: 0.0013775\ttotal: 932ms\tremaining: 25.9ms\n",
      "973:\tlearn: 0.0013752\ttotal: 933ms\tremaining: 24.9ms\n",
      "974:\tlearn: 0.0013736\ttotal: 934ms\tremaining: 24ms\n",
      "975:\tlearn: 0.0013715\ttotal: 935ms\tremaining: 23ms\n",
      "976:\tlearn: 0.0013699\ttotal: 936ms\tremaining: 22ms\n",
      "977:\tlearn: 0.0013683\ttotal: 937ms\tremaining: 21.1ms\n",
      "978:\tlearn: 0.0013667\ttotal: 938ms\tremaining: 20.1ms\n",
      "979:\tlearn: 0.0013652\ttotal: 939ms\tremaining: 19.2ms\n",
      "980:\tlearn: 0.0013633\ttotal: 939ms\tremaining: 18.2ms\n",
      "981:\tlearn: 0.0013618\ttotal: 940ms\tremaining: 17.2ms\n",
      "982:\tlearn: 0.0013603\ttotal: 941ms\tremaining: 16.3ms\n",
      "983:\tlearn: 0.0013590\ttotal: 942ms\tremaining: 15.3ms\n",
      "984:\tlearn: 0.0013574\ttotal: 943ms\tremaining: 14.4ms\n",
      "985:\tlearn: 0.0013559\ttotal: 944ms\tremaining: 13.4ms\n",
      "986:\tlearn: 0.0013544\ttotal: 945ms\tremaining: 12.4ms\n",
      "987:\tlearn: 0.0013525\ttotal: 946ms\tremaining: 11.5ms\n",
      "988:\tlearn: 0.0013507\ttotal: 947ms\tremaining: 10.5ms\n",
      "989:\tlearn: 0.0013490\ttotal: 948ms\tremaining: 9.57ms\n",
      "990:\tlearn: 0.0013475\ttotal: 949ms\tremaining: 8.62ms\n",
      "991:\tlearn: 0.0013454\ttotal: 950ms\tremaining: 7.66ms\n",
      "992:\tlearn: 0.0013439\ttotal: 951ms\tremaining: 6.7ms\n",
      "993:\tlearn: 0.0013421\ttotal: 952ms\tremaining: 5.74ms\n",
      "994:\tlearn: 0.0013403\ttotal: 952ms\tremaining: 4.79ms\n",
      "995:\tlearn: 0.0013391\ttotal: 953ms\tremaining: 3.83ms\n",
      "996:\tlearn: 0.0013378\ttotal: 955ms\tremaining: 2.87ms\n",
      "997:\tlearn: 0.0013360\ttotal: 956ms\tremaining: 1.92ms\n",
      "998:\tlearn: 0.0013341\ttotal: 957ms\tremaining: 957us\n",
      "999:\tlearn: 0.0013323\ttotal: 959ms\tremaining: 0us\n"
     ]
    },
    {
     "data": {
      "text/plain": [
       "<catboost.core.CatBoostClassifier at 0x7f9002ba3050>"
      ]
     },
     "execution_count": 57,
     "metadata": {},
     "output_type": "execute_result"
    }
   ],
   "source": [
    "from catboost import CatBoostClassifier\n",
    "classifier = CatBoostClassifier()\n",
    "classifier.fit(X_train, y_train)"
   ]
  },
  {
   "cell_type": "code",
   "execution_count": 58,
   "id": "77d3ee4e",
   "metadata": {
    "execution": {
     "iopub.execute_input": "2022-02-17T18:49:14.646689Z",
     "iopub.status.busy": "2022-02-17T18:49:14.646016Z",
     "iopub.status.idle": "2022-02-17T18:49:14.654812Z",
     "shell.execute_reply": "2022-02-17T18:49:14.655345Z",
     "shell.execute_reply.started": "2022-02-17T18:48:11.022590Z"
    },
    "papermill": {
     "duration": 0.125706,
     "end_time": "2022-02-17T18:49:14.655539",
     "exception": false,
     "start_time": "2022-02-17T18:49:14.529833",
     "status": "completed"
    },
    "tags": []
   },
   "outputs": [
    {
     "name": "stdout",
     "output_type": "stream",
     "text": [
      "[[251   0]\n",
      " [  0   7]]\n"
     ]
    }
   ],
   "source": [
    "y_pred = classifier.predict(X_test)\n",
    "cm = confusion_matrix(y_test, y_pred)\n",
    "print(cm)\n",
    "acc8 = accuracy_score(y_test, y_pred)"
   ]
  },
  {
   "cell_type": "code",
   "execution_count": 59,
   "id": "ddede0ee",
   "metadata": {
    "execution": {
     "iopub.execute_input": "2022-02-17T18:49:14.869348Z",
     "iopub.status.busy": "2022-02-17T18:49:14.868449Z",
     "iopub.status.idle": "2022-02-17T18:49:14.871820Z",
     "shell.execute_reply": "2022-02-17T18:49:14.872373Z",
     "shell.execute_reply.started": "2022-02-17T18:48:11.038429Z"
    },
    "papermill": {
     "duration": 0.11333,
     "end_time": "2022-02-17T18:49:14.872551",
     "exception": false,
     "start_time": "2022-02-17T18:49:14.759221",
     "status": "completed"
    },
    "tags": []
   },
   "outputs": [
    {
     "name": "stdout",
     "output_type": "stream",
     "text": [
      "1.0\n"
     ]
    }
   ],
   "source": [
    "print(acc8)"
   ]
  },
  {
   "cell_type": "markdown",
   "id": "d3abeac0",
   "metadata": {
    "papermill": {
     "duration": 0.10416,
     "end_time": "2022-02-17T18:49:15.083112",
     "exception": false,
     "start_time": "2022-02-17T18:49:14.978952",
     "status": "completed"
    },
    "tags": []
   },
   "source": [
    "# Createvisualization of all models."
   ]
  },
  {
   "cell_type": "code",
   "execution_count": 60,
   "id": "15881caa",
   "metadata": {
    "execution": {
     "iopub.execute_input": "2022-02-17T18:49:15.330989Z",
     "iopub.status.busy": "2022-02-17T18:49:15.301576Z",
     "iopub.status.idle": "2022-02-17T18:49:15.651650Z",
     "shell.execute_reply": "2022-02-17T18:49:15.652174Z",
     "shell.execute_reply.started": "2022-02-17T18:48:11.049714Z"
    },
    "papermill": {
     "duration": 0.462222,
     "end_time": "2022-02-17T18:49:15.652373",
     "exception": false,
     "start_time": "2022-02-17T18:49:15.190151",
     "status": "completed"
    },
    "tags": []
   },
   "outputs": [
    {
     "data": {
      "image/png": "[encoded data removed]",
      "text/plain": [
       "<Figure size 1584x720 with 1 Axes>"
      ]
     },
     "metadata": {},
     "output_type": "display_data"
    }
   ],
   "source": [
    "mylist=[]\n",
    "mylist2=[]\n",
    "mylist.append(acc1)\n",
    "mylist2.append(\"Logistic Regression\")\n",
    "mylist.append(acc2)\n",
    "mylist2.append(\"SVM\")\n",
    "mylist.append(acc3)\n",
    "mylist2.append(\"KNN\")\n",
    "mylist.append(acc4)\n",
    "mylist2.append(\"Naive Bayes\")\n",
    "mylist.append(acc5)\n",
    "mylist2.append(\"DTR\")\n",
    "mylist.append(acc6)\n",
    "mylist2.append(\"RFC\")\n",
    "mylist.append(acc7)\n",
    "mylist2.append(\"XG Boost\")\n",
    "mylist.append(acc8)\n",
    "mylist2.append(\"Cat Boost\")\n",
    "plt.rcParams['figure.figsize']=22,10\n",
    "sns.set_style(\"darkgrid\")\n",
    "ax = sns.barplot(x=mylist2, y=mylist, palette = \"coolwarm\", saturation =1.5)\n",
    "plt.xlabel(\"Classification Models\", fontsize = 20 )\n",
    "plt.ylabel(\"Accuracy\", fontsize = 20)\n",
    "plt.title(\"Accuracy of different Classification Models\", fontsize = 20)\n",
    "plt.xticks(fontsize = 11, horizontalalignment = 'center', rotation = 8)\n",
    "plt.yticks(fontsize = 13)\n",
    "for p in ax.patches:\n",
    "    width, height = p.get_width(), p.get_height()\n",
    "    x, y = p.get_xy() \n",
    "    ax.annotate(f'{height:.2%}', (x + width/2, y + height*1.02), ha='center', fontsize = 'x-large')\n",
    "plt.show()"
   ]
  }
 ],
 "metadata": {
  "kernelspec": {
   "display_name": "Python 3",
   "language": "python",
   "name": "python3"
  },
  "language_info": {
   "codemirror_mode": {
    "name": "ipython",
    "version": 3
   },
   "file_extension": ".py",
   "mimetype": "text/x-python",
   "name": "python",
   "nbconvert_exporter": "python",
   "pygments_lexer": "ipython3",
   "version": "3.7.12"
  },
  "papermill": {
   "default_parameters": {},
   "duration": 37.575276,
   "end_time": "2022-02-17T18:49:16.673273",
   "environment_variables": {},
   "exception": null,
   "input_path": "__notebook__.ipynb",
   "output_path": "__notebook__.ipynb",
   "parameters": {},
   "start_time": "2022-02-17T18:48:39.097997",
   "version": "2.3.3"
  }
 },
 "nbformat": 4,
 "nbformat_minor": 5
}
