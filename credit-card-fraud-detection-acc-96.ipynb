{
 "cells": [
  {
   "cell_type": "code",
   "execution_count": 1,
   "id": "87e4c57c",
   "metadata": {
    "_cell_guid": "b1076dfc-b9ad-4769-8c92-a6c4dae69d19",
    "_uuid": "8f2839f25d086af736a60e9eeb907d3b93b6e0e5",
    "execution": {
     "iopub.execute_input": "2022-02-11T16:30:40.621918Z",
     "iopub.status.busy": "2022-02-11T16:30:40.620161Z",
     "iopub.status.idle": "2022-02-11T16:30:40.638601Z",
     "shell.execute_reply": "2022-02-11T16:30:40.639157Z"
    },
    "papermill": {
     "duration": 0.048066,
     "end_time": "2022-02-11T16:30:40.639533",
     "exception": false,
     "start_time": "2022-02-11T16:30:40.591467",
     "status": "completed"
    },
    "tags": []
   },
   "outputs": [
    {
     "name": "stdout",
     "output_type": "stream",
     "text": [
      "/kaggle/input/creditcardfraud/creditcard.csv\n"
     ]
    }
   ],
   "source": [
    "# This Python 3 environment comes with many helpful analytics libraries installed\n",
    "# It is defined by the kaggle/python Docker image: https://github.com/kaggle/docker-python\n",
    "# For example, here's several helpful packages to load\n",
    "\n",
    "import numpy as np # linear algebra\n",
    "import pandas as pd # data processing, CSV file I/O (e.g. pd.read_csv)\n",
    "\n",
    "# Input data files are available in the read-only \"../input/\" directory\n",
    "# For example, running this (by clicking run or pressing Shift+Enter) will list all files under the input directory\n",
    "\n",
    "import os\n",
    "for dirname, _, filenames in os.walk('/kaggle/input'):\n",
    "    for filename in filenames:\n",
    "        print(os.path.join(dirname, filename))\n",
    "\n",
    "# You can write up to 20GB to the current directory (/kaggle/working/) that gets preserved as output when you create a version using \"Save & Run All\" \n",
    "# You can also write temporary files to /kaggle/temp/, but they won't be saved outside of the current session"
   ]
  },
  {
   "cell_type": "markdown",
   "id": "2d4bd8ee",
   "metadata": {
    "papermill": {
     "duration": 0.023114,
     "end_time": "2022-02-11T16:30:40.686656",
     "exception": false,
     "start_time": "2022-02-11T16:30:40.663542",
     "status": "completed"
    },
    "tags": []
   },
   "source": [
    "**Form this notebook you can learn, one of the Wrapper feature selection method(Step backward feature selection).**"
   ]
  },
  {
   "cell_type": "code",
   "execution_count": 2,
   "id": "82f37b82",
   "metadata": {
    "execution": {
     "iopub.execute_input": "2022-02-11T16:30:40.740576Z",
     "iopub.status.busy": "2022-02-11T16:30:40.739669Z",
     "iopub.status.idle": "2022-02-11T16:30:41.904306Z",
     "shell.execute_reply": "2022-02-11T16:30:41.903411Z",
     "shell.execute_reply.started": "2022-02-11T15:13:40.064418Z"
    },
    "papermill": {
     "duration": 1.193051,
     "end_time": "2022-02-11T16:30:41.904475",
     "exception": false,
     "start_time": "2022-02-11T16:30:40.711424",
     "status": "completed"
    },
    "tags": []
   },
   "outputs": [],
   "source": [
    "import numpy as np\n",
    "import pandas as pd\n",
    "import matplotlib.pyplot as plt\n",
    "import seaborn as sns"
   ]
  },
  {
   "cell_type": "code",
   "execution_count": 3,
   "id": "39da594d",
   "metadata": {
    "execution": {
     "iopub.execute_input": "2022-02-11T16:30:41.955173Z",
     "iopub.status.busy": "2022-02-11T16:30:41.954476Z",
     "iopub.status.idle": "2022-02-11T16:30:47.097933Z",
     "shell.execute_reply": "2022-02-11T16:30:47.098457Z",
     "shell.execute_reply.started": "2022-02-11T15:15:53.753106Z"
    },
    "papermill": {
     "duration": 5.17162,
     "end_time": "2022-02-11T16:30:47.098714",
     "exception": false,
     "start_time": "2022-02-11T16:30:41.927094",
     "status": "completed"
    },
    "tags": []
   },
   "outputs": [],
   "source": [
    "data = pd.read_csv(\"../input/creditcardfraud/creditcard.csv\")"
   ]
  },
  {
   "cell_type": "code",
   "execution_count": 4,
   "id": "7dd9ce91",
   "metadata": {
    "execution": {
     "iopub.execute_input": "2022-02-11T16:30:47.159813Z",
     "iopub.status.busy": "2022-02-11T16:30:47.158768Z",
     "iopub.status.idle": "2022-02-11T16:30:47.184355Z",
     "shell.execute_reply": "2022-02-11T16:30:47.184876Z",
     "shell.execute_reply.started": "2022-02-11T15:15:58.789170Z"
    },
    "papermill": {
     "duration": 0.063705,
     "end_time": "2022-02-11T16:30:47.185069",
     "exception": false,
     "start_time": "2022-02-11T16:30:47.121364",
     "status": "completed"
    },
    "tags": []
   },
   "outputs": [
    {
     "data": {
      "text/html": [
       "<div>\n",
       "<style scoped>\n",
       "    .dataframe tbody tr th:only-of-type {\n",
       "        vertical-align: middle;\n",
       "    }\n",
       "\n",
       "    .dataframe tbody tr th {\n",
       "        vertical-align: top;\n",
       "    }\n",
       "\n",
       "    .dataframe thead th {\n",
       "        text-align: right;\n",
       "    }\n",
       "</style>\n",
       "<table border=\"1\" class=\"dataframe\">\n",
       "  <thead>\n",
       "    <tr style=\"text-align: right;\">\n",
       "      <th></th>\n",
       "      <th>Time</th>\n",
       "      <th>V1</th>\n",
       "      <th>V2</th>\n",
       "      <th>V3</th>\n",
       "      <th>V4</th>\n",
       "      <th>V5</th>\n",
       "      <th>V6</th>\n",
       "      <th>V7</th>\n",
       "      <th>V8</th>\n",
       "      <th>V9</th>\n",
       "      <th>...</th>\n",
       "      <th>V21</th>\n",
       "      <th>V22</th>\n",
       "      <th>V23</th>\n",
       "      <th>V24</th>\n",
       "      <th>V25</th>\n",
       "      <th>V26</th>\n",
       "      <th>V27</th>\n",
       "      <th>V28</th>\n",
       "      <th>Amount</th>\n",
       "      <th>Class</th>\n",
       "    </tr>\n",
       "  </thead>\n",
       "  <tbody>\n",
       "    <tr>\n",
       "      <th>0</th>\n",
       "      <td>0.0</td>\n",
       "      <td>-1.359807</td>\n",
       "      <td>-0.072781</td>\n",
       "      <td>2.536347</td>\n",
       "      <td>1.378155</td>\n",
       "      <td>-0.338321</td>\n",
       "      <td>0.462388</td>\n",
       "      <td>0.239599</td>\n",
       "      <td>0.098698</td>\n",
       "      <td>0.363787</td>\n",
       "      <td>...</td>\n",
       "      <td>-0.018307</td>\n",
       "      <td>0.277838</td>\n",
       "      <td>-0.110474</td>\n",
       "      <td>0.066928</td>\n",
       "      <td>0.128539</td>\n",
       "      <td>-0.189115</td>\n",
       "      <td>0.133558</td>\n",
       "      <td>-0.021053</td>\n",
       "      <td>149.62</td>\n",
       "      <td>0</td>\n",
       "    </tr>\n",
       "    <tr>\n",
       "      <th>1</th>\n",
       "      <td>0.0</td>\n",
       "      <td>1.191857</td>\n",
       "      <td>0.266151</td>\n",
       "      <td>0.166480</td>\n",
       "      <td>0.448154</td>\n",
       "      <td>0.060018</td>\n",
       "      <td>-0.082361</td>\n",
       "      <td>-0.078803</td>\n",
       "      <td>0.085102</td>\n",
       "      <td>-0.255425</td>\n",
       "      <td>...</td>\n",
       "      <td>-0.225775</td>\n",
       "      <td>-0.638672</td>\n",
       "      <td>0.101288</td>\n",
       "      <td>-0.339846</td>\n",
       "      <td>0.167170</td>\n",
       "      <td>0.125895</td>\n",
       "      <td>-0.008983</td>\n",
       "      <td>0.014724</td>\n",
       "      <td>2.69</td>\n",
       "      <td>0</td>\n",
       "    </tr>\n",
       "    <tr>\n",
       "      <th>2</th>\n",
       "      <td>1.0</td>\n",
       "      <td>-1.358354</td>\n",
       "      <td>-1.340163</td>\n",
       "      <td>1.773209</td>\n",
       "      <td>0.379780</td>\n",
       "      <td>-0.503198</td>\n",
       "      <td>1.800499</td>\n",
       "      <td>0.791461</td>\n",
       "      <td>0.247676</td>\n",
       "      <td>-1.514654</td>\n",
       "      <td>...</td>\n",
       "      <td>0.247998</td>\n",
       "      <td>0.771679</td>\n",
       "      <td>0.909412</td>\n",
       "      <td>-0.689281</td>\n",
       "      <td>-0.327642</td>\n",
       "      <td>-0.139097</td>\n",
       "      <td>-0.055353</td>\n",
       "      <td>-0.059752</td>\n",
       "      <td>378.66</td>\n",
       "      <td>0</td>\n",
       "    </tr>\n",
       "    <tr>\n",
       "      <th>3</th>\n",
       "      <td>1.0</td>\n",
       "      <td>-0.966272</td>\n",
       "      <td>-0.185226</td>\n",
       "      <td>1.792993</td>\n",
       "      <td>-0.863291</td>\n",
       "      <td>-0.010309</td>\n",
       "      <td>1.247203</td>\n",
       "      <td>0.237609</td>\n",
       "      <td>0.377436</td>\n",
       "      <td>-1.387024</td>\n",
       "      <td>...</td>\n",
       "      <td>-0.108300</td>\n",
       "      <td>0.005274</td>\n",
       "      <td>-0.190321</td>\n",
       "      <td>-1.175575</td>\n",
       "      <td>0.647376</td>\n",
       "      <td>-0.221929</td>\n",
       "      <td>0.062723</td>\n",
       "      <td>0.061458</td>\n",
       "      <td>123.50</td>\n",
       "      <td>0</td>\n",
       "    </tr>\n",
       "    <tr>\n",
       "      <th>4</th>\n",
       "      <td>2.0</td>\n",
       "      <td>-1.158233</td>\n",
       "      <td>0.877737</td>\n",
       "      <td>1.548718</td>\n",
       "      <td>0.403034</td>\n",
       "      <td>-0.407193</td>\n",
       "      <td>0.095921</td>\n",
       "      <td>0.592941</td>\n",
       "      <td>-0.270533</td>\n",
       "      <td>0.817739</td>\n",
       "      <td>...</td>\n",
       "      <td>-0.009431</td>\n",
       "      <td>0.798278</td>\n",
       "      <td>-0.137458</td>\n",
       "      <td>0.141267</td>\n",
       "      <td>-0.206010</td>\n",
       "      <td>0.502292</td>\n",
       "      <td>0.219422</td>\n",
       "      <td>0.215153</td>\n",
       "      <td>69.99</td>\n",
       "      <td>0</td>\n",
       "    </tr>\n",
       "  </tbody>\n",
       "</table>\n",
       "<p>5 rows × 31 columns</p>\n",
       "</div>"
      ],
      "text/plain": [
       "   Time        V1        V2        V3        V4        V5        V6        V7  \\\n",
       "0   0.0 -1.359807 -0.072781  2.536347  1.378155 -0.338321  0.462388  0.239599   \n",
       "1   0.0  1.191857  0.266151  0.166480  0.448154  0.060018 -0.082361 -0.078803   \n",
       "2   1.0 -1.358354 -1.340163  1.773209  0.379780 -0.503198  1.800499  0.791461   \n",
       "3   1.0 -0.966272 -0.185226  1.792993 -0.863291 -0.010309  1.247203  0.237609   \n",
       "4   2.0 -1.158233  0.877737  1.548718  0.403034 -0.407193  0.095921  0.592941   \n",
       "\n",
       "         V8        V9  ...       V21       V22       V23       V24       V25  \\\n",
       "0  0.098698  0.363787  ... -0.018307  0.277838 -0.110474  0.066928  0.128539   \n",
       "1  0.085102 -0.255425  ... -0.225775 -0.638672  0.101288 -0.339846  0.167170   \n",
       "2  0.247676 -1.514654  ...  0.247998  0.771679  0.909412 -0.689281 -0.327642   \n",
       "3  0.377436 -1.387024  ... -0.108300  0.005274 -0.190321 -1.175575  0.647376   \n",
       "4 -0.270533  0.817739  ... -0.009431  0.798278 -0.137458  0.141267 -0.206010   \n",
       "\n",
       "        V26       V27       V28  Amount  Class  \n",
       "0 -0.189115  0.133558 -0.021053  149.62      0  \n",
       "1  0.125895 -0.008983  0.014724    2.69      0  \n",
       "2 -0.139097 -0.055353 -0.059752  378.66      0  \n",
       "3 -0.221929  0.062723  0.061458  123.50      0  \n",
       "4  0.502292  0.219422  0.215153   69.99      0  \n",
       "\n",
       "[5 rows x 31 columns]"
      ]
     },
     "execution_count": 4,
     "metadata": {},
     "output_type": "execute_result"
    }
   ],
   "source": [
    "data.head()"
   ]
  },
  {
   "cell_type": "code",
   "execution_count": 5,
   "id": "cf5aa0b8",
   "metadata": {
    "execution": {
     "iopub.execute_input": "2022-02-11T16:30:47.239713Z",
     "iopub.status.busy": "2022-02-11T16:30:47.239002Z",
     "iopub.status.idle": "2022-02-11T16:30:47.284179Z",
     "shell.execute_reply": "2022-02-11T16:30:47.284774Z",
     "shell.execute_reply.started": "2022-02-11T15:19:34.515671Z"
    },
    "papermill": {
     "duration": 0.076673,
     "end_time": "2022-02-11T16:30:47.284982",
     "exception": false,
     "start_time": "2022-02-11T16:30:47.208309",
     "status": "completed"
    },
    "tags": []
   },
   "outputs": [
    {
     "name": "stdout",
     "output_type": "stream",
     "text": [
      "<class 'pandas.core.frame.DataFrame'>\n",
      "RangeIndex: 284807 entries, 0 to 284806\n",
      "Data columns (total 31 columns):\n",
      " #   Column  Non-Null Count   Dtype  \n",
      "---  ------  --------------   -----  \n",
      " 0   Time    284807 non-null  float64\n",
      " 1   V1      284807 non-null  float64\n",
      " 2   V2      284807 non-null  float64\n",
      " 3   V3      284807 non-null  float64\n",
      " 4   V4      284807 non-null  float64\n",
      " 5   V5      284807 non-null  float64\n",
      " 6   V6      284807 non-null  float64\n",
      " 7   V7      284807 non-null  float64\n",
      " 8   V8      284807 non-null  float64\n",
      " 9   V9      284807 non-null  float64\n",
      " 10  V10     284807 non-null  float64\n",
      " 11  V11     284807 non-null  float64\n",
      " 12  V12     284807 non-null  float64\n",
      " 13  V13     284807 non-null  float64\n",
      " 14  V14     284807 non-null  float64\n",
      " 15  V15     284807 non-null  float64\n",
      " 16  V16     284807 non-null  float64\n",
      " 17  V17     284807 non-null  float64\n",
      " 18  V18     284807 non-null  float64\n",
      " 19  V19     284807 non-null  float64\n",
      " 20  V20     284807 non-null  float64\n",
      " 21  V21     284807 non-null  float64\n",
      " 22  V22     284807 non-null  float64\n",
      " 23  V23     284807 non-null  float64\n",
      " 24  V24     284807 non-null  float64\n",
      " 25  V25     284807 non-null  float64\n",
      " 26  V26     284807 non-null  float64\n",
      " 27  V27     284807 non-null  float64\n",
      " 28  V28     284807 non-null  float64\n",
      " 29  Amount  284807 non-null  float64\n",
      " 30  Class   284807 non-null  int64  \n",
      "dtypes: float64(30), int64(1)\n",
      "memory usage: 67.4 MB\n"
     ]
    }
   ],
   "source": [
    "data.info()"
   ]
  },
  {
   "cell_type": "code",
   "execution_count": 6,
   "id": "ae6e1290",
   "metadata": {
    "execution": {
     "iopub.execute_input": "2022-02-11T16:30:47.338684Z",
     "iopub.status.busy": "2022-02-11T16:30:47.335617Z",
     "iopub.status.idle": "2022-02-11T16:30:47.342716Z",
     "shell.execute_reply": "2022-02-11T16:30:47.342149Z",
     "shell.execute_reply.started": "2022-02-11T15:19:41.808274Z"
    },
    "papermill": {
     "duration": 0.033805,
     "end_time": "2022-02-11T16:30:47.342872",
     "exception": false,
     "start_time": "2022-02-11T16:30:47.309067",
     "status": "completed"
    },
    "tags": []
   },
   "outputs": [
    {
     "data": {
      "text/plain": [
       "(284807, 31)"
      ]
     },
     "execution_count": 6,
     "metadata": {},
     "output_type": "execute_result"
    }
   ],
   "source": [
    "data.shape"
   ]
  },
  {
   "cell_type": "code",
   "execution_count": 7,
   "id": "4c9422c5",
   "metadata": {
    "execution": {
     "iopub.execute_input": "2022-02-11T16:30:47.398789Z",
     "iopub.status.busy": "2022-02-11T16:30:47.397261Z",
     "iopub.status.idle": "2022-02-11T16:30:47.428725Z",
     "shell.execute_reply": "2022-02-11T16:30:47.427995Z",
     "shell.execute_reply.started": "2022-02-11T15:19:49.025026Z"
    },
    "papermill": {
     "duration": 0.060719,
     "end_time": "2022-02-11T16:30:47.428881",
     "exception": false,
     "start_time": "2022-02-11T16:30:47.368162",
     "status": "completed"
    },
    "tags": []
   },
   "outputs": [
    {
     "data": {
      "text/plain": [
       "Time      0\n",
       "V1        0\n",
       "V2        0\n",
       "V3        0\n",
       "V4        0\n",
       "V5        0\n",
       "V6        0\n",
       "V7        0\n",
       "V8        0\n",
       "V9        0\n",
       "V10       0\n",
       "V11       0\n",
       "V12       0\n",
       "V13       0\n",
       "V14       0\n",
       "V15       0\n",
       "V16       0\n",
       "V17       0\n",
       "V18       0\n",
       "V19       0\n",
       "V20       0\n",
       "V21       0\n",
       "V22       0\n",
       "V23       0\n",
       "V24       0\n",
       "V25       0\n",
       "V26       0\n",
       "V27       0\n",
       "V28       0\n",
       "Amount    0\n",
       "Class     0\n",
       "dtype: int64"
      ]
     },
     "execution_count": 7,
     "metadata": {},
     "output_type": "execute_result"
    }
   ],
   "source": [
    "data.isnull().sum()"
   ]
  },
  {
   "cell_type": "code",
   "execution_count": 8,
   "id": "e6ba5777",
   "metadata": {
    "execution": {
     "iopub.execute_input": "2022-02-11T16:30:47.480932Z",
     "iopub.status.busy": "2022-02-11T16:30:47.480178Z",
     "iopub.status.idle": "2022-02-11T16:30:47.654072Z",
     "shell.execute_reply": "2022-02-11T16:30:47.655125Z",
     "shell.execute_reply.started": "2022-02-11T15:19:23.265582Z"
    },
    "papermill": {
     "duration": 0.202495,
     "end_time": "2022-02-11T16:30:47.655438",
     "exception": false,
     "start_time": "2022-02-11T16:30:47.452943",
     "status": "completed"
    },
    "tags": []
   },
   "outputs": [
    {
     "data": {
      "image/png": "[encoded data removed]",
      "text/plain": [
       "<Figure size 432x288 with 1 Axes>"
      ]
     },
     "metadata": {
      "needs_background": "light"
     },
     "output_type": "display_data"
    }
   ],
   "source": [
    "sns.countplot(x = 'Class',data=data)\n",
    "plt.show()"
   ]
  },
  {
   "cell_type": "code",
   "execution_count": 9,
   "id": "224e3235",
   "metadata": {
    "execution": {
     "iopub.execute_input": "2022-02-11T16:30:47.764636Z",
     "iopub.status.busy": "2022-02-11T16:30:47.712516Z",
     "iopub.status.idle": "2022-02-11T16:30:48.216758Z",
     "shell.execute_reply": "2022-02-11T16:30:48.216175Z",
     "shell.execute_reply.started": "2022-02-11T15:20:38.005087Z"
    },
    "papermill": {
     "duration": 0.533419,
     "end_time": "2022-02-11T16:30:48.216940",
     "exception": false,
     "start_time": "2022-02-11T16:30:47.683521",
     "status": "completed"
    },
    "tags": []
   },
   "outputs": [
    {
     "data": {
      "text/html": [
       "<div>\n",
       "<style scoped>\n",
       "    .dataframe tbody tr th:only-of-type {\n",
       "        vertical-align: middle;\n",
       "    }\n",
       "\n",
       "    .dataframe tbody tr th {\n",
       "        vertical-align: top;\n",
       "    }\n",
       "\n",
       "    .dataframe thead th {\n",
       "        text-align: right;\n",
       "    }\n",
       "</style>\n",
       "<table border=\"1\" class=\"dataframe\">\n",
       "  <thead>\n",
       "    <tr style=\"text-align: right;\">\n",
       "      <th></th>\n",
       "      <th>Time</th>\n",
       "      <th>V1</th>\n",
       "      <th>V2</th>\n",
       "      <th>V3</th>\n",
       "      <th>V4</th>\n",
       "      <th>V5</th>\n",
       "      <th>V6</th>\n",
       "      <th>V7</th>\n",
       "      <th>V8</th>\n",
       "      <th>V9</th>\n",
       "      <th>...</th>\n",
       "      <th>V21</th>\n",
       "      <th>V22</th>\n",
       "      <th>V23</th>\n",
       "      <th>V24</th>\n",
       "      <th>V25</th>\n",
       "      <th>V26</th>\n",
       "      <th>V27</th>\n",
       "      <th>V28</th>\n",
       "      <th>Amount</th>\n",
       "      <th>Class</th>\n",
       "    </tr>\n",
       "  </thead>\n",
       "  <tbody>\n",
       "    <tr>\n",
       "      <th>count</th>\n",
       "      <td>284807.000000</td>\n",
       "      <td>2.848070e+05</td>\n",
       "      <td>2.848070e+05</td>\n",
       "      <td>2.848070e+05</td>\n",
       "      <td>2.848070e+05</td>\n",
       "      <td>2.848070e+05</td>\n",
       "      <td>2.848070e+05</td>\n",
       "      <td>2.848070e+05</td>\n",
       "      <td>2.848070e+05</td>\n",
       "      <td>2.848070e+05</td>\n",
       "      <td>...</td>\n",
       "      <td>2.848070e+05</td>\n",
       "      <td>2.848070e+05</td>\n",
       "      <td>2.848070e+05</td>\n",
       "      <td>2.848070e+05</td>\n",
       "      <td>2.848070e+05</td>\n",
       "      <td>2.848070e+05</td>\n",
       "      <td>2.848070e+05</td>\n",
       "      <td>2.848070e+05</td>\n",
       "      <td>284807.000000</td>\n",
       "      <td>284807.000000</td>\n",
       "    </tr>\n",
       "    <tr>\n",
       "      <th>mean</th>\n",
       "      <td>94813.859575</td>\n",
       "      <td>3.918649e-15</td>\n",
       "      <td>5.682686e-16</td>\n",
       "      <td>-8.761736e-15</td>\n",
       "      <td>2.811118e-15</td>\n",
       "      <td>-1.552103e-15</td>\n",
       "      <td>2.040130e-15</td>\n",
       "      <td>-1.698953e-15</td>\n",
       "      <td>-1.893285e-16</td>\n",
       "      <td>-3.147640e-15</td>\n",
       "      <td>...</td>\n",
       "      <td>1.473120e-16</td>\n",
       "      <td>8.042109e-16</td>\n",
       "      <td>5.282512e-16</td>\n",
       "      <td>4.456271e-15</td>\n",
       "      <td>1.426896e-15</td>\n",
       "      <td>1.701640e-15</td>\n",
       "      <td>-3.662252e-16</td>\n",
       "      <td>-1.217809e-16</td>\n",
       "      <td>88.349619</td>\n",
       "      <td>0.001727</td>\n",
       "    </tr>\n",
       "    <tr>\n",
       "      <th>std</th>\n",
       "      <td>47488.145955</td>\n",
       "      <td>1.958696e+00</td>\n",
       "      <td>1.651309e+00</td>\n",
       "      <td>1.516255e+00</td>\n",
       "      <td>1.415869e+00</td>\n",
       "      <td>1.380247e+00</td>\n",
       "      <td>1.332271e+00</td>\n",
       "      <td>1.237094e+00</td>\n",
       "      <td>1.194353e+00</td>\n",
       "      <td>1.098632e+00</td>\n",
       "      <td>...</td>\n",
       "      <td>7.345240e-01</td>\n",
       "      <td>7.257016e-01</td>\n",
       "      <td>6.244603e-01</td>\n",
       "      <td>6.056471e-01</td>\n",
       "      <td>5.212781e-01</td>\n",
       "      <td>4.822270e-01</td>\n",
       "      <td>4.036325e-01</td>\n",
       "      <td>3.300833e-01</td>\n",
       "      <td>250.120109</td>\n",
       "      <td>0.041527</td>\n",
       "    </tr>\n",
       "    <tr>\n",
       "      <th>min</th>\n",
       "      <td>0.000000</td>\n",
       "      <td>-5.640751e+01</td>\n",
       "      <td>-7.271573e+01</td>\n",
       "      <td>-4.832559e+01</td>\n",
       "      <td>-5.683171e+00</td>\n",
       "      <td>-1.137433e+02</td>\n",
       "      <td>-2.616051e+01</td>\n",
       "      <td>-4.355724e+01</td>\n",
       "      <td>-7.321672e+01</td>\n",
       "      <td>-1.343407e+01</td>\n",
       "      <td>...</td>\n",
       "      <td>-3.483038e+01</td>\n",
       "      <td>-1.093314e+01</td>\n",
       "      <td>-4.480774e+01</td>\n",
       "      <td>-2.836627e+00</td>\n",
       "      <td>-1.029540e+01</td>\n",
       "      <td>-2.604551e+00</td>\n",
       "      <td>-2.256568e+01</td>\n",
       "      <td>-1.543008e+01</td>\n",
       "      <td>0.000000</td>\n",
       "      <td>0.000000</td>\n",
       "    </tr>\n",
       "    <tr>\n",
       "      <th>25%</th>\n",
       "      <td>54201.500000</td>\n",
       "      <td>-9.203734e-01</td>\n",
       "      <td>-5.985499e-01</td>\n",
       "      <td>-8.903648e-01</td>\n",
       "      <td>-8.486401e-01</td>\n",
       "      <td>-6.915971e-01</td>\n",
       "      <td>-7.682956e-01</td>\n",
       "      <td>-5.540759e-01</td>\n",
       "      <td>-2.086297e-01</td>\n",
       "      <td>-6.430976e-01</td>\n",
       "      <td>...</td>\n",
       "      <td>-2.283949e-01</td>\n",
       "      <td>-5.423504e-01</td>\n",
       "      <td>-1.618463e-01</td>\n",
       "      <td>-3.545861e-01</td>\n",
       "      <td>-3.171451e-01</td>\n",
       "      <td>-3.269839e-01</td>\n",
       "      <td>-7.083953e-02</td>\n",
       "      <td>-5.295979e-02</td>\n",
       "      <td>5.600000</td>\n",
       "      <td>0.000000</td>\n",
       "    </tr>\n",
       "    <tr>\n",
       "      <th>50%</th>\n",
       "      <td>84692.000000</td>\n",
       "      <td>1.810880e-02</td>\n",
       "      <td>6.548556e-02</td>\n",
       "      <td>1.798463e-01</td>\n",
       "      <td>-1.984653e-02</td>\n",
       "      <td>-5.433583e-02</td>\n",
       "      <td>-2.741871e-01</td>\n",
       "      <td>4.010308e-02</td>\n",
       "      <td>2.235804e-02</td>\n",
       "      <td>-5.142873e-02</td>\n",
       "      <td>...</td>\n",
       "      <td>-2.945017e-02</td>\n",
       "      <td>6.781943e-03</td>\n",
       "      <td>-1.119293e-02</td>\n",
       "      <td>4.097606e-02</td>\n",
       "      <td>1.659350e-02</td>\n",
       "      <td>-5.213911e-02</td>\n",
       "      <td>1.342146e-03</td>\n",
       "      <td>1.124383e-02</td>\n",
       "      <td>22.000000</td>\n",
       "      <td>0.000000</td>\n",
       "    </tr>\n",
       "    <tr>\n",
       "      <th>75%</th>\n",
       "      <td>139320.500000</td>\n",
       "      <td>1.315642e+00</td>\n",
       "      <td>8.037239e-01</td>\n",
       "      <td>1.027196e+00</td>\n",
       "      <td>7.433413e-01</td>\n",
       "      <td>6.119264e-01</td>\n",
       "      <td>3.985649e-01</td>\n",
       "      <td>5.704361e-01</td>\n",
       "      <td>3.273459e-01</td>\n",
       "      <td>5.971390e-01</td>\n",
       "      <td>...</td>\n",
       "      <td>1.863772e-01</td>\n",
       "      <td>5.285536e-01</td>\n",
       "      <td>1.476421e-01</td>\n",
       "      <td>4.395266e-01</td>\n",
       "      <td>3.507156e-01</td>\n",
       "      <td>2.409522e-01</td>\n",
       "      <td>9.104512e-02</td>\n",
       "      <td>7.827995e-02</td>\n",
       "      <td>77.165000</td>\n",
       "      <td>0.000000</td>\n",
       "    </tr>\n",
       "    <tr>\n",
       "      <th>max</th>\n",
       "      <td>172792.000000</td>\n",
       "      <td>2.454930e+00</td>\n",
       "      <td>2.205773e+01</td>\n",
       "      <td>9.382558e+00</td>\n",
       "      <td>1.687534e+01</td>\n",
       "      <td>3.480167e+01</td>\n",
       "      <td>7.330163e+01</td>\n",
       "      <td>1.205895e+02</td>\n",
       "      <td>2.000721e+01</td>\n",
       "      <td>1.559499e+01</td>\n",
       "      <td>...</td>\n",
       "      <td>2.720284e+01</td>\n",
       "      <td>1.050309e+01</td>\n",
       "      <td>2.252841e+01</td>\n",
       "      <td>4.584549e+00</td>\n",
       "      <td>7.519589e+00</td>\n",
       "      <td>3.517346e+00</td>\n",
       "      <td>3.161220e+01</td>\n",
       "      <td>3.384781e+01</td>\n",
       "      <td>25691.160000</td>\n",
       "      <td>1.000000</td>\n",
       "    </tr>\n",
       "  </tbody>\n",
       "</table>\n",
       "<p>8 rows × 31 columns</p>\n",
       "</div>"
      ],
      "text/plain": [
       "                Time            V1            V2            V3            V4  \\\n",
       "count  284807.000000  2.848070e+05  2.848070e+05  2.848070e+05  2.848070e+05   \n",
       "mean    94813.859575  3.918649e-15  5.682686e-16 -8.761736e-15  2.811118e-15   \n",
       "std     47488.145955  1.958696e+00  1.651309e+00  1.516255e+00  1.415869e+00   \n",
       "min         0.000000 -5.640751e+01 -7.271573e+01 -4.832559e+01 -5.683171e+00   \n",
       "25%     54201.500000 -9.203734e-01 -5.985499e-01 -8.903648e-01 -8.486401e-01   \n",
       "50%     84692.000000  1.810880e-02  6.548556e-02  1.798463e-01 -1.984653e-02   \n",
       "75%    139320.500000  1.315642e+00  8.037239e-01  1.027196e+00  7.433413e-01   \n",
       "max    172792.000000  2.454930e+00  2.205773e+01  9.382558e+00  1.687534e+01   \n",
       "\n",
       "                 V5            V6            V7            V8            V9  \\\n",
       "count  2.848070e+05  2.848070e+05  2.848070e+05  2.848070e+05  2.848070e+05   \n",
       "mean  -1.552103e-15  2.040130e-15 -1.698953e-15 -1.893285e-16 -3.147640e-15   \n",
       "std    1.380247e+00  1.332271e+00  1.237094e+00  1.194353e+00  1.098632e+00   \n",
       "min   -1.137433e+02 -2.616051e+01 -4.355724e+01 -7.321672e+01 -1.343407e+01   \n",
       "25%   -6.915971e-01 -7.682956e-01 -5.540759e-01 -2.086297e-01 -6.430976e-01   \n",
       "50%   -5.433583e-02 -2.741871e-01  4.010308e-02  2.235804e-02 -5.142873e-02   \n",
       "75%    6.119264e-01  3.985649e-01  5.704361e-01  3.273459e-01  5.971390e-01   \n",
       "max    3.480167e+01  7.330163e+01  1.205895e+02  2.000721e+01  1.559499e+01   \n",
       "\n",
       "       ...           V21           V22           V23           V24  \\\n",
       "count  ...  2.848070e+05  2.848070e+05  2.848070e+05  2.848070e+05   \n",
       "mean   ...  1.473120e-16  8.042109e-16  5.282512e-16  4.456271e-15   \n",
       "std    ...  7.345240e-01  7.257016e-01  6.244603e-01  6.056471e-01   \n",
       "min    ... -3.483038e+01 -1.093314e+01 -4.480774e+01 -2.836627e+00   \n",
       "25%    ... -2.283949e-01 -5.423504e-01 -1.618463e-01 -3.545861e-01   \n",
       "50%    ... -2.945017e-02  6.781943e-03 -1.119293e-02  4.097606e-02   \n",
       "75%    ...  1.863772e-01  5.285536e-01  1.476421e-01  4.395266e-01   \n",
       "max    ...  2.720284e+01  1.050309e+01  2.252841e+01  4.584549e+00   \n",
       "\n",
       "                V25           V26           V27           V28         Amount  \\\n",
       "count  2.848070e+05  2.848070e+05  2.848070e+05  2.848070e+05  284807.000000   \n",
       "mean   1.426896e-15  1.701640e-15 -3.662252e-16 -1.217809e-16      88.349619   \n",
       "std    5.212781e-01  4.822270e-01  4.036325e-01  3.300833e-01     250.120109   \n",
       "min   -1.029540e+01 -2.604551e+00 -2.256568e+01 -1.543008e+01       0.000000   \n",
       "25%   -3.171451e-01 -3.269839e-01 -7.083953e-02 -5.295979e-02       5.600000   \n",
       "50%    1.659350e-02 -5.213911e-02  1.342146e-03  1.124383e-02      22.000000   \n",
       "75%    3.507156e-01  2.409522e-01  9.104512e-02  7.827995e-02      77.165000   \n",
       "max    7.519589e+00  3.517346e+00  3.161220e+01  3.384781e+01   25691.160000   \n",
       "\n",
       "               Class  \n",
       "count  284807.000000  \n",
       "mean        0.001727  \n",
       "std         0.041527  \n",
       "min         0.000000  \n",
       "25%         0.000000  \n",
       "50%         0.000000  \n",
       "75%         0.000000  \n",
       "max         1.000000  \n",
       "\n",
       "[8 rows x 31 columns]"
      ]
     },
     "execution_count": 9,
     "metadata": {},
     "output_type": "execute_result"
    }
   ],
   "source": [
    "data.describe()"
   ]
  },
  {
   "cell_type": "code",
   "execution_count": 10,
   "id": "74deee83",
   "metadata": {
    "execution": {
     "iopub.execute_input": "2022-02-11T16:30:48.311312Z",
     "iopub.status.busy": "2022-02-11T16:30:48.310294Z",
     "iopub.status.idle": "2022-02-11T16:30:48.312737Z",
     "shell.execute_reply": "2022-02-11T16:30:48.312223Z",
     "shell.execute_reply.started": "2022-02-11T15:20:55.900917Z"
    },
    "papermill": {
     "duration": 0.070468,
     "end_time": "2022-02-11T16:30:48.312890",
     "exception": false,
     "start_time": "2022-02-11T16:30:48.242422",
     "status": "completed"
    },
    "tags": []
   },
   "outputs": [],
   "source": [
    "data = data.drop('Time',axis=1)"
   ]
  },
  {
   "cell_type": "markdown",
   "id": "de8ab8ed",
   "metadata": {
    "papermill": {
     "duration": 0.024845,
     "end_time": "2022-02-11T16:30:48.363589",
     "exception": false,
     "start_time": "2022-02-11T16:30:48.338744",
     "status": "completed"
    },
    "tags": []
   },
   "source": [
    "> Here i am trying to find outliers by help of box plot, but my system take too much time, you guys can uncomment and try it. thank you!"
   ]
  },
  {
   "cell_type": "code",
   "execution_count": 11,
   "id": "334a216f",
   "metadata": {
    "execution": {
     "iopub.execute_input": "2022-02-11T16:30:48.420608Z",
     "iopub.status.busy": "2022-02-11T16:30:48.419840Z",
     "iopub.status.idle": "2022-02-11T16:30:48.422328Z",
     "shell.execute_reply": "2022-02-11T16:30:48.422862Z"
    },
    "papermill": {
     "duration": 0.034743,
     "end_time": "2022-02-11T16:30:48.423066",
     "exception": false,
     "start_time": "2022-02-11T16:30:48.388323",
     "status": "completed"
    },
    "tags": []
   },
   "outputs": [],
   "source": [
    "# fig, axes = plt.subplots(3, 2, figsize=(18, 10))\n",
    "\n",
    "# fig.suptitle('Price Range vs all numerical factor')\n",
    "\n",
    "# sns.boxplot(ax=axes[0, 0], data=data, x='V1', y='Class',palette = \"RdBu\")\n",
    "# sns.boxplot(ax=axes[0, 1], data=data, x='V2', y='Class',palette = \"RdBu\")\n",
    "# sns.boxplot(ax=axes[1, 0], data=data, x='V3', y='Class',palette = \"RdBu\")\n",
    "# sns.boxplot(ax=axes[1, 1], data=data, x='V4', y='Class',palette = \"RdBu\")\n",
    "# sns.boxplot(ax=axes[2,0],data=data,x='V5',y='Class',palette = \"RdBu\")\n",
    "# sns.boxplot(ax=axes[2,1],data=data,x='V6',y='Class',palette = \"RdBu\")\n",
    "# plt.show()"
   ]
  },
  {
   "cell_type": "code",
   "execution_count": 12,
   "id": "6927ccf8",
   "metadata": {
    "execution": {
     "iopub.execute_input": "2022-02-11T16:30:48.479214Z",
     "iopub.status.busy": "2022-02-11T16:30:48.478527Z",
     "iopub.status.idle": "2022-02-11T16:30:48.480346Z",
     "shell.execute_reply": "2022-02-11T16:30:48.480859Z",
     "shell.execute_reply.started": "2022-02-11T15:42:32.570356Z"
    },
    "papermill": {
     "duration": 0.032634,
     "end_time": "2022-02-11T16:30:48.481048",
     "exception": false,
     "start_time": "2022-02-11T16:30:48.448414",
     "status": "completed"
    },
    "tags": []
   },
   "outputs": [],
   "source": [
    "# fig, axes = plt.subplots(3, 2, figsize=(18, 10))\n",
    "\n",
    "# fig.suptitle('Price Range vs all numerical factor')\n",
    "\n",
    "# sns.boxplot(ax=axes[0, 0], data=data, x='V5', y='Class',palette = \"RdBu\")\n",
    "# sns.boxplot(ax=axes[0, 1], data=data, x='V6', y='Class',palette = \"RdBu\")\n",
    "# sns.boxplot(ax=axes[1, 0], data=data, x='V7', y='Class',palette = \"RdBu\")\n",
    "# sns.boxplot(ax=axes[1, 1], data=data, x='V8', y='Class',palette = \"RdBu\")\n",
    "# sns.boxplot(ax=axes[2,0],data=data,x='V9',y='Class',palette = \"RdBu\")\n",
    "# sns.boxplot(ax=axes[2,1],data=data,x='V10',y='Class',palette = \"RdBu\")\n",
    "# plt.show()"
   ]
  },
  {
   "cell_type": "code",
   "execution_count": 13,
   "id": "3b14bd59",
   "metadata": {
    "execution": {
     "iopub.execute_input": "2022-02-11T16:30:48.536363Z",
     "iopub.status.busy": "2022-02-11T16:30:48.535659Z",
     "iopub.status.idle": "2022-02-11T16:30:48.538544Z",
     "shell.execute_reply": "2022-02-11T16:30:48.538968Z",
     "shell.execute_reply.started": "2022-02-11T15:42:32.572845Z"
    },
    "papermill": {
     "duration": 0.032565,
     "end_time": "2022-02-11T16:30:48.539185",
     "exception": false,
     "start_time": "2022-02-11T16:30:48.506620",
     "status": "completed"
    },
    "tags": []
   },
   "outputs": [],
   "source": [
    "# fig, axes = plt.subplots(3, 2, figsize=(18, 10))\n",
    "\n",
    "# fig.suptitle('Price Range vs all numerical factor')\n",
    "\n",
    "# sns.boxplot(ax=axes[0, 0], data=data, x='V11', y='Class',palette = \"RdBu\")\n",
    "# sns.boxplot(ax=axes[0, 1], data=data, x='V12', y='Class',palette = \"RdBu\")\n",
    "# sns.boxplot(ax=axes[1, 0], data=data, x='V13', y='Class',palette = \"RdBu\")\n",
    "# sns.boxplot(ax=axes[1, 1], data=data, x='V14', y='Class',palette = \"RdBu\")\n",
    "# sns.boxplot(ax=axes[2,0],data=data,x='V15',y='Class',palette = \"RdBu\")\n",
    "# sns.boxplot(ax=axes[2,1],data=data,x='V16',y='Class',palette = \"RdBu\")\n",
    "# plt.show()"
   ]
  },
  {
   "cell_type": "code",
   "execution_count": 14,
   "id": "5252b85b",
   "metadata": {
    "execution": {
     "iopub.execute_input": "2022-02-11T16:30:48.596074Z",
     "iopub.status.busy": "2022-02-11T16:30:48.595374Z",
     "iopub.status.idle": "2022-02-11T16:30:48.597999Z",
     "shell.execute_reply": "2022-02-11T16:30:48.597516Z",
     "shell.execute_reply.started": "2022-02-11T15:42:32.575171Z"
    },
    "papermill": {
     "duration": 0.033531,
     "end_time": "2022-02-11T16:30:48.598162",
     "exception": false,
     "start_time": "2022-02-11T16:30:48.564631",
     "status": "completed"
    },
    "tags": []
   },
   "outputs": [],
   "source": [
    "# fig, axes = plt.subplots(3, 2, figsize=(18, 10))\n",
    "\n",
    "# fig.suptitle('Price Range vs all numerical factor')\n",
    "\n",
    "# sns.boxplot(ax=axes[0, 0], data=data, x='V17', y='Class',palette = \"RdBu\")\n",
    "# sns.boxplot(ax=axes[0, 1], data=data, x='V18', y='Class',palette = \"RdBu\")\n",
    "# sns.boxplot(ax=axes[1, 0], data=data, x='V19', y='Class',palette = \"RdBu\")\n",
    "# sns.boxplot(ax=axes[1, 1], data=data, x='V20', y='Class',palette = \"RdBu\")\n",
    "# sns.boxplot(ax=axes[2,0],data=data,x='V21',y='Class',palette = \"RdBu\")\n",
    "# sns.boxplot(ax=axes[2,1],data=data,x='V22',y='Class',palette = \"RdBu\")\n",
    "# plt.show()"
   ]
  },
  {
   "cell_type": "code",
   "execution_count": 15,
   "id": "bf923351",
   "metadata": {
    "execution": {
     "iopub.execute_input": "2022-02-11T16:30:48.655960Z",
     "iopub.status.busy": "2022-02-11T16:30:48.655221Z",
     "iopub.status.idle": "2022-02-11T16:30:48.656627Z",
     "shell.execute_reply": "2022-02-11T16:30:48.657082Z",
     "shell.execute_reply.started": "2022-02-11T15:42:32.577101Z"
    },
    "papermill": {
     "duration": 0.033116,
     "end_time": "2022-02-11T16:30:48.657267",
     "exception": false,
     "start_time": "2022-02-11T16:30:48.624151",
     "status": "completed"
    },
    "tags": []
   },
   "outputs": [],
   "source": [
    "# fig, axes = plt.subplots(3, 2, figsize=(18, 10))\n",
    "\n",
    "# fig.suptitle('Price Range vs all numerical factor')\n",
    "\n",
    "# sns.boxplot(ax=axes[0, 0], data=data, x='V23', y='Class',palette = \"RdBu\")\n",
    "# sns.boxplot(ax=axes[0, 1], data=data, x='V24', y='Class',palette = \"RdBu\")\n",
    "# sns.boxplot(ax=axes[1, 0], data=data, x='V25', y='Class',palette = \"RdBu\")\n",
    "# sns.boxplot(ax=axes[1, 1], data=data, x='V26', y='Class',palette = \"RdBu\")\n",
    "# sns.boxplot(ax=axes[2,0],data=data,x='V27',y='Class',palette = \"RdBu\")\n",
    "# sns.boxplot(ax=axes[2,1],data=data,x='V28',y='Class',palette = \"RdBu\")\n",
    "# plt.show()"
   ]
  },
  {
   "cell_type": "markdown",
   "id": "91cfe5d8",
   "metadata": {
    "papermill": {
     "duration": 0.0252,
     "end_time": "2022-02-11T16:30:48.708725",
     "exception": false,
     "start_time": "2022-02-11T16:30:48.683525",
     "status": "completed"
    },
    "tags": []
   },
   "source": [
    "# Feature selection"
   ]
  },
  {
   "cell_type": "markdown",
   "id": "3283fa22",
   "metadata": {
    "papermill": {
     "duration": 0.027309,
     "end_time": "2022-02-11T16:30:48.761747",
     "exception": false,
     "start_time": "2022-02-11T16:30:48.734438",
     "status": "completed"
    },
    "tags": []
   },
   "source": [
    "# Wrapper Feature Selection Methods"
   ]
  },
  {
   "cell_type": "markdown",
   "id": "0b008408",
   "metadata": {
    "papermill": {
     "duration": 0.026547,
     "end_time": "2022-02-11T16:30:48.813715",
     "exception": false,
     "start_time": "2022-02-11T16:30:48.787168",
     "status": "completed"
    },
    "tags": []
   },
   "source": [
    "# Step backward feature selection"
   ]
  },
  {
   "cell_type": "markdown",
   "id": "83cefc20",
   "metadata": {
    "papermill": {
     "duration": 0.025918,
     "end_time": "2022-02-11T16:30:48.865932",
     "exception": false,
     "start_time": "2022-02-11T16:30:48.840014",
     "status": "completed"
    },
    "tags": []
   },
   "source": [
    "> Step Backward Feature Selection starts by fitting a model using all features in the data set and determining its performance.\n",
    "> \n",
    "> Then, it trains models on all possible combinations of all<b> features -1, and removes the feature that returns the model with the lowest performance</b>.\n",
    "> \n",
    "> In the third step it trains models in all possible combinations of the features remaining from step 2 -1 feature, and removes the feature that produced the lowest performing model."
   ]
  },
  {
   "cell_type": "markdown",
   "id": "7e8549f8",
   "metadata": {
    "papermill": {
     "duration": 0.029238,
     "end_time": "2022-02-11T16:30:48.920872",
     "exception": false,
     "start_time": "2022-02-11T16:30:48.891634",
     "status": "completed"
    },
    "tags": []
   },
   "source": [
    "> The algorithm stops on a criteria determined by the user. This criteria could be that the model performance does not decrease beyond a certain threshold, or alternatively, as in the <b>mlxtend implementation</b>, when we reach a certain number of selected features.\n",
    "> \n",
    "> The evaluation metric can be the <b>roc_auc for classification</b>"
   ]
  },
  {
   "cell_type": "markdown",
   "id": "b19eeff7",
   "metadata": {
    "papermill": {
     "duration": 0.026378,
     "end_time": "2022-02-11T16:30:48.972798",
     "exception": false,
     "start_time": "2022-02-11T16:30:48.946420",
     "status": "completed"
    },
    "tags": []
   },
   "source": [
    "> Step Backward Feature Selection is called <b>greedy, because it evaluates all possible n, and then n-1 and n-2 and so on feature combinations</b>. Therefore, it is very computationally expensive, and sometimes, if feature space is big, even unfeasible."
   ]
  },
  {
   "cell_type": "markdown",
   "id": "fe10705c",
   "metadata": {
    "papermill": {
     "duration": 0.025367,
     "end_time": "2022-02-11T16:30:49.024430",
     "exception": false,
     "start_time": "2022-02-11T16:30:48.999063",
     "status": "completed"
    },
    "tags": []
   },
   "source": [
    "> In the <b>mlxtend implementation</b> of the Step Backward Feature Selection, the stopping criteria is an arbitrarily set number of features. So the search will finish when we reach the desired number of selected features.\n",
    "> \n",
    "> This is somewhat arbitrary, we might be selecting a sub-opimal number of features, or likewise, a high number of features. But, by looking at the performance metric returned by the algorithm as it selects the features, we can have a view, if more features do add value, or not.\n",
    "> \n",
    "> Here I will use the Step Backward Feature Selection algorithm from <b>mlxtend in a classification</b>"
   ]
  },
  {
   "cell_type": "code",
   "execution_count": 16,
   "id": "fa2ee653",
   "metadata": {
    "execution": {
     "iopub.execute_input": "2022-02-11T16:30:49.081716Z",
     "iopub.status.busy": "2022-02-11T16:30:49.081020Z",
     "iopub.status.idle": "2022-02-11T16:30:49.557946Z",
     "shell.execute_reply": "2022-02-11T16:30:49.557283Z",
     "shell.execute_reply.started": "2022-02-11T15:48:09.715818Z"
    },
    "papermill": {
     "duration": 0.505925,
     "end_time": "2022-02-11T16:30:49.558119",
     "exception": false,
     "start_time": "2022-02-11T16:30:49.052194",
     "status": "completed"
    },
    "tags": []
   },
   "outputs": [],
   "source": [
    "## Import the libraries\n",
    "from sklearn.model_selection import train_test_split\n",
    "\n",
    "from sklearn.ensemble import RandomForestClassifier\n",
    "from sklearn.metrics import roc_auc_score\n",
    "from mlxtend.feature_selection import SequentialFeatureSelector as SFS"
   ]
  },
  {
   "cell_type": "code",
   "execution_count": 17,
   "id": "2fe4f13e",
   "metadata": {
    "execution": {
     "iopub.execute_input": "2022-02-11T16:30:49.670722Z",
     "iopub.status.busy": "2022-02-11T16:30:49.669915Z",
     "iopub.status.idle": "2022-02-11T16:30:49.839464Z",
     "shell.execute_reply": "2022-02-11T16:30:49.840689Z",
     "shell.execute_reply.started": "2022-02-11T15:48:12.131424Z"
    },
    "papermill": {
     "duration": 0.254033,
     "end_time": "2022-02-11T16:30:49.841026",
     "exception": false,
     "start_time": "2022-02-11T16:30:49.586993",
     "status": "completed"
    },
    "tags": []
   },
   "outputs": [
    {
     "data": {
      "text/plain": [
       "((199364, 29), (85443, 29), (199364,), (85443,))"
      ]
     },
     "execution_count": 17,
     "metadata": {},
     "output_type": "execute_result"
    }
   ],
   "source": [
    "# separate train and test sets\n",
    "X_train, X_test, y_train, y_test = train_test_split(\n",
    "    data.drop(labels=['Class'], axis=1),\n",
    "    data['Class'],\n",
    "    test_size=0.3,\n",
    "    random_state=0)\n",
    "\n",
    "X_train.shape, X_test.shape,y_train.shape,y_test.shape"
   ]
  },
  {
   "cell_type": "markdown",
   "id": "7ba0f448",
   "metadata": {
    "papermill": {
     "duration": 0.02761,
     "end_time": "2022-02-11T16:30:49.907707",
     "exception": false,
     "start_time": "2022-02-11T16:30:49.880097",
     "status": "completed"
    },
    "tags": []
   },
   "source": [
    "# Step Backward Feature Selection\n",
    "For the Step Backward feature selection algorithm, we are going to use the class SFS from MLXtend:"
   ]
  },
  {
   "cell_type": "code",
   "execution_count": 18,
   "id": "e828ee8b",
   "metadata": {
    "execution": {
     "iopub.execute_input": "2022-02-11T16:30:49.972696Z",
     "iopub.status.busy": "2022-02-11T16:30:49.971968Z",
     "iopub.status.idle": "2022-02-11T16:58:17.704286Z",
     "shell.execute_reply": "2022-02-11T16:58:17.704864Z",
     "shell.execute_reply.started": "2022-02-11T15:52:44.130933Z"
    },
    "papermill": {
     "duration": 1647.766763,
     "end_time": "2022-02-11T16:58:17.705226",
     "exception": false,
     "start_time": "2022-02-11T16:30:49.938463",
     "status": "completed"
    },
    "tags": []
   },
   "outputs": [
    {
     "name": "stderr",
     "output_type": "stream",
     "text": [
      "[Parallel(n_jobs=1)]: Using backend SequentialBackend with 1 concurrent workers.\n",
      "[Parallel(n_jobs=1)]: Done   1 out of   1 | elapsed:    7.7s remaining:    0.0s\n",
      "[Parallel(n_jobs=1)]: Done  29 out of  29 | elapsed:  3.9min finished\n",
      "\n",
      "[2022-02-11 16:34:56] Features: 28/20 -- score: 0.9343785621371266[Parallel(n_jobs=1)]: Using backend SequentialBackend with 1 concurrent workers.\n",
      "[Parallel(n_jobs=1)]: Done   1 out of   1 | elapsed:    8.4s remaining:    0.0s\n",
      "[Parallel(n_jobs=1)]: Done  28 out of  28 | elapsed:  3.8min finished\n",
      "\n",
      "[2022-02-11 16:38:44] Features: 27/20 -- score: 0.931519386414909[Parallel(n_jobs=1)]: Using backend SequentialBackend with 1 concurrent workers.\n",
      "[Parallel(n_jobs=1)]: Done   1 out of   1 | elapsed:    7.6s remaining:    0.0s\n",
      "[Parallel(n_jobs=1)]: Done  27 out of  27 | elapsed:  3.6min finished\n",
      "\n",
      "[2022-02-11 16:42:17] Features: 26/20 -- score: 0.9286325206628474[Parallel(n_jobs=1)]: Using backend SequentialBackend with 1 concurrent workers.\n",
      "[Parallel(n_jobs=1)]: Done   1 out of   1 | elapsed:    7.6s remaining:    0.0s\n",
      "[Parallel(n_jobs=1)]: Done  26 out of  26 | elapsed:  3.4min finished\n",
      "\n",
      "[2022-02-11 16:45:43] Features: 25/20 -- score: 0.9314746272633105[Parallel(n_jobs=1)]: Using backend SequentialBackend with 1 concurrent workers.\n",
      "[Parallel(n_jobs=1)]: Done   1 out of   1 | elapsed:    6.6s remaining:    0.0s\n",
      "[Parallel(n_jobs=1)]: Done  25 out of  25 | elapsed:  2.8min finished\n",
      "\n",
      "[2022-02-11 16:48:29] Features: 24/20 -- score: 0.9300682099943716[Parallel(n_jobs=1)]: Using backend SequentialBackend with 1 concurrent workers.\n",
      "[Parallel(n_jobs=1)]: Done   1 out of   1 | elapsed:    6.3s remaining:    0.0s\n",
      "[Parallel(n_jobs=1)]: Done  24 out of  24 | elapsed:  2.6min finished\n",
      "\n",
      "[2022-02-11 16:51:02] Features: 23/20 -- score: 0.9300385563062541[Parallel(n_jobs=1)]: Using backend SequentialBackend with 1 concurrent workers.\n",
      "[Parallel(n_jobs=1)]: Done   1 out of   1 | elapsed:    6.4s remaining:    0.0s\n",
      "[Parallel(n_jobs=1)]: Done  23 out of  23 | elapsed:  2.5min finished\n",
      "\n",
      "[2022-02-11 16:53:32] Features: 22/20 -- score: 0.9301171938303856[Parallel(n_jobs=1)]: Using backend SequentialBackend with 1 concurrent workers.\n",
      "[Parallel(n_jobs=1)]: Done   1 out of   1 | elapsed:    6.8s remaining:    0.0s\n",
      "[Parallel(n_jobs=1)]: Done  22 out of  22 | elapsed:  2.4min finished\n",
      "\n",
      "[2022-02-11 16:55:55] Features: 21/20 -- score: 0.9286019840940715[Parallel(n_jobs=1)]: Using backend SequentialBackend with 1 concurrent workers.\n",
      "[Parallel(n_jobs=1)]: Done   1 out of   1 | elapsed:    6.6s remaining:    0.0s\n",
      "[Parallel(n_jobs=1)]: Done  21 out of  21 | elapsed:  2.4min finished\n",
      "\n",
      "[2022-02-11 16:58:17] Features: 20/20 -- score: 0.9271909491914798"
     ]
    }
   ],
   "source": [
    "# within the SFS we indicate:\n",
    "# 1) the algorithm we want to create, in this case RandomForests\n",
    "# 3) wheter to perform step backward\n",
    "# 4) the evaluation metric: in this case the roc_auc\n",
    "# 5) the want cross-validation\n",
    "\n",
    "sfs = SFS(RandomForestClassifier(n_estimators=10, n_jobs=4, random_state=0),\n",
    "          k_features=20, # the lower the features we want, the longer this will take\n",
    "          forward=False,\n",
    "          floating=False,\n",
    "          verbose=2,\n",
    "          scoring='roc_auc',\n",
    "          cv=2)\n",
    "\n",
    "sfs = sfs.fit(np.array(X_train), y_train)"
   ]
  },
  {
   "cell_type": "markdown",
   "id": "6a35d10d",
   "metadata": {
    "papermill": {
     "duration": 0.030788,
     "end_time": "2022-02-11T16:58:17.767063",
     "exception": false,
     "start_time": "2022-02-11T16:58:17.736275",
     "status": "completed"
    },
    "tags": []
   },
   "source": [
    "# Compare performance of feature subsets"
   ]
  },
  {
   "cell_type": "code",
   "execution_count": 19,
   "id": "a4fb00e4",
   "metadata": {
    "execution": {
     "iopub.execute_input": "2022-02-11T16:58:17.834948Z",
     "iopub.status.busy": "2022-02-11T16:58:17.833942Z",
     "iopub.status.idle": "2022-02-11T16:58:17.841407Z",
     "shell.execute_reply": "2022-02-11T16:58:17.841997Z",
     "shell.execute_reply.started": "2022-02-11T16:18:03.716251Z"
    },
    "papermill": {
     "duration": 0.043456,
     "end_time": "2022-02-11T16:58:17.842204",
     "exception": false,
     "start_time": "2022-02-11T16:58:17.798748",
     "status": "completed"
    },
    "tags": []
   },
   "outputs": [],
   "source": [
    "# function to train random forests and evaluate the performance\n",
    "\n",
    "def run_randomForests(X_train, X_test, y_train, y_test):\n",
    "    rf = RandomForestClassifier(n_estimators=200, random_state=39, max_depth=4)\n",
    "    rf.fit(X_train, y_train)\n",
    "\n",
    "    print('Train set')\n",
    "    pred = rf.predict_proba(X_train)\n",
    "    print('Random Forests roc-auc: {}'.format(roc_auc_score(y_train, pred[:,1])))\n",
    "    \n",
    "    print('Test set')\n",
    "    pred = rf.predict_proba(X_test)\n",
    "    print('Random Forests roc-auc: {}'.format(roc_auc_score(y_test, pred[:,1])))"
   ]
  },
  {
   "cell_type": "code",
   "execution_count": 20,
   "id": "d47b45c6",
   "metadata": {
    "execution": {
     "iopub.execute_input": "2022-02-11T16:58:17.909501Z",
     "iopub.status.busy": "2022-02-11T16:58:17.908831Z",
     "iopub.status.idle": "2022-02-11T16:58:17.917181Z",
     "shell.execute_reply": "2022-02-11T16:58:17.916647Z",
     "shell.execute_reply.started": "2022-02-11T16:18:03.727394Z"
    },
    "papermill": {
     "duration": 0.042793,
     "end_time": "2022-02-11T16:58:17.917336",
     "exception": false,
     "start_time": "2022-02-11T16:58:17.874543",
     "status": "completed"
    },
    "tags": []
   },
   "outputs": [
    {
     "data": {
      "text/plain": [
       "Index(['V1', 'V2', 'V5', 'V6', 'V7', 'V8', 'V9', 'V11', 'V12', 'V13', 'V14',\n",
       "       'V15', 'V16', 'V17', 'V18', 'V20', 'V22', 'V25', 'V26', 'V28'],\n",
       "      dtype='object')"
      ]
     },
     "execution_count": 20,
     "metadata": {},
     "output_type": "execute_result"
    }
   ],
   "source": [
    "selected_feat= X_train.columns[list(sfs.k_feature_idx_)]\n",
    "\n",
    "selected_feat"
   ]
  },
  {
   "cell_type": "code",
   "execution_count": 21,
   "id": "24da3eae",
   "metadata": {
    "execution": {
     "iopub.execute_input": "2022-02-11T16:58:17.983778Z",
     "iopub.status.busy": "2022-02-11T16:58:17.983174Z",
     "iopub.status.idle": "2022-02-11T17:00:06.960395Z",
     "shell.execute_reply": "2022-02-11T17:00:06.959832Z",
     "shell.execute_reply.started": "2022-02-11T16:18:03.764196Z"
    },
    "papermill": {
     "duration": 109.011407,
     "end_time": "2022-02-11T17:00:06.960570",
     "exception": false,
     "start_time": "2022-02-11T16:58:17.949163",
     "status": "completed"
    },
    "tags": []
   },
   "outputs": [
    {
     "name": "stdout",
     "output_type": "stream",
     "text": [
      "Train set\n",
      "Random Forests roc-auc: 0.960963030913005\n",
      "Test set\n",
      "Random Forests roc-auc: 0.9459851376303664\n"
     ]
    }
   ],
   "source": [
    "# evaluate performance of algorithm built\n",
    "# using selected features\n",
    "\n",
    "run_randomForests(X_train[selected_feat],\n",
    "                  X_test[selected_feat],\n",
    "                  y_train, y_test)"
   ]
  },
  {
   "cell_type": "code",
   "execution_count": 22,
   "id": "4ae97ea1",
   "metadata": {
    "execution": {
     "iopub.execute_input": "2022-02-11T17:00:07.029760Z",
     "iopub.status.busy": "2022-02-11T17:00:07.028702Z",
     "iopub.status.idle": "2022-02-11T17:02:13.032537Z",
     "shell.execute_reply": "2022-02-11T17:02:13.031948Z",
     "shell.execute_reply.started": "2022-02-11T16:19:49.236195Z"
    },
    "papermill": {
     "duration": 126.03978,
     "end_time": "2022-02-11T17:02:13.032710",
     "exception": false,
     "start_time": "2022-02-11T17:00:06.992930",
     "status": "completed"
    },
    "tags": []
   },
   "outputs": [
    {
     "name": "stdout",
     "output_type": "stream",
     "text": [
      "Train set\n",
      "Random Forests roc-auc: 0.9656585770596077\n",
      "Test set\n",
      "Random Forests roc-auc: 0.9629832471349073\n"
     ]
    }
   ],
   "source": [
    "# and for comparison, we train random forests using\n",
    "# all features (except the correlated ones, which we removed already)\n",
    "\n",
    "run_randomForests(X_train,\n",
    "                  X_test,\n",
    "                  y_train, y_test)"
   ]
  }
 ],
 "metadata": {
  "kernelspec": {
   "display_name": "Python 3",
   "language": "python",
   "name": "python3"
  },
  "language_info": {
   "codemirror_mode": {
    "name": "ipython",
    "version": 3
   },
   "file_extension": ".py",
   "mimetype": "text/x-python",
   "name": "python",
   "nbconvert_exporter": "python",
   "pygments_lexer": "ipython3",
   "version": "3.7.12"
  },
  "papermill": {
   "default_parameters": {},
   "duration": 1904.281568,
   "end_time": "2022-02-11T17:02:14.385951",
   "environment_variables": {},
   "exception": null,
   "input_path": "__notebook__.ipynb",
   "output_path": "__notebook__.ipynb",
   "parameters": {},
   "start_time": "2022-02-11T16:30:30.104383",
   "version": "2.3.3"
  }
 },
 "nbformat": 4,
 "nbformat_minor": 5
}
