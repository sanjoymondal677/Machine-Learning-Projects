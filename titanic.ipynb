{
 "cells": [
  {
   "cell_type": "code",
   "execution_count": 1,
   "id": "4956ce61",
   "metadata": {
    "_cell_guid": "b1076dfc-b9ad-4769-8c92-a6c4dae69d19",
    "_uuid": "8f2839f25d086af736a60e9eeb907d3b93b6e0e5",
    "execution": {
     "iopub.execute_input": "2022-01-31T18:41:06.467142Z",
     "iopub.status.busy": "2022-01-31T18:41:06.466545Z",
     "iopub.status.idle": "2022-01-31T18:41:06.474911Z",
     "shell.execute_reply": "2022-01-31T18:41:06.474201Z",
     "shell.execute_reply.started": "2022-01-31T18:35:05.364195Z"
    },
    "papermill": {
     "duration": 0.054124,
     "end_time": "2022-01-31T18:41:06.475115",
     "exception": false,
     "start_time": "2022-01-31T18:41:06.420991",
     "status": "completed"
    },
    "tags": []
   },
   "outputs": [
    {
     "name": "stdout",
     "output_type": "stream",
     "text": [
      "/kaggle/input/titanic/train.csv\n",
      "/kaggle/input/titanic/test.csv\n",
      "/kaggle/input/titanic/gender_submission.csv\n"
     ]
    }
   ],
   "source": [
    "# This Python 3 environment comes with many helpful analytics libraries installed\n",
    "# It is defined by the kaggle/python Docker image: https://github.com/kaggle/docker-python\n",
    "# For example, here's several helpful packages to load\n",
    "\n",
    "import numpy as np # linear algebra\n",
    "import pandas as pd # data processing, CSV file I/O (e.g. pd.read_csv)\n",
    "\n",
    "# Input data files are available in the read-only \"../input/\" directory\n",
    "# For example, running this (by clicking run or pressing Shift+Enter) will list all files under the input directory\n",
    "\n",
    "import os\n",
    "for dirname, _, filenames in os.walk('/kaggle/input'):\n",
    "    for filename in filenames:\n",
    "        print(os.path.join(dirname, filename))\n",
    "\n",
    "# You can write up to 20GB to the current directory (/kaggle/working/) that gets preserved as output when you create a version using \"Save & Run All\" \n",
    "# You can also write temporary files to /kaggle/temp/, but they won't be saved outside of the current session"
   ]
  },
  {
   "cell_type": "code",
   "execution_count": 2,
   "id": "157c9b56",
   "metadata": {
    "execution": {
     "iopub.execute_input": "2022-01-31T18:41:06.554527Z",
     "iopub.status.busy": "2022-01-31T18:41:06.552899Z",
     "iopub.status.idle": "2022-01-31T18:41:07.602746Z",
     "shell.execute_reply": "2022-01-31T18:41:07.601956Z",
     "shell.execute_reply.started": "2022-01-31T18:35:05.376990Z"
    },
    "papermill": {
     "duration": 1.089737,
     "end_time": "2022-01-31T18:41:07.602911",
     "exception": false,
     "start_time": "2022-01-31T18:41:06.513174",
     "status": "completed"
    },
    "tags": []
   },
   "outputs": [],
   "source": [
    "import numpy as np\n",
    "import pandas as pd\n",
    "import matplotlib.pyplot as plt\n",
    "import seaborn as sns"
   ]
  },
  {
   "cell_type": "code",
   "execution_count": 3,
   "id": "e56ab1ac",
   "metadata": {
    "execution": {
     "iopub.execute_input": "2022-01-31T18:41:07.677443Z",
     "iopub.status.busy": "2022-01-31T18:41:07.676834Z",
     "iopub.status.idle": "2022-01-31T18:41:07.696188Z",
     "shell.execute_reply": "2022-01-31T18:41:07.696746Z",
     "shell.execute_reply.started": "2022-01-31T18:35:05.383445Z"
    },
    "papermill": {
     "duration": 0.058043,
     "end_time": "2022-01-31T18:41:07.696908",
     "exception": false,
     "start_time": "2022-01-31T18:41:07.638865",
     "status": "completed"
    },
    "tags": []
   },
   "outputs": [],
   "source": [
    "data = pd.read_csv(\"../input/titanic/train.csv\")"
   ]
  },
  {
   "cell_type": "code",
   "execution_count": 4,
   "id": "3d771fe8",
   "metadata": {
    "execution": {
     "iopub.execute_input": "2022-01-31T18:41:07.786162Z",
     "iopub.status.busy": "2022-01-31T18:41:07.785214Z",
     "iopub.status.idle": "2022-01-31T18:41:07.805176Z",
     "shell.execute_reply": "2022-01-31T18:41:07.805964Z",
     "shell.execute_reply.started": "2022-01-31T18:35:05.402934Z"
    },
    "papermill": {
     "duration": 0.072503,
     "end_time": "2022-01-31T18:41:07.806196",
     "exception": false,
     "start_time": "2022-01-31T18:41:07.733693",
     "status": "completed"
    },
    "tags": []
   },
   "outputs": [
    {
     "data": {
      "text/html": [
       "<div>\n",
       "<style scoped>\n",
       "    .dataframe tbody tr th:only-of-type {\n",
       "        vertical-align: middle;\n",
       "    }\n",
       "\n",
       "    .dataframe tbody tr th {\n",
       "        vertical-align: top;\n",
       "    }\n",
       "\n",
       "    .dataframe thead th {\n",
       "        text-align: right;\n",
       "    }\n",
       "</style>\n",
       "<table border=\"1\" class=\"dataframe\">\n",
       "  <thead>\n",
       "    <tr style=\"text-align: right;\">\n",
       "      <th></th>\n",
       "      <th>PassengerId</th>\n",
       "      <th>Survived</th>\n",
       "      <th>Pclass</th>\n",
       "      <th>Name</th>\n",
       "      <th>Sex</th>\n",
       "      <th>Age</th>\n",
       "      <th>SibSp</th>\n",
       "      <th>Parch</th>\n",
       "      <th>Ticket</th>\n",
       "      <th>Fare</th>\n",
       "      <th>Cabin</th>\n",
       "      <th>Embarked</th>\n",
       "    </tr>\n",
       "  </thead>\n",
       "  <tbody>\n",
       "    <tr>\n",
       "      <th>0</th>\n",
       "      <td>1</td>\n",
       "      <td>0</td>\n",
       "      <td>3</td>\n",
       "      <td>Braund, Mr. Owen Harris</td>\n",
       "      <td>male</td>\n",
       "      <td>22.0</td>\n",
       "      <td>1</td>\n",
       "      <td>0</td>\n",
       "      <td>A/5 21171</td>\n",
       "      <td>7.2500</td>\n",
       "      <td>NaN</td>\n",
       "      <td>S</td>\n",
       "    </tr>\n",
       "    <tr>\n",
       "      <th>1</th>\n",
       "      <td>2</td>\n",
       "      <td>1</td>\n",
       "      <td>1</td>\n",
       "      <td>Cumings, Mrs. John Bradley (Florence Briggs Th...</td>\n",
       "      <td>female</td>\n",
       "      <td>38.0</td>\n",
       "      <td>1</td>\n",
       "      <td>0</td>\n",
       "      <td>PC 17599</td>\n",
       "      <td>71.2833</td>\n",
       "      <td>C85</td>\n",
       "      <td>C</td>\n",
       "    </tr>\n",
       "    <tr>\n",
       "      <th>2</th>\n",
       "      <td>3</td>\n",
       "      <td>1</td>\n",
       "      <td>3</td>\n",
       "      <td>Heikkinen, Miss. Laina</td>\n",
       "      <td>female</td>\n",
       "      <td>26.0</td>\n",
       "      <td>0</td>\n",
       "      <td>0</td>\n",
       "      <td>STON/O2. 3101282</td>\n",
       "      <td>7.9250</td>\n",
       "      <td>NaN</td>\n",
       "      <td>S</td>\n",
       "    </tr>\n",
       "    <tr>\n",
       "      <th>3</th>\n",
       "      <td>4</td>\n",
       "      <td>1</td>\n",
       "      <td>1</td>\n",
       "      <td>Futrelle, Mrs. Jacques Heath (Lily May Peel)</td>\n",
       "      <td>female</td>\n",
       "      <td>35.0</td>\n",
       "      <td>1</td>\n",
       "      <td>0</td>\n",
       "      <td>113803</td>\n",
       "      <td>53.1000</td>\n",
       "      <td>C123</td>\n",
       "      <td>S</td>\n",
       "    </tr>\n",
       "    <tr>\n",
       "      <th>4</th>\n",
       "      <td>5</td>\n",
       "      <td>0</td>\n",
       "      <td>3</td>\n",
       "      <td>Allen, Mr. William Henry</td>\n",
       "      <td>male</td>\n",
       "      <td>35.0</td>\n",
       "      <td>0</td>\n",
       "      <td>0</td>\n",
       "      <td>373450</td>\n",
       "      <td>8.0500</td>\n",
       "      <td>NaN</td>\n",
       "      <td>S</td>\n",
       "    </tr>\n",
       "  </tbody>\n",
       "</table>\n",
       "</div>"
      ],
      "text/plain": [
       "   PassengerId  Survived  Pclass  \\\n",
       "0            1         0       3   \n",
       "1            2         1       1   \n",
       "2            3         1       3   \n",
       "3            4         1       1   \n",
       "4            5         0       3   \n",
       "\n",
       "                                                Name     Sex   Age  SibSp  \\\n",
       "0                            Braund, Mr. Owen Harris    male  22.0      1   \n",
       "1  Cumings, Mrs. John Bradley (Florence Briggs Th...  female  38.0      1   \n",
       "2                             Heikkinen, Miss. Laina  female  26.0      0   \n",
       "3       Futrelle, Mrs. Jacques Heath (Lily May Peel)  female  35.0      1   \n",
       "4                           Allen, Mr. William Henry    male  35.0      0   \n",
       "\n",
       "   Parch            Ticket     Fare Cabin Embarked  \n",
       "0      0         A/5 21171   7.2500   NaN        S  \n",
       "1      0          PC 17599  71.2833   C85        C  \n",
       "2      0  STON/O2. 3101282   7.9250   NaN        S  \n",
       "3      0            113803  53.1000  C123        S  \n",
       "4      0            373450   8.0500   NaN        S  "
      ]
     },
     "execution_count": 4,
     "metadata": {},
     "output_type": "execute_result"
    }
   ],
   "source": [
    "data.head()"
   ]
  },
  {
   "cell_type": "code",
   "execution_count": 5,
   "id": "f4f7b17f",
   "metadata": {
    "execution": {
     "iopub.execute_input": "2022-01-31T18:41:07.893415Z",
     "iopub.status.busy": "2022-01-31T18:41:07.892715Z",
     "iopub.status.idle": "2022-01-31T18:41:07.896139Z",
     "shell.execute_reply": "2022-01-31T18:41:07.895561Z",
     "shell.execute_reply.started": "2022-01-31T18:35:05.419768Z"
    },
    "papermill": {
     "duration": 0.044986,
     "end_time": "2022-01-31T18:41:07.896265",
     "exception": false,
     "start_time": "2022-01-31T18:41:07.851279",
     "status": "completed"
    },
    "tags": []
   },
   "outputs": [
    {
     "data": {
      "text/plain": [
       "(891, 12)"
      ]
     },
     "execution_count": 5,
     "metadata": {},
     "output_type": "execute_result"
    }
   ],
   "source": [
    "data.shape"
   ]
  },
  {
   "cell_type": "code",
   "execution_count": 6,
   "id": "664a43e6",
   "metadata": {
    "execution": {
     "iopub.execute_input": "2022-01-31T18:41:07.995987Z",
     "iopub.status.busy": "2022-01-31T18:41:07.995195Z",
     "iopub.status.idle": "2022-01-31T18:41:07.998385Z",
     "shell.execute_reply": "2022-01-31T18:41:07.999041Z",
     "shell.execute_reply.started": "2022-01-31T18:35:05.427397Z"
    },
    "papermill": {
     "duration": 0.066075,
     "end_time": "2022-01-31T18:41:07.999253",
     "exception": false,
     "start_time": "2022-01-31T18:41:07.933178",
     "status": "completed"
    },
    "tags": []
   },
   "outputs": [
    {
     "name": "stdout",
     "output_type": "stream",
     "text": [
      "<class 'pandas.core.frame.DataFrame'>\n",
      "RangeIndex: 891 entries, 0 to 890\n",
      "Data columns (total 12 columns):\n",
      " #   Column       Non-Null Count  Dtype  \n",
      "---  ------       --------------  -----  \n",
      " 0   PassengerId  891 non-null    int64  \n",
      " 1   Survived     891 non-null    int64  \n",
      " 2   Pclass       891 non-null    int64  \n",
      " 3   Name         891 non-null    object \n",
      " 4   Sex          891 non-null    object \n",
      " 5   Age          714 non-null    float64\n",
      " 6   SibSp        891 non-null    int64  \n",
      " 7   Parch        891 non-null    int64  \n",
      " 8   Ticket       891 non-null    object \n",
      " 9   Fare         891 non-null    float64\n",
      " 10  Cabin        204 non-null    object \n",
      " 11  Embarked     889 non-null    object \n",
      "dtypes: float64(2), int64(5), object(5)\n",
      "memory usage: 83.7+ KB\n"
     ]
    }
   ],
   "source": [
    "data.info()"
   ]
  },
  {
   "cell_type": "code",
   "execution_count": 7,
   "id": "828e896e",
   "metadata": {
    "execution": {
     "iopub.execute_input": "2022-01-31T18:41:08.081185Z",
     "iopub.status.busy": "2022-01-31T18:41:08.079419Z",
     "iopub.status.idle": "2022-01-31T18:41:08.087880Z",
     "shell.execute_reply": "2022-01-31T18:41:08.088340Z",
     "shell.execute_reply.started": "2022-01-31T18:35:05.446538Z"
    },
    "papermill": {
     "duration": 0.050409,
     "end_time": "2022-01-31T18:41:08.088527",
     "exception": false,
     "start_time": "2022-01-31T18:41:08.038118",
     "status": "completed"
    },
    "tags": []
   },
   "outputs": [
    {
     "data": {
      "text/plain": [
       "PassengerId      0\n",
       "Survived         0\n",
       "Pclass           0\n",
       "Name             0\n",
       "Sex              0\n",
       "Age            177\n",
       "SibSp            0\n",
       "Parch            0\n",
       "Ticket           0\n",
       "Fare             0\n",
       "Cabin          687\n",
       "Embarked         2\n",
       "dtype: int64"
      ]
     },
     "execution_count": 7,
     "metadata": {},
     "output_type": "execute_result"
    }
   ],
   "source": [
    "data.isnull().sum()"
   ]
  },
  {
   "cell_type": "code",
   "execution_count": 8,
   "id": "b911c4a4",
   "metadata": {
    "execution": {
     "iopub.execute_input": "2022-01-31T18:41:08.166650Z",
     "iopub.status.busy": "2022-01-31T18:41:08.166018Z",
     "iopub.status.idle": "2022-01-31T18:41:08.171820Z",
     "shell.execute_reply": "2022-01-31T18:41:08.172299Z",
     "shell.execute_reply.started": "2022-01-31T18:35:05.455453Z"
    },
    "papermill": {
     "duration": 0.046018,
     "end_time": "2022-01-31T18:41:08.172486",
     "exception": false,
     "start_time": "2022-01-31T18:41:08.126468",
     "status": "completed"
    },
    "tags": []
   },
   "outputs": [],
   "source": [
    "data = data.drop('PassengerId',axis=1)"
   ]
  },
  {
   "cell_type": "code",
   "execution_count": 9,
   "id": "4f597c8a",
   "metadata": {
    "execution": {
     "iopub.execute_input": "2022-01-31T18:41:08.249726Z",
     "iopub.status.busy": "2022-01-31T18:41:08.249110Z",
     "iopub.status.idle": "2022-01-31T18:41:08.257462Z",
     "shell.execute_reply": "2022-01-31T18:41:08.257942Z",
     "shell.execute_reply.started": "2022-01-31T18:35:05.462879Z"
    },
    "papermill": {
     "duration": 0.048209,
     "end_time": "2022-01-31T18:41:08.258100",
     "exception": false,
     "start_time": "2022-01-31T18:41:08.209891",
     "status": "completed"
    },
    "tags": []
   },
   "outputs": [],
   "source": [
    "import missingno as msno"
   ]
  },
  {
   "cell_type": "code",
   "execution_count": 10,
   "id": "fac40f54",
   "metadata": {
    "execution": {
     "iopub.execute_input": "2022-01-31T18:41:08.335147Z",
     "iopub.status.busy": "2022-01-31T18:41:08.334437Z",
     "iopub.status.idle": "2022-01-31T18:41:08.920195Z",
     "shell.execute_reply": "2022-01-31T18:41:08.921116Z",
     "shell.execute_reply.started": "2022-01-31T18:35:05.617916Z"
    },
    "papermill": {
     "duration": 0.626216,
     "end_time": "2022-01-31T18:41:08.921377",
     "exception": false,
     "start_time": "2022-01-31T18:41:08.295161",
     "status": "completed"
    },
    "tags": []
   },
   "outputs": [
    {
     "data": {
      "image/png": "[encoded data removed]",
      "text/plain": [
       "<Figure size 1728x720 with 3 Axes>"
      ]
     },
     "metadata": {
      "needs_background": "light"
     },
     "output_type": "display_data"
    }
   ],
   "source": [
    "msno.bar(data)\n",
    "plt.show()"
   ]
  },
  {
   "cell_type": "code",
   "execution_count": 11,
   "id": "7f2062b5",
   "metadata": {
    "execution": {
     "iopub.execute_input": "2022-01-31T18:41:09.022907Z",
     "iopub.status.busy": "2022-01-31T18:41:09.022189Z",
     "iopub.status.idle": "2022-01-31T18:41:09.031425Z",
     "shell.execute_reply": "2022-01-31T18:41:09.031898Z",
     "shell.execute_reply.started": "2022-01-31T18:35:06.409035Z"
    },
    "papermill": {
     "duration": 0.054376,
     "end_time": "2022-01-31T18:41:09.032054",
     "exception": false,
     "start_time": "2022-01-31T18:41:08.977678",
     "status": "completed"
    },
    "tags": []
   },
   "outputs": [
    {
     "data": {
      "text/plain": [
       "Survived     0.000000\n",
       "Pclass       0.000000\n",
       "Name         0.000000\n",
       "Sex          0.000000\n",
       "Age         19.865320\n",
       "SibSp        0.000000\n",
       "Parch        0.000000\n",
       "Ticket       0.000000\n",
       "Fare         0.000000\n",
       "Cabin       77.104377\n",
       "Embarked     0.224467\n",
       "dtype: float64"
      ]
     },
     "execution_count": 11,
     "metadata": {},
     "output_type": "execute_result"
    }
   ],
   "source": [
    "data.isnull().mean() * 100 # Check in percentages of missing values."
   ]
  },
  {
   "cell_type": "code",
   "execution_count": 12,
   "id": "a60cf64c",
   "metadata": {
    "execution": {
     "iopub.execute_input": "2022-01-31T18:41:09.114863Z",
     "iopub.status.busy": "2022-01-31T18:41:09.113971Z",
     "iopub.status.idle": "2022-01-31T18:41:09.117663Z",
     "shell.execute_reply": "2022-01-31T18:41:09.118111Z",
     "shell.execute_reply.started": "2022-01-31T18:35:06.419606Z"
    },
    "papermill": {
     "duration": 0.04664,
     "end_time": "2022-01-31T18:41:09.118279",
     "exception": false,
     "start_time": "2022-01-31T18:41:09.071639",
     "status": "completed"
    },
    "tags": []
   },
   "outputs": [],
   "source": [
    "df = data.copy()"
   ]
  },
  {
   "cell_type": "code",
   "execution_count": 13,
   "id": "10fddabb",
   "metadata": {
    "execution": {
     "iopub.execute_input": "2022-01-31T18:41:09.202156Z",
     "iopub.status.busy": "2022-01-31T18:41:09.201258Z",
     "iopub.status.idle": "2022-01-31T18:41:09.203412Z",
     "shell.execute_reply": "2022-01-31T18:41:09.203868Z",
     "shell.execute_reply.started": "2022-01-31T18:35:06.428463Z"
    },
    "papermill": {
     "duration": 0.046692,
     "end_time": "2022-01-31T18:41:09.204022",
     "exception": false,
     "start_time": "2022-01-31T18:41:09.157330",
     "status": "completed"
    },
    "tags": []
   },
   "outputs": [],
   "source": [
    "data = data.drop('Cabin',axis=1)"
   ]
  },
  {
   "cell_type": "code",
   "execution_count": 14,
   "id": "9996121b",
   "metadata": {
    "execution": {
     "iopub.execute_input": "2022-01-31T18:41:09.284248Z",
     "iopub.status.busy": "2022-01-31T18:41:09.283407Z",
     "iopub.status.idle": "2022-01-31T18:41:10.018309Z",
     "shell.execute_reply": "2022-01-31T18:41:10.019180Z",
     "shell.execute_reply.started": "2022-01-31T18:35:06.442641Z"
    },
    "papermill": {
     "duration": 0.777067,
     "end_time": "2022-01-31T18:41:10.019365",
     "exception": false,
     "start_time": "2022-01-31T18:41:09.242298",
     "status": "completed"
    },
    "tags": []
   },
   "outputs": [
    {
     "data": {
      "image/png": "[encoded data removed]",
      "text/plain": [
       "<Figure size 1728x720 with 3 Axes>"
      ]
     },
     "metadata": {
      "needs_background": "light"
     },
     "output_type": "display_data"
    }
   ],
   "source": [
    "msno.bar(data)\n",
    "plt.show()"
   ]
  },
  {
   "cell_type": "code",
   "execution_count": 15,
   "id": "ab03f678",
   "metadata": {
    "execution": {
     "iopub.execute_input": "2022-01-31T18:41:10.108117Z",
     "iopub.status.busy": "2022-01-31T18:41:10.107376Z",
     "iopub.status.idle": "2022-01-31T18:41:10.110423Z",
     "shell.execute_reply": "2022-01-31T18:41:10.110880Z",
     "shell.execute_reply.started": "2022-01-31T18:35:07.185417Z"
    },
    "papermill": {
     "duration": 0.050045,
     "end_time": "2022-01-31T18:41:10.111034",
     "exception": false,
     "start_time": "2022-01-31T18:41:10.060989",
     "status": "completed"
    },
    "tags": []
   },
   "outputs": [
    {
     "data": {
      "text/plain": [
       "Survived      int64\n",
       "Pclass        int64\n",
       "Name         object\n",
       "Sex          object\n",
       "Age         float64\n",
       "SibSp         int64\n",
       "Parch         int64\n",
       "Ticket       object\n",
       "Fare        float64\n",
       "Embarked     object\n",
       "dtype: object"
      ]
     },
     "execution_count": 15,
     "metadata": {},
     "output_type": "execute_result"
    }
   ],
   "source": [
    "data.dtypes"
   ]
  },
  {
   "cell_type": "code",
   "execution_count": 16,
   "id": "d5575573",
   "metadata": {
    "execution": {
     "iopub.execute_input": "2022-01-31T18:41:10.195397Z",
     "iopub.status.busy": "2022-01-31T18:41:10.194777Z",
     "iopub.status.idle": "2022-01-31T18:41:10.205509Z",
     "shell.execute_reply": "2022-01-31T18:41:10.206028Z",
     "shell.execute_reply.started": "2022-01-31T18:35:07.199879Z"
    },
    "papermill": {
     "duration": 0.054002,
     "end_time": "2022-01-31T18:41:10.206190",
     "exception": false,
     "start_time": "2022-01-31T18:41:10.152188",
     "status": "completed"
    },
    "tags": []
   },
   "outputs": [
    {
     "data": {
      "text/plain": [
       "Survived      2\n",
       "Pclass        3\n",
       "Name        891\n",
       "Sex           2\n",
       "Age          88\n",
       "SibSp         7\n",
       "Parch         7\n",
       "Ticket      681\n",
       "Fare        248\n",
       "Embarked      3\n",
       "dtype: int64"
      ]
     },
     "execution_count": 16,
     "metadata": {},
     "output_type": "execute_result"
    }
   ],
   "source": [
    "data.nunique()"
   ]
  },
  {
   "cell_type": "code",
   "execution_count": 17,
   "id": "4329386d",
   "metadata": {
    "execution": {
     "iopub.execute_input": "2022-01-31T18:41:10.291040Z",
     "iopub.status.busy": "2022-01-31T18:41:10.290480Z",
     "iopub.status.idle": "2022-01-31T18:41:11.058429Z",
     "shell.execute_reply": "2022-01-31T18:41:11.057860Z",
     "shell.execute_reply.started": "2022-01-31T18:35:07.216439Z"
    },
    "papermill": {
     "duration": 0.811707,
     "end_time": "2022-01-31T18:41:11.058558",
     "exception": false,
     "start_time": "2022-01-31T18:41:10.246851",
     "status": "completed"
    },
    "tags": []
   },
   "outputs": [
    {
     "data": {
      "image/png": "[encoded data removed]",
      "text/plain": [
       "<Figure size 1728x720 with 6 Axes>"
      ]
     },
     "metadata": {
      "needs_background": "light"
     },
     "output_type": "display_data"
    }
   ],
   "source": [
    "fig, axes = plt.subplots(3, 2, sharex=True, figsize=(24,10))\n",
    "fig.suptitle('Count of all categorical variables')\n",
    "sns.countplot(ax=axes[0, 0], data=data, x='Survived',hue = 'Pclass',palette='crest')\n",
    "sns.countplot(ax=axes[0, 1], data=data, x='Survived',hue='Sex',palette='RdPu')\n",
    "sns.countplot(ax=axes[1, 0], data=data, x='Survived',hue = 'SibSp',palette='magma')\n",
    "sns.countplot(ax=axes[1, 1], data=data, x='Survived',hue = 'Parch',palette=\"ch:s=-.2,r=.6\")\n",
    "sns.countplot(ax=axes[2,0],data = data, x ='Survived' ,hue = 'Embarked',palette=\"dark:salmon_r\")\n",
    "sns.countplot(ax=axes[2,1],data = data, x ='Survived',palette='RdPu' )\n",
    "plt.show()"
   ]
  },
  {
   "cell_type": "code",
   "execution_count": 18,
   "id": "2864e75e",
   "metadata": {
    "execution": {
     "iopub.execute_input": "2022-01-31T18:41:11.150595Z",
     "iopub.status.busy": "2022-01-31T18:41:11.149938Z",
     "iopub.status.idle": "2022-01-31T18:41:11.516830Z",
     "shell.execute_reply": "2022-01-31T18:41:11.516263Z",
     "shell.execute_reply.started": "2022-01-31T18:35:08.026235Z"
    },
    "papermill": {
     "duration": 0.412842,
     "end_time": "2022-01-31T18:41:11.516966",
     "exception": false,
     "start_time": "2022-01-31T18:41:11.104124",
     "status": "completed"
    },
    "tags": []
   },
   "outputs": [
    {
     "name": "stderr",
     "output_type": "stream",
     "text": [
      "/opt/conda/lib/python3.7/site-packages/seaborn/distributions.py:2619: FutureWarning: `distplot` is a deprecated function and will be removed in a future version. Please adapt your code to use either `displot` (a figure-level function with similar flexibility) or `histplot` (an axes-level function for histograms).\n",
      "  warnings.warn(msg, FutureWarning)\n"
     ]
    },
    {
     "data": {
      "text/plain": [
       "<AxesSubplot:xlabel='Age', ylabel='Density'>"
      ]
     },
     "execution_count": 18,
     "metadata": {},
     "output_type": "execute_result"
    },
    {
     "data": {
      "image/png": "[encoded data removed]",
      "text/plain": [
       "<Figure size 432x288 with 1 Axes>"
      ]
     },
     "metadata": {
      "needs_background": "light"
     },
     "output_type": "display_data"
    }
   ],
   "source": [
    "sns.distplot(data['Age'])"
   ]
  },
  {
   "cell_type": "code",
   "execution_count": 19,
   "id": "96ad7e92",
   "metadata": {
    "execution": {
     "iopub.execute_input": "2022-01-31T18:41:11.606886Z",
     "iopub.status.busy": "2022-01-31T18:41:11.606189Z",
     "iopub.status.idle": "2022-01-31T18:41:11.776048Z",
     "shell.execute_reply": "2022-01-31T18:41:11.775517Z",
     "shell.execute_reply.started": "2022-01-31T18:35:08.272959Z"
    },
    "papermill": {
     "duration": 0.216888,
     "end_time": "2022-01-31T18:41:11.776173",
     "exception": false,
     "start_time": "2022-01-31T18:41:11.559285",
     "status": "completed"
    },
    "tags": []
   },
   "outputs": [
    {
     "data": {
      "image/png": "[encoded data removed]",
      "text/plain": [
       "<Figure size 432x288 with 1 Axes>"
      ]
     },
     "metadata": {
      "needs_background": "light"
     },
     "output_type": "display_data"
    }
   ],
   "source": [
    "figure=data.boxplot(column=\"Age\") #check for the outliers"
   ]
  },
  {
   "cell_type": "code",
   "execution_count": 20,
   "id": "8fb636bd",
   "metadata": {
    "execution": {
     "iopub.execute_input": "2022-01-31T18:41:11.865436Z",
     "iopub.status.busy": "2022-01-31T18:41:11.864791Z",
     "iopub.status.idle": "2022-01-31T18:41:11.868737Z",
     "shell.execute_reply": "2022-01-31T18:41:11.869240Z",
     "shell.execute_reply.started": "2022-01-31T18:35:08.453330Z"
    },
    "papermill": {
     "duration": 0.049957,
     "end_time": "2022-01-31T18:41:11.869420",
     "exception": false,
     "start_time": "2022-01-31T18:41:11.819463",
     "status": "completed"
    },
    "tags": []
   },
   "outputs": [],
   "source": [
    "mean_value = data['Age'].mean()\n",
    "data['Age'].fillna(value = mean_value,inplace = True)"
   ]
  },
  {
   "cell_type": "code",
   "execution_count": 21,
   "id": "4f4daa96",
   "metadata": {
    "execution": {
     "iopub.execute_input": "2022-01-31T18:41:11.960425Z",
     "iopub.status.busy": "2022-01-31T18:41:11.959771Z",
     "iopub.status.idle": "2022-01-31T18:41:11.965768Z",
     "shell.execute_reply": "2022-01-31T18:41:11.966285Z",
     "shell.execute_reply.started": "2022-01-31T18:35:08.459535Z"
    },
    "papermill": {
     "duration": 0.052973,
     "end_time": "2022-01-31T18:41:11.966460",
     "exception": false,
     "start_time": "2022-01-31T18:41:11.913487",
     "status": "completed"
    },
    "tags": []
   },
   "outputs": [],
   "source": [
    "data = data.dropna()"
   ]
  },
  {
   "cell_type": "code",
   "execution_count": 22,
   "id": "8776814b",
   "metadata": {
    "execution": {
     "iopub.execute_input": "2022-01-31T18:41:12.057312Z",
     "iopub.status.busy": "2022-01-31T18:41:12.056774Z",
     "iopub.status.idle": "2022-01-31T18:41:12.063954Z",
     "shell.execute_reply": "2022-01-31T18:41:12.064524Z",
     "shell.execute_reply.started": "2022-01-31T18:35:08.472765Z"
    },
    "papermill": {
     "duration": 0.05316,
     "end_time": "2022-01-31T18:41:12.064693",
     "exception": false,
     "start_time": "2022-01-31T18:41:12.011533",
     "status": "completed"
    },
    "tags": []
   },
   "outputs": [
    {
     "data": {
      "text/plain": [
       "Survived    0\n",
       "Pclass      0\n",
       "Name        0\n",
       "Sex         0\n",
       "Age         0\n",
       "SibSp       0\n",
       "Parch       0\n",
       "Ticket      0\n",
       "Fare        0\n",
       "Embarked    0\n",
       "dtype: int64"
      ]
     },
     "execution_count": 22,
     "metadata": {},
     "output_type": "execute_result"
    }
   ],
   "source": [
    "data.isnull().sum()"
   ]
  },
  {
   "cell_type": "code",
   "execution_count": 23,
   "id": "daa153bb",
   "metadata": {
    "execution": {
     "iopub.execute_input": "2022-01-31T18:41:12.155290Z",
     "iopub.status.busy": "2022-01-31T18:41:12.154628Z",
     "iopub.status.idle": "2022-01-31T18:41:12.397947Z",
     "shell.execute_reply": "2022-01-31T18:41:12.397428Z",
     "shell.execute_reply.started": "2022-01-31T18:35:08.487709Z"
    },
    "papermill": {
     "duration": 0.289484,
     "end_time": "2022-01-31T18:41:12.398082",
     "exception": false,
     "start_time": "2022-01-31T18:41:12.108598",
     "status": "completed"
    },
    "tags": []
   },
   "outputs": [
    {
     "name": "stderr",
     "output_type": "stream",
     "text": [
      "/opt/conda/lib/python3.7/site-packages/seaborn/distributions.py:2619: FutureWarning: `distplot` is a deprecated function and will be removed in a future version. Please adapt your code to use either `displot` (a figure-level function with similar flexibility) or `histplot` (an axes-level function for histograms).\n",
      "  warnings.warn(msg, FutureWarning)\n"
     ]
    },
    {
     "data": {
      "text/plain": [
       "<AxesSubplot:xlabel='Age', ylabel='Density'>"
      ]
     },
     "execution_count": 23,
     "metadata": {},
     "output_type": "execute_result"
    },
    {
     "data": {
      "image/png": "[encoded data removed]",
      "text/plain": [
       "<Figure size 432x288 with 1 Axes>"
      ]
     },
     "metadata": {
      "needs_background": "light"
     },
     "output_type": "display_data"
    }
   ],
   "source": [
    "sns.distplot(data['Age'])"
   ]
  },
  {
   "cell_type": "code",
   "execution_count": 24,
   "id": "7f1b3254",
   "metadata": {
    "execution": {
     "iopub.execute_input": "2022-01-31T18:41:12.493670Z",
     "iopub.status.busy": "2022-01-31T18:41:12.492576Z",
     "iopub.status.idle": "2022-01-31T18:41:12.499329Z",
     "shell.execute_reply": "2022-01-31T18:41:12.498788Z",
     "shell.execute_reply.started": "2022-01-31T18:35:08.735075Z"
    },
    "papermill": {
     "duration": 0.056453,
     "end_time": "2022-01-31T18:41:12.499469",
     "exception": false,
     "start_time": "2022-01-31T18:41:12.443016",
     "status": "completed"
    },
    "tags": []
   },
   "outputs": [
    {
     "data": {
      "text/plain": [
       "count    889.000000\n",
       "mean      29.653446\n",
       "std       12.968366\n",
       "min        0.420000\n",
       "25%       22.000000\n",
       "50%       29.699118\n",
       "75%       35.000000\n",
       "max       80.000000\n",
       "Name: Age, dtype: float64"
      ]
     },
     "execution_count": 24,
     "metadata": {},
     "output_type": "execute_result"
    }
   ],
   "source": [
    "data['Age'].describe()"
   ]
  },
  {
   "cell_type": "markdown",
   "id": "f29e0687",
   "metadata": {
    "papermill": {
     "duration": 0.044493,
     "end_time": "2022-01-31T18:41:12.588835",
     "exception": false,
     "start_time": "2022-01-31T18:41:12.544342",
     "status": "completed"
    },
    "tags": []
   },
   "source": [
    "**If The Data Is Normally Distributed We use this\n",
    "Assuming Age follows A Gaussian Distribution we will calculate the boundaries which differentiates the outliers**"
   ]
  },
  {
   "cell_type": "code",
   "execution_count": 25,
   "id": "51e97323",
   "metadata": {
    "execution": {
     "iopub.execute_input": "2022-01-31T18:41:12.684704Z",
     "iopub.status.busy": "2022-01-31T18:41:12.684078Z",
     "iopub.status.idle": "2022-01-31T18:41:12.688330Z",
     "shell.execute_reply": "2022-01-31T18:41:12.687806Z",
     "shell.execute_reply.started": "2022-01-31T18:35:08.745293Z"
    },
    "papermill": {
     "duration": 0.055054,
     "end_time": "2022-01-31T18:41:12.688474",
     "exception": false,
     "start_time": "2022-01-31T18:41:12.633420",
     "status": "completed"
    },
    "tags": []
   },
   "outputs": [
    {
     "name": "stdout",
     "output_type": "stream",
     "text": [
      "Lower_boundary is:  -9.251652557082803\n",
      "Upper_boundary is:  68.55854529843118\n",
      "mean of Age is:  29.653446370674192\n"
     ]
    }
   ],
   "source": [
    "uppper_boundary=data['Age'].mean() + 3* data['Age'].std()\n",
    "lower_boundary=data['Age'].mean() - 3* data['Age'].std()\n",
    "print(\"Lower_boundary is: \",lower_boundary)\n",
    "print(\"Upper_boundary is: \",uppper_boundary)\n",
    "print(\"mean of Age is: \",data['Age'].mean())"
   ]
  },
  {
   "cell_type": "markdown",
   "id": "5cd0278d",
   "metadata": {
    "papermill": {
     "duration": 0.046529,
     "end_time": "2022-01-31T18:41:12.780160",
     "exception": false,
     "start_time": "2022-01-31T18:41:12.733631",
     "status": "completed"
    },
    "tags": []
   },
   "source": [
    "First we need the mean, because in normal distribution most important point, basically from the mean we are going to consider 3rd standard deviation to the right and 3rd standard deviation to the left. Here is upper_boundary is for 3rd standard deviation to the right and lower_boundary is -3 standard deviation to the left. We replace the all the outliers with upper boundary value."
   ]
  },
  {
   "cell_type": "code",
   "execution_count": 26,
   "id": "b374790f",
   "metadata": {
    "execution": {
     "iopub.execute_input": "2022-01-31T18:41:12.878416Z",
     "iopub.status.busy": "2022-01-31T18:41:12.877816Z",
     "iopub.status.idle": "2022-01-31T18:41:12.880302Z",
     "shell.execute_reply": "2022-01-31T18:41:12.879825Z",
     "shell.execute_reply.started": "2022-01-31T18:35:08.758181Z"
    },
    "papermill": {
     "duration": 0.053374,
     "end_time": "2022-01-31T18:41:12.880461",
     "exception": false,
     "start_time": "2022-01-31T18:41:12.827087",
     "status": "completed"
    },
    "tags": []
   },
   "outputs": [],
   "source": [
    "data.loc[data['Age']>=68,'Age']=68"
   ]
  },
  {
   "cell_type": "code",
   "execution_count": 27,
   "id": "9f436ef4",
   "metadata": {
    "execution": {
     "iopub.execute_input": "2022-01-31T18:41:12.974113Z",
     "iopub.status.busy": "2022-01-31T18:41:12.973504Z",
     "iopub.status.idle": "2022-01-31T18:41:12.985596Z",
     "shell.execute_reply": "2022-01-31T18:41:12.986142Z",
     "shell.execute_reply.started": "2022-01-31T18:35:08.769817Z"
    },
    "papermill": {
     "duration": 0.060565,
     "end_time": "2022-01-31T18:41:12.986307",
     "exception": false,
     "start_time": "2022-01-31T18:41:12.925742",
     "status": "completed"
    },
    "tags": []
   },
   "outputs": [
    {
     "data": {
      "text/html": [
       "<div>\n",
       "<style scoped>\n",
       "    .dataframe tbody tr th:only-of-type {\n",
       "        vertical-align: middle;\n",
       "    }\n",
       "\n",
       "    .dataframe tbody tr th {\n",
       "        vertical-align: top;\n",
       "    }\n",
       "\n",
       "    .dataframe thead th {\n",
       "        text-align: right;\n",
       "    }\n",
       "</style>\n",
       "<table border=\"1\" class=\"dataframe\">\n",
       "  <thead>\n",
       "    <tr style=\"text-align: right;\">\n",
       "      <th></th>\n",
       "      <th>Survived</th>\n",
       "      <th>Pclass</th>\n",
       "      <th>Name</th>\n",
       "      <th>Sex</th>\n",
       "      <th>Age</th>\n",
       "      <th>SibSp</th>\n",
       "      <th>Parch</th>\n",
       "      <th>Ticket</th>\n",
       "      <th>Fare</th>\n",
       "      <th>Embarked</th>\n",
       "    </tr>\n",
       "  </thead>\n",
       "  <tbody>\n",
       "    <tr>\n",
       "      <th>0</th>\n",
       "      <td>0</td>\n",
       "      <td>3</td>\n",
       "      <td>Braund, Mr. Owen Harris</td>\n",
       "      <td>male</td>\n",
       "      <td>22.0</td>\n",
       "      <td>1</td>\n",
       "      <td>0</td>\n",
       "      <td>A/5 21171</td>\n",
       "      <td>7.2500</td>\n",
       "      <td>S</td>\n",
       "    </tr>\n",
       "    <tr>\n",
       "      <th>1</th>\n",
       "      <td>1</td>\n",
       "      <td>1</td>\n",
       "      <td>Cumings, Mrs. John Bradley (Florence Briggs Th...</td>\n",
       "      <td>female</td>\n",
       "      <td>38.0</td>\n",
       "      <td>1</td>\n",
       "      <td>0</td>\n",
       "      <td>PC 17599</td>\n",
       "      <td>71.2833</td>\n",
       "      <td>C</td>\n",
       "    </tr>\n",
       "    <tr>\n",
       "      <th>2</th>\n",
       "      <td>1</td>\n",
       "      <td>3</td>\n",
       "      <td>Heikkinen, Miss. Laina</td>\n",
       "      <td>female</td>\n",
       "      <td>26.0</td>\n",
       "      <td>0</td>\n",
       "      <td>0</td>\n",
       "      <td>STON/O2. 3101282</td>\n",
       "      <td>7.9250</td>\n",
       "      <td>S</td>\n",
       "    </tr>\n",
       "    <tr>\n",
       "      <th>3</th>\n",
       "      <td>1</td>\n",
       "      <td>1</td>\n",
       "      <td>Futrelle, Mrs. Jacques Heath (Lily May Peel)</td>\n",
       "      <td>female</td>\n",
       "      <td>35.0</td>\n",
       "      <td>1</td>\n",
       "      <td>0</td>\n",
       "      <td>113803</td>\n",
       "      <td>53.1000</td>\n",
       "      <td>S</td>\n",
       "    </tr>\n",
       "    <tr>\n",
       "      <th>4</th>\n",
       "      <td>0</td>\n",
       "      <td>3</td>\n",
       "      <td>Allen, Mr. William Henry</td>\n",
       "      <td>male</td>\n",
       "      <td>35.0</td>\n",
       "      <td>0</td>\n",
       "      <td>0</td>\n",
       "      <td>373450</td>\n",
       "      <td>8.0500</td>\n",
       "      <td>S</td>\n",
       "    </tr>\n",
       "  </tbody>\n",
       "</table>\n",
       "</div>"
      ],
      "text/plain": [
       "   Survived  Pclass                                               Name  \\\n",
       "0         0       3                            Braund, Mr. Owen Harris   \n",
       "1         1       1  Cumings, Mrs. John Bradley (Florence Briggs Th...   \n",
       "2         1       3                             Heikkinen, Miss. Laina   \n",
       "3         1       1       Futrelle, Mrs. Jacques Heath (Lily May Peel)   \n",
       "4         0       3                           Allen, Mr. William Henry   \n",
       "\n",
       "      Sex   Age  SibSp  Parch            Ticket     Fare Embarked  \n",
       "0    male  22.0      1      0         A/5 21171   7.2500        S  \n",
       "1  female  38.0      1      0          PC 17599  71.2833        C  \n",
       "2  female  26.0      0      0  STON/O2. 3101282   7.9250        S  \n",
       "3  female  35.0      1      0            113803  53.1000        S  \n",
       "4    male  35.0      0      0            373450   8.0500        S  "
      ]
     },
     "execution_count": 27,
     "metadata": {},
     "output_type": "execute_result"
    }
   ],
   "source": [
    "data.head()"
   ]
  },
  {
   "cell_type": "code",
   "execution_count": 28,
   "id": "335af2bf",
   "metadata": {
    "execution": {
     "iopub.execute_input": "2022-01-31T18:41:13.082484Z",
     "iopub.status.busy": "2022-01-31T18:41:13.081870Z",
     "iopub.status.idle": "2022-01-31T18:41:13.086080Z",
     "shell.execute_reply": "2022-01-31T18:41:13.086573Z",
     "shell.execute_reply.started": "2022-01-31T18:35:08.793771Z"
    },
    "papermill": {
     "duration": 0.054173,
     "end_time": "2022-01-31T18:41:13.086746",
     "exception": false,
     "start_time": "2022-01-31T18:41:13.032573",
     "status": "completed"
    },
    "tags": []
   },
   "outputs": [],
   "source": [
    "data = data.drop(['Name','Ticket'],axis=1)"
   ]
  },
  {
   "cell_type": "code",
   "execution_count": 29,
   "id": "0ed34dae",
   "metadata": {
    "execution": {
     "iopub.execute_input": "2022-01-31T18:41:13.184055Z",
     "iopub.status.busy": "2022-01-31T18:41:13.183452Z",
     "iopub.status.idle": "2022-01-31T18:41:13.194885Z",
     "shell.execute_reply": "2022-01-31T18:41:13.195365Z",
     "shell.execute_reply.started": "2022-01-31T18:35:08.800787Z"
    },
    "papermill": {
     "duration": 0.061739,
     "end_time": "2022-01-31T18:41:13.195521",
     "exception": false,
     "start_time": "2022-01-31T18:41:13.133782",
     "status": "completed"
    },
    "tags": []
   },
   "outputs": [
    {
     "data": {
      "text/html": [
       "<div>\n",
       "<style scoped>\n",
       "    .dataframe tbody tr th:only-of-type {\n",
       "        vertical-align: middle;\n",
       "    }\n",
       "\n",
       "    .dataframe tbody tr th {\n",
       "        vertical-align: top;\n",
       "    }\n",
       "\n",
       "    .dataframe thead th {\n",
       "        text-align: right;\n",
       "    }\n",
       "</style>\n",
       "<table border=\"1\" class=\"dataframe\">\n",
       "  <thead>\n",
       "    <tr style=\"text-align: right;\">\n",
       "      <th></th>\n",
       "      <th>Survived</th>\n",
       "      <th>Pclass</th>\n",
       "      <th>Sex</th>\n",
       "      <th>Age</th>\n",
       "      <th>SibSp</th>\n",
       "      <th>Parch</th>\n",
       "      <th>Fare</th>\n",
       "      <th>Embarked</th>\n",
       "    </tr>\n",
       "  </thead>\n",
       "  <tbody>\n",
       "    <tr>\n",
       "      <th>0</th>\n",
       "      <td>0</td>\n",
       "      <td>3</td>\n",
       "      <td>male</td>\n",
       "      <td>22.0</td>\n",
       "      <td>1</td>\n",
       "      <td>0</td>\n",
       "      <td>7.2500</td>\n",
       "      <td>S</td>\n",
       "    </tr>\n",
       "    <tr>\n",
       "      <th>1</th>\n",
       "      <td>1</td>\n",
       "      <td>1</td>\n",
       "      <td>female</td>\n",
       "      <td>38.0</td>\n",
       "      <td>1</td>\n",
       "      <td>0</td>\n",
       "      <td>71.2833</td>\n",
       "      <td>C</td>\n",
       "    </tr>\n",
       "    <tr>\n",
       "      <th>2</th>\n",
       "      <td>1</td>\n",
       "      <td>3</td>\n",
       "      <td>female</td>\n",
       "      <td>26.0</td>\n",
       "      <td>0</td>\n",
       "      <td>0</td>\n",
       "      <td>7.9250</td>\n",
       "      <td>S</td>\n",
       "    </tr>\n",
       "    <tr>\n",
       "      <th>3</th>\n",
       "      <td>1</td>\n",
       "      <td>1</td>\n",
       "      <td>female</td>\n",
       "      <td>35.0</td>\n",
       "      <td>1</td>\n",
       "      <td>0</td>\n",
       "      <td>53.1000</td>\n",
       "      <td>S</td>\n",
       "    </tr>\n",
       "    <tr>\n",
       "      <th>4</th>\n",
       "      <td>0</td>\n",
       "      <td>3</td>\n",
       "      <td>male</td>\n",
       "      <td>35.0</td>\n",
       "      <td>0</td>\n",
       "      <td>0</td>\n",
       "      <td>8.0500</td>\n",
       "      <td>S</td>\n",
       "    </tr>\n",
       "  </tbody>\n",
       "</table>\n",
       "</div>"
      ],
      "text/plain": [
       "   Survived  Pclass     Sex   Age  SibSp  Parch     Fare Embarked\n",
       "0         0       3    male  22.0      1      0   7.2500        S\n",
       "1         1       1  female  38.0      1      0  71.2833        C\n",
       "2         1       3  female  26.0      0      0   7.9250        S\n",
       "3         1       1  female  35.0      1      0  53.1000        S\n",
       "4         0       3    male  35.0      0      0   8.0500        S"
      ]
     },
     "execution_count": 29,
     "metadata": {},
     "output_type": "execute_result"
    }
   ],
   "source": [
    "data.head()"
   ]
  },
  {
   "cell_type": "code",
   "execution_count": 30,
   "id": "7c2db44c",
   "metadata": {
    "execution": {
     "iopub.execute_input": "2022-01-31T18:41:13.293228Z",
     "iopub.status.busy": "2022-01-31T18:41:13.292639Z",
     "iopub.status.idle": "2022-01-31T18:41:13.296310Z",
     "shell.execute_reply": "2022-01-31T18:41:13.296778Z",
     "shell.execute_reply.started": "2022-01-31T18:35:08.824537Z"
    },
    "papermill": {
     "duration": 0.054543,
     "end_time": "2022-01-31T18:41:13.296940",
     "exception": false,
     "start_time": "2022-01-31T18:41:13.242397",
     "status": "completed"
    },
    "tags": []
   },
   "outputs": [],
   "source": [
    "def LABEL_ENCODING(c1):\n",
    "    from sklearn import preprocessing\n",
    "    label_encoder = preprocessing.LabelEncoder()\n",
    "    data[c1]= label_encoder.fit_transform(data[c1])\n",
    "    data[c1].unique()"
   ]
  },
  {
   "cell_type": "code",
   "execution_count": 31,
   "id": "846d8694",
   "metadata": {
    "execution": {
     "iopub.execute_input": "2022-01-31T18:41:13.392791Z",
     "iopub.status.busy": "2022-01-31T18:41:13.392231Z",
     "iopub.status.idle": "2022-01-31T18:41:13.536983Z",
     "shell.execute_reply": "2022-01-31T18:41:13.536506Z",
     "shell.execute_reply.started": "2022-01-31T18:35:08.837681Z"
    },
    "papermill": {
     "duration": 0.193859,
     "end_time": "2022-01-31T18:41:13.537119",
     "exception": false,
     "start_time": "2022-01-31T18:41:13.343260",
     "status": "completed"
    },
    "tags": []
   },
   "outputs": [
    {
     "data": {
      "text/html": [
       "<div>\n",
       "<style scoped>\n",
       "    .dataframe tbody tr th:only-of-type {\n",
       "        vertical-align: middle;\n",
       "    }\n",
       "\n",
       "    .dataframe tbody tr th {\n",
       "        vertical-align: top;\n",
       "    }\n",
       "\n",
       "    .dataframe thead th {\n",
       "        text-align: right;\n",
       "    }\n",
       "</style>\n",
       "<table border=\"1\" class=\"dataframe\">\n",
       "  <thead>\n",
       "    <tr style=\"text-align: right;\">\n",
       "      <th></th>\n",
       "      <th>Survived</th>\n",
       "      <th>Pclass</th>\n",
       "      <th>Sex</th>\n",
       "      <th>Age</th>\n",
       "      <th>SibSp</th>\n",
       "      <th>Parch</th>\n",
       "      <th>Fare</th>\n",
       "      <th>Embarked</th>\n",
       "    </tr>\n",
       "  </thead>\n",
       "  <tbody>\n",
       "    <tr>\n",
       "      <th>0</th>\n",
       "      <td>0</td>\n",
       "      <td>3</td>\n",
       "      <td>1</td>\n",
       "      <td>22.000000</td>\n",
       "      <td>1</td>\n",
       "      <td>0</td>\n",
       "      <td>7.2500</td>\n",
       "      <td>2</td>\n",
       "    </tr>\n",
       "    <tr>\n",
       "      <th>1</th>\n",
       "      <td>1</td>\n",
       "      <td>1</td>\n",
       "      <td>0</td>\n",
       "      <td>38.000000</td>\n",
       "      <td>1</td>\n",
       "      <td>0</td>\n",
       "      <td>71.2833</td>\n",
       "      <td>0</td>\n",
       "    </tr>\n",
       "    <tr>\n",
       "      <th>2</th>\n",
       "      <td>1</td>\n",
       "      <td>3</td>\n",
       "      <td>0</td>\n",
       "      <td>26.000000</td>\n",
       "      <td>0</td>\n",
       "      <td>0</td>\n",
       "      <td>7.9250</td>\n",
       "      <td>2</td>\n",
       "    </tr>\n",
       "    <tr>\n",
       "      <th>3</th>\n",
       "      <td>1</td>\n",
       "      <td>1</td>\n",
       "      <td>0</td>\n",
       "      <td>35.000000</td>\n",
       "      <td>1</td>\n",
       "      <td>0</td>\n",
       "      <td>53.1000</td>\n",
       "      <td>2</td>\n",
       "    </tr>\n",
       "    <tr>\n",
       "      <th>4</th>\n",
       "      <td>0</td>\n",
       "      <td>3</td>\n",
       "      <td>1</td>\n",
       "      <td>35.000000</td>\n",
       "      <td>0</td>\n",
       "      <td>0</td>\n",
       "      <td>8.0500</td>\n",
       "      <td>2</td>\n",
       "    </tr>\n",
       "    <tr>\n",
       "      <th>...</th>\n",
       "      <td>...</td>\n",
       "      <td>...</td>\n",
       "      <td>...</td>\n",
       "      <td>...</td>\n",
       "      <td>...</td>\n",
       "      <td>...</td>\n",
       "      <td>...</td>\n",
       "      <td>...</td>\n",
       "    </tr>\n",
       "    <tr>\n",
       "      <th>886</th>\n",
       "      <td>0</td>\n",
       "      <td>2</td>\n",
       "      <td>1</td>\n",
       "      <td>27.000000</td>\n",
       "      <td>0</td>\n",
       "      <td>0</td>\n",
       "      <td>13.0000</td>\n",
       "      <td>2</td>\n",
       "    </tr>\n",
       "    <tr>\n",
       "      <th>887</th>\n",
       "      <td>1</td>\n",
       "      <td>1</td>\n",
       "      <td>0</td>\n",
       "      <td>19.000000</td>\n",
       "      <td>0</td>\n",
       "      <td>0</td>\n",
       "      <td>30.0000</td>\n",
       "      <td>2</td>\n",
       "    </tr>\n",
       "    <tr>\n",
       "      <th>888</th>\n",
       "      <td>0</td>\n",
       "      <td>3</td>\n",
       "      <td>0</td>\n",
       "      <td>29.699118</td>\n",
       "      <td>1</td>\n",
       "      <td>2</td>\n",
       "      <td>23.4500</td>\n",
       "      <td>2</td>\n",
       "    </tr>\n",
       "    <tr>\n",
       "      <th>889</th>\n",
       "      <td>1</td>\n",
       "      <td>1</td>\n",
       "      <td>1</td>\n",
       "      <td>26.000000</td>\n",
       "      <td>0</td>\n",
       "      <td>0</td>\n",
       "      <td>30.0000</td>\n",
       "      <td>0</td>\n",
       "    </tr>\n",
       "    <tr>\n",
       "      <th>890</th>\n",
       "      <td>0</td>\n",
       "      <td>3</td>\n",
       "      <td>1</td>\n",
       "      <td>32.000000</td>\n",
       "      <td>0</td>\n",
       "      <td>0</td>\n",
       "      <td>7.7500</td>\n",
       "      <td>1</td>\n",
       "    </tr>\n",
       "  </tbody>\n",
       "</table>\n",
       "<p>889 rows × 8 columns</p>\n",
       "</div>"
      ],
      "text/plain": [
       "     Survived  Pclass  Sex        Age  SibSp  Parch     Fare  Embarked\n",
       "0           0       3    1  22.000000      1      0   7.2500         2\n",
       "1           1       1    0  38.000000      1      0  71.2833         0\n",
       "2           1       3    0  26.000000      0      0   7.9250         2\n",
       "3           1       1    0  35.000000      1      0  53.1000         2\n",
       "4           0       3    1  35.000000      0      0   8.0500         2\n",
       "..        ...     ...  ...        ...    ...    ...      ...       ...\n",
       "886         0       2    1  27.000000      0      0  13.0000         2\n",
       "887         1       1    0  19.000000      0      0  30.0000         2\n",
       "888         0       3    0  29.699118      1      2  23.4500         2\n",
       "889         1       1    1  26.000000      0      0  30.0000         0\n",
       "890         0       3    1  32.000000      0      0   7.7500         1\n",
       "\n",
       "[889 rows x 8 columns]"
      ]
     },
     "execution_count": 31,
     "metadata": {},
     "output_type": "execute_result"
    }
   ],
   "source": [
    "LABEL_ENCODING(\"Sex\")\n",
    "LABEL_ENCODING(\"Embarked\")\n",
    "data"
   ]
  },
  {
   "cell_type": "code",
   "execution_count": 32,
   "id": "4a2e0a6d",
   "metadata": {
    "execution": {
     "iopub.execute_input": "2022-01-31T18:41:13.633199Z",
     "iopub.status.busy": "2022-01-31T18:41:13.632666Z",
     "iopub.status.idle": "2022-01-31T18:41:13.637230Z",
     "shell.execute_reply": "2022-01-31T18:41:13.637667Z",
     "shell.execute_reply.started": "2022-01-31T18:35:08.864724Z"
    },
    "papermill": {
     "duration": 0.053812,
     "end_time": "2022-01-31T18:41:13.637828",
     "exception": false,
     "start_time": "2022-01-31T18:41:13.584016",
     "status": "completed"
    },
    "tags": []
   },
   "outputs": [],
   "source": [
    "x = data.drop('Survived',axis=1)\n",
    "y = data['Survived']"
   ]
  },
  {
   "cell_type": "code",
   "execution_count": 33,
   "id": "4e9aaa3a",
   "metadata": {
    "execution": {
     "iopub.execute_input": "2022-01-31T18:41:13.733590Z",
     "iopub.status.busy": "2022-01-31T18:41:13.732914Z",
     "iopub.status.idle": "2022-01-31T18:41:13.737099Z",
     "shell.execute_reply": "2022-01-31T18:41:13.737538Z",
     "shell.execute_reply.started": "2022-01-31T18:35:08.878665Z"
    },
    "papermill": {
     "duration": 0.053685,
     "end_time": "2022-01-31T18:41:13.737700",
     "exception": false,
     "start_time": "2022-01-31T18:41:13.684015",
     "status": "completed"
    },
    "tags": []
   },
   "outputs": [
    {
     "name": "stdout",
     "output_type": "stream",
     "text": [
      "(889, 7)\n",
      "(889,)\n"
     ]
    }
   ],
   "source": [
    "print(x.shape)\n",
    "print(y.shape)"
   ]
  },
  {
   "cell_type": "code",
   "execution_count": 34,
   "id": "a9960808",
   "metadata": {
    "execution": {
     "iopub.execute_input": "2022-01-31T18:41:13.864995Z",
     "iopub.status.busy": "2022-01-31T18:41:13.864112Z",
     "iopub.status.idle": "2022-01-31T18:41:13.919638Z",
     "shell.execute_reply": "2022-01-31T18:41:13.920316Z",
     "shell.execute_reply.started": "2022-01-31T18:35:08.889448Z"
    },
    "papermill": {
     "duration": 0.125718,
     "end_time": "2022-01-31T18:41:13.920561",
     "exception": false,
     "start_time": "2022-01-31T18:41:13.794843",
     "status": "completed"
    },
    "tags": []
   },
   "outputs": [],
   "source": [
    "from sklearn.model_selection import train_test_split\n",
    "X_train, X_test, y_train, y_test = train_test_split(x, y, test_size = 0.25, random_state = 0)"
   ]
  },
  {
   "cell_type": "code",
   "execution_count": 35,
   "id": "3736ddea",
   "metadata": {
    "execution": {
     "iopub.execute_input": "2022-01-31T18:41:14.033816Z",
     "iopub.status.busy": "2022-01-31T18:41:14.032855Z",
     "iopub.status.idle": "2022-01-31T18:41:14.045749Z",
     "shell.execute_reply": "2022-01-31T18:41:14.046223Z",
     "shell.execute_reply.started": "2022-01-31T18:35:08.906855Z"
    },
    "papermill": {
     "duration": 0.069129,
     "end_time": "2022-01-31T18:41:14.046411",
     "exception": false,
     "start_time": "2022-01-31T18:41:13.977282",
     "status": "completed"
    },
    "tags": []
   },
   "outputs": [
    {
     "name": "stdout",
     "output_type": "stream",
     "text": [
      "(666, 7)\n",
      "(223, 7)\n",
      "(666,)\n",
      "(223,)\n"
     ]
    }
   ],
   "source": [
    "print(X_train.shape)\n",
    "print(X_test.shape)\n",
    "print(y_train.shape)\n",
    "print(y_test.shape)"
   ]
  },
  {
   "cell_type": "markdown",
   "id": "0958ccd0",
   "metadata": {
    "papermill": {
     "duration": 0.048635,
     "end_time": "2022-01-31T18:41:14.150044",
     "exception": false,
     "start_time": "2022-01-31T18:41:14.101409",
     "status": "completed"
    },
    "tags": []
   },
   "source": [
    "# Feature Scaling"
   ]
  },
  {
   "cell_type": "code",
   "execution_count": 36,
   "id": "b179da1e",
   "metadata": {
    "execution": {
     "iopub.execute_input": "2022-01-31T18:41:14.248987Z",
     "iopub.status.busy": "2022-01-31T18:41:14.248091Z",
     "iopub.status.idle": "2022-01-31T18:41:14.257072Z",
     "shell.execute_reply": "2022-01-31T18:41:14.257593Z",
     "shell.execute_reply.started": "2022-01-31T18:35:08.918979Z"
    },
    "papermill": {
     "duration": 0.060066,
     "end_time": "2022-01-31T18:41:14.257757",
     "exception": false,
     "start_time": "2022-01-31T18:41:14.197691",
     "status": "completed"
    },
    "tags": []
   },
   "outputs": [],
   "source": [
    "from sklearn.preprocessing import StandardScaler\n",
    "sc = StandardScaler()\n",
    "X_train = sc.fit_transform(X_train)\n",
    "X_test = sc.transform(X_test)"
   ]
  },
  {
   "cell_type": "code",
   "execution_count": 37,
   "id": "aa8d6dde",
   "metadata": {
    "execution": {
     "iopub.execute_input": "2022-01-31T18:41:14.356160Z",
     "iopub.status.busy": "2022-01-31T18:41:14.355246Z",
     "iopub.status.idle": "2022-01-31T18:41:14.360877Z",
     "shell.execute_reply": "2022-01-31T18:41:14.361419Z",
     "shell.execute_reply.started": "2022-01-31T18:35:08.935298Z"
    },
    "papermill": {
     "duration": 0.056254,
     "end_time": "2022-01-31T18:41:14.361588",
     "exception": false,
     "start_time": "2022-01-31T18:41:14.305334",
     "status": "completed"
    },
    "tags": []
   },
   "outputs": [
    {
     "data": {
      "text/plain": [
       "array([[-1.59818359, -1.37682685,  0.11800941, ...,  1.94945952,\n",
       "         2.55976732,  0.59092333],\n",
       "       [-0.38864919,  0.72630774,  0.73514294, ..., -0.45933462,\n",
       "        -0.11727423,  0.59092333],\n",
       "       [ 0.82088521, -1.37682685,  0.01765715, ..., -0.45933462,\n",
       "        -0.30812424,  0.59092333],\n",
       "       ...,\n",
       "       [-1.59818359,  0.72630774,  2.97225197, ..., -0.45933462,\n",
       "        -0.04016311,  0.59092333],\n",
       "       [ 0.82088521,  0.72630774,  0.01765715, ..., -0.45933462,\n",
       "        -0.4690937 , -0.66243635],\n",
       "       [-0.38864919,  0.72630774, -0.34484073, ...,  1.94945952,\n",
       "         0.18305814, -1.91579602]])"
      ]
     },
     "execution_count": 37,
     "metadata": {},
     "output_type": "execute_result"
    }
   ],
   "source": [
    "X_train"
   ]
  },
  {
   "cell_type": "markdown",
   "id": "eb625024",
   "metadata": {
    "papermill": {
     "duration": 0.04759,
     "end_time": "2022-01-31T18:41:14.457965",
     "exception": false,
     "start_time": "2022-01-31T18:41:14.410375",
     "status": "completed"
    },
    "tags": []
   },
   "source": [
    "# Logistic Regression"
   ]
  },
  {
   "cell_type": "code",
   "execution_count": 38,
   "id": "7d5842f6",
   "metadata": {
    "execution": {
     "iopub.execute_input": "2022-01-31T18:41:14.558108Z",
     "iopub.status.busy": "2022-01-31T18:41:14.557215Z",
     "iopub.status.idle": "2022-01-31T18:41:14.645081Z",
     "shell.execute_reply": "2022-01-31T18:41:14.644507Z",
     "shell.execute_reply.started": "2022-01-31T18:35:08.943841Z"
    },
    "papermill": {
     "duration": 0.139813,
     "end_time": "2022-01-31T18:41:14.645221",
     "exception": false,
     "start_time": "2022-01-31T18:41:14.505408",
     "status": "completed"
    },
    "tags": []
   },
   "outputs": [
    {
     "data": {
      "text/plain": [
       "LogisticRegression(random_state=0)"
      ]
     },
     "execution_count": 38,
     "metadata": {},
     "output_type": "execute_result"
    }
   ],
   "source": [
    "from sklearn.linear_model import LogisticRegression\n",
    "classifier = LogisticRegression(random_state = 0)\n",
    "classifier.fit(X_train, y_train)"
   ]
  },
  {
   "cell_type": "code",
   "execution_count": 39,
   "id": "087d66a4",
   "metadata": {
    "execution": {
     "iopub.execute_input": "2022-01-31T18:41:14.745394Z",
     "iopub.status.busy": "2022-01-31T18:41:14.744754Z",
     "iopub.status.idle": "2022-01-31T18:41:14.749780Z",
     "shell.execute_reply": "2022-01-31T18:41:14.750191Z",
     "shell.execute_reply.started": "2022-01-31T18:35:08.963452Z"
    },
    "papermill": {
     "duration": 0.056944,
     "end_time": "2022-01-31T18:41:14.750368",
     "exception": false,
     "start_time": "2022-01-31T18:41:14.693424",
     "status": "completed"
    },
    "tags": []
   },
   "outputs": [
    {
     "data": {
      "text/plain": [
       "array([1, 0, 1, 0, 0, 0, 0, 0, 1, 0, 0, 1, 1, 0, 1, 0, 1, 1, 0, 1, 0, 1,\n",
       "       0, 0, 0, 0, 1, 0, 0, 0, 1, 0, 0, 1, 0, 0, 0, 0, 0, 0, 1, 0, 1, 0,\n",
       "       1, 0, 0, 0, 0, 0, 1, 1, 0, 1, 0, 1, 1, 1, 0, 0, 1, 0, 0, 0, 0, 0,\n",
       "       1, 1, 0, 1, 1, 0, 0, 1, 0, 0, 0, 0, 1, 0, 0, 1, 1, 1, 1, 1, 0, 0,\n",
       "       0, 0, 0, 1, 1, 0, 0, 1, 1, 1, 0, 1, 0, 1, 0, 1, 0, 1, 0, 0, 0, 1,\n",
       "       1, 1, 0, 1, 0, 0, 0, 0, 0, 0, 0, 0, 0, 0, 0, 0, 0, 0, 0, 0, 0, 0,\n",
       "       1, 0, 0, 1, 0, 1, 1, 0, 0, 0, 1, 0, 1, 0, 1, 1, 0, 0, 0, 0, 1, 0,\n",
       "       0, 0, 1, 1, 1, 0, 0, 0, 1, 0, 0, 1, 0, 1, 0, 1, 0, 0, 0, 0, 0, 0,\n",
       "       1, 1, 0, 1, 0, 1, 1, 0, 0, 0, 0, 0, 1, 0, 0, 0, 0, 0, 0, 0, 0, 0,\n",
       "       0, 0, 1, 1, 1, 0, 1, 1, 0, 1, 0, 0, 1, 1, 0, 1, 1, 0, 1, 0, 1, 1,\n",
       "       1, 0, 1])"
      ]
     },
     "execution_count": 39,
     "metadata": {},
     "output_type": "execute_result"
    }
   ],
   "source": [
    "y_pred = classifier.predict(X_test)\n",
    "y_pred"
   ]
  },
  {
   "cell_type": "code",
   "execution_count": 40,
   "id": "712a7e5e",
   "metadata": {
    "execution": {
     "iopub.execute_input": "2022-01-31T18:41:14.848949Z",
     "iopub.status.busy": "2022-01-31T18:41:14.848374Z",
     "iopub.status.idle": "2022-01-31T18:41:14.854689Z",
     "shell.execute_reply": "2022-01-31T18:41:14.853908Z",
     "shell.execute_reply.started": "2022-01-31T18:35:08.971341Z"
    },
    "papermill": {
     "duration": 0.056593,
     "end_time": "2022-01-31T18:41:14.854867",
     "exception": false,
     "start_time": "2022-01-31T18:41:14.798274",
     "status": "completed"
    },
    "tags": []
   },
   "outputs": [
    {
     "name": "stdout",
     "output_type": "stream",
     "text": [
      "Accuracy score: 0.7533632286995515\n"
     ]
    }
   ],
   "source": [
    "from sklearn.metrics import accuracy_score\n",
    "acc1 = accuracy_score(y_test, y_pred)\n",
    "print(f\"Accuracy score: {acc1}\")"
   ]
  },
  {
   "cell_type": "markdown",
   "id": "22d1877c",
   "metadata": {
    "papermill": {
     "duration": 0.049653,
     "end_time": "2022-01-31T18:41:14.953327",
     "exception": false,
     "start_time": "2022-01-31T18:41:14.903674",
     "status": "completed"
    },
    "tags": []
   },
   "source": [
    "# SVM"
   ]
  },
  {
   "cell_type": "code",
   "execution_count": 41,
   "id": "efc4e763",
   "metadata": {
    "execution": {
     "iopub.execute_input": "2022-01-31T18:41:15.055000Z",
     "iopub.status.busy": "2022-01-31T18:41:15.054369Z",
     "iopub.status.idle": "2022-01-31T18:41:15.075011Z",
     "shell.execute_reply": "2022-01-31T18:41:15.074502Z",
     "shell.execute_reply.started": "2022-01-31T18:35:08.986907Z"
    },
    "papermill": {
     "duration": 0.071235,
     "end_time": "2022-01-31T18:41:15.075233",
     "exception": false,
     "start_time": "2022-01-31T18:41:15.003998",
     "status": "completed"
    },
    "tags": []
   },
   "outputs": [
    {
     "data": {
      "text/plain": [
       "SVC(kernel='linear', random_state=0)"
      ]
     },
     "execution_count": 41,
     "metadata": {},
     "output_type": "execute_result"
    }
   ],
   "source": [
    "from sklearn.svm import SVC\n",
    "classifier = SVC(kernel = 'linear', random_state = 0)\n",
    "classifier.fit(X_train, y_train)\n",
    "SVC(kernel='linear', random_state=0)"
   ]
  },
  {
   "cell_type": "markdown",
   "id": "48024f19",
   "metadata": {
    "papermill": {
     "duration": 0.049455,
     "end_time": "2022-01-31T18:41:15.176280",
     "exception": false,
     "start_time": "2022-01-31T18:41:15.126825",
     "status": "completed"
    },
    "tags": []
   },
   "source": [
    "# Predict the tset set result"
   ]
  },
  {
   "cell_type": "code",
   "execution_count": 42,
   "id": "22e984c9",
   "metadata": {
    "execution": {
     "iopub.execute_input": "2022-01-31T18:41:15.276859Z",
     "iopub.status.busy": "2022-01-31T18:41:15.276266Z",
     "iopub.status.idle": "2022-01-31T18:41:15.280683Z",
     "shell.execute_reply": "2022-01-31T18:41:15.281169Z",
     "shell.execute_reply.started": "2022-01-31T18:35:09.013925Z"
    },
    "papermill": {
     "duration": 0.056232,
     "end_time": "2022-01-31T18:41:15.281335",
     "exception": false,
     "start_time": "2022-01-31T18:41:15.225103",
     "status": "completed"
    },
    "tags": []
   },
   "outputs": [],
   "source": [
    "\n",
    "y_pred = classifier.predict(X_test)\n"
   ]
  },
  {
   "cell_type": "code",
   "execution_count": 43,
   "id": "6aa282b2",
   "metadata": {
    "execution": {
     "iopub.execute_input": "2022-01-31T18:41:15.388578Z",
     "iopub.status.busy": "2022-01-31T18:41:15.387218Z",
     "iopub.status.idle": "2022-01-31T18:41:15.393036Z",
     "shell.execute_reply": "2022-01-31T18:41:15.392554Z",
     "shell.execute_reply.started": "2022-01-31T18:35:09.021196Z"
    },
    "papermill": {
     "duration": 0.060583,
     "end_time": "2022-01-31T18:41:15.393167",
     "exception": false,
     "start_time": "2022-01-31T18:41:15.332584",
     "status": "completed"
    },
    "tags": []
   },
   "outputs": [
    {
     "name": "stdout",
     "output_type": "stream",
     "text": [
      "[[110  22]\n",
      " [ 31  60]]\n"
     ]
    }
   ],
   "source": [
    "from sklearn.metrics import confusion_matrix\n",
    "cm = confusion_matrix(y_test, y_pred)\n",
    "print(cm)"
   ]
  },
  {
   "cell_type": "code",
   "execution_count": 44,
   "id": "000a2405",
   "metadata": {
    "execution": {
     "iopub.execute_input": "2022-01-31T18:41:15.494540Z",
     "iopub.status.busy": "2022-01-31T18:41:15.493937Z",
     "iopub.status.idle": "2022-01-31T18:41:15.499403Z",
     "shell.execute_reply": "2022-01-31T18:41:15.498810Z",
     "shell.execute_reply.started": "2022-01-31T18:35:09.034168Z"
    },
    "papermill": {
     "duration": 0.056776,
     "end_time": "2022-01-31T18:41:15.499538",
     "exception": false,
     "start_time": "2022-01-31T18:41:15.442762",
     "status": "completed"
    },
    "tags": []
   },
   "outputs": [
    {
     "name": "stdout",
     "output_type": "stream",
     "text": [
      "Accuracy score: 0.7623318385650224\n"
     ]
    }
   ],
   "source": [
    "acc2 = accuracy_score(y_test, y_pred)\n",
    "print(f\"Accuracy score: {acc2}\")"
   ]
  },
  {
   "cell_type": "markdown",
   "id": "092427d5",
   "metadata": {
    "papermill": {
     "duration": 0.048295,
     "end_time": "2022-01-31T18:41:15.596767",
     "exception": false,
     "start_time": "2022-01-31T18:41:15.548472",
     "status": "completed"
    },
    "tags": []
   },
   "source": [
    "# Training the K-NN model on the Training set"
   ]
  },
  {
   "cell_type": "code",
   "execution_count": 45,
   "id": "723cf9a8",
   "metadata": {
    "execution": {
     "iopub.execute_input": "2022-01-31T18:41:15.698588Z",
     "iopub.status.busy": "2022-01-31T18:41:15.697928Z",
     "iopub.status.idle": "2022-01-31T18:41:15.767874Z",
     "shell.execute_reply": "2022-01-31T18:41:15.768472Z",
     "shell.execute_reply.started": "2022-01-31T18:35:09.046178Z"
    },
    "papermill": {
     "duration": 0.123232,
     "end_time": "2022-01-31T18:41:15.768635",
     "exception": false,
     "start_time": "2022-01-31T18:41:15.645403",
     "status": "completed"
    },
    "tags": []
   },
   "outputs": [
    {
     "data": {
      "text/plain": [
       "KNeighborsClassifier()"
      ]
     },
     "execution_count": 45,
     "metadata": {},
     "output_type": "execute_result"
    }
   ],
   "source": [
    "from sklearn.neighbors import KNeighborsClassifier\n",
    "classifier = KNeighborsClassifier(n_neighbors = 5, metric = 'minkowski', p = 2)\n",
    "classifier.fit(X_train, y_train)"
   ]
  },
  {
   "cell_type": "code",
   "execution_count": 46,
   "id": "3f0ea406",
   "metadata": {
    "execution": {
     "iopub.execute_input": "2022-01-31T18:41:15.872412Z",
     "iopub.status.busy": "2022-01-31T18:41:15.871452Z",
     "iopub.status.idle": "2022-01-31T18:41:15.877333Z",
     "shell.execute_reply": "2022-01-31T18:41:15.878161Z",
     "shell.execute_reply.started": "2022-01-31T18:35:09.059749Z"
    },
    "papermill": {
     "duration": 0.058869,
     "end_time": "2022-01-31T18:41:15.878386",
     "exception": false,
     "start_time": "2022-01-31T18:41:15.819517",
     "status": "completed"
    },
    "tags": []
   },
   "outputs": [
    {
     "name": "stdout",
     "output_type": "stream",
     "text": [
      "Accuracy score: 0.7623318385650224\n"
     ]
    }
   ],
   "source": [
    "acc3 = accuracy_score(y_test, y_pred)\n",
    "print(f\"Accuracy score: {acc3}\")"
   ]
  },
  {
   "cell_type": "markdown",
   "id": "669db221",
   "metadata": {
    "papermill": {
     "duration": 0.050681,
     "end_time": "2022-01-31T18:41:15.978739",
     "exception": false,
     "start_time": "2022-01-31T18:41:15.928058",
     "status": "completed"
    },
    "tags": []
   },
   "source": [
    "# Training the Naive Bayes on the Training set"
   ]
  },
  {
   "cell_type": "code",
   "execution_count": 47,
   "id": "a5f01d3f",
   "metadata": {
    "execution": {
     "iopub.execute_input": "2022-01-31T18:41:16.079897Z",
     "iopub.status.busy": "2022-01-31T18:41:16.079009Z",
     "iopub.status.idle": "2022-01-31T18:41:16.089718Z",
     "shell.execute_reply": "2022-01-31T18:41:16.089174Z",
     "shell.execute_reply.started": "2022-01-31T18:35:09.068828Z"
    },
    "papermill": {
     "duration": 0.062305,
     "end_time": "2022-01-31T18:41:16.089852",
     "exception": false,
     "start_time": "2022-01-31T18:41:16.027547",
     "status": "completed"
    },
    "tags": []
   },
   "outputs": [
    {
     "data": {
      "text/plain": [
       "GaussianNB()"
      ]
     },
     "execution_count": 47,
     "metadata": {},
     "output_type": "execute_result"
    }
   ],
   "source": [
    "from sklearn.naive_bayes import GaussianNB\n",
    "classifier = GaussianNB()\n",
    "classifier.fit(X_train, y_train)\n",
    "GaussianNB()"
   ]
  },
  {
   "cell_type": "code",
   "execution_count": 48,
   "id": "10dd3ebf",
   "metadata": {
    "execution": {
     "iopub.execute_input": "2022-01-31T18:41:16.195530Z",
     "iopub.status.busy": "2022-01-31T18:41:16.194750Z",
     "iopub.status.idle": "2022-01-31T18:41:16.198189Z",
     "shell.execute_reply": "2022-01-31T18:41:16.198793Z",
     "shell.execute_reply.started": "2022-01-31T18:35:09.083160Z"
    },
    "papermill": {
     "duration": 0.058298,
     "end_time": "2022-01-31T18:41:16.199013",
     "exception": false,
     "start_time": "2022-01-31T18:41:16.140715",
     "status": "completed"
    },
    "tags": []
   },
   "outputs": [
    {
     "name": "stdout",
     "output_type": "stream",
     "text": [
      "Accuracy score : 0.7443946188340808\n"
     ]
    }
   ],
   "source": [
    "y_pred = classifier.predict(X_test)\n",
    "acc4 = accuracy_score(y_test, y_pred)\n",
    "print(f\"Accuracy score : {acc4}\")"
   ]
  },
  {
   "cell_type": "markdown",
   "id": "d74326ed",
   "metadata": {
    "papermill": {
     "duration": 0.049931,
     "end_time": "2022-01-31T18:41:16.299603",
     "exception": false,
     "start_time": "2022-01-31T18:41:16.249672",
     "status": "completed"
    },
    "tags": []
   },
   "source": [
    "# Training Decision Tree Classification on Train set"
   ]
  },
  {
   "cell_type": "code",
   "execution_count": 49,
   "id": "d8a1e5d3",
   "metadata": {
    "execution": {
     "iopub.execute_input": "2022-01-31T18:41:16.402131Z",
     "iopub.status.busy": "2022-01-31T18:41:16.401572Z",
     "iopub.status.idle": "2022-01-31T18:41:16.434604Z",
     "shell.execute_reply": "2022-01-31T18:41:16.435015Z",
     "shell.execute_reply.started": "2022-01-31T18:35:09.095267Z"
    },
    "papermill": {
     "duration": 0.085785,
     "end_time": "2022-01-31T18:41:16.435177",
     "exception": false,
     "start_time": "2022-01-31T18:41:16.349392",
     "status": "completed"
    },
    "tags": []
   },
   "outputs": [
    {
     "data": {
      "text/plain": [
       "DecisionTreeClassifier(criterion='entropy', random_state=0)"
      ]
     },
     "execution_count": 49,
     "metadata": {},
     "output_type": "execute_result"
    }
   ],
   "source": [
    "from sklearn.tree import DecisionTreeClassifier\n",
    "classifier = DecisionTreeClassifier(criterion = 'entropy', random_state = 0)\n",
    "classifier.fit(X_train, y_train)\n",
    "DecisionTreeClassifier(criterion='entropy', random_state=0)"
   ]
  },
  {
   "cell_type": "code",
   "execution_count": 50,
   "id": "25c45c6c",
   "metadata": {
    "execution": {
     "iopub.execute_input": "2022-01-31T18:41:16.540981Z",
     "iopub.status.busy": "2022-01-31T18:41:16.540323Z",
     "iopub.status.idle": "2022-01-31T18:41:16.543327Z",
     "shell.execute_reply": "2022-01-31T18:41:16.543809Z",
     "shell.execute_reply.started": "2022-01-31T18:35:09.113682Z"
    },
    "papermill": {
     "duration": 0.05876,
     "end_time": "2022-01-31T18:41:16.543964",
     "exception": false,
     "start_time": "2022-01-31T18:41:16.485204",
     "status": "completed"
    },
    "tags": []
   },
   "outputs": [
    {
     "name": "stdout",
     "output_type": "stream",
     "text": [
      "Accuracy score: 0.757847533632287\n"
     ]
    }
   ],
   "source": [
    "y_pred = classifier.predict(X_test)\n",
    "acc5 = accuracy_score(y_test, y_pred)\n",
    "print(f\"Accuracy score: {acc5}\")"
   ]
  },
  {
   "cell_type": "code",
   "execution_count": 51,
   "id": "05fefe7c",
   "metadata": {
    "execution": {
     "iopub.execute_input": "2022-01-31T18:41:16.659041Z",
     "iopub.status.busy": "2022-01-31T18:41:16.658195Z",
     "iopub.status.idle": "2022-01-31T18:41:16.710398Z",
     "shell.execute_reply": "2022-01-31T18:41:16.710885Z",
     "shell.execute_reply.started": "2022-01-31T18:35:09.122240Z"
    },
    "papermill": {
     "duration": 0.116487,
     "end_time": "2022-01-31T18:41:16.711055",
     "exception": false,
     "start_time": "2022-01-31T18:41:16.594568",
     "status": "completed"
    },
    "tags": []
   },
   "outputs": [
    {
     "data": {
      "text/plain": [
       "RandomForestClassifier(criterion='entropy', n_estimators=10, random_state=0)"
      ]
     },
     "execution_count": 51,
     "metadata": {},
     "output_type": "execute_result"
    }
   ],
   "source": [
    "from sklearn.ensemble import RandomForestClassifier\n",
    "classifier = RandomForestClassifier(n_estimators = 10, criterion = 'entropy', random_state = 0)\n",
    "classifier.fit(X_train, y_train)"
   ]
  },
  {
   "cell_type": "code",
   "execution_count": 52,
   "id": "86e22bfa",
   "metadata": {
    "execution": {
     "iopub.execute_input": "2022-01-31T18:41:16.819965Z",
     "iopub.status.busy": "2022-01-31T18:41:16.818996Z",
     "iopub.status.idle": "2022-01-31T18:41:16.824849Z",
     "shell.execute_reply": "2022-01-31T18:41:16.825253Z",
     "shell.execute_reply.started": "2022-01-31T18:35:09.154112Z"
    },
    "papermill": {
     "duration": 0.06335,
     "end_time": "2022-01-31T18:41:16.825443",
     "exception": false,
     "start_time": "2022-01-31T18:41:16.762093",
     "status": "completed"
    },
    "tags": []
   },
   "outputs": [
    {
     "name": "stdout",
     "output_type": "stream",
     "text": [
      "[1 0 1 0 0 0 0 1 0 1 0 1 1 0 1 0 1 0 0 1 0 1 1 0 0 0 0 0 1 0 1 0 0 1 0 0 0\n",
      " 0 0 0 1 0 1 0 1 0 0 0 0 0 0 0 0 0 0 1 1 1 0 0 1 0 1 0 0 0 1 1 1 1 1 0 0 0\n",
      " 0 1 0 0 1 0 0 1 1 1 1 0 0 0 0 0 0 1 1 0 1 1 1 1 0 1 0 1 0 1 0 1 0 0 0 1 1\n",
      " 1 0 0 0 0 0 0 0 0 0 0 0 0 0 0 0 0 0 0 0 0 1 0 0 1 0 0 1 0 0 0 1 1 1 0 0 1\n",
      " 0 0 0 0 1 0 0 0 1 1 1 0 0 0 1 0 0 1 0 1 0 1 0 0 0 0 0 0 0 1 0 1 0 1 1 0 0\n",
      " 1 0 0 1 0 0 0 1 0 0 0 0 0 0 0 1 0 1 1 1 1 0 1 0 0 1 1 1 1 1 0 1 0 0 1 1 0\n",
      " 1]\n"
     ]
    }
   ],
   "source": [
    "y_pred = classifier.predict(X_test)\n",
    "print(y_pred)"
   ]
  },
  {
   "cell_type": "code",
   "execution_count": 53,
   "id": "23294525",
   "metadata": {
    "execution": {
     "iopub.execute_input": "2022-01-31T18:41:16.938438Z",
     "iopub.status.busy": "2022-01-31T18:41:16.937385Z",
     "iopub.status.idle": "2022-01-31T18:41:16.942868Z",
     "shell.execute_reply": "2022-01-31T18:41:16.942311Z",
     "shell.execute_reply.started": "2022-01-31T18:35:09.166079Z"
    },
    "papermill": {
     "duration": 0.062377,
     "end_time": "2022-01-31T18:41:16.942999",
     "exception": false,
     "start_time": "2022-01-31T18:41:16.880622",
     "status": "completed"
    },
    "tags": []
   },
   "outputs": [
    {
     "name": "stdout",
     "output_type": "stream",
     "text": [
      "[[114  18]\n",
      " [ 26  65]]\n"
     ]
    }
   ],
   "source": [
    "from sklearn.metrics import confusion_matrix, accuracy_score\n",
    "cm = confusion_matrix(y_test, y_pred)\n",
    "print(cm)\n",
    "acc6 = accuracy_score(y_test, y_pred)"
   ]
  },
  {
   "cell_type": "code",
   "execution_count": 54,
   "id": "538df3df",
   "metadata": {
    "execution": {
     "iopub.execute_input": "2022-01-31T18:41:17.052575Z",
     "iopub.status.busy": "2022-01-31T18:41:17.051823Z",
     "iopub.status.idle": "2022-01-31T18:41:17.055917Z",
     "shell.execute_reply": "2022-01-31T18:41:17.055442Z",
     "shell.execute_reply.started": "2022-01-31T18:35:09.174415Z"
    },
    "papermill": {
     "duration": 0.060099,
     "end_time": "2022-01-31T18:41:17.056048",
     "exception": false,
     "start_time": "2022-01-31T18:41:16.995949",
     "status": "completed"
    },
    "tags": []
   },
   "outputs": [
    {
     "name": "stdout",
     "output_type": "stream",
     "text": [
      "0.8026905829596412\n"
     ]
    }
   ],
   "source": [
    "print(acc6)"
   ]
  },
  {
   "cell_type": "code",
   "execution_count": 55,
   "id": "3b4e4bb7",
   "metadata": {
    "execution": {
     "iopub.execute_input": "2022-01-31T18:41:17.173310Z",
     "iopub.status.busy": "2022-01-31T18:41:17.170574Z",
     "iopub.status.idle": "2022-01-31T18:41:17.425637Z",
     "shell.execute_reply": "2022-01-31T18:41:17.426108Z",
     "shell.execute_reply.started": "2022-01-31T18:35:09.183570Z"
    },
    "papermill": {
     "duration": 0.317381,
     "end_time": "2022-01-31T18:41:17.426267",
     "exception": false,
     "start_time": "2022-01-31T18:41:17.108886",
     "status": "completed"
    },
    "tags": []
   },
   "outputs": [
    {
     "data": {
      "image/png": "[encoded data removed]",
      "text/plain": [
       "<Figure size 576x432 with 1 Axes>"
      ]
     },
     "metadata": {},
     "output_type": "display_data"
    }
   ],
   "source": [
    "mylist=[]\n",
    "mylist2=[]\n",
    "mylist.append(acc1)\n",
    "mylist2.append(\"Logistic Regression\")\n",
    "mylist.append(acc2)\n",
    "mylist2.append(\"SVM\")\n",
    "mylist.append(acc3)\n",
    "mylist2.append(\"KNN\")\n",
    "mylist.append(acc4)\n",
    "mylist2.append(\"Naive Bayes\")\n",
    "mylist.append(acc5)\n",
    "mylist2.append(\"DTR\")\n",
    "mylist.append(acc6)\n",
    "mylist2.append(\"Random Forest Classifer\")\n",
    "plt.rcParams['figure.figsize']=8,6\n",
    "sns.set_style(\"darkgrid\")\n",
    "ax = sns.barplot(x=mylist2, y=mylist, palette = \"ch:s=-.2,r=.6\", saturation =1.5)\n",
    "plt.xlabel(\"Classification Models\", fontsize = 20 )\n",
    "plt.ylabel(\"Accuracy\", fontsize = 20)\n",
    "plt.title(\"Accuracy of different Classification Models\", fontsize = 20)\n",
    "plt.xticks(fontsize = 11, horizontalalignment = 'center', rotation = 8)\n",
    "plt.yticks(fontsize = 13)\n",
    "for p in ax.patches:\n",
    "    width, height = p.get_width(), p.get_height()\n",
    "    x, y = p.get_xy() \n",
    "    ax.annotate(f'{height:.2%}', (x + width/2, y + height*1.02), ha='center', fontsize = 'x-large')\n",
    "plt.show()"
   ]
  }
 ],
 "metadata": {
  "kernelspec": {
   "display_name": "Python 3",
   "language": "python",
   "name": "python3"
  },
  "language_info": {
   "codemirror_mode": {
    "name": "ipython",
    "version": 3
   },
   "file_extension": ".py",
   "mimetype": "text/x-python",
   "name": "python",
   "nbconvert_exporter": "python",
   "pygments_lexer": "ipython3",
   "version": "3.7.12"
  },
  "papermill": {
   "default_parameters": {},
   "duration": 20.490794,
   "end_time": "2022-01-31T18:41:18.189432",
   "environment_variables": {},
   "exception": null,
   "input_path": "__notebook__.ipynb",
   "output_path": "__notebook__.ipynb",
   "parameters": {},
   "start_time": "2022-01-31T18:40:57.698638",
   "version": "2.3.3"
  }
 },
 "nbformat": 4,
 "nbformat_minor": 5
}
