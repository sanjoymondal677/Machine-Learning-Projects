{
 "cells": [
  {
   "cell_type": "code",
   "execution_count": 1,
   "id": "db43f554",
   "metadata": {
    "_cell_guid": "b1076dfc-b9ad-4769-8c92-a6c4dae69d19",
    "_uuid": "8f2839f25d086af736a60e9eeb907d3b93b6e0e5",
    "execution": {
     "iopub.execute_input": "2022-01-28T17:36:28.253945Z",
     "iopub.status.busy": "2022-01-28T17:36:28.252145Z",
     "iopub.status.idle": "2022-01-28T17:36:28.273945Z",
     "shell.execute_reply": "2022-01-28T17:36:28.274754Z",
     "shell.execute_reply.started": "2022-01-28T17:01:08.257298Z"
    },
    "papermill": {
     "duration": 0.072542,
     "end_time": "2022-01-28T17:36:28.275135",
     "exception": false,
     "start_time": "2022-01-28T17:36:28.202593",
     "status": "completed"
    },
    "tags": []
   },
   "outputs": [
    {
     "name": "stdout",
     "output_type": "stream",
     "text": [
      "/kaggle/input/brain-tumor/data.csv\n"
     ]
    }
   ],
   "source": [
    "# This Python 3 environment comes with many helpful analytics libraries installed\n",
    "# It is defined by the kaggle/python Docker image: https://github.com/kaggle/docker-python\n",
    "# For example, here's several helpful packages to load\n",
    "\n",
    "import numpy as np # linear algebra\n",
    "import pandas as pd # data processing, CSV file I/O (e.g. pd.read_csv)\n",
    "\n",
    "# Input data files are available in the read-only \"../input/\" directory\n",
    "# For example, running this (by clicking run or pressing Shift+Enter) will list all files under the input directory\n",
    "\n",
    "import os\n",
    "for dirname, _, filenames in os.walk('/kaggle/input'):\n",
    "    for filename in filenames:\n",
    "        print(os.path.join(dirname, filename))\n",
    "\n",
    "# You can write up to 20GB to the current directory (/kaggle/working/) that gets preserved as output when you create a version using \"Save & Run All\" \n",
    "# You can also write temporary files to /kaggle/temp/, but they won't be saved outside of the current session"
   ]
  },
  {
   "cell_type": "markdown",
   "id": "e080a8b4",
   "metadata": {
    "papermill": {
     "duration": 0.044115,
     "end_time": "2022-01-28T17:36:28.364920",
     "exception": false,
     "start_time": "2022-01-28T17:36:28.320805",
     "status": "completed"
    },
    "tags": []
   },
   "source": [
    "# import the libraries"
   ]
  },
  {
   "cell_type": "code",
   "execution_count": 2,
   "id": "21e950fa",
   "metadata": {
    "execution": {
     "iopub.execute_input": "2022-01-28T17:36:28.457512Z",
     "iopub.status.busy": "2022-01-28T17:36:28.456911Z",
     "iopub.status.idle": "2022-01-28T17:36:29.474217Z",
     "shell.execute_reply": "2022-01-28T17:36:29.473618Z",
     "shell.execute_reply.started": "2022-01-28T17:01:08.275887Z"
    },
    "papermill": {
     "duration": 1.063602,
     "end_time": "2022-01-28T17:36:29.474357",
     "exception": false,
     "start_time": "2022-01-28T17:36:28.410755",
     "status": "completed"
    },
    "tags": []
   },
   "outputs": [],
   "source": [
    "import numpy as np\n",
    "import pandas as pd\n",
    "import matplotlib.pyplot as plt\n",
    "import seaborn as sns"
   ]
  },
  {
   "cell_type": "code",
   "execution_count": 3,
   "id": "e0b70977",
   "metadata": {
    "execution": {
     "iopub.execute_input": "2022-01-28T17:36:29.565068Z",
     "iopub.status.busy": "2022-01-28T17:36:29.564427Z",
     "iopub.status.idle": "2022-01-28T17:36:29.899154Z",
     "shell.execute_reply": "2022-01-28T17:36:29.899768Z",
     "shell.execute_reply.started": "2022-01-28T17:01:08.285024Z"
    },
    "papermill": {
     "duration": 0.381645,
     "end_time": "2022-01-28T17:36:29.899950",
     "exception": false,
     "start_time": "2022-01-28T17:36:29.518305",
     "status": "completed"
    },
    "tags": []
   },
   "outputs": [],
   "source": [
    "#Load the dataset\n",
    "data = pd.read_csv(\"../input/brain-tumor/data.csv\")"
   ]
  },
  {
   "cell_type": "code",
   "execution_count": 4,
   "id": "a3a04a39",
   "metadata": {
    "execution": {
     "iopub.execute_input": "2022-01-28T17:36:29.997282Z",
     "iopub.status.busy": "2022-01-28T17:36:29.996633Z",
     "iopub.status.idle": "2022-01-28T17:36:30.021026Z",
     "shell.execute_reply": "2022-01-28T17:36:30.020490Z",
     "shell.execute_reply.started": "2022-01-28T17:01:08.618697Z"
    },
    "papermill": {
     "duration": 0.076337,
     "end_time": "2022-01-28T17:36:30.021171",
     "exception": false,
     "start_time": "2022-01-28T17:36:29.944834",
     "status": "completed"
    },
    "tags": []
   },
   "outputs": [
    {
     "data": {
      "text/html": [
       "<div>\n",
       "<style scoped>\n",
       "    .dataframe tbody tr th:only-of-type {\n",
       "        vertical-align: middle;\n",
       "    }\n",
       "\n",
       "    .dataframe tbody tr th {\n",
       "        vertical-align: top;\n",
       "    }\n",
       "\n",
       "    .dataframe thead th {\n",
       "        text-align: right;\n",
       "    }\n",
       "</style>\n",
       "<table border=\"1\" class=\"dataframe\">\n",
       "  <thead>\n",
       "    <tr style=\"text-align: right;\">\n",
       "      <th></th>\n",
       "      <th>Unnamed: 0</th>\n",
       "      <th>X53416</th>\n",
       "      <th>M83670</th>\n",
       "      <th>X90908</th>\n",
       "      <th>M97496</th>\n",
       "      <th>X90908.1</th>\n",
       "      <th>U37019</th>\n",
       "      <th>R48602</th>\n",
       "      <th>T96548</th>\n",
       "      <th>X64559</th>\n",
       "      <th>...</th>\n",
       "      <th>H87456</th>\n",
       "      <th>R64130</th>\n",
       "      <th>H11125.1</th>\n",
       "      <th>U22055</th>\n",
       "      <th>L22524</th>\n",
       "      <th>M13699.1</th>\n",
       "      <th>X54489</th>\n",
       "      <th>T55008</th>\n",
       "      <th>M10065.2</th>\n",
       "      <th>y</th>\n",
       "    </tr>\n",
       "  </thead>\n",
       "  <tbody>\n",
       "    <tr>\n",
       "      <th>0</th>\n",
       "      <td>0</td>\n",
       "      <td>70</td>\n",
       "      <td>-81</td>\n",
       "      <td>25</td>\n",
       "      <td>10</td>\n",
       "      <td>22</td>\n",
       "      <td>113</td>\n",
       "      <td>36</td>\n",
       "      <td>163</td>\n",
       "      <td>9</td>\n",
       "      <td>...</td>\n",
       "      <td>75</td>\n",
       "      <td>5</td>\n",
       "      <td>68</td>\n",
       "      <td>138</td>\n",
       "      <td>53</td>\n",
       "      <td>-4</td>\n",
       "      <td>123</td>\n",
       "      <td>2</td>\n",
       "      <td>19</td>\n",
       "      <td>tumor</td>\n",
       "    </tr>\n",
       "    <tr>\n",
       "      <th>1</th>\n",
       "      <td>1</td>\n",
       "      <td>108</td>\n",
       "      <td>-30</td>\n",
       "      <td>-7</td>\n",
       "      <td>60</td>\n",
       "      <td>0</td>\n",
       "      <td>24</td>\n",
       "      <td>8</td>\n",
       "      <td>113</td>\n",
       "      <td>-3</td>\n",
       "      <td>...</td>\n",
       "      <td>186</td>\n",
       "      <td>6</td>\n",
       "      <td>60</td>\n",
       "      <td>93</td>\n",
       "      <td>140</td>\n",
       "      <td>-3</td>\n",
       "      <td>271</td>\n",
       "      <td>-1</td>\n",
       "      <td>-51</td>\n",
       "      <td>tumor</td>\n",
       "    </tr>\n",
       "    <tr>\n",
       "      <th>2</th>\n",
       "      <td>2</td>\n",
       "      <td>75</td>\n",
       "      <td>-1</td>\n",
       "      <td>5</td>\n",
       "      <td>48</td>\n",
       "      <td>6</td>\n",
       "      <td>34</td>\n",
       "      <td>27</td>\n",
       "      <td>35</td>\n",
       "      <td>-1</td>\n",
       "      <td>...</td>\n",
       "      <td>186</td>\n",
       "      <td>225</td>\n",
       "      <td>94</td>\n",
       "      <td>62</td>\n",
       "      <td>39</td>\n",
       "      <td>-14</td>\n",
       "      <td>127</td>\n",
       "      <td>7</td>\n",
       "      <td>192</td>\n",
       "      <td>tumor</td>\n",
       "    </tr>\n",
       "    <tr>\n",
       "      <th>3</th>\n",
       "      <td>3</td>\n",
       "      <td>871</td>\n",
       "      <td>4</td>\n",
       "      <td>14</td>\n",
       "      <td>78</td>\n",
       "      <td>-6</td>\n",
       "      <td>85</td>\n",
       "      <td>65</td>\n",
       "      <td>227</td>\n",
       "      <td>19</td>\n",
       "      <td>...</td>\n",
       "      <td>77</td>\n",
       "      <td>6</td>\n",
       "      <td>78</td>\n",
       "      <td>30</td>\n",
       "      <td>87</td>\n",
       "      <td>-4</td>\n",
       "      <td>59</td>\n",
       "      <td>3</td>\n",
       "      <td>367</td>\n",
       "      <td>tumor</td>\n",
       "    </tr>\n",
       "    <tr>\n",
       "      <th>4</th>\n",
       "      <td>4</td>\n",
       "      <td>-92</td>\n",
       "      <td>-34</td>\n",
       "      <td>14</td>\n",
       "      <td>19</td>\n",
       "      <td>11</td>\n",
       "      <td>-6</td>\n",
       "      <td>27</td>\n",
       "      <td>-8</td>\n",
       "      <td>9</td>\n",
       "      <td>...</td>\n",
       "      <td>87</td>\n",
       "      <td>303</td>\n",
       "      <td>204</td>\n",
       "      <td>81</td>\n",
       "      <td>105</td>\n",
       "      <td>9</td>\n",
       "      <td>265</td>\n",
       "      <td>-2</td>\n",
       "      <td>126</td>\n",
       "      <td>tumor</td>\n",
       "    </tr>\n",
       "  </tbody>\n",
       "</table>\n",
       "<p>5 rows × 7466 columns</p>\n",
       "</div>"
      ],
      "text/plain": [
       "   Unnamed: 0  X53416  M83670  X90908  M97496  X90908.1  U37019  R48602  \\\n",
       "0           0      70     -81      25      10        22     113      36   \n",
       "1           1     108     -30      -7      60         0      24       8   \n",
       "2           2      75      -1       5      48         6      34      27   \n",
       "3           3     871       4      14      78        -6      85      65   \n",
       "4           4     -92     -34      14      19        11      -6      27   \n",
       "\n",
       "   T96548  X64559  ...  H87456  R64130  H11125.1  U22055  L22524  M13699.1  \\\n",
       "0     163       9  ...      75       5        68     138      53        -4   \n",
       "1     113      -3  ...     186       6        60      93     140        -3   \n",
       "2      35      -1  ...     186     225        94      62      39       -14   \n",
       "3     227      19  ...      77       6        78      30      87        -4   \n",
       "4      -8       9  ...      87     303       204      81     105         9   \n",
       "\n",
       "   X54489  T55008  M10065.2      y  \n",
       "0     123       2        19  tumor  \n",
       "1     271      -1       -51  tumor  \n",
       "2     127       7       192  tumor  \n",
       "3      59       3       367  tumor  \n",
       "4     265      -2       126  tumor  \n",
       "\n",
       "[5 rows x 7466 columns]"
      ]
     },
     "execution_count": 4,
     "metadata": {},
     "output_type": "execute_result"
    }
   ],
   "source": [
    "data.head()"
   ]
  },
  {
   "cell_type": "code",
   "execution_count": 5,
   "id": "c22b33ba",
   "metadata": {
    "execution": {
     "iopub.execute_input": "2022-01-28T17:36:30.114903Z",
     "iopub.status.busy": "2022-01-28T17:36:30.114247Z",
     "iopub.status.idle": "2022-01-28T17:36:30.119597Z",
     "shell.execute_reply": "2022-01-28T17:36:30.120093Z",
     "shell.execute_reply.started": "2022-01-28T17:01:08.648768Z"
    },
    "papermill": {
     "duration": 0.053373,
     "end_time": "2022-01-28T17:36:30.120265",
     "exception": false,
     "start_time": "2022-01-28T17:36:30.066892",
     "status": "completed"
    },
    "tags": []
   },
   "outputs": [
    {
     "data": {
      "text/plain": [
       "Index(['Unnamed: 0', 'X53416', 'M83670', 'X90908', 'M97496', 'X90908.1',\n",
       "       'U37019', 'R48602', 'T96548', 'X64559',\n",
       "       ...\n",
       "       'H87456', 'R64130', 'H11125.1', 'U22055', 'L22524', 'M13699.1',\n",
       "       'X54489', 'T55008', 'M10065.2', 'y'],\n",
       "      dtype='object', length=7466)"
      ]
     },
     "execution_count": 5,
     "metadata": {},
     "output_type": "execute_result"
    }
   ],
   "source": [
    "data.columns"
   ]
  },
  {
   "cell_type": "code",
   "execution_count": 6,
   "id": "076229c8",
   "metadata": {
    "execution": {
     "iopub.execute_input": "2022-01-28T17:36:30.220406Z",
     "iopub.status.busy": "2022-01-28T17:36:30.214294Z",
     "iopub.status.idle": "2022-01-28T17:36:30.691485Z",
     "shell.execute_reply": "2022-01-28T17:36:30.690989Z",
     "shell.execute_reply.started": "2022-01-28T17:01:08.657680Z"
    },
    "papermill": {
     "duration": 0.52602,
     "end_time": "2022-01-28T17:36:30.691673",
     "exception": false,
     "start_time": "2022-01-28T17:36:30.165653",
     "status": "completed"
    },
    "tags": []
   },
   "outputs": [
    {
     "name": "stdout",
     "output_type": "stream",
     "text": [
      "<class 'pandas.core.frame.DataFrame'>\n",
      "RangeIndex: 36 entries, 0 to 35\n",
      "Columns: 7466 entries, Unnamed: 0 to y\n",
      "dtypes: int64(7465), object(1)\n",
      "memory usage: 2.1+ MB\n"
     ]
    }
   ],
   "source": [
    "data.info()"
   ]
  },
  {
   "cell_type": "code",
   "execution_count": 7,
   "id": "38a1b712",
   "metadata": {
    "execution": {
     "iopub.execute_input": "2022-01-28T17:36:30.788784Z",
     "iopub.status.busy": "2022-01-28T17:36:30.787772Z",
     "iopub.status.idle": "2022-01-28T17:36:30.792527Z",
     "shell.execute_reply": "2022-01-28T17:36:30.793026Z",
     "shell.execute_reply.started": "2022-01-28T17:01:09.063617Z"
    },
    "papermill": {
     "duration": 0.056377,
     "end_time": "2022-01-28T17:36:30.793211",
     "exception": false,
     "start_time": "2022-01-28T17:36:30.736834",
     "status": "completed"
    },
    "tags": []
   },
   "outputs": [
    {
     "data": {
      "text/plain": [
       "Unnamed: 0     int64\n",
       "X53416         int64\n",
       "M83670         int64\n",
       "X90908         int64\n",
       "M97496         int64\n",
       "               ...  \n",
       "M13699.1       int64\n",
       "X54489         int64\n",
       "T55008         int64\n",
       "M10065.2       int64\n",
       "y             object\n",
       "Length: 7466, dtype: object"
      ]
     },
     "execution_count": 7,
     "metadata": {},
     "output_type": "execute_result"
    }
   ],
   "source": [
    "data.dtypes"
   ]
  },
  {
   "cell_type": "code",
   "execution_count": 8,
   "id": "c8b329af",
   "metadata": {
    "execution": {
     "iopub.execute_input": "2022-01-28T17:36:30.910588Z",
     "iopub.status.busy": "2022-01-28T17:36:30.900378Z",
     "iopub.status.idle": "2022-01-28T17:36:30.925601Z",
     "shell.execute_reply": "2022-01-28T17:36:30.926073Z",
     "shell.execute_reply.started": "2022-01-28T17:01:09.075590Z"
    },
    "papermill": {
     "duration": 0.086918,
     "end_time": "2022-01-28T17:36:30.926261",
     "exception": false,
     "start_time": "2022-01-28T17:36:30.839343",
     "status": "completed"
    },
    "tags": []
   },
   "outputs": [
    {
     "data": {
      "text/plain": [
       "Unnamed: 0    0\n",
       "X53416        0\n",
       "M83670        0\n",
       "X90908        0\n",
       "M97496        0\n",
       "             ..\n",
       "M13699.1      0\n",
       "X54489        0\n",
       "T55008        0\n",
       "M10065.2      0\n",
       "y             0\n",
       "Length: 7466, dtype: int64"
      ]
     },
     "execution_count": 8,
     "metadata": {},
     "output_type": "execute_result"
    }
   ],
   "source": [
    "data.isnull().sum()"
   ]
  },
  {
   "cell_type": "code",
   "execution_count": 9,
   "id": "5b8d0e2d",
   "metadata": {
    "execution": {
     "iopub.execute_input": "2022-01-28T17:36:31.022447Z",
     "iopub.status.busy": "2022-01-28T17:36:31.021791Z",
     "iopub.status.idle": "2022-01-28T17:36:31.641621Z",
     "shell.execute_reply": "2022-01-28T17:36:31.642229Z",
     "shell.execute_reply.started": "2022-01-28T17:01:09.121060Z"
    },
    "papermill": {
     "duration": 0.670392,
     "end_time": "2022-01-28T17:36:31.642401",
     "exception": false,
     "start_time": "2022-01-28T17:36:30.972009",
     "status": "completed"
    },
    "tags": []
   },
   "outputs": [
    {
     "data": {
      "text/plain": [
       "0"
      ]
     },
     "execution_count": 9,
     "metadata": {},
     "output_type": "execute_result"
    }
   ],
   "source": [
    "data.duplicated().sum()"
   ]
  },
  {
   "cell_type": "code",
   "execution_count": 10,
   "id": "9fc145f5",
   "metadata": {
    "execution": {
     "iopub.execute_input": "2022-01-28T17:36:31.737372Z",
     "iopub.status.busy": "2022-01-28T17:36:31.736776Z",
     "iopub.status.idle": "2022-01-28T17:36:44.813085Z",
     "shell.execute_reply": "2022-01-28T17:36:44.812470Z",
     "shell.execute_reply.started": "2022-01-28T17:01:09.829712Z"
    },
    "papermill": {
     "duration": 13.12475,
     "end_time": "2022-01-28T17:36:44.813225",
     "exception": false,
     "start_time": "2022-01-28T17:36:31.688475",
     "status": "completed"
    },
    "tags": []
   },
   "outputs": [
    {
     "data": {
      "text/html": [
       "<div>\n",
       "<style scoped>\n",
       "    .dataframe tbody tr th:only-of-type {\n",
       "        vertical-align: middle;\n",
       "    }\n",
       "\n",
       "    .dataframe tbody tr th {\n",
       "        vertical-align: top;\n",
       "    }\n",
       "\n",
       "    .dataframe thead th {\n",
       "        text-align: right;\n",
       "    }\n",
       "</style>\n",
       "<table border=\"1\" class=\"dataframe\">\n",
       "  <thead>\n",
       "    <tr style=\"text-align: right;\">\n",
       "      <th></th>\n",
       "      <th>Unnamed: 0</th>\n",
       "      <th>X53416</th>\n",
       "      <th>M83670</th>\n",
       "      <th>X90908</th>\n",
       "      <th>M97496</th>\n",
       "      <th>X90908.1</th>\n",
       "      <th>U37019</th>\n",
       "      <th>R48602</th>\n",
       "      <th>T96548</th>\n",
       "      <th>X64559</th>\n",
       "      <th>...</th>\n",
       "      <th>D14657</th>\n",
       "      <th>H87456</th>\n",
       "      <th>R64130</th>\n",
       "      <th>H11125.1</th>\n",
       "      <th>U22055</th>\n",
       "      <th>L22524</th>\n",
       "      <th>M13699.1</th>\n",
       "      <th>X54489</th>\n",
       "      <th>T55008</th>\n",
       "      <th>M10065.2</th>\n",
       "    </tr>\n",
       "  </thead>\n",
       "  <tbody>\n",
       "    <tr>\n",
       "      <th>count</th>\n",
       "      <td>36.000000</td>\n",
       "      <td>36.000000</td>\n",
       "      <td>36.000000</td>\n",
       "      <td>36.000000</td>\n",
       "      <td>36.000000</td>\n",
       "      <td>36.000000</td>\n",
       "      <td>36.000000</td>\n",
       "      <td>36.000000</td>\n",
       "      <td>36.000000</td>\n",
       "      <td>36.000000</td>\n",
       "      <td>...</td>\n",
       "      <td>36.000000</td>\n",
       "      <td>36.000000</td>\n",
       "      <td>36.000000</td>\n",
       "      <td>36.000000</td>\n",
       "      <td>36.000000</td>\n",
       "      <td>36.000000</td>\n",
       "      <td>36.000000</td>\n",
       "      <td>36.000000</td>\n",
       "      <td>36.000000</td>\n",
       "      <td>36.000000</td>\n",
       "    </tr>\n",
       "    <tr>\n",
       "      <th>mean</th>\n",
       "      <td>17.500000</td>\n",
       "      <td>378.750000</td>\n",
       "      <td>177.305556</td>\n",
       "      <td>128.027778</td>\n",
       "      <td>568.305556</td>\n",
       "      <td>93.555556</td>\n",
       "      <td>366.833333</td>\n",
       "      <td>140.166667</td>\n",
       "      <td>644.194444</td>\n",
       "      <td>73.444444</td>\n",
       "      <td>...</td>\n",
       "      <td>31.750000</td>\n",
       "      <td>71.111111</td>\n",
       "      <td>35.694444</td>\n",
       "      <td>53.194444</td>\n",
       "      <td>38.388889</td>\n",
       "      <td>40.944444</td>\n",
       "      <td>41.222222</td>\n",
       "      <td>57.027778</td>\n",
       "      <td>58.694444</td>\n",
       "      <td>44.027778</td>\n",
       "    </tr>\n",
       "    <tr>\n",
       "      <th>std</th>\n",
       "      <td>10.535654</td>\n",
       "      <td>648.716067</td>\n",
       "      <td>243.494655</td>\n",
       "      <td>787.935802</td>\n",
       "      <td>637.451928</td>\n",
       "      <td>557.527370</td>\n",
       "      <td>427.166645</td>\n",
       "      <td>171.443202</td>\n",
       "      <td>685.514231</td>\n",
       "      <td>88.504219</td>\n",
       "      <td>...</td>\n",
       "      <td>50.036201</td>\n",
       "      <td>118.940748</td>\n",
       "      <td>127.437115</td>\n",
       "      <td>269.630628</td>\n",
       "      <td>47.619490</td>\n",
       "      <td>83.763935</td>\n",
       "      <td>251.147778</td>\n",
       "      <td>71.322001</td>\n",
       "      <td>336.030766</td>\n",
       "      <td>224.891782</td>\n",
       "    </tr>\n",
       "    <tr>\n",
       "      <th>min</th>\n",
       "      <td>0.000000</td>\n",
       "      <td>-694.000000</td>\n",
       "      <td>-117.000000</td>\n",
       "      <td>-50.000000</td>\n",
       "      <td>8.000000</td>\n",
       "      <td>-54.000000</td>\n",
       "      <td>-6.000000</td>\n",
       "      <td>-18.000000</td>\n",
       "      <td>-8.000000</td>\n",
       "      <td>-8.000000</td>\n",
       "      <td>...</td>\n",
       "      <td>-21.000000</td>\n",
       "      <td>-24.000000</td>\n",
       "      <td>-12.000000</td>\n",
       "      <td>-1484.000000</td>\n",
       "      <td>-73.000000</td>\n",
       "      <td>-16.000000</td>\n",
       "      <td>-23.000000</td>\n",
       "      <td>-5.000000</td>\n",
       "      <td>-17.000000</td>\n",
       "      <td>-214.000000</td>\n",
       "    </tr>\n",
       "    <tr>\n",
       "      <th>25%</th>\n",
       "      <td>8.750000</td>\n",
       "      <td>-95.750000</td>\n",
       "      <td>-31.000000</td>\n",
       "      <td>-13.250000</td>\n",
       "      <td>47.250000</td>\n",
       "      <td>-7.000000</td>\n",
       "      <td>27.250000</td>\n",
       "      <td>17.750000</td>\n",
       "      <td>33.250000</td>\n",
       "      <td>8.250000</td>\n",
       "      <td>...</td>\n",
       "      <td>1.500000</td>\n",
       "      <td>9.000000</td>\n",
       "      <td>-1.250000</td>\n",
       "      <td>59.250000</td>\n",
       "      <td>12.750000</td>\n",
       "      <td>3.500000</td>\n",
       "      <td>-4.750000</td>\n",
       "      <td>7.000000</td>\n",
       "      <td>-5.000000</td>\n",
       "      <td>-72.750000</td>\n",
       "    </tr>\n",
       "    <tr>\n",
       "      <th>50%</th>\n",
       "      <td>17.500000</td>\n",
       "      <td>194.500000</td>\n",
       "      <td>117.000000</td>\n",
       "      <td>-4.500000</td>\n",
       "      <td>293.500000</td>\n",
       "      <td>3.000000</td>\n",
       "      <td>110.500000</td>\n",
       "      <td>37.500000</td>\n",
       "      <td>333.500000</td>\n",
       "      <td>37.500000</td>\n",
       "      <td>...</td>\n",
       "      <td>10.000000</td>\n",
       "      <td>55.500000</td>\n",
       "      <td>3.000000</td>\n",
       "      <td>94.000000</td>\n",
       "      <td>36.000000</td>\n",
       "      <td>7.000000</td>\n",
       "      <td>0.000000</td>\n",
       "      <td>20.000000</td>\n",
       "      <td>1.500000</td>\n",
       "      <td>-12.000000</td>\n",
       "    </tr>\n",
       "    <tr>\n",
       "      <th>75%</th>\n",
       "      <td>26.250000</td>\n",
       "      <td>721.750000</td>\n",
       "      <td>330.500000</td>\n",
       "      <td>14.000000</td>\n",
       "      <td>1079.250000</td>\n",
       "      <td>10.250000</td>\n",
       "      <td>675.000000</td>\n",
       "      <td>268.500000</td>\n",
       "      <td>1185.250000</td>\n",
       "      <td>107.750000</td>\n",
       "      <td>...</td>\n",
       "      <td>48.000000</td>\n",
       "      <td>78.750000</td>\n",
       "      <td>6.000000</td>\n",
       "      <td>121.250000</td>\n",
       "      <td>64.000000</td>\n",
       "      <td>39.500000</td>\n",
       "      <td>6.500000</td>\n",
       "      <td>98.250000</td>\n",
       "      <td>7.000000</td>\n",
       "      <td>74.250000</td>\n",
       "    </tr>\n",
       "    <tr>\n",
       "      <th>max</th>\n",
       "      <td>35.000000</td>\n",
       "      <td>1815.000000</td>\n",
       "      <td>718.000000</td>\n",
       "      <td>4723.000000</td>\n",
       "      <td>2261.000000</td>\n",
       "      <td>3344.000000</td>\n",
       "      <td>1354.000000</td>\n",
       "      <td>718.000000</td>\n",
       "      <td>2203.000000</td>\n",
       "      <td>357.000000</td>\n",
       "      <td>...</td>\n",
       "      <td>156.000000</td>\n",
       "      <td>686.000000</td>\n",
       "      <td>686.000000</td>\n",
       "      <td>251.000000</td>\n",
       "      <td>138.000000</td>\n",
       "      <td>444.000000</td>\n",
       "      <td>1505.000000</td>\n",
       "      <td>271.000000</td>\n",
       "      <td>2018.000000</td>\n",
       "      <td>1089.000000</td>\n",
       "    </tr>\n",
       "  </tbody>\n",
       "</table>\n",
       "<p>8 rows × 7465 columns</p>\n",
       "</div>"
      ],
      "text/plain": [
       "       Unnamed: 0       X53416      M83670       X90908       M97496  \\\n",
       "count   36.000000    36.000000   36.000000    36.000000    36.000000   \n",
       "mean    17.500000   378.750000  177.305556   128.027778   568.305556   \n",
       "std     10.535654   648.716067  243.494655   787.935802   637.451928   \n",
       "min      0.000000  -694.000000 -117.000000   -50.000000     8.000000   \n",
       "25%      8.750000   -95.750000  -31.000000   -13.250000    47.250000   \n",
       "50%     17.500000   194.500000  117.000000    -4.500000   293.500000   \n",
       "75%     26.250000   721.750000  330.500000    14.000000  1079.250000   \n",
       "max     35.000000  1815.000000  718.000000  4723.000000  2261.000000   \n",
       "\n",
       "          X90908.1       U37019      R48602       T96548      X64559  ...  \\\n",
       "count    36.000000    36.000000   36.000000    36.000000   36.000000  ...   \n",
       "mean     93.555556   366.833333  140.166667   644.194444   73.444444  ...   \n",
       "std     557.527370   427.166645  171.443202   685.514231   88.504219  ...   \n",
       "min     -54.000000    -6.000000  -18.000000    -8.000000   -8.000000  ...   \n",
       "25%      -7.000000    27.250000   17.750000    33.250000    8.250000  ...   \n",
       "50%       3.000000   110.500000   37.500000   333.500000   37.500000  ...   \n",
       "75%      10.250000   675.000000  268.500000  1185.250000  107.750000  ...   \n",
       "max    3344.000000  1354.000000  718.000000  2203.000000  357.000000  ...   \n",
       "\n",
       "           D14657      H87456      R64130     H11125.1      U22055  \\\n",
       "count   36.000000   36.000000   36.000000    36.000000   36.000000   \n",
       "mean    31.750000   71.111111   35.694444    53.194444   38.388889   \n",
       "std     50.036201  118.940748  127.437115   269.630628   47.619490   \n",
       "min    -21.000000  -24.000000  -12.000000 -1484.000000  -73.000000   \n",
       "25%      1.500000    9.000000   -1.250000    59.250000   12.750000   \n",
       "50%     10.000000   55.500000    3.000000    94.000000   36.000000   \n",
       "75%     48.000000   78.750000    6.000000   121.250000   64.000000   \n",
       "max    156.000000  686.000000  686.000000   251.000000  138.000000   \n",
       "\n",
       "           L22524     M13699.1      X54489       T55008     M10065.2  \n",
       "count   36.000000    36.000000   36.000000    36.000000    36.000000  \n",
       "mean    40.944444    41.222222   57.027778    58.694444    44.027778  \n",
       "std     83.763935   251.147778   71.322001   336.030766   224.891782  \n",
       "min    -16.000000   -23.000000   -5.000000   -17.000000  -214.000000  \n",
       "25%      3.500000    -4.750000    7.000000    -5.000000   -72.750000  \n",
       "50%      7.000000     0.000000   20.000000     1.500000   -12.000000  \n",
       "75%     39.500000     6.500000   98.250000     7.000000    74.250000  \n",
       "max    444.000000  1505.000000  271.000000  2018.000000  1089.000000  \n",
       "\n",
       "[8 rows x 7465 columns]"
      ]
     },
     "execution_count": 10,
     "metadata": {},
     "output_type": "execute_result"
    }
   ],
   "source": [
    "data.describe()"
   ]
  },
  {
   "cell_type": "code",
   "execution_count": 11,
   "id": "92c1631e",
   "metadata": {
    "execution": {
     "iopub.execute_input": "2022-01-28T17:36:44.912022Z",
     "iopub.status.busy": "2022-01-28T17:36:44.911346Z",
     "iopub.status.idle": "2022-01-28T17:36:44.913050Z",
     "shell.execute_reply": "2022-01-28T17:36:44.913591Z",
     "shell.execute_reply.started": "2022-01-28T17:01:23.909733Z"
    },
    "papermill": {
     "duration": 0.053101,
     "end_time": "2022-01-28T17:36:44.913758",
     "exception": false,
     "start_time": "2022-01-28T17:36:44.860657",
     "status": "completed"
    },
    "tags": []
   },
   "outputs": [],
   "source": [
    "# sns.pairplot(data,hue = data['y'])"
   ]
  },
  {
   "cell_type": "code",
   "execution_count": 12,
   "id": "5c67a484",
   "metadata": {
    "execution": {
     "iopub.execute_input": "2022-01-28T17:36:45.011736Z",
     "iopub.status.busy": "2022-01-28T17:36:45.011075Z",
     "iopub.status.idle": "2022-01-28T17:36:45.017505Z",
     "shell.execute_reply": "2022-01-28T17:36:45.018094Z",
     "shell.execute_reply.started": "2022-01-28T17:01:23.916730Z"
    },
    "papermill": {
     "duration": 0.057614,
     "end_time": "2022-01-28T17:36:45.018266",
     "exception": false,
     "start_time": "2022-01-28T17:36:44.960652",
     "status": "completed"
    },
    "tags": []
   },
   "outputs": [
    {
     "data": {
      "text/plain": [
       "tumor     18\n",
       "Normal    18\n",
       "Name: y, dtype: int64"
      ]
     },
     "execution_count": 12,
     "metadata": {},
     "output_type": "execute_result"
    }
   ],
   "source": [
    "data['y'].value_counts()"
   ]
  },
  {
   "cell_type": "markdown",
   "id": "25a59ce1",
   "metadata": {
    "papermill": {
     "duration": 0.047146,
     "end_time": "2022-01-28T17:36:45.114373",
     "exception": false,
     "start_time": "2022-01-28T17:36:45.067227",
     "status": "completed"
    },
    "tags": []
   },
   "source": [
    "# Encoding the categorical variable -- using get dummies function"
   ]
  },
  {
   "cell_type": "code",
   "execution_count": 13,
   "id": "db05038b",
   "metadata": {
    "execution": {
     "iopub.execute_input": "2022-01-28T17:36:45.212153Z",
     "iopub.status.busy": "2022-01-28T17:36:45.211506Z",
     "iopub.status.idle": "2022-01-28T17:36:45.215565Z",
     "shell.execute_reply": "2022-01-28T17:36:45.216086Z",
     "shell.execute_reply.started": "2022-01-28T17:01:23.936727Z"
    },
    "papermill": {
     "duration": 0.05449,
     "end_time": "2022-01-28T17:36:45.216253",
     "exception": false,
     "start_time": "2022-01-28T17:36:45.161763",
     "status": "completed"
    },
    "tags": []
   },
   "outputs": [],
   "source": [
    "get_dummies = pd.get_dummies(data['y'])"
   ]
  },
  {
   "cell_type": "code",
   "execution_count": 14,
   "id": "b7d35aae",
   "metadata": {
    "execution": {
     "iopub.execute_input": "2022-01-28T17:36:45.314693Z",
     "iopub.status.busy": "2022-01-28T17:36:45.313998Z",
     "iopub.status.idle": "2022-01-28T17:36:45.323637Z",
     "shell.execute_reply": "2022-01-28T17:36:45.324209Z",
     "shell.execute_reply.started": "2022-01-28T17:01:23.953527Z"
    },
    "papermill": {
     "duration": 0.060476,
     "end_time": "2022-01-28T17:36:45.324393",
     "exception": false,
     "start_time": "2022-01-28T17:36:45.263917",
     "status": "completed"
    },
    "tags": []
   },
   "outputs": [
    {
     "data": {
      "text/html": [
       "<div>\n",
       "<style scoped>\n",
       "    .dataframe tbody tr th:only-of-type {\n",
       "        vertical-align: middle;\n",
       "    }\n",
       "\n",
       "    .dataframe tbody tr th {\n",
       "        vertical-align: top;\n",
       "    }\n",
       "\n",
       "    .dataframe thead th {\n",
       "        text-align: right;\n",
       "    }\n",
       "</style>\n",
       "<table border=\"1\" class=\"dataframe\">\n",
       "  <thead>\n",
       "    <tr style=\"text-align: right;\">\n",
       "      <th></th>\n",
       "      <th>Normal</th>\n",
       "      <th>tumor</th>\n",
       "    </tr>\n",
       "  </thead>\n",
       "  <tbody>\n",
       "    <tr>\n",
       "      <th>0</th>\n",
       "      <td>0</td>\n",
       "      <td>1</td>\n",
       "    </tr>\n",
       "    <tr>\n",
       "      <th>1</th>\n",
       "      <td>0</td>\n",
       "      <td>1</td>\n",
       "    </tr>\n",
       "    <tr>\n",
       "      <th>2</th>\n",
       "      <td>0</td>\n",
       "      <td>1</td>\n",
       "    </tr>\n",
       "    <tr>\n",
       "      <th>3</th>\n",
       "      <td>0</td>\n",
       "      <td>1</td>\n",
       "    </tr>\n",
       "    <tr>\n",
       "      <th>4</th>\n",
       "      <td>0</td>\n",
       "      <td>1</td>\n",
       "    </tr>\n",
       "    <tr>\n",
       "      <th>5</th>\n",
       "      <td>0</td>\n",
       "      <td>1</td>\n",
       "    </tr>\n",
       "    <tr>\n",
       "      <th>6</th>\n",
       "      <td>0</td>\n",
       "      <td>1</td>\n",
       "    </tr>\n",
       "    <tr>\n",
       "      <th>7</th>\n",
       "      <td>0</td>\n",
       "      <td>1</td>\n",
       "    </tr>\n",
       "    <tr>\n",
       "      <th>8</th>\n",
       "      <td>0</td>\n",
       "      <td>1</td>\n",
       "    </tr>\n",
       "    <tr>\n",
       "      <th>9</th>\n",
       "      <td>0</td>\n",
       "      <td>1</td>\n",
       "    </tr>\n",
       "    <tr>\n",
       "      <th>10</th>\n",
       "      <td>0</td>\n",
       "      <td>1</td>\n",
       "    </tr>\n",
       "    <tr>\n",
       "      <th>11</th>\n",
       "      <td>0</td>\n",
       "      <td>1</td>\n",
       "    </tr>\n",
       "    <tr>\n",
       "      <th>12</th>\n",
       "      <td>0</td>\n",
       "      <td>1</td>\n",
       "    </tr>\n",
       "    <tr>\n",
       "      <th>13</th>\n",
       "      <td>0</td>\n",
       "      <td>1</td>\n",
       "    </tr>\n",
       "    <tr>\n",
       "      <th>14</th>\n",
       "      <td>0</td>\n",
       "      <td>1</td>\n",
       "    </tr>\n",
       "    <tr>\n",
       "      <th>15</th>\n",
       "      <td>0</td>\n",
       "      <td>1</td>\n",
       "    </tr>\n",
       "    <tr>\n",
       "      <th>16</th>\n",
       "      <td>0</td>\n",
       "      <td>1</td>\n",
       "    </tr>\n",
       "    <tr>\n",
       "      <th>17</th>\n",
       "      <td>0</td>\n",
       "      <td>1</td>\n",
       "    </tr>\n",
       "    <tr>\n",
       "      <th>18</th>\n",
       "      <td>1</td>\n",
       "      <td>0</td>\n",
       "    </tr>\n",
       "    <tr>\n",
       "      <th>19</th>\n",
       "      <td>1</td>\n",
       "      <td>0</td>\n",
       "    </tr>\n",
       "    <tr>\n",
       "      <th>20</th>\n",
       "      <td>1</td>\n",
       "      <td>0</td>\n",
       "    </tr>\n",
       "    <tr>\n",
       "      <th>21</th>\n",
       "      <td>1</td>\n",
       "      <td>0</td>\n",
       "    </tr>\n",
       "    <tr>\n",
       "      <th>22</th>\n",
       "      <td>1</td>\n",
       "      <td>0</td>\n",
       "    </tr>\n",
       "    <tr>\n",
       "      <th>23</th>\n",
       "      <td>1</td>\n",
       "      <td>0</td>\n",
       "    </tr>\n",
       "    <tr>\n",
       "      <th>24</th>\n",
       "      <td>1</td>\n",
       "      <td>0</td>\n",
       "    </tr>\n",
       "    <tr>\n",
       "      <th>25</th>\n",
       "      <td>1</td>\n",
       "      <td>0</td>\n",
       "    </tr>\n",
       "    <tr>\n",
       "      <th>26</th>\n",
       "      <td>1</td>\n",
       "      <td>0</td>\n",
       "    </tr>\n",
       "    <tr>\n",
       "      <th>27</th>\n",
       "      <td>1</td>\n",
       "      <td>0</td>\n",
       "    </tr>\n",
       "    <tr>\n",
       "      <th>28</th>\n",
       "      <td>1</td>\n",
       "      <td>0</td>\n",
       "    </tr>\n",
       "    <tr>\n",
       "      <th>29</th>\n",
       "      <td>1</td>\n",
       "      <td>0</td>\n",
       "    </tr>\n",
       "    <tr>\n",
       "      <th>30</th>\n",
       "      <td>1</td>\n",
       "      <td>0</td>\n",
       "    </tr>\n",
       "    <tr>\n",
       "      <th>31</th>\n",
       "      <td>1</td>\n",
       "      <td>0</td>\n",
       "    </tr>\n",
       "    <tr>\n",
       "      <th>32</th>\n",
       "      <td>1</td>\n",
       "      <td>0</td>\n",
       "    </tr>\n",
       "    <tr>\n",
       "      <th>33</th>\n",
       "      <td>1</td>\n",
       "      <td>0</td>\n",
       "    </tr>\n",
       "    <tr>\n",
       "      <th>34</th>\n",
       "      <td>1</td>\n",
       "      <td>0</td>\n",
       "    </tr>\n",
       "    <tr>\n",
       "      <th>35</th>\n",
       "      <td>1</td>\n",
       "      <td>0</td>\n",
       "    </tr>\n",
       "  </tbody>\n",
       "</table>\n",
       "</div>"
      ],
      "text/plain": [
       "    Normal  tumor\n",
       "0        0      1\n",
       "1        0      1\n",
       "2        0      1\n",
       "3        0      1\n",
       "4        0      1\n",
       "5        0      1\n",
       "6        0      1\n",
       "7        0      1\n",
       "8        0      1\n",
       "9        0      1\n",
       "10       0      1\n",
       "11       0      1\n",
       "12       0      1\n",
       "13       0      1\n",
       "14       0      1\n",
       "15       0      1\n",
       "16       0      1\n",
       "17       0      1\n",
       "18       1      0\n",
       "19       1      0\n",
       "20       1      0\n",
       "21       1      0\n",
       "22       1      0\n",
       "23       1      0\n",
       "24       1      0\n",
       "25       1      0\n",
       "26       1      0\n",
       "27       1      0\n",
       "28       1      0\n",
       "29       1      0\n",
       "30       1      0\n",
       "31       1      0\n",
       "32       1      0\n",
       "33       1      0\n",
       "34       1      0\n",
       "35       1      0"
      ]
     },
     "execution_count": 14,
     "metadata": {},
     "output_type": "execute_result"
    }
   ],
   "source": [
    "get_dummies"
   ]
  },
  {
   "cell_type": "code",
   "execution_count": 15,
   "id": "68928317",
   "metadata": {
    "execution": {
     "iopub.execute_input": "2022-01-28T17:36:45.424280Z",
     "iopub.status.busy": "2022-01-28T17:36:45.423675Z",
     "iopub.status.idle": "2022-01-28T17:36:45.434311Z",
     "shell.execute_reply": "2022-01-28T17:36:45.434914Z",
     "shell.execute_reply.started": "2022-01-28T17:01:23.970934Z"
    },
    "papermill": {
     "duration": 0.062595,
     "end_time": "2022-01-28T17:36:45.435085",
     "exception": false,
     "start_time": "2022-01-28T17:36:45.372490",
     "status": "completed"
    },
    "tags": []
   },
   "outputs": [],
   "source": [
    "#add the dummies columns into original dataset\n",
    "data = pd.concat([data,get_dummies],axis=1)"
   ]
  },
  {
   "cell_type": "code",
   "execution_count": 16,
   "id": "b3930414",
   "metadata": {
    "execution": {
     "iopub.execute_input": "2022-01-28T17:36:45.536872Z",
     "iopub.status.busy": "2022-01-28T17:36:45.536262Z",
     "iopub.status.idle": "2022-01-28T17:36:45.554204Z",
     "shell.execute_reply": "2022-01-28T17:36:45.553677Z",
     "shell.execute_reply.started": "2022-01-28T17:01:23.987107Z"
    },
    "papermill": {
     "duration": 0.070232,
     "end_time": "2022-01-28T17:36:45.554338",
     "exception": false,
     "start_time": "2022-01-28T17:36:45.484106",
     "status": "completed"
    },
    "tags": []
   },
   "outputs": [
    {
     "data": {
      "text/html": [
       "<div>\n",
       "<style scoped>\n",
       "    .dataframe tbody tr th:only-of-type {\n",
       "        vertical-align: middle;\n",
       "    }\n",
       "\n",
       "    .dataframe tbody tr th {\n",
       "        vertical-align: top;\n",
       "    }\n",
       "\n",
       "    .dataframe thead th {\n",
       "        text-align: right;\n",
       "    }\n",
       "</style>\n",
       "<table border=\"1\" class=\"dataframe\">\n",
       "  <thead>\n",
       "    <tr style=\"text-align: right;\">\n",
       "      <th></th>\n",
       "      <th>Unnamed: 0</th>\n",
       "      <th>X53416</th>\n",
       "      <th>M83670</th>\n",
       "      <th>X90908</th>\n",
       "      <th>M97496</th>\n",
       "      <th>X90908.1</th>\n",
       "      <th>U37019</th>\n",
       "      <th>R48602</th>\n",
       "      <th>T96548</th>\n",
       "      <th>X64559</th>\n",
       "      <th>...</th>\n",
       "      <th>H11125.1</th>\n",
       "      <th>U22055</th>\n",
       "      <th>L22524</th>\n",
       "      <th>M13699.1</th>\n",
       "      <th>X54489</th>\n",
       "      <th>T55008</th>\n",
       "      <th>M10065.2</th>\n",
       "      <th>y</th>\n",
       "      <th>Normal</th>\n",
       "      <th>tumor</th>\n",
       "    </tr>\n",
       "  </thead>\n",
       "  <tbody>\n",
       "    <tr>\n",
       "      <th>0</th>\n",
       "      <td>0</td>\n",
       "      <td>70</td>\n",
       "      <td>-81</td>\n",
       "      <td>25</td>\n",
       "      <td>10</td>\n",
       "      <td>22</td>\n",
       "      <td>113</td>\n",
       "      <td>36</td>\n",
       "      <td>163</td>\n",
       "      <td>9</td>\n",
       "      <td>...</td>\n",
       "      <td>68</td>\n",
       "      <td>138</td>\n",
       "      <td>53</td>\n",
       "      <td>-4</td>\n",
       "      <td>123</td>\n",
       "      <td>2</td>\n",
       "      <td>19</td>\n",
       "      <td>tumor</td>\n",
       "      <td>0</td>\n",
       "      <td>1</td>\n",
       "    </tr>\n",
       "    <tr>\n",
       "      <th>1</th>\n",
       "      <td>1</td>\n",
       "      <td>108</td>\n",
       "      <td>-30</td>\n",
       "      <td>-7</td>\n",
       "      <td>60</td>\n",
       "      <td>0</td>\n",
       "      <td>24</td>\n",
       "      <td>8</td>\n",
       "      <td>113</td>\n",
       "      <td>-3</td>\n",
       "      <td>...</td>\n",
       "      <td>60</td>\n",
       "      <td>93</td>\n",
       "      <td>140</td>\n",
       "      <td>-3</td>\n",
       "      <td>271</td>\n",
       "      <td>-1</td>\n",
       "      <td>-51</td>\n",
       "      <td>tumor</td>\n",
       "      <td>0</td>\n",
       "      <td>1</td>\n",
       "    </tr>\n",
       "    <tr>\n",
       "      <th>2</th>\n",
       "      <td>2</td>\n",
       "      <td>75</td>\n",
       "      <td>-1</td>\n",
       "      <td>5</td>\n",
       "      <td>48</td>\n",
       "      <td>6</td>\n",
       "      <td>34</td>\n",
       "      <td>27</td>\n",
       "      <td>35</td>\n",
       "      <td>-1</td>\n",
       "      <td>...</td>\n",
       "      <td>94</td>\n",
       "      <td>62</td>\n",
       "      <td>39</td>\n",
       "      <td>-14</td>\n",
       "      <td>127</td>\n",
       "      <td>7</td>\n",
       "      <td>192</td>\n",
       "      <td>tumor</td>\n",
       "      <td>0</td>\n",
       "      <td>1</td>\n",
       "    </tr>\n",
       "    <tr>\n",
       "      <th>3</th>\n",
       "      <td>3</td>\n",
       "      <td>871</td>\n",
       "      <td>4</td>\n",
       "      <td>14</td>\n",
       "      <td>78</td>\n",
       "      <td>-6</td>\n",
       "      <td>85</td>\n",
       "      <td>65</td>\n",
       "      <td>227</td>\n",
       "      <td>19</td>\n",
       "      <td>...</td>\n",
       "      <td>78</td>\n",
       "      <td>30</td>\n",
       "      <td>87</td>\n",
       "      <td>-4</td>\n",
       "      <td>59</td>\n",
       "      <td>3</td>\n",
       "      <td>367</td>\n",
       "      <td>tumor</td>\n",
       "      <td>0</td>\n",
       "      <td>1</td>\n",
       "    </tr>\n",
       "    <tr>\n",
       "      <th>4</th>\n",
       "      <td>4</td>\n",
       "      <td>-92</td>\n",
       "      <td>-34</td>\n",
       "      <td>14</td>\n",
       "      <td>19</td>\n",
       "      <td>11</td>\n",
       "      <td>-6</td>\n",
       "      <td>27</td>\n",
       "      <td>-8</td>\n",
       "      <td>9</td>\n",
       "      <td>...</td>\n",
       "      <td>204</td>\n",
       "      <td>81</td>\n",
       "      <td>105</td>\n",
       "      <td>9</td>\n",
       "      <td>265</td>\n",
       "      <td>-2</td>\n",
       "      <td>126</td>\n",
       "      <td>tumor</td>\n",
       "      <td>0</td>\n",
       "      <td>1</td>\n",
       "    </tr>\n",
       "  </tbody>\n",
       "</table>\n",
       "<p>5 rows × 7468 columns</p>\n",
       "</div>"
      ],
      "text/plain": [
       "   Unnamed: 0  X53416  M83670  X90908  M97496  X90908.1  U37019  R48602  \\\n",
       "0           0      70     -81      25      10        22     113      36   \n",
       "1           1     108     -30      -7      60         0      24       8   \n",
       "2           2      75      -1       5      48         6      34      27   \n",
       "3           3     871       4      14      78        -6      85      65   \n",
       "4           4     -92     -34      14      19        11      -6      27   \n",
       "\n",
       "   T96548  X64559  ...  H11125.1  U22055  L22524  M13699.1  X54489  T55008  \\\n",
       "0     163       9  ...        68     138      53        -4     123       2   \n",
       "1     113      -3  ...        60      93     140        -3     271      -1   \n",
       "2      35      -1  ...        94      62      39       -14     127       7   \n",
       "3     227      19  ...        78      30      87        -4      59       3   \n",
       "4      -8       9  ...       204      81     105         9     265      -2   \n",
       "\n",
       "   M10065.2      y  Normal  tumor  \n",
       "0        19  tumor       0      1  \n",
       "1       -51  tumor       0      1  \n",
       "2       192  tumor       0      1  \n",
       "3       367  tumor       0      1  \n",
       "4       126  tumor       0      1  \n",
       "\n",
       "[5 rows x 7468 columns]"
      ]
     },
     "execution_count": 16,
     "metadata": {},
     "output_type": "execute_result"
    }
   ],
   "source": [
    "data.head()"
   ]
  },
  {
   "cell_type": "code",
   "execution_count": 17,
   "id": "4712c57b",
   "metadata": {
    "execution": {
     "iopub.execute_input": "2022-01-28T17:36:45.654146Z",
     "iopub.status.busy": "2022-01-28T17:36:45.653486Z",
     "iopub.status.idle": "2022-01-28T17:36:45.660694Z",
     "shell.execute_reply": "2022-01-28T17:36:45.661143Z",
     "shell.execute_reply.started": "2022-01-28T17:01:24.020538Z"
    },
    "papermill": {
     "duration": 0.058613,
     "end_time": "2022-01-28T17:36:45.661334",
     "exception": false,
     "start_time": "2022-01-28T17:36:45.602721",
     "status": "completed"
    },
    "tags": []
   },
   "outputs": [],
   "source": [
    "#drop the y and Normal columns \n",
    "data = data.drop(['y','Normal'],axis=1)"
   ]
  },
  {
   "cell_type": "code",
   "execution_count": 18,
   "id": "a510ae48",
   "metadata": {
    "execution": {
     "iopub.execute_input": "2022-01-28T17:36:45.764415Z",
     "iopub.status.busy": "2022-01-28T17:36:45.761501Z",
     "iopub.status.idle": "2022-01-28T17:36:45.778482Z",
     "shell.execute_reply": "2022-01-28T17:36:45.778964Z",
     "shell.execute_reply.started": "2022-01-28T17:01:24.032154Z"
    },
    "papermill": {
     "duration": 0.068666,
     "end_time": "2022-01-28T17:36:45.779159",
     "exception": false,
     "start_time": "2022-01-28T17:36:45.710493",
     "status": "completed"
    },
    "tags": []
   },
   "outputs": [
    {
     "data": {
      "text/html": [
       "<div>\n",
       "<style scoped>\n",
       "    .dataframe tbody tr th:only-of-type {\n",
       "        vertical-align: middle;\n",
       "    }\n",
       "\n",
       "    .dataframe tbody tr th {\n",
       "        vertical-align: top;\n",
       "    }\n",
       "\n",
       "    .dataframe thead th {\n",
       "        text-align: right;\n",
       "    }\n",
       "</style>\n",
       "<table border=\"1\" class=\"dataframe\">\n",
       "  <thead>\n",
       "    <tr style=\"text-align: right;\">\n",
       "      <th></th>\n",
       "      <th>Unnamed: 0</th>\n",
       "      <th>X53416</th>\n",
       "      <th>M83670</th>\n",
       "      <th>X90908</th>\n",
       "      <th>M97496</th>\n",
       "      <th>X90908.1</th>\n",
       "      <th>U37019</th>\n",
       "      <th>R48602</th>\n",
       "      <th>T96548</th>\n",
       "      <th>X64559</th>\n",
       "      <th>...</th>\n",
       "      <th>H87456</th>\n",
       "      <th>R64130</th>\n",
       "      <th>H11125.1</th>\n",
       "      <th>U22055</th>\n",
       "      <th>L22524</th>\n",
       "      <th>M13699.1</th>\n",
       "      <th>X54489</th>\n",
       "      <th>T55008</th>\n",
       "      <th>M10065.2</th>\n",
       "      <th>tumor</th>\n",
       "    </tr>\n",
       "  </thead>\n",
       "  <tbody>\n",
       "    <tr>\n",
       "      <th>0</th>\n",
       "      <td>0</td>\n",
       "      <td>70</td>\n",
       "      <td>-81</td>\n",
       "      <td>25</td>\n",
       "      <td>10</td>\n",
       "      <td>22</td>\n",
       "      <td>113</td>\n",
       "      <td>36</td>\n",
       "      <td>163</td>\n",
       "      <td>9</td>\n",
       "      <td>...</td>\n",
       "      <td>75</td>\n",
       "      <td>5</td>\n",
       "      <td>68</td>\n",
       "      <td>138</td>\n",
       "      <td>53</td>\n",
       "      <td>-4</td>\n",
       "      <td>123</td>\n",
       "      <td>2</td>\n",
       "      <td>19</td>\n",
       "      <td>1</td>\n",
       "    </tr>\n",
       "    <tr>\n",
       "      <th>1</th>\n",
       "      <td>1</td>\n",
       "      <td>108</td>\n",
       "      <td>-30</td>\n",
       "      <td>-7</td>\n",
       "      <td>60</td>\n",
       "      <td>0</td>\n",
       "      <td>24</td>\n",
       "      <td>8</td>\n",
       "      <td>113</td>\n",
       "      <td>-3</td>\n",
       "      <td>...</td>\n",
       "      <td>186</td>\n",
       "      <td>6</td>\n",
       "      <td>60</td>\n",
       "      <td>93</td>\n",
       "      <td>140</td>\n",
       "      <td>-3</td>\n",
       "      <td>271</td>\n",
       "      <td>-1</td>\n",
       "      <td>-51</td>\n",
       "      <td>1</td>\n",
       "    </tr>\n",
       "    <tr>\n",
       "      <th>2</th>\n",
       "      <td>2</td>\n",
       "      <td>75</td>\n",
       "      <td>-1</td>\n",
       "      <td>5</td>\n",
       "      <td>48</td>\n",
       "      <td>6</td>\n",
       "      <td>34</td>\n",
       "      <td>27</td>\n",
       "      <td>35</td>\n",
       "      <td>-1</td>\n",
       "      <td>...</td>\n",
       "      <td>186</td>\n",
       "      <td>225</td>\n",
       "      <td>94</td>\n",
       "      <td>62</td>\n",
       "      <td>39</td>\n",
       "      <td>-14</td>\n",
       "      <td>127</td>\n",
       "      <td>7</td>\n",
       "      <td>192</td>\n",
       "      <td>1</td>\n",
       "    </tr>\n",
       "    <tr>\n",
       "      <th>3</th>\n",
       "      <td>3</td>\n",
       "      <td>871</td>\n",
       "      <td>4</td>\n",
       "      <td>14</td>\n",
       "      <td>78</td>\n",
       "      <td>-6</td>\n",
       "      <td>85</td>\n",
       "      <td>65</td>\n",
       "      <td>227</td>\n",
       "      <td>19</td>\n",
       "      <td>...</td>\n",
       "      <td>77</td>\n",
       "      <td>6</td>\n",
       "      <td>78</td>\n",
       "      <td>30</td>\n",
       "      <td>87</td>\n",
       "      <td>-4</td>\n",
       "      <td>59</td>\n",
       "      <td>3</td>\n",
       "      <td>367</td>\n",
       "      <td>1</td>\n",
       "    </tr>\n",
       "    <tr>\n",
       "      <th>4</th>\n",
       "      <td>4</td>\n",
       "      <td>-92</td>\n",
       "      <td>-34</td>\n",
       "      <td>14</td>\n",
       "      <td>19</td>\n",
       "      <td>11</td>\n",
       "      <td>-6</td>\n",
       "      <td>27</td>\n",
       "      <td>-8</td>\n",
       "      <td>9</td>\n",
       "      <td>...</td>\n",
       "      <td>87</td>\n",
       "      <td>303</td>\n",
       "      <td>204</td>\n",
       "      <td>81</td>\n",
       "      <td>105</td>\n",
       "      <td>9</td>\n",
       "      <td>265</td>\n",
       "      <td>-2</td>\n",
       "      <td>126</td>\n",
       "      <td>1</td>\n",
       "    </tr>\n",
       "  </tbody>\n",
       "</table>\n",
       "<p>5 rows × 7466 columns</p>\n",
       "</div>"
      ],
      "text/plain": [
       "   Unnamed: 0  X53416  M83670  X90908  M97496  X90908.1  U37019  R48602  \\\n",
       "0           0      70     -81      25      10        22     113      36   \n",
       "1           1     108     -30      -7      60         0      24       8   \n",
       "2           2      75      -1       5      48         6      34      27   \n",
       "3           3     871       4      14      78        -6      85      65   \n",
       "4           4     -92     -34      14      19        11      -6      27   \n",
       "\n",
       "   T96548  X64559  ...  H87456  R64130  H11125.1  U22055  L22524  M13699.1  \\\n",
       "0     163       9  ...      75       5        68     138      53        -4   \n",
       "1     113      -3  ...     186       6        60      93     140        -3   \n",
       "2      35      -1  ...     186     225        94      62      39       -14   \n",
       "3     227      19  ...      77       6        78      30      87        -4   \n",
       "4      -8       9  ...      87     303       204      81     105         9   \n",
       "\n",
       "   X54489  T55008  M10065.2  tumor  \n",
       "0     123       2        19      1  \n",
       "1     271      -1       -51      1  \n",
       "2     127       7       192      1  \n",
       "3      59       3       367      1  \n",
       "4     265      -2       126      1  \n",
       "\n",
       "[5 rows x 7466 columns]"
      ]
     },
     "execution_count": 18,
     "metadata": {},
     "output_type": "execute_result"
    }
   ],
   "source": [
    "data.head()"
   ]
  },
  {
   "cell_type": "code",
   "execution_count": 19,
   "id": "c0e84b9a",
   "metadata": {
    "execution": {
     "iopub.execute_input": "2022-01-28T17:36:45.882400Z",
     "iopub.status.busy": "2022-01-28T17:36:45.881782Z",
     "iopub.status.idle": "2022-01-28T17:36:45.887151Z",
     "shell.execute_reply": "2022-01-28T17:36:45.887672Z",
     "shell.execute_reply.started": "2022-01-28T17:01:24.062574Z"
    },
    "papermill": {
     "duration": 0.059311,
     "end_time": "2022-01-28T17:36:45.887842",
     "exception": false,
     "start_time": "2022-01-28T17:36:45.828531",
     "status": "completed"
    },
    "tags": []
   },
   "outputs": [],
   "source": [
    "data = data.drop('Unnamed: 0',axis=1)"
   ]
  },
  {
   "cell_type": "markdown",
   "id": "9ddeada3",
   "metadata": {
    "papermill": {
     "duration": 0.048906,
     "end_time": "2022-01-28T17:36:45.986697",
     "exception": false,
     "start_time": "2022-01-28T17:36:45.937791",
     "status": "completed"
    },
    "tags": []
   },
   "source": [
    "# Feature Selection"
   ]
  },
  {
   "cell_type": "markdown",
   "id": "eadaf3a9",
   "metadata": {
    "papermill": {
     "duration": 0.049733,
     "end_time": "2022-01-28T17:36:46.086525",
     "exception": false,
     "start_time": "2022-01-28T17:36:46.036792",
     "status": "completed"
    },
    "tags": []
   },
   "source": [
    "# Univariate selection"
   ]
  },
  {
   "cell_type": "code",
   "execution_count": 20,
   "id": "ffffa73a",
   "metadata": {
    "execution": {
     "iopub.execute_input": "2022-01-28T17:36:46.192265Z",
     "iopub.status.busy": "2022-01-28T17:36:46.191573Z",
     "iopub.status.idle": "2022-01-28T17:36:46.195714Z",
     "shell.execute_reply": "2022-01-28T17:36:46.196216Z",
     "shell.execute_reply.started": "2022-01-28T17:01:24.078935Z"
    },
    "papermill": {
     "duration": 0.060432,
     "end_time": "2022-01-28T17:36:46.196398",
     "exception": false,
     "start_time": "2022-01-28T17:36:46.135966",
     "status": "completed"
    },
    "tags": []
   },
   "outputs": [],
   "source": [
    "x = data.drop('tumor',axis=1)\n",
    "y = data['tumor']"
   ]
  },
  {
   "cell_type": "code",
   "execution_count": 21,
   "id": "137bf9ac",
   "metadata": {
    "execution": {
     "iopub.execute_input": "2022-01-28T17:36:46.298739Z",
     "iopub.status.busy": "2022-01-28T17:36:46.298032Z",
     "iopub.status.idle": "2022-01-28T17:36:46.302769Z",
     "shell.execute_reply": "2022-01-28T17:36:46.303787Z",
     "shell.execute_reply.started": "2022-01-28T17:01:24.096743Z"
    },
    "papermill": {
     "duration": 0.058138,
     "end_time": "2022-01-28T17:36:46.304031",
     "exception": false,
     "start_time": "2022-01-28T17:36:46.245893",
     "status": "completed"
    },
    "tags": []
   },
   "outputs": [
    {
     "name": "stdout",
     "output_type": "stream",
     "text": [
      "(36, 7464)\n"
     ]
    }
   ],
   "source": [
    "print(x.shape)"
   ]
  },
  {
   "cell_type": "markdown",
   "id": "b976de25",
   "metadata": {
    "papermill": {
     "duration": 0.04935,
     "end_time": "2022-01-28T17:36:46.404032",
     "exception": false,
     "start_time": "2022-01-28T17:36:46.354682",
     "status": "completed"
    },
    "tags": []
   },
   "source": [
    "# Feature Importance"
   ]
  },
  {
   "cell_type": "code",
   "execution_count": 22,
   "id": "cd02250a",
   "metadata": {
    "execution": {
     "iopub.execute_input": "2022-01-28T17:36:46.506202Z",
     "iopub.status.busy": "2022-01-28T17:36:46.505578Z",
     "iopub.status.idle": "2022-01-28T17:36:47.056014Z",
     "shell.execute_reply": "2022-01-28T17:36:47.054754Z",
     "shell.execute_reply.started": "2022-01-28T17:01:24.110156Z"
    },
    "papermill": {
     "duration": 0.602214,
     "end_time": "2022-01-28T17:36:47.056169",
     "exception": false,
     "start_time": "2022-01-28T17:36:46.453955",
     "status": "completed"
    },
    "tags": []
   },
   "outputs": [
    {
     "data": {
      "text/plain": [
       "ExtraTreesClassifier()"
      ]
     },
     "execution_count": 22,
     "metadata": {},
     "output_type": "execute_result"
    }
   ],
   "source": [
    "from sklearn.ensemble import ExtraTreesClassifier\n",
    "import matplotlib.pyplot as plt\n",
    "model=ExtraTreesClassifier()\n",
    "model.fit(x,y)"
   ]
  },
  {
   "cell_type": "code",
   "execution_count": 23,
   "id": "c217e1c6",
   "metadata": {
    "execution": {
     "iopub.execute_input": "2022-01-28T17:36:47.166293Z",
     "iopub.status.busy": "2022-01-28T17:36:47.165050Z",
     "iopub.status.idle": "2022-01-28T17:36:47.187916Z",
     "shell.execute_reply": "2022-01-28T17:36:47.187254Z",
     "shell.execute_reply.started": "2022-01-28T17:01:24.342556Z"
    },
    "papermill": {
     "duration": 0.079988,
     "end_time": "2022-01-28T17:36:47.188055",
     "exception": false,
     "start_time": "2022-01-28T17:36:47.108067",
     "status": "completed"
    },
    "tags": []
   },
   "outputs": [
    {
     "name": "stdout",
     "output_type": "stream",
     "text": [
      "[0.         0.00910873 0.         ... 0.         0.         0.        ]\n"
     ]
    }
   ],
   "source": [
    "print(model.feature_importances_)"
   ]
  },
  {
   "cell_type": "code",
   "execution_count": 24,
   "id": "7ae99419",
   "metadata": {
    "execution": {
     "iopub.execute_input": "2022-01-28T17:36:47.295611Z",
     "iopub.status.busy": "2022-01-28T17:36:47.294802Z",
     "iopub.status.idle": "2022-01-28T17:36:47.570699Z",
     "shell.execute_reply": "2022-01-28T17:36:47.571259Z",
     "shell.execute_reply.started": "2022-01-28T17:01:24.368101Z"
    },
    "papermill": {
     "duration": 0.332974,
     "end_time": "2022-01-28T17:36:47.571433",
     "exception": false,
     "start_time": "2022-01-28T17:36:47.238459",
     "status": "completed"
    },
    "tags": []
   },
   "outputs": [
    {
     "data": {
      "image/png": "[encoded data removed]",
      "text/plain": [
       "<Figure size 432x288 with 1 Axes>"
      ]
     },
     "metadata": {
      "needs_background": "light"
     },
     "output_type": "display_data"
    }
   ],
   "source": [
    "ranked_features=pd.Series(model.feature_importances_,index=x.columns)\n",
    "ranked_features.nlargest(20).plot(kind='barh')\n",
    "plt.show()"
   ]
  },
  {
   "cell_type": "markdown",
   "id": "5bc08e7c",
   "metadata": {
    "papermill": {
     "duration": 0.050832,
     "end_time": "2022-01-28T17:36:47.673184",
     "exception": false,
     "start_time": "2022-01-28T17:36:47.622352",
     "status": "completed"
    },
    "tags": []
   },
   "source": [
    "**Here is display the top 20  columns those are correlated with the dependent variable**"
   ]
  },
  {
   "cell_type": "markdown",
   "id": "5db711f4",
   "metadata": {
    "papermill": {
     "duration": 0.050799,
     "end_time": "2022-01-28T17:36:47.775123",
     "exception": false,
     "start_time": "2022-01-28T17:36:47.724324",
     "status": "completed"
    },
    "tags": []
   },
   "source": [
    "# correlation"
   ]
  },
  {
   "cell_type": "code",
   "execution_count": 25,
   "id": "55493486",
   "metadata": {
    "execution": {
     "iopub.execute_input": "2022-01-28T17:36:47.882186Z",
     "iopub.status.busy": "2022-01-28T17:36:47.881151Z",
     "iopub.status.idle": "2022-01-28T17:36:53.584686Z",
     "shell.execute_reply": "2022-01-28T17:36:53.585459Z",
     "shell.execute_reply.started": "2022-01-28T17:01:24.686489Z"
    },
    "papermill": {
     "duration": 5.75939,
     "end_time": "2022-01-28T17:36:53.585664",
     "exception": false,
     "start_time": "2022-01-28T17:36:47.826274",
     "status": "completed"
    },
    "tags": []
   },
   "outputs": [],
   "source": [
    "corr=data.iloc[:,:-1].corr()\n",
    "# top_features=corr.index\n",
    "# plt.figure(figsize=(20,20))\n",
    "# sns.heatmap(data[top_features].corr(),annot=True)\n",
    "# plt.show()"
   ]
  },
  {
   "cell_type": "code",
   "execution_count": 26,
   "id": "311ffccf",
   "metadata": {
    "execution": {
     "iopub.execute_input": "2022-01-28T17:36:53.691491Z",
     "iopub.status.busy": "2022-01-28T17:36:53.690834Z",
     "iopub.status.idle": "2022-01-28T17:36:53.694043Z",
     "shell.execute_reply": "2022-01-28T17:36:53.694561Z",
     "shell.execute_reply.started": "2022-01-28T17:01:30.854409Z"
    },
    "papermill": {
     "duration": 0.057871,
     "end_time": "2022-01-28T17:36:53.694734",
     "exception": false,
     "start_time": "2022-01-28T17:36:53.636863",
     "status": "completed"
    },
    "tags": []
   },
   "outputs": [],
   "source": [
    "# threshold=0.8\n",
    "# # find and remove correlated features\n",
    "# def correlation(dataset, threshold):\n",
    "#     col_corr = set()  # Set of all the names of correlated columns\n",
    "#     corr_matrix = dataset.corr()\n",
    "#     for i in range(len(corr_matrix.columns)):\n",
    "#         for j in range(i):\n",
    "#             if (corr_matrix.iloc[i, j]) > threshold: # we are interested in absolute coeff value\n",
    "#                 colname = corr_matrix.columns[i]  # getting the name of column\n",
    "#                 col_corr.add(colname)\n",
    "#     return col_corr"
   ]
  },
  {
   "cell_type": "code",
   "execution_count": 27,
   "id": "a4c2efd3",
   "metadata": {
    "execution": {
     "iopub.execute_input": "2022-01-28T17:36:53.802141Z",
     "iopub.status.busy": "2022-01-28T17:36:53.801464Z",
     "iopub.status.idle": "2022-01-28T17:36:53.804157Z",
     "shell.execute_reply": "2022-01-28T17:36:53.804705Z",
     "shell.execute_reply.started": "2022-01-28T17:01:30.861754Z"
    },
    "papermill": {
     "duration": 0.0573,
     "end_time": "2022-01-28T17:36:53.804874",
     "exception": false,
     "start_time": "2022-01-28T17:36:53.747574",
     "status": "completed"
    },
    "tags": []
   },
   "outputs": [],
   "source": [
    "# correlation(data.iloc[:,:-1],threshold)"
   ]
  },
  {
   "cell_type": "markdown",
   "id": "bb188a7c",
   "metadata": {
    "papermill": {
     "duration": 0.05207,
     "end_time": "2022-01-28T17:36:53.908466",
     "exception": false,
     "start_time": "2022-01-28T17:36:53.856396",
     "status": "completed"
    },
    "tags": []
   },
   "source": [
    "# Information Gain"
   ]
  },
  {
   "cell_type": "code",
   "execution_count": 28,
   "id": "f76d68a9",
   "metadata": {
    "execution": {
     "iopub.execute_input": "2022-01-28T17:36:54.016420Z",
     "iopub.status.busy": "2022-01-28T17:36:54.015790Z",
     "iopub.status.idle": "2022-01-28T17:37:13.028992Z",
     "shell.execute_reply": "2022-01-28T17:37:13.028450Z",
     "shell.execute_reply.started": "2022-01-28T17:01:30.875860Z"
    },
    "papermill": {
     "duration": 19.069324,
     "end_time": "2022-01-28T17:37:13.029139",
     "exception": false,
     "start_time": "2022-01-28T17:36:53.959815",
     "status": "completed"
    },
    "tags": []
   },
   "outputs": [],
   "source": [
    "from sklearn.feature_selection import mutual_info_classif\n",
    "mutual_info=mutual_info_classif(x,y)\n",
    "mutual_data=pd.Series(mutual_info,index=x.columns)\n",
    "col = mutual_data.sort_values(ascending=False)"
   ]
  },
  {
   "cell_type": "code",
   "execution_count": 29,
   "id": "c00883d0",
   "metadata": {
    "execution": {
     "iopub.execute_input": "2022-01-28T17:37:13.139007Z",
     "iopub.status.busy": "2022-01-28T17:37:13.138361Z",
     "iopub.status.idle": "2022-01-28T17:37:13.142034Z",
     "shell.execute_reply": "2022-01-28T17:37:13.141383Z",
     "shell.execute_reply.started": "2022-01-28T17:01:51.646675Z"
    },
    "papermill": {
     "duration": 0.061173,
     "end_time": "2022-01-28T17:37:13.142173",
     "exception": false,
     "start_time": "2022-01-28T17:37:13.081000",
     "status": "completed"
    },
    "tags": []
   },
   "outputs": [
    {
     "data": {
      "text/plain": [
       "M97496    0.707229\n",
       "R36977    0.688710\n",
       "T96548    0.680840\n",
       "Z50753    0.649017\n",
       "M83670    0.643803\n",
       "M77836    0.642150\n",
       "H20426    0.639699\n",
       "T64297    0.630035\n",
       "U17077    0.624524\n",
       "R08183    0.609699\n",
       "dtype: float64"
      ]
     },
     "execution_count": 29,
     "metadata": {},
     "output_type": "execute_result"
    }
   ],
   "source": [
    "col.head(10)"
   ]
  },
  {
   "cell_type": "code",
   "execution_count": 30,
   "id": "86795b23",
   "metadata": {
    "execution": {
     "iopub.execute_input": "2022-01-28T17:37:13.252324Z",
     "iopub.status.busy": "2022-01-28T17:37:13.251654Z",
     "iopub.status.idle": "2022-01-28T17:37:13.254479Z",
     "shell.execute_reply": "2022-01-28T17:37:13.253857Z",
     "shell.execute_reply.started": "2022-01-28T17:05:28.802461Z"
    },
    "papermill": {
     "duration": 0.061228,
     "end_time": "2022-01-28T17:37:13.254634",
     "exception": false,
     "start_time": "2022-01-28T17:37:13.193406",
     "status": "completed"
    },
    "tags": []
   },
   "outputs": [],
   "source": [
    "data = data[['M97496','R36977','T96548','Z50753','M83670','M77836','J03037.2','T64297','U17077','tumor']]"
   ]
  },
  {
   "cell_type": "code",
   "execution_count": 31,
   "id": "3fd1ad45",
   "metadata": {
    "execution": {
     "iopub.execute_input": "2022-01-28T17:37:13.387388Z",
     "iopub.status.busy": "2022-01-28T17:37:13.386444Z",
     "iopub.status.idle": "2022-01-28T17:37:13.389976Z",
     "shell.execute_reply": "2022-01-28T17:37:13.390453Z",
     "shell.execute_reply.started": "2022-01-28T17:05:37.127896Z"
    },
    "papermill": {
     "duration": 0.08149,
     "end_time": "2022-01-28T17:37:13.390688",
     "exception": false,
     "start_time": "2022-01-28T17:37:13.309198",
     "status": "completed"
    },
    "tags": []
   },
   "outputs": [
    {
     "data": {
      "text/html": [
       "<div>\n",
       "<style scoped>\n",
       "    .dataframe tbody tr th:only-of-type {\n",
       "        vertical-align: middle;\n",
       "    }\n",
       "\n",
       "    .dataframe tbody tr th {\n",
       "        vertical-align: top;\n",
       "    }\n",
       "\n",
       "    .dataframe thead th {\n",
       "        text-align: right;\n",
       "    }\n",
       "</style>\n",
       "<table border=\"1\" class=\"dataframe\">\n",
       "  <thead>\n",
       "    <tr style=\"text-align: right;\">\n",
       "      <th></th>\n",
       "      <th>M97496</th>\n",
       "      <th>R36977</th>\n",
       "      <th>T96548</th>\n",
       "      <th>Z50753</th>\n",
       "      <th>M83670</th>\n",
       "      <th>M77836</th>\n",
       "      <th>J03037.2</th>\n",
       "      <th>T64297</th>\n",
       "      <th>U17077</th>\n",
       "      <th>tumor</th>\n",
       "    </tr>\n",
       "  </thead>\n",
       "  <tbody>\n",
       "    <tr>\n",
       "      <th>0</th>\n",
       "      <td>10</td>\n",
       "      <td>159</td>\n",
       "      <td>163</td>\n",
       "      <td>35</td>\n",
       "      <td>-81</td>\n",
       "      <td>108</td>\n",
       "      <td>2</td>\n",
       "      <td>249</td>\n",
       "      <td>16</td>\n",
       "      <td>1</td>\n",
       "    </tr>\n",
       "    <tr>\n",
       "      <th>1</th>\n",
       "      <td>60</td>\n",
       "      <td>100</td>\n",
       "      <td>113</td>\n",
       "      <td>26</td>\n",
       "      <td>-30</td>\n",
       "      <td>106</td>\n",
       "      <td>7</td>\n",
       "      <td>131</td>\n",
       "      <td>40</td>\n",
       "      <td>1</td>\n",
       "    </tr>\n",
       "    <tr>\n",
       "      <th>2</th>\n",
       "      <td>48</td>\n",
       "      <td>94</td>\n",
       "      <td>35</td>\n",
       "      <td>25</td>\n",
       "      <td>-1</td>\n",
       "      <td>123</td>\n",
       "      <td>7</td>\n",
       "      <td>228</td>\n",
       "      <td>35</td>\n",
       "      <td>1</td>\n",
       "    </tr>\n",
       "    <tr>\n",
       "      <th>3</th>\n",
       "      <td>78</td>\n",
       "      <td>87</td>\n",
       "      <td>227</td>\n",
       "      <td>41</td>\n",
       "      <td>4</td>\n",
       "      <td>51</td>\n",
       "      <td>4</td>\n",
       "      <td>661</td>\n",
       "      <td>29</td>\n",
       "      <td>1</td>\n",
       "    </tr>\n",
       "    <tr>\n",
       "      <th>4</th>\n",
       "      <td>19</td>\n",
       "      <td>91</td>\n",
       "      <td>-8</td>\n",
       "      <td>29</td>\n",
       "      <td>-34</td>\n",
       "      <td>122</td>\n",
       "      <td>3</td>\n",
       "      <td>125</td>\n",
       "      <td>47</td>\n",
       "      <td>1</td>\n",
       "    </tr>\n",
       "  </tbody>\n",
       "</table>\n",
       "</div>"
      ],
      "text/plain": [
       "   M97496  R36977  T96548  Z50753  M83670  M77836  J03037.2  T64297  U17077  \\\n",
       "0      10     159     163      35     -81     108         2     249      16   \n",
       "1      60     100     113      26     -30     106         7     131      40   \n",
       "2      48      94      35      25      -1     123         7     228      35   \n",
       "3      78      87     227      41       4      51         4     661      29   \n",
       "4      19      91      -8      29     -34     122         3     125      47   \n",
       "\n",
       "   tumor  \n",
       "0      1  \n",
       "1      1  \n",
       "2      1  \n",
       "3      1  \n",
       "4      1  "
      ]
     },
     "execution_count": 31,
     "metadata": {},
     "output_type": "execute_result"
    }
   ],
   "source": [
    "data.head()"
   ]
  },
  {
   "cell_type": "code",
   "execution_count": 32,
   "id": "801c45fe",
   "metadata": {
    "execution": {
     "iopub.execute_input": "2022-01-28T17:37:13.509246Z",
     "iopub.status.busy": "2022-01-28T17:37:13.508441Z",
     "iopub.status.idle": "2022-01-28T17:37:13.513936Z",
     "shell.execute_reply": "2022-01-28T17:37:13.514513Z",
     "shell.execute_reply.started": "2022-01-28T17:05:52.427582Z"
    },
    "papermill": {
     "duration": 0.066572,
     "end_time": "2022-01-28T17:37:13.514726",
     "exception": false,
     "start_time": "2022-01-28T17:37:13.448154",
     "status": "completed"
    },
    "tags": []
   },
   "outputs": [
    {
     "data": {
      "text/plain": [
       "360"
      ]
     },
     "execution_count": 32,
     "metadata": {},
     "output_type": "execute_result"
    }
   ],
   "source": [
    "data.size"
   ]
  },
  {
   "cell_type": "code",
   "execution_count": 33,
   "id": "cf68fb32",
   "metadata": {
    "execution": {
     "iopub.execute_input": "2022-01-28T17:37:13.644134Z",
     "iopub.status.busy": "2022-01-28T17:37:13.643186Z",
     "iopub.status.idle": "2022-01-28T17:37:13.650224Z",
     "shell.execute_reply": "2022-01-28T17:37:13.649441Z",
     "shell.execute_reply.started": "2022-01-28T17:05:58.441637Z"
    },
    "papermill": {
     "duration": 0.080668,
     "end_time": "2022-01-28T17:37:13.650411",
     "exception": false,
     "start_time": "2022-01-28T17:37:13.569743",
     "status": "completed"
    },
    "tags": []
   },
   "outputs": [
    {
     "data": {
      "text/plain": [
       "Index(['M97496', 'R36977', 'T96548', 'Z50753', 'M83670', 'M77836', 'J03037.2',\n",
       "       'T64297', 'U17077', 'tumor'],\n",
       "      dtype='object')"
      ]
     },
     "execution_count": 33,
     "metadata": {},
     "output_type": "execute_result"
    }
   ],
   "source": [
    "data.columns"
   ]
  },
  {
   "cell_type": "code",
   "execution_count": 34,
   "id": "d65c2853",
   "metadata": {
    "execution": {
     "iopub.execute_input": "2022-01-28T17:37:13.775359Z",
     "iopub.status.busy": "2022-01-28T17:37:13.774699Z",
     "iopub.status.idle": "2022-01-28T17:37:13.784435Z",
     "shell.execute_reply": "2022-01-28T17:37:13.785037Z",
     "shell.execute_reply.started": "2022-01-28T17:06:09.156655Z"
    },
    "papermill": {
     "duration": 0.066229,
     "end_time": "2022-01-28T17:37:13.785218",
     "exception": false,
     "start_time": "2022-01-28T17:37:13.718989",
     "status": "completed"
    },
    "tags": []
   },
   "outputs": [
    {
     "data": {
      "text/plain": [
       "M97496      0\n",
       "R36977      0\n",
       "T96548      0\n",
       "Z50753      0\n",
       "M83670      0\n",
       "M77836      0\n",
       "J03037.2    0\n",
       "T64297      0\n",
       "U17077      0\n",
       "tumor       0\n",
       "dtype: int64"
      ]
     },
     "execution_count": 34,
     "metadata": {},
     "output_type": "execute_result"
    }
   ],
   "source": [
    "data.isnull().sum()"
   ]
  },
  {
   "cell_type": "code",
   "execution_count": 35,
   "id": "66ae7211",
   "metadata": {
    "execution": {
     "iopub.execute_input": "2022-01-28T17:37:13.904629Z",
     "iopub.status.busy": "2022-01-28T17:37:13.903906Z",
     "iopub.status.idle": "2022-01-28T17:37:13.906815Z",
     "shell.execute_reply": "2022-01-28T17:37:13.907396Z",
     "shell.execute_reply.started": "2022-01-28T17:06:16.779171Z"
    },
    "papermill": {
     "duration": 0.067405,
     "end_time": "2022-01-28T17:37:13.907591",
     "exception": false,
     "start_time": "2022-01-28T17:37:13.840186",
     "status": "completed"
    },
    "tags": []
   },
   "outputs": [
    {
     "data": {
      "text/plain": [
       "0"
      ]
     },
     "execution_count": 35,
     "metadata": {},
     "output_type": "execute_result"
    }
   ],
   "source": [
    "data.duplicated().sum()"
   ]
  },
  {
   "cell_type": "code",
   "execution_count": 36,
   "id": "8eb2579b",
   "metadata": {
    "execution": {
     "iopub.execute_input": "2022-01-28T17:37:14.021289Z",
     "iopub.status.busy": "2022-01-28T17:37:14.020626Z",
     "iopub.status.idle": "2022-01-28T17:37:14.025888Z",
     "shell.execute_reply": "2022-01-28T17:37:14.026518Z",
     "shell.execute_reply.started": "2022-01-28T17:11:47.490994Z"
    },
    "papermill": {
     "duration": 0.064229,
     "end_time": "2022-01-28T17:37:14.026726",
     "exception": false,
     "start_time": "2022-01-28T17:37:13.962497",
     "status": "completed"
    },
    "tags": []
   },
   "outputs": [],
   "source": [
    "X = data.iloc[:, :-1].values\n",
    "y = data.iloc[:, -1].values"
   ]
  },
  {
   "cell_type": "markdown",
   "id": "b14c1951",
   "metadata": {
    "papermill": {
     "duration": 0.054018,
     "end_time": "2022-01-28T17:37:14.137966",
     "exception": false,
     "start_time": "2022-01-28T17:37:14.083948",
     "status": "completed"
    },
    "tags": []
   },
   "source": [
    "# Splitting the dataset into the Training set and Test set"
   ]
  },
  {
   "cell_type": "code",
   "execution_count": 37,
   "id": "90269274",
   "metadata": {
    "execution": {
     "iopub.execute_input": "2022-01-28T17:37:14.251934Z",
     "iopub.status.busy": "2022-01-28T17:37:14.250895Z",
     "iopub.status.idle": "2022-01-28T17:37:14.252806Z",
     "shell.execute_reply": "2022-01-28T17:37:14.253379Z",
     "shell.execute_reply.started": "2022-01-28T17:27:44.944587Z"
    },
    "papermill": {
     "duration": 0.062165,
     "end_time": "2022-01-28T17:37:14.253564",
     "exception": false,
     "start_time": "2022-01-28T17:37:14.191399",
     "status": "completed"
    },
    "tags": []
   },
   "outputs": [],
   "source": [
    "from sklearn.model_selection import train_test_split\n",
    "X_train, X_test, y_train, y_test = train_test_split(X, y, test_size = 0.25, random_state = 0)"
   ]
  },
  {
   "cell_type": "markdown",
   "id": "5c317797",
   "metadata": {
    "papermill": {
     "duration": 0.052888,
     "end_time": "2022-01-28T17:37:14.359908",
     "exception": false,
     "start_time": "2022-01-28T17:37:14.307020",
     "status": "completed"
    },
    "tags": []
   },
   "source": [
    "# Feature scaling"
   ]
  },
  {
   "cell_type": "code",
   "execution_count": 38,
   "id": "6192e444",
   "metadata": {
    "execution": {
     "iopub.execute_input": "2022-01-28T17:37:14.470232Z",
     "iopub.status.busy": "2022-01-28T17:37:14.469248Z",
     "iopub.status.idle": "2022-01-28T17:37:14.474453Z",
     "shell.execute_reply": "2022-01-28T17:37:14.475023Z",
     "shell.execute_reply.started": "2022-01-28T17:27:47.072569Z"
    },
    "papermill": {
     "duration": 0.061955,
     "end_time": "2022-01-28T17:37:14.475194",
     "exception": false,
     "start_time": "2022-01-28T17:37:14.413239",
     "status": "completed"
    },
    "tags": []
   },
   "outputs": [],
   "source": [
    "from sklearn.preprocessing import StandardScaler\n",
    "sc = StandardScaler()\n",
    "X_train = sc.fit_transform(X_train)\n",
    "X_test = sc.transform(X_test)"
   ]
  },
  {
   "cell_type": "markdown",
   "id": "01584128",
   "metadata": {
    "papermill": {
     "duration": 0.053287,
     "end_time": "2022-01-28T17:37:14.582071",
     "exception": false,
     "start_time": "2022-01-28T17:37:14.528784",
     "status": "completed"
    },
    "tags": []
   },
   "source": [
    "# Logistic Regression"
   ]
  },
  {
   "cell_type": "code",
   "execution_count": 39,
   "id": "76a7d013",
   "metadata": {
    "execution": {
     "iopub.execute_input": "2022-01-28T17:37:14.693088Z",
     "iopub.status.busy": "2022-01-28T17:37:14.692134Z",
     "iopub.status.idle": "2022-01-28T17:37:14.708802Z",
     "shell.execute_reply": "2022-01-28T17:37:14.709301Z",
     "shell.execute_reply.started": "2022-01-28T17:27:49.626881Z"
    },
    "papermill": {
     "duration": 0.073888,
     "end_time": "2022-01-28T17:37:14.709472",
     "exception": false,
     "start_time": "2022-01-28T17:37:14.635584",
     "status": "completed"
    },
    "tags": []
   },
   "outputs": [
    {
     "data": {
      "text/plain": [
       "LogisticRegression(random_state=0)"
      ]
     },
     "execution_count": 39,
     "metadata": {},
     "output_type": "execute_result"
    }
   ],
   "source": [
    "from sklearn.linear_model import LogisticRegression\n",
    "classifier = LogisticRegression(random_state = 0)\n",
    "classifier.fit(X_train, y_train)"
   ]
  },
  {
   "cell_type": "code",
   "execution_count": 40,
   "id": "c66a7efa",
   "metadata": {
    "execution": {
     "iopub.execute_input": "2022-01-28T17:37:14.825042Z",
     "iopub.status.busy": "2022-01-28T17:37:14.824187Z",
     "iopub.status.idle": "2022-01-28T17:37:14.826919Z",
     "shell.execute_reply": "2022-01-28T17:37:14.826343Z",
     "shell.execute_reply.started": "2022-01-28T17:27:51.697210Z"
    },
    "papermill": {
     "duration": 0.06214,
     "end_time": "2022-01-28T17:37:14.827065",
     "exception": false,
     "start_time": "2022-01-28T17:37:14.764925",
     "status": "completed"
    },
    "tags": []
   },
   "outputs": [],
   "source": [
    "y_pred = classifier.predict(X_test)"
   ]
  },
  {
   "cell_type": "code",
   "execution_count": 41,
   "id": "0c05cfcc",
   "metadata": {
    "execution": {
     "iopub.execute_input": "2022-01-28T17:37:14.938507Z",
     "iopub.status.busy": "2022-01-28T17:37:14.937879Z",
     "iopub.status.idle": "2022-01-28T17:37:14.945679Z",
     "shell.execute_reply": "2022-01-28T17:37:14.945128Z",
     "shell.execute_reply.started": "2022-01-28T17:27:53.797349Z"
    },
    "papermill": {
     "duration": 0.064917,
     "end_time": "2022-01-28T17:37:14.945823",
     "exception": false,
     "start_time": "2022-01-28T17:37:14.880906",
     "status": "completed"
    },
    "tags": []
   },
   "outputs": [
    {
     "name": "stdout",
     "output_type": "stream",
     "text": [
      "[[4 0]\n",
      " [0 5]]\n"
     ]
    }
   ],
   "source": [
    "from sklearn.metrics import confusion_matrix, accuracy_score\n",
    "cm = confusion_matrix(y_test, y_pred)\n",
    "print(cm)\n",
    "acc1 = accuracy_score(y_test, y_pred)"
   ]
  },
  {
   "cell_type": "code",
   "execution_count": 42,
   "id": "473af039",
   "metadata": {
    "execution": {
     "iopub.execute_input": "2022-01-28T17:37:15.060182Z",
     "iopub.status.busy": "2022-01-28T17:37:15.059464Z",
     "iopub.status.idle": "2022-01-28T17:37:15.064044Z",
     "shell.execute_reply": "2022-01-28T17:37:15.064538Z",
     "shell.execute_reply.started": "2022-01-28T17:27:55.938275Z"
    },
    "papermill": {
     "duration": 0.063786,
     "end_time": "2022-01-28T17:37:15.064726",
     "exception": false,
     "start_time": "2022-01-28T17:37:15.000940",
     "status": "completed"
    },
    "tags": []
   },
   "outputs": [
    {
     "name": "stdout",
     "output_type": "stream",
     "text": [
      "1.0\n"
     ]
    }
   ],
   "source": [
    "print(acc1)"
   ]
  },
  {
   "cell_type": "markdown",
   "id": "af181fa6",
   "metadata": {
    "papermill": {
     "duration": 0.05549,
     "end_time": "2022-01-28T17:37:15.177935",
     "exception": false,
     "start_time": "2022-01-28T17:37:15.122445",
     "status": "completed"
    },
    "tags": []
   },
   "source": [
    "# KNN"
   ]
  },
  {
   "cell_type": "code",
   "execution_count": 43,
   "id": "c9476fc8",
   "metadata": {
    "execution": {
     "iopub.execute_input": "2022-01-28T17:37:15.289874Z",
     "iopub.status.busy": "2022-01-28T17:37:15.289257Z",
     "iopub.status.idle": "2022-01-28T17:37:15.295439Z",
     "shell.execute_reply": "2022-01-28T17:37:15.295979Z",
     "shell.execute_reply.started": "2022-01-28T17:28:00.049557Z"
    },
    "papermill": {
     "duration": 0.063526,
     "end_time": "2022-01-28T17:37:15.296168",
     "exception": false,
     "start_time": "2022-01-28T17:37:15.232642",
     "status": "completed"
    },
    "tags": []
   },
   "outputs": [],
   "source": [
    "from sklearn.neighbors import KNeighborsClassifier\n",
    "KNN = KNeighborsClassifier(n_neighbors=9)\n",
    "KNN.fit(X_train,y_train)\n",
    "pred = KNN.predict(X_test)"
   ]
  },
  {
   "cell_type": "code",
   "execution_count": 44,
   "id": "ff46d41a",
   "metadata": {
    "execution": {
     "iopub.execute_input": "2022-01-28T17:37:15.410774Z",
     "iopub.status.busy": "2022-01-28T17:37:15.410143Z",
     "iopub.status.idle": "2022-01-28T17:37:15.415149Z",
     "shell.execute_reply": "2022-01-28T17:37:15.415761Z",
     "shell.execute_reply.started": "2022-01-28T17:28:02.393084Z"
    },
    "papermill": {
     "duration": 0.064682,
     "end_time": "2022-01-28T17:37:15.415926",
     "exception": false,
     "start_time": "2022-01-28T17:37:15.351244",
     "status": "completed"
    },
    "tags": []
   },
   "outputs": [
    {
     "name": "stdout",
     "output_type": "stream",
     "text": [
      "[[4 0]\n",
      " [0 5]]\n"
     ]
    }
   ],
   "source": [
    "cm_knn = confusion_matrix(y_test, y_pred)\n",
    "print(cm_knn)"
   ]
  },
  {
   "cell_type": "code",
   "execution_count": 45,
   "id": "f935966a",
   "metadata": {
    "execution": {
     "iopub.execute_input": "2022-01-28T17:37:15.534020Z",
     "iopub.status.busy": "2022-01-28T17:37:15.533121Z",
     "iopub.status.idle": "2022-01-28T17:37:15.536609Z",
     "shell.execute_reply": "2022-01-28T17:37:15.537288Z",
     "shell.execute_reply.started": "2022-01-28T17:28:04.220462Z"
    },
    "papermill": {
     "duration": 0.06699,
     "end_time": "2022-01-28T17:37:15.537505",
     "exception": false,
     "start_time": "2022-01-28T17:37:15.470515",
     "status": "completed"
    },
    "tags": []
   },
   "outputs": [
    {
     "name": "stdout",
     "output_type": "stream",
     "text": [
      "Accuracy:  1.0\n"
     ]
    }
   ],
   "source": [
    "acc2 = accuracy_score(y_test, pred)\n",
    "print(\"Accuracy: \",acc2)"
   ]
  },
  {
   "cell_type": "markdown",
   "id": "5d3dd373",
   "metadata": {
    "papermill": {
     "duration": 0.05551,
     "end_time": "2022-01-28T17:37:15.649933",
     "exception": false,
     "start_time": "2022-01-28T17:37:15.594423",
     "status": "completed"
    },
    "tags": []
   },
   "source": [
    "# Applying k-Fold Cross Validation"
   ]
  },
  {
   "cell_type": "code",
   "execution_count": 46,
   "id": "a73921e4",
   "metadata": {
    "execution": {
     "iopub.execute_input": "2022-01-28T17:37:15.765532Z",
     "iopub.status.busy": "2022-01-28T17:37:15.764906Z",
     "iopub.status.idle": "2022-01-28T17:37:15.820115Z",
     "shell.execute_reply": "2022-01-28T17:37:15.819536Z",
     "shell.execute_reply.started": "2022-01-28T17:35:16.114110Z"
    },
    "papermill": {
     "duration": 0.113861,
     "end_time": "2022-01-28T17:37:15.820261",
     "exception": false,
     "start_time": "2022-01-28T17:37:15.706400",
     "status": "completed"
    },
    "tags": []
   },
   "outputs": [
    {
     "name": "stdout",
     "output_type": "stream",
     "text": [
      "Accuracy: 100.00 %\n",
      "Standard Deviation: 0.00 %\n"
     ]
    }
   ],
   "source": [
    "from sklearn.model_selection import cross_val_score\n",
    "accuracies = cross_val_score(estimator = classifier, X = X_train, y = y_train, cv = 10)\n",
    "print(\"Accuracy: {:.2f} %\".format(accuracies.mean()*100))\n",
    "print(\"Standard Deviation: {:.2f} %\".format(accuracies.std()*100))"
   ]
  },
  {
   "cell_type": "markdown",
   "id": "6762ed8f",
   "metadata": {
    "papermill": {
     "duration": 0.055092,
     "end_time": "2022-01-28T17:37:15.932100",
     "exception": false,
     "start_time": "2022-01-28T17:37:15.877008",
     "status": "completed"
    },
    "tags": []
   },
   "source": [
    "# create visualization of models with their accuracy score:"
   ]
  },
  {
   "cell_type": "code",
   "execution_count": 47,
   "id": "b41547e0",
   "metadata": {
    "execution": {
     "iopub.execute_input": "2022-01-28T17:37:16.057032Z",
     "iopub.status.busy": "2022-01-28T17:37:16.048663Z",
     "iopub.status.idle": "2022-01-28T17:37:16.255628Z",
     "shell.execute_reply": "2022-01-28T17:37:16.256173Z",
     "shell.execute_reply.started": "2022-01-28T17:28:19.604678Z"
    },
    "papermill": {
     "duration": 0.267501,
     "end_time": "2022-01-28T17:37:16.256347",
     "exception": false,
     "start_time": "2022-01-28T17:37:15.988846",
     "status": "completed"
    },
    "tags": []
   },
   "outputs": [
    {
     "data": {
      "image/png": "[encoded data removed]",
      "text/plain": [
       "<Figure size 576x432 with 1 Axes>"
      ]
     },
     "metadata": {},
     "output_type": "display_data"
    }
   ],
   "source": [
    "mylist=[]\n",
    "mylist2=[]\n",
    "mylist.append(acc1)\n",
    "mylist2.append(\"Logistic Regression\")\n",
    "mylist.append(acc2)\n",
    "mylist2.append(\"KNN\")\n",
    "plt.rcParams['figure.figsize']=8,6\n",
    "sns.set_style(\"darkgrid\")\n",
    "ax = sns.barplot(x=mylist2, y=mylist, palette = \"rocket\", saturation =1.5)\n",
    "plt.xlabel(\"Classification Models\", fontsize = 20 )\n",
    "plt.ylabel(\"Accuracy\", fontsize = 20)\n",
    "plt.title(\"Accuracy of different Classification Models\", fontsize = 20)\n",
    "plt.xticks(fontsize = 11, horizontalalignment = 'center', rotation = 8)\n",
    "plt.yticks(fontsize = 13)\n",
    "for p in ax.patches:\n",
    "    width, height = p.get_width(), p.get_height()\n",
    "    x, y = p.get_xy() \n",
    "    ax.annotate(f'{height:.2%}', (x + width/2, y + height*1.02), ha='center', fontsize = 'x-large')\n",
    "plt.show()"
   ]
  }
 ],
 "metadata": {
  "kernelspec": {
   "display_name": "Python 3",
   "language": "python",
   "name": "python3"
  },
  "language_info": {
   "codemirror_mode": {
    "name": "ipython",
    "version": 3
   },
   "file_extension": ".py",
   "mimetype": "text/x-python",
   "name": "python",
   "nbconvert_exporter": "python",
   "pygments_lexer": "ipython3",
   "version": "3.7.12"
  },
  "papermill": {
   "default_parameters": {},
   "duration": 58.662386,
   "end_time": "2022-01-28T17:37:17.023570",
   "environment_variables": {},
   "exception": null,
   "input_path": "__notebook__.ipynb",
   "output_path": "__notebook__.ipynb",
   "parameters": {},
   "start_time": "2022-01-28T17:36:18.361184",
   "version": "2.3.3"
  }
 },
 "nbformat": 4,
 "nbformat_minor": 5
}
