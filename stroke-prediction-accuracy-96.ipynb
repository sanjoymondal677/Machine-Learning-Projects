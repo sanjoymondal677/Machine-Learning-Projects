{
 "cells": [
  {
   "cell_type": "code",
   "execution_count": 1,
   "id": "97ecb3e7",
   "metadata": {
    "_cell_guid": "b1076dfc-b9ad-4769-8c92-a6c4dae69d19",
    "_uuid": "8f2839f25d086af736a60e9eeb907d3b93b6e0e5",
    "execution": {
     "iopub.execute_input": "2022-01-31T15:17:49.267467Z",
     "iopub.status.busy": "2022-01-31T15:17:49.265663Z",
     "iopub.status.idle": "2022-01-31T15:17:49.290305Z",
     "shell.execute_reply": "2022-01-31T15:17:49.290900Z",
     "shell.execute_reply.started": "2022-01-31T15:12:00.802634Z"
    },
    "papermill": {
     "duration": 0.099955,
     "end_time": "2022-01-31T15:17:49.291195",
     "exception": false,
     "start_time": "2022-01-31T15:17:49.191240",
     "status": "completed"
    },
    "tags": []
   },
   "outputs": [
    {
     "name": "stdout",
     "output_type": "stream",
     "text": [
      "/kaggle/input/stroke-prediction-dataset/healthcare-dataset-stroke-data.csv\n"
     ]
    }
   ],
   "source": [
    "# This Python 3 environment comes with many helpful analytics libraries installed\n",
    "# It is defined by the kaggle/python Docker image: https://github.com/kaggle/docker-python\n",
    "# For example, here's several helpful packages to load\n",
    "\n",
    "import numpy as np # linear algebra\n",
    "import pandas as pd # data processing, CSV file I/O (e.g. pd.read_csv)\n",
    "\n",
    "# Input data files are available in the read-only \"../input/\" directory\n",
    "# For example, running this (by clicking run or pressing Shift+Enter) will list all files under the input directory\n",
    "\n",
    "import os\n",
    "for dirname, _, filenames in os.walk('/kaggle/input'):\n",
    "    for filename in filenames:\n",
    "        print(os.path.join(dirname, filename))\n",
    "\n",
    "# You can write up to 20GB to the current directory (/kaggle/working/) that gets preserved as output when you create a version using \"Save & Run All\" \n",
    "# You can also write temporary files to /kaggle/temp/, but they won't be saved outside of the current session"
   ]
  },
  {
   "cell_type": "markdown",
   "id": "7556daed",
   "metadata": {
    "papermill": {
     "duration": 0.06873,
     "end_time": "2022-01-31T15:17:49.430115",
     "exception": false,
     "start_time": "2022-01-31T15:17:49.361385",
     "status": "completed"
    },
    "tags": []
   },
   "source": [
    "![](https://media.istockphoto.com/illustrations/brain-with-stroke-illustration-id167588136?k=20&m=167588136&s=612x612&w=0&h=EF3_xj0BKuMOKTexjwJCDXr_kWYwU2dULs-OkeUcyg8=)"
   ]
  },
  {
   "cell_type": "markdown",
   "id": "c61fd119",
   "metadata": {
    "papermill": {
     "duration": 0.069221,
     "end_time": "2022-01-31T15:17:49.565131",
     "exception": false,
     "start_time": "2022-01-31T15:17:49.495910",
     "status": "completed"
    },
    "tags": []
   },
   "source": [
    "1. id: unique identifier\n",
    "1. gender: \"Male\", \"Female\" or \"Other\"\n",
    "1. age: age of the patient\n",
    "1. hypertension: 0 if the patient doesn't have hypertension, 1 if the patient has hypertension\n",
    "1. heart_disease: 0 if the patient doesn't have any heart diseases, 1 if the patient has a heart disease\n",
    "1. ever_married: \"No\" or \"Yes\"\n",
    "1. work_type: \"children\", \"Govt_jov\", \"Never_worked\", \"Private\" or \"Self-employed\"\n",
    "1. Residence_type: \"Rural\" or \"Urban\"\n",
    "1. avg_glucose_level: average glucose level in blood\n",
    "1.  bmi: body mass index\n",
    "1.  smoking_status: \"formerly smoked\", \"never smoked\", \"smokes\" or \"Unknown\"*\n",
    "1.  stroke: 1 if the patient had a stroke or 0 if not\n",
    "*Note: \"Unknown\" in smoking_status means that the information is unavailable for this patient"
   ]
  },
  {
   "cell_type": "code",
   "execution_count": 2,
   "id": "a115ca77",
   "metadata": {
    "execution": {
     "iopub.execute_input": "2022-01-31T15:17:49.700922Z",
     "iopub.status.busy": "2022-01-31T15:17:49.700025Z",
     "iopub.status.idle": "2022-01-31T15:17:51.050368Z",
     "shell.execute_reply": "2022-01-31T15:17:51.049932Z",
     "shell.execute_reply.started": "2022-01-31T15:12:00.814541Z"
    },
    "papermill": {
     "duration": 1.419069,
     "end_time": "2022-01-31T15:17:51.050481",
     "exception": false,
     "start_time": "2022-01-31T15:17:49.631412",
     "status": "completed"
    },
    "tags": []
   },
   "outputs": [],
   "source": [
    "import numpy as np\n",
    "import pandas as pd\n",
    "import matplotlib.pyplot as plt\n",
    "import seaborn as sns"
   ]
  },
  {
   "cell_type": "code",
   "execution_count": 3,
   "id": "1e79917d",
   "metadata": {
    "execution": {
     "iopub.execute_input": "2022-01-31T15:17:51.137664Z",
     "iopub.status.busy": "2022-01-31T15:17:51.137118Z",
     "iopub.status.idle": "2022-01-31T15:17:51.168029Z",
     "shell.execute_reply": "2022-01-31T15:17:51.168475Z",
     "shell.execute_reply.started": "2022-01-31T15:12:00.829675Z"
    },
    "papermill": {
     "duration": 0.076468,
     "end_time": "2022-01-31T15:17:51.168631",
     "exception": false,
     "start_time": "2022-01-31T15:17:51.092163",
     "status": "completed"
    },
    "tags": []
   },
   "outputs": [],
   "source": [
    "data = pd.read_csv(\"../input/stroke-prediction-dataset/healthcare-dataset-stroke-data.csv\")"
   ]
  },
  {
   "cell_type": "code",
   "execution_count": 4,
   "id": "b7fd24eb",
   "metadata": {
    "execution": {
     "iopub.execute_input": "2022-01-31T15:17:51.262688Z",
     "iopub.status.busy": "2022-01-31T15:17:51.262146Z",
     "iopub.status.idle": "2022-01-31T15:17:51.281725Z",
     "shell.execute_reply": "2022-01-31T15:17:51.282226Z",
     "shell.execute_reply.started": "2022-01-31T15:12:00.855741Z"
    },
    "papermill": {
     "duration": 0.070853,
     "end_time": "2022-01-31T15:17:51.282367",
     "exception": false,
     "start_time": "2022-01-31T15:17:51.211514",
     "status": "completed"
    },
    "tags": []
   },
   "outputs": [
    {
     "data": {
      "text/html": [
       "<div>\n",
       "<style scoped>\n",
       "    .dataframe tbody tr th:only-of-type {\n",
       "        vertical-align: middle;\n",
       "    }\n",
       "\n",
       "    .dataframe tbody tr th {\n",
       "        vertical-align: top;\n",
       "    }\n",
       "\n",
       "    .dataframe thead th {\n",
       "        text-align: right;\n",
       "    }\n",
       "</style>\n",
       "<table border=\"1\" class=\"dataframe\">\n",
       "  <thead>\n",
       "    <tr style=\"text-align: right;\">\n",
       "      <th></th>\n",
       "      <th>id</th>\n",
       "      <th>gender</th>\n",
       "      <th>age</th>\n",
       "      <th>hypertension</th>\n",
       "      <th>heart_disease</th>\n",
       "      <th>ever_married</th>\n",
       "      <th>work_type</th>\n",
       "      <th>Residence_type</th>\n",
       "      <th>avg_glucose_level</th>\n",
       "      <th>bmi</th>\n",
       "      <th>smoking_status</th>\n",
       "      <th>stroke</th>\n",
       "    </tr>\n",
       "  </thead>\n",
       "  <tbody>\n",
       "    <tr>\n",
       "      <th>0</th>\n",
       "      <td>9046</td>\n",
       "      <td>Male</td>\n",
       "      <td>67.0</td>\n",
       "      <td>0</td>\n",
       "      <td>1</td>\n",
       "      <td>Yes</td>\n",
       "      <td>Private</td>\n",
       "      <td>Urban</td>\n",
       "      <td>228.69</td>\n",
       "      <td>36.6</td>\n",
       "      <td>formerly smoked</td>\n",
       "      <td>1</td>\n",
       "    </tr>\n",
       "    <tr>\n",
       "      <th>1</th>\n",
       "      <td>51676</td>\n",
       "      <td>Female</td>\n",
       "      <td>61.0</td>\n",
       "      <td>0</td>\n",
       "      <td>0</td>\n",
       "      <td>Yes</td>\n",
       "      <td>Self-employed</td>\n",
       "      <td>Rural</td>\n",
       "      <td>202.21</td>\n",
       "      <td>NaN</td>\n",
       "      <td>never smoked</td>\n",
       "      <td>1</td>\n",
       "    </tr>\n",
       "    <tr>\n",
       "      <th>2</th>\n",
       "      <td>31112</td>\n",
       "      <td>Male</td>\n",
       "      <td>80.0</td>\n",
       "      <td>0</td>\n",
       "      <td>1</td>\n",
       "      <td>Yes</td>\n",
       "      <td>Private</td>\n",
       "      <td>Rural</td>\n",
       "      <td>105.92</td>\n",
       "      <td>32.5</td>\n",
       "      <td>never smoked</td>\n",
       "      <td>1</td>\n",
       "    </tr>\n",
       "    <tr>\n",
       "      <th>3</th>\n",
       "      <td>60182</td>\n",
       "      <td>Female</td>\n",
       "      <td>49.0</td>\n",
       "      <td>0</td>\n",
       "      <td>0</td>\n",
       "      <td>Yes</td>\n",
       "      <td>Private</td>\n",
       "      <td>Urban</td>\n",
       "      <td>171.23</td>\n",
       "      <td>34.4</td>\n",
       "      <td>smokes</td>\n",
       "      <td>1</td>\n",
       "    </tr>\n",
       "    <tr>\n",
       "      <th>4</th>\n",
       "      <td>1665</td>\n",
       "      <td>Female</td>\n",
       "      <td>79.0</td>\n",
       "      <td>1</td>\n",
       "      <td>0</td>\n",
       "      <td>Yes</td>\n",
       "      <td>Self-employed</td>\n",
       "      <td>Rural</td>\n",
       "      <td>174.12</td>\n",
       "      <td>24.0</td>\n",
       "      <td>never smoked</td>\n",
       "      <td>1</td>\n",
       "    </tr>\n",
       "  </tbody>\n",
       "</table>\n",
       "</div>"
      ],
      "text/plain": [
       "      id  gender   age  hypertension  heart_disease ever_married  \\\n",
       "0   9046    Male  67.0             0              1          Yes   \n",
       "1  51676  Female  61.0             0              0          Yes   \n",
       "2  31112    Male  80.0             0              1          Yes   \n",
       "3  60182  Female  49.0             0              0          Yes   \n",
       "4   1665  Female  79.0             1              0          Yes   \n",
       "\n",
       "       work_type Residence_type  avg_glucose_level   bmi   smoking_status  \\\n",
       "0        Private          Urban             228.69  36.6  formerly smoked   \n",
       "1  Self-employed          Rural             202.21   NaN     never smoked   \n",
       "2        Private          Rural             105.92  32.5     never smoked   \n",
       "3        Private          Urban             171.23  34.4           smokes   \n",
       "4  Self-employed          Rural             174.12  24.0     never smoked   \n",
       "\n",
       "   stroke  \n",
       "0       1  \n",
       "1       1  \n",
       "2       1  \n",
       "3       1  \n",
       "4       1  "
      ]
     },
     "execution_count": 4,
     "metadata": {},
     "output_type": "execute_result"
    }
   ],
   "source": [
    "data.head()"
   ]
  },
  {
   "cell_type": "code",
   "execution_count": 5,
   "id": "0b43f9fe",
   "metadata": {
    "execution": {
     "iopub.execute_input": "2022-01-31T15:17:51.371252Z",
     "iopub.status.busy": "2022-01-31T15:17:51.370728Z",
     "iopub.status.idle": "2022-01-31T15:17:51.382201Z",
     "shell.execute_reply": "2022-01-31T15:17:51.382643Z",
     "shell.execute_reply.started": "2022-01-31T15:12:00.876314Z"
    },
    "papermill": {
     "duration": 0.05853,
     "end_time": "2022-01-31T15:17:51.382784",
     "exception": false,
     "start_time": "2022-01-31T15:17:51.324254",
     "status": "completed"
    },
    "tags": []
   },
   "outputs": [],
   "source": [
    "data = data.drop('id',axis=1)"
   ]
  },
  {
   "cell_type": "code",
   "execution_count": 6,
   "id": "a9ccf4e6",
   "metadata": {
    "execution": {
     "iopub.execute_input": "2022-01-31T15:17:51.470386Z",
     "iopub.status.busy": "2022-01-31T15:17:51.469859Z",
     "iopub.status.idle": "2022-01-31T15:17:51.494013Z",
     "shell.execute_reply": "2022-01-31T15:17:51.493526Z",
     "shell.execute_reply.started": "2022-01-31T15:12:00.885948Z"
    },
    "papermill": {
     "duration": 0.06895,
     "end_time": "2022-01-31T15:17:51.494121",
     "exception": false,
     "start_time": "2022-01-31T15:17:51.425171",
     "status": "completed"
    },
    "tags": []
   },
   "outputs": [
    {
     "name": "stdout",
     "output_type": "stream",
     "text": [
      "<class 'pandas.core.frame.DataFrame'>\n",
      "RangeIndex: 5110 entries, 0 to 5109\n",
      "Data columns (total 11 columns):\n",
      " #   Column             Non-Null Count  Dtype  \n",
      "---  ------             --------------  -----  \n",
      " 0   gender             5110 non-null   object \n",
      " 1   age                5110 non-null   float64\n",
      " 2   hypertension       5110 non-null   int64  \n",
      " 3   heart_disease      5110 non-null   int64  \n",
      " 4   ever_married       5110 non-null   object \n",
      " 5   work_type          5110 non-null   object \n",
      " 6   Residence_type     5110 non-null   object \n",
      " 7   avg_glucose_level  5110 non-null   float64\n",
      " 8   bmi                4909 non-null   float64\n",
      " 9   smoking_status     5110 non-null   object \n",
      " 10  stroke             5110 non-null   int64  \n",
      "dtypes: float64(3), int64(3), object(5)\n",
      "memory usage: 439.3+ KB\n"
     ]
    }
   ],
   "source": [
    "data.info()"
   ]
  },
  {
   "cell_type": "code",
   "execution_count": 7,
   "id": "a9c4ce00",
   "metadata": {
    "execution": {
     "iopub.execute_input": "2022-01-31T15:17:51.581112Z",
     "iopub.status.busy": "2022-01-31T15:17:51.580577Z",
     "iopub.status.idle": "2022-01-31T15:17:51.595137Z",
     "shell.execute_reply": "2022-01-31T15:17:51.595603Z",
     "shell.execute_reply.started": "2022-01-31T15:12:00.912302Z"
    },
    "papermill": {
     "duration": 0.060027,
     "end_time": "2022-01-31T15:17:51.595758",
     "exception": false,
     "start_time": "2022-01-31T15:17:51.535731",
     "status": "completed"
    },
    "tags": []
   },
   "outputs": [
    {
     "data": {
      "text/plain": [
       "gender                  3\n",
       "age                   104\n",
       "hypertension            2\n",
       "heart_disease           2\n",
       "ever_married            2\n",
       "work_type               5\n",
       "Residence_type          2\n",
       "avg_glucose_level    3979\n",
       "bmi                   418\n",
       "smoking_status          4\n",
       "stroke                  2\n",
       "dtype: int64"
      ]
     },
     "execution_count": 7,
     "metadata": {},
     "output_type": "execute_result"
    }
   ],
   "source": [
    "data.nunique()"
   ]
  },
  {
   "cell_type": "code",
   "execution_count": 8,
   "id": "79248bc2",
   "metadata": {
    "execution": {
     "iopub.execute_input": "2022-01-31T15:17:51.682412Z",
     "iopub.status.busy": "2022-01-31T15:17:51.681827Z",
     "iopub.status.idle": "2022-01-31T15:17:51.686680Z",
     "shell.execute_reply": "2022-01-31T15:17:51.687190Z",
     "shell.execute_reply.started": "2022-01-31T15:12:00.926687Z"
    },
    "papermill": {
     "duration": 0.049876,
     "end_time": "2022-01-31T15:17:51.687347",
     "exception": false,
     "start_time": "2022-01-31T15:17:51.637471",
     "status": "completed"
    },
    "tags": []
   },
   "outputs": [
    {
     "data": {
      "text/plain": [
       "(5110, 11)"
      ]
     },
     "execution_count": 8,
     "metadata": {},
     "output_type": "execute_result"
    }
   ],
   "source": [
    "data.shape"
   ]
  },
  {
   "cell_type": "code",
   "execution_count": 9,
   "id": "86c9f2f1",
   "metadata": {
    "execution": {
     "iopub.execute_input": "2022-01-31T15:17:51.776927Z",
     "iopub.status.busy": "2022-01-31T15:17:51.776353Z",
     "iopub.status.idle": "2022-01-31T15:17:51.790671Z",
     "shell.execute_reply": "2022-01-31T15:17:51.791100Z",
     "shell.execute_reply.started": "2022-01-31T15:12:00.935755Z"
    },
    "papermill": {
     "duration": 0.060866,
     "end_time": "2022-01-31T15:17:51.791258",
     "exception": false,
     "start_time": "2022-01-31T15:17:51.730392",
     "status": "completed"
    },
    "tags": []
   },
   "outputs": [
    {
     "data": {
      "text/plain": [
       "0"
      ]
     },
     "execution_count": 9,
     "metadata": {},
     "output_type": "execute_result"
    }
   ],
   "source": [
    "data.duplicated().sum()"
   ]
  },
  {
   "cell_type": "code",
   "execution_count": 10,
   "id": "38fffee6",
   "metadata": {
    "execution": {
     "iopub.execute_input": "2022-01-31T15:17:51.882275Z",
     "iopub.status.busy": "2022-01-31T15:17:51.881706Z",
     "iopub.status.idle": "2022-01-31T15:17:51.892382Z",
     "shell.execute_reply": "2022-01-31T15:17:51.892868Z",
     "shell.execute_reply.started": "2022-01-31T15:12:00.952882Z"
    },
    "papermill": {
     "duration": 0.057929,
     "end_time": "2022-01-31T15:17:51.893027",
     "exception": false,
     "start_time": "2022-01-31T15:17:51.835098",
     "status": "completed"
    },
    "tags": []
   },
   "outputs": [
    {
     "data": {
      "text/plain": [
       "gender                 0\n",
       "age                    0\n",
       "hypertension           0\n",
       "heart_disease          0\n",
       "ever_married           0\n",
       "work_type              0\n",
       "Residence_type         0\n",
       "avg_glucose_level      0\n",
       "bmi                  201\n",
       "smoking_status         0\n",
       "stroke                 0\n",
       "dtype: int64"
      ]
     },
     "execution_count": 10,
     "metadata": {},
     "output_type": "execute_result"
    }
   ],
   "source": [
    "data.isnull().sum()"
   ]
  },
  {
   "cell_type": "code",
   "execution_count": 11,
   "id": "a44e279e",
   "metadata": {
    "execution": {
     "iopub.execute_input": "2022-01-31T15:17:51.987615Z",
     "iopub.status.busy": "2022-01-31T15:17:51.987099Z",
     "iopub.status.idle": "2022-01-31T15:17:51.998569Z",
     "shell.execute_reply": "2022-01-31T15:17:51.999033Z",
     "shell.execute_reply.started": "2022-01-31T15:12:00.968718Z"
    },
    "papermill": {
     "duration": 0.061859,
     "end_time": "2022-01-31T15:17:51.999187",
     "exception": false,
     "start_time": "2022-01-31T15:17:51.937328",
     "status": "completed"
    },
    "tags": []
   },
   "outputs": [],
   "source": [
    "import missingno as msno"
   ]
  },
  {
   "cell_type": "code",
   "execution_count": 12,
   "id": "37deee95",
   "metadata": {
    "execution": {
     "iopub.execute_input": "2022-01-31T15:17:52.093636Z",
     "iopub.status.busy": "2022-01-31T15:17:52.093099Z",
     "iopub.status.idle": "2022-01-31T15:17:52.805851Z",
     "shell.execute_reply": "2022-01-31T15:17:52.805374Z",
     "shell.execute_reply.started": "2022-01-31T15:12:00.974577Z"
    },
    "papermill": {
     "duration": 0.760474,
     "end_time": "2022-01-31T15:17:52.805987",
     "exception": false,
     "start_time": "2022-01-31T15:17:52.045513",
     "status": "completed"
    },
    "tags": []
   },
   "outputs": [
    {
     "data": {
      "image/png": "[encoded data removed]",
      "text/plain": [
       "<Figure size 1728x720 with 3 Axes>"
      ]
     },
     "metadata": {
      "needs_background": "light"
     },
     "output_type": "display_data"
    }
   ],
   "source": [
    "msno.bar(data)\n",
    "plt.show()"
   ]
  },
  {
   "cell_type": "code",
   "execution_count": 13,
   "id": "39a80272",
   "metadata": {
    "execution": {
     "iopub.execute_input": "2022-01-31T15:17:52.904138Z",
     "iopub.status.busy": "2022-01-31T15:17:52.903595Z",
     "iopub.status.idle": "2022-01-31T15:17:52.906026Z",
     "shell.execute_reply": "2022-01-31T15:17:52.906498Z",
     "shell.execute_reply.started": "2022-01-31T15:12:01.863051Z"
    },
    "papermill": {
     "duration": 0.056522,
     "end_time": "2022-01-31T15:17:52.906636",
     "exception": false,
     "start_time": "2022-01-31T15:17:52.850114",
     "status": "completed"
    },
    "tags": []
   },
   "outputs": [
    {
     "data": {
      "text/plain": [
       "gender               0.000000\n",
       "age                  0.000000\n",
       "hypertension         0.000000\n",
       "heart_disease        0.000000\n",
       "ever_married         0.000000\n",
       "work_type            0.000000\n",
       "Residence_type       0.000000\n",
       "avg_glucose_level    0.000000\n",
       "bmi                  3.933464\n",
       "smoking_status       0.000000\n",
       "stroke               0.000000\n",
       "dtype: float64"
      ]
     },
     "execution_count": 13,
     "metadata": {},
     "output_type": "execute_result"
    }
   ],
   "source": [
    "data.isnull().mean() * 100 # Check in percentages of missing values."
   ]
  },
  {
   "cell_type": "code",
   "execution_count": 14,
   "id": "43d5de92",
   "metadata": {
    "execution": {
     "iopub.execute_input": "2022-01-31T15:17:53.001438Z",
     "iopub.status.busy": "2022-01-31T15:17:53.000860Z",
     "iopub.status.idle": "2022-01-31T15:17:53.008859Z",
     "shell.execute_reply": "2022-01-31T15:17:53.009358Z",
     "shell.execute_reply.started": "2022-01-31T15:12:01.881715Z"
    },
    "papermill": {
     "duration": 0.058457,
     "end_time": "2022-01-31T15:17:53.009512",
     "exception": false,
     "start_time": "2022-01-31T15:17:52.951055",
     "status": "completed"
    },
    "tags": []
   },
   "outputs": [],
   "source": [
    "data = data.dropna(subset=['bmi'])"
   ]
  },
  {
   "cell_type": "code",
   "execution_count": 15,
   "id": "1706d417",
   "metadata": {
    "execution": {
     "iopub.execute_input": "2022-01-31T15:17:53.159965Z",
     "iopub.status.busy": "2022-01-31T15:17:53.110388Z",
     "iopub.status.idle": "2022-01-31T15:17:53.813681Z",
     "shell.execute_reply": "2022-01-31T15:17:53.814076Z",
     "shell.execute_reply.started": "2022-01-31T15:12:01.893491Z"
    },
    "papermill": {
     "duration": 0.758145,
     "end_time": "2022-01-31T15:17:53.814224",
     "exception": false,
     "start_time": "2022-01-31T15:17:53.056079",
     "status": "completed"
    },
    "tags": []
   },
   "outputs": [
    {
     "data": {
      "image/png": "[encoded data removed]",
      "text/plain": [
       "<Figure size 1728x720 with 3 Axes>"
      ]
     },
     "metadata": {
      "needs_background": "light"
     },
     "output_type": "display_data"
    }
   ],
   "source": [
    "msno.bar(data)\n",
    "plt.show()"
   ]
  },
  {
   "cell_type": "markdown",
   "id": "49646dd7",
   "metadata": {
    "papermill": {
     "duration": 0.047025,
     "end_time": "2022-01-31T15:17:53.907744",
     "exception": false,
     "start_time": "2022-01-31T15:17:53.860719",
     "status": "completed"
    },
    "tags": []
   },
   "source": [
    "# EDA"
   ]
  },
  {
   "cell_type": "code",
   "execution_count": 16,
   "id": "b409aaad",
   "metadata": {
    "execution": {
     "iopub.execute_input": "2022-01-31T15:17:54.006149Z",
     "iopub.status.busy": "2022-01-31T15:17:54.005336Z",
     "iopub.status.idle": "2022-01-31T15:17:54.019280Z",
     "shell.execute_reply": "2022-01-31T15:17:54.018785Z",
     "shell.execute_reply.started": "2022-01-31T15:12:02.777225Z"
    },
    "papermill": {
     "duration": 0.06515,
     "end_time": "2022-01-31T15:17:54.019407",
     "exception": false,
     "start_time": "2022-01-31T15:17:53.954257",
     "status": "completed"
    },
    "tags": []
   },
   "outputs": [
    {
     "data": {
      "text/html": [
       "<div>\n",
       "<style scoped>\n",
       "    .dataframe tbody tr th:only-of-type {\n",
       "        vertical-align: middle;\n",
       "    }\n",
       "\n",
       "    .dataframe tbody tr th {\n",
       "        vertical-align: top;\n",
       "    }\n",
       "\n",
       "    .dataframe thead th {\n",
       "        text-align: right;\n",
       "    }\n",
       "</style>\n",
       "<table border=\"1\" class=\"dataframe\">\n",
       "  <thead>\n",
       "    <tr style=\"text-align: right;\">\n",
       "      <th></th>\n",
       "      <th>gender</th>\n",
       "      <th>age</th>\n",
       "      <th>hypertension</th>\n",
       "      <th>heart_disease</th>\n",
       "      <th>ever_married</th>\n",
       "      <th>work_type</th>\n",
       "      <th>Residence_type</th>\n",
       "      <th>avg_glucose_level</th>\n",
       "      <th>bmi</th>\n",
       "      <th>smoking_status</th>\n",
       "      <th>stroke</th>\n",
       "    </tr>\n",
       "  </thead>\n",
       "  <tbody>\n",
       "    <tr>\n",
       "      <th>0</th>\n",
       "      <td>Male</td>\n",
       "      <td>67.0</td>\n",
       "      <td>0</td>\n",
       "      <td>1</td>\n",
       "      <td>Yes</td>\n",
       "      <td>Private</td>\n",
       "      <td>Urban</td>\n",
       "      <td>228.69</td>\n",
       "      <td>36.6</td>\n",
       "      <td>formerly smoked</td>\n",
       "      <td>1</td>\n",
       "    </tr>\n",
       "    <tr>\n",
       "      <th>2</th>\n",
       "      <td>Male</td>\n",
       "      <td>80.0</td>\n",
       "      <td>0</td>\n",
       "      <td>1</td>\n",
       "      <td>Yes</td>\n",
       "      <td>Private</td>\n",
       "      <td>Rural</td>\n",
       "      <td>105.92</td>\n",
       "      <td>32.5</td>\n",
       "      <td>never smoked</td>\n",
       "      <td>1</td>\n",
       "    </tr>\n",
       "  </tbody>\n",
       "</table>\n",
       "</div>"
      ],
      "text/plain": [
       "  gender   age  hypertension  heart_disease ever_married work_type  \\\n",
       "0   Male  67.0             0              1          Yes   Private   \n",
       "2   Male  80.0             0              1          Yes   Private   \n",
       "\n",
       "  Residence_type  avg_glucose_level   bmi   smoking_status  stroke  \n",
       "0          Urban             228.69  36.6  formerly smoked       1  \n",
       "2          Rural             105.92  32.5     never smoked       1  "
      ]
     },
     "execution_count": 16,
     "metadata": {},
     "output_type": "execute_result"
    }
   ],
   "source": [
    "data.head(2)"
   ]
  },
  {
   "cell_type": "code",
   "execution_count": 17,
   "id": "8a95befb",
   "metadata": {
    "execution": {
     "iopub.execute_input": "2022-01-31T15:17:54.152188Z",
     "iopub.status.busy": "2022-01-31T15:17:54.124917Z",
     "iopub.status.idle": "2022-01-31T15:17:55.260338Z",
     "shell.execute_reply": "2022-01-31T15:17:55.260910Z",
     "shell.execute_reply.started": "2022-01-31T15:12:02.795916Z"
    },
    "papermill": {
     "duration": 1.194095,
     "end_time": "2022-01-31T15:17:55.261194",
     "exception": false,
     "start_time": "2022-01-31T15:17:54.067099",
     "status": "completed"
    },
    "tags": []
   },
   "outputs": [
    {
     "data": {
      "image/png": "[encoded data removed]",
      "text/plain": [
       "<Figure size 1728x720 with 8 Axes>"
      ]
     },
     "metadata": {
      "needs_background": "light"
     },
     "output_type": "display_data"
    }
   ],
   "source": [
    "fig, axes = plt.subplots(2, 4, sharex=True, figsize=(24,10))\n",
    "fig.suptitle('Count of all categorical variables')\n",
    "sns.countplot(ax=axes[0, 0], data=data, x='stroke',hue = 'gender',palette='crest')\n",
    "sns.countplot(ax=axes[0, 1], data=data, x='stroke',hue='hypertension',palette='RdPu')\n",
    "sns.countplot(ax=axes[0, 2], data=data, x='stroke',hue = 'heart_disease',palette='magma')\n",
    "sns.countplot(ax=axes[0, 3], data=data, x='stroke',hue = 'ever_married',palette=\"ch:s=-.2,r=.6\")\n",
    "sns.countplot(ax=axes[1,0],data = data, x ='stroke' ,hue = 'work_type',palette=\"dark:salmon_r\")\n",
    "sns.countplot(ax=axes[1,1],data = data, x ='stroke',hue='Residence_type',palette=\"coolwarm\" )\n",
    "sns.countplot(ax=axes[1,2],data = data, x ='stroke',hue='smoking_status',palette='viridis' )\n",
    "sns.countplot(ax=axes[1,3],data = data, x ='stroke',palette='RdPu' )\n",
    "plt.show()"
   ]
  },
  {
   "cell_type": "code",
   "execution_count": 18,
   "id": "08822163",
   "metadata": {
    "execution": {
     "iopub.execute_input": "2022-01-31T15:17:55.365529Z",
     "iopub.status.busy": "2022-01-31T15:17:55.365018Z",
     "iopub.status.idle": "2022-01-31T15:17:55.634628Z",
     "shell.execute_reply": "2022-01-31T15:17:55.633863Z",
     "shell.execute_reply.started": "2022-01-31T15:12:04.158348Z"
    },
    "papermill": {
     "duration": 0.323166,
     "end_time": "2022-01-31T15:17:55.635313",
     "exception": false,
     "start_time": "2022-01-31T15:17:55.312147",
     "status": "completed"
    },
    "tags": []
   },
   "outputs": [
    {
     "name": "stderr",
     "output_type": "stream",
     "text": [
      "/opt/conda/lib/python3.7/site-packages/seaborn/distributions.py:2619: FutureWarning: `distplot` is a deprecated function and will be removed in a future version. Please adapt your code to use either `displot` (a figure-level function with similar flexibility) or `histplot` (an axes-level function for histograms).\n",
      "  warnings.warn(msg, FutureWarning)\n"
     ]
    },
    {
     "data": {
      "image/png": "[encoded data removed]",
      "text/plain": [
       "<Figure size 432x288 with 1 Axes>"
      ]
     },
     "metadata": {
      "needs_background": "light"
     },
     "output_type": "display_data"
    }
   ],
   "source": [
    "sns.distplot(data['age'])\n",
    "plt.show()"
   ]
  },
  {
   "cell_type": "markdown",
   "id": "d103b62e",
   "metadata": {
    "papermill": {
     "duration": 0.053831,
     "end_time": "2022-01-31T15:17:55.750407",
     "exception": false,
     "start_time": "2022-01-31T15:17:55.696576",
     "status": "completed"
    },
    "tags": []
   },
   "source": [
    "# Apply the label encoding for categorical columns"
   ]
  },
  {
   "cell_type": "code",
   "execution_count": 19,
   "id": "35eb385c",
   "metadata": {
    "execution": {
     "iopub.execute_input": "2022-01-31T15:17:55.858231Z",
     "iopub.status.busy": "2022-01-31T15:17:55.857663Z",
     "iopub.status.idle": "2022-01-31T15:17:55.863310Z",
     "shell.execute_reply": "2022-01-31T15:17:55.863713Z",
     "shell.execute_reply.started": "2022-01-31T15:12:04.460127Z"
    },
    "papermill": {
     "duration": 0.061207,
     "end_time": "2022-01-31T15:17:55.863874",
     "exception": false,
     "start_time": "2022-01-31T15:17:55.802667",
     "status": "completed"
    },
    "tags": []
   },
   "outputs": [],
   "source": [
    "def LABEL_ENCODING(c1):\n",
    "    from sklearn import preprocessing\n",
    "    label_encoder = preprocessing.LabelEncoder()\n",
    "    data[c1]= label_encoder.fit_transform(data[c1])\n",
    "    data[c1].unique()"
   ]
  },
  {
   "cell_type": "code",
   "execution_count": 20,
   "id": "866b42e9",
   "metadata": {
    "execution": {
     "iopub.execute_input": "2022-01-31T15:17:55.969970Z",
     "iopub.status.busy": "2022-01-31T15:17:55.969469Z",
     "iopub.status.idle": "2022-01-31T15:17:55.984705Z",
     "shell.execute_reply": "2022-01-31T15:17:55.984233Z",
     "shell.execute_reply.started": "2022-01-31T15:12:04.466534Z"
    },
    "papermill": {
     "duration": 0.068536,
     "end_time": "2022-01-31T15:17:55.984829",
     "exception": false,
     "start_time": "2022-01-31T15:17:55.916293",
     "status": "completed"
    },
    "tags": []
   },
   "outputs": [
    {
     "data": {
      "text/html": [
       "<div>\n",
       "<style scoped>\n",
       "    .dataframe tbody tr th:only-of-type {\n",
       "        vertical-align: middle;\n",
       "    }\n",
       "\n",
       "    .dataframe tbody tr th {\n",
       "        vertical-align: top;\n",
       "    }\n",
       "\n",
       "    .dataframe thead th {\n",
       "        text-align: right;\n",
       "    }\n",
       "</style>\n",
       "<table border=\"1\" class=\"dataframe\">\n",
       "  <thead>\n",
       "    <tr style=\"text-align: right;\">\n",
       "      <th></th>\n",
       "      <th>gender</th>\n",
       "      <th>age</th>\n",
       "      <th>hypertension</th>\n",
       "      <th>heart_disease</th>\n",
       "      <th>ever_married</th>\n",
       "      <th>work_type</th>\n",
       "      <th>Residence_type</th>\n",
       "      <th>avg_glucose_level</th>\n",
       "      <th>bmi</th>\n",
       "      <th>smoking_status</th>\n",
       "      <th>stroke</th>\n",
       "    </tr>\n",
       "  </thead>\n",
       "  <tbody>\n",
       "    <tr>\n",
       "      <th>0</th>\n",
       "      <td>Male</td>\n",
       "      <td>67.0</td>\n",
       "      <td>0</td>\n",
       "      <td>1</td>\n",
       "      <td>Yes</td>\n",
       "      <td>Private</td>\n",
       "      <td>Urban</td>\n",
       "      <td>228.69</td>\n",
       "      <td>36.6</td>\n",
       "      <td>formerly smoked</td>\n",
       "      <td>1</td>\n",
       "    </tr>\n",
       "    <tr>\n",
       "      <th>2</th>\n",
       "      <td>Male</td>\n",
       "      <td>80.0</td>\n",
       "      <td>0</td>\n",
       "      <td>1</td>\n",
       "      <td>Yes</td>\n",
       "      <td>Private</td>\n",
       "      <td>Rural</td>\n",
       "      <td>105.92</td>\n",
       "      <td>32.5</td>\n",
       "      <td>never smoked</td>\n",
       "      <td>1</td>\n",
       "    </tr>\n",
       "    <tr>\n",
       "      <th>3</th>\n",
       "      <td>Female</td>\n",
       "      <td>49.0</td>\n",
       "      <td>0</td>\n",
       "      <td>0</td>\n",
       "      <td>Yes</td>\n",
       "      <td>Private</td>\n",
       "      <td>Urban</td>\n",
       "      <td>171.23</td>\n",
       "      <td>34.4</td>\n",
       "      <td>smokes</td>\n",
       "      <td>1</td>\n",
       "    </tr>\n",
       "    <tr>\n",
       "      <th>4</th>\n",
       "      <td>Female</td>\n",
       "      <td>79.0</td>\n",
       "      <td>1</td>\n",
       "      <td>0</td>\n",
       "      <td>Yes</td>\n",
       "      <td>Self-employed</td>\n",
       "      <td>Rural</td>\n",
       "      <td>174.12</td>\n",
       "      <td>24.0</td>\n",
       "      <td>never smoked</td>\n",
       "      <td>1</td>\n",
       "    </tr>\n",
       "    <tr>\n",
       "      <th>5</th>\n",
       "      <td>Male</td>\n",
       "      <td>81.0</td>\n",
       "      <td>0</td>\n",
       "      <td>0</td>\n",
       "      <td>Yes</td>\n",
       "      <td>Private</td>\n",
       "      <td>Urban</td>\n",
       "      <td>186.21</td>\n",
       "      <td>29.0</td>\n",
       "      <td>formerly smoked</td>\n",
       "      <td>1</td>\n",
       "    </tr>\n",
       "  </tbody>\n",
       "</table>\n",
       "</div>"
      ],
      "text/plain": [
       "   gender   age  hypertension  heart_disease ever_married      work_type  \\\n",
       "0    Male  67.0             0              1          Yes        Private   \n",
       "2    Male  80.0             0              1          Yes        Private   \n",
       "3  Female  49.0             0              0          Yes        Private   \n",
       "4  Female  79.0             1              0          Yes  Self-employed   \n",
       "5    Male  81.0             0              0          Yes        Private   \n",
       "\n",
       "  Residence_type  avg_glucose_level   bmi   smoking_status  stroke  \n",
       "0          Urban             228.69  36.6  formerly smoked       1  \n",
       "2          Rural             105.92  32.5     never smoked       1  \n",
       "3          Urban             171.23  34.4           smokes       1  \n",
       "4          Rural             174.12  24.0     never smoked       1  \n",
       "5          Urban             186.21  29.0  formerly smoked       1  "
      ]
     },
     "execution_count": 20,
     "metadata": {},
     "output_type": "execute_result"
    }
   ],
   "source": [
    "data.head()"
   ]
  },
  {
   "cell_type": "code",
   "execution_count": 21,
   "id": "6a3624d7",
   "metadata": {
    "execution": {
     "iopub.execute_input": "2022-01-31T15:17:56.091273Z",
     "iopub.status.busy": "2022-01-31T15:17:56.090736Z",
     "iopub.status.idle": "2022-01-31T15:17:56.282320Z",
     "shell.execute_reply": "2022-01-31T15:17:56.281737Z",
     "shell.execute_reply.started": "2022-01-31T15:12:04.492586Z"
    },
    "papermill": {
     "duration": 0.244582,
     "end_time": "2022-01-31T15:17:56.282431",
     "exception": false,
     "start_time": "2022-01-31T15:17:56.037849",
     "status": "completed"
    },
    "tags": []
   },
   "outputs": [
    {
     "data": {
      "text/html": [
       "<div>\n",
       "<style scoped>\n",
       "    .dataframe tbody tr th:only-of-type {\n",
       "        vertical-align: middle;\n",
       "    }\n",
       "\n",
       "    .dataframe tbody tr th {\n",
       "        vertical-align: top;\n",
       "    }\n",
       "\n",
       "    .dataframe thead th {\n",
       "        text-align: right;\n",
       "    }\n",
       "</style>\n",
       "<table border=\"1\" class=\"dataframe\">\n",
       "  <thead>\n",
       "    <tr style=\"text-align: right;\">\n",
       "      <th></th>\n",
       "      <th>gender</th>\n",
       "      <th>age</th>\n",
       "      <th>hypertension</th>\n",
       "      <th>heart_disease</th>\n",
       "      <th>ever_married</th>\n",
       "      <th>work_type</th>\n",
       "      <th>Residence_type</th>\n",
       "      <th>avg_glucose_level</th>\n",
       "      <th>bmi</th>\n",
       "      <th>smoking_status</th>\n",
       "      <th>stroke</th>\n",
       "    </tr>\n",
       "  </thead>\n",
       "  <tbody>\n",
       "    <tr>\n",
       "      <th>0</th>\n",
       "      <td>1</td>\n",
       "      <td>67.0</td>\n",
       "      <td>0</td>\n",
       "      <td>1</td>\n",
       "      <td>1</td>\n",
       "      <td>2</td>\n",
       "      <td>1</td>\n",
       "      <td>228.69</td>\n",
       "      <td>36.6</td>\n",
       "      <td>1</td>\n",
       "      <td>1</td>\n",
       "    </tr>\n",
       "    <tr>\n",
       "      <th>2</th>\n",
       "      <td>1</td>\n",
       "      <td>80.0</td>\n",
       "      <td>0</td>\n",
       "      <td>1</td>\n",
       "      <td>1</td>\n",
       "      <td>2</td>\n",
       "      <td>0</td>\n",
       "      <td>105.92</td>\n",
       "      <td>32.5</td>\n",
       "      <td>2</td>\n",
       "      <td>1</td>\n",
       "    </tr>\n",
       "    <tr>\n",
       "      <th>3</th>\n",
       "      <td>0</td>\n",
       "      <td>49.0</td>\n",
       "      <td>0</td>\n",
       "      <td>0</td>\n",
       "      <td>1</td>\n",
       "      <td>2</td>\n",
       "      <td>1</td>\n",
       "      <td>171.23</td>\n",
       "      <td>34.4</td>\n",
       "      <td>3</td>\n",
       "      <td>1</td>\n",
       "    </tr>\n",
       "    <tr>\n",
       "      <th>4</th>\n",
       "      <td>0</td>\n",
       "      <td>79.0</td>\n",
       "      <td>1</td>\n",
       "      <td>0</td>\n",
       "      <td>1</td>\n",
       "      <td>3</td>\n",
       "      <td>0</td>\n",
       "      <td>174.12</td>\n",
       "      <td>24.0</td>\n",
       "      <td>2</td>\n",
       "      <td>1</td>\n",
       "    </tr>\n",
       "    <tr>\n",
       "      <th>5</th>\n",
       "      <td>1</td>\n",
       "      <td>81.0</td>\n",
       "      <td>0</td>\n",
       "      <td>0</td>\n",
       "      <td>1</td>\n",
       "      <td>2</td>\n",
       "      <td>1</td>\n",
       "      <td>186.21</td>\n",
       "      <td>29.0</td>\n",
       "      <td>1</td>\n",
       "      <td>1</td>\n",
       "    </tr>\n",
       "    <tr>\n",
       "      <th>...</th>\n",
       "      <td>...</td>\n",
       "      <td>...</td>\n",
       "      <td>...</td>\n",
       "      <td>...</td>\n",
       "      <td>...</td>\n",
       "      <td>...</td>\n",
       "      <td>...</td>\n",
       "      <td>...</td>\n",
       "      <td>...</td>\n",
       "      <td>...</td>\n",
       "      <td>...</td>\n",
       "    </tr>\n",
       "    <tr>\n",
       "      <th>5104</th>\n",
       "      <td>0</td>\n",
       "      <td>13.0</td>\n",
       "      <td>0</td>\n",
       "      <td>0</td>\n",
       "      <td>0</td>\n",
       "      <td>4</td>\n",
       "      <td>0</td>\n",
       "      <td>103.08</td>\n",
       "      <td>18.6</td>\n",
       "      <td>0</td>\n",
       "      <td>0</td>\n",
       "    </tr>\n",
       "    <tr>\n",
       "      <th>5106</th>\n",
       "      <td>0</td>\n",
       "      <td>81.0</td>\n",
       "      <td>0</td>\n",
       "      <td>0</td>\n",
       "      <td>1</td>\n",
       "      <td>3</td>\n",
       "      <td>1</td>\n",
       "      <td>125.20</td>\n",
       "      <td>40.0</td>\n",
       "      <td>2</td>\n",
       "      <td>0</td>\n",
       "    </tr>\n",
       "    <tr>\n",
       "      <th>5107</th>\n",
       "      <td>0</td>\n",
       "      <td>35.0</td>\n",
       "      <td>0</td>\n",
       "      <td>0</td>\n",
       "      <td>1</td>\n",
       "      <td>3</td>\n",
       "      <td>0</td>\n",
       "      <td>82.99</td>\n",
       "      <td>30.6</td>\n",
       "      <td>2</td>\n",
       "      <td>0</td>\n",
       "    </tr>\n",
       "    <tr>\n",
       "      <th>5108</th>\n",
       "      <td>1</td>\n",
       "      <td>51.0</td>\n",
       "      <td>0</td>\n",
       "      <td>0</td>\n",
       "      <td>1</td>\n",
       "      <td>2</td>\n",
       "      <td>0</td>\n",
       "      <td>166.29</td>\n",
       "      <td>25.6</td>\n",
       "      <td>1</td>\n",
       "      <td>0</td>\n",
       "    </tr>\n",
       "    <tr>\n",
       "      <th>5109</th>\n",
       "      <td>0</td>\n",
       "      <td>44.0</td>\n",
       "      <td>0</td>\n",
       "      <td>0</td>\n",
       "      <td>1</td>\n",
       "      <td>0</td>\n",
       "      <td>1</td>\n",
       "      <td>85.28</td>\n",
       "      <td>26.2</td>\n",
       "      <td>0</td>\n",
       "      <td>0</td>\n",
       "    </tr>\n",
       "  </tbody>\n",
       "</table>\n",
       "<p>4909 rows × 11 columns</p>\n",
       "</div>"
      ],
      "text/plain": [
       "      gender   age  hypertension  heart_disease  ever_married  work_type  \\\n",
       "0          1  67.0             0              1             1          2   \n",
       "2          1  80.0             0              1             1          2   \n",
       "3          0  49.0             0              0             1          2   \n",
       "4          0  79.0             1              0             1          3   \n",
       "5          1  81.0             0              0             1          2   \n",
       "...      ...   ...           ...            ...           ...        ...   \n",
       "5104       0  13.0             0              0             0          4   \n",
       "5106       0  81.0             0              0             1          3   \n",
       "5107       0  35.0             0              0             1          3   \n",
       "5108       1  51.0             0              0             1          2   \n",
       "5109       0  44.0             0              0             1          0   \n",
       "\n",
       "      Residence_type  avg_glucose_level   bmi  smoking_status  stroke  \n",
       "0                  1             228.69  36.6               1       1  \n",
       "2                  0             105.92  32.5               2       1  \n",
       "3                  1             171.23  34.4               3       1  \n",
       "4                  0             174.12  24.0               2       1  \n",
       "5                  1             186.21  29.0               1       1  \n",
       "...              ...                ...   ...             ...     ...  \n",
       "5104               0             103.08  18.6               0       0  \n",
       "5106               1             125.20  40.0               2       0  \n",
       "5107               0              82.99  30.6               2       0  \n",
       "5108               0             166.29  25.6               1       0  \n",
       "5109               1              85.28  26.2               0       0  \n",
       "\n",
       "[4909 rows x 11 columns]"
      ]
     },
     "execution_count": 21,
     "metadata": {},
     "output_type": "execute_result"
    }
   ],
   "source": [
    "LABEL_ENCODING(\"gender\")\n",
    "LABEL_ENCODING(\"ever_married\")\n",
    "LABEL_ENCODING(\"work_type\")\n",
    "LABEL_ENCODING(\"Residence_type\")\n",
    "LABEL_ENCODING(\"smoking_status\")\n",
    "data"
   ]
  },
  {
   "cell_type": "markdown",
   "id": "5fc46f6a",
   "metadata": {
    "papermill": {
     "duration": 0.050813,
     "end_time": "2022-01-31T15:17:56.384572",
     "exception": false,
     "start_time": "2022-01-31T15:17:56.333759",
     "status": "completed"
    },
    "tags": []
   },
   "source": [
    "# Import the independent and dependent variable."
   ]
  },
  {
   "cell_type": "code",
   "execution_count": 22,
   "id": "ed20de51",
   "metadata": {
    "execution": {
     "iopub.execute_input": "2022-01-31T15:17:56.490808Z",
     "iopub.status.busy": "2022-01-31T15:17:56.490288Z",
     "iopub.status.idle": "2022-01-31T15:17:56.494368Z",
     "shell.execute_reply": "2022-01-31T15:17:56.494800Z",
     "shell.execute_reply.started": "2022-01-31T15:12:04.531130Z"
    },
    "papermill": {
     "duration": 0.061076,
     "end_time": "2022-01-31T15:17:56.494983",
     "exception": false,
     "start_time": "2022-01-31T15:17:56.433907",
     "status": "completed"
    },
    "tags": []
   },
   "outputs": [],
   "source": [
    "x = data.drop('stroke',axis=1)\n",
    "y = data['stroke']"
   ]
  },
  {
   "cell_type": "code",
   "execution_count": 23,
   "id": "55c2a7e2",
   "metadata": {
    "execution": {
     "iopub.execute_input": "2022-01-31T15:17:56.602741Z",
     "iopub.status.busy": "2022-01-31T15:17:56.600825Z",
     "iopub.status.idle": "2022-01-31T15:17:56.604856Z",
     "shell.execute_reply": "2022-01-31T15:17:56.605378Z",
     "shell.execute_reply.started": "2022-01-31T15:12:04.540077Z"
    },
    "papermill": {
     "duration": 0.059862,
     "end_time": "2022-01-31T15:17:56.605527",
     "exception": false,
     "start_time": "2022-01-31T15:17:56.545665",
     "status": "completed"
    },
    "tags": []
   },
   "outputs": [
    {
     "name": "stdout",
     "output_type": "stream",
     "text": [
      "(4909, 10)\n",
      "(4909,)\n"
     ]
    }
   ],
   "source": [
    "print(x.shape)\n",
    "print(y.shape)"
   ]
  },
  {
   "cell_type": "markdown",
   "id": "afe8a488",
   "metadata": {
    "papermill": {
     "duration": 0.049608,
     "end_time": "2022-01-31T15:17:56.705097",
     "exception": false,
     "start_time": "2022-01-31T15:17:56.655489",
     "status": "completed"
    },
    "tags": []
   },
   "source": [
    "# Feature Selection"
   ]
  },
  {
   "cell_type": "markdown",
   "id": "3a681ac6",
   "metadata": {
    "papermill": {
     "duration": 0.050764,
     "end_time": "2022-01-31T15:17:56.805859",
     "exception": false,
     "start_time": "2022-01-31T15:17:56.755095",
     "status": "completed"
    },
    "tags": []
   },
   "source": [
    "# Apply SelectKBest Algorithm"
   ]
  },
  {
   "cell_type": "code",
   "execution_count": 24,
   "id": "c73d6446",
   "metadata": {
    "execution": {
     "iopub.execute_input": "2022-01-31T15:17:56.910676Z",
     "iopub.status.busy": "2022-01-31T15:17:56.909995Z",
     "iopub.status.idle": "2022-01-31T15:17:57.166929Z",
     "shell.execute_reply": "2022-01-31T15:17:57.166434Z",
     "shell.execute_reply.started": "2022-01-31T15:12:04.552895Z"
    },
    "papermill": {
     "duration": 0.310184,
     "end_time": "2022-01-31T15:17:57.167048",
     "exception": false,
     "start_time": "2022-01-31T15:17:56.856864",
     "status": "completed"
    },
    "tags": []
   },
   "outputs": [],
   "source": [
    "from sklearn.feature_selection import SelectKBest\n",
    "from sklearn.feature_selection import chi2"
   ]
  },
  {
   "cell_type": "code",
   "execution_count": 25,
   "id": "1c242220",
   "metadata": {
    "execution": {
     "iopub.execute_input": "2022-01-31T15:17:57.278348Z",
     "iopub.status.busy": "2022-01-31T15:17:57.277655Z",
     "iopub.status.idle": "2022-01-31T15:17:57.282423Z",
     "shell.execute_reply": "2022-01-31T15:17:57.282848Z",
     "shell.execute_reply.started": "2022-01-31T15:12:04.565558Z"
    },
    "papermill": {
     "duration": 0.064515,
     "end_time": "2022-01-31T15:17:57.283013",
     "exception": false,
     "start_time": "2022-01-31T15:17:57.218498",
     "status": "completed"
    },
    "tags": []
   },
   "outputs": [],
   "source": [
    "ordered_rank_features = SelectKBest(score_func=chi2,k=10)\n",
    "ordered_feature = ordered_rank_features.fit(x,y)"
   ]
  },
  {
   "cell_type": "code",
   "execution_count": 26,
   "id": "99caf685",
   "metadata": {
    "execution": {
     "iopub.execute_input": "2022-01-31T15:17:57.386500Z",
     "iopub.status.busy": "2022-01-31T15:17:57.385800Z",
     "iopub.status.idle": "2022-01-31T15:17:57.389896Z",
     "shell.execute_reply": "2022-01-31T15:17:57.390383Z",
     "shell.execute_reply.started": "2022-01-31T15:12:04.580606Z"
    },
    "papermill": {
     "duration": 0.057845,
     "end_time": "2022-01-31T15:17:57.390522",
     "exception": false,
     "start_time": "2022-01-31T15:17:57.332677",
     "status": "completed"
    },
    "tags": []
   },
   "outputs": [],
   "source": [
    "dfscores = pd.DataFrame(ordered_feature.scores_,columns=[\"Score\"])\n",
    "dfcolumns = pd.DataFrame(x.columns)"
   ]
  },
  {
   "cell_type": "code",
   "execution_count": 27,
   "id": "5eda19ae",
   "metadata": {
    "execution": {
     "iopub.execute_input": "2022-01-31T15:17:57.495126Z",
     "iopub.status.busy": "2022-01-31T15:17:57.494635Z",
     "iopub.status.idle": "2022-01-31T15:17:57.503489Z",
     "shell.execute_reply": "2022-01-31T15:17:57.503966Z",
     "shell.execute_reply.started": "2022-01-31T15:12:04.595028Z"
    },
    "papermill": {
     "duration": 0.062522,
     "end_time": "2022-01-31T15:17:57.504088",
     "exception": false,
     "start_time": "2022-01-31T15:17:57.441566",
     "status": "completed"
    },
    "tags": []
   },
   "outputs": [
    {
     "data": {
      "text/html": [
       "<div>\n",
       "<style scoped>\n",
       "    .dataframe tbody tr th:only-of-type {\n",
       "        vertical-align: middle;\n",
       "    }\n",
       "\n",
       "    .dataframe tbody tr th {\n",
       "        vertical-align: top;\n",
       "    }\n",
       "\n",
       "    .dataframe thead th {\n",
       "        text-align: right;\n",
       "    }\n",
       "</style>\n",
       "<table border=\"1\" class=\"dataframe\">\n",
       "  <thead>\n",
       "    <tr style=\"text-align: right;\">\n",
       "      <th></th>\n",
       "      <th>Features</th>\n",
       "      <th>Score</th>\n",
       "    </tr>\n",
       "  </thead>\n",
       "  <tbody>\n",
       "    <tr>\n",
       "      <th>0</th>\n",
       "      <td>gender</td>\n",
       "      <td>0.132460</td>\n",
       "    </tr>\n",
       "    <tr>\n",
       "      <th>1</th>\n",
       "      <td>age</td>\n",
       "      <td>3144.139535</td>\n",
       "    </tr>\n",
       "    <tr>\n",
       "      <th>2</th>\n",
       "      <td>hypertension</td>\n",
       "      <td>90.543821</td>\n",
       "    </tr>\n",
       "    <tr>\n",
       "      <th>3</th>\n",
       "      <td>heart_disease</td>\n",
       "      <td>88.779204</td>\n",
       "    </tr>\n",
       "    <tr>\n",
       "      <th>4</th>\n",
       "      <td>ever_married</td>\n",
       "      <td>18.829557</td>\n",
       "    </tr>\n",
       "    <tr>\n",
       "      <th>5</th>\n",
       "      <td>work_type</td>\n",
       "      <td>3.076416</td>\n",
       "    </tr>\n",
       "    <tr>\n",
       "      <th>6</th>\n",
       "      <td>Residence_type</td>\n",
       "      <td>0.087999</td>\n",
       "    </tr>\n",
       "    <tr>\n",
       "      <th>7</th>\n",
       "      <td>avg_glucose_level</td>\n",
       "      <td>1775.520314</td>\n",
       "    </tr>\n",
       "    <tr>\n",
       "      <th>8</th>\n",
       "      <td>bmi</td>\n",
       "      <td>18.814363</td>\n",
       "    </tr>\n",
       "    <tr>\n",
       "      <th>9</th>\n",
       "      <td>smoking_status</td>\n",
       "      <td>10.805693</td>\n",
       "    </tr>\n",
       "  </tbody>\n",
       "</table>\n",
       "</div>"
      ],
      "text/plain": [
       "            Features        Score\n",
       "0             gender     0.132460\n",
       "1                age  3144.139535\n",
       "2       hypertension    90.543821\n",
       "3      heart_disease    88.779204\n",
       "4       ever_married    18.829557\n",
       "5          work_type     3.076416\n",
       "6     Residence_type     0.087999\n",
       "7  avg_glucose_level  1775.520314\n",
       "8                bmi    18.814363\n",
       "9     smoking_status    10.805693"
      ]
     },
     "execution_count": 27,
     "metadata": {},
     "output_type": "execute_result"
    }
   ],
   "source": [
    "features_rank=pd.concat([dfcolumns,dfscores],axis=1)\n",
    "features_rank.columns=['Features','Score']\n",
    "features_rank"
   ]
  },
  {
   "cell_type": "markdown",
   "id": "8d2d61b6",
   "metadata": {
    "papermill": {
     "duration": 0.052928,
     "end_time": "2022-01-31T15:17:57.608157",
     "exception": false,
     "start_time": "2022-01-31T15:17:57.555229",
     "status": "completed"
    },
    "tags": []
   },
   "source": [
    "# Take top 10 features variables."
   ]
  },
  {
   "cell_type": "code",
   "execution_count": 28,
   "id": "0012d207",
   "metadata": {
    "execution": {
     "iopub.execute_input": "2022-01-31T15:17:57.713201Z",
     "iopub.status.busy": "2022-01-31T15:17:57.712644Z",
     "iopub.status.idle": "2022-01-31T15:17:57.722025Z",
     "shell.execute_reply": "2022-01-31T15:17:57.722479Z",
     "shell.execute_reply.started": "2022-01-31T15:12:04.617890Z"
    },
    "papermill": {
     "duration": 0.063571,
     "end_time": "2022-01-31T15:17:57.722630",
     "exception": false,
     "start_time": "2022-01-31T15:17:57.659059",
     "status": "completed"
    },
    "tags": []
   },
   "outputs": [
    {
     "data": {
      "text/html": [
       "<div>\n",
       "<style scoped>\n",
       "    .dataframe tbody tr th:only-of-type {\n",
       "        vertical-align: middle;\n",
       "    }\n",
       "\n",
       "    .dataframe tbody tr th {\n",
       "        vertical-align: top;\n",
       "    }\n",
       "\n",
       "    .dataframe thead th {\n",
       "        text-align: right;\n",
       "    }\n",
       "</style>\n",
       "<table border=\"1\" class=\"dataframe\">\n",
       "  <thead>\n",
       "    <tr style=\"text-align: right;\">\n",
       "      <th></th>\n",
       "      <th>Features</th>\n",
       "      <th>Score</th>\n",
       "    </tr>\n",
       "  </thead>\n",
       "  <tbody>\n",
       "    <tr>\n",
       "      <th>1</th>\n",
       "      <td>age</td>\n",
       "      <td>3144.139535</td>\n",
       "    </tr>\n",
       "    <tr>\n",
       "      <th>7</th>\n",
       "      <td>avg_glucose_level</td>\n",
       "      <td>1775.520314</td>\n",
       "    </tr>\n",
       "    <tr>\n",
       "      <th>2</th>\n",
       "      <td>hypertension</td>\n",
       "      <td>90.543821</td>\n",
       "    </tr>\n",
       "    <tr>\n",
       "      <th>3</th>\n",
       "      <td>heart_disease</td>\n",
       "      <td>88.779204</td>\n",
       "    </tr>\n",
       "    <tr>\n",
       "      <th>4</th>\n",
       "      <td>ever_married</td>\n",
       "      <td>18.829557</td>\n",
       "    </tr>\n",
       "    <tr>\n",
       "      <th>8</th>\n",
       "      <td>bmi</td>\n",
       "      <td>18.814363</td>\n",
       "    </tr>\n",
       "    <tr>\n",
       "      <th>9</th>\n",
       "      <td>smoking_status</td>\n",
       "      <td>10.805693</td>\n",
       "    </tr>\n",
       "    <tr>\n",
       "      <th>5</th>\n",
       "      <td>work_type</td>\n",
       "      <td>3.076416</td>\n",
       "    </tr>\n",
       "    <tr>\n",
       "      <th>0</th>\n",
       "      <td>gender</td>\n",
       "      <td>0.132460</td>\n",
       "    </tr>\n",
       "    <tr>\n",
       "      <th>6</th>\n",
       "      <td>Residence_type</td>\n",
       "      <td>0.087999</td>\n",
       "    </tr>\n",
       "  </tbody>\n",
       "</table>\n",
       "</div>"
      ],
      "text/plain": [
       "            Features        Score\n",
       "1                age  3144.139535\n",
       "7  avg_glucose_level  1775.520314\n",
       "2       hypertension    90.543821\n",
       "3      heart_disease    88.779204\n",
       "4       ever_married    18.829557\n",
       "8                bmi    18.814363\n",
       "9     smoking_status    10.805693\n",
       "5          work_type     3.076416\n",
       "0             gender     0.132460\n",
       "6     Residence_type     0.087999"
      ]
     },
     "execution_count": 28,
     "metadata": {},
     "output_type": "execute_result"
    }
   ],
   "source": [
    "features_rank.nlargest(10,'Score')"
   ]
  },
  {
   "cell_type": "markdown",
   "id": "a3d8aef6",
   "metadata": {
    "papermill": {
     "duration": 0.053697,
     "end_time": "2022-01-31T15:17:57.828764",
     "exception": false,
     "start_time": "2022-01-31T15:17:57.775067",
     "status": "completed"
    },
    "tags": []
   },
   "source": [
    "**Here is features are only 10 so take it all for model, Feature selection is not use full for this model**"
   ]
  },
  {
   "cell_type": "markdown",
   "id": "625186da",
   "metadata": {
    "papermill": {
     "duration": 0.050414,
     "end_time": "2022-01-31T15:17:57.930552",
     "exception": false,
     "start_time": "2022-01-31T15:17:57.880138",
     "status": "completed"
    },
    "tags": []
   },
   "source": [
    "# Split the dataset into train and test"
   ]
  },
  {
   "cell_type": "code",
   "execution_count": 29,
   "id": "cb572f68",
   "metadata": {
    "execution": {
     "iopub.execute_input": "2022-01-31T15:17:58.038235Z",
     "iopub.status.busy": "2022-01-31T15:17:58.037648Z",
     "iopub.status.idle": "2022-01-31T15:17:58.043278Z",
     "shell.execute_reply": "2022-01-31T15:17:58.043717Z",
     "shell.execute_reply.started": "2022-01-31T15:12:04.631533Z"
    },
    "papermill": {
     "duration": 0.062028,
     "end_time": "2022-01-31T15:17:58.043873",
     "exception": false,
     "start_time": "2022-01-31T15:17:57.981845",
     "status": "completed"
    },
    "tags": []
   },
   "outputs": [],
   "source": [
    "from sklearn.model_selection import train_test_split\n",
    "X_train, X_test, y_train, y_test = train_test_split(x, y, test_size = 0.25, random_state = 0)"
   ]
  },
  {
   "cell_type": "code",
   "execution_count": 30,
   "id": "d9bd2697",
   "metadata": {
    "execution": {
     "iopub.execute_input": "2022-01-31T15:17:58.152648Z",
     "iopub.status.busy": "2022-01-31T15:17:58.152135Z",
     "iopub.status.idle": "2022-01-31T15:17:58.156082Z",
     "shell.execute_reply": "2022-01-31T15:17:58.156552Z",
     "shell.execute_reply.started": "2022-01-31T15:12:04.639222Z"
    },
    "papermill": {
     "duration": 0.060449,
     "end_time": "2022-01-31T15:17:58.156694",
     "exception": false,
     "start_time": "2022-01-31T15:17:58.096245",
     "status": "completed"
    },
    "tags": []
   },
   "outputs": [
    {
     "name": "stdout",
     "output_type": "stream",
     "text": [
      "(3681, 10)\n",
      "(1228, 10)\n",
      "(3681,)\n",
      "(1228,)\n"
     ]
    }
   ],
   "source": [
    "print(X_train.shape)\n",
    "print(X_test.shape)\n",
    "print(y_train.shape)\n",
    "print(y_test.shape)"
   ]
  },
  {
   "cell_type": "markdown",
   "id": "b4a405d7",
   "metadata": {
    "papermill": {
     "duration": 0.050395,
     "end_time": "2022-01-31T15:17:58.259421",
     "exception": false,
     "start_time": "2022-01-31T15:17:58.209026",
     "status": "completed"
    },
    "tags": []
   },
   "source": [
    "# Feature Scaling"
   ]
  },
  {
   "cell_type": "code",
   "execution_count": 31,
   "id": "bac92a71",
   "metadata": {
    "execution": {
     "iopub.execute_input": "2022-01-31T15:17:58.368391Z",
     "iopub.status.busy": "2022-01-31T15:17:58.367835Z",
     "iopub.status.idle": "2022-01-31T15:17:58.374056Z",
     "shell.execute_reply": "2022-01-31T15:17:58.373568Z",
     "shell.execute_reply.started": "2022-01-31T15:12:04.652880Z"
    },
    "papermill": {
     "duration": 0.063672,
     "end_time": "2022-01-31T15:17:58.374175",
     "exception": false,
     "start_time": "2022-01-31T15:17:58.310503",
     "status": "completed"
    },
    "tags": []
   },
   "outputs": [],
   "source": [
    "from sklearn.preprocessing import StandardScaler\n",
    "sc = StandardScaler()\n",
    "X_train = sc.fit_transform(X_train)\n",
    "X_test = sc.transform(X_test)"
   ]
  },
  {
   "cell_type": "code",
   "execution_count": 32,
   "id": "777a137f",
   "metadata": {
    "execution": {
     "iopub.execute_input": "2022-01-31T15:17:58.481100Z",
     "iopub.status.busy": "2022-01-31T15:17:58.480561Z",
     "iopub.status.idle": "2022-01-31T15:17:58.484360Z",
     "shell.execute_reply": "2022-01-31T15:17:58.484847Z",
     "shell.execute_reply.started": "2022-01-31T15:12:04.672523Z"
    },
    "papermill": {
     "duration": 0.059767,
     "end_time": "2022-01-31T15:17:58.485008",
     "exception": false,
     "start_time": "2022-01-31T15:17:58.425241",
     "status": "completed"
    },
    "tags": []
   },
   "outputs": [
    {
     "data": {
      "text/plain": [
       "array([[ 1.20175958,  1.11851407, -0.31171847, ...,  2.89959227,\n",
       "         1.71949811,  0.59276308],\n",
       "       [ 1.20175958,  1.07417662,  3.20802292, ...,  3.36558267,\n",
       "         0.27065544,  0.59276308],\n",
       "       [ 1.20175958,  1.7392384 , -0.31171847, ...,  0.89418939,\n",
       "        -0.31396528,  1.53407494],\n",
       "       ...,\n",
       "       [ 1.20175958, -0.83233382,  3.20802292, ..., -0.5533313 ,\n",
       "        -0.08520065,  1.53407494],\n",
       "       [ 1.20175958, -1.49739561, -0.31171847, ...,  0.84418946,\n",
       "        -0.56814821, -1.28986064],\n",
       "       [ 1.20175958,  0.67513955, -0.31171847, ..., -0.80986251,\n",
       "        -0.16145553,  0.59276308]])"
      ]
     },
     "execution_count": 32,
     "metadata": {},
     "output_type": "execute_result"
    }
   ],
   "source": [
    "X_train"
   ]
  },
  {
   "cell_type": "markdown",
   "id": "fcc15cda",
   "metadata": {
    "papermill": {
     "duration": 0.052066,
     "end_time": "2022-01-31T15:17:58.589748",
     "exception": false,
     "start_time": "2022-01-31T15:17:58.537682",
     "status": "completed"
    },
    "tags": []
   },
   "source": [
    "# Logistic Regression"
   ]
  },
  {
   "cell_type": "code",
   "execution_count": 33,
   "id": "01b64438",
   "metadata": {
    "execution": {
     "iopub.execute_input": "2022-01-31T15:17:58.701037Z",
     "iopub.status.busy": "2022-01-31T15:17:58.700467Z",
     "iopub.status.idle": "2022-01-31T15:17:58.721063Z",
     "shell.execute_reply": "2022-01-31T15:17:58.721674Z",
     "shell.execute_reply.started": "2022-01-31T15:12:04.681142Z"
    },
    "papermill": {
     "duration": 0.077306,
     "end_time": "2022-01-31T15:17:58.721842",
     "exception": false,
     "start_time": "2022-01-31T15:17:58.644536",
     "status": "completed"
    },
    "tags": []
   },
   "outputs": [
    {
     "data": {
      "text/plain": [
       "LogisticRegression(random_state=0)"
      ]
     },
     "execution_count": 33,
     "metadata": {},
     "output_type": "execute_result"
    }
   ],
   "source": [
    "from sklearn.linear_model import LogisticRegression\n",
    "classifier = LogisticRegression(random_state = 0)\n",
    "classifier.fit(X_train, y_train)"
   ]
  },
  {
   "cell_type": "code",
   "execution_count": 34,
   "id": "fc18a66d",
   "metadata": {
    "execution": {
     "iopub.execute_input": "2022-01-31T15:17:58.862065Z",
     "iopub.status.busy": "2022-01-31T15:17:58.861389Z",
     "iopub.status.idle": "2022-01-31T15:17:58.864778Z",
     "shell.execute_reply": "2022-01-31T15:17:58.865389Z",
     "shell.execute_reply.started": "2022-01-31T15:12:04.727062Z"
    },
    "papermill": {
     "duration": 0.072855,
     "end_time": "2022-01-31T15:17:58.865584",
     "exception": false,
     "start_time": "2022-01-31T15:17:58.792729",
     "status": "completed"
    },
    "tags": []
   },
   "outputs": [],
   "source": [
    "y_pred = classifier.predict(X_test)"
   ]
  },
  {
   "cell_type": "code",
   "execution_count": 35,
   "id": "0a088e08",
   "metadata": {
    "execution": {
     "iopub.execute_input": "2022-01-31T15:17:59.007297Z",
     "iopub.status.busy": "2022-01-31T15:17:59.006495Z",
     "iopub.status.idle": "2022-01-31T15:17:59.010310Z",
     "shell.execute_reply": "2022-01-31T15:17:59.010705Z",
     "shell.execute_reply.started": "2022-01-31T15:12:04.736234Z"
    },
    "papermill": {
     "duration": 0.072544,
     "end_time": "2022-01-31T15:17:59.010861",
     "exception": false,
     "start_time": "2022-01-31T15:17:58.938317",
     "status": "completed"
    },
    "tags": []
   },
   "outputs": [
    {
     "data": {
      "text/plain": [
       "array([0, 0, 0, ..., 0, 0, 0])"
      ]
     },
     "execution_count": 35,
     "metadata": {},
     "output_type": "execute_result"
    }
   ],
   "source": [
    "y_pred"
   ]
  },
  {
   "cell_type": "code",
   "execution_count": 36,
   "id": "6bd2b3a3",
   "metadata": {
    "execution": {
     "iopub.execute_input": "2022-01-31T15:17:59.119404Z",
     "iopub.status.busy": "2022-01-31T15:17:59.118761Z",
     "iopub.status.idle": "2022-01-31T15:17:59.125144Z",
     "shell.execute_reply": "2022-01-31T15:17:59.124252Z",
     "shell.execute_reply.started": "2022-01-31T15:12:04.749348Z"
    },
    "papermill": {
     "duration": 0.06238,
     "end_time": "2022-01-31T15:17:59.125298",
     "exception": false,
     "start_time": "2022-01-31T15:17:59.062918",
     "status": "completed"
    },
    "tags": []
   },
   "outputs": [
    {
     "name": "stdout",
     "output_type": "stream",
     "text": [
      "Accuracy score: 0.9600977198697068\n"
     ]
    }
   ],
   "source": [
    "from sklearn.metrics import accuracy_score\n",
    "acc1 = accuracy_score(y_test, y_pred)\n",
    "print(f\"Accuracy score: {acc1}\")"
   ]
  },
  {
   "cell_type": "markdown",
   "id": "d812e0ba",
   "metadata": {
    "papermill": {
     "duration": 0.054006,
     "end_time": "2022-01-31T15:17:59.231964",
     "exception": false,
     "start_time": "2022-01-31T15:17:59.177958",
     "status": "completed"
    },
    "tags": []
   },
   "source": [
    "# SVM"
   ]
  },
  {
   "cell_type": "code",
   "execution_count": 37,
   "id": "4579b2ac",
   "metadata": {
    "execution": {
     "iopub.execute_input": "2022-01-31T15:17:59.344329Z",
     "iopub.status.busy": "2022-01-31T15:17:59.341793Z",
     "iopub.status.idle": "2022-01-31T15:17:59.371367Z",
     "shell.execute_reply": "2022-01-31T15:17:59.371747Z",
     "shell.execute_reply.started": "2022-01-31T15:12:04.764301Z"
    },
    "papermill": {
     "duration": 0.086152,
     "end_time": "2022-01-31T15:17:59.371924",
     "exception": false,
     "start_time": "2022-01-31T15:17:59.285772",
     "status": "completed"
    },
    "tags": []
   },
   "outputs": [
    {
     "data": {
      "text/plain": [
       "SVC(kernel='linear', random_state=0)"
      ]
     },
     "execution_count": 37,
     "metadata": {},
     "output_type": "execute_result"
    }
   ],
   "source": [
    "from sklearn.svm import SVC\n",
    "classifier = SVC(kernel = 'linear', random_state = 0)\n",
    "classifier.fit(X_train, y_train)"
   ]
  },
  {
   "cell_type": "markdown",
   "id": "541791b0",
   "metadata": {
    "papermill": {
     "duration": 0.054733,
     "end_time": "2022-01-31T15:17:59.478073",
     "exception": false,
     "start_time": "2022-01-31T15:17:59.423340",
     "status": "completed"
    },
    "tags": []
   },
   "source": [
    "# Predict the tset set result"
   ]
  },
  {
   "cell_type": "code",
   "execution_count": 38,
   "id": "124da33c",
   "metadata": {
    "execution": {
     "iopub.execute_input": "2022-01-31T15:17:59.588912Z",
     "iopub.status.busy": "2022-01-31T15:17:59.588319Z",
     "iopub.status.idle": "2022-01-31T15:17:59.597348Z",
     "shell.execute_reply": "2022-01-31T15:17:59.596857Z",
     "shell.execute_reply.started": "2022-01-31T15:12:04.836766Z"
    },
    "papermill": {
     "duration": 0.065853,
     "end_time": "2022-01-31T15:17:59.597479",
     "exception": false,
     "start_time": "2022-01-31T15:17:59.531626",
     "status": "completed"
    },
    "tags": []
   },
   "outputs": [],
   "source": [
    "y_pred = classifier.predict(X_test)"
   ]
  },
  {
   "cell_type": "code",
   "execution_count": 39,
   "id": "ba517bec",
   "metadata": {
    "execution": {
     "iopub.execute_input": "2022-01-31T15:17:59.712286Z",
     "iopub.status.busy": "2022-01-31T15:17:59.710756Z",
     "iopub.status.idle": "2022-01-31T15:17:59.718311Z",
     "shell.execute_reply": "2022-01-31T15:17:59.718861Z",
     "shell.execute_reply.started": "2022-01-31T15:12:04.857272Z"
    },
    "papermill": {
     "duration": 0.067308,
     "end_time": "2022-01-31T15:17:59.719047",
     "exception": false,
     "start_time": "2022-01-31T15:17:59.651739",
     "status": "completed"
    },
    "tags": []
   },
   "outputs": [
    {
     "name": "stdout",
     "output_type": "stream",
     "text": [
      "[[1179    0]\n",
      " [  49    0]]\n"
     ]
    }
   ],
   "source": [
    "from sklearn.metrics import confusion_matrix, accuracy_score\n",
    "cm = confusion_matrix(y_test, y_pred)\n",
    "print(cm)\n",
    "acc2 = accuracy_score(y_test, y_pred)"
   ]
  },
  {
   "cell_type": "code",
   "execution_count": 40,
   "id": "f88dfc6b",
   "metadata": {
    "execution": {
     "iopub.execute_input": "2022-01-31T15:17:59.883514Z",
     "iopub.status.busy": "2022-01-31T15:17:59.882746Z",
     "iopub.status.idle": "2022-01-31T15:17:59.886277Z",
     "shell.execute_reply": "2022-01-31T15:17:59.886777Z",
     "shell.execute_reply.started": "2022-01-31T15:12:04.869051Z"
    },
    "papermill": {
     "duration": 0.088488,
     "end_time": "2022-01-31T15:17:59.886965",
     "exception": false,
     "start_time": "2022-01-31T15:17:59.798477",
     "status": "completed"
    },
    "tags": []
   },
   "outputs": [
    {
     "name": "stdout",
     "output_type": "stream",
     "text": [
      "Accuracy score: 0.9600977198697068\n"
     ]
    }
   ],
   "source": [
    "print(f\"Accuracy score: {acc2}\")"
   ]
  },
  {
   "cell_type": "markdown",
   "id": "d3f3d32f",
   "metadata": {
    "papermill": {
     "duration": 0.079886,
     "end_time": "2022-01-31T15:18:00.046469",
     "exception": false,
     "start_time": "2022-01-31T15:17:59.966583",
     "status": "completed"
    },
    "tags": []
   },
   "source": [
    "# Training the K-NN model on the Training set"
   ]
  },
  {
   "cell_type": "code",
   "execution_count": 41,
   "id": "e05d1dd9",
   "metadata": {
    "execution": {
     "iopub.execute_input": "2022-01-31T15:18:00.213769Z",
     "iopub.status.busy": "2022-01-31T15:18:00.213067Z",
     "iopub.status.idle": "2022-01-31T15:18:00.224574Z",
     "shell.execute_reply": "2022-01-31T15:18:00.225145Z",
     "shell.execute_reply.started": "2022-01-31T15:12:04.882857Z"
    },
    "papermill": {
     "duration": 0.099671,
     "end_time": "2022-01-31T15:18:00.225324",
     "exception": false,
     "start_time": "2022-01-31T15:18:00.125653",
     "status": "completed"
    },
    "tags": []
   },
   "outputs": [
    {
     "data": {
      "text/plain": [
       "KNeighborsClassifier()"
      ]
     },
     "execution_count": 41,
     "metadata": {},
     "output_type": "execute_result"
    }
   ],
   "source": [
    "from sklearn.neighbors import KNeighborsClassifier\n",
    "classifier = KNeighborsClassifier(n_neighbors = 5, metric = 'minkowski', p = 2)\n",
    "classifier.fit(X_train, y_train)"
   ]
  },
  {
   "cell_type": "code",
   "execution_count": 42,
   "id": "d07583f9",
   "metadata": {
    "execution": {
     "iopub.execute_input": "2022-01-31T15:18:00.405834Z",
     "iopub.status.busy": "2022-01-31T15:18:00.404949Z",
     "iopub.status.idle": "2022-01-31T15:18:00.408905Z",
     "shell.execute_reply": "2022-01-31T15:18:00.408393Z",
     "shell.execute_reply.started": "2022-01-31T15:12:04.900323Z"
    },
    "papermill": {
     "duration": 0.097184,
     "end_time": "2022-01-31T15:18:00.409020",
     "exception": false,
     "start_time": "2022-01-31T15:18:00.311836",
     "status": "completed"
    },
    "tags": []
   },
   "outputs": [],
   "source": [
    "acc3 = accuracy_score(y_test, y_pred)"
   ]
  },
  {
   "cell_type": "code",
   "execution_count": 43,
   "id": "8b6ac6ff",
   "metadata": {
    "execution": {
     "iopub.execute_input": "2022-01-31T15:18:00.523807Z",
     "iopub.status.busy": "2022-01-31T15:18:00.523077Z",
     "iopub.status.idle": "2022-01-31T15:18:00.527534Z",
     "shell.execute_reply": "2022-01-31T15:18:00.527064Z",
     "shell.execute_reply.started": "2022-01-31T15:12:04.907710Z"
    },
    "papermill": {
     "duration": 0.063474,
     "end_time": "2022-01-31T15:18:00.527649",
     "exception": false,
     "start_time": "2022-01-31T15:18:00.464175",
     "status": "completed"
    },
    "tags": []
   },
   "outputs": [
    {
     "name": "stdout",
     "output_type": "stream",
     "text": [
      "Accuracy score: 0.9600977198697068\n"
     ]
    }
   ],
   "source": [
    "print(f\"Accuracy score: {acc3}\")"
   ]
  },
  {
   "cell_type": "markdown",
   "id": "8b23db81",
   "metadata": {
    "papermill": {
     "duration": 0.056677,
     "end_time": "2022-01-31T15:18:00.639984",
     "exception": false,
     "start_time": "2022-01-31T15:18:00.583307",
     "status": "completed"
    },
    "tags": []
   },
   "source": [
    "# Training the Naive Bayes on the Training set"
   ]
  },
  {
   "cell_type": "code",
   "execution_count": 44,
   "id": "e8fc210e",
   "metadata": {
    "execution": {
     "iopub.execute_input": "2022-01-31T15:18:00.751295Z",
     "iopub.status.busy": "2022-01-31T15:18:00.750535Z",
     "iopub.status.idle": "2022-01-31T15:18:00.757770Z",
     "shell.execute_reply": "2022-01-31T15:18:00.758156Z",
     "shell.execute_reply.started": "2022-01-31T15:12:04.917877Z"
    },
    "papermill": {
     "duration": 0.064699,
     "end_time": "2022-01-31T15:18:00.758299",
     "exception": false,
     "start_time": "2022-01-31T15:18:00.693600",
     "status": "completed"
    },
    "tags": []
   },
   "outputs": [
    {
     "data": {
      "text/plain": [
       "GaussianNB()"
      ]
     },
     "execution_count": 44,
     "metadata": {},
     "output_type": "execute_result"
    }
   ],
   "source": [
    "from sklearn.naive_bayes import GaussianNB\n",
    "classifier = GaussianNB()\n",
    "classifier.fit(X_train, y_train)"
   ]
  },
  {
   "cell_type": "code",
   "execution_count": 45,
   "id": "34f0d2cc",
   "metadata": {
    "execution": {
     "iopub.execute_input": "2022-01-31T15:18:00.868058Z",
     "iopub.status.busy": "2022-01-31T15:18:00.867371Z",
     "iopub.status.idle": "2022-01-31T15:18:00.871436Z",
     "shell.execute_reply": "2022-01-31T15:18:00.871818Z",
     "shell.execute_reply.started": "2022-01-31T15:12:04.935023Z"
    },
    "papermill": {
     "duration": 0.060846,
     "end_time": "2022-01-31T15:18:00.871976",
     "exception": false,
     "start_time": "2022-01-31T15:18:00.811130",
     "status": "completed"
    },
    "tags": []
   },
   "outputs": [],
   "source": [
    "y_pred = classifier.predict(X_test)"
   ]
  },
  {
   "cell_type": "code",
   "execution_count": 46,
   "id": "75fd2f73",
   "metadata": {
    "execution": {
     "iopub.execute_input": "2022-01-31T15:18:00.982115Z",
     "iopub.status.busy": "2022-01-31T15:18:00.981574Z",
     "iopub.status.idle": "2022-01-31T15:18:00.984963Z",
     "shell.execute_reply": "2022-01-31T15:18:00.984503Z",
     "shell.execute_reply.started": "2022-01-31T15:12:04.942292Z"
    },
    "papermill": {
     "duration": 0.06068,
     "end_time": "2022-01-31T15:18:00.985081",
     "exception": false,
     "start_time": "2022-01-31T15:18:00.924401",
     "status": "completed"
    },
    "tags": []
   },
   "outputs": [],
   "source": [
    "acc4 = accuracy_score(y_test, y_pred)"
   ]
  },
  {
   "cell_type": "code",
   "execution_count": 47,
   "id": "7655482b",
   "metadata": {
    "execution": {
     "iopub.execute_input": "2022-01-31T15:18:01.099384Z",
     "iopub.status.busy": "2022-01-31T15:18:01.098777Z",
     "iopub.status.idle": "2022-01-31T15:18:01.101182Z",
     "shell.execute_reply": "2022-01-31T15:18:01.101637Z",
     "shell.execute_reply.started": "2022-01-31T15:12:04.954521Z"
    },
    "papermill": {
     "duration": 0.062489,
     "end_time": "2022-01-31T15:18:01.101778",
     "exception": false,
     "start_time": "2022-01-31T15:18:01.039289",
     "status": "completed"
    },
    "tags": []
   },
   "outputs": [
    {
     "name": "stdout",
     "output_type": "stream",
     "text": [
      "Accuracy score : 0.8705211726384365\n"
     ]
    }
   ],
   "source": [
    "print(f\"Accuracy score : {acc4}\")"
   ]
  },
  {
   "cell_type": "markdown",
   "id": "ed527727",
   "metadata": {
    "papermill": {
     "duration": 0.056577,
     "end_time": "2022-01-31T15:18:01.213264",
     "exception": false,
     "start_time": "2022-01-31T15:18:01.156687",
     "status": "completed"
    },
    "tags": []
   },
   "source": [
    "# Training Decision Tree Classification on Train set"
   ]
  },
  {
   "cell_type": "code",
   "execution_count": 48,
   "id": "da575d34",
   "metadata": {
    "execution": {
     "iopub.execute_input": "2022-01-31T15:18:01.328729Z",
     "iopub.status.busy": "2022-01-31T15:18:01.326931Z",
     "iopub.status.idle": "2022-01-31T15:18:01.386430Z",
     "shell.execute_reply": "2022-01-31T15:18:01.386017Z",
     "shell.execute_reply.started": "2022-01-31T15:12:04.968238Z"
    },
    "papermill": {
     "duration": 0.118446,
     "end_time": "2022-01-31T15:18:01.386550",
     "exception": false,
     "start_time": "2022-01-31T15:18:01.268104",
     "status": "completed"
    },
    "tags": []
   },
   "outputs": [
    {
     "data": {
      "text/plain": [
       "DecisionTreeClassifier(criterion='entropy', random_state=0)"
      ]
     },
     "execution_count": 48,
     "metadata": {},
     "output_type": "execute_result"
    }
   ],
   "source": [
    "from sklearn.tree import DecisionTreeClassifier\n",
    "classifier = DecisionTreeClassifier(criterion = 'entropy', random_state = 0)\n",
    "classifier.fit(X_train, y_train)"
   ]
  },
  {
   "cell_type": "code",
   "execution_count": 49,
   "id": "1f35f583",
   "metadata": {
    "execution": {
     "iopub.execute_input": "2022-01-31T15:18:01.505825Z",
     "iopub.status.busy": "2022-01-31T15:18:01.505227Z",
     "iopub.status.idle": "2022-01-31T15:18:01.509202Z",
     "shell.execute_reply": "2022-01-31T15:18:01.508680Z",
     "shell.execute_reply.started": "2022-01-31T15:12:04.995297Z"
    },
    "papermill": {
     "duration": 0.067087,
     "end_time": "2022-01-31T15:18:01.509329",
     "exception": false,
     "start_time": "2022-01-31T15:18:01.442242",
     "status": "completed"
    },
    "tags": []
   },
   "outputs": [],
   "source": [
    "y_pred = classifier.predict(X_test)"
   ]
  },
  {
   "cell_type": "code",
   "execution_count": 50,
   "id": "e2f83b2c",
   "metadata": {
    "execution": {
     "iopub.execute_input": "2022-01-31T15:18:01.627287Z",
     "iopub.status.busy": "2022-01-31T15:18:01.626681Z",
     "iopub.status.idle": "2022-01-31T15:18:01.632126Z",
     "shell.execute_reply": "2022-01-31T15:18:01.632654Z",
     "shell.execute_reply.started": "2022-01-31T15:13:23.875976Z"
    },
    "papermill": {
     "duration": 0.066262,
     "end_time": "2022-01-31T15:18:01.632813",
     "exception": false,
     "start_time": "2022-01-31T15:18:01.566551",
     "status": "completed"
    },
    "tags": []
   },
   "outputs": [
    {
     "name": "stdout",
     "output_type": "stream",
     "text": [
      "Accuracy score: 0.9218241042345277\n"
     ]
    }
   ],
   "source": [
    "acc5 = accuracy_score(y_test, y_pred)\n",
    "print(f\"Accuracy score: {acc5}\")"
   ]
  },
  {
   "cell_type": "markdown",
   "id": "b2f88289",
   "metadata": {
    "papermill": {
     "duration": 0.055909,
     "end_time": "2022-01-31T15:18:01.746743",
     "exception": false,
     "start_time": "2022-01-31T15:18:01.690834",
     "status": "completed"
    },
    "tags": []
   },
   "source": [
    "# Create visualization for all model with their Accuracy"
   ]
  },
  {
   "cell_type": "code",
   "execution_count": 51,
   "id": "a5c4c39e",
   "metadata": {
    "execution": {
     "iopub.execute_input": "2022-01-31T15:18:01.871369Z",
     "iopub.status.busy": "2022-01-31T15:18:01.869353Z",
     "iopub.status.idle": "2022-01-31T15:18:02.062692Z",
     "shell.execute_reply": "2022-01-31T15:18:02.063215Z",
     "shell.execute_reply.started": "2022-01-31T15:13:54.922787Z"
    },
    "papermill": {
     "duration": 0.258882,
     "end_time": "2022-01-31T15:18:02.063353",
     "exception": false,
     "start_time": "2022-01-31T15:18:01.804471",
     "status": "completed"
    },
    "tags": []
   },
   "outputs": [
    {
     "data": {
      "image/png": "[encoded data removed]",
      "text/plain": [
       "<Figure size 576x432 with 1 Axes>"
      ]
     },
     "metadata": {},
     "output_type": "display_data"
    }
   ],
   "source": [
    "mylist=[]\n",
    "mylist2=[]\n",
    "mylist.append(acc1)\n",
    "mylist2.append(\"Logistic Regression\")\n",
    "mylist.append(acc2)\n",
    "mylist2.append(\"SVM\")\n",
    "mylist.append(acc3)\n",
    "mylist2.append(\"KNN\")\n",
    "mylist.append(acc4)\n",
    "mylist2.append(\"Naive Bayes\")\n",
    "mylist.append(acc5)\n",
    "mylist2.append(\"DTR\")\n",
    "plt.rcParams['figure.figsize']=8,6\n",
    "sns.set_style(\"darkgrid\")\n",
    "ax = sns.barplot(x=mylist2, y=mylist, palette = \"rocket\", saturation =1.5)\n",
    "plt.xlabel(\"Classification Models\", fontsize = 20 )\n",
    "plt.ylabel(\"Accuracy\", fontsize = 20)\n",
    "plt.title(\"Accuracy of different Classification Models\", fontsize = 20)\n",
    "plt.xticks(fontsize = 11, horizontalalignment = 'center', rotation = 8)\n",
    "plt.yticks(fontsize = 13)\n",
    "for p in ax.patches:\n",
    "    width, height = p.get_width(), p.get_height()\n",
    "    x, y = p.get_xy() \n",
    "    ax.annotate(f'{height:.2%}', (x + width/2, y + height*1.02), ha='center', fontsize = 'x-large')\n",
    "plt.show()"
   ]
  },
  {
   "cell_type": "markdown",
   "id": "9a91684a",
   "metadata": {
    "papermill": {
     "duration": 0.057146,
     "end_time": "2022-01-31T15:18:02.177253",
     "exception": false,
     "start_time": "2022-01-31T15:18:02.120107",
     "status": "completed"
    },
    "tags": []
   },
   "source": [
    "# Applying k-Fold Cross Validation"
   ]
  },
  {
   "cell_type": "code",
   "execution_count": 52,
   "id": "34a9c9c1",
   "metadata": {
    "execution": {
     "iopub.execute_input": "2022-01-31T15:18:02.300922Z",
     "iopub.status.busy": "2022-01-31T15:18:02.300227Z",
     "iopub.status.idle": "2022-01-31T15:18:02.506785Z",
     "shell.execute_reply": "2022-01-31T15:18:02.506050Z",
     "shell.execute_reply.started": "2022-01-31T15:14:57.511564Z"
    },
    "papermill": {
     "duration": 0.270566,
     "end_time": "2022-01-31T15:18:02.506995",
     "exception": false,
     "start_time": "2022-01-31T15:18:02.236429",
     "status": "completed"
    },
    "tags": []
   },
   "outputs": [
    {
     "name": "stdout",
     "output_type": "stream",
     "text": [
      "Accuracy: 91.61 %\n",
      "Standard Deviation: 0.38 %\n"
     ]
    }
   ],
   "source": [
    "from sklearn.model_selection import cross_val_score\n",
    "accuracies = cross_val_score(estimator = classifier, X = X_train, y = y_train, cv = 10)\n",
    "print(\"Accuracy: {:.2f} %\".format(accuracies.mean()*100))\n",
    "print(\"Standard Deviation: {:.2f} %\".format(accuracies.std()*100))"
   ]
  },
  {
   "cell_type": "markdown",
   "id": "c2e77b5a",
   "metadata": {
    "papermill": {
     "duration": 0.089885,
     "end_time": "2022-01-31T15:18:02.686199",
     "exception": false,
     "start_time": "2022-01-31T15:18:02.596314",
     "status": "completed"
    },
    "tags": []
   },
   "source": [
    "![](https://static.wingify.com/gcp/uploads/sites/3/2021/01/Feature-image_7-Thank-You-Page-Examples-That-Can-Boost-Visitor-Experience.png)"
   ]
  }
 ],
 "metadata": {
  "kernelspec": {
   "display_name": "Python 3",
   "language": "python",
   "name": "python3"
  },
  "language_info": {
   "codemirror_mode": {
    "name": "ipython",
    "version": 3
   },
   "file_extension": ".py",
   "mimetype": "text/x-python",
   "name": "python",
   "nbconvert_exporter": "python",
   "pygments_lexer": "ipython3",
   "version": "3.7.12"
  },
  "papermill": {
   "default_parameters": {},
   "duration": 27.12166,
   "end_time": "2022-01-31T15:18:03.591125",
   "environment_variables": {},
   "exception": null,
   "input_path": "__notebook__.ipynb",
   "output_path": "__notebook__.ipynb",
   "parameters": {},
   "start_time": "2022-01-31T15:17:36.469465",
   "version": "2.3.3"
  }
 },
 "nbformat": 4,
 "nbformat_minor": 5
}
