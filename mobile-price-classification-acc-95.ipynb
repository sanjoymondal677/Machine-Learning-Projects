{
 "cells": [
  {
   "cell_type": "code",
   "execution_count": 1,
   "id": "e164fb76",
   "metadata": {
    "_cell_guid": "b1076dfc-b9ad-4769-8c92-a6c4dae69d19",
    "_uuid": "8f2839f25d086af736a60e9eeb907d3b93b6e0e5",
    "execution": {
     "iopub.execute_input": "2022-01-25T13:03:17.151888Z",
     "iopub.status.busy": "2022-01-25T13:03:17.151330Z",
     "iopub.status.idle": "2022-01-25T13:03:17.166998Z",
     "shell.execute_reply": "2022-01-25T13:03:17.166425Z"
    },
    "papermill": {
     "duration": 0.062467,
     "end_time": "2022-01-25T13:03:17.167154",
     "exception": false,
     "start_time": "2022-01-25T13:03:17.104687",
     "status": "completed"
    },
    "tags": []
   },
   "outputs": [
    {
     "name": "stdout",
     "output_type": "stream",
     "text": [
      "/kaggle/input/mobile-price-classification/train.csv\n",
      "/kaggle/input/mobile-price-classification/test.csv\n"
     ]
    }
   ],
   "source": [
    "# This Python 3 environment comes with many helpful analytics libraries installed\n",
    "# It is defined by the kaggle/python Docker image: https://github.com/kaggle/docker-python\n",
    "# For example, here's several helpful packages to load\n",
    "\n",
    "import numpy as np # linear algebra\n",
    "import pandas as pd # data processing, CSV file I/O (e.g. pd.read_csv)\n",
    "\n",
    "# Input data files are available in the read-only \"../input/\" directory\n",
    "# For example, running this (by clicking run or pressing Shift+Enter) will list all files under the input directory\n",
    "\n",
    "import os\n",
    "for dirname, _, filenames in os.walk('/kaggle/input'):\n",
    "    for filename in filenames:\n",
    "        print(os.path.join(dirname, filename))\n",
    "\n",
    "# You can write up to 20GB to the current directory (/kaggle/working/) that gets preserved as output when you create a version using \"Save & Run All\" \n",
    "# You can also write temporary files to /kaggle/temp/, but they won't be saved outside of the current session"
   ]
  },
  {
   "cell_type": "markdown",
   "id": "dbee793e",
   "metadata": {
    "papermill": {
     "duration": 0.046842,
     "end_time": "2022-01-25T13:03:17.256776",
     "exception": false,
     "start_time": "2022-01-25T13:03:17.209934",
     "status": "completed"
    },
    "tags": []
   },
   "source": [
    "# DATASET"
   ]
  },
  {
   "cell_type": "markdown",
   "id": "798cc898",
   "metadata": {
    "papermill": {
     "duration": 0.039009,
     "end_time": "2022-01-25T13:03:17.335296",
     "exception": false,
     "start_time": "2022-01-25T13:03:17.296287",
     "status": "completed"
    },
    "tags": []
   },
   "source": [
    "<h3>Dataset about predict the mobile price based on some mobile features</h3>"
   ]
  },
  {
   "cell_type": "markdown",
   "id": "1e47d60e",
   "metadata": {
    "papermill": {
     "duration": 0.036496,
     "end_time": "2022-01-25T13:03:17.409114",
     "exception": false,
     "start_time": "2022-01-25T13:03:17.372618",
     "status": "completed"
    },
    "tags": []
   },
   "source": [
    "*  battery_power : Total energy a battery can store in one time measured in mAh\n",
    "*  blue : Has bluetooth or not\n",
    "*  clock_speed : speed at which microprocessor executes instructions\n",
    "*  dual_sim : Has dual sim support or not\n",
    "*  fc : Front Camera mega pixels\n",
    "*  four_g : Has 4G or not\n",
    "*  int_memory : Internal Memory in Gigabytes\n",
    "*  m_dep : Mobile Depth in cm\n",
    "*  mobile_wt : Weight of mobile phone\n",
    "*  n_cores : Number of cores of processor\n",
    "*  price_range : price range"
   ]
  },
  {
   "cell_type": "markdown",
   "id": "fd3984da",
   "metadata": {
    "papermill": {
     "duration": 0.036878,
     "end_time": "2022-01-25T13:03:17.483101",
     "exception": false,
     "start_time": "2022-01-25T13:03:17.446223",
     "status": "completed"
    },
    "tags": []
   },
   "source": [
    "# Import the libraries"
   ]
  },
  {
   "cell_type": "code",
   "execution_count": 2,
   "id": "e36ccf92",
   "metadata": {
    "execution": {
     "iopub.execute_input": "2022-01-25T13:03:17.560228Z",
     "iopub.status.busy": "2022-01-25T13:03:17.559521Z",
     "iopub.status.idle": "2022-01-25T13:03:18.523191Z",
     "shell.execute_reply": "2022-01-25T13:03:18.522555Z",
     "shell.execute_reply.started": "2022-01-25T12:30:03.273407Z"
    },
    "papermill": {
     "duration": 1.003279,
     "end_time": "2022-01-25T13:03:18.523353",
     "exception": false,
     "start_time": "2022-01-25T13:03:17.520074",
     "status": "completed"
    },
    "tags": []
   },
   "outputs": [],
   "source": [
    "import numpy as np\n",
    "import pandas as pd\n",
    "import matplotlib.pyplot as plt\n",
    "import seaborn as sns"
   ]
  },
  {
   "cell_type": "markdown",
   "id": "08f82ec6",
   "metadata": {
    "papermill": {
     "duration": 0.037488,
     "end_time": "2022-01-25T13:03:18.598592",
     "exception": false,
     "start_time": "2022-01-25T13:03:18.561104",
     "status": "completed"
    },
    "tags": []
   },
   "source": [
    "# Load the dataset"
   ]
  },
  {
   "cell_type": "code",
   "execution_count": 3,
   "id": "a1dd695a",
   "metadata": {
    "execution": {
     "iopub.execute_input": "2022-01-25T13:03:18.680041Z",
     "iopub.status.busy": "2022-01-25T13:03:18.679442Z",
     "iopub.status.idle": "2022-01-25T13:03:18.698597Z",
     "shell.execute_reply": "2022-01-25T13:03:18.699085Z",
     "shell.execute_reply.started": "2022-01-25T12:30:04.984177Z"
    },
    "papermill": {
     "duration": 0.062486,
     "end_time": "2022-01-25T13:03:18.699294",
     "exception": false,
     "start_time": "2022-01-25T13:03:18.636808",
     "status": "completed"
    },
    "tags": []
   },
   "outputs": [],
   "source": [
    "data = pd.read_csv(\"../input/mobile-price-classification/train.csv\")"
   ]
  },
  {
   "cell_type": "code",
   "execution_count": 4,
   "id": "6754276f",
   "metadata": {
    "execution": {
     "iopub.execute_input": "2022-01-25T13:03:18.785656Z",
     "iopub.status.busy": "2022-01-25T13:03:18.780187Z",
     "iopub.status.idle": "2022-01-25T13:03:18.812217Z",
     "shell.execute_reply": "2022-01-25T13:03:18.812706Z",
     "shell.execute_reply.started": "2022-01-25T12:30:07.028050Z"
    },
    "papermill": {
     "duration": 0.074618,
     "end_time": "2022-01-25T13:03:18.812869",
     "exception": false,
     "start_time": "2022-01-25T13:03:18.738251",
     "status": "completed"
    },
    "tags": []
   },
   "outputs": [
    {
     "data": {
      "text/html": [
       "<div>\n",
       "<style scoped>\n",
       "    .dataframe tbody tr th:only-of-type {\n",
       "        vertical-align: middle;\n",
       "    }\n",
       "\n",
       "    .dataframe tbody tr th {\n",
       "        vertical-align: top;\n",
       "    }\n",
       "\n",
       "    .dataframe thead th {\n",
       "        text-align: right;\n",
       "    }\n",
       "</style>\n",
       "<table border=\"1\" class=\"dataframe\">\n",
       "  <thead>\n",
       "    <tr style=\"text-align: right;\">\n",
       "      <th></th>\n",
       "      <th>battery_power</th>\n",
       "      <th>blue</th>\n",
       "      <th>clock_speed</th>\n",
       "      <th>dual_sim</th>\n",
       "      <th>fc</th>\n",
       "      <th>four_g</th>\n",
       "      <th>int_memory</th>\n",
       "      <th>m_dep</th>\n",
       "      <th>mobile_wt</th>\n",
       "      <th>n_cores</th>\n",
       "      <th>...</th>\n",
       "      <th>px_height</th>\n",
       "      <th>px_width</th>\n",
       "      <th>ram</th>\n",
       "      <th>sc_h</th>\n",
       "      <th>sc_w</th>\n",
       "      <th>talk_time</th>\n",
       "      <th>three_g</th>\n",
       "      <th>touch_screen</th>\n",
       "      <th>wifi</th>\n",
       "      <th>price_range</th>\n",
       "    </tr>\n",
       "  </thead>\n",
       "  <tbody>\n",
       "    <tr>\n",
       "      <th>0</th>\n",
       "      <td>842</td>\n",
       "      <td>0</td>\n",
       "      <td>2.2</td>\n",
       "      <td>0</td>\n",
       "      <td>1</td>\n",
       "      <td>0</td>\n",
       "      <td>7</td>\n",
       "      <td>0.6</td>\n",
       "      <td>188</td>\n",
       "      <td>2</td>\n",
       "      <td>...</td>\n",
       "      <td>20</td>\n",
       "      <td>756</td>\n",
       "      <td>2549</td>\n",
       "      <td>9</td>\n",
       "      <td>7</td>\n",
       "      <td>19</td>\n",
       "      <td>0</td>\n",
       "      <td>0</td>\n",
       "      <td>1</td>\n",
       "      <td>1</td>\n",
       "    </tr>\n",
       "    <tr>\n",
       "      <th>1</th>\n",
       "      <td>1021</td>\n",
       "      <td>1</td>\n",
       "      <td>0.5</td>\n",
       "      <td>1</td>\n",
       "      <td>0</td>\n",
       "      <td>1</td>\n",
       "      <td>53</td>\n",
       "      <td>0.7</td>\n",
       "      <td>136</td>\n",
       "      <td>3</td>\n",
       "      <td>...</td>\n",
       "      <td>905</td>\n",
       "      <td>1988</td>\n",
       "      <td>2631</td>\n",
       "      <td>17</td>\n",
       "      <td>3</td>\n",
       "      <td>7</td>\n",
       "      <td>1</td>\n",
       "      <td>1</td>\n",
       "      <td>0</td>\n",
       "      <td>2</td>\n",
       "    </tr>\n",
       "    <tr>\n",
       "      <th>2</th>\n",
       "      <td>563</td>\n",
       "      <td>1</td>\n",
       "      <td>0.5</td>\n",
       "      <td>1</td>\n",
       "      <td>2</td>\n",
       "      <td>1</td>\n",
       "      <td>41</td>\n",
       "      <td>0.9</td>\n",
       "      <td>145</td>\n",
       "      <td>5</td>\n",
       "      <td>...</td>\n",
       "      <td>1263</td>\n",
       "      <td>1716</td>\n",
       "      <td>2603</td>\n",
       "      <td>11</td>\n",
       "      <td>2</td>\n",
       "      <td>9</td>\n",
       "      <td>1</td>\n",
       "      <td>1</td>\n",
       "      <td>0</td>\n",
       "      <td>2</td>\n",
       "    </tr>\n",
       "    <tr>\n",
       "      <th>3</th>\n",
       "      <td>615</td>\n",
       "      <td>1</td>\n",
       "      <td>2.5</td>\n",
       "      <td>0</td>\n",
       "      <td>0</td>\n",
       "      <td>0</td>\n",
       "      <td>10</td>\n",
       "      <td>0.8</td>\n",
       "      <td>131</td>\n",
       "      <td>6</td>\n",
       "      <td>...</td>\n",
       "      <td>1216</td>\n",
       "      <td>1786</td>\n",
       "      <td>2769</td>\n",
       "      <td>16</td>\n",
       "      <td>8</td>\n",
       "      <td>11</td>\n",
       "      <td>1</td>\n",
       "      <td>0</td>\n",
       "      <td>0</td>\n",
       "      <td>2</td>\n",
       "    </tr>\n",
       "    <tr>\n",
       "      <th>4</th>\n",
       "      <td>1821</td>\n",
       "      <td>1</td>\n",
       "      <td>1.2</td>\n",
       "      <td>0</td>\n",
       "      <td>13</td>\n",
       "      <td>1</td>\n",
       "      <td>44</td>\n",
       "      <td>0.6</td>\n",
       "      <td>141</td>\n",
       "      <td>2</td>\n",
       "      <td>...</td>\n",
       "      <td>1208</td>\n",
       "      <td>1212</td>\n",
       "      <td>1411</td>\n",
       "      <td>8</td>\n",
       "      <td>2</td>\n",
       "      <td>15</td>\n",
       "      <td>1</td>\n",
       "      <td>1</td>\n",
       "      <td>0</td>\n",
       "      <td>1</td>\n",
       "    </tr>\n",
       "  </tbody>\n",
       "</table>\n",
       "<p>5 rows × 21 columns</p>\n",
       "</div>"
      ],
      "text/plain": [
       "   battery_power  blue  clock_speed  dual_sim  fc  four_g  int_memory  m_dep  \\\n",
       "0            842     0          2.2         0   1       0           7    0.6   \n",
       "1           1021     1          0.5         1   0       1          53    0.7   \n",
       "2            563     1          0.5         1   2       1          41    0.9   \n",
       "3            615     1          2.5         0   0       0          10    0.8   \n",
       "4           1821     1          1.2         0  13       1          44    0.6   \n",
       "\n",
       "   mobile_wt  n_cores  ...  px_height  px_width   ram  sc_h  sc_w  talk_time  \\\n",
       "0        188        2  ...         20       756  2549     9     7         19   \n",
       "1        136        3  ...        905      1988  2631    17     3          7   \n",
       "2        145        5  ...       1263      1716  2603    11     2          9   \n",
       "3        131        6  ...       1216      1786  2769    16     8         11   \n",
       "4        141        2  ...       1208      1212  1411     8     2         15   \n",
       "\n",
       "   three_g  touch_screen  wifi  price_range  \n",
       "0        0             0     1            1  \n",
       "1        1             1     0            2  \n",
       "2        1             1     0            2  \n",
       "3        1             0     0            2  \n",
       "4        1             1     0            1  \n",
       "\n",
       "[5 rows x 21 columns]"
      ]
     },
     "execution_count": 4,
     "metadata": {},
     "output_type": "execute_result"
    }
   ],
   "source": [
    "data.head() #Display first top 5 rows"
   ]
  },
  {
   "cell_type": "code",
   "execution_count": 5,
   "id": "87e07d9e",
   "metadata": {
    "execution": {
     "iopub.execute_input": "2022-01-25T13:03:18.903627Z",
     "iopub.status.busy": "2022-01-25T13:03:18.902755Z",
     "iopub.status.idle": "2022-01-25T13:03:18.906496Z",
     "shell.execute_reply": "2022-01-25T13:03:18.907376Z",
     "shell.execute_reply.started": "2022-01-25T12:32:25.394930Z"
    },
    "papermill": {
     "duration": 0.055189,
     "end_time": "2022-01-25T13:03:18.907604",
     "exception": false,
     "start_time": "2022-01-25T13:03:18.852415",
     "status": "completed"
    },
    "tags": []
   },
   "outputs": [
    {
     "data": {
      "text/plain": [
       "(2000, 21)"
      ]
     },
     "execution_count": 5,
     "metadata": {},
     "output_type": "execute_result"
    }
   ],
   "source": [
    "data.shape #Out dataset have 2000 rows with 21 columns"
   ]
  },
  {
   "cell_type": "code",
   "execution_count": 6,
   "id": "90bda685",
   "metadata": {
    "execution": {
     "iopub.execute_input": "2022-01-25T13:03:19.016308Z",
     "iopub.status.busy": "2022-01-25T13:03:19.015692Z",
     "iopub.status.idle": "2022-01-25T13:03:19.036108Z",
     "shell.execute_reply": "2022-01-25T13:03:19.036638Z",
     "shell.execute_reply.started": "2022-01-25T12:32:38.404507Z"
    },
    "papermill": {
     "duration": 0.077223,
     "end_time": "2022-01-25T13:03:19.036813",
     "exception": false,
     "start_time": "2022-01-25T13:03:18.959590",
     "status": "completed"
    },
    "tags": []
   },
   "outputs": [
    {
     "name": "stdout",
     "output_type": "stream",
     "text": [
      "<class 'pandas.core.frame.DataFrame'>\n",
      "RangeIndex: 2000 entries, 0 to 1999\n",
      "Data columns (total 21 columns):\n",
      " #   Column         Non-Null Count  Dtype  \n",
      "---  ------         --------------  -----  \n",
      " 0   battery_power  2000 non-null   int64  \n",
      " 1   blue           2000 non-null   int64  \n",
      " 2   clock_speed    2000 non-null   float64\n",
      " 3   dual_sim       2000 non-null   int64  \n",
      " 4   fc             2000 non-null   int64  \n",
      " 5   four_g         2000 non-null   int64  \n",
      " 6   int_memory     2000 non-null   int64  \n",
      " 7   m_dep          2000 non-null   float64\n",
      " 8   mobile_wt      2000 non-null   int64  \n",
      " 9   n_cores        2000 non-null   int64  \n",
      " 10  pc             2000 non-null   int64  \n",
      " 11  px_height      2000 non-null   int64  \n",
      " 12  px_width       2000 non-null   int64  \n",
      " 13  ram            2000 non-null   int64  \n",
      " 14  sc_h           2000 non-null   int64  \n",
      " 15  sc_w           2000 non-null   int64  \n",
      " 16  talk_time      2000 non-null   int64  \n",
      " 17  three_g        2000 non-null   int64  \n",
      " 18  touch_screen   2000 non-null   int64  \n",
      " 19  wifi           2000 non-null   int64  \n",
      " 20  price_range    2000 non-null   int64  \n",
      "dtypes: float64(2), int64(19)\n",
      "memory usage: 328.2 KB\n"
     ]
    }
   ],
   "source": [
    "data.info() #Display all columns information"
   ]
  },
  {
   "cell_type": "code",
   "execution_count": 7,
   "id": "556f5741",
   "metadata": {
    "execution": {
     "iopub.execute_input": "2022-01-25T13:03:19.121852Z",
     "iopub.status.busy": "2022-01-25T13:03:19.121198Z",
     "iopub.status.idle": "2022-01-25T13:03:19.126531Z",
     "shell.execute_reply": "2022-01-25T13:03:19.126988Z",
     "shell.execute_reply.started": "2022-01-25T12:32:48.891111Z"
    },
    "papermill": {
     "duration": 0.050533,
     "end_time": "2022-01-25T13:03:19.127174",
     "exception": false,
     "start_time": "2022-01-25T13:03:19.076641",
     "status": "completed"
    },
    "tags": []
   },
   "outputs": [
    {
     "data": {
      "text/plain": [
       "battery_power    0\n",
       "blue             0\n",
       "clock_speed      0\n",
       "dual_sim         0\n",
       "fc               0\n",
       "four_g           0\n",
       "int_memory       0\n",
       "m_dep            0\n",
       "mobile_wt        0\n",
       "n_cores          0\n",
       "pc               0\n",
       "px_height        0\n",
       "px_width         0\n",
       "ram              0\n",
       "sc_h             0\n",
       "sc_w             0\n",
       "talk_time        0\n",
       "three_g          0\n",
       "touch_screen     0\n",
       "wifi             0\n",
       "price_range      0\n",
       "dtype: int64"
      ]
     },
     "execution_count": 7,
     "metadata": {},
     "output_type": "execute_result"
    }
   ],
   "source": [
    "data.isnull().sum() #This function return sum of null values of columns."
   ]
  },
  {
   "cell_type": "code",
   "execution_count": 8,
   "id": "b0027af9",
   "metadata": {
    "execution": {
     "iopub.execute_input": "2022-01-25T13:03:19.209048Z",
     "iopub.status.busy": "2022-01-25T13:03:19.207148Z",
     "iopub.status.idle": "2022-01-25T13:03:19.220026Z",
     "shell.execute_reply": "2022-01-25T13:03:19.220701Z",
     "shell.execute_reply.started": "2022-01-25T12:33:07.559652Z"
    },
    "papermill": {
     "duration": 0.054651,
     "end_time": "2022-01-25T13:03:19.220941",
     "exception": false,
     "start_time": "2022-01-25T13:03:19.166290",
     "status": "completed"
    },
    "tags": []
   },
   "outputs": [
    {
     "data": {
      "text/plain": [
       "False"
      ]
     },
     "execution_count": 8,
     "metadata": {},
     "output_type": "execute_result"
    }
   ],
   "source": [
    "data.duplicated().any() #Returns is any duplicates rows has in our dataset."
   ]
  },
  {
   "cell_type": "markdown",
   "id": "3f3416bc",
   "metadata": {
    "papermill": {
     "duration": 0.03973,
     "end_time": "2022-01-25T13:03:19.303845",
     "exception": false,
     "start_time": "2022-01-25T13:03:19.264115",
     "status": "completed"
    },
    "tags": []
   },
   "source": [
    "# Visualization on data"
   ]
  },
  {
   "cell_type": "code",
   "execution_count": 9,
   "id": "22c11175",
   "metadata": {
    "execution": {
     "iopub.execute_input": "2022-01-25T13:03:19.387472Z",
     "iopub.status.busy": "2022-01-25T13:03:19.386636Z",
     "iopub.status.idle": "2022-01-25T13:03:19.389629Z",
     "shell.execute_reply": "2022-01-25T13:03:19.390148Z",
     "shell.execute_reply.started": "2022-01-25T12:33:29.838264Z"
    },
    "papermill": {
     "duration": 0.048065,
     "end_time": "2022-01-25T13:03:19.390335",
     "exception": false,
     "start_time": "2022-01-25T13:03:19.342270",
     "status": "completed"
    },
    "tags": []
   },
   "outputs": [
    {
     "data": {
      "text/plain": [
       "1    500\n",
       "2    500\n",
       "3    500\n",
       "0    500\n",
       "Name: price_range, dtype: int64"
      ]
     },
     "execution_count": 9,
     "metadata": {},
     "output_type": "execute_result"
    }
   ],
   "source": [
    "data['price_range'].value_counts() # How many Unique value of price_range columns."
   ]
  },
  {
   "cell_type": "code",
   "execution_count": 10,
   "id": "567a9da1",
   "metadata": {
    "execution": {
     "iopub.execute_input": "2022-01-25T13:03:19.472289Z",
     "iopub.status.busy": "2022-01-25T13:03:19.471383Z",
     "iopub.status.idle": "2022-01-25T13:03:19.663415Z",
     "shell.execute_reply": "2022-01-25T13:03:19.662747Z",
     "shell.execute_reply.started": "2022-01-25T12:33:42.876287Z"
    },
    "papermill": {
     "duration": 0.234755,
     "end_time": "2022-01-25T13:03:19.663580",
     "exception": false,
     "start_time": "2022-01-25T13:03:19.428825",
     "status": "completed"
    },
    "tags": []
   },
   "outputs": [
    {
     "data": {
      "image/png": "[encoded data removed]",
      "text/plain": [
       "<Figure size 432x288 with 1 Axes>"
      ]
     },
     "metadata": {
      "needs_background": "light"
     },
     "output_type": "display_data"
    }
   ],
   "source": [
    "sns.countplot(x = 'price_range',data=data,palette = 'hls')\n",
    "plt.show()"
   ]
  },
  {
   "cell_type": "code",
   "execution_count": 11,
   "id": "c40b1261",
   "metadata": {
    "execution": {
     "iopub.execute_input": "2022-01-25T13:03:19.795098Z",
     "iopub.status.busy": "2022-01-25T13:03:19.759678Z",
     "iopub.status.idle": "2022-01-25T13:03:20.379070Z",
     "shell.execute_reply": "2022-01-25T13:03:20.379540Z",
     "shell.execute_reply.started": "2022-01-25T12:36:11.735407Z"
    },
    "papermill": {
     "duration": 0.675579,
     "end_time": "2022-01-25T13:03:20.379700",
     "exception": false,
     "start_time": "2022-01-25T13:03:19.704121",
     "status": "completed"
    },
    "tags": []
   },
   "outputs": [
    {
     "data": {
      "image/png": "[encoded data removed]",
      "text/plain": [
       "<Figure size 1296x720 with 6 Axes>"
      ]
     },
     "metadata": {
      "needs_background": "light"
     },
     "output_type": "display_data"
    }
   ],
   "source": [
    "fig, axes = plt.subplots(2, 3, figsize=(18, 10))\n",
    "fig.suptitle('Price Range vs all numerical factor')\n",
    "sns.countplot(ax=axes[0, 0], data=data, x='three_g',palette='RdPu')\n",
    "sns.countplot(ax=axes[0, 1], data=data, x='touch_screen',palette='RdPu')\n",
    "sns.countplot(ax=axes[0, 2], data=data, x='four_g',palette='RdPu')\n",
    "sns.countplot(ax=axes[1, 0], data=data, x='wifi',palette='RdPu')\n",
    "sns.countplot(ax=axes[1,1],data = data, x ='fc' ,palette='RdPu')\n",
    "sns.countplot(ax=axes[1,2],data = data, x ='dual_sim',palette='RdPu' )\n",
    "plt.show()"
   ]
  },
  {
   "cell_type": "code",
   "execution_count": 12,
   "id": "c1d416dc",
   "metadata": {
    "execution": {
     "iopub.execute_input": "2022-01-25T13:03:20.465123Z",
     "iopub.status.busy": "2022-01-25T13:03:20.464223Z",
     "iopub.status.idle": "2022-01-25T13:03:21.347596Z",
     "shell.execute_reply": "2022-01-25T13:03:21.347093Z",
     "shell.execute_reply.started": "2022-01-25T12:37:22.594601Z"
    },
    "papermill": {
     "duration": 0.92691,
     "end_time": "2022-01-25T13:03:21.347740",
     "exception": false,
     "start_time": "2022-01-25T13:03:20.420830",
     "status": "completed"
    },
    "tags": []
   },
   "outputs": [
    {
     "data": {
      "image/png": "[encoded data removed]",
      "text/plain": [
       "<Figure size 1296x720 with 6 Axes>"
      ]
     },
     "metadata": {
      "needs_background": "light"
     },
     "output_type": "display_data"
    }
   ],
   "source": [
    "fig, axes = plt.subplots(3, 2, figsize=(18, 10))\n",
    "\n",
    "fig.suptitle('Price Range vs all numerical factor')\n",
    "\n",
    "sns.boxplot(ax=axes[0, 0], data=data, x='price_range', y='battery_power',palette = \"RdBu\")\n",
    "sns.boxplot(ax=axes[0, 1], data=data, x='price_range', y='ram',palette = \"RdBu\")\n",
    "sns.boxplot(ax=axes[1, 0], data=data, x='price_range', y='px_width',palette = \"RdBu\")\n",
    "sns.boxplot(ax=axes[1, 1], data=data, x='price_range', y='px_height',palette = \"RdBu\")\n",
    "sns.boxplot(ax=axes[2,0],data=data,x='price_range',y='mobile_wt',palette = \"RdBu\")\n",
    "sns.boxplot(ax=axes[2,1],data=data,x='price_range',y='int_memory',palette = \"RdBu\")\n",
    "plt.show()"
   ]
  },
  {
   "cell_type": "code",
   "execution_count": 13,
   "id": "24cd368d",
   "metadata": {
    "execution": {
     "iopub.execute_input": "2022-01-25T13:03:21.437209Z",
     "iopub.status.busy": "2022-01-25T13:03:21.436622Z",
     "iopub.status.idle": "2022-01-25T13:03:21.442487Z",
     "shell.execute_reply": "2022-01-25T13:03:21.441867Z",
     "shell.execute_reply.started": "2022-01-25T12:37:45.223175Z"
    },
    "papermill": {
     "duration": 0.05031,
     "end_time": "2022-01-25T13:03:21.442633",
     "exception": false,
     "start_time": "2022-01-25T13:03:21.392323",
     "status": "completed"
    },
    "tags": []
   },
   "outputs": [],
   "source": [
    "x = data.drop('price_range',axis=1) # x variable stores the independent variables.\n",
    "y = data['price_range'] #y store the dependent variable."
   ]
  },
  {
   "cell_type": "markdown",
   "id": "7a550a8b",
   "metadata": {
    "papermill": {
     "duration": 0.042288,
     "end_time": "2022-01-25T13:03:21.528079",
     "exception": false,
     "start_time": "2022-01-25T13:03:21.485791",
     "status": "completed"
    },
    "tags": []
   },
   "source": [
    "# Feature Selection"
   ]
  },
  {
   "cell_type": "markdown",
   "id": "7190da93",
   "metadata": {
    "papermill": {
     "duration": 0.042985,
     "end_time": "2022-01-25T13:03:21.613136",
     "exception": false,
     "start_time": "2022-01-25T13:03:21.570151",
     "status": "completed"
    },
    "tags": []
   },
   "source": [
    "# Apply SelectKBest Algorithm"
   ]
  },
  {
   "cell_type": "code",
   "execution_count": 14,
   "id": "d3fddf2a",
   "metadata": {
    "execution": {
     "iopub.execute_input": "2022-01-25T13:03:21.703299Z",
     "iopub.status.busy": "2022-01-25T13:03:21.701388Z",
     "iopub.status.idle": "2022-01-25T13:03:21.998003Z",
     "shell.execute_reply": "2022-01-25T13:03:21.996846Z",
     "shell.execute_reply.started": "2022-01-25T12:39:07.484252Z"
    },
    "papermill": {
     "duration": 0.342272,
     "end_time": "2022-01-25T13:03:21.998182",
     "exception": false,
     "start_time": "2022-01-25T13:03:21.655910",
     "status": "completed"
    },
    "tags": []
   },
   "outputs": [],
   "source": [
    "from sklearn.feature_selection import SelectKBest\n",
    "from sklearn.feature_selection import chi2"
   ]
  },
  {
   "cell_type": "code",
   "execution_count": 15,
   "id": "fd9fa288",
   "metadata": {
    "execution": {
     "iopub.execute_input": "2022-01-25T13:03:22.090890Z",
     "iopub.status.busy": "2022-01-25T13:03:22.089918Z",
     "iopub.status.idle": "2022-01-25T13:03:22.093743Z",
     "shell.execute_reply": "2022-01-25T13:03:22.094251Z",
     "shell.execute_reply.started": "2022-01-25T12:39:17.003994Z"
    },
    "papermill": {
     "duration": 0.053521,
     "end_time": "2022-01-25T13:03:22.094417",
     "exception": false,
     "start_time": "2022-01-25T13:03:22.040896",
     "status": "completed"
    },
    "tags": []
   },
   "outputs": [],
   "source": [
    "ordered_rank_features = SelectKBest(score_func=chi2,k=20)\n",
    "ordered_feature = ordered_rank_features.fit(x,y)"
   ]
  },
  {
   "cell_type": "code",
   "execution_count": 16,
   "id": "a47b356b",
   "metadata": {
    "execution": {
     "iopub.execute_input": "2022-01-25T13:03:22.183900Z",
     "iopub.status.busy": "2022-01-25T13:03:22.182903Z",
     "iopub.status.idle": "2022-01-25T13:03:22.187999Z",
     "shell.execute_reply": "2022-01-25T13:03:22.188515Z",
     "shell.execute_reply.started": "2022-01-25T12:39:24.743213Z"
    },
    "papermill": {
     "duration": 0.051143,
     "end_time": "2022-01-25T13:03:22.188680",
     "exception": false,
     "start_time": "2022-01-25T13:03:22.137537",
     "status": "completed"
    },
    "tags": []
   },
   "outputs": [],
   "source": [
    "dfscores = pd.DataFrame(ordered_feature.scores_,columns=[\"Score\"])\n",
    "dfcolumns = pd.DataFrame(x.columns)"
   ]
  },
  {
   "cell_type": "code",
   "execution_count": 17,
   "id": "02908029",
   "metadata": {
    "execution": {
     "iopub.execute_input": "2022-01-25T13:03:22.277451Z",
     "iopub.status.busy": "2022-01-25T13:03:22.276527Z",
     "iopub.status.idle": "2022-01-25T13:03:22.286721Z",
     "shell.execute_reply": "2022-01-25T13:03:22.287256Z",
     "shell.execute_reply.started": "2022-01-25T12:39:33.218861Z"
    },
    "papermill": {
     "duration": 0.055713,
     "end_time": "2022-01-25T13:03:22.287410",
     "exception": false,
     "start_time": "2022-01-25T13:03:22.231697",
     "status": "completed"
    },
    "tags": []
   },
   "outputs": [
    {
     "data": {
      "text/html": [
       "<div>\n",
       "<style scoped>\n",
       "    .dataframe tbody tr th:only-of-type {\n",
       "        vertical-align: middle;\n",
       "    }\n",
       "\n",
       "    .dataframe tbody tr th {\n",
       "        vertical-align: top;\n",
       "    }\n",
       "\n",
       "    .dataframe thead th {\n",
       "        text-align: right;\n",
       "    }\n",
       "</style>\n",
       "<table border=\"1\" class=\"dataframe\">\n",
       "  <thead>\n",
       "    <tr style=\"text-align: right;\">\n",
       "      <th></th>\n",
       "      <th>Features</th>\n",
       "      <th>Score</th>\n",
       "    </tr>\n",
       "  </thead>\n",
       "  <tbody>\n",
       "    <tr>\n",
       "      <th>0</th>\n",
       "      <td>battery_power</td>\n",
       "      <td>14129.866576</td>\n",
       "    </tr>\n",
       "    <tr>\n",
       "      <th>1</th>\n",
       "      <td>blue</td>\n",
       "      <td>0.723232</td>\n",
       "    </tr>\n",
       "    <tr>\n",
       "      <th>2</th>\n",
       "      <td>clock_speed</td>\n",
       "      <td>0.648366</td>\n",
       "    </tr>\n",
       "    <tr>\n",
       "      <th>3</th>\n",
       "      <td>dual_sim</td>\n",
       "      <td>0.631011</td>\n",
       "    </tr>\n",
       "    <tr>\n",
       "      <th>4</th>\n",
       "      <td>fc</td>\n",
       "      <td>10.135166</td>\n",
       "    </tr>\n",
       "    <tr>\n",
       "      <th>5</th>\n",
       "      <td>four_g</td>\n",
       "      <td>1.521572</td>\n",
       "    </tr>\n",
       "    <tr>\n",
       "      <th>6</th>\n",
       "      <td>int_memory</td>\n",
       "      <td>89.839124</td>\n",
       "    </tr>\n",
       "    <tr>\n",
       "      <th>7</th>\n",
       "      <td>m_dep</td>\n",
       "      <td>0.745820</td>\n",
       "    </tr>\n",
       "    <tr>\n",
       "      <th>8</th>\n",
       "      <td>mobile_wt</td>\n",
       "      <td>95.972863</td>\n",
       "    </tr>\n",
       "    <tr>\n",
       "      <th>9</th>\n",
       "      <td>n_cores</td>\n",
       "      <td>9.097556</td>\n",
       "    </tr>\n",
       "    <tr>\n",
       "      <th>10</th>\n",
       "      <td>pc</td>\n",
       "      <td>9.186054</td>\n",
       "    </tr>\n",
       "    <tr>\n",
       "      <th>11</th>\n",
       "      <td>px_height</td>\n",
       "      <td>17363.569536</td>\n",
       "    </tr>\n",
       "    <tr>\n",
       "      <th>12</th>\n",
       "      <td>px_width</td>\n",
       "      <td>9810.586750</td>\n",
       "    </tr>\n",
       "    <tr>\n",
       "      <th>13</th>\n",
       "      <td>ram</td>\n",
       "      <td>931267.519053</td>\n",
       "    </tr>\n",
       "    <tr>\n",
       "      <th>14</th>\n",
       "      <td>sc_h</td>\n",
       "      <td>9.614878</td>\n",
       "    </tr>\n",
       "    <tr>\n",
       "      <th>15</th>\n",
       "      <td>sc_w</td>\n",
       "      <td>16.480319</td>\n",
       "    </tr>\n",
       "    <tr>\n",
       "      <th>16</th>\n",
       "      <td>talk_time</td>\n",
       "      <td>13.236400</td>\n",
       "    </tr>\n",
       "    <tr>\n",
       "      <th>17</th>\n",
       "      <td>three_g</td>\n",
       "      <td>0.327643</td>\n",
       "    </tr>\n",
       "    <tr>\n",
       "      <th>18</th>\n",
       "      <td>touch_screen</td>\n",
       "      <td>1.928429</td>\n",
       "    </tr>\n",
       "    <tr>\n",
       "      <th>19</th>\n",
       "      <td>wifi</td>\n",
       "      <td>0.422091</td>\n",
       "    </tr>\n",
       "  </tbody>\n",
       "</table>\n",
       "</div>"
      ],
      "text/plain": [
       "         Features          Score\n",
       "0   battery_power   14129.866576\n",
       "1            blue       0.723232\n",
       "2     clock_speed       0.648366\n",
       "3        dual_sim       0.631011\n",
       "4              fc      10.135166\n",
       "5          four_g       1.521572\n",
       "6      int_memory      89.839124\n",
       "7           m_dep       0.745820\n",
       "8       mobile_wt      95.972863\n",
       "9         n_cores       9.097556\n",
       "10             pc       9.186054\n",
       "11      px_height   17363.569536\n",
       "12       px_width    9810.586750\n",
       "13            ram  931267.519053\n",
       "14           sc_h       9.614878\n",
       "15           sc_w      16.480319\n",
       "16      talk_time      13.236400\n",
       "17        three_g       0.327643\n",
       "18   touch_screen       1.928429\n",
       "19           wifi       0.422091"
      ]
     },
     "execution_count": 17,
     "metadata": {},
     "output_type": "execute_result"
    }
   ],
   "source": [
    "features_rank=pd.concat([dfcolumns,dfscores],axis=1)\n",
    "features_rank.columns=['Features','Score']\n",
    "features_rank"
   ]
  },
  {
   "cell_type": "markdown",
   "id": "b53da68e",
   "metadata": {
    "papermill": {
     "duration": 0.045109,
     "end_time": "2022-01-25T13:03:22.378088",
     "exception": false,
     "start_time": "2022-01-25T13:03:22.332979",
     "status": "completed"
    },
    "tags": []
   },
   "source": [
    "# Take top 10 features variables."
   ]
  },
  {
   "cell_type": "code",
   "execution_count": 18,
   "id": "cc4e097e",
   "metadata": {
    "execution": {
     "iopub.execute_input": "2022-01-25T13:03:22.472275Z",
     "iopub.status.busy": "2022-01-25T13:03:22.471334Z",
     "iopub.status.idle": "2022-01-25T13:03:22.480282Z",
     "shell.execute_reply": "2022-01-25T13:03:22.479708Z",
     "shell.execute_reply.started": "2022-01-25T12:40:13.632130Z"
    },
    "papermill": {
     "duration": 0.057876,
     "end_time": "2022-01-25T13:03:22.480420",
     "exception": false,
     "start_time": "2022-01-25T13:03:22.422544",
     "status": "completed"
    },
    "tags": []
   },
   "outputs": [
    {
     "data": {
      "text/html": [
       "<div>\n",
       "<style scoped>\n",
       "    .dataframe tbody tr th:only-of-type {\n",
       "        vertical-align: middle;\n",
       "    }\n",
       "\n",
       "    .dataframe tbody tr th {\n",
       "        vertical-align: top;\n",
       "    }\n",
       "\n",
       "    .dataframe thead th {\n",
       "        text-align: right;\n",
       "    }\n",
       "</style>\n",
       "<table border=\"1\" class=\"dataframe\">\n",
       "  <thead>\n",
       "    <tr style=\"text-align: right;\">\n",
       "      <th></th>\n",
       "      <th>Features</th>\n",
       "      <th>Score</th>\n",
       "    </tr>\n",
       "  </thead>\n",
       "  <tbody>\n",
       "    <tr>\n",
       "      <th>13</th>\n",
       "      <td>ram</td>\n",
       "      <td>931267.519053</td>\n",
       "    </tr>\n",
       "    <tr>\n",
       "      <th>11</th>\n",
       "      <td>px_height</td>\n",
       "      <td>17363.569536</td>\n",
       "    </tr>\n",
       "    <tr>\n",
       "      <th>0</th>\n",
       "      <td>battery_power</td>\n",
       "      <td>14129.866576</td>\n",
       "    </tr>\n",
       "    <tr>\n",
       "      <th>12</th>\n",
       "      <td>px_width</td>\n",
       "      <td>9810.586750</td>\n",
       "    </tr>\n",
       "    <tr>\n",
       "      <th>8</th>\n",
       "      <td>mobile_wt</td>\n",
       "      <td>95.972863</td>\n",
       "    </tr>\n",
       "    <tr>\n",
       "      <th>6</th>\n",
       "      <td>int_memory</td>\n",
       "      <td>89.839124</td>\n",
       "    </tr>\n",
       "    <tr>\n",
       "      <th>15</th>\n",
       "      <td>sc_w</td>\n",
       "      <td>16.480319</td>\n",
       "    </tr>\n",
       "    <tr>\n",
       "      <th>16</th>\n",
       "      <td>talk_time</td>\n",
       "      <td>13.236400</td>\n",
       "    </tr>\n",
       "    <tr>\n",
       "      <th>4</th>\n",
       "      <td>fc</td>\n",
       "      <td>10.135166</td>\n",
       "    </tr>\n",
       "    <tr>\n",
       "      <th>14</th>\n",
       "      <td>sc_h</td>\n",
       "      <td>9.614878</td>\n",
       "    </tr>\n",
       "  </tbody>\n",
       "</table>\n",
       "</div>"
      ],
      "text/plain": [
       "         Features          Score\n",
       "13            ram  931267.519053\n",
       "11      px_height   17363.569536\n",
       "0   battery_power   14129.866576\n",
       "12       px_width    9810.586750\n",
       "8       mobile_wt      95.972863\n",
       "6      int_memory      89.839124\n",
       "15           sc_w      16.480319\n",
       "16      talk_time      13.236400\n",
       "4              fc      10.135166\n",
       "14           sc_h       9.614878"
      ]
     },
     "execution_count": 18,
     "metadata": {},
     "output_type": "execute_result"
    }
   ],
   "source": [
    "features_rank.nlargest(10,'Score')"
   ]
  },
  {
   "cell_type": "markdown",
   "id": "9c4ec9ee",
   "metadata": {
    "papermill": {
     "duration": 0.045701,
     "end_time": "2022-01-25T13:03:22.569828",
     "exception": false,
     "start_time": "2022-01-25T13:03:22.524127",
     "status": "completed"
    },
    "tags": []
   },
   "source": [
    "# Feature Importance"
   ]
  },
  {
   "cell_type": "markdown",
   "id": "b8457207",
   "metadata": {
    "papermill": {
     "duration": 0.042714,
     "end_time": "2022-01-25T13:03:22.656079",
     "exception": false,
     "start_time": "2022-01-25T13:03:22.613365",
     "status": "completed"
    },
    "tags": []
   },
   "source": [
    "# This technique gives you a score for each feature of your data, the higher the score more relevant it is"
   ]
  },
  {
   "cell_type": "code",
   "execution_count": 19,
   "id": "d96b50ee",
   "metadata": {
    "execution": {
     "iopub.execute_input": "2022-01-25T13:03:22.746719Z",
     "iopub.status.busy": "2022-01-25T13:03:22.746054Z",
     "iopub.status.idle": "2022-01-25T13:03:23.124062Z",
     "shell.execute_reply": "2022-01-25T13:03:23.124526Z",
     "shell.execute_reply.started": "2022-01-25T12:43:57.179796Z"
    },
    "papermill": {
     "duration": 0.425445,
     "end_time": "2022-01-25T13:03:23.124704",
     "exception": false,
     "start_time": "2022-01-25T13:03:22.699259",
     "status": "completed"
    },
    "tags": []
   },
   "outputs": [
    {
     "data": {
      "text/plain": [
       "ExtraTreesClassifier()"
      ]
     },
     "execution_count": 19,
     "metadata": {},
     "output_type": "execute_result"
    }
   ],
   "source": [
    "from sklearn.ensemble import ExtraTreesClassifier\n",
    "import matplotlib.pyplot as plt\n",
    "model=ExtraTreesClassifier()\n",
    "model.fit(x,y)"
   ]
  },
  {
   "cell_type": "code",
   "execution_count": 20,
   "id": "dd56ca87",
   "metadata": {
    "execution": {
     "iopub.execute_input": "2022-01-25T13:03:23.217600Z",
     "iopub.status.busy": "2022-01-25T13:03:23.216699Z",
     "iopub.status.idle": "2022-01-25T13:03:23.230828Z",
     "shell.execute_reply": "2022-01-25T13:03:23.230004Z",
     "shell.execute_reply.started": "2022-01-25T12:44:11.708082Z"
    },
    "papermill": {
     "duration": 0.062059,
     "end_time": "2022-01-25T13:03:23.231010",
     "exception": false,
     "start_time": "2022-01-25T13:03:23.168951",
     "status": "completed"
    },
    "tags": []
   },
   "outputs": [
    {
     "name": "stdout",
     "output_type": "stream",
     "text": [
      "[0.06292452 0.01967312 0.03404876 0.02038677 0.03194064 0.01728915\n",
      " 0.03583872 0.03442034 0.03624762 0.03321908 0.03369212 0.04674505\n",
      " 0.04983321 0.39008295 0.03367929 0.03310083 0.03468084 0.0142091\n",
      " 0.01823229 0.01975559]\n"
     ]
    }
   ],
   "source": [
    "print(model.feature_importances_)"
   ]
  },
  {
   "cell_type": "code",
   "execution_count": 21,
   "id": "02507151",
   "metadata": {
    "execution": {
     "iopub.execute_input": "2022-01-25T13:03:23.324342Z",
     "iopub.status.busy": "2022-01-25T13:03:23.323738Z",
     "iopub.status.idle": "2022-01-25T13:03:23.495562Z",
     "shell.execute_reply": "2022-01-25T13:03:23.495996Z",
     "shell.execute_reply.started": "2022-01-25T12:44:21.047248Z"
    },
    "papermill": {
     "duration": 0.22056,
     "end_time": "2022-01-25T13:03:23.496187",
     "exception": false,
     "start_time": "2022-01-25T13:03:23.275627",
     "status": "completed"
    },
    "tags": []
   },
   "outputs": [
    {
     "data": {
      "image/png": "[encoded data removed]",
      "text/plain": [
       "<Figure size 432x288 with 1 Axes>"
      ]
     },
     "metadata": {
      "needs_background": "light"
     },
     "output_type": "display_data"
    }
   ],
   "source": [
    "ranked_features=pd.Series(model.feature_importances_,index=x.columns)\n",
    "ranked_features.nlargest(10).plot(kind='barh')\n",
    "plt.show()"
   ]
  },
  {
   "cell_type": "markdown",
   "id": "e11f57dd",
   "metadata": {
    "papermill": {
     "duration": 0.044657,
     "end_time": "2022-01-25T13:03:23.586061",
     "exception": false,
     "start_time": "2022-01-25T13:03:23.541404",
     "status": "completed"
    },
    "tags": []
   },
   "source": [
    "# Information Gain"
   ]
  },
  {
   "cell_type": "code",
   "execution_count": 22,
   "id": "83c52ae6",
   "metadata": {
    "execution": {
     "iopub.execute_input": "2022-01-25T13:03:23.678398Z",
     "iopub.status.busy": "2022-01-25T13:03:23.677820Z",
     "iopub.status.idle": "2022-01-25T13:03:24.013197Z",
     "shell.execute_reply": "2022-01-25T13:03:24.012658Z",
     "shell.execute_reply.started": "2022-01-25T12:45:03.407408Z"
    },
    "papermill": {
     "duration": 0.382751,
     "end_time": "2022-01-25T13:03:24.013378",
     "exception": false,
     "start_time": "2022-01-25T13:03:23.630627",
     "status": "completed"
    },
    "tags": []
   },
   "outputs": [
    {
     "data": {
      "text/plain": [
       "ram              0.847341\n",
       "px_height        0.028128\n",
       "battery_power    0.027715\n",
       "px_width         0.026806\n",
       "touch_screen     0.021750\n",
       "m_dep            0.018236\n",
       "wifi             0.016571\n",
       "three_g          0.012210\n",
       "pc               0.009701\n",
       "clock_speed      0.006011\n",
       "mobile_wt        0.001104\n",
       "dual_sim         0.000825\n",
       "n_cores          0.000798\n",
       "int_memory       0.000000\n",
       "blue             0.000000\n",
       "four_g           0.000000\n",
       "fc               0.000000\n",
       "sc_h             0.000000\n",
       "sc_w             0.000000\n",
       "talk_time        0.000000\n",
       "dtype: float64"
      ]
     },
     "execution_count": 22,
     "metadata": {},
     "output_type": "execute_result"
    }
   ],
   "source": [
    "from sklearn.feature_selection import mutual_info_classif\n",
    "mutual_info=mutual_info_classif(x,y)\n",
    "mutual_data=pd.Series(mutual_info,index=x.columns)\n",
    "mutual_data.sort_values(ascending=False)"
   ]
  },
  {
   "cell_type": "code",
   "execution_count": 23,
   "id": "abae6d24",
   "metadata": {
    "execution": {
     "iopub.execute_input": "2022-01-25T13:03:24.108847Z",
     "iopub.status.busy": "2022-01-25T13:03:24.107880Z",
     "iopub.status.idle": "2022-01-25T13:03:24.110057Z",
     "shell.execute_reply": "2022-01-25T13:03:24.110485Z",
     "shell.execute_reply.started": "2022-01-25T12:45:16.242868Z"
    },
    "papermill": {
     "duration": 0.052744,
     "end_time": "2022-01-25T13:03:24.110667",
     "exception": false,
     "start_time": "2022-01-25T13:03:24.057923",
     "status": "completed"
    },
    "tags": []
   },
   "outputs": [],
   "source": [
    "data = data.drop(['wifi','touch_screen','three_g','talk_time','sc_w','dual_sim','four_g','int_memory','blue','n_cores','mobile_wt','m_dep','fc'],axis=1)"
   ]
  },
  {
   "cell_type": "code",
   "execution_count": 24,
   "id": "b98206a7",
   "metadata": {
    "execution": {
     "iopub.execute_input": "2022-01-25T13:03:24.209205Z",
     "iopub.status.busy": "2022-01-25T13:03:24.208612Z",
     "iopub.status.idle": "2022-01-25T13:03:24.211076Z",
     "shell.execute_reply": "2022-01-25T13:03:24.211595Z",
     "shell.execute_reply.started": "2022-01-25T12:45:19.224751Z"
    },
    "papermill": {
     "duration": 0.056683,
     "end_time": "2022-01-25T13:03:24.211751",
     "exception": false,
     "start_time": "2022-01-25T13:03:24.155068",
     "status": "completed"
    },
    "tags": []
   },
   "outputs": [
    {
     "data": {
      "text/html": [
       "<div>\n",
       "<style scoped>\n",
       "    .dataframe tbody tr th:only-of-type {\n",
       "        vertical-align: middle;\n",
       "    }\n",
       "\n",
       "    .dataframe tbody tr th {\n",
       "        vertical-align: top;\n",
       "    }\n",
       "\n",
       "    .dataframe thead th {\n",
       "        text-align: right;\n",
       "    }\n",
       "</style>\n",
       "<table border=\"1\" class=\"dataframe\">\n",
       "  <thead>\n",
       "    <tr style=\"text-align: right;\">\n",
       "      <th></th>\n",
       "      <th>battery_power</th>\n",
       "      <th>clock_speed</th>\n",
       "      <th>pc</th>\n",
       "      <th>px_height</th>\n",
       "      <th>px_width</th>\n",
       "      <th>ram</th>\n",
       "      <th>sc_h</th>\n",
       "      <th>price_range</th>\n",
       "    </tr>\n",
       "  </thead>\n",
       "  <tbody>\n",
       "    <tr>\n",
       "      <th>0</th>\n",
       "      <td>842</td>\n",
       "      <td>2.2</td>\n",
       "      <td>2</td>\n",
       "      <td>20</td>\n",
       "      <td>756</td>\n",
       "      <td>2549</td>\n",
       "      <td>9</td>\n",
       "      <td>1</td>\n",
       "    </tr>\n",
       "    <tr>\n",
       "      <th>1</th>\n",
       "      <td>1021</td>\n",
       "      <td>0.5</td>\n",
       "      <td>6</td>\n",
       "      <td>905</td>\n",
       "      <td>1988</td>\n",
       "      <td>2631</td>\n",
       "      <td>17</td>\n",
       "      <td>2</td>\n",
       "    </tr>\n",
       "    <tr>\n",
       "      <th>2</th>\n",
       "      <td>563</td>\n",
       "      <td>0.5</td>\n",
       "      <td>6</td>\n",
       "      <td>1263</td>\n",
       "      <td>1716</td>\n",
       "      <td>2603</td>\n",
       "      <td>11</td>\n",
       "      <td>2</td>\n",
       "    </tr>\n",
       "    <tr>\n",
       "      <th>3</th>\n",
       "      <td>615</td>\n",
       "      <td>2.5</td>\n",
       "      <td>9</td>\n",
       "      <td>1216</td>\n",
       "      <td>1786</td>\n",
       "      <td>2769</td>\n",
       "      <td>16</td>\n",
       "      <td>2</td>\n",
       "    </tr>\n",
       "    <tr>\n",
       "      <th>4</th>\n",
       "      <td>1821</td>\n",
       "      <td>1.2</td>\n",
       "      <td>14</td>\n",
       "      <td>1208</td>\n",
       "      <td>1212</td>\n",
       "      <td>1411</td>\n",
       "      <td>8</td>\n",
       "      <td>1</td>\n",
       "    </tr>\n",
       "  </tbody>\n",
       "</table>\n",
       "</div>"
      ],
      "text/plain": [
       "   battery_power  clock_speed  pc  px_height  px_width   ram  sc_h  \\\n",
       "0            842          2.2   2         20       756  2549     9   \n",
       "1           1021          0.5   6        905      1988  2631    17   \n",
       "2            563          0.5   6       1263      1716  2603    11   \n",
       "3            615          2.5   9       1216      1786  2769    16   \n",
       "4           1821          1.2  14       1208      1212  1411     8   \n",
       "\n",
       "   price_range  \n",
       "0            1  \n",
       "1            2  \n",
       "2            2  \n",
       "3            2  \n",
       "4            1  "
      ]
     },
     "execution_count": 24,
     "metadata": {},
     "output_type": "execute_result"
    }
   ],
   "source": [
    "data.head()"
   ]
  },
  {
   "cell_type": "code",
   "execution_count": 25,
   "id": "cc9551a5",
   "metadata": {
    "execution": {
     "iopub.execute_input": "2022-01-25T13:03:24.303859Z",
     "iopub.status.busy": "2022-01-25T13:03:24.303311Z",
     "iopub.status.idle": "2022-01-25T13:03:24.307894Z",
     "shell.execute_reply": "2022-01-25T13:03:24.308439Z",
     "shell.execute_reply.started": "2022-01-25T12:45:38.501341Z"
    },
    "papermill": {
     "duration": 0.052014,
     "end_time": "2022-01-25T13:03:24.308615",
     "exception": false,
     "start_time": "2022-01-25T13:03:24.256601",
     "status": "completed"
    },
    "tags": []
   },
   "outputs": [],
   "source": [
    "x = data.drop('price_range',axis=1)\n",
    "y = data['price_range']"
   ]
  },
  {
   "cell_type": "code",
   "execution_count": 26,
   "id": "d735524f",
   "metadata": {
    "execution": {
     "iopub.execute_input": "2022-01-25T13:03:24.403959Z",
     "iopub.status.busy": "2022-01-25T13:03:24.402821Z",
     "iopub.status.idle": "2022-01-25T13:03:24.407537Z",
     "shell.execute_reply": "2022-01-25T13:03:24.407053Z",
     "shell.execute_reply.started": "2022-01-25T12:45:46.278302Z"
    },
    "papermill": {
     "duration": 0.052482,
     "end_time": "2022-01-25T13:03:24.407664",
     "exception": false,
     "start_time": "2022-01-25T13:03:24.355182",
     "status": "completed"
    },
    "tags": []
   },
   "outputs": [
    {
     "name": "stdout",
     "output_type": "stream",
     "text": [
      "(2000, 7)\n",
      "(2000,)\n"
     ]
    }
   ],
   "source": [
    "print(x.shape)\n",
    "print(y.shape)"
   ]
  },
  {
   "cell_type": "markdown",
   "id": "35a7c54f",
   "metadata": {
    "papermill": {
     "duration": 0.044775,
     "end_time": "2022-01-25T13:03:24.497828",
     "exception": false,
     "start_time": "2022-01-25T13:03:24.453053",
     "status": "completed"
    },
    "tags": []
   },
   "source": [
    "# Split the dataset into train and test"
   ]
  },
  {
   "cell_type": "code",
   "execution_count": 27,
   "id": "2aacd2b8",
   "metadata": {
    "execution": {
     "iopub.execute_input": "2022-01-25T13:03:24.591311Z",
     "iopub.status.busy": "2022-01-25T13:03:24.590708Z",
     "iopub.status.idle": "2022-01-25T13:03:24.595779Z",
     "shell.execute_reply": "2022-01-25T13:03:24.596327Z",
     "shell.execute_reply.started": "2022-01-25T12:46:12.100773Z"
    },
    "papermill": {
     "duration": 0.05298,
     "end_time": "2022-01-25T13:03:24.596494",
     "exception": false,
     "start_time": "2022-01-25T13:03:24.543514",
     "status": "completed"
    },
    "tags": []
   },
   "outputs": [],
   "source": [
    "from sklearn.model_selection import train_test_split\n",
    "X_train, X_test, y_train, y_test = train_test_split(x, y, test_size = 0.25, random_state = 0)"
   ]
  },
  {
   "cell_type": "code",
   "execution_count": 28,
   "id": "7955fe0a",
   "metadata": {
    "execution": {
     "iopub.execute_input": "2022-01-25T13:03:24.691661Z",
     "iopub.status.busy": "2022-01-25T13:03:24.691011Z",
     "iopub.status.idle": "2022-01-25T13:03:24.695959Z",
     "shell.execute_reply": "2022-01-25T13:03:24.696508Z",
     "shell.execute_reply.started": "2022-01-25T12:46:19.758961Z"
    },
    "papermill": {
     "duration": 0.054227,
     "end_time": "2022-01-25T13:03:24.696668",
     "exception": false,
     "start_time": "2022-01-25T13:03:24.642441",
     "status": "completed"
    },
    "tags": []
   },
   "outputs": [
    {
     "name": "stdout",
     "output_type": "stream",
     "text": [
      "(1500, 7)\n",
      "(500, 7)\n",
      "(1500,)\n",
      "(500,)\n"
     ]
    }
   ],
   "source": [
    "print(X_train.shape)\n",
    "print(X_test.shape)\n",
    "print(y_train.shape)\n",
    "print(y_test.shape)"
   ]
  },
  {
   "cell_type": "markdown",
   "id": "bbc30244",
   "metadata": {
    "papermill": {
     "duration": 0.045079,
     "end_time": "2022-01-25T13:03:24.787311",
     "exception": false,
     "start_time": "2022-01-25T13:03:24.742232",
     "status": "completed"
    },
    "tags": []
   },
   "source": [
    "# Feature Scaling"
   ]
  },
  {
   "cell_type": "code",
   "execution_count": 29,
   "id": "6aea4659",
   "metadata": {
    "execution": {
     "iopub.execute_input": "2022-01-25T13:03:24.881606Z",
     "iopub.status.busy": "2022-01-25T13:03:24.880977Z",
     "iopub.status.idle": "2022-01-25T13:03:24.889404Z",
     "shell.execute_reply": "2022-01-25T13:03:24.889850Z",
     "shell.execute_reply.started": "2022-01-25T12:46:40.940071Z"
    },
    "papermill": {
     "duration": 0.057086,
     "end_time": "2022-01-25T13:03:24.890029",
     "exception": false,
     "start_time": "2022-01-25T13:03:24.832943",
     "status": "completed"
    },
    "tags": []
   },
   "outputs": [],
   "source": [
    "from sklearn.preprocessing import StandardScaler\n",
    "sc = StandardScaler()\n",
    "X_train = sc.fit_transform(X_train)\n",
    "X_test = sc.transform(X_test)"
   ]
  },
  {
   "cell_type": "code",
   "execution_count": 30,
   "id": "5607d092",
   "metadata": {
    "execution": {
     "iopub.execute_input": "2022-01-25T13:03:24.984181Z",
     "iopub.status.busy": "2022-01-25T13:03:24.983586Z",
     "iopub.status.idle": "2022-01-25T13:03:24.988134Z",
     "shell.execute_reply": "2022-01-25T13:03:24.988588Z",
     "shell.execute_reply.started": "2022-01-25T12:48:14.650637Z"
    },
    "papermill": {
     "duration": 0.053339,
     "end_time": "2022-01-25T13:03:24.988744",
     "exception": false,
     "start_time": "2022-01-25T13:03:24.935405",
     "status": "completed"
    },
    "tags": []
   },
   "outputs": [
    {
     "data": {
      "text/plain": [
       "array([[-1.58954736, -0.54409463,  0.69550098, ...,  1.47195821,\n",
       "         0.79794809,  1.11590168],\n",
       "       [-1.06204271, -0.42202734, -1.28723859, ..., -1.73439382,\n",
       "         0.97495824,  1.35539982],\n",
       "       [ 1.31059626, -0.29996004,  0.86072928, ...,  0.65885313,\n",
       "         1.15196839,  1.35539982],\n",
       "       ...,\n",
       "       [-0.09759213,  0.55451104, -1.45246689, ...,  0.87998086,\n",
       "         1.4053724 ,  0.15790911],\n",
       "       [-0.09532817,  1.04278023, -0.4610971 , ...,  1.26465096,\n",
       "        -1.00010238,  0.39740725],\n",
       "       [-1.19335288, -1.27649842,  1.52164247, ..., -0.75083612,\n",
       "         0.29579825, -1.0395816 ]])"
      ]
     },
     "execution_count": 30,
     "metadata": {},
     "output_type": "execute_result"
    }
   ],
   "source": [
    "X_train"
   ]
  },
  {
   "cell_type": "markdown",
   "id": "867c5569",
   "metadata": {
    "papermill": {
     "duration": 0.045975,
     "end_time": "2022-01-25T13:03:25.081306",
     "exception": false,
     "start_time": "2022-01-25T13:03:25.035331",
     "status": "completed"
    },
    "tags": []
   },
   "source": [
    "# Logistic Regression"
   ]
  },
  {
   "cell_type": "code",
   "execution_count": 31,
   "id": "457ba535",
   "metadata": {
    "execution": {
     "iopub.execute_input": "2022-01-25T13:03:25.179249Z",
     "iopub.status.busy": "2022-01-25T13:03:25.178638Z",
     "iopub.status.idle": "2022-01-25T13:03:25.213307Z",
     "shell.execute_reply": "2022-01-25T13:03:25.213771Z",
     "shell.execute_reply.started": "2022-01-25T12:47:44.244761Z"
    },
    "papermill": {
     "duration": 0.085411,
     "end_time": "2022-01-25T13:03:25.213934",
     "exception": false,
     "start_time": "2022-01-25T13:03:25.128523",
     "status": "completed"
    },
    "tags": []
   },
   "outputs": [
    {
     "data": {
      "text/plain": [
       "LogisticRegression(random_state=0)"
      ]
     },
     "execution_count": 31,
     "metadata": {},
     "output_type": "execute_result"
    }
   ],
   "source": [
    "from sklearn.linear_model import LogisticRegression\n",
    "classifier = LogisticRegression(random_state = 0)\n",
    "classifier.fit(X_train, y_train)"
   ]
  },
  {
   "cell_type": "code",
   "execution_count": 32,
   "id": "7ff142c2",
   "metadata": {
    "execution": {
     "iopub.execute_input": "2022-01-25T13:03:25.309846Z",
     "iopub.status.busy": "2022-01-25T13:03:25.309284Z",
     "iopub.status.idle": "2022-01-25T13:03:25.312503Z",
     "shell.execute_reply": "2022-01-25T13:03:25.312980Z",
     "shell.execute_reply.started": "2022-01-25T12:47:54.878997Z"
    },
    "papermill": {
     "duration": 0.053188,
     "end_time": "2022-01-25T13:03:25.313133",
     "exception": false,
     "start_time": "2022-01-25T13:03:25.259945",
     "status": "completed"
    },
    "tags": []
   },
   "outputs": [],
   "source": [
    "y_pred = classifier.predict(X_test)"
   ]
  },
  {
   "cell_type": "code",
   "execution_count": 33,
   "id": "a97ac213",
   "metadata": {
    "execution": {
     "iopub.execute_input": "2022-01-25T13:03:25.411092Z",
     "iopub.status.busy": "2022-01-25T13:03:25.410513Z",
     "iopub.status.idle": "2022-01-25T13:03:25.412880Z",
     "shell.execute_reply": "2022-01-25T13:03:25.413378Z",
     "shell.execute_reply.started": "2022-01-25T12:48:33.086706Z"
    },
    "papermill": {
     "duration": 0.053332,
     "end_time": "2022-01-25T13:03:25.413541",
     "exception": false,
     "start_time": "2022-01-25T13:03:25.360209",
     "status": "completed"
    },
    "tags": []
   },
   "outputs": [
    {
     "name": "stdout",
     "output_type": "stream",
     "text": [
      "[3 0 2 2 2 0 0 3 3 1 1 3 0 2 3 0 3 2 2 1 0 0 3 1 2 2 3 1 3 1 1 0 2 0 2 3 0\n",
      " 0 3 3 2 1 3 3 1 3 0 1 2 1 1 3 0 3 0 2 2 2 0 3 3 1 3 2 1 2 3 2 2 2 3 2 1 0\n",
      " 1 3 2 2 1 2 3 3 3 0 0 0 2 1 2 3 1 2 2 1 0 3 3 3 0 3 1 1 3 1 3 2 2 3 2 3 3\n",
      " 0 0 1 3 3 0 0 1 0 0 3 2 2 1 1 1 1 0 2 1 3 3 3 3 3 3 2 0 1 1 2 1 3 0 3 0 0\n",
      " 2 0 1 1 1 1 3 0 0 3 1 3 2 1 3 1 2 3 3 2 1 0 3 1 2 3 3 0 2 2 3 1 2 1 0 1 2\n",
      " 1 2 0 3 3 1 1 0 2 3 0 1 2 2 0 3 3 2 1 2 3 3 3 0 0 0 2 3 3 0 0 1 3 1 3 3 3\n",
      " 0 0 2 2 3 1 0 2 0 0 0 3 3 1 2 2 1 1 0 2 3 3 0 0 1 3 3 2 3 0 3 1 1 0 2 3 3\n",
      " 2 0 0 1 2 3 2 2 3 1 1 0 3 3 2 1 3 2 2 2 1 0 2 2 1 0 0 2 2 2 2 0 1 3 0 1 2\n",
      " 3 0 2 0 1 1 3 0 0 2 3 1 2 0 2 0 3 0 3 3 2 3 1 2 2 1 1 1 0 1 0 3 1 0 3 1 0\n",
      " 1 3 0 3 1 2 0 1 3 0 2 1 1 2 1 1 0 2 0 0 3 1 2 3 2 2 0 3 2 1 1 3 2 3 3 3 0\n",
      " 2 0 3 0 1 1 2 3 1 3 1 2 0 1 2 3 0 0 1 3 0 3 0 1 2 1 1 0 2 1 0 1 3 0 3 3 0\n",
      " 2 1 3 1 1 3 2 0 3 2 2 0 0 3 0 1 1 1 3 2 3 2 0 3 0 0 1 3 0 0 3 2 2 2 3 0 0\n",
      " 1 2 1 2 0 3 3 0 2 3 0 2 2 1 0 2 2 1 3 2 2 0 2 0 3 3 2 1 0 3 1 2 0 0 1 3 0\n",
      " 3 0 0 1 2 0 1 3 0 2 2 1 2 0 3 0 2 3 2]\n"
     ]
    }
   ],
   "source": [
    "print(y_pred)"
   ]
  },
  {
   "cell_type": "code",
   "execution_count": 34,
   "id": "6098cef7",
   "metadata": {
    "execution": {
     "iopub.execute_input": "2022-01-25T13:03:25.510383Z",
     "iopub.status.busy": "2022-01-25T13:03:25.509612Z",
     "iopub.status.idle": "2022-01-25T13:03:25.515394Z",
     "shell.execute_reply": "2022-01-25T13:03:25.514855Z",
     "shell.execute_reply.started": "2022-01-25T12:48:44.690305Z"
    },
    "papermill": {
     "duration": 0.055969,
     "end_time": "2022-01-25T13:03:25.515536",
     "exception": false,
     "start_time": "2022-01-25T13:03:25.459567",
     "status": "completed"
    },
    "tags": []
   },
   "outputs": [
    {
     "name": "stdout",
     "output_type": "stream",
     "text": [
      "Accuracy score: 0.956\n"
     ]
    }
   ],
   "source": [
    "from sklearn.metrics import accuracy_score\n",
    "acc1 = accuracy_score(y_test, y_pred)\n",
    "print(f\"Accuracy score: {acc1}\")"
   ]
  },
  {
   "cell_type": "markdown",
   "id": "daf4c1b2",
   "metadata": {
    "papermill": {
     "duration": 0.046584,
     "end_time": "2022-01-25T13:03:25.608798",
     "exception": false,
     "start_time": "2022-01-25T13:03:25.562214",
     "status": "completed"
    },
    "tags": []
   },
   "source": [
    "# SVM"
   ]
  },
  {
   "cell_type": "code",
   "execution_count": 35,
   "id": "124e6bf3",
   "metadata": {
    "execution": {
     "iopub.execute_input": "2022-01-25T13:03:25.710425Z",
     "iopub.status.busy": "2022-01-25T13:03:25.709793Z",
     "iopub.status.idle": "2022-01-25T13:03:25.739686Z",
     "shell.execute_reply": "2022-01-25T13:03:25.738967Z",
     "shell.execute_reply.started": "2022-01-25T12:49:15.290861Z"
    },
    "papermill": {
     "duration": 0.084059,
     "end_time": "2022-01-25T13:03:25.739856",
     "exception": false,
     "start_time": "2022-01-25T13:03:25.655797",
     "status": "completed"
    },
    "tags": []
   },
   "outputs": [
    {
     "data": {
      "text/plain": [
       "SVC(kernel='linear', random_state=0)"
      ]
     },
     "execution_count": 35,
     "metadata": {},
     "output_type": "execute_result"
    }
   ],
   "source": [
    "from sklearn.svm import SVC\n",
    "classifier = SVC(kernel = 'linear', random_state = 0)\n",
    "classifier.fit(X_train, y_train)"
   ]
  },
  {
   "cell_type": "markdown",
   "id": "d4984352",
   "metadata": {
    "papermill": {
     "duration": 0.047205,
     "end_time": "2022-01-25T13:03:25.834625",
     "exception": false,
     "start_time": "2022-01-25T13:03:25.787420",
     "status": "completed"
    },
    "tags": []
   },
   "source": [
    "# Predict the tset set result"
   ]
  },
  {
   "cell_type": "code",
   "execution_count": 36,
   "id": "c0306c94",
   "metadata": {
    "execution": {
     "iopub.execute_input": "2022-01-25T13:03:25.931328Z",
     "iopub.status.busy": "2022-01-25T13:03:25.930769Z",
     "iopub.status.idle": "2022-01-25T13:03:25.936496Z",
     "shell.execute_reply": "2022-01-25T13:03:25.937000Z",
     "shell.execute_reply.started": "2022-01-25T12:49:42.036438Z"
    },
    "papermill": {
     "duration": 0.05546,
     "end_time": "2022-01-25T13:03:25.937145",
     "exception": false,
     "start_time": "2022-01-25T13:03:25.881685",
     "status": "completed"
    },
    "tags": []
   },
   "outputs": [],
   "source": [
    "y_pred = classifier.predict(X_test)"
   ]
  },
  {
   "cell_type": "code",
   "execution_count": 37,
   "id": "b342b303",
   "metadata": {
    "execution": {
     "iopub.execute_input": "2022-01-25T13:03:26.036359Z",
     "iopub.status.busy": "2022-01-25T13:03:26.035682Z",
     "iopub.status.idle": "2022-01-25T13:03:26.043896Z",
     "shell.execute_reply": "2022-01-25T13:03:26.043311Z",
     "shell.execute_reply.started": "2022-01-25T12:49:50.274707Z"
    },
    "papermill": {
     "duration": 0.060499,
     "end_time": "2022-01-25T13:03:26.044027",
     "exception": false,
     "start_time": "2022-01-25T13:03:25.983528",
     "status": "completed"
    },
    "tags": []
   },
   "outputs": [
    {
     "name": "stdout",
     "output_type": "stream",
     "text": [
      "[[120   4   0   0]\n",
      " [  3 105   2   0]\n",
      " [  0   4 115   6]\n",
      " [  0   0   6 135]]\n"
     ]
    }
   ],
   "source": [
    "from sklearn.metrics import confusion_matrix, accuracy_score\n",
    "cm = confusion_matrix(y_test, y_pred)\n",
    "print(cm)\n",
    "acc2 = accuracy_score(y_test, y_pred)"
   ]
  },
  {
   "cell_type": "code",
   "execution_count": 38,
   "id": "ad392941",
   "metadata": {
    "execution": {
     "iopub.execute_input": "2022-01-25T13:03:26.144502Z",
     "iopub.status.busy": "2022-01-25T13:03:26.143826Z",
     "iopub.status.idle": "2022-01-25T13:03:26.146962Z",
     "shell.execute_reply": "2022-01-25T13:03:26.146536Z",
     "shell.execute_reply.started": "2022-01-25T12:50:03.022360Z"
    },
    "papermill": {
     "duration": 0.054791,
     "end_time": "2022-01-25T13:03:26.147105",
     "exception": false,
     "start_time": "2022-01-25T13:03:26.092314",
     "status": "completed"
    },
    "tags": []
   },
   "outputs": [
    {
     "name": "stdout",
     "output_type": "stream",
     "text": [
      "Accuracy score: 0.95\n"
     ]
    }
   ],
   "source": [
    "print(f\"Accuracy score: {acc2}\")"
   ]
  },
  {
   "cell_type": "markdown",
   "id": "b1d09763",
   "metadata": {
    "papermill": {
     "duration": 0.046762,
     "end_time": "2022-01-25T13:03:26.240868",
     "exception": false,
     "start_time": "2022-01-25T13:03:26.194106",
     "status": "completed"
    },
    "tags": []
   },
   "source": [
    "# Training the K-NN model on the Training set"
   ]
  },
  {
   "cell_type": "code",
   "execution_count": 39,
   "id": "ba46091b",
   "metadata": {
    "execution": {
     "iopub.execute_input": "2022-01-25T13:03:26.339726Z",
     "iopub.status.busy": "2022-01-25T13:03:26.338833Z",
     "iopub.status.idle": "2022-01-25T13:03:26.344558Z",
     "shell.execute_reply": "2022-01-25T13:03:26.344973Z",
     "shell.execute_reply.started": "2022-01-25T12:50:50.364674Z"
    },
    "papermill": {
     "duration": 0.05737,
     "end_time": "2022-01-25T13:03:26.345136",
     "exception": false,
     "start_time": "2022-01-25T13:03:26.287766",
     "status": "completed"
    },
    "tags": []
   },
   "outputs": [
    {
     "data": {
      "text/plain": [
       "KNeighborsClassifier()"
      ]
     },
     "execution_count": 39,
     "metadata": {},
     "output_type": "execute_result"
    }
   ],
   "source": [
    "from sklearn.neighbors import KNeighborsClassifier\n",
    "classifier = KNeighborsClassifier(n_neighbors = 5, metric = 'minkowski', p = 2)\n",
    "classifier.fit(X_train, y_train)"
   ]
  },
  {
   "cell_type": "code",
   "execution_count": 40,
   "id": "93ccf56a",
   "metadata": {
    "execution": {
     "iopub.execute_input": "2022-01-25T13:03:26.446763Z",
     "iopub.status.busy": "2022-01-25T13:03:26.445897Z",
     "iopub.status.idle": "2022-01-25T13:03:26.448908Z",
     "shell.execute_reply": "2022-01-25T13:03:26.448413Z",
     "shell.execute_reply.started": "2022-01-25T12:51:00.785720Z"
    },
    "papermill": {
     "duration": 0.055403,
     "end_time": "2022-01-25T13:03:26.449041",
     "exception": false,
     "start_time": "2022-01-25T13:03:26.393638",
     "status": "completed"
    },
    "tags": []
   },
   "outputs": [],
   "source": [
    "from sklearn.metrics import  accuracy_score\n",
    "acc3 = accuracy_score(y_test, y_pred)"
   ]
  },
  {
   "cell_type": "code",
   "execution_count": 41,
   "id": "1a549764",
   "metadata": {
    "execution": {
     "iopub.execute_input": "2022-01-25T13:03:26.550112Z",
     "iopub.status.busy": "2022-01-25T13:03:26.549511Z",
     "iopub.status.idle": "2022-01-25T13:03:26.553622Z",
     "shell.execute_reply": "2022-01-25T13:03:26.554109Z",
     "shell.execute_reply.started": "2022-01-25T12:51:08.535691Z"
    },
    "papermill": {
     "duration": 0.057483,
     "end_time": "2022-01-25T13:03:26.554301",
     "exception": false,
     "start_time": "2022-01-25T13:03:26.496818",
     "status": "completed"
    },
    "tags": []
   },
   "outputs": [
    {
     "name": "stdout",
     "output_type": "stream",
     "text": [
      "Accuracy score: 0.95\n"
     ]
    }
   ],
   "source": [
    "print(f\"Accuracy score: {acc3}\")"
   ]
  },
  {
   "cell_type": "markdown",
   "id": "f1957789",
   "metadata": {
    "papermill": {
     "duration": 0.047073,
     "end_time": "2022-01-25T13:03:26.649040",
     "exception": false,
     "start_time": "2022-01-25T13:03:26.601967",
     "status": "completed"
    },
    "tags": []
   },
   "source": [
    "# Training the Naive Bayes on the Training set"
   ]
  },
  {
   "cell_type": "code",
   "execution_count": 42,
   "id": "55e45af5",
   "metadata": {
    "execution": {
     "iopub.execute_input": "2022-01-25T13:03:26.748196Z",
     "iopub.status.busy": "2022-01-25T13:03:26.746743Z",
     "iopub.status.idle": "2022-01-25T13:03:26.755803Z",
     "shell.execute_reply": "2022-01-25T13:03:26.756288Z",
     "shell.execute_reply.started": "2022-01-25T12:51:57.434021Z"
    },
    "papermill": {
     "duration": 0.059205,
     "end_time": "2022-01-25T13:03:26.756459",
     "exception": false,
     "start_time": "2022-01-25T13:03:26.697254",
     "status": "completed"
    },
    "tags": []
   },
   "outputs": [
    {
     "data": {
      "text/plain": [
       "GaussianNB()"
      ]
     },
     "execution_count": 42,
     "metadata": {},
     "output_type": "execute_result"
    }
   ],
   "source": [
    "from sklearn.naive_bayes import GaussianNB\n",
    "classifier = GaussianNB()\n",
    "classifier.fit(X_train, y_train)"
   ]
  },
  {
   "cell_type": "code",
   "execution_count": 43,
   "id": "d4e3f8d9",
   "metadata": {
    "execution": {
     "iopub.execute_input": "2022-01-25T13:03:26.859452Z",
     "iopub.status.busy": "2022-01-25T13:03:26.858845Z",
     "iopub.status.idle": "2022-01-25T13:03:26.862106Z",
     "shell.execute_reply": "2022-01-25T13:03:26.861680Z",
     "shell.execute_reply.started": "2022-01-25T12:52:06.749269Z"
    },
    "papermill": {
     "duration": 0.055824,
     "end_time": "2022-01-25T13:03:26.862255",
     "exception": false,
     "start_time": "2022-01-25T13:03:26.806431",
     "status": "completed"
    },
    "tags": []
   },
   "outputs": [],
   "source": [
    "y_pred = classifier.predict(X_test)"
   ]
  },
  {
   "cell_type": "code",
   "execution_count": 44,
   "id": "ce24d0c5",
   "metadata": {
    "execution": {
     "iopub.execute_input": "2022-01-25T13:03:26.966480Z",
     "iopub.status.busy": "2022-01-25T13:03:26.965904Z",
     "iopub.status.idle": "2022-01-25T13:03:26.967959Z",
     "shell.execute_reply": "2022-01-25T13:03:26.968436Z",
     "shell.execute_reply.started": "2022-01-25T12:52:14.785675Z"
    },
    "papermill": {
     "duration": 0.054586,
     "end_time": "2022-01-25T13:03:26.968604",
     "exception": false,
     "start_time": "2022-01-25T13:03:26.914018",
     "status": "completed"
    },
    "tags": []
   },
   "outputs": [],
   "source": [
    "from sklearn.metrics import  accuracy_score\n",
    "acc4 = accuracy_score(y_test, y_pred)"
   ]
  },
  {
   "cell_type": "code",
   "execution_count": 45,
   "id": "6a9cb914",
   "metadata": {
    "execution": {
     "iopub.execute_input": "2022-01-25T13:03:27.069994Z",
     "iopub.status.busy": "2022-01-25T13:03:27.069361Z",
     "iopub.status.idle": "2022-01-25T13:03:27.072061Z",
     "shell.execute_reply": "2022-01-25T13:03:27.072533Z"
    },
    "papermill": {
     "duration": 0.056246,
     "end_time": "2022-01-25T13:03:27.072686",
     "exception": false,
     "start_time": "2022-01-25T13:03:27.016440",
     "status": "completed"
    },
    "tags": []
   },
   "outputs": [
    {
     "name": "stdout",
     "output_type": "stream",
     "text": [
      "Accuracy score : 0.828\n"
     ]
    }
   ],
   "source": [
    "print(f\"Accuracy score : {acc4}\")"
   ]
  },
  {
   "cell_type": "markdown",
   "id": "f8df06c8",
   "metadata": {
    "papermill": {
     "duration": 0.048935,
     "end_time": "2022-01-25T13:03:27.171134",
     "exception": false,
     "start_time": "2022-01-25T13:03:27.122199",
     "status": "completed"
    },
    "tags": []
   },
   "source": [
    "# Training Decision Tree Classification on Train set"
   ]
  },
  {
   "cell_type": "code",
   "execution_count": 46,
   "id": "2df3b0d2",
   "metadata": {
    "execution": {
     "iopub.execute_input": "2022-01-25T13:03:27.276354Z",
     "iopub.status.busy": "2022-01-25T13:03:27.275591Z",
     "iopub.status.idle": "2022-01-25T13:03:27.287744Z",
     "shell.execute_reply": "2022-01-25T13:03:27.287270Z",
     "shell.execute_reply.started": "2022-01-25T12:53:46.532724Z"
    },
    "papermill": {
     "duration": 0.066862,
     "end_time": "2022-01-25T13:03:27.287870",
     "exception": false,
     "start_time": "2022-01-25T13:03:27.221008",
     "status": "completed"
    },
    "tags": []
   },
   "outputs": [
    {
     "data": {
      "text/plain": [
       "DecisionTreeClassifier(criterion='entropy', random_state=0)"
      ]
     },
     "execution_count": 46,
     "metadata": {},
     "output_type": "execute_result"
    }
   ],
   "source": [
    "from sklearn.tree import DecisionTreeClassifier\n",
    "classifier = DecisionTreeClassifier(criterion = 'entropy', random_state = 0)\n",
    "classifier.fit(X_train, y_train)"
   ]
  },
  {
   "cell_type": "code",
   "execution_count": 47,
   "id": "c360da5e",
   "metadata": {
    "execution": {
     "iopub.execute_input": "2022-01-25T13:03:27.391538Z",
     "iopub.status.busy": "2022-01-25T13:03:27.390654Z",
     "iopub.status.idle": "2022-01-25T13:03:27.394434Z",
     "shell.execute_reply": "2022-01-25T13:03:27.394874Z",
     "shell.execute_reply.started": "2022-01-25T12:53:56.235257Z"
    },
    "papermill": {
     "duration": 0.05756,
     "end_time": "2022-01-25T13:03:27.395047",
     "exception": false,
     "start_time": "2022-01-25T13:03:27.337487",
     "status": "completed"
    },
    "tags": []
   },
   "outputs": [],
   "source": [
    "y_pred = classifier.predict(X_test)"
   ]
  },
  {
   "cell_type": "code",
   "execution_count": 48,
   "id": "03de015d",
   "metadata": {
    "execution": {
     "iopub.execute_input": "2022-01-25T13:03:27.496283Z",
     "iopub.status.busy": "2022-01-25T13:03:27.495367Z",
     "iopub.status.idle": "2022-01-25T13:03:27.499184Z",
     "shell.execute_reply": "2022-01-25T13:03:27.499583Z",
     "shell.execute_reply.started": "2022-01-25T12:54:03.224213Z"
    },
    "papermill": {
     "duration": 0.056089,
     "end_time": "2022-01-25T13:03:27.499751",
     "exception": false,
     "start_time": "2022-01-25T13:03:27.443662",
     "status": "completed"
    },
    "tags": []
   },
   "outputs": [],
   "source": [
    "from sklearn.metrics import  accuracy_score\n",
    "acc5 = accuracy_score(y_test, y_pred)"
   ]
  },
  {
   "cell_type": "code",
   "execution_count": 49,
   "id": "131cdfc3",
   "metadata": {
    "execution": {
     "iopub.execute_input": "2022-01-25T13:03:27.600667Z",
     "iopub.status.busy": "2022-01-25T13:03:27.599684Z",
     "iopub.status.idle": "2022-01-25T13:03:27.605047Z",
     "shell.execute_reply": "2022-01-25T13:03:27.604262Z",
     "shell.execute_reply.started": "2022-01-25T12:54:12.568492Z"
    },
    "papermill": {
     "duration": 0.056763,
     "end_time": "2022-01-25T13:03:27.605253",
     "exception": false,
     "start_time": "2022-01-25T13:03:27.548490",
     "status": "completed"
    },
    "tags": []
   },
   "outputs": [
    {
     "name": "stdout",
     "output_type": "stream",
     "text": [
      "Accuracy score: 0.866\n"
     ]
    }
   ],
   "source": [
    "print(f\"Accuracy score: {acc5}\")"
   ]
  },
  {
   "cell_type": "markdown",
   "id": "9b1274a6",
   "metadata": {
    "papermill": {
     "duration": 0.049039,
     "end_time": "2022-01-25T13:03:27.703820",
     "exception": false,
     "start_time": "2022-01-25T13:03:27.654781",
     "status": "completed"
    },
    "tags": []
   },
   "source": [
    "# Create visualization for all model with their Accuracy"
   ]
  },
  {
   "cell_type": "code",
   "execution_count": 50,
   "id": "93b4bcb2",
   "metadata": {
    "execution": {
     "iopub.execute_input": "2022-01-25T13:03:27.804554Z",
     "iopub.status.busy": "2022-01-25T13:03:27.803673Z",
     "iopub.status.idle": "2022-01-25T13:03:27.808687Z",
     "shell.execute_reply": "2022-01-25T13:03:27.809069Z",
     "shell.execute_reply.started": "2022-01-25T12:54:59.528439Z"
    },
    "papermill": {
     "duration": 0.056708,
     "end_time": "2022-01-25T13:03:27.809251",
     "exception": false,
     "start_time": "2022-01-25T13:03:27.752543",
     "status": "completed"
    },
    "tags": []
   },
   "outputs": [],
   "source": [
    "mylist=[]\n",
    "mylist2=[]\n",
    "mylist.append(acc1)\n",
    "mylist2.append(\"Logistic Regression\")\n",
    "mylist.append(acc2)\n",
    "mylist2.append(\"SVM\")\n",
    "mylist.append(acc3)\n",
    "mylist2.append(\"KNN\")\n",
    "mylist.append(acc4)\n",
    "mylist2.append(\"Naive Bayes\")\n",
    "mylist.append(acc5)\n",
    "mylist2.append(\"DTR\")"
   ]
  },
  {
   "cell_type": "code",
   "execution_count": 51,
   "id": "3ff76841",
   "metadata": {
    "execution": {
     "iopub.execute_input": "2022-01-25T13:03:27.941039Z",
     "iopub.status.busy": "2022-01-25T13:03:27.930772Z",
     "iopub.status.idle": "2022-01-25T13:03:28.093476Z",
     "shell.execute_reply": "2022-01-25T13:03:28.092927Z",
     "shell.execute_reply.started": "2022-01-25T12:55:08.119391Z"
    },
    "papermill": {
     "duration": 0.235594,
     "end_time": "2022-01-25T13:03:28.093626",
     "exception": false,
     "start_time": "2022-01-25T13:03:27.858032",
     "status": "completed"
    },
    "tags": []
   },
   "outputs": [
    {
     "data": {
      "image/png": "[encoded data removed]",
      "text/plain": [
       "<Figure size 576x432 with 1 Axes>"
      ]
     },
     "metadata": {},
     "output_type": "display_data"
    }
   ],
   "source": [
    "plt.rcParams['figure.figsize']=8,6\n",
    "sns.set_style(\"darkgrid\")\n",
    "ax = sns.barplot(x=mylist2, y=mylist, palette = \"rocket\", saturation =1.5)\n",
    "plt.xlabel(\"Classification Models\", fontsize = 20 )\n",
    "plt.ylabel(\"Accuracy\", fontsize = 20)\n",
    "plt.title(\"Accuracy of different Classification Models\", fontsize = 20)\n",
    "plt.xticks(fontsize = 11, horizontalalignment = 'center', rotation = 8)\n",
    "plt.yticks(fontsize = 13)\n",
    "for p in ax.patches:\n",
    "    width, height = p.get_width(), p.get_height()\n",
    "    x, y = p.get_xy() \n",
    "    ax.annotate(f'{height:.2%}', (x + width/2, y + height*1.02), ha='center', fontsize = 'x-large')\n",
    "plt.show()"
   ]
  },
  {
   "cell_type": "markdown",
   "id": "6b4ddf84",
   "metadata": {
    "papermill": {
     "duration": 0.049509,
     "end_time": "2022-01-25T13:03:28.194936",
     "exception": false,
     "start_time": "2022-01-25T13:03:28.145427",
     "status": "completed"
    },
    "tags": []
   },
   "source": [
    "**If you have any queries about this notebook, please let me know I'll happy to explain.**"
   ]
  },
  {
   "cell_type": "markdown",
   "id": "6db7a261",
   "metadata": {
    "papermill": {
     "duration": 0.049382,
     "end_time": "2022-01-25T13:03:28.294531",
     "exception": false,
     "start_time": "2022-01-25T13:03:28.245149",
     "status": "completed"
    },
    "tags": []
   },
   "source": [
    "![](https://www.crownconnect.com/assets/ThankYou.jpg)"
   ]
  }
 ],
 "metadata": {
  "kernelspec": {
   "display_name": "Python 3",
   "language": "python",
   "name": "python3"
  },
  "language_info": {
   "codemirror_mode": {
    "name": "ipython",
    "version": 3
   },
   "file_extension": ".py",
   "mimetype": "text/x-python",
   "name": "python",
   "nbconvert_exporter": "python",
   "pygments_lexer": "ipython3",
   "version": "3.7.12"
  },
  "papermill": {
   "default_parameters": {},
   "duration": 20.277719,
   "end_time": "2022-01-25T13:03:29.054213",
   "environment_variables": {},
   "exception": null,
   "input_path": "__notebook__.ipynb",
   "output_path": "__notebook__.ipynb",
   "parameters": {},
   "start_time": "2022-01-25T13:03:08.776494",
   "version": "2.3.3"
  }
 },
 "nbformat": 4,
 "nbformat_minor": 5
}
