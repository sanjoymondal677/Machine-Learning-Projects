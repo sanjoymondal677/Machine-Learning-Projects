{
 "cells": [
  {
   "cell_type": "code",
   "execution_count": 1,
   "id": "b007bb32",
   "metadata": {
    "_cell_guid": "b1076dfc-b9ad-4769-8c92-a6c4dae69d19",
    "_uuid": "8f2839f25d086af736a60e9eeb907d3b93b6e0e5",
    "execution": {
     "iopub.execute_input": "2022-02-05T12:50:23.279548Z",
     "iopub.status.busy": "2022-02-05T12:50:23.278577Z",
     "iopub.status.idle": "2022-02-05T12:50:23.295460Z",
     "shell.execute_reply": "2022-02-05T12:50:23.295893Z",
     "shell.execute_reply.started": "2022-02-05T12:49:42.347945Z"
    },
    "papermill": {
     "duration": 0.069895,
     "end_time": "2022-02-05T12:50:23.296098",
     "exception": false,
     "start_time": "2022-02-05T12:50:23.226203",
     "status": "completed"
    },
    "tags": []
   },
   "outputs": [
    {
     "name": "stdout",
     "output_type": "stream",
     "text": [
      "/kaggle/input/breast-cancer-dataset/breast-cancer.csv\n"
     ]
    }
   ],
   "source": [
    "# This Python 3 environment comes with many helpful analytics libraries installed\n",
    "# It is defined by the kaggle/python Docker image: https://github.com/kaggle/docker-python\n",
    "# For example, here's several helpful packages to load\n",
    "\n",
    "import numpy as np # linear algebra\n",
    "import pandas as pd # data processing, CSV file I/O (e.g. pd.read_csv)\n",
    "\n",
    "# Input data files are available in the read-only \"../input/\" directory\n",
    "# For example, running this (by clicking run or pressing Shift+Enter) will list all files under the input directory\n",
    "\n",
    "import os\n",
    "for dirname, _, filenames in os.walk('/kaggle/input'):\n",
    "    for filename in filenames:\n",
    "        print(os.path.join(dirname, filename))\n",
    "\n",
    "# You can write up to 20GB to the current directory (/kaggle/working/) that gets preserved as output when you create a version using \"Save & Run All\" \n",
    "# You can also write temporary files to /kaggle/temp/, but they won't be saved outside of the current session"
   ]
  },
  {
   "cell_type": "markdown",
   "id": "02a32dad",
   "metadata": {
    "papermill": {
     "duration": 0.049028,
     "end_time": "2022-02-05T12:50:23.397546",
     "exception": false,
     "start_time": "2022-02-05T12:50:23.348518",
     "status": "completed"
    },
    "tags": []
   },
   "source": [
    "![](https://encrypted-tbn0.gstatic.com/images?q=tbn:ANd9GcSYlqAwvmIEBWDbXIHOalcb5lvynmXCSpcJoSdqHdpdpXinc-9M2LMR76OOPY7ghiWx8BA&usqp=CAU)"
   ]
  },
  {
   "cell_type": "markdown",
   "id": "4caae74a",
   "metadata": {
    "papermill": {
     "duration": 0.049137,
     "end_time": "2022-02-05T12:50:23.495829",
     "exception": false,
     "start_time": "2022-02-05T12:50:23.446692",
     "status": "completed"
    },
    "tags": []
   },
   "source": [
    "<h2>Description:</h2>"
   ]
  },
  {
   "cell_type": "markdown",
   "id": "b68d2b3d",
   "metadata": {
    "papermill": {
     "duration": 0.04955,
     "end_time": "2022-02-05T12:50:23.594815",
     "exception": false,
     "start_time": "2022-02-05T12:50:23.545265",
     "status": "completed"
    },
    "tags": []
   },
   "source": [
    "Breast cancer is the most common cancer amongst women in the world. It accounts for 25% of all cancer cases, and affected over 2.1 Million people in 2015 alone. It starts when cells in the breast begin to grow out of control. These cells usually form tumors that can be seen via X-ray or felt as lumps in the breast area.\n",
    "\n",
    "The key challenge against its detection is how to classify tumors into <b>malignant (cancerous) or benign(non-cancerous).</b>"
   ]
  },
  {
   "cell_type": "markdown",
   "id": "6cc43a38",
   "metadata": {
    "papermill": {
     "duration": 0.053629,
     "end_time": "2022-02-05T12:50:23.699053",
     "exception": false,
     "start_time": "2022-02-05T12:50:23.645424",
     "status": "completed"
    },
    "tags": []
   },
   "source": [
    "<h3>DataSet Link: </h3>"
   ]
  },
  {
   "cell_type": "markdown",
   "id": "8a7243fd",
   "metadata": {
    "papermill": {
     "duration": 0.049929,
     "end_time": "2022-02-05T12:50:23.809528",
     "exception": false,
     "start_time": "2022-02-05T12:50:23.759599",
     "status": "completed"
    },
    "tags": []
   },
   "source": [
    "https://www.kaggle.com/yasserh/breast-cancer-dataset"
   ]
  },
  {
   "cell_type": "code",
   "execution_count": 2,
   "id": "461dcbb1",
   "metadata": {
    "execution": {
     "iopub.execute_input": "2022-02-05T12:50:23.912622Z",
     "iopub.status.busy": "2022-02-05T12:50:23.912096Z",
     "iopub.status.idle": "2022-02-05T12:50:24.803149Z",
     "shell.execute_reply": "2022-02-05T12:50:24.803839Z",
     "shell.execute_reply.started": "2022-02-05T12:49:42.366424Z"
    },
    "papermill": {
     "duration": 0.945057,
     "end_time": "2022-02-05T12:50:24.803998",
     "exception": false,
     "start_time": "2022-02-05T12:50:23.858941",
     "status": "completed"
    },
    "tags": []
   },
   "outputs": [],
   "source": [
    "#Import the libraries\n",
    "\n",
    "import numpy as np\n",
    "import pandas as pd\n",
    "import matplotlib.pyplot as plt\n",
    "import seaborn as sns"
   ]
  },
  {
   "cell_type": "code",
   "execution_count": 3,
   "id": "e263cc90",
   "metadata": {
    "execution": {
     "iopub.execute_input": "2022-02-05T12:50:24.914199Z",
     "iopub.status.busy": "2022-02-05T12:50:24.913381Z",
     "iopub.status.idle": "2022-02-05T12:50:24.930377Z",
     "shell.execute_reply": "2022-02-05T12:50:24.930839Z",
     "shell.execute_reply.started": "2022-02-05T12:49:42.380259Z"
    },
    "papermill": {
     "duration": 0.072449,
     "end_time": "2022-02-05T12:50:24.930981",
     "exception": false,
     "start_time": "2022-02-05T12:50:24.858532",
     "status": "completed"
    },
    "tags": []
   },
   "outputs": [],
   "source": [
    "#Load the dataset.\n",
    "data = pd.read_csv(\"../input/breast-cancer-dataset/breast-cancer.csv\")"
   ]
  },
  {
   "cell_type": "code",
   "execution_count": 4,
   "id": "9596afb8",
   "metadata": {
    "execution": {
     "iopub.execute_input": "2022-02-05T12:50:25.037053Z",
     "iopub.status.busy": "2022-02-05T12:50:25.036174Z",
     "iopub.status.idle": "2022-02-05T12:50:25.071740Z",
     "shell.execute_reply": "2022-02-05T12:50:25.071300Z",
     "shell.execute_reply.started": "2022-02-05T12:49:42.405219Z"
    },
    "papermill": {
     "duration": 0.091436,
     "end_time": "2022-02-05T12:50:25.071891",
     "exception": false,
     "start_time": "2022-02-05T12:50:24.980455",
     "status": "completed"
    },
    "tags": []
   },
   "outputs": [
    {
     "data": {
      "text/html": [
       "<div>\n",
       "<style scoped>\n",
       "    .dataframe tbody tr th:only-of-type {\n",
       "        vertical-align: middle;\n",
       "    }\n",
       "\n",
       "    .dataframe tbody tr th {\n",
       "        vertical-align: top;\n",
       "    }\n",
       "\n",
       "    .dataframe thead th {\n",
       "        text-align: right;\n",
       "    }\n",
       "</style>\n",
       "<table border=\"1\" class=\"dataframe\">\n",
       "  <thead>\n",
       "    <tr style=\"text-align: right;\">\n",
       "      <th></th>\n",
       "      <th>id</th>\n",
       "      <th>diagnosis</th>\n",
       "      <th>radius_mean</th>\n",
       "      <th>texture_mean</th>\n",
       "      <th>perimeter_mean</th>\n",
       "      <th>area_mean</th>\n",
       "      <th>smoothness_mean</th>\n",
       "      <th>compactness_mean</th>\n",
       "      <th>concavity_mean</th>\n",
       "      <th>concave points_mean</th>\n",
       "      <th>...</th>\n",
       "      <th>radius_worst</th>\n",
       "      <th>texture_worst</th>\n",
       "      <th>perimeter_worst</th>\n",
       "      <th>area_worst</th>\n",
       "      <th>smoothness_worst</th>\n",
       "      <th>compactness_worst</th>\n",
       "      <th>concavity_worst</th>\n",
       "      <th>concave points_worst</th>\n",
       "      <th>symmetry_worst</th>\n",
       "      <th>fractal_dimension_worst</th>\n",
       "    </tr>\n",
       "  </thead>\n",
       "  <tbody>\n",
       "    <tr>\n",
       "      <th>0</th>\n",
       "      <td>842302</td>\n",
       "      <td>M</td>\n",
       "      <td>17.99</td>\n",
       "      <td>10.38</td>\n",
       "      <td>122.80</td>\n",
       "      <td>1001.0</td>\n",
       "      <td>0.11840</td>\n",
       "      <td>0.27760</td>\n",
       "      <td>0.3001</td>\n",
       "      <td>0.14710</td>\n",
       "      <td>...</td>\n",
       "      <td>25.38</td>\n",
       "      <td>17.33</td>\n",
       "      <td>184.60</td>\n",
       "      <td>2019.0</td>\n",
       "      <td>0.1622</td>\n",
       "      <td>0.6656</td>\n",
       "      <td>0.7119</td>\n",
       "      <td>0.2654</td>\n",
       "      <td>0.4601</td>\n",
       "      <td>0.11890</td>\n",
       "    </tr>\n",
       "    <tr>\n",
       "      <th>1</th>\n",
       "      <td>842517</td>\n",
       "      <td>M</td>\n",
       "      <td>20.57</td>\n",
       "      <td>17.77</td>\n",
       "      <td>132.90</td>\n",
       "      <td>1326.0</td>\n",
       "      <td>0.08474</td>\n",
       "      <td>0.07864</td>\n",
       "      <td>0.0869</td>\n",
       "      <td>0.07017</td>\n",
       "      <td>...</td>\n",
       "      <td>24.99</td>\n",
       "      <td>23.41</td>\n",
       "      <td>158.80</td>\n",
       "      <td>1956.0</td>\n",
       "      <td>0.1238</td>\n",
       "      <td>0.1866</td>\n",
       "      <td>0.2416</td>\n",
       "      <td>0.1860</td>\n",
       "      <td>0.2750</td>\n",
       "      <td>0.08902</td>\n",
       "    </tr>\n",
       "    <tr>\n",
       "      <th>2</th>\n",
       "      <td>84300903</td>\n",
       "      <td>M</td>\n",
       "      <td>19.69</td>\n",
       "      <td>21.25</td>\n",
       "      <td>130.00</td>\n",
       "      <td>1203.0</td>\n",
       "      <td>0.10960</td>\n",
       "      <td>0.15990</td>\n",
       "      <td>0.1974</td>\n",
       "      <td>0.12790</td>\n",
       "      <td>...</td>\n",
       "      <td>23.57</td>\n",
       "      <td>25.53</td>\n",
       "      <td>152.50</td>\n",
       "      <td>1709.0</td>\n",
       "      <td>0.1444</td>\n",
       "      <td>0.4245</td>\n",
       "      <td>0.4504</td>\n",
       "      <td>0.2430</td>\n",
       "      <td>0.3613</td>\n",
       "      <td>0.08758</td>\n",
       "    </tr>\n",
       "    <tr>\n",
       "      <th>3</th>\n",
       "      <td>84348301</td>\n",
       "      <td>M</td>\n",
       "      <td>11.42</td>\n",
       "      <td>20.38</td>\n",
       "      <td>77.58</td>\n",
       "      <td>386.1</td>\n",
       "      <td>0.14250</td>\n",
       "      <td>0.28390</td>\n",
       "      <td>0.2414</td>\n",
       "      <td>0.10520</td>\n",
       "      <td>...</td>\n",
       "      <td>14.91</td>\n",
       "      <td>26.50</td>\n",
       "      <td>98.87</td>\n",
       "      <td>567.7</td>\n",
       "      <td>0.2098</td>\n",
       "      <td>0.8663</td>\n",
       "      <td>0.6869</td>\n",
       "      <td>0.2575</td>\n",
       "      <td>0.6638</td>\n",
       "      <td>0.17300</td>\n",
       "    </tr>\n",
       "    <tr>\n",
       "      <th>4</th>\n",
       "      <td>84358402</td>\n",
       "      <td>M</td>\n",
       "      <td>20.29</td>\n",
       "      <td>14.34</td>\n",
       "      <td>135.10</td>\n",
       "      <td>1297.0</td>\n",
       "      <td>0.10030</td>\n",
       "      <td>0.13280</td>\n",
       "      <td>0.1980</td>\n",
       "      <td>0.10430</td>\n",
       "      <td>...</td>\n",
       "      <td>22.54</td>\n",
       "      <td>16.67</td>\n",
       "      <td>152.20</td>\n",
       "      <td>1575.0</td>\n",
       "      <td>0.1374</td>\n",
       "      <td>0.2050</td>\n",
       "      <td>0.4000</td>\n",
       "      <td>0.1625</td>\n",
       "      <td>0.2364</td>\n",
       "      <td>0.07678</td>\n",
       "    </tr>\n",
       "  </tbody>\n",
       "</table>\n",
       "<p>5 rows × 32 columns</p>\n",
       "</div>"
      ],
      "text/plain": [
       "         id diagnosis  radius_mean  texture_mean  perimeter_mean  area_mean  \\\n",
       "0    842302         M        17.99         10.38          122.80     1001.0   \n",
       "1    842517         M        20.57         17.77          132.90     1326.0   \n",
       "2  84300903         M        19.69         21.25          130.00     1203.0   \n",
       "3  84348301         M        11.42         20.38           77.58      386.1   \n",
       "4  84358402         M        20.29         14.34          135.10     1297.0   \n",
       "\n",
       "   smoothness_mean  compactness_mean  concavity_mean  concave points_mean  \\\n",
       "0          0.11840           0.27760          0.3001              0.14710   \n",
       "1          0.08474           0.07864          0.0869              0.07017   \n",
       "2          0.10960           0.15990          0.1974              0.12790   \n",
       "3          0.14250           0.28390          0.2414              0.10520   \n",
       "4          0.10030           0.13280          0.1980              0.10430   \n",
       "\n",
       "   ...  radius_worst  texture_worst  perimeter_worst  area_worst  \\\n",
       "0  ...         25.38          17.33           184.60      2019.0   \n",
       "1  ...         24.99          23.41           158.80      1956.0   \n",
       "2  ...         23.57          25.53           152.50      1709.0   \n",
       "3  ...         14.91          26.50            98.87       567.7   \n",
       "4  ...         22.54          16.67           152.20      1575.0   \n",
       "\n",
       "   smoothness_worst  compactness_worst  concavity_worst  concave points_worst  \\\n",
       "0            0.1622             0.6656           0.7119                0.2654   \n",
       "1            0.1238             0.1866           0.2416                0.1860   \n",
       "2            0.1444             0.4245           0.4504                0.2430   \n",
       "3            0.2098             0.8663           0.6869                0.2575   \n",
       "4            0.1374             0.2050           0.4000                0.1625   \n",
       "\n",
       "   symmetry_worst  fractal_dimension_worst  \n",
       "0          0.4601                  0.11890  \n",
       "1          0.2750                  0.08902  \n",
       "2          0.3613                  0.08758  \n",
       "3          0.6638                  0.17300  \n",
       "4          0.2364                  0.07678  \n",
       "\n",
       "[5 rows x 32 columns]"
      ]
     },
     "execution_count": 4,
     "metadata": {},
     "output_type": "execute_result"
    }
   ],
   "source": [
    "data.head()"
   ]
  },
  {
   "cell_type": "code",
   "execution_count": 5,
   "id": "9f1bf79c",
   "metadata": {
    "execution": {
     "iopub.execute_input": "2022-02-05T12:50:25.175401Z",
     "iopub.status.busy": "2022-02-05T12:50:25.174604Z",
     "iopub.status.idle": "2022-02-05T12:50:25.188037Z",
     "shell.execute_reply": "2022-02-05T12:50:25.188596Z",
     "shell.execute_reply.started": "2022-02-05T12:49:42.445926Z"
    },
    "papermill": {
     "duration": 0.06654,
     "end_time": "2022-02-05T12:50:25.188736",
     "exception": false,
     "start_time": "2022-02-05T12:50:25.122196",
     "status": "completed"
    },
    "tags": []
   },
   "outputs": [
    {
     "data": {
      "text/plain": [
       "id                         569\n",
       "diagnosis                    2\n",
       "radius_mean                456\n",
       "texture_mean               479\n",
       "perimeter_mean             522\n",
       "area_mean                  539\n",
       "smoothness_mean            474\n",
       "compactness_mean           537\n",
       "concavity_mean             537\n",
       "concave points_mean        542\n",
       "symmetry_mean              432\n",
       "fractal_dimension_mean     499\n",
       "radius_se                  540\n",
       "texture_se                 519\n",
       "perimeter_se               533\n",
       "area_se                    528\n",
       "smoothness_se              547\n",
       "compactness_se             541\n",
       "concavity_se               533\n",
       "concave points_se          507\n",
       "symmetry_se                498\n",
       "fractal_dimension_se       545\n",
       "radius_worst               457\n",
       "texture_worst              511\n",
       "perimeter_worst            514\n",
       "area_worst                 544\n",
       "smoothness_worst           411\n",
       "compactness_worst          529\n",
       "concavity_worst            539\n",
       "concave points_worst       492\n",
       "symmetry_worst             500\n",
       "fractal_dimension_worst    535\n",
       "dtype: int64"
      ]
     },
     "execution_count": 5,
     "metadata": {},
     "output_type": "execute_result"
    }
   ],
   "source": [
    "data.nunique()"
   ]
  },
  {
   "cell_type": "code",
   "execution_count": 6,
   "id": "11758cf9",
   "metadata": {
    "execution": {
     "iopub.execute_input": "2022-02-05T12:50:25.298319Z",
     "iopub.status.busy": "2022-02-05T12:50:25.297831Z",
     "iopub.status.idle": "2022-02-05T12:50:25.316241Z",
     "shell.execute_reply": "2022-02-05T12:50:25.316708Z",
     "shell.execute_reply.started": "2022-02-05T12:49:42.462485Z"
    },
    "papermill": {
     "duration": 0.071822,
     "end_time": "2022-02-05T12:50:25.316849",
     "exception": false,
     "start_time": "2022-02-05T12:50:25.245027",
     "status": "completed"
    },
    "tags": []
   },
   "outputs": [
    {
     "name": "stdout",
     "output_type": "stream",
     "text": [
      "<class 'pandas.core.frame.DataFrame'>\n",
      "RangeIndex: 569 entries, 0 to 568\n",
      "Data columns (total 32 columns):\n",
      " #   Column                   Non-Null Count  Dtype  \n",
      "---  ------                   --------------  -----  \n",
      " 0   id                       569 non-null    int64  \n",
      " 1   diagnosis                569 non-null    object \n",
      " 2   radius_mean              569 non-null    float64\n",
      " 3   texture_mean             569 non-null    float64\n",
      " 4   perimeter_mean           569 non-null    float64\n",
      " 5   area_mean                569 non-null    float64\n",
      " 6   smoothness_mean          569 non-null    float64\n",
      " 7   compactness_mean         569 non-null    float64\n",
      " 8   concavity_mean           569 non-null    float64\n",
      " 9   concave points_mean      569 non-null    float64\n",
      " 10  symmetry_mean            569 non-null    float64\n",
      " 11  fractal_dimension_mean   569 non-null    float64\n",
      " 12  radius_se                569 non-null    float64\n",
      " 13  texture_se               569 non-null    float64\n",
      " 14  perimeter_se             569 non-null    float64\n",
      " 15  area_se                  569 non-null    float64\n",
      " 16  smoothness_se            569 non-null    float64\n",
      " 17  compactness_se           569 non-null    float64\n",
      " 18  concavity_se             569 non-null    float64\n",
      " 19  concave points_se        569 non-null    float64\n",
      " 20  symmetry_se              569 non-null    float64\n",
      " 21  fractal_dimension_se     569 non-null    float64\n",
      " 22  radius_worst             569 non-null    float64\n",
      " 23  texture_worst            569 non-null    float64\n",
      " 24  perimeter_worst          569 non-null    float64\n",
      " 25  area_worst               569 non-null    float64\n",
      " 26  smoothness_worst         569 non-null    float64\n",
      " 27  compactness_worst        569 non-null    float64\n",
      " 28  concavity_worst          569 non-null    float64\n",
      " 29  concave points_worst     569 non-null    float64\n",
      " 30  symmetry_worst           569 non-null    float64\n",
      " 31  fractal_dimension_worst  569 non-null    float64\n",
      "dtypes: float64(30), int64(1), object(1)\n",
      "memory usage: 142.4+ KB\n"
     ]
    }
   ],
   "source": [
    "data.info()"
   ]
  },
  {
   "cell_type": "code",
   "execution_count": 7,
   "id": "6e809114",
   "metadata": {
    "execution": {
     "iopub.execute_input": "2022-02-05T12:50:25.423468Z",
     "iopub.status.busy": "2022-02-05T12:50:25.422695Z",
     "iopub.status.idle": "2022-02-05T12:50:25.430100Z",
     "shell.execute_reply": "2022-02-05T12:50:25.429654Z",
     "shell.execute_reply.started": "2022-02-05T12:49:42.479625Z"
    },
    "papermill": {
     "duration": 0.061866,
     "end_time": "2022-02-05T12:50:25.430214",
     "exception": false,
     "start_time": "2022-02-05T12:50:25.368348",
     "status": "completed"
    },
    "tags": []
   },
   "outputs": [
    {
     "data": {
      "text/plain": [
       "id                         0\n",
       "diagnosis                  0\n",
       "radius_mean                0\n",
       "texture_mean               0\n",
       "perimeter_mean             0\n",
       "area_mean                  0\n",
       "smoothness_mean            0\n",
       "compactness_mean           0\n",
       "concavity_mean             0\n",
       "concave points_mean        0\n",
       "symmetry_mean              0\n",
       "fractal_dimension_mean     0\n",
       "radius_se                  0\n",
       "texture_se                 0\n",
       "perimeter_se               0\n",
       "area_se                    0\n",
       "smoothness_se              0\n",
       "compactness_se             0\n",
       "concavity_se               0\n",
       "concave points_se          0\n",
       "symmetry_se                0\n",
       "fractal_dimension_se       0\n",
       "radius_worst               0\n",
       "texture_worst              0\n",
       "perimeter_worst            0\n",
       "area_worst                 0\n",
       "smoothness_worst           0\n",
       "compactness_worst          0\n",
       "concavity_worst            0\n",
       "concave points_worst       0\n",
       "symmetry_worst             0\n",
       "fractal_dimension_worst    0\n",
       "dtype: int64"
      ]
     },
     "execution_count": 7,
     "metadata": {},
     "output_type": "execute_result"
    }
   ],
   "source": [
    "#Check for null values.\n",
    "data.isnull().sum()"
   ]
  },
  {
   "cell_type": "code",
   "execution_count": 8,
   "id": "28c7e656",
   "metadata": {
    "execution": {
     "iopub.execute_input": "2022-02-05T12:50:25.536480Z",
     "iopub.status.busy": "2022-02-05T12:50:25.534901Z",
     "iopub.status.idle": "2022-02-05T12:50:25.544916Z",
     "shell.execute_reply": "2022-02-05T12:50:25.545311Z",
     "shell.execute_reply.started": "2022-02-05T12:49:42.500203Z"
    },
    "papermill": {
     "duration": 0.062589,
     "end_time": "2022-02-05T12:50:25.545429",
     "exception": false,
     "start_time": "2022-02-05T12:50:25.482840",
     "status": "completed"
    },
    "tags": []
   },
   "outputs": [
    {
     "data": {
      "text/plain": [
       "False"
      ]
     },
     "execution_count": 8,
     "metadata": {},
     "output_type": "execute_result"
    }
   ],
   "source": [
    "#Check for the duplicates rows.\n",
    "data.duplicated().any()"
   ]
  },
  {
   "cell_type": "code",
   "execution_count": 9,
   "id": "3665f3cd",
   "metadata": {
    "execution": {
     "iopub.execute_input": "2022-02-05T12:50:25.651483Z",
     "iopub.status.busy": "2022-02-05T12:50:25.650620Z",
     "iopub.status.idle": "2022-02-05T12:50:25.827678Z",
     "shell.execute_reply": "2022-02-05T12:50:25.828129Z",
     "shell.execute_reply.started": "2022-02-05T12:49:42.519880Z"
    },
    "papermill": {
     "duration": 0.232158,
     "end_time": "2022-02-05T12:50:25.828290",
     "exception": false,
     "start_time": "2022-02-05T12:50:25.596132",
     "status": "completed"
    },
    "tags": []
   },
   "outputs": [
    {
     "data": {
      "image/png": "[encoded data removed]",
      "text/plain": [
       "<Figure size 432x288 with 1 Axes>"
      ]
     },
     "metadata": {
      "needs_background": "light"
     },
     "output_type": "display_data"
    }
   ],
   "source": [
    "sns.countplot(x = 'diagnosis',data=data,palette =\"ch:start=.2,rot=-.3\")\n",
    "plt.show()"
   ]
  },
  {
   "cell_type": "markdown",
   "id": "183c121d",
   "metadata": {
    "papermill": {
     "duration": 0.051933,
     "end_time": "2022-02-05T12:50:25.934600",
     "exception": false,
     "start_time": "2022-02-05T12:50:25.882667",
     "status": "completed"
    },
    "tags": []
   },
   "source": [
    "**M - Malignant B - Benign**"
   ]
  },
  {
   "cell_type": "markdown",
   "id": "30f76bfa",
   "metadata": {
    "papermill": {
     "duration": 0.052221,
     "end_time": "2022-02-05T12:50:26.037946",
     "exception": false,
     "start_time": "2022-02-05T12:50:25.985725",
     "status": "completed"
    },
    "tags": []
   },
   "source": [
    "# Get dummies of categorical variable.(target variable)"
   ]
  },
  {
   "cell_type": "code",
   "execution_count": 10,
   "id": "e43298c3",
   "metadata": {
    "execution": {
     "iopub.execute_input": "2022-02-05T12:50:26.149946Z",
     "iopub.status.busy": "2022-02-05T12:50:26.149121Z",
     "iopub.status.idle": "2022-02-05T12:50:26.155153Z",
     "shell.execute_reply": "2022-02-05T12:50:26.155675Z",
     "shell.execute_reply.started": "2022-02-05T12:49:42.759346Z"
    },
    "papermill": {
     "duration": 0.062169,
     "end_time": "2022-02-05T12:50:26.155820",
     "exception": false,
     "start_time": "2022-02-05T12:50:26.093651",
     "status": "completed"
    },
    "tags": []
   },
   "outputs": [],
   "source": [
    "dia_dumm = pd.get_dummies(data['diagnosis'])"
   ]
  },
  {
   "cell_type": "code",
   "execution_count": 11,
   "id": "5c7c9b94",
   "metadata": {
    "execution": {
     "iopub.execute_input": "2022-02-05T12:50:26.262891Z",
     "iopub.status.busy": "2022-02-05T12:50:26.262326Z",
     "iopub.status.idle": "2022-02-05T12:50:26.266179Z",
     "shell.execute_reply": "2022-02-05T12:50:26.266674Z",
     "shell.execute_reply.started": "2022-02-05T12:49:42.768557Z"
    },
    "papermill": {
     "duration": 0.058454,
     "end_time": "2022-02-05T12:50:26.266807",
     "exception": false,
     "start_time": "2022-02-05T12:50:26.208353",
     "status": "completed"
    },
    "tags": []
   },
   "outputs": [],
   "source": [
    "#Add dummies with main dataframe.\n",
    "data = pd.concat([data,dia_dumm],axis=1)"
   ]
  },
  {
   "cell_type": "code",
   "execution_count": 12,
   "id": "d1ea56ca",
   "metadata": {
    "execution": {
     "iopub.execute_input": "2022-02-05T12:50:26.379416Z",
     "iopub.status.busy": "2022-02-05T12:50:26.378636Z",
     "iopub.status.idle": "2022-02-05T12:50:26.399021Z",
     "shell.execute_reply": "2022-02-05T12:50:26.398529Z",
     "shell.execute_reply.started": "2022-02-05T12:49:42.782304Z"
    },
    "papermill": {
     "duration": 0.076749,
     "end_time": "2022-02-05T12:50:26.399139",
     "exception": false,
     "start_time": "2022-02-05T12:50:26.322390",
     "status": "completed"
    },
    "tags": []
   },
   "outputs": [
    {
     "data": {
      "text/html": [
       "<div>\n",
       "<style scoped>\n",
       "    .dataframe tbody tr th:only-of-type {\n",
       "        vertical-align: middle;\n",
       "    }\n",
       "\n",
       "    .dataframe tbody tr th {\n",
       "        vertical-align: top;\n",
       "    }\n",
       "\n",
       "    .dataframe thead th {\n",
       "        text-align: right;\n",
       "    }\n",
       "</style>\n",
       "<table border=\"1\" class=\"dataframe\">\n",
       "  <thead>\n",
       "    <tr style=\"text-align: right;\">\n",
       "      <th></th>\n",
       "      <th>id</th>\n",
       "      <th>diagnosis</th>\n",
       "      <th>radius_mean</th>\n",
       "      <th>texture_mean</th>\n",
       "      <th>perimeter_mean</th>\n",
       "      <th>area_mean</th>\n",
       "      <th>smoothness_mean</th>\n",
       "      <th>compactness_mean</th>\n",
       "      <th>concavity_mean</th>\n",
       "      <th>concave points_mean</th>\n",
       "      <th>...</th>\n",
       "      <th>perimeter_worst</th>\n",
       "      <th>area_worst</th>\n",
       "      <th>smoothness_worst</th>\n",
       "      <th>compactness_worst</th>\n",
       "      <th>concavity_worst</th>\n",
       "      <th>concave points_worst</th>\n",
       "      <th>symmetry_worst</th>\n",
       "      <th>fractal_dimension_worst</th>\n",
       "      <th>B</th>\n",
       "      <th>M</th>\n",
       "    </tr>\n",
       "  </thead>\n",
       "  <tbody>\n",
       "    <tr>\n",
       "      <th>0</th>\n",
       "      <td>842302</td>\n",
       "      <td>M</td>\n",
       "      <td>17.99</td>\n",
       "      <td>10.38</td>\n",
       "      <td>122.80</td>\n",
       "      <td>1001.0</td>\n",
       "      <td>0.11840</td>\n",
       "      <td>0.27760</td>\n",
       "      <td>0.3001</td>\n",
       "      <td>0.14710</td>\n",
       "      <td>...</td>\n",
       "      <td>184.60</td>\n",
       "      <td>2019.0</td>\n",
       "      <td>0.1622</td>\n",
       "      <td>0.6656</td>\n",
       "      <td>0.7119</td>\n",
       "      <td>0.2654</td>\n",
       "      <td>0.4601</td>\n",
       "      <td>0.11890</td>\n",
       "      <td>0</td>\n",
       "      <td>1</td>\n",
       "    </tr>\n",
       "    <tr>\n",
       "      <th>1</th>\n",
       "      <td>842517</td>\n",
       "      <td>M</td>\n",
       "      <td>20.57</td>\n",
       "      <td>17.77</td>\n",
       "      <td>132.90</td>\n",
       "      <td>1326.0</td>\n",
       "      <td>0.08474</td>\n",
       "      <td>0.07864</td>\n",
       "      <td>0.0869</td>\n",
       "      <td>0.07017</td>\n",
       "      <td>...</td>\n",
       "      <td>158.80</td>\n",
       "      <td>1956.0</td>\n",
       "      <td>0.1238</td>\n",
       "      <td>0.1866</td>\n",
       "      <td>0.2416</td>\n",
       "      <td>0.1860</td>\n",
       "      <td>0.2750</td>\n",
       "      <td>0.08902</td>\n",
       "      <td>0</td>\n",
       "      <td>1</td>\n",
       "    </tr>\n",
       "    <tr>\n",
       "      <th>2</th>\n",
       "      <td>84300903</td>\n",
       "      <td>M</td>\n",
       "      <td>19.69</td>\n",
       "      <td>21.25</td>\n",
       "      <td>130.00</td>\n",
       "      <td>1203.0</td>\n",
       "      <td>0.10960</td>\n",
       "      <td>0.15990</td>\n",
       "      <td>0.1974</td>\n",
       "      <td>0.12790</td>\n",
       "      <td>...</td>\n",
       "      <td>152.50</td>\n",
       "      <td>1709.0</td>\n",
       "      <td>0.1444</td>\n",
       "      <td>0.4245</td>\n",
       "      <td>0.4504</td>\n",
       "      <td>0.2430</td>\n",
       "      <td>0.3613</td>\n",
       "      <td>0.08758</td>\n",
       "      <td>0</td>\n",
       "      <td>1</td>\n",
       "    </tr>\n",
       "    <tr>\n",
       "      <th>3</th>\n",
       "      <td>84348301</td>\n",
       "      <td>M</td>\n",
       "      <td>11.42</td>\n",
       "      <td>20.38</td>\n",
       "      <td>77.58</td>\n",
       "      <td>386.1</td>\n",
       "      <td>0.14250</td>\n",
       "      <td>0.28390</td>\n",
       "      <td>0.2414</td>\n",
       "      <td>0.10520</td>\n",
       "      <td>...</td>\n",
       "      <td>98.87</td>\n",
       "      <td>567.7</td>\n",
       "      <td>0.2098</td>\n",
       "      <td>0.8663</td>\n",
       "      <td>0.6869</td>\n",
       "      <td>0.2575</td>\n",
       "      <td>0.6638</td>\n",
       "      <td>0.17300</td>\n",
       "      <td>0</td>\n",
       "      <td>1</td>\n",
       "    </tr>\n",
       "    <tr>\n",
       "      <th>4</th>\n",
       "      <td>84358402</td>\n",
       "      <td>M</td>\n",
       "      <td>20.29</td>\n",
       "      <td>14.34</td>\n",
       "      <td>135.10</td>\n",
       "      <td>1297.0</td>\n",
       "      <td>0.10030</td>\n",
       "      <td>0.13280</td>\n",
       "      <td>0.1980</td>\n",
       "      <td>0.10430</td>\n",
       "      <td>...</td>\n",
       "      <td>152.20</td>\n",
       "      <td>1575.0</td>\n",
       "      <td>0.1374</td>\n",
       "      <td>0.2050</td>\n",
       "      <td>0.4000</td>\n",
       "      <td>0.1625</td>\n",
       "      <td>0.2364</td>\n",
       "      <td>0.07678</td>\n",
       "      <td>0</td>\n",
       "      <td>1</td>\n",
       "    </tr>\n",
       "  </tbody>\n",
       "</table>\n",
       "<p>5 rows × 34 columns</p>\n",
       "</div>"
      ],
      "text/plain": [
       "         id diagnosis  radius_mean  texture_mean  perimeter_mean  area_mean  \\\n",
       "0    842302         M        17.99         10.38          122.80     1001.0   \n",
       "1    842517         M        20.57         17.77          132.90     1326.0   \n",
       "2  84300903         M        19.69         21.25          130.00     1203.0   \n",
       "3  84348301         M        11.42         20.38           77.58      386.1   \n",
       "4  84358402         M        20.29         14.34          135.10     1297.0   \n",
       "\n",
       "   smoothness_mean  compactness_mean  concavity_mean  concave points_mean  \\\n",
       "0          0.11840           0.27760          0.3001              0.14710   \n",
       "1          0.08474           0.07864          0.0869              0.07017   \n",
       "2          0.10960           0.15990          0.1974              0.12790   \n",
       "3          0.14250           0.28390          0.2414              0.10520   \n",
       "4          0.10030           0.13280          0.1980              0.10430   \n",
       "\n",
       "   ...  perimeter_worst  area_worst  smoothness_worst  compactness_worst  \\\n",
       "0  ...           184.60      2019.0            0.1622             0.6656   \n",
       "1  ...           158.80      1956.0            0.1238             0.1866   \n",
       "2  ...           152.50      1709.0            0.1444             0.4245   \n",
       "3  ...            98.87       567.7            0.2098             0.8663   \n",
       "4  ...           152.20      1575.0            0.1374             0.2050   \n",
       "\n",
       "   concavity_worst  concave points_worst  symmetry_worst  \\\n",
       "0           0.7119                0.2654          0.4601   \n",
       "1           0.2416                0.1860          0.2750   \n",
       "2           0.4504                0.2430          0.3613   \n",
       "3           0.6869                0.2575          0.6638   \n",
       "4           0.4000                0.1625          0.2364   \n",
       "\n",
       "   fractal_dimension_worst  B  M  \n",
       "0                  0.11890  0  1  \n",
       "1                  0.08902  0  1  \n",
       "2                  0.08758  0  1  \n",
       "3                  0.17300  0  1  \n",
       "4                  0.07678  0  1  \n",
       "\n",
       "[5 rows x 34 columns]"
      ]
     },
     "execution_count": 12,
     "metadata": {},
     "output_type": "execute_result"
    }
   ],
   "source": [
    "data.head()"
   ]
  },
  {
   "cell_type": "code",
   "execution_count": 13,
   "id": "5687ed3d",
   "metadata": {
    "execution": {
     "iopub.execute_input": "2022-02-05T12:50:26.518458Z",
     "iopub.status.busy": "2022-02-05T12:50:26.517781Z",
     "iopub.status.idle": "2022-02-05T12:50:26.520162Z",
     "shell.execute_reply": "2022-02-05T12:50:26.520694Z",
     "shell.execute_reply.started": "2022-02-05T12:49:42.822870Z"
    },
    "papermill": {
     "duration": 0.064698,
     "end_time": "2022-02-05T12:50:26.520848",
     "exception": false,
     "start_time": "2022-02-05T12:50:26.456150",
     "status": "completed"
    },
    "tags": []
   },
   "outputs": [],
   "source": [
    "#Drop the unusefull columns.\n",
    "data  = data.drop(['id','diagnosis','B'],axis=1)"
   ]
  },
  {
   "cell_type": "code",
   "execution_count": 14,
   "id": "c2cf08b7",
   "metadata": {
    "execution": {
     "iopub.execute_input": "2022-02-05T12:50:26.634165Z",
     "iopub.status.busy": "2022-02-05T12:50:26.633677Z",
     "iopub.status.idle": "2022-02-05T12:50:26.654791Z",
     "shell.execute_reply": "2022-02-05T12:50:26.655185Z",
     "shell.execute_reply.started": "2022-02-05T12:49:42.832367Z"
    },
    "papermill": {
     "duration": 0.07921,
     "end_time": "2022-02-05T12:50:26.655308",
     "exception": false,
     "start_time": "2022-02-05T12:50:26.576098",
     "status": "completed"
    },
    "tags": []
   },
   "outputs": [
    {
     "data": {
      "text/html": [
       "<div>\n",
       "<style scoped>\n",
       "    .dataframe tbody tr th:only-of-type {\n",
       "        vertical-align: middle;\n",
       "    }\n",
       "\n",
       "    .dataframe tbody tr th {\n",
       "        vertical-align: top;\n",
       "    }\n",
       "\n",
       "    .dataframe thead th {\n",
       "        text-align: right;\n",
       "    }\n",
       "</style>\n",
       "<table border=\"1\" class=\"dataframe\">\n",
       "  <thead>\n",
       "    <tr style=\"text-align: right;\">\n",
       "      <th></th>\n",
       "      <th>radius_mean</th>\n",
       "      <th>texture_mean</th>\n",
       "      <th>perimeter_mean</th>\n",
       "      <th>area_mean</th>\n",
       "      <th>smoothness_mean</th>\n",
       "      <th>compactness_mean</th>\n",
       "      <th>concavity_mean</th>\n",
       "      <th>concave points_mean</th>\n",
       "      <th>symmetry_mean</th>\n",
       "      <th>fractal_dimension_mean</th>\n",
       "      <th>...</th>\n",
       "      <th>texture_worst</th>\n",
       "      <th>perimeter_worst</th>\n",
       "      <th>area_worst</th>\n",
       "      <th>smoothness_worst</th>\n",
       "      <th>compactness_worst</th>\n",
       "      <th>concavity_worst</th>\n",
       "      <th>concave points_worst</th>\n",
       "      <th>symmetry_worst</th>\n",
       "      <th>fractal_dimension_worst</th>\n",
       "      <th>M</th>\n",
       "    </tr>\n",
       "  </thead>\n",
       "  <tbody>\n",
       "    <tr>\n",
       "      <th>0</th>\n",
       "      <td>17.99</td>\n",
       "      <td>10.38</td>\n",
       "      <td>122.80</td>\n",
       "      <td>1001.0</td>\n",
       "      <td>0.11840</td>\n",
       "      <td>0.27760</td>\n",
       "      <td>0.3001</td>\n",
       "      <td>0.14710</td>\n",
       "      <td>0.2419</td>\n",
       "      <td>0.07871</td>\n",
       "      <td>...</td>\n",
       "      <td>17.33</td>\n",
       "      <td>184.60</td>\n",
       "      <td>2019.0</td>\n",
       "      <td>0.1622</td>\n",
       "      <td>0.6656</td>\n",
       "      <td>0.7119</td>\n",
       "      <td>0.2654</td>\n",
       "      <td>0.4601</td>\n",
       "      <td>0.11890</td>\n",
       "      <td>1</td>\n",
       "    </tr>\n",
       "    <tr>\n",
       "      <th>1</th>\n",
       "      <td>20.57</td>\n",
       "      <td>17.77</td>\n",
       "      <td>132.90</td>\n",
       "      <td>1326.0</td>\n",
       "      <td>0.08474</td>\n",
       "      <td>0.07864</td>\n",
       "      <td>0.0869</td>\n",
       "      <td>0.07017</td>\n",
       "      <td>0.1812</td>\n",
       "      <td>0.05667</td>\n",
       "      <td>...</td>\n",
       "      <td>23.41</td>\n",
       "      <td>158.80</td>\n",
       "      <td>1956.0</td>\n",
       "      <td>0.1238</td>\n",
       "      <td>0.1866</td>\n",
       "      <td>0.2416</td>\n",
       "      <td>0.1860</td>\n",
       "      <td>0.2750</td>\n",
       "      <td>0.08902</td>\n",
       "      <td>1</td>\n",
       "    </tr>\n",
       "    <tr>\n",
       "      <th>2</th>\n",
       "      <td>19.69</td>\n",
       "      <td>21.25</td>\n",
       "      <td>130.00</td>\n",
       "      <td>1203.0</td>\n",
       "      <td>0.10960</td>\n",
       "      <td>0.15990</td>\n",
       "      <td>0.1974</td>\n",
       "      <td>0.12790</td>\n",
       "      <td>0.2069</td>\n",
       "      <td>0.05999</td>\n",
       "      <td>...</td>\n",
       "      <td>25.53</td>\n",
       "      <td>152.50</td>\n",
       "      <td>1709.0</td>\n",
       "      <td>0.1444</td>\n",
       "      <td>0.4245</td>\n",
       "      <td>0.4504</td>\n",
       "      <td>0.2430</td>\n",
       "      <td>0.3613</td>\n",
       "      <td>0.08758</td>\n",
       "      <td>1</td>\n",
       "    </tr>\n",
       "    <tr>\n",
       "      <th>3</th>\n",
       "      <td>11.42</td>\n",
       "      <td>20.38</td>\n",
       "      <td>77.58</td>\n",
       "      <td>386.1</td>\n",
       "      <td>0.14250</td>\n",
       "      <td>0.28390</td>\n",
       "      <td>0.2414</td>\n",
       "      <td>0.10520</td>\n",
       "      <td>0.2597</td>\n",
       "      <td>0.09744</td>\n",
       "      <td>...</td>\n",
       "      <td>26.50</td>\n",
       "      <td>98.87</td>\n",
       "      <td>567.7</td>\n",
       "      <td>0.2098</td>\n",
       "      <td>0.8663</td>\n",
       "      <td>0.6869</td>\n",
       "      <td>0.2575</td>\n",
       "      <td>0.6638</td>\n",
       "      <td>0.17300</td>\n",
       "      <td>1</td>\n",
       "    </tr>\n",
       "    <tr>\n",
       "      <th>4</th>\n",
       "      <td>20.29</td>\n",
       "      <td>14.34</td>\n",
       "      <td>135.10</td>\n",
       "      <td>1297.0</td>\n",
       "      <td>0.10030</td>\n",
       "      <td>0.13280</td>\n",
       "      <td>0.1980</td>\n",
       "      <td>0.10430</td>\n",
       "      <td>0.1809</td>\n",
       "      <td>0.05883</td>\n",
       "      <td>...</td>\n",
       "      <td>16.67</td>\n",
       "      <td>152.20</td>\n",
       "      <td>1575.0</td>\n",
       "      <td>0.1374</td>\n",
       "      <td>0.2050</td>\n",
       "      <td>0.4000</td>\n",
       "      <td>0.1625</td>\n",
       "      <td>0.2364</td>\n",
       "      <td>0.07678</td>\n",
       "      <td>1</td>\n",
       "    </tr>\n",
       "  </tbody>\n",
       "</table>\n",
       "<p>5 rows × 31 columns</p>\n",
       "</div>"
      ],
      "text/plain": [
       "   radius_mean  texture_mean  perimeter_mean  area_mean  smoothness_mean  \\\n",
       "0        17.99         10.38          122.80     1001.0          0.11840   \n",
       "1        20.57         17.77          132.90     1326.0          0.08474   \n",
       "2        19.69         21.25          130.00     1203.0          0.10960   \n",
       "3        11.42         20.38           77.58      386.1          0.14250   \n",
       "4        20.29         14.34          135.10     1297.0          0.10030   \n",
       "\n",
       "   compactness_mean  concavity_mean  concave points_mean  symmetry_mean  \\\n",
       "0           0.27760          0.3001              0.14710         0.2419   \n",
       "1           0.07864          0.0869              0.07017         0.1812   \n",
       "2           0.15990          0.1974              0.12790         0.2069   \n",
       "3           0.28390          0.2414              0.10520         0.2597   \n",
       "4           0.13280          0.1980              0.10430         0.1809   \n",
       "\n",
       "   fractal_dimension_mean  ...  texture_worst  perimeter_worst  area_worst  \\\n",
       "0                 0.07871  ...          17.33           184.60      2019.0   \n",
       "1                 0.05667  ...          23.41           158.80      1956.0   \n",
       "2                 0.05999  ...          25.53           152.50      1709.0   \n",
       "3                 0.09744  ...          26.50            98.87       567.7   \n",
       "4                 0.05883  ...          16.67           152.20      1575.0   \n",
       "\n",
       "   smoothness_worst  compactness_worst  concavity_worst  concave points_worst  \\\n",
       "0            0.1622             0.6656           0.7119                0.2654   \n",
       "1            0.1238             0.1866           0.2416                0.1860   \n",
       "2            0.1444             0.4245           0.4504                0.2430   \n",
       "3            0.2098             0.8663           0.6869                0.2575   \n",
       "4            0.1374             0.2050           0.4000                0.1625   \n",
       "\n",
       "   symmetry_worst  fractal_dimension_worst  M  \n",
       "0          0.4601                  0.11890  1  \n",
       "1          0.2750                  0.08902  1  \n",
       "2          0.3613                  0.08758  1  \n",
       "3          0.6638                  0.17300  1  \n",
       "4          0.2364                  0.07678  1  \n",
       "\n",
       "[5 rows x 31 columns]"
      ]
     },
     "execution_count": 14,
     "metadata": {},
     "output_type": "execute_result"
    }
   ],
   "source": [
    "data.head()"
   ]
  },
  {
   "cell_type": "code",
   "execution_count": 15,
   "id": "6381c98f",
   "metadata": {
    "execution": {
     "iopub.execute_input": "2022-02-05T12:50:26.764158Z",
     "iopub.status.busy": "2022-02-05T12:50:26.763679Z",
     "iopub.status.idle": "2022-02-05T12:50:26.766075Z",
     "shell.execute_reply": "2022-02-05T12:50:26.766630Z",
     "shell.execute_reply.started": "2022-02-05T12:49:42.871095Z"
    },
    "papermill": {
     "duration": 0.057347,
     "end_time": "2022-02-05T12:50:26.766765",
     "exception": false,
     "start_time": "2022-02-05T12:50:26.709418",
     "status": "completed"
    },
    "tags": []
   },
   "outputs": [],
   "source": [
    "# sns.pairplot(data,hue='M')"
   ]
  },
  {
   "cell_type": "code",
   "execution_count": 16,
   "id": "3b424b12",
   "metadata": {
    "execution": {
     "iopub.execute_input": "2022-02-05T12:50:26.874934Z",
     "iopub.status.busy": "2022-02-05T12:50:26.874440Z",
     "iopub.status.idle": "2022-02-05T12:50:26.878057Z",
     "shell.execute_reply": "2022-02-05T12:50:26.878567Z",
     "shell.execute_reply.started": "2022-02-05T12:49:42.877260Z"
    },
    "papermill": {
     "duration": 0.05852,
     "end_time": "2022-02-05T12:50:26.878686",
     "exception": false,
     "start_time": "2022-02-05T12:50:26.820166",
     "status": "completed"
    },
    "tags": []
   },
   "outputs": [
    {
     "data": {
      "text/plain": [
       "(569, 31)"
      ]
     },
     "execution_count": 16,
     "metadata": {},
     "output_type": "execute_result"
    }
   ],
   "source": [
    "data.shape"
   ]
  },
  {
   "cell_type": "markdown",
   "id": "c794266f",
   "metadata": {
    "papermill": {
     "duration": 0.052651,
     "end_time": "2022-02-05T12:50:26.984570",
     "exception": false,
     "start_time": "2022-02-05T12:50:26.931919",
     "status": "completed"
    },
    "tags": []
   },
   "source": [
    "# Feature selection"
   ]
  },
  {
   "cell_type": "code",
   "execution_count": 17,
   "id": "6ea179fc",
   "metadata": {
    "execution": {
     "iopub.execute_input": "2022-02-05T12:50:27.103396Z",
     "iopub.status.busy": "2022-02-05T12:50:27.098847Z",
     "iopub.status.idle": "2022-02-05T12:50:27.105344Z",
     "shell.execute_reply": "2022-02-05T12:50:27.106059Z",
     "shell.execute_reply.started": "2022-02-05T12:49:42.893001Z"
    },
    "papermill": {
     "duration": 0.067954,
     "end_time": "2022-02-05T12:50:27.106246",
     "exception": false,
     "start_time": "2022-02-05T12:50:27.038292",
     "status": "completed"
    },
    "tags": []
   },
   "outputs": [],
   "source": [
    "X = data.drop('M',axis=1)\n",
    "y = data['M']"
   ]
  },
  {
   "cell_type": "markdown",
   "id": "0e203cb2",
   "metadata": {
    "papermill": {
     "duration": 0.053374,
     "end_time": "2022-02-05T12:50:27.224910",
     "exception": false,
     "start_time": "2022-02-05T12:50:27.171536",
     "status": "completed"
    },
    "tags": []
   },
   "source": [
    "# correlation"
   ]
  },
  {
   "cell_type": "code",
   "execution_count": 18,
   "id": "02f4c036",
   "metadata": {
    "execution": {
     "iopub.execute_input": "2022-02-05T12:50:27.348708Z",
     "iopub.status.busy": "2022-02-05T12:50:27.347945Z",
     "iopub.status.idle": "2022-02-05T12:50:27.496189Z",
     "shell.execute_reply": "2022-02-05T12:50:27.495187Z",
     "shell.execute_reply.started": "2022-02-05T12:49:42.905998Z"
    },
    "papermill": {
     "duration": 0.215132,
     "end_time": "2022-02-05T12:50:27.496348",
     "exception": false,
     "start_time": "2022-02-05T12:50:27.281216",
     "status": "completed"
    },
    "tags": []
   },
   "outputs": [],
   "source": [
    "# separate dataset into train and test\n",
    "from sklearn.model_selection import train_test_split\n",
    "X_train, X_test, y_train, y_test = train_test_split(X,y,test_size=0.3,random_state=0)"
   ]
  },
  {
   "cell_type": "code",
   "execution_count": 19,
   "id": "e3abd100",
   "metadata": {
    "execution": {
     "iopub.execute_input": "2022-02-05T12:50:27.611306Z",
     "iopub.status.busy": "2022-02-05T12:50:27.610657Z",
     "iopub.status.idle": "2022-02-05T12:50:27.613279Z",
     "shell.execute_reply": "2022-02-05T12:50:27.613710Z",
     "shell.execute_reply.started": "2022-02-05T12:49:42.921536Z"
    },
    "papermill": {
     "duration": 0.06282,
     "end_time": "2022-02-05T12:50:27.613857",
     "exception": false,
     "start_time": "2022-02-05T12:50:27.551037",
     "status": "completed"
    },
    "tags": []
   },
   "outputs": [
    {
     "data": {
      "text/plain": [
       "((398, 30), (171, 30))"
      ]
     },
     "execution_count": 19,
     "metadata": {},
     "output_type": "execute_result"
    }
   ],
   "source": [
    "X_train.shape, X_test.shape"
   ]
  },
  {
   "cell_type": "code",
   "execution_count": 20,
   "id": "e97f7b7a",
   "metadata": {
    "execution": {
     "iopub.execute_input": "2022-02-05T12:50:27.728100Z",
     "iopub.status.busy": "2022-02-05T12:50:27.727432Z",
     "iopub.status.idle": "2022-02-05T12:50:27.764896Z",
     "shell.execute_reply": "2022-02-05T12:50:27.765379Z",
     "shell.execute_reply.started": "2022-02-05T12:49:42.935143Z"
    },
    "papermill": {
     "duration": 0.097096,
     "end_time": "2022-02-05T12:50:27.765503",
     "exception": false,
     "start_time": "2022-02-05T12:50:27.668407",
     "status": "completed"
    },
    "tags": []
   },
   "outputs": [
    {
     "data": {
      "text/html": [
       "<div>\n",
       "<style scoped>\n",
       "    .dataframe tbody tr th:only-of-type {\n",
       "        vertical-align: middle;\n",
       "    }\n",
       "\n",
       "    .dataframe tbody tr th {\n",
       "        vertical-align: top;\n",
       "    }\n",
       "\n",
       "    .dataframe thead th {\n",
       "        text-align: right;\n",
       "    }\n",
       "</style>\n",
       "<table border=\"1\" class=\"dataframe\">\n",
       "  <thead>\n",
       "    <tr style=\"text-align: right;\">\n",
       "      <th></th>\n",
       "      <th>radius_mean</th>\n",
       "      <th>texture_mean</th>\n",
       "      <th>perimeter_mean</th>\n",
       "      <th>area_mean</th>\n",
       "      <th>smoothness_mean</th>\n",
       "      <th>compactness_mean</th>\n",
       "      <th>concavity_mean</th>\n",
       "      <th>concave points_mean</th>\n",
       "      <th>symmetry_mean</th>\n",
       "      <th>fractal_dimension_mean</th>\n",
       "      <th>...</th>\n",
       "      <th>radius_worst</th>\n",
       "      <th>texture_worst</th>\n",
       "      <th>perimeter_worst</th>\n",
       "      <th>area_worst</th>\n",
       "      <th>smoothness_worst</th>\n",
       "      <th>compactness_worst</th>\n",
       "      <th>concavity_worst</th>\n",
       "      <th>concave points_worst</th>\n",
       "      <th>symmetry_worst</th>\n",
       "      <th>fractal_dimension_worst</th>\n",
       "    </tr>\n",
       "  </thead>\n",
       "  <tbody>\n",
       "    <tr>\n",
       "      <th>radius_mean</th>\n",
       "      <td>1.000000</td>\n",
       "      <td>0.295249</td>\n",
       "      <td>0.998198</td>\n",
       "      <td>0.986838</td>\n",
       "      <td>0.173862</td>\n",
       "      <td>0.514335</td>\n",
       "      <td>0.691099</td>\n",
       "      <td>0.825141</td>\n",
       "      <td>0.130055</td>\n",
       "      <td>-0.334691</td>\n",
       "      <td>...</td>\n",
       "      <td>0.968661</td>\n",
       "      <td>0.261985</td>\n",
       "      <td>0.965167</td>\n",
       "      <td>0.940438</td>\n",
       "      <td>0.124559</td>\n",
       "      <td>0.410200</td>\n",
       "      <td>0.545764</td>\n",
       "      <td>0.739982</td>\n",
       "      <td>0.148186</td>\n",
       "      <td>-0.003661</td>\n",
       "    </tr>\n",
       "    <tr>\n",
       "      <th>texture_mean</th>\n",
       "      <td>0.295249</td>\n",
       "      <td>1.000000</td>\n",
       "      <td>0.301988</td>\n",
       "      <td>0.297965</td>\n",
       "      <td>-0.019339</td>\n",
       "      <td>0.227062</td>\n",
       "      <td>0.293874</td>\n",
       "      <td>0.278706</td>\n",
       "      <td>0.072918</td>\n",
       "      <td>-0.081656</td>\n",
       "      <td>...</td>\n",
       "      <td>0.330626</td>\n",
       "      <td>0.908330</td>\n",
       "      <td>0.336144</td>\n",
       "      <td>0.330487</td>\n",
       "      <td>0.098100</td>\n",
       "      <td>0.262653</td>\n",
       "      <td>0.301430</td>\n",
       "      <td>0.274823</td>\n",
       "      <td>0.094799</td>\n",
       "      <td>0.110480</td>\n",
       "    </tr>\n",
       "    <tr>\n",
       "      <th>perimeter_mean</th>\n",
       "      <td>0.998198</td>\n",
       "      <td>0.301988</td>\n",
       "      <td>1.000000</td>\n",
       "      <td>0.986457</td>\n",
       "      <td>0.207606</td>\n",
       "      <td>0.560260</td>\n",
       "      <td>0.726532</td>\n",
       "      <td>0.851581</td>\n",
       "      <td>0.162203</td>\n",
       "      <td>-0.290120</td>\n",
       "      <td>...</td>\n",
       "      <td>0.968600</td>\n",
       "      <td>0.269238</td>\n",
       "      <td>0.969497</td>\n",
       "      <td>0.941052</td>\n",
       "      <td>0.154020</td>\n",
       "      <td>0.448652</td>\n",
       "      <td>0.579350</td>\n",
       "      <td>0.765648</td>\n",
       "      <td>0.170639</td>\n",
       "      <td>0.035775</td>\n",
       "    </tr>\n",
       "    <tr>\n",
       "      <th>area_mean</th>\n",
       "      <td>0.986838</td>\n",
       "      <td>0.297965</td>\n",
       "      <td>0.986457</td>\n",
       "      <td>1.000000</td>\n",
       "      <td>0.179881</td>\n",
       "      <td>0.504877</td>\n",
       "      <td>0.699187</td>\n",
       "      <td>0.823800</td>\n",
       "      <td>0.130645</td>\n",
       "      <td>-0.305238</td>\n",
       "      <td>...</td>\n",
       "      <td>0.960038</td>\n",
       "      <td>0.256899</td>\n",
       "      <td>0.957628</td>\n",
       "      <td>0.957294</td>\n",
       "      <td>0.126771</td>\n",
       "      <td>0.384823</td>\n",
       "      <td>0.526975</td>\n",
       "      <td>0.713896</td>\n",
       "      <td>0.122938</td>\n",
       "      <td>-0.008668</td>\n",
       "    </tr>\n",
       "    <tr>\n",
       "      <th>smoothness_mean</th>\n",
       "      <td>0.173862</td>\n",
       "      <td>-0.019339</td>\n",
       "      <td>0.207606</td>\n",
       "      <td>0.179881</td>\n",
       "      <td>1.000000</td>\n",
       "      <td>0.657633</td>\n",
       "      <td>0.523092</td>\n",
       "      <td>0.547595</td>\n",
       "      <td>0.524757</td>\n",
       "      <td>0.577168</td>\n",
       "      <td>...</td>\n",
       "      <td>0.210894</td>\n",
       "      <td>0.048346</td>\n",
       "      <td>0.232888</td>\n",
       "      <td>0.203238</td>\n",
       "      <td>0.804715</td>\n",
       "      <td>0.472693</td>\n",
       "      <td>0.446719</td>\n",
       "      <td>0.501396</td>\n",
       "      <td>0.390637</td>\n",
       "      <td>0.500584</td>\n",
       "    </tr>\n",
       "    <tr>\n",
       "      <th>compactness_mean</th>\n",
       "      <td>0.514335</td>\n",
       "      <td>0.227062</td>\n",
       "      <td>0.560260</td>\n",
       "      <td>0.504877</td>\n",
       "      <td>0.657633</td>\n",
       "      <td>1.000000</td>\n",
       "      <td>0.882086</td>\n",
       "      <td>0.839100</td>\n",
       "      <td>0.593590</td>\n",
       "      <td>0.530379</td>\n",
       "      <td>...</td>\n",
       "      <td>0.543543</td>\n",
       "      <td>0.244771</td>\n",
       "      <td>0.590145</td>\n",
       "      <td>0.515566</td>\n",
       "      <td>0.591149</td>\n",
       "      <td>0.866026</td>\n",
       "      <td>0.832798</td>\n",
       "      <td>0.829554</td>\n",
       "      <td>0.512781</td>\n",
       "      <td>0.677353</td>\n",
       "    </tr>\n",
       "    <tr>\n",
       "      <th>concavity_mean</th>\n",
       "      <td>0.691099</td>\n",
       "      <td>0.293874</td>\n",
       "      <td>0.726532</td>\n",
       "      <td>0.699187</td>\n",
       "      <td>0.523092</td>\n",
       "      <td>0.882086</td>\n",
       "      <td>1.000000</td>\n",
       "      <td>0.929651</td>\n",
       "      <td>0.487250</td>\n",
       "      <td>0.305407</td>\n",
       "      <td>...</td>\n",
       "      <td>0.697692</td>\n",
       "      <td>0.294430</td>\n",
       "      <td>0.731906</td>\n",
       "      <td>0.684334</td>\n",
       "      <td>0.461758</td>\n",
       "      <td>0.733864</td>\n",
       "      <td>0.880082</td>\n",
       "      <td>0.860910</td>\n",
       "      <td>0.391928</td>\n",
       "      <td>0.491046</td>\n",
       "    </tr>\n",
       "    <tr>\n",
       "      <th>concave points_mean</th>\n",
       "      <td>0.825141</td>\n",
       "      <td>0.278706</td>\n",
       "      <td>0.851581</td>\n",
       "      <td>0.823800</td>\n",
       "      <td>0.547595</td>\n",
       "      <td>0.839100</td>\n",
       "      <td>0.929651</td>\n",
       "      <td>1.000000</td>\n",
       "      <td>0.445337</td>\n",
       "      <td>0.142726</td>\n",
       "      <td>...</td>\n",
       "      <td>0.829749</td>\n",
       "      <td>0.283116</td>\n",
       "      <td>0.852753</td>\n",
       "      <td>0.807316</td>\n",
       "      <td>0.456557</td>\n",
       "      <td>0.665314</td>\n",
       "      <td>0.770467</td>\n",
       "      <td>0.907160</td>\n",
       "      <td>0.371893</td>\n",
       "      <td>0.359519</td>\n",
       "    </tr>\n",
       "    <tr>\n",
       "      <th>symmetry_mean</th>\n",
       "      <td>0.130055</td>\n",
       "      <td>0.072918</td>\n",
       "      <td>0.162203</td>\n",
       "      <td>0.130645</td>\n",
       "      <td>0.524757</td>\n",
       "      <td>0.593590</td>\n",
       "      <td>0.487250</td>\n",
       "      <td>0.445337</td>\n",
       "      <td>1.000000</td>\n",
       "      <td>0.465672</td>\n",
       "      <td>...</td>\n",
       "      <td>0.161643</td>\n",
       "      <td>0.083067</td>\n",
       "      <td>0.190340</td>\n",
       "      <td>0.151767</td>\n",
       "      <td>0.409629</td>\n",
       "      <td>0.461318</td>\n",
       "      <td>0.425195</td>\n",
       "      <td>0.421450</td>\n",
       "      <td>0.701085</td>\n",
       "      <td>0.432600</td>\n",
       "    </tr>\n",
       "    <tr>\n",
       "      <th>fractal_dimension_mean</th>\n",
       "      <td>-0.334691</td>\n",
       "      <td>-0.081656</td>\n",
       "      <td>-0.290120</td>\n",
       "      <td>-0.305238</td>\n",
       "      <td>0.577168</td>\n",
       "      <td>0.530379</td>\n",
       "      <td>0.305407</td>\n",
       "      <td>0.142726</td>\n",
       "      <td>0.465672</td>\n",
       "      <td>1.000000</td>\n",
       "      <td>...</td>\n",
       "      <td>-0.280000</td>\n",
       "      <td>-0.041873</td>\n",
       "      <td>-0.239676</td>\n",
       "      <td>-0.258208</td>\n",
       "      <td>0.531849</td>\n",
       "      <td>0.443050</td>\n",
       "      <td>0.327967</td>\n",
       "      <td>0.161519</td>\n",
       "      <td>0.340958</td>\n",
       "      <td>0.766143</td>\n",
       "    </tr>\n",
       "    <tr>\n",
       "      <th>radius_se</th>\n",
       "      <td>0.683785</td>\n",
       "      <td>0.256403</td>\n",
       "      <td>0.695606</td>\n",
       "      <td>0.738373</td>\n",
       "      <td>0.297882</td>\n",
       "      <td>0.494512</td>\n",
       "      <td>0.643402</td>\n",
       "      <td>0.694327</td>\n",
       "      <td>0.270789</td>\n",
       "      <td>-0.037002</td>\n",
       "      <td>...</td>\n",
       "      <td>0.707260</td>\n",
       "      <td>0.169327</td>\n",
       "      <td>0.712621</td>\n",
       "      <td>0.743855</td>\n",
       "      <td>0.124806</td>\n",
       "      <td>0.271829</td>\n",
       "      <td>0.380911</td>\n",
       "      <td>0.511803</td>\n",
       "      <td>0.074767</td>\n",
       "      <td>0.022259</td>\n",
       "    </tr>\n",
       "    <tr>\n",
       "      <th>texture_se</th>\n",
       "      <td>-0.150300</td>\n",
       "      <td>0.375343</td>\n",
       "      <td>-0.139809</td>\n",
       "      <td>-0.110825</td>\n",
       "      <td>0.073638</td>\n",
       "      <td>0.016592</td>\n",
       "      <td>0.066710</td>\n",
       "      <td>0.000497</td>\n",
       "      <td>0.111058</td>\n",
       "      <td>0.180549</td>\n",
       "      <td>...</td>\n",
       "      <td>-0.156704</td>\n",
       "      <td>0.390778</td>\n",
       "      <td>-0.150180</td>\n",
       "      <td>-0.117306</td>\n",
       "      <td>-0.064089</td>\n",
       "      <td>-0.121428</td>\n",
       "      <td>-0.089568</td>\n",
       "      <td>-0.154540</td>\n",
       "      <td>-0.156120</td>\n",
       "      <td>-0.048569</td>\n",
       "    </tr>\n",
       "    <tr>\n",
       "      <th>perimeter_se</th>\n",
       "      <td>0.679862</td>\n",
       "      <td>0.262533</td>\n",
       "      <td>0.696134</td>\n",
       "      <td>0.735907</td>\n",
       "      <td>0.290496</td>\n",
       "      <td>0.526446</td>\n",
       "      <td>0.659288</td>\n",
       "      <td>0.701799</td>\n",
       "      <td>0.267676</td>\n",
       "      <td>-0.012584</td>\n",
       "      <td>...</td>\n",
       "      <td>0.693321</td>\n",
       "      <td>0.173409</td>\n",
       "      <td>0.714380</td>\n",
       "      <td>0.729577</td>\n",
       "      <td>0.118684</td>\n",
       "      <td>0.311545</td>\n",
       "      <td>0.406650</td>\n",
       "      <td>0.531383</td>\n",
       "      <td>0.077198</td>\n",
       "      <td>0.045351</td>\n",
       "    </tr>\n",
       "    <tr>\n",
       "      <th>area_se</th>\n",
       "      <td>0.731852</td>\n",
       "      <td>0.240414</td>\n",
       "      <td>0.740729</td>\n",
       "      <td>0.799003</td>\n",
       "      <td>0.243338</td>\n",
       "      <td>0.448796</td>\n",
       "      <td>0.622973</td>\n",
       "      <td>0.679391</td>\n",
       "      <td>0.193856</td>\n",
       "      <td>-0.117902</td>\n",
       "      <td>...</td>\n",
       "      <td>0.742204</td>\n",
       "      <td>0.169758</td>\n",
       "      <td>0.747087</td>\n",
       "      <td>0.798326</td>\n",
       "      <td>0.110896</td>\n",
       "      <td>0.262763</td>\n",
       "      <td>0.380812</td>\n",
       "      <td>0.512529</td>\n",
       "      <td>0.045715</td>\n",
       "      <td>-0.007575</td>\n",
       "    </tr>\n",
       "    <tr>\n",
       "      <th>smoothness_se</th>\n",
       "      <td>-0.217224</td>\n",
       "      <td>0.012538</td>\n",
       "      <td>-0.195510</td>\n",
       "      <td>-0.156970</td>\n",
       "      <td>0.364816</td>\n",
       "      <td>0.179753</td>\n",
       "      <td>0.133423</td>\n",
       "      <td>0.056073</td>\n",
       "      <td>0.242356</td>\n",
       "      <td>0.455395</td>\n",
       "      <td>...</td>\n",
       "      <td>-0.232057</td>\n",
       "      <td>-0.068119</td>\n",
       "      <td>-0.215436</td>\n",
       "      <td>-0.180051</td>\n",
       "      <td>0.339077</td>\n",
       "      <td>-0.031025</td>\n",
       "      <td>-0.035433</td>\n",
       "      <td>-0.086114</td>\n",
       "      <td>-0.077446</td>\n",
       "      <td>0.136491</td>\n",
       "    </tr>\n",
       "    <tr>\n",
       "      <th>compactness_se</th>\n",
       "      <td>0.192278</td>\n",
       "      <td>0.177880</td>\n",
       "      <td>0.234077</td>\n",
       "      <td>0.199363</td>\n",
       "      <td>0.314661</td>\n",
       "      <td>0.728142</td>\n",
       "      <td>0.652738</td>\n",
       "      <td>0.488129</td>\n",
       "      <td>0.431739</td>\n",
       "      <td>0.546442</td>\n",
       "      <td>...</td>\n",
       "      <td>0.191208</td>\n",
       "      <td>0.124044</td>\n",
       "      <td>0.238500</td>\n",
       "      <td>0.186666</td>\n",
       "      <td>0.243486</td>\n",
       "      <td>0.645801</td>\n",
       "      <td>0.608823</td>\n",
       "      <td>0.470778</td>\n",
       "      <td>0.261133</td>\n",
       "      <td>0.570679</td>\n",
       "    </tr>\n",
       "    <tr>\n",
       "      <th>concavity_se</th>\n",
       "      <td>0.170201</td>\n",
       "      <td>0.112688</td>\n",
       "      <td>0.200688</td>\n",
       "      <td>0.184885</td>\n",
       "      <td>0.240787</td>\n",
       "      <td>0.544277</td>\n",
       "      <td>0.662114</td>\n",
       "      <td>0.419961</td>\n",
       "      <td>0.348018</td>\n",
       "      <td>0.451972</td>\n",
       "      <td>...</td>\n",
       "      <td>0.160418</td>\n",
       "      <td>0.070180</td>\n",
       "      <td>0.193056</td>\n",
       "      <td>0.164082</td>\n",
       "      <td>0.167253</td>\n",
       "      <td>0.427209</td>\n",
       "      <td>0.599786</td>\n",
       "      <td>0.400441</td>\n",
       "      <td>0.150649</td>\n",
       "      <td>0.417194</td>\n",
       "    </tr>\n",
       "    <tr>\n",
       "      <th>concave points_se</th>\n",
       "      <td>0.343943</td>\n",
       "      <td>0.115567</td>\n",
       "      <td>0.373594</td>\n",
       "      <td>0.338531</td>\n",
       "      <td>0.382914</td>\n",
       "      <td>0.637897</td>\n",
       "      <td>0.675493</td>\n",
       "      <td>0.599651</td>\n",
       "      <td>0.416242</td>\n",
       "      <td>0.338561</td>\n",
       "      <td>...</td>\n",
       "      <td>0.329281</td>\n",
       "      <td>0.043170</td>\n",
       "      <td>0.363081</td>\n",
       "      <td>0.314393</td>\n",
       "      <td>0.231504</td>\n",
       "      <td>0.441181</td>\n",
       "      <td>0.545252</td>\n",
       "      <td>0.584243</td>\n",
       "      <td>0.154597</td>\n",
       "      <td>0.313481</td>\n",
       "    </tr>\n",
       "    <tr>\n",
       "      <th>symmetry_se</th>\n",
       "      <td>-0.131828</td>\n",
       "      <td>-0.034179</td>\n",
       "      <td>-0.114329</td>\n",
       "      <td>-0.097371</td>\n",
       "      <td>0.200217</td>\n",
       "      <td>0.179703</td>\n",
       "      <td>0.132620</td>\n",
       "      <td>0.066596</td>\n",
       "      <td>0.447586</td>\n",
       "      <td>0.335032</td>\n",
       "      <td>...</td>\n",
       "      <td>-0.153446</td>\n",
       "      <td>-0.132818</td>\n",
       "      <td>-0.136989</td>\n",
       "      <td>-0.134988</td>\n",
       "      <td>-0.015165</td>\n",
       "      <td>0.013767</td>\n",
       "      <td>-0.023184</td>\n",
       "      <td>-0.055974</td>\n",
       "      <td>0.383250</td>\n",
       "      <td>0.063568</td>\n",
       "    </tr>\n",
       "    <tr>\n",
       "      <th>fractal_dimension_se</th>\n",
       "      <td>-0.046320</td>\n",
       "      <td>0.036790</td>\n",
       "      <td>-0.013581</td>\n",
       "      <td>-0.024688</td>\n",
       "      <td>0.280468</td>\n",
       "      <td>0.482742</td>\n",
       "      <td>0.448445</td>\n",
       "      <td>0.256558</td>\n",
       "      <td>0.349106</td>\n",
       "      <td>0.670963</td>\n",
       "      <td>...</td>\n",
       "      <td>-0.042044</td>\n",
       "      <td>-0.010508</td>\n",
       "      <td>-0.013620</td>\n",
       "      <td>-0.027970</td>\n",
       "      <td>0.186495</td>\n",
       "      <td>0.358564</td>\n",
       "      <td>0.371822</td>\n",
       "      <td>0.211346</td>\n",
       "      <td>0.123301</td>\n",
       "      <td>0.573181</td>\n",
       "    </tr>\n",
       "    <tr>\n",
       "      <th>radius_worst</th>\n",
       "      <td>0.968661</td>\n",
       "      <td>0.330626</td>\n",
       "      <td>0.968600</td>\n",
       "      <td>0.960038</td>\n",
       "      <td>0.210894</td>\n",
       "      <td>0.543543</td>\n",
       "      <td>0.697692</td>\n",
       "      <td>0.829749</td>\n",
       "      <td>0.161643</td>\n",
       "      <td>-0.280000</td>\n",
       "      <td>...</td>\n",
       "      <td>1.000000</td>\n",
       "      <td>0.336748</td>\n",
       "      <td>0.994558</td>\n",
       "      <td>0.983713</td>\n",
       "      <td>0.217552</td>\n",
       "      <td>0.476711</td>\n",
       "      <td>0.592949</td>\n",
       "      <td>0.783312</td>\n",
       "      <td>0.230631</td>\n",
       "      <td>0.082454</td>\n",
       "    </tr>\n",
       "    <tr>\n",
       "      <th>texture_worst</th>\n",
       "      <td>0.261985</td>\n",
       "      <td>0.908330</td>\n",
       "      <td>0.269238</td>\n",
       "      <td>0.256899</td>\n",
       "      <td>0.048346</td>\n",
       "      <td>0.244771</td>\n",
       "      <td>0.294430</td>\n",
       "      <td>0.283116</td>\n",
       "      <td>0.083067</td>\n",
       "      <td>-0.041873</td>\n",
       "      <td>...</td>\n",
       "      <td>0.336748</td>\n",
       "      <td>1.000000</td>\n",
       "      <td>0.340497</td>\n",
       "      <td>0.330430</td>\n",
       "      <td>0.256981</td>\n",
       "      <td>0.355958</td>\n",
       "      <td>0.378057</td>\n",
       "      <td>0.348675</td>\n",
       "      <td>0.219899</td>\n",
       "      <td>0.224737</td>\n",
       "    </tr>\n",
       "    <tr>\n",
       "      <th>perimeter_worst</th>\n",
       "      <td>0.965167</td>\n",
       "      <td>0.336144</td>\n",
       "      <td>0.969497</td>\n",
       "      <td>0.957628</td>\n",
       "      <td>0.232888</td>\n",
       "      <td>0.590145</td>\n",
       "      <td>0.731906</td>\n",
       "      <td>0.852753</td>\n",
       "      <td>0.190340</td>\n",
       "      <td>-0.239676</td>\n",
       "      <td>...</td>\n",
       "      <td>0.994558</td>\n",
       "      <td>0.340497</td>\n",
       "      <td>1.000000</td>\n",
       "      <td>0.978693</td>\n",
       "      <td>0.236477</td>\n",
       "      <td>0.519215</td>\n",
       "      <td>0.627361</td>\n",
       "      <td>0.809560</td>\n",
       "      <td>0.249579</td>\n",
       "      <td>0.116796</td>\n",
       "    </tr>\n",
       "    <tr>\n",
       "      <th>area_worst</th>\n",
       "      <td>0.940438</td>\n",
       "      <td>0.330487</td>\n",
       "      <td>0.941052</td>\n",
       "      <td>0.957294</td>\n",
       "      <td>0.203238</td>\n",
       "      <td>0.515566</td>\n",
       "      <td>0.684334</td>\n",
       "      <td>0.807316</td>\n",
       "      <td>0.151767</td>\n",
       "      <td>-0.258208</td>\n",
       "      <td>...</td>\n",
       "      <td>0.983713</td>\n",
       "      <td>0.330430</td>\n",
       "      <td>0.978693</td>\n",
       "      <td>1.000000</td>\n",
       "      <td>0.207738</td>\n",
       "      <td>0.436638</td>\n",
       "      <td>0.557956</td>\n",
       "      <td>0.739735</td>\n",
       "      <td>0.191353</td>\n",
       "      <td>0.066528</td>\n",
       "    </tr>\n",
       "    <tr>\n",
       "      <th>smoothness_worst</th>\n",
       "      <td>0.124559</td>\n",
       "      <td>0.098100</td>\n",
       "      <td>0.154020</td>\n",
       "      <td>0.126771</td>\n",
       "      <td>0.804715</td>\n",
       "      <td>0.591149</td>\n",
       "      <td>0.461758</td>\n",
       "      <td>0.456557</td>\n",
       "      <td>0.409629</td>\n",
       "      <td>0.531849</td>\n",
       "      <td>...</td>\n",
       "      <td>0.217552</td>\n",
       "      <td>0.256981</td>\n",
       "      <td>0.236477</td>\n",
       "      <td>0.207738</td>\n",
       "      <td>1.000000</td>\n",
       "      <td>0.598764</td>\n",
       "      <td>0.555834</td>\n",
       "      <td>0.558483</td>\n",
       "      <td>0.497873</td>\n",
       "      <td>0.648325</td>\n",
       "    </tr>\n",
       "    <tr>\n",
       "      <th>compactness_worst</th>\n",
       "      <td>0.410200</td>\n",
       "      <td>0.262653</td>\n",
       "      <td>0.448652</td>\n",
       "      <td>0.384823</td>\n",
       "      <td>0.472693</td>\n",
       "      <td>0.866026</td>\n",
       "      <td>0.733864</td>\n",
       "      <td>0.665314</td>\n",
       "      <td>0.461318</td>\n",
       "      <td>0.443050</td>\n",
       "      <td>...</td>\n",
       "      <td>0.476711</td>\n",
       "      <td>0.355958</td>\n",
       "      <td>0.519215</td>\n",
       "      <td>0.436638</td>\n",
       "      <td>0.598764</td>\n",
       "      <td>1.000000</td>\n",
       "      <td>0.892204</td>\n",
       "      <td>0.808680</td>\n",
       "      <td>0.614648</td>\n",
       "      <td>0.805667</td>\n",
       "    </tr>\n",
       "    <tr>\n",
       "      <th>concavity_worst</th>\n",
       "      <td>0.545764</td>\n",
       "      <td>0.301430</td>\n",
       "      <td>0.579350</td>\n",
       "      <td>0.526975</td>\n",
       "      <td>0.446719</td>\n",
       "      <td>0.832798</td>\n",
       "      <td>0.880082</td>\n",
       "      <td>0.770467</td>\n",
       "      <td>0.425195</td>\n",
       "      <td>0.327967</td>\n",
       "      <td>...</td>\n",
       "      <td>0.592949</td>\n",
       "      <td>0.378057</td>\n",
       "      <td>0.627361</td>\n",
       "      <td>0.557956</td>\n",
       "      <td>0.555834</td>\n",
       "      <td>0.892204</td>\n",
       "      <td>1.000000</td>\n",
       "      <td>0.875288</td>\n",
       "      <td>0.525279</td>\n",
       "      <td>0.681841</td>\n",
       "    </tr>\n",
       "    <tr>\n",
       "      <th>concave points_worst</th>\n",
       "      <td>0.739982</td>\n",
       "      <td>0.274823</td>\n",
       "      <td>0.765648</td>\n",
       "      <td>0.713896</td>\n",
       "      <td>0.501396</td>\n",
       "      <td>0.829554</td>\n",
       "      <td>0.860910</td>\n",
       "      <td>0.907160</td>\n",
       "      <td>0.421450</td>\n",
       "      <td>0.161519</td>\n",
       "      <td>...</td>\n",
       "      <td>0.783312</td>\n",
       "      <td>0.348675</td>\n",
       "      <td>0.809560</td>\n",
       "      <td>0.739735</td>\n",
       "      <td>0.558483</td>\n",
       "      <td>0.808680</td>\n",
       "      <td>0.875288</td>\n",
       "      <td>1.000000</td>\n",
       "      <td>0.515152</td>\n",
       "      <td>0.512479</td>\n",
       "    </tr>\n",
       "    <tr>\n",
       "      <th>symmetry_worst</th>\n",
       "      <td>0.148186</td>\n",
       "      <td>0.094799</td>\n",
       "      <td>0.170639</td>\n",
       "      <td>0.122938</td>\n",
       "      <td>0.390637</td>\n",
       "      <td>0.512781</td>\n",
       "      <td>0.391928</td>\n",
       "      <td>0.371893</td>\n",
       "      <td>0.701085</td>\n",
       "      <td>0.340958</td>\n",
       "      <td>...</td>\n",
       "      <td>0.230631</td>\n",
       "      <td>0.219899</td>\n",
       "      <td>0.249579</td>\n",
       "      <td>0.191353</td>\n",
       "      <td>0.497873</td>\n",
       "      <td>0.614648</td>\n",
       "      <td>0.525279</td>\n",
       "      <td>0.515152</td>\n",
       "      <td>1.000000</td>\n",
       "      <td>0.546873</td>\n",
       "    </tr>\n",
       "    <tr>\n",
       "      <th>fractal_dimension_worst</th>\n",
       "      <td>-0.003661</td>\n",
       "      <td>0.110480</td>\n",
       "      <td>0.035775</td>\n",
       "      <td>-0.008668</td>\n",
       "      <td>0.500584</td>\n",
       "      <td>0.677353</td>\n",
       "      <td>0.491046</td>\n",
       "      <td>0.359519</td>\n",
       "      <td>0.432600</td>\n",
       "      <td>0.766143</td>\n",
       "      <td>...</td>\n",
       "      <td>0.082454</td>\n",
       "      <td>0.224737</td>\n",
       "      <td>0.116796</td>\n",
       "      <td>0.066528</td>\n",
       "      <td>0.648325</td>\n",
       "      <td>0.805667</td>\n",
       "      <td>0.681841</td>\n",
       "      <td>0.512479</td>\n",
       "      <td>0.546873</td>\n",
       "      <td>1.000000</td>\n",
       "    </tr>\n",
       "  </tbody>\n",
       "</table>\n",
       "<p>30 rows × 30 columns</p>\n",
       "</div>"
      ],
      "text/plain": [
       "                         radius_mean  texture_mean  perimeter_mean  area_mean  \\\n",
       "radius_mean                 1.000000      0.295249        0.998198   0.986838   \n",
       "texture_mean                0.295249      1.000000        0.301988   0.297965   \n",
       "perimeter_mean              0.998198      0.301988        1.000000   0.986457   \n",
       "area_mean                   0.986838      0.297965        0.986457   1.000000   \n",
       "smoothness_mean             0.173862     -0.019339        0.207606   0.179881   \n",
       "compactness_mean            0.514335      0.227062        0.560260   0.504877   \n",
       "concavity_mean              0.691099      0.293874        0.726532   0.699187   \n",
       "concave points_mean         0.825141      0.278706        0.851581   0.823800   \n",
       "symmetry_mean               0.130055      0.072918        0.162203   0.130645   \n",
       "fractal_dimension_mean     -0.334691     -0.081656       -0.290120  -0.305238   \n",
       "radius_se                   0.683785      0.256403        0.695606   0.738373   \n",
       "texture_se                 -0.150300      0.375343       -0.139809  -0.110825   \n",
       "perimeter_se                0.679862      0.262533        0.696134   0.735907   \n",
       "area_se                     0.731852      0.240414        0.740729   0.799003   \n",
       "smoothness_se              -0.217224      0.012538       -0.195510  -0.156970   \n",
       "compactness_se              0.192278      0.177880        0.234077   0.199363   \n",
       "concavity_se                0.170201      0.112688        0.200688   0.184885   \n",
       "concave points_se           0.343943      0.115567        0.373594   0.338531   \n",
       "symmetry_se                -0.131828     -0.034179       -0.114329  -0.097371   \n",
       "fractal_dimension_se       -0.046320      0.036790       -0.013581  -0.024688   \n",
       "radius_worst                0.968661      0.330626        0.968600   0.960038   \n",
       "texture_worst               0.261985      0.908330        0.269238   0.256899   \n",
       "perimeter_worst             0.965167      0.336144        0.969497   0.957628   \n",
       "area_worst                  0.940438      0.330487        0.941052   0.957294   \n",
       "smoothness_worst            0.124559      0.098100        0.154020   0.126771   \n",
       "compactness_worst           0.410200      0.262653        0.448652   0.384823   \n",
       "concavity_worst             0.545764      0.301430        0.579350   0.526975   \n",
       "concave points_worst        0.739982      0.274823        0.765648   0.713896   \n",
       "symmetry_worst              0.148186      0.094799        0.170639   0.122938   \n",
       "fractal_dimension_worst    -0.003661      0.110480        0.035775  -0.008668   \n",
       "\n",
       "                         smoothness_mean  compactness_mean  concavity_mean  \\\n",
       "radius_mean                     0.173862          0.514335        0.691099   \n",
       "texture_mean                   -0.019339          0.227062        0.293874   \n",
       "perimeter_mean                  0.207606          0.560260        0.726532   \n",
       "area_mean                       0.179881          0.504877        0.699187   \n",
       "smoothness_mean                 1.000000          0.657633        0.523092   \n",
       "compactness_mean                0.657633          1.000000        0.882086   \n",
       "concavity_mean                  0.523092          0.882086        1.000000   \n",
       "concave points_mean             0.547595          0.839100        0.929651   \n",
       "symmetry_mean                   0.524757          0.593590        0.487250   \n",
       "fractal_dimension_mean          0.577168          0.530379        0.305407   \n",
       "radius_se                       0.297882          0.494512        0.643402   \n",
       "texture_se                      0.073638          0.016592        0.066710   \n",
       "perimeter_se                    0.290496          0.526446        0.659288   \n",
       "area_se                         0.243338          0.448796        0.622973   \n",
       "smoothness_se                   0.364816          0.179753        0.133423   \n",
       "compactness_se                  0.314661          0.728142        0.652738   \n",
       "concavity_se                    0.240787          0.544277        0.662114   \n",
       "concave points_se               0.382914          0.637897        0.675493   \n",
       "symmetry_se                     0.200217          0.179703        0.132620   \n",
       "fractal_dimension_se            0.280468          0.482742        0.448445   \n",
       "radius_worst                    0.210894          0.543543        0.697692   \n",
       "texture_worst                   0.048346          0.244771        0.294430   \n",
       "perimeter_worst                 0.232888          0.590145        0.731906   \n",
       "area_worst                      0.203238          0.515566        0.684334   \n",
       "smoothness_worst                0.804715          0.591149        0.461758   \n",
       "compactness_worst               0.472693          0.866026        0.733864   \n",
       "concavity_worst                 0.446719          0.832798        0.880082   \n",
       "concave points_worst            0.501396          0.829554        0.860910   \n",
       "symmetry_worst                  0.390637          0.512781        0.391928   \n",
       "fractal_dimension_worst         0.500584          0.677353        0.491046   \n",
       "\n",
       "                         concave points_mean  symmetry_mean  \\\n",
       "radius_mean                         0.825141       0.130055   \n",
       "texture_mean                        0.278706       0.072918   \n",
       "perimeter_mean                      0.851581       0.162203   \n",
       "area_mean                           0.823800       0.130645   \n",
       "smoothness_mean                     0.547595       0.524757   \n",
       "compactness_mean                    0.839100       0.593590   \n",
       "concavity_mean                      0.929651       0.487250   \n",
       "concave points_mean                 1.000000       0.445337   \n",
       "symmetry_mean                       0.445337       1.000000   \n",
       "fractal_dimension_mean              0.142726       0.465672   \n",
       "radius_se                           0.694327       0.270789   \n",
       "texture_se                          0.000497       0.111058   \n",
       "perimeter_se                        0.701799       0.267676   \n",
       "area_se                             0.679391       0.193856   \n",
       "smoothness_se                       0.056073       0.242356   \n",
       "compactness_se                      0.488129       0.431739   \n",
       "concavity_se                        0.419961       0.348018   \n",
       "concave points_se                   0.599651       0.416242   \n",
       "symmetry_se                         0.066596       0.447586   \n",
       "fractal_dimension_se                0.256558       0.349106   \n",
       "radius_worst                        0.829749       0.161643   \n",
       "texture_worst                       0.283116       0.083067   \n",
       "perimeter_worst                     0.852753       0.190340   \n",
       "area_worst                          0.807316       0.151767   \n",
       "smoothness_worst                    0.456557       0.409629   \n",
       "compactness_worst                   0.665314       0.461318   \n",
       "concavity_worst                     0.770467       0.425195   \n",
       "concave points_worst                0.907160       0.421450   \n",
       "symmetry_worst                      0.371893       0.701085   \n",
       "fractal_dimension_worst             0.359519       0.432600   \n",
       "\n",
       "                         fractal_dimension_mean  ...  radius_worst  \\\n",
       "radius_mean                           -0.334691  ...      0.968661   \n",
       "texture_mean                          -0.081656  ...      0.330626   \n",
       "perimeter_mean                        -0.290120  ...      0.968600   \n",
       "area_mean                             -0.305238  ...      0.960038   \n",
       "smoothness_mean                        0.577168  ...      0.210894   \n",
       "compactness_mean                       0.530379  ...      0.543543   \n",
       "concavity_mean                         0.305407  ...      0.697692   \n",
       "concave points_mean                    0.142726  ...      0.829749   \n",
       "symmetry_mean                          0.465672  ...      0.161643   \n",
       "fractal_dimension_mean                 1.000000  ...     -0.280000   \n",
       "radius_se                             -0.037002  ...      0.707260   \n",
       "texture_se                             0.180549  ...     -0.156704   \n",
       "perimeter_se                          -0.012584  ...      0.693321   \n",
       "area_se                               -0.117902  ...      0.742204   \n",
       "smoothness_se                          0.455395  ...     -0.232057   \n",
       "compactness_se                         0.546442  ...      0.191208   \n",
       "concavity_se                           0.451972  ...      0.160418   \n",
       "concave points_se                      0.338561  ...      0.329281   \n",
       "symmetry_se                            0.335032  ...     -0.153446   \n",
       "fractal_dimension_se                   0.670963  ...     -0.042044   \n",
       "radius_worst                          -0.280000  ...      1.000000   \n",
       "texture_worst                         -0.041873  ...      0.336748   \n",
       "perimeter_worst                       -0.239676  ...      0.994558   \n",
       "area_worst                            -0.258208  ...      0.983713   \n",
       "smoothness_worst                       0.531849  ...      0.217552   \n",
       "compactness_worst                      0.443050  ...      0.476711   \n",
       "concavity_worst                        0.327967  ...      0.592949   \n",
       "concave points_worst                   0.161519  ...      0.783312   \n",
       "symmetry_worst                         0.340958  ...      0.230631   \n",
       "fractal_dimension_worst                0.766143  ...      0.082454   \n",
       "\n",
       "                         texture_worst  perimeter_worst  area_worst  \\\n",
       "radius_mean                   0.261985         0.965167    0.940438   \n",
       "texture_mean                  0.908330         0.336144    0.330487   \n",
       "perimeter_mean                0.269238         0.969497    0.941052   \n",
       "area_mean                     0.256899         0.957628    0.957294   \n",
       "smoothness_mean               0.048346         0.232888    0.203238   \n",
       "compactness_mean              0.244771         0.590145    0.515566   \n",
       "concavity_mean                0.294430         0.731906    0.684334   \n",
       "concave points_mean           0.283116         0.852753    0.807316   \n",
       "symmetry_mean                 0.083067         0.190340    0.151767   \n",
       "fractal_dimension_mean       -0.041873        -0.239676   -0.258208   \n",
       "radius_se                     0.169327         0.712621    0.743855   \n",
       "texture_se                    0.390778        -0.150180   -0.117306   \n",
       "perimeter_se                  0.173409         0.714380    0.729577   \n",
       "area_se                       0.169758         0.747087    0.798326   \n",
       "smoothness_se                -0.068119        -0.215436   -0.180051   \n",
       "compactness_se                0.124044         0.238500    0.186666   \n",
       "concavity_se                  0.070180         0.193056    0.164082   \n",
       "concave points_se             0.043170         0.363081    0.314393   \n",
       "symmetry_se                  -0.132818        -0.136989   -0.134988   \n",
       "fractal_dimension_se         -0.010508        -0.013620   -0.027970   \n",
       "radius_worst                  0.336748         0.994558    0.983713   \n",
       "texture_worst                 1.000000         0.340497    0.330430   \n",
       "perimeter_worst               0.340497         1.000000    0.978693   \n",
       "area_worst                    0.330430         0.978693    1.000000   \n",
       "smoothness_worst              0.256981         0.236477    0.207738   \n",
       "compactness_worst             0.355958         0.519215    0.436638   \n",
       "concavity_worst               0.378057         0.627361    0.557956   \n",
       "concave points_worst          0.348675         0.809560    0.739735   \n",
       "symmetry_worst                0.219899         0.249579    0.191353   \n",
       "fractal_dimension_worst       0.224737         0.116796    0.066528   \n",
       "\n",
       "                         smoothness_worst  compactness_worst  concavity_worst  \\\n",
       "radius_mean                      0.124559           0.410200         0.545764   \n",
       "texture_mean                     0.098100           0.262653         0.301430   \n",
       "perimeter_mean                   0.154020           0.448652         0.579350   \n",
       "area_mean                        0.126771           0.384823         0.526975   \n",
       "smoothness_mean                  0.804715           0.472693         0.446719   \n",
       "compactness_mean                 0.591149           0.866026         0.832798   \n",
       "concavity_mean                   0.461758           0.733864         0.880082   \n",
       "concave points_mean              0.456557           0.665314         0.770467   \n",
       "symmetry_mean                    0.409629           0.461318         0.425195   \n",
       "fractal_dimension_mean           0.531849           0.443050         0.327967   \n",
       "radius_se                        0.124806           0.271829         0.380911   \n",
       "texture_se                      -0.064089          -0.121428        -0.089568   \n",
       "perimeter_se                     0.118684           0.311545         0.406650   \n",
       "area_se                          0.110896           0.262763         0.380812   \n",
       "smoothness_se                    0.339077          -0.031025        -0.035433   \n",
       "compactness_se                   0.243486           0.645801         0.608823   \n",
       "concavity_se                     0.167253           0.427209         0.599786   \n",
       "concave points_se                0.231504           0.441181         0.545252   \n",
       "symmetry_se                     -0.015165           0.013767        -0.023184   \n",
       "fractal_dimension_se             0.186495           0.358564         0.371822   \n",
       "radius_worst                     0.217552           0.476711         0.592949   \n",
       "texture_worst                    0.256981           0.355958         0.378057   \n",
       "perimeter_worst                  0.236477           0.519215         0.627361   \n",
       "area_worst                       0.207738           0.436638         0.557956   \n",
       "smoothness_worst                 1.000000           0.598764         0.555834   \n",
       "compactness_worst                0.598764           1.000000         0.892204   \n",
       "concavity_worst                  0.555834           0.892204         1.000000   \n",
       "concave points_worst             0.558483           0.808680         0.875288   \n",
       "symmetry_worst                   0.497873           0.614648         0.525279   \n",
       "fractal_dimension_worst          0.648325           0.805667         0.681841   \n",
       "\n",
       "                         concave points_worst  symmetry_worst  \\\n",
       "radius_mean                          0.739982        0.148186   \n",
       "texture_mean                         0.274823        0.094799   \n",
       "perimeter_mean                       0.765648        0.170639   \n",
       "area_mean                            0.713896        0.122938   \n",
       "smoothness_mean                      0.501396        0.390637   \n",
       "compactness_mean                     0.829554        0.512781   \n",
       "concavity_mean                       0.860910        0.391928   \n",
       "concave points_mean                  0.907160        0.371893   \n",
       "symmetry_mean                        0.421450        0.701085   \n",
       "fractal_dimension_mean               0.161519        0.340958   \n",
       "radius_se                            0.511803        0.074767   \n",
       "texture_se                          -0.154540       -0.156120   \n",
       "perimeter_se                         0.531383        0.077198   \n",
       "area_se                              0.512529        0.045715   \n",
       "smoothness_se                       -0.086114       -0.077446   \n",
       "compactness_se                       0.470778        0.261133   \n",
       "concavity_se                         0.400441        0.150649   \n",
       "concave points_se                    0.584243        0.154597   \n",
       "symmetry_se                         -0.055974        0.383250   \n",
       "fractal_dimension_se                 0.211346        0.123301   \n",
       "radius_worst                         0.783312        0.230631   \n",
       "texture_worst                        0.348675        0.219899   \n",
       "perimeter_worst                      0.809560        0.249579   \n",
       "area_worst                           0.739735        0.191353   \n",
       "smoothness_worst                     0.558483        0.497873   \n",
       "compactness_worst                    0.808680        0.614648   \n",
       "concavity_worst                      0.875288        0.525279   \n",
       "concave points_worst                 1.000000        0.515152   \n",
       "symmetry_worst                       0.515152        1.000000   \n",
       "fractal_dimension_worst              0.512479        0.546873   \n",
       "\n",
       "                         fractal_dimension_worst  \n",
       "radius_mean                            -0.003661  \n",
       "texture_mean                            0.110480  \n",
       "perimeter_mean                          0.035775  \n",
       "area_mean                              -0.008668  \n",
       "smoothness_mean                         0.500584  \n",
       "compactness_mean                        0.677353  \n",
       "concavity_mean                          0.491046  \n",
       "concave points_mean                     0.359519  \n",
       "symmetry_mean                           0.432600  \n",
       "fractal_dimension_mean                  0.766143  \n",
       "radius_se                               0.022259  \n",
       "texture_se                             -0.048569  \n",
       "perimeter_se                            0.045351  \n",
       "area_se                                -0.007575  \n",
       "smoothness_se                           0.136491  \n",
       "compactness_se                          0.570679  \n",
       "concavity_se                            0.417194  \n",
       "concave points_se                       0.313481  \n",
       "symmetry_se                             0.063568  \n",
       "fractal_dimension_se                    0.573181  \n",
       "radius_worst                            0.082454  \n",
       "texture_worst                           0.224737  \n",
       "perimeter_worst                         0.116796  \n",
       "area_worst                              0.066528  \n",
       "smoothness_worst                        0.648325  \n",
       "compactness_worst                       0.805667  \n",
       "concavity_worst                         0.681841  \n",
       "concave points_worst                    0.512479  \n",
       "symmetry_worst                          0.546873  \n",
       "fractal_dimension_worst                 1.000000  \n",
       "\n",
       "[30 rows x 30 columns]"
      ]
     },
     "execution_count": 20,
     "metadata": {},
     "output_type": "execute_result"
    }
   ],
   "source": [
    "X_train.corr()"
   ]
  },
  {
   "cell_type": "markdown",
   "id": "7dbd3a83",
   "metadata": {
    "papermill": {
     "duration": 0.055766,
     "end_time": "2022-02-05T12:50:27.877299",
     "exception": false,
     "start_time": "2022-02-05T12:50:27.821533",
     "status": "completed"
    },
    "tags": []
   },
   "source": [
    "# Feature Selection"
   ]
  },
  {
   "cell_type": "code",
   "execution_count": 21,
   "id": "612e9299",
   "metadata": {
    "execution": {
     "iopub.execute_input": "2022-02-05T12:50:27.990261Z",
     "iopub.status.busy": "2022-02-05T12:50:27.989722Z",
     "iopub.status.idle": "2022-02-05T12:50:31.310575Z",
     "shell.execute_reply": "2022-02-05T12:50:31.310990Z",
     "shell.execute_reply.started": "2022-02-05T12:49:42.993157Z"
    },
    "papermill": {
     "duration": 3.378291,
     "end_time": "2022-02-05T12:50:31.311140",
     "exception": false,
     "start_time": "2022-02-05T12:50:27.932849",
     "status": "completed"
    },
    "tags": []
   },
   "outputs": [
    {
     "data": {
      "image/png": "[encoded data removed]",
      "text/plain": [
       "<Figure size 2016x720 with 2 Axes>"
      ]
     },
     "metadata": {
      "needs_background": "light"
     },
     "output_type": "display_data"
    }
   ],
   "source": [
    "import seaborn as sns\n",
    "#Using Pearson Correlation\n",
    "plt.figure(figsize=(28,10))\n",
    "cor = X_train.corr()\n",
    "sns.heatmap(cor, annot=True, cmap=plt.cm.BuPu)\n",
    "plt.show()"
   ]
  },
  {
   "cell_type": "code",
   "execution_count": 22,
   "id": "5c7f2db3",
   "metadata": {
    "execution": {
     "iopub.execute_input": "2022-02-05T12:50:31.445352Z",
     "iopub.status.busy": "2022-02-05T12:50:31.444860Z",
     "iopub.status.idle": "2022-02-05T12:50:31.450394Z",
     "shell.execute_reply": "2022-02-05T12:50:31.449986Z",
     "shell.execute_reply.started": "2022-02-05T12:49:47.023113Z"
    },
    "papermill": {
     "duration": 0.073133,
     "end_time": "2022-02-05T12:50:31.450511",
     "exception": false,
     "start_time": "2022-02-05T12:50:31.377378",
     "status": "completed"
    },
    "tags": []
   },
   "outputs": [],
   "source": [
    "# with the following function we can select highly correlated features\n",
    "# it will remove the first feature that is correlated with anything other feature\n",
    "\n",
    "def correlation(dataset, threshold):\n",
    "    col_corr = set()  # Set of all the names of correlated columns\n",
    "    corr_matrix = dataset.corr()\n",
    "    for i in range(len(corr_matrix.columns)):\n",
    "        for j in range(i):\n",
    "            if abs(corr_matrix.iloc[i, j]) > threshold: # we are interested in absolute coeff value\n",
    "                colname = corr_matrix.columns[i]  # getting the name of column\n",
    "                col_corr.add(colname)\n",
    "    return col_corr"
   ]
  },
  {
   "cell_type": "code",
   "execution_count": 23,
   "id": "381f869e",
   "metadata": {
    "execution": {
     "iopub.execute_input": "2022-02-05T12:50:31.585183Z",
     "iopub.status.busy": "2022-02-05T12:50:31.584690Z",
     "iopub.status.idle": "2022-02-05T12:50:31.602940Z",
     "shell.execute_reply": "2022-02-05T12:50:31.602491Z",
     "shell.execute_reply.started": "2022-02-05T12:49:47.032292Z"
    },
    "papermill": {
     "duration": 0.086859,
     "end_time": "2022-02-05T12:50:31.603048",
     "exception": false,
     "start_time": "2022-02-05T12:50:31.516189",
     "status": "completed"
    },
    "tags": []
   },
   "outputs": [
    {
     "data": {
      "text/plain": [
       "15"
      ]
     },
     "execution_count": 23,
     "metadata": {},
     "output_type": "execute_result"
    }
   ],
   "source": [
    "corr_features = correlation(X_train, 0.8)\n",
    "len(set(corr_features))"
   ]
  },
  {
   "cell_type": "code",
   "execution_count": 24,
   "id": "5cfa23be",
   "metadata": {
    "execution": {
     "iopub.execute_input": "2022-02-05T12:50:31.737340Z",
     "iopub.status.busy": "2022-02-05T12:50:31.736867Z",
     "iopub.status.idle": "2022-02-05T12:50:31.740268Z",
     "shell.execute_reply": "2022-02-05T12:50:31.740705Z",
     "shell.execute_reply.started": "2022-02-05T12:49:47.067700Z"
    },
    "papermill": {
     "duration": 0.071965,
     "end_time": "2022-02-05T12:50:31.740832",
     "exception": false,
     "start_time": "2022-02-05T12:50:31.668867",
     "status": "completed"
    },
    "tags": []
   },
   "outputs": [
    {
     "data": {
      "text/plain": [
       "{'area_mean',\n",
       " 'area_se',\n",
       " 'area_worst',\n",
       " 'compactness_worst',\n",
       " 'concave points_mean',\n",
       " 'concave points_worst',\n",
       " 'concavity_mean',\n",
       " 'concavity_worst',\n",
       " 'fractal_dimension_worst',\n",
       " 'perimeter_mean',\n",
       " 'perimeter_se',\n",
       " 'perimeter_worst',\n",
       " 'radius_worst',\n",
       " 'smoothness_worst',\n",
       " 'texture_worst'}"
      ]
     },
     "execution_count": 24,
     "metadata": {},
     "output_type": "execute_result"
    }
   ],
   "source": [
    "corr_features"
   ]
  },
  {
   "cell_type": "code",
   "execution_count": 25,
   "id": "d305bdd8",
   "metadata": {
    "execution": {
     "iopub.execute_input": "2022-02-05T12:50:31.878268Z",
     "iopub.status.busy": "2022-02-05T12:50:31.877753Z",
     "iopub.status.idle": "2022-02-05T12:50:31.879948Z",
     "shell.execute_reply": "2022-02-05T12:50:31.880340Z",
     "shell.execute_reply.started": "2022-02-05T12:49:47.074997Z"
    },
    "papermill": {
     "duration": 0.073073,
     "end_time": "2022-02-05T12:50:31.880461",
     "exception": false,
     "start_time": "2022-02-05T12:50:31.807388",
     "status": "completed"
    },
    "tags": []
   },
   "outputs": [],
   "source": [
    "X_train = X_train.drop(corr_features,axis=1)\n",
    "X_test = X_test.drop(corr_features,axis=1)"
   ]
  },
  {
   "cell_type": "code",
   "execution_count": 26,
   "id": "634fbb01",
   "metadata": {
    "execution": {
     "iopub.execute_input": "2022-02-05T12:50:32.017306Z",
     "iopub.status.busy": "2022-02-05T12:50:32.016779Z",
     "iopub.status.idle": "2022-02-05T12:50:32.020992Z",
     "shell.execute_reply": "2022-02-05T12:50:32.021410Z",
     "shell.execute_reply.started": "2022-02-05T12:49:47.092542Z"
    },
    "papermill": {
     "duration": 0.074856,
     "end_time": "2022-02-05T12:50:32.021550",
     "exception": false,
     "start_time": "2022-02-05T12:50:31.946694",
     "status": "completed"
    },
    "tags": []
   },
   "outputs": [
    {
     "data": {
      "text/plain": [
       "((398, 15), (171, 15))"
      ]
     },
     "execution_count": 26,
     "metadata": {},
     "output_type": "execute_result"
    }
   ],
   "source": [
    "X_train.shape,X_test.shape\n"
   ]
  },
  {
   "cell_type": "markdown",
   "id": "a66b5598",
   "metadata": {
    "papermill": {
     "duration": 0.065237,
     "end_time": "2022-02-05T12:50:32.155076",
     "exception": false,
     "start_time": "2022-02-05T12:50:32.089839",
     "status": "completed"
    },
    "tags": []
   },
   "source": [
    "# Feature Scaling"
   ]
  },
  {
   "cell_type": "code",
   "execution_count": 27,
   "id": "50b1332b",
   "metadata": {
    "execution": {
     "iopub.execute_input": "2022-02-05T12:50:32.290364Z",
     "iopub.status.busy": "2022-02-05T12:50:32.289853Z",
     "iopub.status.idle": "2022-02-05T12:50:32.297175Z",
     "shell.execute_reply": "2022-02-05T12:50:32.297584Z",
     "shell.execute_reply.started": "2022-02-05T12:49:47.105471Z"
    },
    "papermill": {
     "duration": 0.076516,
     "end_time": "2022-02-05T12:50:32.297732",
     "exception": false,
     "start_time": "2022-02-05T12:50:32.221216",
     "status": "completed"
    },
    "tags": []
   },
   "outputs": [],
   "source": [
    "from sklearn.preprocessing import StandardScaler\n",
    "sc = StandardScaler()\n",
    "X_train = sc.fit_transform(X_train)\n",
    "X_test = sc.transform(X_test)"
   ]
  },
  {
   "cell_type": "markdown",
   "id": "681ede76",
   "metadata": {
    "papermill": {
     "duration": 0.066769,
     "end_time": "2022-02-05T12:50:32.431257",
     "exception": false,
     "start_time": "2022-02-05T12:50:32.364488",
     "status": "completed"
    },
    "tags": []
   },
   "source": [
    "# Logistic Regression"
   ]
  },
  {
   "cell_type": "code",
   "execution_count": 28,
   "id": "82a1756e",
   "metadata": {
    "execution": {
     "iopub.execute_input": "2022-02-05T12:50:32.569075Z",
     "iopub.status.busy": "2022-02-05T12:50:32.568572Z",
     "iopub.status.idle": "2022-02-05T12:50:32.644116Z",
     "shell.execute_reply": "2022-02-05T12:50:32.643707Z",
     "shell.execute_reply.started": "2022-02-05T12:49:47.122868Z"
    },
    "papermill": {
     "duration": 0.145663,
     "end_time": "2022-02-05T12:50:32.644229",
     "exception": false,
     "start_time": "2022-02-05T12:50:32.498566",
     "status": "completed"
    },
    "tags": []
   },
   "outputs": [
    {
     "data": {
      "text/plain": [
       "LogisticRegression(random_state=0)"
      ]
     },
     "execution_count": 28,
     "metadata": {},
     "output_type": "execute_result"
    }
   ],
   "source": [
    "from sklearn.linear_model import LogisticRegression\n",
    "classifier = LogisticRegression(random_state = 0)\n",
    "classifier.fit(X_train, y_train)"
   ]
  },
  {
   "cell_type": "code",
   "execution_count": 29,
   "id": "00b84827",
   "metadata": {
    "execution": {
     "iopub.execute_input": "2022-02-05T12:50:32.778231Z",
     "iopub.status.busy": "2022-02-05T12:50:32.777464Z",
     "iopub.status.idle": "2022-02-05T12:50:32.783042Z",
     "shell.execute_reply": "2022-02-05T12:50:32.782623Z",
     "shell.execute_reply.started": "2022-02-05T12:49:47.146740Z"
    },
    "papermill": {
     "duration": 0.073083,
     "end_time": "2022-02-05T12:50:32.783146",
     "exception": false,
     "start_time": "2022-02-05T12:50:32.710063",
     "status": "completed"
    },
    "tags": []
   },
   "outputs": [
    {
     "name": "stdout",
     "output_type": "stream",
     "text": [
      "[1 0 0 0 0 0 0 0 0 0 0 0 0 1 1 1 0 1 1 1 1 1 0 0 1 0 0 1 0 1 0 1 0 1 0 1 0\n",
      " 1 0 1 1 0 1 0 0 1 0 0 0 1 1 1 1 0 0 0 0 0 0 1 1 1 0 0 1 0 1 1 1 0 0 1 0 0\n",
      " 1 0 0 0 0 0 1 1 1 0 1 0 0 0 1 1 0 1 1 1 0 0 1 0 0 0 0 0 0 0 1 0 1 1 0 1 0\n",
      " 1 1 0 0 0 0 0 0 0 0 0 1 0 1 0 0 0 0 0 1 0 0 1 0 0 0 0 1 0 0 0 1 0 0 1 0 1\n",
      " 0 0 0 0 1 1 0 1 0 1 0 1 1 0 0 1 0 1 1 1 0 0 0]\n"
     ]
    }
   ],
   "source": [
    "y_pred = classifier.predict(X_test)\n",
    "print(y_pred)"
   ]
  },
  {
   "cell_type": "code",
   "execution_count": 30,
   "id": "f73e8013",
   "metadata": {
    "execution": {
     "iopub.execute_input": "2022-02-05T12:50:32.922664Z",
     "iopub.status.busy": "2022-02-05T12:50:32.921943Z",
     "iopub.status.idle": "2022-02-05T12:50:32.924576Z",
     "shell.execute_reply": "2022-02-05T12:50:32.924982Z",
     "shell.execute_reply.started": "2022-02-05T12:49:47.155713Z"
    },
    "papermill": {
     "duration": 0.074085,
     "end_time": "2022-02-05T12:50:32.925108",
     "exception": false,
     "start_time": "2022-02-05T12:50:32.851023",
     "status": "completed"
    },
    "tags": []
   },
   "outputs": [
    {
     "name": "stdout",
     "output_type": "stream",
     "text": [
      "Accuracy score: 0.9415204678362573\n"
     ]
    }
   ],
   "source": [
    "from sklearn.metrics import accuracy_score\n",
    "acc1 = accuracy_score(y_test, y_pred)\n",
    "print(f\"Accuracy score: {acc1}\")"
   ]
  },
  {
   "cell_type": "markdown",
   "id": "1709be81",
   "metadata": {
    "papermill": {
     "duration": 0.069679,
     "end_time": "2022-02-05T12:50:33.061818",
     "exception": false,
     "start_time": "2022-02-05T12:50:32.992139",
     "status": "completed"
    },
    "tags": []
   },
   "source": [
    "# SVM"
   ]
  },
  {
   "cell_type": "code",
   "execution_count": 31,
   "id": "c367b1a2",
   "metadata": {
    "execution": {
     "iopub.execute_input": "2022-02-05T12:50:33.208082Z",
     "iopub.status.busy": "2022-02-05T12:50:33.207156Z",
     "iopub.status.idle": "2022-02-05T12:50:33.215571Z",
     "shell.execute_reply": "2022-02-05T12:50:33.216007Z",
     "shell.execute_reply.started": "2022-02-05T12:49:47.171204Z"
    },
    "papermill": {
     "duration": 0.082889,
     "end_time": "2022-02-05T12:50:33.216144",
     "exception": false,
     "start_time": "2022-02-05T12:50:33.133255",
     "status": "completed"
    },
    "tags": []
   },
   "outputs": [
    {
     "data": {
      "text/plain": [
       "SVC(kernel='linear', random_state=0)"
      ]
     },
     "execution_count": 31,
     "metadata": {},
     "output_type": "execute_result"
    }
   ],
   "source": [
    "from sklearn.svm import SVC\n",
    "classifier = SVC(kernel = 'linear', random_state = 0)\n",
    "classifier.fit(X_train, y_train)"
   ]
  },
  {
   "cell_type": "markdown",
   "id": "a4d34ca5",
   "metadata": {
    "papermill": {
     "duration": 0.068243,
     "end_time": "2022-02-05T12:50:33.351887",
     "exception": false,
     "start_time": "2022-02-05T12:50:33.283644",
     "status": "completed"
    },
    "tags": []
   },
   "source": [
    "# Predict the tset set result"
   ]
  },
  {
   "cell_type": "code",
   "execution_count": 32,
   "id": "bc35d60f",
   "metadata": {
    "execution": {
     "iopub.execute_input": "2022-02-05T12:50:33.488669Z",
     "iopub.status.busy": "2022-02-05T12:50:33.487884Z",
     "iopub.status.idle": "2022-02-05T12:50:33.495345Z",
     "shell.execute_reply": "2022-02-05T12:50:33.495770Z",
     "shell.execute_reply.started": "2022-02-05T12:49:47.186995Z"
    },
    "papermill": {
     "duration": 0.077258,
     "end_time": "2022-02-05T12:50:33.495911",
     "exception": false,
     "start_time": "2022-02-05T12:50:33.418653",
     "status": "completed"
    },
    "tags": []
   },
   "outputs": [
    {
     "name": "stdout",
     "output_type": "stream",
     "text": [
      "[[102   6]\n",
      " [  2  61]]\n"
     ]
    }
   ],
   "source": [
    "y_pred = classifier.predict(X_test)\n",
    "from sklearn.metrics import confusion_matrix, accuracy_score\n",
    "cm = confusion_matrix(y_test, y_pred)\n",
    "print(cm)"
   ]
  },
  {
   "cell_type": "code",
   "execution_count": 33,
   "id": "28eeb52f",
   "metadata": {
    "execution": {
     "iopub.execute_input": "2022-02-05T12:50:33.634526Z",
     "iopub.status.busy": "2022-02-05T12:50:33.633747Z",
     "iopub.status.idle": "2022-02-05T12:50:33.767430Z",
     "shell.execute_reply": "2022-02-05T12:50:33.768115Z",
     "shell.execute_reply.started": "2022-02-05T12:49:47.196508Z"
    },
    "papermill": {
     "duration": 0.204651,
     "end_time": "2022-02-05T12:50:33.768262",
     "exception": false,
     "start_time": "2022-02-05T12:50:33.563611",
     "status": "completed"
    },
    "tags": []
   },
   "outputs": [
    {
     "data": {
      "image/png": "[encoded data removed]",
      "text/plain": [
       "<Figure size 432x288 with 2 Axes>"
      ]
     },
     "metadata": {
      "needs_background": "light"
     },
     "output_type": "display_data"
    }
   ],
   "source": [
    "sns.heatmap(cm,annot=True)\n",
    "plt.show()"
   ]
  },
  {
   "cell_type": "code",
   "execution_count": 34,
   "id": "54ae06b8",
   "metadata": {
    "execution": {
     "iopub.execute_input": "2022-02-05T12:50:33.910514Z",
     "iopub.status.busy": "2022-02-05T12:50:33.909991Z",
     "iopub.status.idle": "2022-02-05T12:50:33.913025Z",
     "shell.execute_reply": "2022-02-05T12:50:33.913441Z",
     "shell.execute_reply.started": "2022-02-05T12:49:47.509397Z"
    },
    "papermill": {
     "duration": 0.075306,
     "end_time": "2022-02-05T12:50:33.913590",
     "exception": false,
     "start_time": "2022-02-05T12:50:33.838284",
     "status": "completed"
    },
    "tags": []
   },
   "outputs": [],
   "source": [
    "acc2 = accuracy_score(y_test, y_pred)"
   ]
  },
  {
   "cell_type": "code",
   "execution_count": 35,
   "id": "261d040f",
   "metadata": {
    "execution": {
     "iopub.execute_input": "2022-02-05T12:50:34.054477Z",
     "iopub.status.busy": "2022-02-05T12:50:34.053961Z",
     "iopub.status.idle": "2022-02-05T12:50:34.057353Z",
     "shell.execute_reply": "2022-02-05T12:50:34.056822Z",
     "shell.execute_reply.started": "2022-02-05T12:49:47.517055Z"
    },
    "papermill": {
     "duration": 0.075868,
     "end_time": "2022-02-05T12:50:34.057466",
     "exception": false,
     "start_time": "2022-02-05T12:50:33.981598",
     "status": "completed"
    },
    "tags": []
   },
   "outputs": [
    {
     "name": "stdout",
     "output_type": "stream",
     "text": [
      "Accuracy score: 0.9532163742690059\n"
     ]
    }
   ],
   "source": [
    "print(f\"Accuracy score: {acc2}\")"
   ]
  },
  {
   "cell_type": "markdown",
   "id": "346c83b6",
   "metadata": {
    "papermill": {
     "duration": 0.068376,
     "end_time": "2022-02-05T12:50:34.194323",
     "exception": false,
     "start_time": "2022-02-05T12:50:34.125947",
     "status": "completed"
    },
    "tags": []
   },
   "source": [
    "# Training the K-NN model on the Training set"
   ]
  },
  {
   "cell_type": "code",
   "execution_count": 36,
   "id": "ebe7e801",
   "metadata": {
    "execution": {
     "iopub.execute_input": "2022-02-05T12:50:34.339863Z",
     "iopub.status.busy": "2022-02-05T12:50:34.338988Z",
     "iopub.status.idle": "2022-02-05T12:50:34.396836Z",
     "shell.execute_reply": "2022-02-05T12:50:34.397296Z",
     "shell.execute_reply.started": "2022-02-05T12:49:47.532149Z"
    },
    "papermill": {
     "duration": 0.133066,
     "end_time": "2022-02-05T12:50:34.397441",
     "exception": false,
     "start_time": "2022-02-05T12:50:34.264375",
     "status": "completed"
    },
    "tags": []
   },
   "outputs": [
    {
     "data": {
      "text/plain": [
       "KNeighborsClassifier()"
      ]
     },
     "execution_count": 36,
     "metadata": {},
     "output_type": "execute_result"
    }
   ],
   "source": [
    "from sklearn.neighbors import KNeighborsClassifier\n",
    "classifier = KNeighborsClassifier(n_neighbors = 5, metric = 'minkowski', p = 2)\n",
    "classifier.fit(X_train, y_train)"
   ]
  },
  {
   "cell_type": "code",
   "execution_count": 37,
   "id": "b275dddf",
   "metadata": {
    "execution": {
     "iopub.execute_input": "2022-02-05T12:50:34.540312Z",
     "iopub.status.busy": "2022-02-05T12:50:34.539757Z",
     "iopub.status.idle": "2022-02-05T12:50:34.549432Z",
     "shell.execute_reply": "2022-02-05T12:50:34.548954Z",
     "shell.execute_reply.started": "2022-02-05T12:49:47.549530Z"
    },
    "papermill": {
     "duration": 0.083309,
     "end_time": "2022-02-05T12:50:34.549553",
     "exception": false,
     "start_time": "2022-02-05T12:50:34.466244",
     "status": "completed"
    },
    "tags": []
   },
   "outputs": [],
   "source": [
    "y_pred = classifier.predict(X_test)"
   ]
  },
  {
   "cell_type": "markdown",
   "id": "697d78a8",
   "metadata": {
    "papermill": {
     "duration": 0.068597,
     "end_time": "2022-02-05T12:50:34.686597",
     "exception": false,
     "start_time": "2022-02-05T12:50:34.618000",
     "status": "completed"
    },
    "tags": []
   },
   "source": [
    "# KNN confusion matrix"
   ]
  },
  {
   "cell_type": "code",
   "execution_count": 38,
   "id": "f0da543e",
   "metadata": {
    "execution": {
     "iopub.execute_input": "2022-02-05T12:50:34.830360Z",
     "iopub.status.busy": "2022-02-05T12:50:34.828818Z",
     "iopub.status.idle": "2022-02-05T12:50:34.833822Z",
     "shell.execute_reply": "2022-02-05T12:50:34.833196Z",
     "shell.execute_reply.started": "2022-02-05T12:49:47.582061Z"
    },
    "papermill": {
     "duration": 0.078419,
     "end_time": "2022-02-05T12:50:34.833970",
     "exception": false,
     "start_time": "2022-02-05T12:50:34.755551",
     "status": "completed"
    },
    "tags": []
   },
   "outputs": [
    {
     "name": "stdout",
     "output_type": "stream",
     "text": [
      "[[104   4]\n",
      " [  9  54]]\n"
     ]
    }
   ],
   "source": [
    "cm = confusion_matrix(y_test, y_pred)\n",
    "print(cm)"
   ]
  },
  {
   "cell_type": "code",
   "execution_count": 39,
   "id": "7442fa3b",
   "metadata": {
    "execution": {
     "iopub.execute_input": "2022-02-05T12:50:34.976633Z",
     "iopub.status.busy": "2022-02-05T12:50:34.975838Z",
     "iopub.status.idle": "2022-02-05T12:50:35.122206Z",
     "shell.execute_reply": "2022-02-05T12:50:35.123049Z",
     "shell.execute_reply.started": "2022-02-05T12:49:47.592723Z"
    },
    "papermill": {
     "duration": 0.218404,
     "end_time": "2022-02-05T12:50:35.123291",
     "exception": false,
     "start_time": "2022-02-05T12:50:34.904887",
     "status": "completed"
    },
    "tags": []
   },
   "outputs": [
    {
     "data": {
      "text/plain": [
       "<AxesSubplot:>"
      ]
     },
     "execution_count": 39,
     "metadata": {},
     "output_type": "execute_result"
    },
    {
     "data": {
      "image/png": "[encoded data removed]",
      "text/plain": [
       "<Figure size 432x288 with 2 Axes>"
      ]
     },
     "metadata": {
      "needs_background": "light"
     },
     "output_type": "display_data"
    }
   ],
   "source": [
    "sns.heatmap(cm,annot=True)"
   ]
  },
  {
   "cell_type": "code",
   "execution_count": 40,
   "id": "3d3216e3",
   "metadata": {
    "execution": {
     "iopub.execute_input": "2022-02-05T12:50:35.269255Z",
     "iopub.status.busy": "2022-02-05T12:50:35.268761Z",
     "iopub.status.idle": "2022-02-05T12:50:35.271918Z",
     "shell.execute_reply": "2022-02-05T12:50:35.272398Z",
     "shell.execute_reply.started": "2022-02-05T12:49:47.992823Z"
    },
    "papermill": {
     "duration": 0.075057,
     "end_time": "2022-02-05T12:50:35.272542",
     "exception": false,
     "start_time": "2022-02-05T12:50:35.197485",
     "status": "completed"
    },
    "tags": []
   },
   "outputs": [],
   "source": [
    "from sklearn.metrics import  accuracy_score\n",
    "acc3 = accuracy_score(y_test, y_pred)"
   ]
  },
  {
   "cell_type": "code",
   "execution_count": 41,
   "id": "44c92179",
   "metadata": {
    "execution": {
     "iopub.execute_input": "2022-02-05T12:50:35.419107Z",
     "iopub.status.busy": "2022-02-05T12:50:35.418354Z",
     "iopub.status.idle": "2022-02-05T12:50:35.421044Z",
     "shell.execute_reply": "2022-02-05T12:50:35.421444Z",
     "shell.execute_reply.started": "2022-02-05T12:49:48.004085Z"
    },
    "papermill": {
     "duration": 0.078208,
     "end_time": "2022-02-05T12:50:35.421600",
     "exception": false,
     "start_time": "2022-02-05T12:50:35.343392",
     "status": "completed"
    },
    "tags": []
   },
   "outputs": [
    {
     "name": "stdout",
     "output_type": "stream",
     "text": [
      "Accuracy score: 0.9239766081871345\n"
     ]
    }
   ],
   "source": [
    "print(f\"Accuracy score: {acc3}\")"
   ]
  },
  {
   "cell_type": "markdown",
   "id": "bb56c857",
   "metadata": {
    "papermill": {
     "duration": 0.069285,
     "end_time": "2022-02-05T12:50:35.559988",
     "exception": false,
     "start_time": "2022-02-05T12:50:35.490703",
     "status": "completed"
    },
    "tags": []
   },
   "source": [
    "# Training the Naive Bayes on the Training set"
   ]
  },
  {
   "cell_type": "code",
   "execution_count": 42,
   "id": "c7c736a4",
   "metadata": {
    "execution": {
     "iopub.execute_input": "2022-02-05T12:50:35.702670Z",
     "iopub.status.busy": "2022-02-05T12:50:35.702169Z",
     "iopub.status.idle": "2022-02-05T12:50:35.709852Z",
     "shell.execute_reply": "2022-02-05T12:50:35.710389Z",
     "shell.execute_reply.started": "2022-02-05T12:49:48.013197Z"
    },
    "papermill": {
     "duration": 0.081738,
     "end_time": "2022-02-05T12:50:35.710548",
     "exception": false,
     "start_time": "2022-02-05T12:50:35.628810",
     "status": "completed"
    },
    "tags": []
   },
   "outputs": [
    {
     "data": {
      "text/plain": [
       "GaussianNB()"
      ]
     },
     "execution_count": 42,
     "metadata": {},
     "output_type": "execute_result"
    }
   ],
   "source": [
    "from sklearn.naive_bayes import GaussianNB\n",
    "classifier = GaussianNB()\n",
    "classifier.fit(X_train, y_train)"
   ]
  },
  {
   "cell_type": "code",
   "execution_count": 43,
   "id": "4cbfd9c2",
   "metadata": {
    "execution": {
     "iopub.execute_input": "2022-02-05T12:50:35.852732Z",
     "iopub.status.busy": "2022-02-05T12:50:35.852235Z",
     "iopub.status.idle": "2022-02-05T12:50:35.857313Z",
     "shell.execute_reply": "2022-02-05T12:50:35.858056Z",
     "shell.execute_reply.started": "2022-02-05T12:49:48.029548Z"
    },
    "papermill": {
     "duration": 0.078067,
     "end_time": "2022-02-05T12:50:35.858262",
     "exception": false,
     "start_time": "2022-02-05T12:50:35.780195",
     "status": "completed"
    },
    "tags": []
   },
   "outputs": [
    {
     "name": "stdout",
     "output_type": "stream",
     "text": [
      "[[101   7]\n",
      " [  8  55]]\n"
     ]
    }
   ],
   "source": [
    "y_pred = classifier.predict(X_test)\n",
    "cm = confusion_matrix(y_test, y_pred)\n",
    "print(cm)"
   ]
  },
  {
   "cell_type": "code",
   "execution_count": 44,
   "id": "ade9fcea",
   "metadata": {
    "execution": {
     "iopub.execute_input": "2022-02-05T12:50:36.004542Z",
     "iopub.status.busy": "2022-02-05T12:50:36.003984Z",
     "iopub.status.idle": "2022-02-05T12:50:36.007265Z",
     "shell.execute_reply": "2022-02-05T12:50:36.007811Z",
     "shell.execute_reply.started": "2022-02-05T12:49:48.043520Z"
    },
    "papermill": {
     "duration": 0.078711,
     "end_time": "2022-02-05T12:50:36.007947",
     "exception": false,
     "start_time": "2022-02-05T12:50:35.929236",
     "status": "completed"
    },
    "tags": []
   },
   "outputs": [
    {
     "name": "stdout",
     "output_type": "stream",
     "text": [
      "Accuracy score : 0.9122807017543859\n"
     ]
    }
   ],
   "source": [
    "acc4 = accuracy_score(y_test, y_pred)\n",
    "print(f\"Accuracy score : {acc4}\")"
   ]
  },
  {
   "cell_type": "markdown",
   "id": "3f345b53",
   "metadata": {
    "papermill": {
     "duration": 0.071036,
     "end_time": "2022-02-05T12:50:36.150674",
     "exception": false,
     "start_time": "2022-02-05T12:50:36.079638",
     "status": "completed"
    },
    "tags": []
   },
   "source": [
    "# Training Decision Tree Classification on Train set"
   ]
  },
  {
   "cell_type": "code",
   "execution_count": 45,
   "id": "4c2c00c7",
   "metadata": {
    "execution": {
     "iopub.execute_input": "2022-02-05T12:50:36.296933Z",
     "iopub.status.busy": "2022-02-05T12:50:36.296375Z",
     "iopub.status.idle": "2022-02-05T12:50:36.327540Z",
     "shell.execute_reply": "2022-02-05T12:50:36.328078Z",
     "shell.execute_reply.started": "2022-02-05T12:49:48.055746Z"
    },
    "papermill": {
     "duration": 0.106444,
     "end_time": "2022-02-05T12:50:36.328236",
     "exception": false,
     "start_time": "2022-02-05T12:50:36.221792",
     "status": "completed"
    },
    "tags": []
   },
   "outputs": [
    {
     "data": {
      "text/plain": [
       "DecisionTreeClassifier(criterion='entropy', random_state=0)"
      ]
     },
     "execution_count": 45,
     "metadata": {},
     "output_type": "execute_result"
    }
   ],
   "source": [
    "from sklearn.tree import DecisionTreeClassifier\n",
    "classifier = DecisionTreeClassifier(criterion = 'entropy', random_state = 0)\n",
    "classifier.fit(X_train, y_train)"
   ]
  },
  {
   "cell_type": "code",
   "execution_count": 46,
   "id": "af7088e9",
   "metadata": {
    "execution": {
     "iopub.execute_input": "2022-02-05T12:50:36.527902Z",
     "iopub.status.busy": "2022-02-05T12:50:36.527016Z",
     "iopub.status.idle": "2022-02-05T12:50:36.529968Z",
     "shell.execute_reply": "2022-02-05T12:50:36.530477Z",
     "shell.execute_reply.started": "2022-02-05T12:49:48.075463Z"
    },
    "papermill": {
     "duration": 0.130469,
     "end_time": "2022-02-05T12:50:36.530635",
     "exception": false,
     "start_time": "2022-02-05T12:50:36.400166",
     "status": "completed"
    },
    "tags": []
   },
   "outputs": [],
   "source": [
    "y_pred = classifier.predict(X_test)"
   ]
  },
  {
   "cell_type": "code",
   "execution_count": 47,
   "id": "a348393b",
   "metadata": {
    "execution": {
     "iopub.execute_input": "2022-02-05T12:50:36.678845Z",
     "iopub.status.busy": "2022-02-05T12:50:36.678113Z",
     "iopub.status.idle": "2022-02-05T12:50:36.683857Z",
     "shell.execute_reply": "2022-02-05T12:50:36.684526Z",
     "shell.execute_reply.started": "2022-02-05T12:49:48.081244Z"
    },
    "papermill": {
     "duration": 0.080926,
     "end_time": "2022-02-05T12:50:36.684707",
     "exception": false,
     "start_time": "2022-02-05T12:50:36.603781",
     "status": "completed"
    },
    "tags": []
   },
   "outputs": [
    {
     "name": "stdout",
     "output_type": "stream",
     "text": [
      "Accuracy score: 0.8830409356725146\n"
     ]
    }
   ],
   "source": [
    "acc5 = accuracy_score(y_test, y_pred)\n",
    "print(f\"Accuracy score: {acc5}\")"
   ]
  },
  {
   "cell_type": "markdown",
   "id": "c25f0fa2",
   "metadata": {
    "papermill": {
     "duration": 0.071729,
     "end_time": "2022-02-05T12:50:36.839652",
     "exception": false,
     "start_time": "2022-02-05T12:50:36.767923",
     "status": "completed"
    },
    "tags": []
   },
   "source": [
    "# XG Boost"
   ]
  },
  {
   "cell_type": "code",
   "execution_count": 48,
   "id": "56aeaa73",
   "metadata": {
    "execution": {
     "iopub.execute_input": "2022-02-05T12:50:36.984810Z",
     "iopub.status.busy": "2022-02-05T12:50:36.984265Z",
     "iopub.status.idle": "2022-02-05T12:50:37.411239Z",
     "shell.execute_reply": "2022-02-05T12:50:37.410817Z",
     "shell.execute_reply.started": "2022-02-05T12:49:48.094968Z"
    },
    "papermill": {
     "duration": 0.500237,
     "end_time": "2022-02-05T12:50:37.411383",
     "exception": false,
     "start_time": "2022-02-05T12:50:36.911146",
     "status": "completed"
    },
    "tags": []
   },
   "outputs": [
    {
     "name": "stderr",
     "output_type": "stream",
     "text": [
      "/opt/conda/lib/python3.7/site-packages/xgboost/sklearn.py:1224: UserWarning: The use of label encoder in XGBClassifier is deprecated and will be removed in a future release. To remove this warning, do the following: 1) Pass option use_label_encoder=False when constructing XGBClassifier object; and 2) Encode your labels (y) as integers starting with 0, i.e. 0, 1, 2, ..., [num_class - 1].\n",
      "  warnings.warn(label_encoder_deprecation_msg, UserWarning)\n"
     ]
    },
    {
     "name": "stdout",
     "output_type": "stream",
     "text": [
      "[12:50:37] WARNING: ../src/learner.cc:1115: Starting in XGBoost 1.3.0, the default evaluation metric used with the objective 'binary:logistic' was changed from 'error' to 'logloss'. Explicitly set eval_metric if you'd like to restore the old behavior.\n"
     ]
    },
    {
     "data": {
      "text/plain": [
       "XGBClassifier(base_score=0.5, booster='gbtree', colsample_bylevel=1,\n",
       "              colsample_bynode=1, colsample_bytree=1, enable_categorical=False,\n",
       "              gamma=0, gpu_id=-1, importance_type=None,\n",
       "              interaction_constraints='', learning_rate=0.300000012,\n",
       "              max_delta_step=0, max_depth=6, min_child_weight=1, missing=nan,\n",
       "              monotone_constraints='()', n_estimators=100, n_jobs=4,\n",
       "              num_parallel_tree=1, predictor='auto', random_state=0,\n",
       "              reg_alpha=0, reg_lambda=1, scale_pos_weight=1, subsample=1,\n",
       "              tree_method='exact', validate_parameters=1, verbosity=None)"
      ]
     },
     "execution_count": 48,
     "metadata": {},
     "output_type": "execute_result"
    }
   ],
   "source": [
    "from xgboost import XGBClassifier\n",
    "classifier = XGBClassifier()\n",
    "classifier.fit(X_train, y_train)"
   ]
  },
  {
   "cell_type": "markdown",
   "id": "9ba6a2b8",
   "metadata": {
    "papermill": {
     "duration": 0.071329,
     "end_time": "2022-02-05T12:50:37.556605",
     "exception": false,
     "start_time": "2022-02-05T12:50:37.485276",
     "status": "completed"
    },
    "tags": []
   },
   "source": [
    "# XG Boost Classifier confusion matrix"
   ]
  },
  {
   "cell_type": "code",
   "execution_count": 49,
   "id": "28eb2b83",
   "metadata": {
    "execution": {
     "iopub.execute_input": "2022-02-05T12:50:37.705301Z",
     "iopub.status.busy": "2022-02-05T12:50:37.704795Z",
     "iopub.status.idle": "2022-02-05T12:50:37.717931Z",
     "shell.execute_reply": "2022-02-05T12:50:37.718467Z",
     "shell.execute_reply.started": "2022-02-05T12:49:48.511335Z"
    },
    "papermill": {
     "duration": 0.090126,
     "end_time": "2022-02-05T12:50:37.718644",
     "exception": false,
     "start_time": "2022-02-05T12:50:37.628518",
     "status": "completed"
    },
    "tags": []
   },
   "outputs": [
    {
     "name": "stdout",
     "output_type": "stream",
     "text": [
      "[[101   7]\n",
      " [  4  59]]\n"
     ]
    }
   ],
   "source": [
    "y_pred = classifier.predict(X_test)\n",
    "cm = confusion_matrix(y_test, y_pred)\n",
    "print(cm)\n",
    "acc7 = accuracy_score(y_test, y_pred)"
   ]
  },
  {
   "cell_type": "code",
   "execution_count": 50,
   "id": "e025f29e",
   "metadata": {
    "execution": {
     "iopub.execute_input": "2022-02-05T12:50:37.868645Z",
     "iopub.status.busy": "2022-02-05T12:50:37.867976Z",
     "iopub.status.idle": "2022-02-05T12:50:37.870529Z",
     "shell.execute_reply": "2022-02-05T12:50:37.870958Z",
     "shell.execute_reply.started": "2022-02-05T12:49:48.528068Z"
    },
    "papermill": {
     "duration": 0.079338,
     "end_time": "2022-02-05T12:50:37.871088",
     "exception": false,
     "start_time": "2022-02-05T12:50:37.791750",
     "status": "completed"
    },
    "tags": []
   },
   "outputs": [
    {
     "name": "stdout",
     "output_type": "stream",
     "text": [
      "By XG Boost classifier Acc: 0.935672514619883\n"
     ]
    }
   ],
   "source": [
    "print(f\"By XG Boost classifier Acc: {acc7}\")"
   ]
  },
  {
   "cell_type": "markdown",
   "id": "63c515ef",
   "metadata": {
    "papermill": {
     "duration": 0.071865,
     "end_time": "2022-02-05T12:50:38.015429",
     "exception": false,
     "start_time": "2022-02-05T12:50:37.943564",
     "status": "completed"
    },
    "tags": []
   },
   "source": [
    "# Training CatBoost on the Training set"
   ]
  },
  {
   "cell_type": "code",
   "execution_count": 51,
   "id": "600774f6",
   "metadata": {
    "execution": {
     "iopub.execute_input": "2022-02-05T12:50:38.164579Z",
     "iopub.status.busy": "2022-02-05T12:50:38.163795Z",
     "iopub.status.idle": "2022-02-05T12:50:40.573001Z",
     "shell.execute_reply": "2022-02-05T12:50:40.571888Z",
     "shell.execute_reply.started": "2022-02-05T12:49:48.536839Z"
    },
    "papermill": {
     "duration": 2.485034,
     "end_time": "2022-02-05T12:50:40.573207",
     "exception": false,
     "start_time": "2022-02-05T12:50:38.088173",
     "status": "completed"
    },
    "tags": []
   },
   "outputs": [
    {
     "name": "stdout",
     "output_type": "stream",
     "text": [
      "Learning rate set to 0.006952\n",
      "0:\tlearn: 0.6872257\ttotal: 52.3ms\tremaining: 52.3s\n",
      "1:\tlearn: 0.6786744\ttotal: 54.4ms\tremaining: 27.2s\n",
      "2:\tlearn: 0.6705192\ttotal: 56.4ms\tremaining: 18.8s\n",
      "3:\tlearn: 0.6620977\ttotal: 58.4ms\tremaining: 14.6s\n",
      "4:\tlearn: 0.6532980\ttotal: 60.5ms\tremaining: 12s\n",
      "5:\tlearn: 0.6468802\ttotal: 62.4ms\tremaining: 10.3s\n",
      "6:\tlearn: 0.6393615\ttotal: 64.3ms\tremaining: 9.13s\n",
      "7:\tlearn: 0.6311684\ttotal: 66.3ms\tremaining: 8.22s\n",
      "8:\tlearn: 0.6234231\ttotal: 68.3ms\tremaining: 7.52s\n",
      "9:\tlearn: 0.6163330\ttotal: 70.3ms\tremaining: 6.96s\n",
      "10:\tlearn: 0.6089128\ttotal: 72.4ms\tremaining: 6.51s\n",
      "11:\tlearn: 0.6015497\ttotal: 74.5ms\tremaining: 6.13s\n",
      "12:\tlearn: 0.5948480\ttotal: 76.6ms\tremaining: 5.82s\n",
      "13:\tlearn: 0.5898760\ttotal: 78.7ms\tremaining: 5.54s\n",
      "14:\tlearn: 0.5831610\ttotal: 80.7ms\tremaining: 5.3s\n",
      "15:\tlearn: 0.5758292\ttotal: 82.8ms\tremaining: 5.09s\n",
      "16:\tlearn: 0.5685212\ttotal: 84.9ms\tremaining: 4.91s\n",
      "17:\tlearn: 0.5618828\ttotal: 86.9ms\tremaining: 4.74s\n",
      "18:\tlearn: 0.5552386\ttotal: 89ms\tremaining: 4.59s\n",
      "19:\tlearn: 0.5493652\ttotal: 91.1ms\tremaining: 4.46s\n",
      "20:\tlearn: 0.5431387\ttotal: 93ms\tremaining: 4.34s\n",
      "21:\tlearn: 0.5368236\ttotal: 95.5ms\tremaining: 4.24s\n",
      "22:\tlearn: 0.5307984\ttotal: 97.8ms\tremaining: 4.15s\n",
      "23:\tlearn: 0.5242913\ttotal: 99.9ms\tremaining: 4.06s\n",
      "24:\tlearn: 0.5183933\ttotal: 102ms\tremaining: 3.98s\n",
      "25:\tlearn: 0.5137445\ttotal: 104ms\tremaining: 3.9s\n",
      "26:\tlearn: 0.5073365\ttotal: 106ms\tremaining: 3.83s\n",
      "27:\tlearn: 0.5019645\ttotal: 108ms\tremaining: 3.76s\n",
      "28:\tlearn: 0.4965705\ttotal: 111ms\tremaining: 3.7s\n",
      "29:\tlearn: 0.4911360\ttotal: 113ms\tremaining: 3.64s\n",
      "30:\tlearn: 0.4866984\ttotal: 115ms\tremaining: 3.58s\n",
      "31:\tlearn: 0.4820905\ttotal: 117ms\tremaining: 3.53s\n",
      "32:\tlearn: 0.4763433\ttotal: 119ms\tremaining: 3.48s\n",
      "33:\tlearn: 0.4706477\ttotal: 121ms\tremaining: 3.45s\n",
      "34:\tlearn: 0.4663242\ttotal: 125ms\tremaining: 3.44s\n",
      "35:\tlearn: 0.4617307\ttotal: 129ms\tremaining: 3.45s\n",
      "36:\tlearn: 0.4568294\ttotal: 132ms\tremaining: 3.44s\n",
      "37:\tlearn: 0.4525568\ttotal: 134ms\tremaining: 3.4s\n",
      "38:\tlearn: 0.4477438\ttotal: 136ms\tremaining: 3.36s\n",
      "39:\tlearn: 0.4436091\ttotal: 138ms\tremaining: 3.32s\n",
      "40:\tlearn: 0.4394744\ttotal: 140ms\tremaining: 3.28s\n",
      "41:\tlearn: 0.4343501\ttotal: 142ms\tremaining: 3.25s\n",
      "42:\tlearn: 0.4294568\ttotal: 144ms\tremaining: 3.21s\n",
      "43:\tlearn: 0.4252782\ttotal: 146ms\tremaining: 3.18s\n",
      "44:\tlearn: 0.4213756\ttotal: 148ms\tremaining: 3.15s\n",
      "45:\tlearn: 0.4176532\ttotal: 150ms\tremaining: 3.12s\n",
      "46:\tlearn: 0.4142414\ttotal: 152ms\tremaining: 3.09s\n",
      "47:\tlearn: 0.4107456\ttotal: 154ms\tremaining: 3.06s\n",
      "48:\tlearn: 0.4068177\ttotal: 157ms\tremaining: 3.04s\n",
      "49:\tlearn: 0.4030750\ttotal: 159ms\tremaining: 3.01s\n",
      "50:\tlearn: 0.3993740\ttotal: 161ms\tremaining: 2.99s\n",
      "51:\tlearn: 0.3952532\ttotal: 163ms\tremaining: 2.97s\n",
      "52:\tlearn: 0.3917346\ttotal: 165ms\tremaining: 2.94s\n",
      "53:\tlearn: 0.3876595\ttotal: 167ms\tremaining: 2.92s\n",
      "54:\tlearn: 0.3835963\ttotal: 169ms\tremaining: 2.9s\n",
      "55:\tlearn: 0.3798586\ttotal: 171ms\tremaining: 2.87s\n",
      "56:\tlearn: 0.3761535\ttotal: 172ms\tremaining: 2.85s\n",
      "57:\tlearn: 0.3729703\ttotal: 174ms\tremaining: 2.83s\n",
      "58:\tlearn: 0.3694932\ttotal: 176ms\tremaining: 2.81s\n",
      "59:\tlearn: 0.3654565\ttotal: 179ms\tremaining: 2.8s\n",
      "60:\tlearn: 0.3620753\ttotal: 180ms\tremaining: 2.78s\n",
      "61:\tlearn: 0.3587327\ttotal: 182ms\tremaining: 2.76s\n",
      "62:\tlearn: 0.3542901\ttotal: 184ms\tremaining: 2.74s\n",
      "63:\tlearn: 0.3511856\ttotal: 186ms\tremaining: 2.72s\n",
      "64:\tlearn: 0.3477541\ttotal: 188ms\tremaining: 2.71s\n",
      "65:\tlearn: 0.3449036\ttotal: 191ms\tremaining: 2.7s\n",
      "66:\tlearn: 0.3420953\ttotal: 194ms\tremaining: 2.7s\n",
      "67:\tlearn: 0.3391803\ttotal: 196ms\tremaining: 2.69s\n",
      "68:\tlearn: 0.3356330\ttotal: 198ms\tremaining: 2.68s\n",
      "69:\tlearn: 0.3329064\ttotal: 200ms\tremaining: 2.66s\n",
      "70:\tlearn: 0.3301807\ttotal: 203ms\tremaining: 2.65s\n",
      "71:\tlearn: 0.3281757\ttotal: 205ms\tremaining: 2.64s\n",
      "72:\tlearn: 0.3258437\ttotal: 207ms\tremaining: 2.62s\n",
      "73:\tlearn: 0.3228365\ttotal: 209ms\tremaining: 2.61s\n",
      "74:\tlearn: 0.3197956\ttotal: 211ms\tremaining: 2.6s\n",
      "75:\tlearn: 0.3171008\ttotal: 213ms\tremaining: 2.59s\n",
      "76:\tlearn: 0.3139403\ttotal: 215ms\tremaining: 2.58s\n",
      "77:\tlearn: 0.3109150\ttotal: 217ms\tremaining: 2.56s\n",
      "78:\tlearn: 0.3083433\ttotal: 219ms\tremaining: 2.55s\n",
      "79:\tlearn: 0.3058189\ttotal: 221ms\tremaining: 2.54s\n",
      "80:\tlearn: 0.3034287\ttotal: 223ms\tremaining: 2.53s\n",
      "81:\tlearn: 0.3010674\ttotal: 225ms\tremaining: 2.52s\n",
      "82:\tlearn: 0.2987518\ttotal: 228ms\tremaining: 2.51s\n",
      "83:\tlearn: 0.2964455\ttotal: 229ms\tremaining: 2.5s\n",
      "84:\tlearn: 0.2933089\ttotal: 231ms\tremaining: 2.49s\n",
      "85:\tlearn: 0.2909882\ttotal: 233ms\tremaining: 2.48s\n",
      "86:\tlearn: 0.2886906\ttotal: 235ms\tremaining: 2.47s\n",
      "87:\tlearn: 0.2866173\ttotal: 238ms\tremaining: 2.46s\n",
      "88:\tlearn: 0.2846575\ttotal: 240ms\tremaining: 2.45s\n",
      "89:\tlearn: 0.2819809\ttotal: 242ms\tremaining: 2.44s\n",
      "90:\tlearn: 0.2795437\ttotal: 244ms\tremaining: 2.44s\n",
      "91:\tlearn: 0.2773528\ttotal: 246ms\tremaining: 2.43s\n",
      "92:\tlearn: 0.2754627\ttotal: 248ms\tremaining: 2.42s\n",
      "93:\tlearn: 0.2734196\ttotal: 250ms\tremaining: 2.41s\n",
      "94:\tlearn: 0.2712984\ttotal: 252ms\tremaining: 2.4s\n",
      "95:\tlearn: 0.2691621\ttotal: 254ms\tremaining: 2.39s\n",
      "96:\tlearn: 0.2672347\ttotal: 256ms\tremaining: 2.38s\n",
      "97:\tlearn: 0.2650335\ttotal: 258ms\tremaining: 2.38s\n",
      "98:\tlearn: 0.2634989\ttotal: 260ms\tremaining: 2.37s\n",
      "99:\tlearn: 0.2616858\ttotal: 262ms\tremaining: 2.36s\n",
      "100:\tlearn: 0.2599785\ttotal: 264ms\tremaining: 2.35s\n",
      "101:\tlearn: 0.2585787\ttotal: 266ms\tremaining: 2.34s\n",
      "102:\tlearn: 0.2567545\ttotal: 268ms\tremaining: 2.33s\n",
      "103:\tlearn: 0.2548251\ttotal: 270ms\tremaining: 2.33s\n",
      "104:\tlearn: 0.2528521\ttotal: 272ms\tremaining: 2.32s\n",
      "105:\tlearn: 0.2510983\ttotal: 274ms\tremaining: 2.31s\n",
      "106:\tlearn: 0.2494886\ttotal: 276ms\tremaining: 2.31s\n",
      "107:\tlearn: 0.2480654\ttotal: 278ms\tremaining: 2.3s\n",
      "108:\tlearn: 0.2462451\ttotal: 280ms\tremaining: 2.29s\n",
      "109:\tlearn: 0.2448037\ttotal: 282ms\tremaining: 2.28s\n",
      "110:\tlearn: 0.2430169\ttotal: 284ms\tremaining: 2.28s\n",
      "111:\tlearn: 0.2413987\ttotal: 286ms\tremaining: 2.27s\n",
      "112:\tlearn: 0.2402317\ttotal: 288ms\tremaining: 2.26s\n",
      "113:\tlearn: 0.2387160\ttotal: 290ms\tremaining: 2.26s\n",
      "114:\tlearn: 0.2376112\ttotal: 292ms\tremaining: 2.25s\n",
      "115:\tlearn: 0.2362261\ttotal: 294ms\tremaining: 2.24s\n",
      "116:\tlearn: 0.2349261\ttotal: 296ms\tremaining: 2.23s\n",
      "117:\tlearn: 0.2333678\ttotal: 298ms\tremaining: 2.23s\n",
      "118:\tlearn: 0.2315314\ttotal: 300ms\tremaining: 2.22s\n",
      "119:\tlearn: 0.2303193\ttotal: 302ms\tremaining: 2.22s\n",
      "120:\tlearn: 0.2287698\ttotal: 304ms\tremaining: 2.21s\n",
      "121:\tlearn: 0.2271512\ttotal: 306ms\tremaining: 2.2s\n",
      "122:\tlearn: 0.2258657\ttotal: 308ms\tremaining: 2.19s\n",
      "123:\tlearn: 0.2246156\ttotal: 310ms\tremaining: 2.19s\n",
      "124:\tlearn: 0.2231252\ttotal: 312ms\tremaining: 2.18s\n",
      "125:\tlearn: 0.2220528\ttotal: 314ms\tremaining: 2.18s\n",
      "126:\tlearn: 0.2203703\ttotal: 316ms\tremaining: 2.17s\n",
      "127:\tlearn: 0.2187162\ttotal: 318ms\tremaining: 2.17s\n",
      "128:\tlearn: 0.2178739\ttotal: 320ms\tremaining: 2.16s\n",
      "129:\tlearn: 0.2166234\ttotal: 322ms\tremaining: 2.15s\n",
      "130:\tlearn: 0.2152277\ttotal: 324ms\tremaining: 2.15s\n",
      "131:\tlearn: 0.2138645\ttotal: 326ms\tremaining: 2.14s\n",
      "132:\tlearn: 0.2126486\ttotal: 328ms\tremaining: 2.14s\n",
      "133:\tlearn: 0.2109346\ttotal: 330ms\tremaining: 2.13s\n",
      "134:\tlearn: 0.2097299\ttotal: 332ms\tremaining: 2.13s\n",
      "135:\tlearn: 0.2083582\ttotal: 334ms\tremaining: 2.12s\n",
      "136:\tlearn: 0.2068951\ttotal: 336ms\tremaining: 2.12s\n",
      "137:\tlearn: 0.2058296\ttotal: 338ms\tremaining: 2.11s\n",
      "138:\tlearn: 0.2045486\ttotal: 340ms\tremaining: 2.11s\n",
      "139:\tlearn: 0.2033914\ttotal: 342ms\tremaining: 2.1s\n",
      "140:\tlearn: 0.2022607\ttotal: 344ms\tremaining: 2.1s\n",
      "141:\tlearn: 0.2010841\ttotal: 346ms\tremaining: 2.09s\n",
      "142:\tlearn: 0.2001053\ttotal: 348ms\tremaining: 2.09s\n",
      "143:\tlearn: 0.1988932\ttotal: 351ms\tremaining: 2.08s\n",
      "144:\tlearn: 0.1976430\ttotal: 353ms\tremaining: 2.08s\n",
      "145:\tlearn: 0.1965685\ttotal: 355ms\tremaining: 2.07s\n",
      "146:\tlearn: 0.1956399\ttotal: 357ms\tremaining: 2.07s\n",
      "147:\tlearn: 0.1943110\ttotal: 359ms\tremaining: 2.06s\n",
      "148:\tlearn: 0.1929826\ttotal: 361ms\tremaining: 2.06s\n",
      "149:\tlearn: 0.1922351\ttotal: 363ms\tremaining: 2.06s\n",
      "150:\tlearn: 0.1912651\ttotal: 365ms\tremaining: 2.05s\n",
      "151:\tlearn: 0.1896930\ttotal: 367ms\tremaining: 2.04s\n",
      "152:\tlearn: 0.1883630\ttotal: 368ms\tremaining: 2.04s\n",
      "153:\tlearn: 0.1871686\ttotal: 370ms\tremaining: 2.03s\n",
      "154:\tlearn: 0.1862241\ttotal: 372ms\tremaining: 2.03s\n",
      "155:\tlearn: 0.1851185\ttotal: 374ms\tremaining: 2.02s\n",
      "156:\tlearn: 0.1839954\ttotal: 376ms\tremaining: 2.02s\n",
      "157:\tlearn: 0.1830392\ttotal: 378ms\tremaining: 2.02s\n",
      "158:\tlearn: 0.1823950\ttotal: 382ms\tremaining: 2.02s\n",
      "159:\tlearn: 0.1815921\ttotal: 385ms\tremaining: 2.02s\n",
      "160:\tlearn: 0.1805744\ttotal: 387ms\tremaining: 2.02s\n",
      "161:\tlearn: 0.1795644\ttotal: 389ms\tremaining: 2.01s\n",
      "162:\tlearn: 0.1785357\ttotal: 391ms\tremaining: 2.01s\n",
      "163:\tlearn: 0.1776902\ttotal: 393ms\tremaining: 2s\n",
      "164:\tlearn: 0.1765832\ttotal: 395ms\tremaining: 2s\n",
      "165:\tlearn: 0.1757769\ttotal: 397ms\tremaining: 1.99s\n",
      "166:\tlearn: 0.1749083\ttotal: 399ms\tremaining: 1.99s\n",
      "167:\tlearn: 0.1738844\ttotal: 401ms\tremaining: 1.98s\n",
      "168:\tlearn: 0.1731923\ttotal: 403ms\tremaining: 1.98s\n",
      "169:\tlearn: 0.1722832\ttotal: 405ms\tremaining: 1.98s\n",
      "170:\tlearn: 0.1711898\ttotal: 407ms\tremaining: 1.97s\n",
      "171:\tlearn: 0.1703961\ttotal: 409ms\tremaining: 1.97s\n",
      "172:\tlearn: 0.1695808\ttotal: 411ms\tremaining: 1.96s\n",
      "173:\tlearn: 0.1689373\ttotal: 413ms\tremaining: 1.96s\n",
      "174:\tlearn: 0.1680552\ttotal: 415ms\tremaining: 1.95s\n",
      "175:\tlearn: 0.1672968\ttotal: 417ms\tremaining: 1.95s\n",
      "176:\tlearn: 0.1663222\ttotal: 419ms\tremaining: 1.95s\n",
      "177:\tlearn: 0.1654416\ttotal: 421ms\tremaining: 1.94s\n",
      "178:\tlearn: 0.1646247\ttotal: 423ms\tremaining: 1.94s\n",
      "179:\tlearn: 0.1639652\ttotal: 425ms\tremaining: 1.93s\n",
      "180:\tlearn: 0.1630339\ttotal: 427ms\tremaining: 1.93s\n",
      "181:\tlearn: 0.1621320\ttotal: 429ms\tremaining: 1.93s\n",
      "182:\tlearn: 0.1612931\ttotal: 431ms\tremaining: 1.92s\n",
      "183:\tlearn: 0.1603407\ttotal: 433ms\tremaining: 1.92s\n",
      "184:\tlearn: 0.1595033\ttotal: 435ms\tremaining: 1.91s\n",
      "185:\tlearn: 0.1588464\ttotal: 437ms\tremaining: 1.91s\n",
      "186:\tlearn: 0.1579806\ttotal: 439ms\tremaining: 1.91s\n",
      "187:\tlearn: 0.1571740\ttotal: 441ms\tremaining: 1.9s\n",
      "188:\tlearn: 0.1567266\ttotal: 443ms\tremaining: 1.9s\n",
      "189:\tlearn: 0.1560153\ttotal: 445ms\tremaining: 1.9s\n",
      "190:\tlearn: 0.1554166\ttotal: 447ms\tremaining: 1.89s\n",
      "191:\tlearn: 0.1548179\ttotal: 449ms\tremaining: 1.89s\n",
      "192:\tlearn: 0.1540892\ttotal: 450ms\tremaining: 1.88s\n",
      "193:\tlearn: 0.1534414\ttotal: 452ms\tremaining: 1.88s\n",
      "194:\tlearn: 0.1526727\ttotal: 454ms\tremaining: 1.88s\n",
      "195:\tlearn: 0.1519974\ttotal: 457ms\tremaining: 1.87s\n",
      "196:\tlearn: 0.1514418\ttotal: 459ms\tremaining: 1.87s\n",
      "197:\tlearn: 0.1509109\ttotal: 460ms\tremaining: 1.86s\n",
      "198:\tlearn: 0.1502586\ttotal: 462ms\tremaining: 1.86s\n",
      "199:\tlearn: 0.1496015\ttotal: 464ms\tremaining: 1.86s\n",
      "200:\tlearn: 0.1489280\ttotal: 466ms\tremaining: 1.85s\n",
      "201:\tlearn: 0.1483005\ttotal: 468ms\tremaining: 1.85s\n",
      "202:\tlearn: 0.1476212\ttotal: 470ms\tremaining: 1.85s\n",
      "203:\tlearn: 0.1470130\ttotal: 472ms\tremaining: 1.84s\n",
      "204:\tlearn: 0.1463392\ttotal: 474ms\tremaining: 1.84s\n",
      "205:\tlearn: 0.1456702\ttotal: 476ms\tremaining: 1.84s\n",
      "206:\tlearn: 0.1449556\ttotal: 478ms\tremaining: 1.83s\n",
      "207:\tlearn: 0.1443762\ttotal: 481ms\tremaining: 1.83s\n",
      "208:\tlearn: 0.1439066\ttotal: 483ms\tremaining: 1.83s\n",
      "209:\tlearn: 0.1431092\ttotal: 484ms\tremaining: 1.82s\n",
      "210:\tlearn: 0.1425744\ttotal: 486ms\tremaining: 1.82s\n",
      "211:\tlearn: 0.1420367\ttotal: 488ms\tremaining: 1.81s\n",
      "212:\tlearn: 0.1415158\ttotal: 490ms\tremaining: 1.81s\n",
      "213:\tlearn: 0.1409568\ttotal: 492ms\tremaining: 1.81s\n",
      "214:\tlearn: 0.1405013\ttotal: 494ms\tremaining: 1.8s\n",
      "215:\tlearn: 0.1397690\ttotal: 496ms\tremaining: 1.8s\n",
      "216:\tlearn: 0.1391434\ttotal: 498ms\tremaining: 1.8s\n",
      "217:\tlearn: 0.1385079\ttotal: 500ms\tremaining: 1.79s\n",
      "218:\tlearn: 0.1377798\ttotal: 502ms\tremaining: 1.79s\n",
      "219:\tlearn: 0.1371050\ttotal: 504ms\tremaining: 1.79s\n",
      "220:\tlearn: 0.1365762\ttotal: 506ms\tremaining: 1.78s\n",
      "221:\tlearn: 0.1360917\ttotal: 508ms\tremaining: 1.78s\n",
      "222:\tlearn: 0.1355539\ttotal: 510ms\tremaining: 1.78s\n",
      "223:\tlearn: 0.1347884\ttotal: 512ms\tremaining: 1.77s\n",
      "224:\tlearn: 0.1341068\ttotal: 514ms\tremaining: 1.77s\n",
      "225:\tlearn: 0.1336046\ttotal: 516ms\tremaining: 1.77s\n",
      "226:\tlearn: 0.1330362\ttotal: 518ms\tremaining: 1.76s\n",
      "227:\tlearn: 0.1324939\ttotal: 520ms\tremaining: 1.76s\n",
      "228:\tlearn: 0.1320745\ttotal: 522ms\tremaining: 1.76s\n",
      "229:\tlearn: 0.1315733\ttotal: 524ms\tremaining: 1.75s\n",
      "230:\tlearn: 0.1309967\ttotal: 526ms\tremaining: 1.75s\n",
      "231:\tlearn: 0.1307237\ttotal: 528ms\tremaining: 1.75s\n",
      "232:\tlearn: 0.1300609\ttotal: 530ms\tremaining: 1.74s\n",
      "233:\tlearn: 0.1294825\ttotal: 532ms\tremaining: 1.74s\n",
      "234:\tlearn: 0.1289070\ttotal: 534ms\tremaining: 1.74s\n",
      "235:\tlearn: 0.1283678\ttotal: 535ms\tremaining: 1.73s\n",
      "236:\tlearn: 0.1278154\ttotal: 537ms\tremaining: 1.73s\n",
      "237:\tlearn: 0.1271857\ttotal: 539ms\tremaining: 1.73s\n",
      "238:\tlearn: 0.1265647\ttotal: 541ms\tremaining: 1.72s\n",
      "239:\tlearn: 0.1260340\ttotal: 543ms\tremaining: 1.72s\n",
      "240:\tlearn: 0.1256868\ttotal: 545ms\tremaining: 1.72s\n",
      "241:\tlearn: 0.1252257\ttotal: 547ms\tremaining: 1.71s\n",
      "242:\tlearn: 0.1248866\ttotal: 549ms\tremaining: 1.71s\n",
      "243:\tlearn: 0.1244746\ttotal: 551ms\tremaining: 1.71s\n",
      "244:\tlearn: 0.1239164\ttotal: 553ms\tremaining: 1.7s\n",
      "245:\tlearn: 0.1233382\ttotal: 555ms\tremaining: 1.7s\n",
      "246:\tlearn: 0.1228421\ttotal: 557ms\tremaining: 1.7s\n",
      "247:\tlearn: 0.1223934\ttotal: 559ms\tremaining: 1.69s\n",
      "248:\tlearn: 0.1220458\ttotal: 561ms\tremaining: 1.69s\n",
      "249:\tlearn: 0.1213523\ttotal: 563ms\tremaining: 1.69s\n",
      "250:\tlearn: 0.1208884\ttotal: 565ms\tremaining: 1.69s\n",
      "251:\tlearn: 0.1205925\ttotal: 567ms\tremaining: 1.68s\n",
      "252:\tlearn: 0.1202463\ttotal: 569ms\tremaining: 1.68s\n",
      "253:\tlearn: 0.1198710\ttotal: 571ms\tremaining: 1.68s\n",
      "254:\tlearn: 0.1196500\ttotal: 574ms\tremaining: 1.68s\n",
      "255:\tlearn: 0.1192370\ttotal: 577ms\tremaining: 1.68s\n",
      "256:\tlearn: 0.1187235\ttotal: 579ms\tremaining: 1.67s\n",
      "257:\tlearn: 0.1182875\ttotal: 581ms\tremaining: 1.67s\n",
      "258:\tlearn: 0.1179172\ttotal: 583ms\tremaining: 1.67s\n",
      "259:\tlearn: 0.1173397\ttotal: 586ms\tremaining: 1.67s\n",
      "260:\tlearn: 0.1169346\ttotal: 588ms\tremaining: 1.66s\n",
      "261:\tlearn: 0.1164702\ttotal: 590ms\tremaining: 1.66s\n",
      "262:\tlearn: 0.1160395\ttotal: 592ms\tremaining: 1.66s\n",
      "263:\tlearn: 0.1156408\ttotal: 594ms\tremaining: 1.66s\n",
      "264:\tlearn: 0.1152433\ttotal: 596ms\tremaining: 1.65s\n",
      "265:\tlearn: 0.1149056\ttotal: 598ms\tremaining: 1.65s\n",
      "266:\tlearn: 0.1144628\ttotal: 600ms\tremaining: 1.65s\n",
      "267:\tlearn: 0.1140025\ttotal: 602ms\tremaining: 1.64s\n",
      "268:\tlearn: 0.1136273\ttotal: 604ms\tremaining: 1.64s\n",
      "269:\tlearn: 0.1132854\ttotal: 606ms\tremaining: 1.64s\n",
      "270:\tlearn: 0.1129027\ttotal: 608ms\tremaining: 1.64s\n",
      "271:\tlearn: 0.1124227\ttotal: 610ms\tremaining: 1.63s\n",
      "272:\tlearn: 0.1121325\ttotal: 612ms\tremaining: 1.63s\n",
      "273:\tlearn: 0.1116832\ttotal: 614ms\tremaining: 1.63s\n",
      "274:\tlearn: 0.1112536\ttotal: 616ms\tremaining: 1.62s\n",
      "275:\tlearn: 0.1108354\ttotal: 618ms\tremaining: 1.62s\n",
      "276:\tlearn: 0.1105199\ttotal: 620ms\tremaining: 1.62s\n",
      "277:\tlearn: 0.1101688\ttotal: 622ms\tremaining: 1.61s\n",
      "278:\tlearn: 0.1098128\ttotal: 624ms\tremaining: 1.61s\n",
      "279:\tlearn: 0.1093012\ttotal: 626ms\tremaining: 1.61s\n",
      "280:\tlearn: 0.1089283\ttotal: 628ms\tremaining: 1.61s\n",
      "281:\tlearn: 0.1086022\ttotal: 630ms\tremaining: 1.6s\n",
      "282:\tlearn: 0.1081660\ttotal: 632ms\tremaining: 1.6s\n",
      "283:\tlearn: 0.1078138\ttotal: 634ms\tremaining: 1.6s\n",
      "284:\tlearn: 0.1074091\ttotal: 636ms\tremaining: 1.59s\n",
      "285:\tlearn: 0.1070688\ttotal: 638ms\tremaining: 1.59s\n",
      "286:\tlearn: 0.1066556\ttotal: 640ms\tremaining: 1.59s\n",
      "287:\tlearn: 0.1064023\ttotal: 642ms\tremaining: 1.59s\n",
      "288:\tlearn: 0.1060329\ttotal: 644ms\tremaining: 1.58s\n",
      "289:\tlearn: 0.1055957\ttotal: 646ms\tremaining: 1.58s\n",
      "290:\tlearn: 0.1052832\ttotal: 648ms\tremaining: 1.58s\n",
      "291:\tlearn: 0.1047462\ttotal: 650ms\tremaining: 1.57s\n",
      "292:\tlearn: 0.1043746\ttotal: 652ms\tremaining: 1.57s\n",
      "293:\tlearn: 0.1040033\ttotal: 654ms\tremaining: 1.57s\n",
      "294:\tlearn: 0.1036379\ttotal: 656ms\tremaining: 1.57s\n",
      "295:\tlearn: 0.1032374\ttotal: 658ms\tremaining: 1.56s\n",
      "296:\tlearn: 0.1030064\ttotal: 660ms\tremaining: 1.56s\n",
      "297:\tlearn: 0.1027404\ttotal: 663ms\tremaining: 1.56s\n",
      "298:\tlearn: 0.1023357\ttotal: 665ms\tremaining: 1.56s\n",
      "299:\tlearn: 0.1020235\ttotal: 666ms\tremaining: 1.55s\n",
      "300:\tlearn: 0.1016886\ttotal: 669ms\tremaining: 1.55s\n",
      "301:\tlearn: 0.1012633\ttotal: 671ms\tremaining: 1.55s\n",
      "302:\tlearn: 0.1009815\ttotal: 673ms\tremaining: 1.55s\n",
      "303:\tlearn: 0.1006091\ttotal: 674ms\tremaining: 1.54s\n",
      "304:\tlearn: 0.1002229\ttotal: 676ms\tremaining: 1.54s\n",
      "305:\tlearn: 0.0998859\ttotal: 678ms\tremaining: 1.54s\n",
      "306:\tlearn: 0.0994913\ttotal: 680ms\tremaining: 1.53s\n",
      "307:\tlearn: 0.0991504\ttotal: 682ms\tremaining: 1.53s\n",
      "308:\tlearn: 0.0989345\ttotal: 684ms\tremaining: 1.53s\n",
      "309:\tlearn: 0.0986808\ttotal: 686ms\tremaining: 1.53s\n",
      "310:\tlearn: 0.0983686\ttotal: 688ms\tremaining: 1.52s\n",
      "311:\tlearn: 0.0980108\ttotal: 690ms\tremaining: 1.52s\n",
      "312:\tlearn: 0.0977173\ttotal: 692ms\tremaining: 1.52s\n",
      "313:\tlearn: 0.0974442\ttotal: 694ms\tremaining: 1.51s\n",
      "314:\tlearn: 0.0971028\ttotal: 696ms\tremaining: 1.51s\n",
      "315:\tlearn: 0.0967327\ttotal: 698ms\tremaining: 1.51s\n",
      "316:\tlearn: 0.0964531\ttotal: 700ms\tremaining: 1.51s\n",
      "317:\tlearn: 0.0961999\ttotal: 702ms\tremaining: 1.5s\n",
      "318:\tlearn: 0.0958808\ttotal: 703ms\tremaining: 1.5s\n",
      "319:\tlearn: 0.0955783\ttotal: 705ms\tremaining: 1.5s\n",
      "320:\tlearn: 0.0953076\ttotal: 707ms\tremaining: 1.5s\n",
      "321:\tlearn: 0.0949741\ttotal: 709ms\tremaining: 1.49s\n",
      "322:\tlearn: 0.0946643\ttotal: 711ms\tremaining: 1.49s\n",
      "323:\tlearn: 0.0943716\ttotal: 713ms\tremaining: 1.49s\n",
      "324:\tlearn: 0.0940586\ttotal: 715ms\tremaining: 1.48s\n",
      "325:\tlearn: 0.0936930\ttotal: 717ms\tremaining: 1.48s\n",
      "326:\tlearn: 0.0933190\ttotal: 719ms\tremaining: 1.48s\n",
      "327:\tlearn: 0.0929970\ttotal: 721ms\tremaining: 1.48s\n",
      "328:\tlearn: 0.0927921\ttotal: 723ms\tremaining: 1.47s\n",
      "329:\tlearn: 0.0925364\ttotal: 725ms\tremaining: 1.47s\n",
      "330:\tlearn: 0.0922293\ttotal: 727ms\tremaining: 1.47s\n",
      "331:\tlearn: 0.0919232\ttotal: 729ms\tremaining: 1.47s\n",
      "332:\tlearn: 0.0916259\ttotal: 731ms\tremaining: 1.46s\n",
      "333:\tlearn: 0.0913049\ttotal: 733ms\tremaining: 1.46s\n",
      "334:\tlearn: 0.0909718\ttotal: 735ms\tremaining: 1.46s\n",
      "335:\tlearn: 0.0907349\ttotal: 737ms\tremaining: 1.46s\n",
      "336:\tlearn: 0.0904811\ttotal: 739ms\tremaining: 1.45s\n",
      "337:\tlearn: 0.0901581\ttotal: 741ms\tremaining: 1.45s\n",
      "338:\tlearn: 0.0899269\ttotal: 743ms\tremaining: 1.45s\n",
      "339:\tlearn: 0.0896658\ttotal: 745ms\tremaining: 1.45s\n",
      "340:\tlearn: 0.0894391\ttotal: 747ms\tremaining: 1.44s\n",
      "341:\tlearn: 0.0891359\ttotal: 749ms\tremaining: 1.44s\n",
      "342:\tlearn: 0.0889857\ttotal: 751ms\tremaining: 1.44s\n",
      "343:\tlearn: 0.0886189\ttotal: 753ms\tremaining: 1.44s\n",
      "344:\tlearn: 0.0884190\ttotal: 755ms\tremaining: 1.43s\n",
      "345:\tlearn: 0.0881043\ttotal: 756ms\tremaining: 1.43s\n",
      "346:\tlearn: 0.0877999\ttotal: 759ms\tremaining: 1.43s\n",
      "347:\tlearn: 0.0875506\ttotal: 761ms\tremaining: 1.43s\n",
      "348:\tlearn: 0.0872578\ttotal: 763ms\tremaining: 1.42s\n",
      "349:\tlearn: 0.0870703\ttotal: 767ms\tremaining: 1.42s\n",
      "350:\tlearn: 0.0867309\ttotal: 769ms\tremaining: 1.42s\n",
      "351:\tlearn: 0.0865069\ttotal: 771ms\tremaining: 1.42s\n",
      "352:\tlearn: 0.0862447\ttotal: 773ms\tremaining: 1.42s\n",
      "353:\tlearn: 0.0859237\ttotal: 775ms\tremaining: 1.41s\n",
      "354:\tlearn: 0.0857233\ttotal: 777ms\tremaining: 1.41s\n",
      "355:\tlearn: 0.0854121\ttotal: 779ms\tremaining: 1.41s\n",
      "356:\tlearn: 0.0852033\ttotal: 781ms\tremaining: 1.41s\n",
      "357:\tlearn: 0.0850172\ttotal: 783ms\tremaining: 1.4s\n",
      "358:\tlearn: 0.0848216\ttotal: 785ms\tremaining: 1.4s\n",
      "359:\tlearn: 0.0845449\ttotal: 787ms\tremaining: 1.4s\n",
      "360:\tlearn: 0.0843574\ttotal: 789ms\tremaining: 1.4s\n",
      "361:\tlearn: 0.0840507\ttotal: 791ms\tremaining: 1.39s\n",
      "362:\tlearn: 0.0838060\ttotal: 793ms\tremaining: 1.39s\n",
      "363:\tlearn: 0.0835176\ttotal: 795ms\tremaining: 1.39s\n",
      "364:\tlearn: 0.0832940\ttotal: 797ms\tremaining: 1.39s\n",
      "365:\tlearn: 0.0831209\ttotal: 799ms\tremaining: 1.38s\n",
      "366:\tlearn: 0.0828966\ttotal: 801ms\tremaining: 1.38s\n",
      "367:\tlearn: 0.0825311\ttotal: 803ms\tremaining: 1.38s\n",
      "368:\tlearn: 0.0822648\ttotal: 805ms\tremaining: 1.38s\n",
      "369:\tlearn: 0.0819438\ttotal: 807ms\tremaining: 1.37s\n",
      "370:\tlearn: 0.0817398\ttotal: 809ms\tremaining: 1.37s\n",
      "371:\tlearn: 0.0814836\ttotal: 811ms\tremaining: 1.37s\n",
      "372:\tlearn: 0.0812564\ttotal: 813ms\tremaining: 1.37s\n",
      "373:\tlearn: 0.0810296\ttotal: 815ms\tremaining: 1.36s\n",
      "374:\tlearn: 0.0808368\ttotal: 817ms\tremaining: 1.36s\n",
      "375:\tlearn: 0.0806280\ttotal: 819ms\tremaining: 1.36s\n",
      "376:\tlearn: 0.0804427\ttotal: 821ms\tremaining: 1.36s\n",
      "377:\tlearn: 0.0801364\ttotal: 823ms\tremaining: 1.35s\n",
      "378:\tlearn: 0.0798576\ttotal: 825ms\tremaining: 1.35s\n",
      "379:\tlearn: 0.0796177\ttotal: 827ms\tremaining: 1.35s\n",
      "380:\tlearn: 0.0793850\ttotal: 829ms\tremaining: 1.35s\n",
      "381:\tlearn: 0.0791325\ttotal: 831ms\tremaining: 1.34s\n",
      "382:\tlearn: 0.0788352\ttotal: 833ms\tremaining: 1.34s\n",
      "383:\tlearn: 0.0786273\ttotal: 835ms\tremaining: 1.34s\n",
      "384:\tlearn: 0.0784197\ttotal: 837ms\tremaining: 1.34s\n",
      "385:\tlearn: 0.0781666\ttotal: 839ms\tremaining: 1.33s\n",
      "386:\tlearn: 0.0779340\ttotal: 841ms\tremaining: 1.33s\n",
      "387:\tlearn: 0.0777001\ttotal: 843ms\tremaining: 1.33s\n",
      "388:\tlearn: 0.0774798\ttotal: 845ms\tremaining: 1.33s\n",
      "389:\tlearn: 0.0772968\ttotal: 847ms\tremaining: 1.32s\n",
      "390:\tlearn: 0.0770818\ttotal: 849ms\tremaining: 1.32s\n",
      "391:\tlearn: 0.0769010\ttotal: 850ms\tremaining: 1.32s\n",
      "392:\tlearn: 0.0766653\ttotal: 852ms\tremaining: 1.32s\n",
      "393:\tlearn: 0.0764469\ttotal: 854ms\tremaining: 1.31s\n",
      "394:\tlearn: 0.0762743\ttotal: 856ms\tremaining: 1.31s\n",
      "395:\tlearn: 0.0760809\ttotal: 858ms\tremaining: 1.31s\n",
      "396:\tlearn: 0.0758006\ttotal: 860ms\tremaining: 1.31s\n",
      "397:\tlearn: 0.0755737\ttotal: 862ms\tremaining: 1.3s\n",
      "398:\tlearn: 0.0753872\ttotal: 864ms\tremaining: 1.3s\n",
      "399:\tlearn: 0.0751560\ttotal: 866ms\tremaining: 1.3s\n",
      "400:\tlearn: 0.0749775\ttotal: 868ms\tremaining: 1.3s\n",
      "401:\tlearn: 0.0747779\ttotal: 870ms\tremaining: 1.29s\n",
      "402:\tlearn: 0.0745956\ttotal: 872ms\tremaining: 1.29s\n",
      "403:\tlearn: 0.0743432\ttotal: 874ms\tremaining: 1.29s\n",
      "404:\tlearn: 0.0741640\ttotal: 876ms\tremaining: 1.29s\n",
      "405:\tlearn: 0.0740014\ttotal: 878ms\tremaining: 1.28s\n",
      "406:\tlearn: 0.0738556\ttotal: 880ms\tremaining: 1.28s\n",
      "407:\tlearn: 0.0736097\ttotal: 882ms\tremaining: 1.28s\n",
      "408:\tlearn: 0.0734389\ttotal: 884ms\tremaining: 1.28s\n",
      "409:\tlearn: 0.0732613\ttotal: 886ms\tremaining: 1.27s\n",
      "410:\tlearn: 0.0730466\ttotal: 888ms\tremaining: 1.27s\n",
      "411:\tlearn: 0.0728337\ttotal: 890ms\tremaining: 1.27s\n",
      "412:\tlearn: 0.0726927\ttotal: 892ms\tremaining: 1.27s\n",
      "413:\tlearn: 0.0724559\ttotal: 894ms\tremaining: 1.26s\n",
      "414:\tlearn: 0.0722060\ttotal: 896ms\tremaining: 1.26s\n",
      "415:\tlearn: 0.0718952\ttotal: 898ms\tremaining: 1.26s\n",
      "416:\tlearn: 0.0716777\ttotal: 900ms\tremaining: 1.26s\n",
      "417:\tlearn: 0.0715302\ttotal: 902ms\tremaining: 1.26s\n",
      "418:\tlearn: 0.0713237\ttotal: 905ms\tremaining: 1.25s\n",
      "419:\tlearn: 0.0710644\ttotal: 907ms\tremaining: 1.25s\n",
      "420:\tlearn: 0.0707176\ttotal: 908ms\tremaining: 1.25s\n",
      "421:\tlearn: 0.0705351\ttotal: 911ms\tremaining: 1.25s\n",
      "422:\tlearn: 0.0703740\ttotal: 913ms\tremaining: 1.25s\n",
      "423:\tlearn: 0.0702140\ttotal: 915ms\tremaining: 1.24s\n",
      "424:\tlearn: 0.0701116\ttotal: 917ms\tremaining: 1.24s\n",
      "425:\tlearn: 0.0699287\ttotal: 919ms\tremaining: 1.24s\n",
      "426:\tlearn: 0.0697404\ttotal: 921ms\tremaining: 1.24s\n",
      "427:\tlearn: 0.0695875\ttotal: 923ms\tremaining: 1.23s\n",
      "428:\tlearn: 0.0694013\ttotal: 925ms\tremaining: 1.23s\n",
      "429:\tlearn: 0.0692365\ttotal: 927ms\tremaining: 1.23s\n",
      "430:\tlearn: 0.0690086\ttotal: 929ms\tremaining: 1.23s\n",
      "431:\tlearn: 0.0688159\ttotal: 931ms\tremaining: 1.22s\n",
      "432:\tlearn: 0.0686114\ttotal: 933ms\tremaining: 1.22s\n",
      "433:\tlearn: 0.0683684\ttotal: 935ms\tremaining: 1.22s\n",
      "434:\tlearn: 0.0681742\ttotal: 937ms\tremaining: 1.22s\n",
      "435:\tlearn: 0.0680330\ttotal: 939ms\tremaining: 1.21s\n",
      "436:\tlearn: 0.0678549\ttotal: 941ms\tremaining: 1.21s\n",
      "437:\tlearn: 0.0676859\ttotal: 943ms\tremaining: 1.21s\n",
      "438:\tlearn: 0.0674576\ttotal: 945ms\tremaining: 1.21s\n",
      "439:\tlearn: 0.0673094\ttotal: 947ms\tremaining: 1.2s\n",
      "440:\tlearn: 0.0671011\ttotal: 948ms\tremaining: 1.2s\n",
      "441:\tlearn: 0.0668729\ttotal: 950ms\tremaining: 1.2s\n",
      "442:\tlearn: 0.0667585\ttotal: 952ms\tremaining: 1.2s\n",
      "443:\tlearn: 0.0665462\ttotal: 954ms\tremaining: 1.19s\n",
      "444:\tlearn: 0.0663634\ttotal: 956ms\tremaining: 1.19s\n",
      "445:\tlearn: 0.0662387\ttotal: 960ms\tremaining: 1.19s\n",
      "446:\tlearn: 0.0660470\ttotal: 962ms\tremaining: 1.19s\n",
      "447:\tlearn: 0.0658042\ttotal: 964ms\tremaining: 1.19s\n",
      "448:\tlearn: 0.0656445\ttotal: 966ms\tremaining: 1.19s\n",
      "449:\tlearn: 0.0654808\ttotal: 968ms\tremaining: 1.18s\n",
      "450:\tlearn: 0.0653559\ttotal: 970ms\tremaining: 1.18s\n",
      "451:\tlearn: 0.0651024\ttotal: 972ms\tremaining: 1.18s\n",
      "452:\tlearn: 0.0649446\ttotal: 974ms\tremaining: 1.18s\n",
      "453:\tlearn: 0.0648770\ttotal: 975ms\tremaining: 1.17s\n",
      "454:\tlearn: 0.0647090\ttotal: 977ms\tremaining: 1.17s\n",
      "455:\tlearn: 0.0645435\ttotal: 979ms\tremaining: 1.17s\n",
      "456:\tlearn: 0.0643334\ttotal: 981ms\tremaining: 1.17s\n",
      "457:\tlearn: 0.0641677\ttotal: 983ms\tremaining: 1.16s\n",
      "458:\tlearn: 0.0640165\ttotal: 985ms\tremaining: 1.16s\n",
      "459:\tlearn: 0.0638383\ttotal: 987ms\tremaining: 1.16s\n",
      "460:\tlearn: 0.0637624\ttotal: 989ms\tremaining: 1.16s\n",
      "461:\tlearn: 0.0636521\ttotal: 991ms\tremaining: 1.15s\n",
      "462:\tlearn: 0.0634480\ttotal: 993ms\tremaining: 1.15s\n",
      "463:\tlearn: 0.0633366\ttotal: 995ms\tremaining: 1.15s\n",
      "464:\tlearn: 0.0632002\ttotal: 997ms\tremaining: 1.15s\n",
      "465:\tlearn: 0.0630907\ttotal: 999ms\tremaining: 1.14s\n",
      "466:\tlearn: 0.0629758\ttotal: 1s\tremaining: 1.14s\n",
      "467:\tlearn: 0.0628394\ttotal: 1s\tremaining: 1.14s\n",
      "468:\tlearn: 0.0626760\ttotal: 1s\tremaining: 1.14s\n",
      "469:\tlearn: 0.0624968\ttotal: 1.01s\tremaining: 1.14s\n",
      "470:\tlearn: 0.0622757\ttotal: 1.01s\tremaining: 1.13s\n",
      "471:\tlearn: 0.0621542\ttotal: 1.01s\tremaining: 1.13s\n",
      "472:\tlearn: 0.0620528\ttotal: 1.01s\tremaining: 1.13s\n",
      "473:\tlearn: 0.0618905\ttotal: 1.01s\tremaining: 1.13s\n",
      "474:\tlearn: 0.0617113\ttotal: 1.02s\tremaining: 1.12s\n",
      "475:\tlearn: 0.0615671\ttotal: 1.02s\tremaining: 1.12s\n",
      "476:\tlearn: 0.0613336\ttotal: 1.02s\tremaining: 1.12s\n",
      "477:\tlearn: 0.0611613\ttotal: 1.02s\tremaining: 1.12s\n",
      "478:\tlearn: 0.0609984\ttotal: 1.02s\tremaining: 1.11s\n",
      "479:\tlearn: 0.0608228\ttotal: 1.03s\tremaining: 1.11s\n",
      "480:\tlearn: 0.0606309\ttotal: 1.03s\tremaining: 1.11s\n",
      "481:\tlearn: 0.0604725\ttotal: 1.03s\tremaining: 1.11s\n",
      "482:\tlearn: 0.0603027\ttotal: 1.03s\tremaining: 1.1s\n",
      "483:\tlearn: 0.0601105\ttotal: 1.03s\tremaining: 1.1s\n",
      "484:\tlearn: 0.0599748\ttotal: 1.03s\tremaining: 1.1s\n",
      "485:\tlearn: 0.0598609\ttotal: 1.04s\tremaining: 1.1s\n",
      "486:\tlearn: 0.0597023\ttotal: 1.04s\tremaining: 1.09s\n",
      "487:\tlearn: 0.0595893\ttotal: 1.04s\tremaining: 1.09s\n",
      "488:\tlearn: 0.0594163\ttotal: 1.04s\tremaining: 1.09s\n",
      "489:\tlearn: 0.0593440\ttotal: 1.04s\tremaining: 1.09s\n",
      "490:\tlearn: 0.0592033\ttotal: 1.05s\tremaining: 1.09s\n",
      "491:\tlearn: 0.0590376\ttotal: 1.05s\tremaining: 1.08s\n",
      "492:\tlearn: 0.0588363\ttotal: 1.05s\tremaining: 1.08s\n",
      "493:\tlearn: 0.0586840\ttotal: 1.05s\tremaining: 1.08s\n",
      "494:\tlearn: 0.0584966\ttotal: 1.05s\tremaining: 1.08s\n",
      "495:\tlearn: 0.0583722\ttotal: 1.06s\tremaining: 1.07s\n",
      "496:\tlearn: 0.0582952\ttotal: 1.06s\tremaining: 1.07s\n",
      "497:\tlearn: 0.0581450\ttotal: 1.06s\tremaining: 1.07s\n",
      "498:\tlearn: 0.0580241\ttotal: 1.06s\tremaining: 1.07s\n",
      "499:\tlearn: 0.0579431\ttotal: 1.06s\tremaining: 1.06s\n",
      "500:\tlearn: 0.0577932\ttotal: 1.07s\tremaining: 1.06s\n",
      "501:\tlearn: 0.0576037\ttotal: 1.07s\tremaining: 1.06s\n",
      "502:\tlearn: 0.0574640\ttotal: 1.07s\tremaining: 1.06s\n",
      "503:\tlearn: 0.0573361\ttotal: 1.07s\tremaining: 1.05s\n",
      "504:\tlearn: 0.0571264\ttotal: 1.07s\tremaining: 1.05s\n",
      "505:\tlearn: 0.0570130\ttotal: 1.08s\tremaining: 1.05s\n",
      "506:\tlearn: 0.0569189\ttotal: 1.08s\tremaining: 1.05s\n",
      "507:\tlearn: 0.0567393\ttotal: 1.08s\tremaining: 1.05s\n",
      "508:\tlearn: 0.0565450\ttotal: 1.08s\tremaining: 1.04s\n",
      "509:\tlearn: 0.0563859\ttotal: 1.08s\tremaining: 1.04s\n",
      "510:\tlearn: 0.0562632\ttotal: 1.09s\tremaining: 1.04s\n",
      "511:\tlearn: 0.0561176\ttotal: 1.09s\tremaining: 1.04s\n",
      "512:\tlearn: 0.0559502\ttotal: 1.09s\tremaining: 1.03s\n",
      "513:\tlearn: 0.0558554\ttotal: 1.09s\tremaining: 1.03s\n",
      "514:\tlearn: 0.0557036\ttotal: 1.09s\tremaining: 1.03s\n",
      "515:\tlearn: 0.0555853\ttotal: 1.1s\tremaining: 1.03s\n",
      "516:\tlearn: 0.0554559\ttotal: 1.1s\tremaining: 1.03s\n",
      "517:\tlearn: 0.0553479\ttotal: 1.1s\tremaining: 1.02s\n",
      "518:\tlearn: 0.0552357\ttotal: 1.1s\tremaining: 1.02s\n",
      "519:\tlearn: 0.0551071\ttotal: 1.1s\tremaining: 1.02s\n",
      "520:\tlearn: 0.0549297\ttotal: 1.11s\tremaining: 1.02s\n",
      "521:\tlearn: 0.0548559\ttotal: 1.11s\tremaining: 1.01s\n",
      "522:\tlearn: 0.0546900\ttotal: 1.11s\tremaining: 1.01s\n",
      "523:\tlearn: 0.0545758\ttotal: 1.11s\tremaining: 1.01s\n",
      "524:\tlearn: 0.0544418\ttotal: 1.11s\tremaining: 1.01s\n",
      "525:\tlearn: 0.0543157\ttotal: 1.11s\tremaining: 1s\n",
      "526:\tlearn: 0.0542064\ttotal: 1.12s\tremaining: 1s\n",
      "527:\tlearn: 0.0539854\ttotal: 1.12s\tremaining: 1s\n",
      "528:\tlearn: 0.0538173\ttotal: 1.12s\tremaining: 999ms\n",
      "529:\tlearn: 0.0537071\ttotal: 1.12s\tremaining: 997ms\n",
      "530:\tlearn: 0.0535614\ttotal: 1.13s\tremaining: 994ms\n",
      "531:\tlearn: 0.0534243\ttotal: 1.13s\tremaining: 992ms\n",
      "532:\tlearn: 0.0533390\ttotal: 1.13s\tremaining: 990ms\n",
      "533:\tlearn: 0.0531823\ttotal: 1.13s\tremaining: 988ms\n",
      "534:\tlearn: 0.0530486\ttotal: 1.13s\tremaining: 985ms\n",
      "535:\tlearn: 0.0529512\ttotal: 1.14s\tremaining: 983ms\n",
      "536:\tlearn: 0.0528050\ttotal: 1.14s\tremaining: 981ms\n",
      "537:\tlearn: 0.0526799\ttotal: 1.14s\tremaining: 979ms\n",
      "538:\tlearn: 0.0525140\ttotal: 1.14s\tremaining: 977ms\n",
      "539:\tlearn: 0.0524035\ttotal: 1.14s\tremaining: 974ms\n",
      "540:\tlearn: 0.0522914\ttotal: 1.15s\tremaining: 972ms\n",
      "541:\tlearn: 0.0522031\ttotal: 1.15s\tremaining: 970ms\n",
      "542:\tlearn: 0.0520761\ttotal: 1.15s\tremaining: 967ms\n",
      "543:\tlearn: 0.0519940\ttotal: 1.15s\tremaining: 966ms\n",
      "544:\tlearn: 0.0518807\ttotal: 1.16s\tremaining: 964ms\n",
      "545:\tlearn: 0.0518047\ttotal: 1.16s\tremaining: 962ms\n",
      "546:\tlearn: 0.0517150\ttotal: 1.16s\tremaining: 960ms\n",
      "547:\tlearn: 0.0515825\ttotal: 1.16s\tremaining: 958ms\n",
      "548:\tlearn: 0.0514699\ttotal: 1.16s\tremaining: 955ms\n",
      "549:\tlearn: 0.0513052\ttotal: 1.16s\tremaining: 953ms\n",
      "550:\tlearn: 0.0511736\ttotal: 1.17s\tremaining: 951ms\n",
      "551:\tlearn: 0.0510691\ttotal: 1.17s\tremaining: 948ms\n",
      "552:\tlearn: 0.0509063\ttotal: 1.17s\tremaining: 946ms\n",
      "553:\tlearn: 0.0507987\ttotal: 1.17s\tremaining: 944ms\n",
      "554:\tlearn: 0.0506642\ttotal: 1.17s\tremaining: 942ms\n",
      "555:\tlearn: 0.0505477\ttotal: 1.18s\tremaining: 939ms\n",
      "556:\tlearn: 0.0504600\ttotal: 1.18s\tremaining: 937ms\n",
      "557:\tlearn: 0.0503837\ttotal: 1.18s\tremaining: 935ms\n",
      "558:\tlearn: 0.0502605\ttotal: 1.18s\tremaining: 932ms\n",
      "559:\tlearn: 0.0501230\ttotal: 1.18s\tremaining: 930ms\n",
      "560:\tlearn: 0.0500315\ttotal: 1.19s\tremaining: 928ms\n",
      "561:\tlearn: 0.0499247\ttotal: 1.19s\tremaining: 926ms\n",
      "562:\tlearn: 0.0498362\ttotal: 1.19s\tremaining: 923ms\n",
      "563:\tlearn: 0.0497777\ttotal: 1.19s\tremaining: 921ms\n",
      "564:\tlearn: 0.0496524\ttotal: 1.19s\tremaining: 919ms\n",
      "565:\tlearn: 0.0495612\ttotal: 1.2s\tremaining: 917ms\n",
      "566:\tlearn: 0.0494419\ttotal: 1.2s\tremaining: 914ms\n",
      "567:\tlearn: 0.0493846\ttotal: 1.2s\tremaining: 912ms\n",
      "568:\tlearn: 0.0492456\ttotal: 1.2s\tremaining: 910ms\n",
      "569:\tlearn: 0.0491491\ttotal: 1.2s\tremaining: 908ms\n",
      "570:\tlearn: 0.0490310\ttotal: 1.21s\tremaining: 905ms\n",
      "571:\tlearn: 0.0489047\ttotal: 1.21s\tremaining: 903ms\n",
      "572:\tlearn: 0.0487836\ttotal: 1.21s\tremaining: 901ms\n",
      "573:\tlearn: 0.0486968\ttotal: 1.21s\tremaining: 899ms\n",
      "574:\tlearn: 0.0485768\ttotal: 1.21s\tremaining: 896ms\n",
      "575:\tlearn: 0.0484485\ttotal: 1.21s\tremaining: 894ms\n",
      "576:\tlearn: 0.0483442\ttotal: 1.22s\tremaining: 892ms\n",
      "577:\tlearn: 0.0482376\ttotal: 1.22s\tremaining: 889ms\n",
      "578:\tlearn: 0.0481687\ttotal: 1.22s\tremaining: 887ms\n",
      "579:\tlearn: 0.0480096\ttotal: 1.22s\tremaining: 885ms\n",
      "580:\tlearn: 0.0478777\ttotal: 1.22s\tremaining: 883ms\n",
      "581:\tlearn: 0.0477694\ttotal: 1.23s\tremaining: 881ms\n",
      "582:\tlearn: 0.0476437\ttotal: 1.23s\tremaining: 878ms\n",
      "583:\tlearn: 0.0475612\ttotal: 1.23s\tremaining: 876ms\n",
      "584:\tlearn: 0.0474865\ttotal: 1.23s\tremaining: 874ms\n",
      "585:\tlearn: 0.0474258\ttotal: 1.23s\tremaining: 872ms\n",
      "586:\tlearn: 0.0473350\ttotal: 1.24s\tremaining: 869ms\n",
      "587:\tlearn: 0.0472428\ttotal: 1.24s\tremaining: 867ms\n",
      "588:\tlearn: 0.0471169\ttotal: 1.24s\tremaining: 865ms\n",
      "589:\tlearn: 0.0469916\ttotal: 1.24s\tremaining: 863ms\n",
      "590:\tlearn: 0.0468677\ttotal: 1.24s\tremaining: 861ms\n",
      "591:\tlearn: 0.0467535\ttotal: 1.25s\tremaining: 859ms\n",
      "592:\tlearn: 0.0466082\ttotal: 1.25s\tremaining: 856ms\n",
      "593:\tlearn: 0.0465269\ttotal: 1.25s\tremaining: 854ms\n",
      "594:\tlearn: 0.0464363\ttotal: 1.25s\tremaining: 852ms\n",
      "595:\tlearn: 0.0463428\ttotal: 1.25s\tremaining: 850ms\n",
      "596:\tlearn: 0.0462662\ttotal: 1.25s\tremaining: 848ms\n",
      "597:\tlearn: 0.0462000\ttotal: 1.26s\tremaining: 846ms\n",
      "598:\tlearn: 0.0460973\ttotal: 1.26s\tremaining: 843ms\n",
      "599:\tlearn: 0.0459922\ttotal: 1.26s\tremaining: 841ms\n",
      "600:\tlearn: 0.0458747\ttotal: 1.26s\tremaining: 839ms\n",
      "601:\tlearn: 0.0457673\ttotal: 1.27s\tremaining: 837ms\n",
      "602:\tlearn: 0.0456707\ttotal: 1.27s\tremaining: 835ms\n",
      "603:\tlearn: 0.0455573\ttotal: 1.27s\tremaining: 833ms\n",
      "604:\tlearn: 0.0454943\ttotal: 1.27s\tremaining: 831ms\n",
      "605:\tlearn: 0.0454254\ttotal: 1.27s\tremaining: 828ms\n",
      "606:\tlearn: 0.0453577\ttotal: 1.28s\tremaining: 826ms\n",
      "607:\tlearn: 0.0453062\ttotal: 1.28s\tremaining: 824ms\n",
      "608:\tlearn: 0.0452378\ttotal: 1.28s\tremaining: 822ms\n",
      "609:\tlearn: 0.0451592\ttotal: 1.28s\tremaining: 820ms\n",
      "610:\tlearn: 0.0450730\ttotal: 1.28s\tremaining: 817ms\n",
      "611:\tlearn: 0.0450014\ttotal: 1.28s\tremaining: 815ms\n",
      "612:\tlearn: 0.0448577\ttotal: 1.29s\tremaining: 813ms\n",
      "613:\tlearn: 0.0447465\ttotal: 1.29s\tremaining: 811ms\n",
      "614:\tlearn: 0.0446876\ttotal: 1.29s\tremaining: 809ms\n",
      "615:\tlearn: 0.0445828\ttotal: 1.29s\tremaining: 806ms\n",
      "616:\tlearn: 0.0444633\ttotal: 1.29s\tremaining: 804ms\n",
      "617:\tlearn: 0.0443884\ttotal: 1.3s\tremaining: 802ms\n",
      "618:\tlearn: 0.0442870\ttotal: 1.3s\tremaining: 800ms\n",
      "619:\tlearn: 0.0441692\ttotal: 1.3s\tremaining: 798ms\n",
      "620:\tlearn: 0.0440752\ttotal: 1.3s\tremaining: 795ms\n",
      "621:\tlearn: 0.0439896\ttotal: 1.3s\tremaining: 793ms\n",
      "622:\tlearn: 0.0438714\ttotal: 1.31s\tremaining: 791ms\n",
      "623:\tlearn: 0.0437480\ttotal: 1.31s\tremaining: 789ms\n",
      "624:\tlearn: 0.0436841\ttotal: 1.31s\tremaining: 786ms\n",
      "625:\tlearn: 0.0435708\ttotal: 1.31s\tremaining: 784ms\n",
      "626:\tlearn: 0.0434614\ttotal: 1.31s\tremaining: 782ms\n",
      "627:\tlearn: 0.0433943\ttotal: 1.32s\tremaining: 780ms\n",
      "628:\tlearn: 0.0433352\ttotal: 1.32s\tremaining: 777ms\n",
      "629:\tlearn: 0.0432692\ttotal: 1.32s\tremaining: 775ms\n",
      "630:\tlearn: 0.0431833\ttotal: 1.32s\tremaining: 773ms\n",
      "631:\tlearn: 0.0430772\ttotal: 1.32s\tremaining: 771ms\n",
      "632:\tlearn: 0.0430242\ttotal: 1.32s\tremaining: 768ms\n",
      "633:\tlearn: 0.0429240\ttotal: 1.33s\tremaining: 766ms\n",
      "634:\tlearn: 0.0428425\ttotal: 1.33s\tremaining: 764ms\n",
      "635:\tlearn: 0.0427436\ttotal: 1.33s\tremaining: 762ms\n",
      "636:\tlearn: 0.0426799\ttotal: 1.33s\tremaining: 760ms\n",
      "637:\tlearn: 0.0426108\ttotal: 1.33s\tremaining: 757ms\n",
      "638:\tlearn: 0.0425059\ttotal: 1.34s\tremaining: 755ms\n",
      "639:\tlearn: 0.0424200\ttotal: 1.34s\tremaining: 753ms\n",
      "640:\tlearn: 0.0423299\ttotal: 1.34s\tremaining: 751ms\n",
      "641:\tlearn: 0.0422802\ttotal: 1.34s\tremaining: 748ms\n",
      "642:\tlearn: 0.0421843\ttotal: 1.34s\tremaining: 747ms\n",
      "643:\tlearn: 0.0420789\ttotal: 1.35s\tremaining: 745ms\n",
      "644:\tlearn: 0.0419697\ttotal: 1.35s\tremaining: 743ms\n",
      "645:\tlearn: 0.0418854\ttotal: 1.35s\tremaining: 741ms\n",
      "646:\tlearn: 0.0417830\ttotal: 1.35s\tremaining: 739ms\n",
      "647:\tlearn: 0.0416885\ttotal: 1.35s\tremaining: 737ms\n",
      "648:\tlearn: 0.0415691\ttotal: 1.36s\tremaining: 734ms\n",
      "649:\tlearn: 0.0414872\ttotal: 1.36s\tremaining: 732ms\n",
      "650:\tlearn: 0.0414116\ttotal: 1.36s\tremaining: 730ms\n",
      "651:\tlearn: 0.0413383\ttotal: 1.36s\tremaining: 728ms\n",
      "652:\tlearn: 0.0412245\ttotal: 1.36s\tremaining: 726ms\n",
      "653:\tlearn: 0.0411299\ttotal: 1.37s\tremaining: 724ms\n",
      "654:\tlearn: 0.0410194\ttotal: 1.37s\tremaining: 721ms\n",
      "655:\tlearn: 0.0409405\ttotal: 1.37s\tremaining: 719ms\n",
      "656:\tlearn: 0.0408064\ttotal: 1.37s\tremaining: 717ms\n",
      "657:\tlearn: 0.0407023\ttotal: 1.38s\tremaining: 715ms\n",
      "658:\tlearn: 0.0406000\ttotal: 1.38s\tremaining: 713ms\n",
      "659:\tlearn: 0.0405353\ttotal: 1.38s\tremaining: 711ms\n",
      "660:\tlearn: 0.0404769\ttotal: 1.38s\tremaining: 708ms\n",
      "661:\tlearn: 0.0403788\ttotal: 1.38s\tremaining: 706ms\n",
      "662:\tlearn: 0.0403075\ttotal: 1.39s\tremaining: 704ms\n",
      "663:\tlearn: 0.0402355\ttotal: 1.39s\tremaining: 702ms\n",
      "664:\tlearn: 0.0401748\ttotal: 1.39s\tremaining: 700ms\n",
      "665:\tlearn: 0.0400915\ttotal: 1.39s\tremaining: 698ms\n",
      "666:\tlearn: 0.0399928\ttotal: 1.39s\tremaining: 696ms\n",
      "667:\tlearn: 0.0399219\ttotal: 1.4s\tremaining: 693ms\n",
      "668:\tlearn: 0.0398533\ttotal: 1.4s\tremaining: 691ms\n",
      "669:\tlearn: 0.0397478\ttotal: 1.4s\tremaining: 689ms\n",
      "670:\tlearn: 0.0396710\ttotal: 1.4s\tremaining: 687ms\n",
      "671:\tlearn: 0.0395783\ttotal: 1.4s\tremaining: 685ms\n",
      "672:\tlearn: 0.0395176\ttotal: 1.4s\tremaining: 683ms\n",
      "673:\tlearn: 0.0394115\ttotal: 1.41s\tremaining: 680ms\n",
      "674:\tlearn: 0.0393093\ttotal: 1.41s\tremaining: 678ms\n",
      "675:\tlearn: 0.0392207\ttotal: 1.41s\tremaining: 676ms\n",
      "676:\tlearn: 0.0391425\ttotal: 1.41s\tremaining: 674ms\n",
      "677:\tlearn: 0.0390729\ttotal: 1.41s\tremaining: 672ms\n",
      "678:\tlearn: 0.0389978\ttotal: 1.42s\tremaining: 670ms\n",
      "679:\tlearn: 0.0389245\ttotal: 1.42s\tremaining: 668ms\n",
      "680:\tlearn: 0.0388535\ttotal: 1.42s\tremaining: 665ms\n",
      "681:\tlearn: 0.0387744\ttotal: 1.42s\tremaining: 663ms\n",
      "682:\tlearn: 0.0386851\ttotal: 1.42s\tremaining: 661ms\n",
      "683:\tlearn: 0.0386234\ttotal: 1.43s\tremaining: 659ms\n",
      "684:\tlearn: 0.0385398\ttotal: 1.43s\tremaining: 657ms\n",
      "685:\tlearn: 0.0384446\ttotal: 1.43s\tremaining: 655ms\n",
      "686:\tlearn: 0.0383718\ttotal: 1.43s\tremaining: 653ms\n",
      "687:\tlearn: 0.0382971\ttotal: 1.43s\tremaining: 651ms\n",
      "688:\tlearn: 0.0382260\ttotal: 1.44s\tremaining: 649ms\n",
      "689:\tlearn: 0.0381566\ttotal: 1.44s\tremaining: 647ms\n",
      "690:\tlearn: 0.0381057\ttotal: 1.44s\tremaining: 644ms\n",
      "691:\tlearn: 0.0380180\ttotal: 1.44s\tremaining: 642ms\n",
      "692:\tlearn: 0.0379246\ttotal: 1.45s\tremaining: 640ms\n",
      "693:\tlearn: 0.0378406\ttotal: 1.45s\tremaining: 638ms\n",
      "694:\tlearn: 0.0377599\ttotal: 1.45s\tremaining: 636ms\n",
      "695:\tlearn: 0.0376854\ttotal: 1.45s\tremaining: 634ms\n",
      "696:\tlearn: 0.0376366\ttotal: 1.45s\tremaining: 632ms\n",
      "697:\tlearn: 0.0375725\ttotal: 1.46s\tremaining: 630ms\n",
      "698:\tlearn: 0.0375062\ttotal: 1.46s\tremaining: 628ms\n",
      "699:\tlearn: 0.0374196\ttotal: 1.46s\tremaining: 626ms\n",
      "700:\tlearn: 0.0373409\ttotal: 1.46s\tremaining: 624ms\n",
      "701:\tlearn: 0.0372470\ttotal: 1.46s\tremaining: 622ms\n",
      "702:\tlearn: 0.0371674\ttotal: 1.47s\tremaining: 619ms\n",
      "703:\tlearn: 0.0371046\ttotal: 1.47s\tremaining: 617ms\n",
      "704:\tlearn: 0.0370255\ttotal: 1.47s\tremaining: 615ms\n",
      "705:\tlearn: 0.0369502\ttotal: 1.47s\tremaining: 613ms\n",
      "706:\tlearn: 0.0368955\ttotal: 1.47s\tremaining: 611ms\n",
      "707:\tlearn: 0.0368399\ttotal: 1.48s\tremaining: 609ms\n",
      "708:\tlearn: 0.0367445\ttotal: 1.48s\tremaining: 607ms\n",
      "709:\tlearn: 0.0366842\ttotal: 1.48s\tremaining: 605ms\n",
      "710:\tlearn: 0.0366119\ttotal: 1.48s\tremaining: 603ms\n",
      "711:\tlearn: 0.0365207\ttotal: 1.48s\tremaining: 601ms\n",
      "712:\tlearn: 0.0364565\ttotal: 1.49s\tremaining: 598ms\n",
      "713:\tlearn: 0.0363977\ttotal: 1.49s\tremaining: 596ms\n",
      "714:\tlearn: 0.0363035\ttotal: 1.49s\tremaining: 594ms\n",
      "715:\tlearn: 0.0362125\ttotal: 1.49s\tremaining: 592ms\n",
      "716:\tlearn: 0.0361448\ttotal: 1.49s\tremaining: 590ms\n",
      "717:\tlearn: 0.0360880\ttotal: 1.5s\tremaining: 588ms\n",
      "718:\tlearn: 0.0360363\ttotal: 1.5s\tremaining: 586ms\n",
      "719:\tlearn: 0.0359770\ttotal: 1.5s\tremaining: 584ms\n",
      "720:\tlearn: 0.0359276\ttotal: 1.5s\tremaining: 582ms\n",
      "721:\tlearn: 0.0358451\ttotal: 1.5s\tremaining: 579ms\n",
      "722:\tlearn: 0.0358012\ttotal: 1.51s\tremaining: 577ms\n",
      "723:\tlearn: 0.0357327\ttotal: 1.51s\tremaining: 575ms\n",
      "724:\tlearn: 0.0356641\ttotal: 1.51s\tremaining: 573ms\n",
      "725:\tlearn: 0.0355947\ttotal: 1.51s\tremaining: 571ms\n",
      "726:\tlearn: 0.0355619\ttotal: 1.51s\tremaining: 569ms\n",
      "727:\tlearn: 0.0354949\ttotal: 1.52s\tremaining: 567ms\n",
      "728:\tlearn: 0.0354206\ttotal: 1.52s\tremaining: 565ms\n",
      "729:\tlearn: 0.0353491\ttotal: 1.52s\tremaining: 563ms\n",
      "730:\tlearn: 0.0352807\ttotal: 1.52s\tremaining: 561ms\n",
      "731:\tlearn: 0.0352259\ttotal: 1.52s\tremaining: 558ms\n",
      "732:\tlearn: 0.0351512\ttotal: 1.53s\tremaining: 556ms\n",
      "733:\tlearn: 0.0350693\ttotal: 1.53s\tremaining: 554ms\n",
      "734:\tlearn: 0.0349878\ttotal: 1.53s\tremaining: 552ms\n",
      "735:\tlearn: 0.0349352\ttotal: 1.53s\tremaining: 550ms\n",
      "736:\tlearn: 0.0348589\ttotal: 1.54s\tremaining: 548ms\n",
      "737:\tlearn: 0.0347916\ttotal: 1.54s\tremaining: 546ms\n",
      "738:\tlearn: 0.0347338\ttotal: 1.54s\tremaining: 544ms\n",
      "739:\tlearn: 0.0346916\ttotal: 1.54s\tremaining: 542ms\n",
      "740:\tlearn: 0.0346286\ttotal: 1.55s\tremaining: 540ms\n",
      "741:\tlearn: 0.0345593\ttotal: 1.55s\tremaining: 539ms\n",
      "742:\tlearn: 0.0345109\ttotal: 1.55s\tremaining: 537ms\n",
      "743:\tlearn: 0.0344474\ttotal: 1.55s\tremaining: 535ms\n",
      "744:\tlearn: 0.0343914\ttotal: 1.56s\tremaining: 533ms\n",
      "745:\tlearn: 0.0343201\ttotal: 1.56s\tremaining: 532ms\n",
      "746:\tlearn: 0.0342672\ttotal: 1.56s\tremaining: 530ms\n",
      "747:\tlearn: 0.0341704\ttotal: 1.57s\tremaining: 528ms\n",
      "748:\tlearn: 0.0341346\ttotal: 1.57s\tremaining: 527ms\n",
      "749:\tlearn: 0.0340403\ttotal: 1.57s\tremaining: 525ms\n",
      "750:\tlearn: 0.0339751\ttotal: 1.58s\tremaining: 523ms\n",
      "751:\tlearn: 0.0339111\ttotal: 1.58s\tremaining: 520ms\n",
      "752:\tlearn: 0.0338467\ttotal: 1.58s\tremaining: 518ms\n",
      "753:\tlearn: 0.0337897\ttotal: 1.58s\tremaining: 516ms\n",
      "754:\tlearn: 0.0337329\ttotal: 1.58s\tremaining: 514ms\n",
      "755:\tlearn: 0.0336360\ttotal: 1.59s\tremaining: 512ms\n",
      "756:\tlearn: 0.0335775\ttotal: 1.59s\tremaining: 510ms\n",
      "757:\tlearn: 0.0334954\ttotal: 1.59s\tremaining: 508ms\n",
      "758:\tlearn: 0.0334212\ttotal: 1.59s\tremaining: 506ms\n",
      "759:\tlearn: 0.0333375\ttotal: 1.59s\tremaining: 503ms\n",
      "760:\tlearn: 0.0332804\ttotal: 1.6s\tremaining: 501ms\n",
      "761:\tlearn: 0.0332201\ttotal: 1.6s\tremaining: 499ms\n",
      "762:\tlearn: 0.0331821\ttotal: 1.6s\tremaining: 497ms\n",
      "763:\tlearn: 0.0331135\ttotal: 1.6s\tremaining: 495ms\n",
      "764:\tlearn: 0.0330509\ttotal: 1.6s\tremaining: 493ms\n",
      "765:\tlearn: 0.0329672\ttotal: 1.6s\tremaining: 491ms\n",
      "766:\tlearn: 0.0329326\ttotal: 1.61s\tremaining: 488ms\n",
      "767:\tlearn: 0.0328669\ttotal: 1.61s\tremaining: 486ms\n",
      "768:\tlearn: 0.0328010\ttotal: 1.61s\tremaining: 484ms\n",
      "769:\tlearn: 0.0327365\ttotal: 1.61s\tremaining: 482ms\n",
      "770:\tlearn: 0.0326620\ttotal: 1.61s\tremaining: 480ms\n",
      "771:\tlearn: 0.0326086\ttotal: 1.62s\tremaining: 478ms\n",
      "772:\tlearn: 0.0325558\ttotal: 1.62s\tremaining: 475ms\n",
      "773:\tlearn: 0.0324945\ttotal: 1.62s\tremaining: 473ms\n",
      "774:\tlearn: 0.0324150\ttotal: 1.62s\tremaining: 471ms\n",
      "775:\tlearn: 0.0323654\ttotal: 1.62s\tremaining: 469ms\n",
      "776:\tlearn: 0.0322966\ttotal: 1.63s\tremaining: 467ms\n",
      "777:\tlearn: 0.0322252\ttotal: 1.63s\tremaining: 465ms\n",
      "778:\tlearn: 0.0321899\ttotal: 1.63s\tremaining: 463ms\n",
      "779:\tlearn: 0.0321516\ttotal: 1.63s\tremaining: 461ms\n",
      "780:\tlearn: 0.0321028\ttotal: 1.63s\tremaining: 458ms\n",
      "781:\tlearn: 0.0320316\ttotal: 1.64s\tremaining: 456ms\n",
      "782:\tlearn: 0.0319995\ttotal: 1.64s\tremaining: 454ms\n",
      "783:\tlearn: 0.0319143\ttotal: 1.64s\tremaining: 452ms\n",
      "784:\tlearn: 0.0318539\ttotal: 1.64s\tremaining: 450ms\n",
      "785:\tlearn: 0.0317825\ttotal: 1.64s\tremaining: 448ms\n",
      "786:\tlearn: 0.0317156\ttotal: 1.65s\tremaining: 446ms\n",
      "787:\tlearn: 0.0316653\ttotal: 1.65s\tremaining: 443ms\n",
      "788:\tlearn: 0.0316150\ttotal: 1.65s\tremaining: 441ms\n",
      "789:\tlearn: 0.0315821\ttotal: 1.65s\tremaining: 439ms\n",
      "790:\tlearn: 0.0315365\ttotal: 1.65s\tremaining: 437ms\n",
      "791:\tlearn: 0.0314820\ttotal: 1.66s\tremaining: 435ms\n",
      "792:\tlearn: 0.0314060\ttotal: 1.66s\tremaining: 433ms\n",
      "793:\tlearn: 0.0313492\ttotal: 1.66s\tremaining: 431ms\n",
      "794:\tlearn: 0.0312855\ttotal: 1.66s\tremaining: 429ms\n",
      "795:\tlearn: 0.0312372\ttotal: 1.66s\tremaining: 427ms\n",
      "796:\tlearn: 0.0311891\ttotal: 1.67s\tremaining: 424ms\n",
      "797:\tlearn: 0.0311508\ttotal: 1.67s\tremaining: 422ms\n",
      "798:\tlearn: 0.0310977\ttotal: 1.67s\tremaining: 420ms\n",
      "799:\tlearn: 0.0310351\ttotal: 1.67s\tremaining: 418ms\n",
      "800:\tlearn: 0.0309946\ttotal: 1.67s\tremaining: 416ms\n",
      "801:\tlearn: 0.0309470\ttotal: 1.68s\tremaining: 414ms\n",
      "802:\tlearn: 0.0309062\ttotal: 1.68s\tremaining: 412ms\n",
      "803:\tlearn: 0.0308407\ttotal: 1.68s\tremaining: 409ms\n",
      "804:\tlearn: 0.0307855\ttotal: 1.68s\tremaining: 407ms\n",
      "805:\tlearn: 0.0307290\ttotal: 1.68s\tremaining: 405ms\n",
      "806:\tlearn: 0.0306741\ttotal: 1.69s\tremaining: 403ms\n",
      "807:\tlearn: 0.0305981\ttotal: 1.69s\tremaining: 401ms\n",
      "808:\tlearn: 0.0305640\ttotal: 1.69s\tremaining: 399ms\n",
      "809:\tlearn: 0.0304917\ttotal: 1.69s\tremaining: 397ms\n",
      "810:\tlearn: 0.0304212\ttotal: 1.69s\tremaining: 395ms\n",
      "811:\tlearn: 0.0303563\ttotal: 1.7s\tremaining: 392ms\n",
      "812:\tlearn: 0.0302938\ttotal: 1.7s\tremaining: 390ms\n",
      "813:\tlearn: 0.0302308\ttotal: 1.7s\tremaining: 388ms\n",
      "814:\tlearn: 0.0301508\ttotal: 1.7s\tremaining: 386ms\n",
      "815:\tlearn: 0.0300923\ttotal: 1.7s\tremaining: 384ms\n",
      "816:\tlearn: 0.0300230\ttotal: 1.7s\tremaining: 382ms\n",
      "817:\tlearn: 0.0299537\ttotal: 1.71s\tremaining: 380ms\n",
      "818:\tlearn: 0.0299011\ttotal: 1.71s\tremaining: 378ms\n",
      "819:\tlearn: 0.0298258\ttotal: 1.71s\tremaining: 376ms\n",
      "820:\tlearn: 0.0297725\ttotal: 1.71s\tremaining: 373ms\n",
      "821:\tlearn: 0.0297094\ttotal: 1.71s\tremaining: 371ms\n",
      "822:\tlearn: 0.0296785\ttotal: 1.72s\tremaining: 369ms\n",
      "823:\tlearn: 0.0296021\ttotal: 1.72s\tremaining: 367ms\n",
      "824:\tlearn: 0.0295498\ttotal: 1.72s\tremaining: 365ms\n",
      "825:\tlearn: 0.0295070\ttotal: 1.72s\tremaining: 363ms\n",
      "826:\tlearn: 0.0294443\ttotal: 1.72s\tremaining: 361ms\n",
      "827:\tlearn: 0.0294059\ttotal: 1.73s\tremaining: 359ms\n",
      "828:\tlearn: 0.0293476\ttotal: 1.73s\tremaining: 357ms\n",
      "829:\tlearn: 0.0292849\ttotal: 1.73s\tremaining: 355ms\n",
      "830:\tlearn: 0.0292265\ttotal: 1.73s\tremaining: 353ms\n",
      "831:\tlearn: 0.0291763\ttotal: 1.74s\tremaining: 351ms\n",
      "832:\tlearn: 0.0291026\ttotal: 1.74s\tremaining: 348ms\n",
      "833:\tlearn: 0.0290580\ttotal: 1.74s\tremaining: 346ms\n",
      "834:\tlearn: 0.0290078\ttotal: 1.74s\tremaining: 344ms\n",
      "835:\tlearn: 0.0289334\ttotal: 1.74s\tremaining: 342ms\n",
      "836:\tlearn: 0.0288688\ttotal: 1.75s\tremaining: 340ms\n",
      "837:\tlearn: 0.0288207\ttotal: 1.75s\tremaining: 338ms\n",
      "838:\tlearn: 0.0287703\ttotal: 1.75s\tremaining: 336ms\n",
      "839:\tlearn: 0.0286994\ttotal: 1.75s\tremaining: 334ms\n",
      "840:\tlearn: 0.0286248\ttotal: 1.75s\tremaining: 332ms\n",
      "841:\tlearn: 0.0285780\ttotal: 1.76s\tremaining: 330ms\n",
      "842:\tlearn: 0.0285077\ttotal: 1.76s\tremaining: 328ms\n",
      "843:\tlearn: 0.0284789\ttotal: 1.76s\tremaining: 325ms\n",
      "844:\tlearn: 0.0284252\ttotal: 1.76s\tremaining: 323ms\n",
      "845:\tlearn: 0.0283877\ttotal: 1.76s\tremaining: 321ms\n",
      "846:\tlearn: 0.0283440\ttotal: 1.77s\tremaining: 319ms\n",
      "847:\tlearn: 0.0283119\ttotal: 1.77s\tremaining: 317ms\n",
      "848:\tlearn: 0.0282750\ttotal: 1.77s\tremaining: 315ms\n",
      "849:\tlearn: 0.0282190\ttotal: 1.77s\tremaining: 313ms\n",
      "850:\tlearn: 0.0281590\ttotal: 1.77s\tremaining: 311ms\n",
      "851:\tlearn: 0.0281234\ttotal: 1.78s\tremaining: 309ms\n",
      "852:\tlearn: 0.0280521\ttotal: 1.78s\tremaining: 307ms\n",
      "853:\tlearn: 0.0279845\ttotal: 1.78s\tremaining: 304ms\n",
      "854:\tlearn: 0.0279163\ttotal: 1.78s\tremaining: 302ms\n",
      "855:\tlearn: 0.0278501\ttotal: 1.78s\tremaining: 300ms\n",
      "856:\tlearn: 0.0278024\ttotal: 1.79s\tremaining: 298ms\n",
      "857:\tlearn: 0.0277540\ttotal: 1.79s\tremaining: 296ms\n",
      "858:\tlearn: 0.0277099\ttotal: 1.79s\tremaining: 294ms\n",
      "859:\tlearn: 0.0276671\ttotal: 1.79s\tremaining: 292ms\n",
      "860:\tlearn: 0.0276134\ttotal: 1.79s\tremaining: 290ms\n",
      "861:\tlearn: 0.0275658\ttotal: 1.8s\tremaining: 288ms\n",
      "862:\tlearn: 0.0275217\ttotal: 1.8s\tremaining: 286ms\n",
      "863:\tlearn: 0.0274629\ttotal: 1.8s\tremaining: 283ms\n",
      "864:\tlearn: 0.0274006\ttotal: 1.8s\tremaining: 281ms\n",
      "865:\tlearn: 0.0273485\ttotal: 1.8s\tremaining: 279ms\n",
      "866:\tlearn: 0.0273047\ttotal: 1.81s\tremaining: 277ms\n",
      "867:\tlearn: 0.0272409\ttotal: 1.81s\tremaining: 275ms\n",
      "868:\tlearn: 0.0271857\ttotal: 1.81s\tremaining: 273ms\n",
      "869:\tlearn: 0.0271398\ttotal: 1.81s\tremaining: 271ms\n",
      "870:\tlearn: 0.0270784\ttotal: 1.81s\tremaining: 269ms\n",
      "871:\tlearn: 0.0270224\ttotal: 1.82s\tremaining: 267ms\n",
      "872:\tlearn: 0.0269710\ttotal: 1.82s\tremaining: 265ms\n",
      "873:\tlearn: 0.0269264\ttotal: 1.82s\tremaining: 262ms\n",
      "874:\tlearn: 0.0268913\ttotal: 1.82s\tremaining: 260ms\n",
      "875:\tlearn: 0.0268114\ttotal: 1.82s\tremaining: 258ms\n",
      "876:\tlearn: 0.0267454\ttotal: 1.83s\tremaining: 256ms\n",
      "877:\tlearn: 0.0266802\ttotal: 1.83s\tremaining: 254ms\n",
      "878:\tlearn: 0.0266401\ttotal: 1.83s\tremaining: 252ms\n",
      "879:\tlearn: 0.0265992\ttotal: 1.83s\tremaining: 250ms\n",
      "880:\tlearn: 0.0265492\ttotal: 1.83s\tremaining: 248ms\n",
      "881:\tlearn: 0.0265101\ttotal: 1.84s\tremaining: 246ms\n",
      "882:\tlearn: 0.0264681\ttotal: 1.84s\tremaining: 244ms\n",
      "883:\tlearn: 0.0264269\ttotal: 1.84s\tremaining: 242ms\n",
      "884:\tlearn: 0.0263994\ttotal: 1.84s\tremaining: 239ms\n",
      "885:\tlearn: 0.0263591\ttotal: 1.84s\tremaining: 237ms\n",
      "886:\tlearn: 0.0263243\ttotal: 1.85s\tremaining: 235ms\n",
      "887:\tlearn: 0.0262834\ttotal: 1.85s\tremaining: 233ms\n",
      "888:\tlearn: 0.0262261\ttotal: 1.85s\tremaining: 231ms\n",
      "889:\tlearn: 0.0261744\ttotal: 1.85s\tremaining: 229ms\n",
      "890:\tlearn: 0.0261185\ttotal: 1.85s\tremaining: 227ms\n",
      "891:\tlearn: 0.0260706\ttotal: 1.86s\tremaining: 225ms\n",
      "892:\tlearn: 0.0260220\ttotal: 1.86s\tremaining: 223ms\n",
      "893:\tlearn: 0.0259773\ttotal: 1.86s\tremaining: 221ms\n",
      "894:\tlearn: 0.0259220\ttotal: 1.86s\tremaining: 219ms\n",
      "895:\tlearn: 0.0258869\ttotal: 1.86s\tremaining: 216ms\n",
      "896:\tlearn: 0.0258503\ttotal: 1.87s\tremaining: 214ms\n",
      "897:\tlearn: 0.0257974\ttotal: 1.87s\tremaining: 212ms\n",
      "898:\tlearn: 0.0257439\ttotal: 1.87s\tremaining: 210ms\n",
      "899:\tlearn: 0.0256898\ttotal: 1.87s\tremaining: 208ms\n",
      "900:\tlearn: 0.0256434\ttotal: 1.88s\tremaining: 206ms\n",
      "901:\tlearn: 0.0255930\ttotal: 1.88s\tremaining: 204ms\n",
      "902:\tlearn: 0.0255514\ttotal: 1.88s\tremaining: 202ms\n",
      "903:\tlearn: 0.0255062\ttotal: 1.88s\tremaining: 200ms\n",
      "904:\tlearn: 0.0254512\ttotal: 1.88s\tremaining: 198ms\n",
      "905:\tlearn: 0.0254005\ttotal: 1.88s\tremaining: 196ms\n",
      "906:\tlearn: 0.0253500\ttotal: 1.89s\tremaining: 193ms\n",
      "907:\tlearn: 0.0253092\ttotal: 1.89s\tremaining: 191ms\n",
      "908:\tlearn: 0.0252553\ttotal: 1.89s\tremaining: 189ms\n",
      "909:\tlearn: 0.0252044\ttotal: 1.89s\tremaining: 187ms\n",
      "910:\tlearn: 0.0251433\ttotal: 1.9s\tremaining: 185ms\n",
      "911:\tlearn: 0.0251017\ttotal: 1.9s\tremaining: 183ms\n",
      "912:\tlearn: 0.0250551\ttotal: 1.9s\tremaining: 181ms\n",
      "913:\tlearn: 0.0249883\ttotal: 1.9s\tremaining: 179ms\n",
      "914:\tlearn: 0.0249571\ttotal: 1.9s\tremaining: 177ms\n",
      "915:\tlearn: 0.0249128\ttotal: 1.9s\tremaining: 175ms\n",
      "916:\tlearn: 0.0248553\ttotal: 1.91s\tremaining: 173ms\n",
      "917:\tlearn: 0.0248119\ttotal: 1.91s\tremaining: 170ms\n",
      "918:\tlearn: 0.0247715\ttotal: 1.91s\tremaining: 168ms\n",
      "919:\tlearn: 0.0247225\ttotal: 1.91s\tremaining: 166ms\n",
      "920:\tlearn: 0.0246788\ttotal: 1.91s\tremaining: 164ms\n",
      "921:\tlearn: 0.0246416\ttotal: 1.92s\tremaining: 162ms\n",
      "922:\tlearn: 0.0245757\ttotal: 1.92s\tremaining: 160ms\n",
      "923:\tlearn: 0.0245142\ttotal: 1.92s\tremaining: 158ms\n",
      "924:\tlearn: 0.0244847\ttotal: 1.92s\tremaining: 156ms\n",
      "925:\tlearn: 0.0244312\ttotal: 1.93s\tremaining: 154ms\n",
      "926:\tlearn: 0.0243864\ttotal: 1.93s\tremaining: 152ms\n",
      "927:\tlearn: 0.0243181\ttotal: 1.93s\tremaining: 150ms\n",
      "928:\tlearn: 0.0242747\ttotal: 1.93s\tremaining: 148ms\n",
      "929:\tlearn: 0.0242084\ttotal: 1.93s\tremaining: 146ms\n",
      "930:\tlearn: 0.0241597\ttotal: 1.94s\tremaining: 143ms\n",
      "931:\tlearn: 0.0241126\ttotal: 1.94s\tremaining: 141ms\n",
      "932:\tlearn: 0.0240764\ttotal: 1.94s\tremaining: 139ms\n",
      "933:\tlearn: 0.0240514\ttotal: 1.94s\tremaining: 137ms\n",
      "934:\tlearn: 0.0240130\ttotal: 1.94s\tremaining: 135ms\n",
      "935:\tlearn: 0.0239526\ttotal: 1.95s\tremaining: 133ms\n",
      "936:\tlearn: 0.0239178\ttotal: 1.95s\tremaining: 131ms\n",
      "937:\tlearn: 0.0238609\ttotal: 1.95s\tremaining: 129ms\n",
      "938:\tlearn: 0.0238291\ttotal: 1.95s\tremaining: 127ms\n",
      "939:\tlearn: 0.0237883\ttotal: 1.95s\tremaining: 125ms\n",
      "940:\tlearn: 0.0237422\ttotal: 1.96s\tremaining: 123ms\n",
      "941:\tlearn: 0.0236909\ttotal: 1.96s\tremaining: 121ms\n",
      "942:\tlearn: 0.0236554\ttotal: 1.96s\tremaining: 118ms\n",
      "943:\tlearn: 0.0236254\ttotal: 1.96s\tremaining: 116ms\n",
      "944:\tlearn: 0.0235745\ttotal: 1.96s\tremaining: 114ms\n",
      "945:\tlearn: 0.0235313\ttotal: 1.97s\tremaining: 112ms\n",
      "946:\tlearn: 0.0234972\ttotal: 1.97s\tremaining: 110ms\n",
      "947:\tlearn: 0.0234313\ttotal: 1.97s\tremaining: 108ms\n",
      "948:\tlearn: 0.0233923\ttotal: 1.97s\tremaining: 106ms\n",
      "949:\tlearn: 0.0233440\ttotal: 1.97s\tremaining: 104ms\n",
      "950:\tlearn: 0.0233013\ttotal: 1.97s\tremaining: 102ms\n",
      "951:\tlearn: 0.0232616\ttotal: 1.98s\tremaining: 99.7ms\n",
      "952:\tlearn: 0.0232389\ttotal: 1.98s\tremaining: 97.6ms\n",
      "953:\tlearn: 0.0231935\ttotal: 1.98s\tremaining: 95.5ms\n",
      "954:\tlearn: 0.0231457\ttotal: 1.98s\tremaining: 93.4ms\n",
      "955:\tlearn: 0.0231082\ttotal: 1.98s\tremaining: 91.4ms\n",
      "956:\tlearn: 0.0230650\ttotal: 1.99s\tremaining: 89.3ms\n",
      "957:\tlearn: 0.0230140\ttotal: 1.99s\tremaining: 87.2ms\n",
      "958:\tlearn: 0.0229769\ttotal: 1.99s\tremaining: 85.1ms\n",
      "959:\tlearn: 0.0229336\ttotal: 1.99s\tremaining: 83ms\n",
      "960:\tlearn: 0.0228794\ttotal: 1.99s\tremaining: 80.9ms\n",
      "961:\tlearn: 0.0228331\ttotal: 2s\tremaining: 78.8ms\n",
      "962:\tlearn: 0.0227932\ttotal: 2s\tremaining: 76.8ms\n",
      "963:\tlearn: 0.0227462\ttotal: 2s\tremaining: 74.7ms\n",
      "964:\tlearn: 0.0227124\ttotal: 2s\tremaining: 72.6ms\n",
      "965:\tlearn: 0.0226660\ttotal: 2s\tremaining: 70.5ms\n",
      "966:\tlearn: 0.0226197\ttotal: 2s\tremaining: 68.5ms\n",
      "967:\tlearn: 0.0225889\ttotal: 2.01s\tremaining: 66.4ms\n",
      "968:\tlearn: 0.0225491\ttotal: 2.01s\tremaining: 64.3ms\n",
      "969:\tlearn: 0.0225027\ttotal: 2.01s\tremaining: 62.2ms\n",
      "970:\tlearn: 0.0224604\ttotal: 2.01s\tremaining: 60.1ms\n",
      "971:\tlearn: 0.0224191\ttotal: 2.02s\tremaining: 58.1ms\n",
      "972:\tlearn: 0.0223763\ttotal: 2.02s\tremaining: 56ms\n",
      "973:\tlearn: 0.0223412\ttotal: 2.02s\tremaining: 53.9ms\n",
      "974:\tlearn: 0.0223038\ttotal: 2.02s\tremaining: 51.8ms\n",
      "975:\tlearn: 0.0222585\ttotal: 2.02s\tremaining: 49.7ms\n",
      "976:\tlearn: 0.0222216\ttotal: 2.02s\tremaining: 47.7ms\n",
      "977:\tlearn: 0.0221891\ttotal: 2.03s\tremaining: 45.6ms\n",
      "978:\tlearn: 0.0221547\ttotal: 2.03s\tremaining: 43.5ms\n",
      "979:\tlearn: 0.0221200\ttotal: 2.03s\tremaining: 41.4ms\n",
      "980:\tlearn: 0.0220860\ttotal: 2.03s\tremaining: 39.4ms\n",
      "981:\tlearn: 0.0220450\ttotal: 2.03s\tremaining: 37.3ms\n",
      "982:\tlearn: 0.0220019\ttotal: 2.04s\tremaining: 35.2ms\n",
      "983:\tlearn: 0.0219630\ttotal: 2.04s\tremaining: 33.1ms\n",
      "984:\tlearn: 0.0219274\ttotal: 2.04s\tremaining: 31.1ms\n",
      "985:\tlearn: 0.0218934\ttotal: 2.04s\tremaining: 29ms\n",
      "986:\tlearn: 0.0218630\ttotal: 2.04s\tremaining: 26.9ms\n",
      "987:\tlearn: 0.0218200\ttotal: 2.05s\tremaining: 24.9ms\n",
      "988:\tlearn: 0.0217662\ttotal: 2.05s\tremaining: 22.8ms\n",
      "989:\tlearn: 0.0217216\ttotal: 2.05s\tremaining: 20.7ms\n",
      "990:\tlearn: 0.0216817\ttotal: 2.05s\tremaining: 18.6ms\n",
      "991:\tlearn: 0.0216464\ttotal: 2.05s\tremaining: 16.6ms\n",
      "992:\tlearn: 0.0216072\ttotal: 2.06s\tremaining: 14.5ms\n",
      "993:\tlearn: 0.0215713\ttotal: 2.06s\tremaining: 12.4ms\n",
      "994:\tlearn: 0.0215151\ttotal: 2.06s\tremaining: 10.3ms\n",
      "995:\tlearn: 0.0214736\ttotal: 2.06s\tremaining: 8.28ms\n",
      "996:\tlearn: 0.0214221\ttotal: 2.06s\tremaining: 6.21ms\n",
      "997:\tlearn: 0.0213862\ttotal: 2.06s\tremaining: 4.14ms\n",
      "998:\tlearn: 0.0213408\ttotal: 2.07s\tremaining: 2.07ms\n",
      "999:\tlearn: 0.0213008\ttotal: 2.07s\tremaining: 0us\n"
     ]
    },
    {
     "data": {
      "text/plain": [
       "<catboost.core.CatBoostClassifier at 0x7f9fb8cf9710>"
      ]
     },
     "execution_count": 51,
     "metadata": {},
     "output_type": "execute_result"
    }
   ],
   "source": [
    "from catboost import CatBoostClassifier\n",
    "classifier = CatBoostClassifier()\n",
    "classifier.fit(X_train, y_train)"
   ]
  },
  {
   "cell_type": "code",
   "execution_count": 52,
   "id": "0c15c241",
   "metadata": {
    "execution": {
     "iopub.execute_input": "2022-02-05T12:50:40.734378Z",
     "iopub.status.busy": "2022-02-05T12:50:40.733835Z",
     "iopub.status.idle": "2022-02-05T12:50:40.741103Z",
     "shell.execute_reply": "2022-02-05T12:50:40.740704Z",
     "shell.execute_reply.started": "2022-02-05T12:49:51.491804Z"
    },
    "papermill": {
     "duration": 0.089077,
     "end_time": "2022-02-05T12:50:40.741215",
     "exception": false,
     "start_time": "2022-02-05T12:50:40.652138",
     "status": "completed"
    },
    "tags": []
   },
   "outputs": [
    {
     "name": "stdout",
     "output_type": "stream",
     "text": [
      "[[103   5]\n",
      " [  4  59]]\n"
     ]
    }
   ],
   "source": [
    "from sklearn.metrics import confusion_matrix, accuracy_score\n",
    "y_pred = classifier.predict(X_test)\n",
    "cm = confusion_matrix(y_test, y_pred)\n",
    "print(cm)\n",
    "acc8 = accuracy_score(y_test, y_pred)"
   ]
  },
  {
   "cell_type": "code",
   "execution_count": 53,
   "id": "26bb39e0",
   "metadata": {
    "execution": {
     "iopub.execute_input": "2022-02-05T12:50:40.912668Z",
     "iopub.status.busy": "2022-02-05T12:50:40.899687Z",
     "iopub.status.idle": "2022-02-05T12:50:41.074799Z",
     "shell.execute_reply": "2022-02-05T12:50:41.074301Z",
     "shell.execute_reply.started": "2022-02-05T12:49:51.502964Z"
    },
    "papermill": {
     "duration": 0.255873,
     "end_time": "2022-02-05T12:50:41.074923",
     "exception": false,
     "start_time": "2022-02-05T12:50:40.819050",
     "status": "completed"
    },
    "tags": []
   },
   "outputs": [
    {
     "data": {
      "image/png": "[encoded data removed]",
      "text/plain": [
       "<Figure size 432x288 with 2 Axes>"
      ]
     },
     "metadata": {
      "needs_background": "light"
     },
     "output_type": "display_data"
    }
   ],
   "source": [
    "sns.heatmap(cm,annot=True)\n",
    "plt.show()"
   ]
  },
  {
   "cell_type": "code",
   "execution_count": 54,
   "id": "0386e139",
   "metadata": {
    "execution": {
     "iopub.execute_input": "2022-02-05T12:50:41.236344Z",
     "iopub.status.busy": "2022-02-05T12:50:41.235804Z",
     "iopub.status.idle": "2022-02-05T12:50:41.238291Z",
     "shell.execute_reply": "2022-02-05T12:50:41.239047Z",
     "shell.execute_reply.started": "2022-02-05T12:49:51.858856Z"
    },
    "papermill": {
     "duration": 0.085329,
     "end_time": "2022-02-05T12:50:41.239221",
     "exception": false,
     "start_time": "2022-02-05T12:50:41.153892",
     "status": "completed"
    },
    "tags": []
   },
   "outputs": [
    {
     "name": "stdout",
     "output_type": "stream",
     "text": [
      "0.9473684210526315\n"
     ]
    }
   ],
   "source": [
    "print(acc8)"
   ]
  },
  {
   "cell_type": "markdown",
   "id": "32119b0a",
   "metadata": {
    "papermill": {
     "duration": 0.077256,
     "end_time": "2022-02-05T12:50:41.396344",
     "exception": false,
     "start_time": "2022-02-05T12:50:41.319088",
     "status": "completed"
    },
    "tags": []
   },
   "source": [
    "# Training the Random Forest Classification model on the Training set"
   ]
  },
  {
   "cell_type": "code",
   "execution_count": 55,
   "id": "b7b38e6f",
   "metadata": {
    "execution": {
     "iopub.execute_input": "2022-02-05T12:50:41.555072Z",
     "iopub.status.busy": "2022-02-05T12:50:41.554477Z",
     "iopub.status.idle": "2022-02-05T12:50:41.600991Z",
     "shell.execute_reply": "2022-02-05T12:50:41.600565Z",
     "shell.execute_reply.started": "2022-02-05T12:49:51.866158Z"
    },
    "papermill": {
     "duration": 0.126983,
     "end_time": "2022-02-05T12:50:41.601099",
     "exception": false,
     "start_time": "2022-02-05T12:50:41.474116",
     "status": "completed"
    },
    "tags": []
   },
   "outputs": [
    {
     "data": {
      "text/plain": [
       "RandomForestClassifier(criterion='entropy', n_estimators=10, random_state=0)"
      ]
     },
     "execution_count": 55,
     "metadata": {},
     "output_type": "execute_result"
    }
   ],
   "source": [
    "from sklearn.ensemble import RandomForestClassifier\n",
    "classifier = RandomForestClassifier(n_estimators = 10, criterion = 'entropy', random_state = 0)\n",
    "classifier.fit(X_train, y_train)"
   ]
  },
  {
   "cell_type": "code",
   "execution_count": 56,
   "id": "8a35afa2",
   "metadata": {
    "execution": {
     "iopub.execute_input": "2022-02-05T12:50:41.762995Z",
     "iopub.status.busy": "2022-02-05T12:50:41.762171Z",
     "iopub.status.idle": "2022-02-05T12:50:41.766059Z",
     "shell.execute_reply": "2022-02-05T12:50:41.765660Z",
     "shell.execute_reply.started": "2022-02-05T12:49:51.909132Z"
    },
    "papermill": {
     "duration": 0.086142,
     "end_time": "2022-02-05T12:50:41.766168",
     "exception": false,
     "start_time": "2022-02-05T12:50:41.680026",
     "status": "completed"
    },
    "tags": []
   },
   "outputs": [],
   "source": [
    "y_pred = classifier.predict(X_test)"
   ]
  },
  {
   "cell_type": "code",
   "execution_count": 57,
   "id": "78c0ada8",
   "metadata": {
    "execution": {
     "iopub.execute_input": "2022-02-05T12:50:41.932529Z",
     "iopub.status.busy": "2022-02-05T12:50:41.930405Z",
     "iopub.status.idle": "2022-02-05T12:50:41.935646Z",
     "shell.execute_reply": "2022-02-05T12:50:41.936066Z",
     "shell.execute_reply.started": "2022-02-05T12:49:51.920913Z"
    },
    "papermill": {
     "duration": 0.09059,
     "end_time": "2022-02-05T12:50:41.936194",
     "exception": false,
     "start_time": "2022-02-05T12:50:41.845604",
     "status": "completed"
    },
    "tags": []
   },
   "outputs": [
    {
     "name": "stdout",
     "output_type": "stream",
     "text": [
      "[[102   6]\n",
      " [  7  56]]\n"
     ]
    }
   ],
   "source": [
    "from sklearn.metrics import confusion_matrix, accuracy_score\n",
    "cm = confusion_matrix(y_test, y_pred)\n",
    "print(cm)\n",
    "acc6 = accuracy_score(y_test, y_pred)"
   ]
  },
  {
   "cell_type": "code",
   "execution_count": 58,
   "id": "6dc1a755",
   "metadata": {
    "execution": {
     "iopub.execute_input": "2022-02-05T12:50:42.099897Z",
     "iopub.status.busy": "2022-02-05T12:50:42.099297Z",
     "iopub.status.idle": "2022-02-05T12:50:42.103095Z",
     "shell.execute_reply": "2022-02-05T12:50:42.102640Z",
     "shell.execute_reply.started": "2022-02-05T12:49:51.933010Z"
    },
    "papermill": {
     "duration": 0.086492,
     "end_time": "2022-02-05T12:50:42.103223",
     "exception": false,
     "start_time": "2022-02-05T12:50:42.016731",
     "status": "completed"
    },
    "tags": []
   },
   "outputs": [
    {
     "name": "stdout",
     "output_type": "stream",
     "text": [
      "0.9239766081871345\n"
     ]
    }
   ],
   "source": [
    "print(acc6)"
   ]
  },
  {
   "cell_type": "markdown",
   "id": "d583aeaf",
   "metadata": {
    "papermill": {
     "duration": 0.079327,
     "end_time": "2022-02-05T12:50:42.263089",
     "exception": false,
     "start_time": "2022-02-05T12:50:42.183762",
     "status": "completed"
    },
    "tags": []
   },
   "source": [
    "# Create visualization of all models."
   ]
  },
  {
   "cell_type": "code",
   "execution_count": 59,
   "id": "b9f01790",
   "metadata": {
    "execution": {
     "iopub.execute_input": "2022-02-05T12:50:42.453155Z",
     "iopub.status.busy": "2022-02-05T12:50:42.432510Z",
     "iopub.status.idle": "2022-02-05T12:50:42.722474Z",
     "shell.execute_reply": "2022-02-05T12:50:42.721975Z",
     "shell.execute_reply.started": "2022-02-05T12:49:51.948510Z"
    },
    "papermill": {
     "duration": 0.380471,
     "end_time": "2022-02-05T12:50:42.722627",
     "exception": false,
     "start_time": "2022-02-05T12:50:42.342156",
     "status": "completed"
    },
    "tags": []
   },
   "outputs": [
    {
     "data": {
      "image/png": "[encoded data removed]",
      "text/plain": [
       "<Figure size 1584x720 with 1 Axes>"
      ]
     },
     "metadata": {},
     "output_type": "display_data"
    }
   ],
   "source": [
    "mylist=[]\n",
    "mylist2=[]\n",
    "mylist.append(acc1)\n",
    "mylist2.append(\"Logistic Regression\")\n",
    "mylist.append(acc2)\n",
    "mylist2.append(\"SVM\")\n",
    "mylist.append(acc3)\n",
    "mylist2.append(\"KNN\")\n",
    "mylist.append(acc4)\n",
    "mylist2.append(\"Naive Bayes\")\n",
    "mylist.append(acc5)\n",
    "mylist2.append(\"DTR\")\n",
    "mylist.append(acc6)\n",
    "mylist2.append(\"RFC\")\n",
    "mylist.append(acc7)\n",
    "mylist2.append(\"XG Boost\")\n",
    "mylist.append(acc8)\n",
    "mylist2.append(\"Cat Boost\")\n",
    "plt.rcParams['figure.figsize']=22,10\n",
    "sns.set_style(\"darkgrid\")\n",
    "ax = sns.barplot(x=mylist2, y=mylist, palette = \"coolwarm\", saturation =1.5)\n",
    "plt.xlabel(\"Classification Models\", fontsize = 20 )\n",
    "plt.ylabel(\"Accuracy\", fontsize = 20)\n",
    "plt.title(\"Accuracy of different Classification Models\", fontsize = 20)\n",
    "plt.xticks(fontsize = 11, horizontalalignment = 'center', rotation = 8)\n",
    "plt.yticks(fontsize = 13)\n",
    "for p in ax.patches:\n",
    "    width, height = p.get_width(), p.get_height()\n",
    "    x, y = p.get_xy() \n",
    "    ax.annotate(f'{height:.2%}', (x + width/2, y + height*1.02), ha='center', fontsize = 'x-large')\n",
    "plt.show()"
   ]
  },
  {
   "cell_type": "markdown",
   "id": "6ad688a8",
   "metadata": {
    "papermill": {
     "duration": 0.079399,
     "end_time": "2022-02-05T12:50:42.883334",
     "exception": false,
     "start_time": "2022-02-05T12:50:42.803935",
     "status": "completed"
    },
    "tags": []
   },
   "source": [
    "# Applying k-Fold Cross Validation"
   ]
  },
  {
   "cell_type": "code",
   "execution_count": 60,
   "id": "c0e780ea",
   "metadata": {
    "execution": {
     "iopub.execute_input": "2022-02-05T12:50:43.054182Z",
     "iopub.status.busy": "2022-02-05T12:50:43.053405Z",
     "iopub.status.idle": "2022-02-05T12:50:43.273518Z",
     "shell.execute_reply": "2022-02-05T12:50:43.272873Z",
     "shell.execute_reply.started": "2022-02-05T12:49:52.356535Z"
    },
    "papermill": {
     "duration": 0.307672,
     "end_time": "2022-02-05T12:50:43.273676",
     "exception": false,
     "start_time": "2022-02-05T12:50:42.966004",
     "status": "completed"
    },
    "tags": []
   },
   "outputs": [
    {
     "name": "stdout",
     "output_type": "stream",
     "text": [
      "Accuracy: 93.21 %\n",
      "Standard Deviation: 3.38 %\n"
     ]
    }
   ],
   "source": [
    "from sklearn.model_selection import cross_val_score\n",
    "accuracies = cross_val_score(estimator = classifier, X = X_train, y = y_train, cv = 10)\n",
    "print(\"Accuracy: {:.2f} %\".format(accuracies.mean()*100))\n",
    "print(\"Standard Deviation: {:.2f} %\".format(accuracies.std()*100))"
   ]
  },
  {
   "cell_type": "markdown",
   "id": "b48abaaf",
   "metadata": {
    "papermill": {
     "duration": 0.082667,
     "end_time": "2022-02-05T12:50:43.439064",
     "exception": false,
     "start_time": "2022-02-05T12:50:43.356397",
     "status": "completed"
    },
    "tags": []
   },
   "source": [
    "**If you have any queries, please let me know!**"
   ]
  },
  {
   "cell_type": "markdown",
   "id": "a63b72d1",
   "metadata": {
    "papermill": {
     "duration": 0.080513,
     "end_time": "2022-02-05T12:50:43.602242",
     "exception": false,
     "start_time": "2022-02-05T12:50:43.521729",
     "status": "completed"
    },
    "tags": []
   },
   "source": [
    "![](https://optinmonster.com/wp-content/uploads/2016/10/Anatomy-of-the-Perfect-Thank-You-Page.png)"
   ]
  }
 ],
 "metadata": {
  "kernelspec": {
   "display_name": "Python 3",
   "language": "python",
   "name": "python3"
  },
  "language_info": {
   "codemirror_mode": {
    "name": "ipython",
    "version": 3
   },
   "file_extension": ".py",
   "mimetype": "text/x-python",
   "name": "python",
   "nbconvert_exporter": "python",
   "pygments_lexer": "ipython3",
   "version": "3.7.12"
  },
  "papermill": {
   "default_parameters": {},
   "duration": 29.335179,
   "end_time": "2022-02-05T12:50:44.293070",
   "environment_variables": {},
   "exception": null,
   "input_path": "__notebook__.ipynb",
   "output_path": "__notebook__.ipynb",
   "parameters": {},
   "start_time": "2022-02-05T12:50:14.957891",
   "version": "2.3.3"
  }
 },
 "nbformat": 4,
 "nbformat_minor": 5
}
